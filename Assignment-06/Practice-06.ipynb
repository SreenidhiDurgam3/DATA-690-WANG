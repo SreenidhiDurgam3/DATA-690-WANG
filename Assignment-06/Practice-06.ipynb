{
  "cells": [
    {
      "cell_type": "code",
      "metadata": {
        "cell_id": "00000-3b0206cc-b554-4f8e-aa09-d62af843b7de",
        "deepnote_to_be_reexecuted": false,
        "source_hash": "c76c7c51",
        "execution_start": 1615778560063,
        "execution_millis": 1,
        "deepnote_cell_type": "code"
      },
      "source": "import pandas as pd\nimport numpy as np",
      "execution_count": 1,
      "outputs": []
    },
    {
      "cell_type": "code",
      "metadata": {
        "cell_id": "00001-9e01dca4-3b60-414d-b649-db0977619a54",
        "deepnote_to_be_reexecuted": false,
        "source_hash": "e98bd42e",
        "execution_start": 1615778560106,
        "execution_millis": 168,
        "deepnote_cell_type": "code"
      },
      "source": "#using pandas to retrieve the data from html tables as dataframes from the given webpage\ndataframe_list = pd.read_html(\"https://www.genealogybranches.com/censuscosts.html\")\nprint(len(dataframe_list))#to find out  the number of tables in the data frame",
      "execution_count": 2,
      "outputs": [
        {
          "name": "stdout",
          "text": "2\n",
          "output_type": "stream"
        }
      ]
    },
    {
      "cell_type": "code",
      "metadata": {
        "cell_id": "00002-2f520819-8a5d-4a30-9d70-02f0c54c06c4",
        "deepnote_to_be_reexecuted": false,
        "source_hash": "cf0ba98f",
        "execution_start": 1615778560309,
        "execution_millis": 7,
        "deepnote_cell_type": "code"
      },
      "source": "#to expolre the first table in the data table\ndataframe_table1=dataframe_list[0]\ndataframe_table1.head()",
      "execution_count": 3,
      "outputs": [
        {
          "output_type": "execute_result",
          "execution_count": 3,
          "data": {
            "application/vnd.deepnote.dataframe.v2+json": {
              "row_count": 5,
              "column_count": 4,
              "columns": [
                {
                  "name": 0,
                  "dtype": "object",
                  "stats": {
                    "unique_count": 5,
                    "nan_count": 0,
                    "categories": [
                      {
                        "name": "Census Year",
                        "count": 1
                      },
                      {
                        "name": "1790",
                        "count": 1
                      },
                      {
                        "name": "3 others",
                        "count": 3
                      }
                    ]
                  }
                },
                {
                  "name": 1,
                  "dtype": "object",
                  "stats": {
                    "unique_count": 5,
                    "nan_count": 0,
                    "categories": [
                      {
                        "name": "Total Population",
                        "count": 1
                      },
                      {
                        "name": "3929214",
                        "count": 1
                      },
                      {
                        "name": "3 others",
                        "count": 3
                      }
                    ]
                  }
                },
                {
                  "name": 2,
                  "dtype": "object",
                  "stats": {
                    "unique_count": 5,
                    "nan_count": 0,
                    "categories": [
                      {
                        "name": "Census Cost",
                        "count": 1
                      },
                      {
                        "name": "$44,377",
                        "count": 1
                      },
                      {
                        "name": "3 others",
                        "count": 3
                      }
                    ]
                  }
                },
                {
                  "name": 3,
                  "dtype": "object",
                  "stats": {
                    "unique_count": 5,
                    "nan_count": 0,
                    "categories": [
                      {
                        "name": "Average Cost Per Person",
                        "count": 1
                      },
                      {
                        "name": "1.13 cents",
                        "count": 1
                      },
                      {
                        "name": "3 others",
                        "count": 3
                      }
                    ]
                  }
                },
                {
                  "name": "_deepnote_index_column",
                  "dtype": "int64"
                }
              ],
              "rows_top": [
                {
                  "0": "Census Year",
                  "1": "Total Population",
                  "2": "Census Cost",
                  "3": "Average Cost Per Person",
                  "_deepnote_index_column": 0
                },
                {
                  "0": "1790",
                  "1": "3929214",
                  "2": "$44,377",
                  "3": "1.13 cents",
                  "_deepnote_index_column": 1
                },
                {
                  "0": "1800",
                  "1": "5308483",
                  "2": "$66,109",
                  "3": "1.24 cents",
                  "_deepnote_index_column": 2
                },
                {
                  "0": "1810",
                  "1": "7239881",
                  "2": "$178,445",
                  "3": "2.46 cents",
                  "_deepnote_index_column": 3
                },
                {
                  "0": "1820",
                  "1": "9633822",
                  "2": "$208,526",
                  "3": "2.16 cents",
                  "_deepnote_index_column": 4
                }
              ],
              "rows_bottom": null
            },
            "text/plain": "             0                 1            2                        3\n0  Census Year  Total Population  Census Cost  Average Cost Per Person\n1         1790           3929214      $44,377               1.13 cents\n2         1800           5308483      $66,109               1.24 cents\n3         1810           7239881     $178,445               2.46 cents\n4         1820           9633822     $208,526               2.16 cents",
            "text/html": "<div>\n<style scoped>\n    .dataframe tbody tr th:only-of-type {\n        vertical-align: middle;\n    }\n\n    .dataframe tbody tr th {\n        vertical-align: top;\n    }\n\n    .dataframe thead th {\n        text-align: right;\n    }\n</style>\n<table border=\"1\" class=\"dataframe\">\n  <thead>\n    <tr style=\"text-align: right;\">\n      <th></th>\n      <th>0</th>\n      <th>1</th>\n      <th>2</th>\n      <th>3</th>\n    </tr>\n  </thead>\n  <tbody>\n    <tr>\n      <th>0</th>\n      <td>Census Year</td>\n      <td>Total Population</td>\n      <td>Census Cost</td>\n      <td>Average Cost Per Person</td>\n    </tr>\n    <tr>\n      <th>1</th>\n      <td>1790</td>\n      <td>3929214</td>\n      <td>$44,377</td>\n      <td>1.13 cents</td>\n    </tr>\n    <tr>\n      <th>2</th>\n      <td>1800</td>\n      <td>5308483</td>\n      <td>$66,109</td>\n      <td>1.24 cents</td>\n    </tr>\n    <tr>\n      <th>3</th>\n      <td>1810</td>\n      <td>7239881</td>\n      <td>$178,445</td>\n      <td>2.46 cents</td>\n    </tr>\n    <tr>\n      <th>4</th>\n      <td>1820</td>\n      <td>9633822</td>\n      <td>$208,526</td>\n      <td>2.16 cents</td>\n    </tr>\n  </tbody>\n</table>\n</div>"
          },
          "metadata": {}
        }
      ]
    },
    {
      "cell_type": "code",
      "metadata": {
        "cell_id": "00003-7dd2f1a3-4b26-488c-b4c5-9ad5d3585e41",
        "deepnote_to_be_reexecuted": false,
        "source_hash": "177bcfcd",
        "execution_start": 1615778560310,
        "execution_millis": 7,
        "deepnote_cell_type": "code"
      },
      "source": "#to explore the second table in the data table\ndataframe_table2 = dataframe_list[1]\ndataframe_table2.head()",
      "execution_count": 4,
      "outputs": [
        {
          "output_type": "execute_result",
          "execution_count": 4,
          "data": {
            "application/vnd.deepnote.dataframe.v2+json": {
              "row_count": 1,
              "column_count": 1,
              "columns": [
                {
                  "name": 0,
                  "dtype": "object",
                  "stats": {
                    "unique_count": 1,
                    "nan_count": 0,
                    "categories": [
                      {
                        "name": "The U.S. population reached 300,000,000 on 17 October 2006. At the end of 2015, it was at 319,958,045. At the end of 2017, it was at 326,971,209. Source (except 2010)... Gauthier, Jason G., Measuring America: The Decennial Censuses From 1790-2000, (US Bureau of the Census/Dept of Commerce), Washington: US Government Printing Office, 2002, Appendix A, Page A-1.The numbers in the fourth column are not included in the book and were added by me. * The 2010 census cost was taken from GAO (U.S. Government Accountability Office) report number GAO-11-496T, 2010 Census: Preliminary Lessons Learned Highlight the Need for Fundamental Reforms (April 6, 2011): \"At about $13 billion, 2010 was the costliest U.S. Census in history.\" The official census day for 2010 was April 1, 2010. The total population figure (308,745,538) was announced by the U.S. Census Bureau on Dec. 21, 2010. See: 2010 Census - Resident Population Data The 1940 Census 1940 census records were released on April 2, 2012. For details see:1940 Census Records and InformationFor information on census records for other years see: U.S. Census Records 1790-1940",
                        "count": 1
                      }
                    ]
                  }
                },
                {
                  "name": "_deepnote_index_column",
                  "dtype": "int64"
                }
              ],
              "rows_top": [
                {
                  "0": "The U.S. population reached 300,000,000 on 17 October 2006. At the end of 2015, it was at 319,958,045. At the end of 2017, it was at 326,971,209. Source (except 2010)... Gauthier, Jason G., Measuring America: The Decennial Censuses From 1790-2000, (US Bureau of the Census/Dept of Commerce), Washington: US Government Printing Office, 2002, Appendix A, Page A-1.The numbers in the fourth column are not included in the book and were added by me. * The 2010 census cost was taken from GAO (U.S. Government Accountability Office) report number GAO-11-496T, 2010 Census: Preliminary Lessons Learned Highlight the Need for Fundamental Reforms (April 6, 2011): \"At about $13 billion, 2010 was the costliest U.S. Census in history.\" The official census day for 2010 was April 1, 2010. The total population figure (308,745,538) was announced by the U.S. Census Bureau on Dec. 21, 2010. See: 2010 Census - Resident Population Data The 1940 Census 1940 census records were released on April 2, 2012. For details see:1940 Census Records and InformationFor information on census records for other years see: U.S. Census Records 1790-1940",
                  "_deepnote_index_column": 0
                }
              ],
              "rows_bottom": null
            },
            "text/plain": "                                                   0\n0  The U.S. population reached 300,000,000 on 17 ...",
            "text/html": "<div>\n<style scoped>\n    .dataframe tbody tr th:only-of-type {\n        vertical-align: middle;\n    }\n\n    .dataframe tbody tr th {\n        vertical-align: top;\n    }\n\n    .dataframe thead th {\n        text-align: right;\n    }\n</style>\n<table border=\"1\" class=\"dataframe\">\n  <thead>\n    <tr style=\"text-align: right;\">\n      <th></th>\n      <th>0</th>\n    </tr>\n  </thead>\n  <tbody>\n    <tr>\n      <th>0</th>\n      <td>The U.S. population reached 300,000,000 on 17 ...</td>\n    </tr>\n  </tbody>\n</table>\n</div>"
          },
          "metadata": {}
        }
      ]
    },
    {
      "cell_type": "code",
      "metadata": {
        "cell_id": "00004-92a0a664-b89c-46d7-947f-d885228d2f50",
        "deepnote_to_be_reexecuted": false,
        "source_hash": "bea04114",
        "execution_start": 1615778560313,
        "execution_millis": 5,
        "deepnote_cell_type": "code"
      },
      "source": "#exploring the useful dataframe and checking the rows and columns count\nprint(\"the shape of table 1 is\",dataframe_table1.shape)\nprint(\"the shape of table 2 is\",dataframe_table2.shape)",
      "execution_count": 5,
      "outputs": [
        {
          "name": "stdout",
          "text": "the shape of table 1 is (24, 4)\nthe shape of table 2 is (1, 1)\n",
          "output_type": "stream"
        }
      ]
    },
    {
      "cell_type": "code",
      "metadata": {
        "cell_id": "00005-a5a2f1e5-dcad-4af0-8610-7b530558ce28",
        "deepnote_to_be_reexecuted": false,
        "source_hash": "4902bad4",
        "execution_start": 1615778560342,
        "execution_millis": 5,
        "deepnote_cell_type": "code"
      },
      "source": "print(dataframe_table1)",
      "execution_count": 6,
      "outputs": [
        {
          "name": "stdout",
          "text": "              0                 1               2                        3\n0   Census Year  Total Population     Census Cost  Average Cost Per Person\n1          1790           3929214         $44,377               1.13 cents\n2          1800           5308483         $66,109               1.24 cents\n3          1810           7239881        $178,445               2.46 cents\n4          1820           9633822        $208,526               2.16 cents\n5          1830          12866020        $378,545               2.94 cents\n6          1840          17069458        $833,371               4.88 cents\n7          1850          23191876      $1,423,351               6.14 cents\n8          1860          31443321      $1,969,377               6.26 cents\n9          1870          38558371      $3,421,198               8.87 cents\n10         1880          50155783      $5,790,678              11.54 cents\n11         1890          62979766     $11,547,127              18.33 cents\n12         1900          76303387     $11,854,000              15.54 cents\n13         1910          91972266     $15,968,000              17.07 cents\n14         1920         105710620     $25,117,000              23.76 cents\n15         1930         122775046     $40,156,000              32.71 cents\n16         1940         131669275     $67,527,000              51.29 cents\n17         1950         151325798     $91,462,000              60.44 cents\n18         1960         179323175    $127,934,000              71.34 cents\n19         1970         203302031    $247,653,000                    $1.22\n20         1980         226542199  $1,078,488,000                    $4.76\n21         1990         248718301  $2,492,830,000                   $10.02\n22         2000         281421906    $4.5 Billion                   $15.99\n23        2010*         308745538     $13 Billion                   $42.11\n",
          "output_type": "stream"
        }
      ]
    },
    {
      "cell_type": "code",
      "metadata": {
        "cell_id": "00006-a9f4d496-f89a-4c56-875b-cebef90d0f71",
        "deepnote_to_be_reexecuted": false,
        "source_hash": "3e635961",
        "execution_start": 1615778560343,
        "execution_millis": 4,
        "deepnote_cell_type": "code"
      },
      "source": "#printing first row\nfirst_row = dataframe_table1.iloc[0]\nprint(first_row)",
      "execution_count": 7,
      "outputs": [
        {
          "name": "stdout",
          "text": "0                Census Year\n1           Total Population\n2                Census Cost\n3    Average Cost Per Person\nName: 0, dtype: object\n",
          "output_type": "stream"
        }
      ]
    },
    {
      "cell_type": "code",
      "metadata": {
        "cell_id": "00007-a0ba6c1f-818f-4a19-87d9-9c080c415029",
        "deepnote_to_be_reexecuted": false,
        "source_hash": "a11b731",
        "execution_start": 1615778560343,
        "execution_millis": 4,
        "deepnote_cell_type": "code"
      },
      "source": "dataframe_table1.columns = first_row\ndataframe_table1.head()",
      "execution_count": 8,
      "outputs": [
        {
          "output_type": "execute_result",
          "execution_count": 8,
          "data": {
            "application/vnd.deepnote.dataframe.v2+json": {
              "row_count": 5,
              "column_count": 4,
              "columns": [
                {
                  "name": "Census Year",
                  "dtype": "object",
                  "stats": {
                    "unique_count": 5,
                    "nan_count": 0,
                    "categories": [
                      {
                        "name": "Census Year",
                        "count": 1
                      },
                      {
                        "name": "1790",
                        "count": 1
                      },
                      {
                        "name": "3 others",
                        "count": 3
                      }
                    ]
                  }
                },
                {
                  "name": "Total Population",
                  "dtype": "object",
                  "stats": {
                    "unique_count": 5,
                    "nan_count": 0,
                    "categories": [
                      {
                        "name": "Total Population",
                        "count": 1
                      },
                      {
                        "name": "3929214",
                        "count": 1
                      },
                      {
                        "name": "3 others",
                        "count": 3
                      }
                    ]
                  }
                },
                {
                  "name": "Census Cost",
                  "dtype": "object",
                  "stats": {
                    "unique_count": 5,
                    "nan_count": 0,
                    "categories": [
                      {
                        "name": "Census Cost",
                        "count": 1
                      },
                      {
                        "name": "$44,377",
                        "count": 1
                      },
                      {
                        "name": "3 others",
                        "count": 3
                      }
                    ]
                  }
                },
                {
                  "name": "Average Cost Per Person",
                  "dtype": "object",
                  "stats": {
                    "unique_count": 5,
                    "nan_count": 0,
                    "categories": [
                      {
                        "name": "Average Cost Per Person",
                        "count": 1
                      },
                      {
                        "name": "1.13 cents",
                        "count": 1
                      },
                      {
                        "name": "3 others",
                        "count": 3
                      }
                    ]
                  }
                },
                {
                  "name": "_deepnote_index_column",
                  "dtype": "int64"
                }
              ],
              "rows_top": [
                {
                  "Census Year": "Census Year",
                  "Total Population": "Total Population",
                  "Census Cost": "Census Cost",
                  "Average Cost Per Person": "Average Cost Per Person",
                  "_deepnote_index_column": 0
                },
                {
                  "Census Year": "1790",
                  "Total Population": "3929214",
                  "Census Cost": "$44,377",
                  "Average Cost Per Person": "1.13 cents",
                  "_deepnote_index_column": 1
                },
                {
                  "Census Year": "1800",
                  "Total Population": "5308483",
                  "Census Cost": "$66,109",
                  "Average Cost Per Person": "1.24 cents",
                  "_deepnote_index_column": 2
                },
                {
                  "Census Year": "1810",
                  "Total Population": "7239881",
                  "Census Cost": "$178,445",
                  "Average Cost Per Person": "2.46 cents",
                  "_deepnote_index_column": 3
                },
                {
                  "Census Year": "1820",
                  "Total Population": "9633822",
                  "Census Cost": "$208,526",
                  "Average Cost Per Person": "2.16 cents",
                  "_deepnote_index_column": 4
                }
              ],
              "rows_bottom": null
            },
            "text/plain": "0  Census Year  Total Population  Census Cost  Average Cost Per Person\n0  Census Year  Total Population  Census Cost  Average Cost Per Person\n1         1790           3929214      $44,377               1.13 cents\n2         1800           5308483      $66,109               1.24 cents\n3         1810           7239881     $178,445               2.46 cents\n4         1820           9633822     $208,526               2.16 cents",
            "text/html": "<div>\n<style scoped>\n    .dataframe tbody tr th:only-of-type {\n        vertical-align: middle;\n    }\n\n    .dataframe tbody tr th {\n        vertical-align: top;\n    }\n\n    .dataframe thead th {\n        text-align: right;\n    }\n</style>\n<table border=\"1\" class=\"dataframe\">\n  <thead>\n    <tr style=\"text-align: right;\">\n      <th></th>\n      <th>Census Year</th>\n      <th>Total Population</th>\n      <th>Census Cost</th>\n      <th>Average Cost Per Person</th>\n    </tr>\n  </thead>\n  <tbody>\n    <tr>\n      <th>0</th>\n      <td>Census Year</td>\n      <td>Total Population</td>\n      <td>Census Cost</td>\n      <td>Average Cost Per Person</td>\n    </tr>\n    <tr>\n      <th>1</th>\n      <td>1790</td>\n      <td>3929214</td>\n      <td>$44,377</td>\n      <td>1.13 cents</td>\n    </tr>\n    <tr>\n      <th>2</th>\n      <td>1800</td>\n      <td>5308483</td>\n      <td>$66,109</td>\n      <td>1.24 cents</td>\n    </tr>\n    <tr>\n      <th>3</th>\n      <td>1810</td>\n      <td>7239881</td>\n      <td>$178,445</td>\n      <td>2.46 cents</td>\n    </tr>\n    <tr>\n      <th>4</th>\n      <td>1820</td>\n      <td>9633822</td>\n      <td>$208,526</td>\n      <td>2.16 cents</td>\n    </tr>\n  </tbody>\n</table>\n</div>"
          },
          "metadata": {}
        }
      ]
    },
    {
      "cell_type": "code",
      "metadata": {
        "cell_id": "00008-a4633ace-68bf-4171-9c8e-a049a0c460c1",
        "deepnote_to_be_reexecuted": false,
        "source_hash": "dc89ae2e",
        "execution_start": 1615778560372,
        "execution_millis": 61,
        "deepnote_cell_type": "code"
      },
      "source": "#dropping first row as it contains duplicate values as header\ndataframe_table1.drop([0], inplace=True)\ndataframe_table1.head()\n",
      "execution_count": 9,
      "outputs": [
        {
          "output_type": "execute_result",
          "execution_count": 9,
          "data": {
            "application/vnd.deepnote.dataframe.v2+json": {
              "row_count": 5,
              "column_count": 4,
              "columns": [
                {
                  "name": "Census Year",
                  "dtype": "object",
                  "stats": {
                    "unique_count": 5,
                    "nan_count": 0,
                    "categories": [
                      {
                        "name": "1790",
                        "count": 1
                      },
                      {
                        "name": "1800",
                        "count": 1
                      },
                      {
                        "name": "3 others",
                        "count": 3
                      }
                    ]
                  }
                },
                {
                  "name": "Total Population",
                  "dtype": "object",
                  "stats": {
                    "unique_count": 5,
                    "nan_count": 0,
                    "categories": [
                      {
                        "name": "3929214",
                        "count": 1
                      },
                      {
                        "name": "5308483",
                        "count": 1
                      },
                      {
                        "name": "3 others",
                        "count": 3
                      }
                    ]
                  }
                },
                {
                  "name": "Census Cost",
                  "dtype": "object",
                  "stats": {
                    "unique_count": 5,
                    "nan_count": 0,
                    "categories": [
                      {
                        "name": "$44,377",
                        "count": 1
                      },
                      {
                        "name": "$66,109",
                        "count": 1
                      },
                      {
                        "name": "3 others",
                        "count": 3
                      }
                    ]
                  }
                },
                {
                  "name": "Average Cost Per Person",
                  "dtype": "object",
                  "stats": {
                    "unique_count": 5,
                    "nan_count": 0,
                    "categories": [
                      {
                        "name": "1.13 cents",
                        "count": 1
                      },
                      {
                        "name": "1.24 cents",
                        "count": 1
                      },
                      {
                        "name": "3 others",
                        "count": 3
                      }
                    ]
                  }
                },
                {
                  "name": "_deepnote_index_column",
                  "dtype": "int64"
                }
              ],
              "rows_top": [
                {
                  "Census Year": "1790",
                  "Total Population": "3929214",
                  "Census Cost": "$44,377",
                  "Average Cost Per Person": "1.13 cents",
                  "_deepnote_index_column": 1
                },
                {
                  "Census Year": "1800",
                  "Total Population": "5308483",
                  "Census Cost": "$66,109",
                  "Average Cost Per Person": "1.24 cents",
                  "_deepnote_index_column": 2
                },
                {
                  "Census Year": "1810",
                  "Total Population": "7239881",
                  "Census Cost": "$178,445",
                  "Average Cost Per Person": "2.46 cents",
                  "_deepnote_index_column": 3
                },
                {
                  "Census Year": "1820",
                  "Total Population": "9633822",
                  "Census Cost": "$208,526",
                  "Average Cost Per Person": "2.16 cents",
                  "_deepnote_index_column": 4
                },
                {
                  "Census Year": "1830",
                  "Total Population": "12866020",
                  "Census Cost": "$378,545",
                  "Average Cost Per Person": "2.94 cents",
                  "_deepnote_index_column": 5
                }
              ],
              "rows_bottom": null
            },
            "text/plain": "0 Census Year Total Population Census Cost Average Cost Per Person\n1        1790          3929214     $44,377              1.13 cents\n2        1800          5308483     $66,109              1.24 cents\n3        1810          7239881    $178,445              2.46 cents\n4        1820          9633822    $208,526              2.16 cents\n5        1830         12866020    $378,545              2.94 cents",
            "text/html": "<div>\n<style scoped>\n    .dataframe tbody tr th:only-of-type {\n        vertical-align: middle;\n    }\n\n    .dataframe tbody tr th {\n        vertical-align: top;\n    }\n\n    .dataframe thead th {\n        text-align: right;\n    }\n</style>\n<table border=\"1\" class=\"dataframe\">\n  <thead>\n    <tr style=\"text-align: right;\">\n      <th></th>\n      <th>Census Year</th>\n      <th>Total Population</th>\n      <th>Census Cost</th>\n      <th>Average Cost Per Person</th>\n    </tr>\n  </thead>\n  <tbody>\n    <tr>\n      <th>1</th>\n      <td>1790</td>\n      <td>3929214</td>\n      <td>$44,377</td>\n      <td>1.13 cents</td>\n    </tr>\n    <tr>\n      <th>2</th>\n      <td>1800</td>\n      <td>5308483</td>\n      <td>$66,109</td>\n      <td>1.24 cents</td>\n    </tr>\n    <tr>\n      <th>3</th>\n      <td>1810</td>\n      <td>7239881</td>\n      <td>$178,445</td>\n      <td>2.46 cents</td>\n    </tr>\n    <tr>\n      <th>4</th>\n      <td>1820</td>\n      <td>9633822</td>\n      <td>$208,526</td>\n      <td>2.16 cents</td>\n    </tr>\n    <tr>\n      <th>5</th>\n      <td>1830</td>\n      <td>12866020</td>\n      <td>$378,545</td>\n      <td>2.94 cents</td>\n    </tr>\n  </tbody>\n</table>\n</div>"
          },
          "metadata": {}
        }
      ]
    },
    {
      "cell_type": "code",
      "metadata": {
        "cell_id": "00009-36165f56-7409-4a60-ad1f-29af61f20557",
        "deepnote_to_be_reexecuted": false,
        "source_hash": "b982cff9",
        "execution_start": 1615778560373,
        "execution_millis": 60,
        "deepnote_cell_type": "code"
      },
      "source": "#checking for null values\ndataframe_table1.isnull().any()",
      "execution_count": 10,
      "outputs": [
        {
          "output_type": "execute_result",
          "execution_count": 10,
          "data": {
            "text/plain": "0\nCensus Year                False\nTotal Population           False\nCensus Cost                False\nAverage Cost Per Person    False\ndtype: bool"
          },
          "metadata": {}
        }
      ]
    },
    {
      "cell_type": "code",
      "metadata": {
        "cell_id": "00010-c84fef35-bea4-47ff-81ca-356a535958b0",
        "deepnote_to_be_reexecuted": false,
        "source_hash": "c8d9c469",
        "execution_start": 1615778560379,
        "execution_millis": 54,
        "deepnote_cell_type": "code"
      },
      "source": "#writing a function to clean the data which has * beside it.\n# remove * character from the data\ndef cleanse_year(year):\n    return year.replace(\"*\",\"\")\n#testing the function cleanse_year\ncleanse_year(\"20*10\")",
      "execution_count": 11,
      "outputs": [
        {
          "output_type": "execute_result",
          "execution_count": 11,
          "data": {
            "text/plain": "'2010'"
          },
          "metadata": {}
        }
      ]
    },
    {
      "cell_type": "code",
      "metadata": {
        "cell_id": "00011-bec15f61-b09b-4dea-b9f9-536325721da9",
        "deepnote_to_be_reexecuted": false,
        "source_hash": "995f22ca",
        "execution_start": 1615778560390,
        "execution_millis": 43,
        "deepnote_cell_type": "code"
      },
      "source": "#apply the cleanse_year function to the column Census Year which removes * beside the year if any\ndataframe_table1['Census Year'] = dataframe_table1['Census Year'].apply(cleanse_year)\nprint(dataframe_table1)",
      "execution_count": 12,
      "outputs": [
        {
          "name": "stdout",
          "text": "0  Census Year Total Population     Census Cost Average Cost Per Person\n1         1790          3929214         $44,377              1.13 cents\n2         1800          5308483         $66,109              1.24 cents\n3         1810          7239881        $178,445              2.46 cents\n4         1820          9633822        $208,526              2.16 cents\n5         1830         12866020        $378,545              2.94 cents\n6         1840         17069458        $833,371              4.88 cents\n7         1850         23191876      $1,423,351              6.14 cents\n8         1860         31443321      $1,969,377              6.26 cents\n9         1870         38558371      $3,421,198              8.87 cents\n10        1880         50155783      $5,790,678             11.54 cents\n11        1890         62979766     $11,547,127             18.33 cents\n12        1900         76303387     $11,854,000             15.54 cents\n13        1910         91972266     $15,968,000             17.07 cents\n14        1920        105710620     $25,117,000             23.76 cents\n15        1930        122775046     $40,156,000             32.71 cents\n16        1940        131669275     $67,527,000             51.29 cents\n17        1950        151325798     $91,462,000             60.44 cents\n18        1960        179323175    $127,934,000             71.34 cents\n19        1970        203302031    $247,653,000                   $1.22\n20        1980        226542199  $1,078,488,000                   $4.76\n21        1990        248718301  $2,492,830,000                  $10.02\n22        2000        281421906    $4.5 Billion                  $15.99\n23        2010        308745538     $13 Billion                  $42.11\n",
          "output_type": "stream"
        }
      ]
    },
    {
      "cell_type": "code",
      "metadata": {
        "cell_id": "00012-f01c1640-af1b-4dff-b565-8890a5234f08",
        "deepnote_to_be_reexecuted": false,
        "source_hash": "8d19985a",
        "execution_start": 1615778560402,
        "execution_millis": 32,
        "deepnote_cell_type": "code"
      },
      "source": "import math\n# define cleanse_cost function which can be used to clean the Census Cost column\ndef cleanse_cost(raw_cost):\n    cost = raw_cost.lstrip(\"$\").replace(\",\",\"\")\n    if  cost.find(\"Billion\") != -1:          # if \"cell\" conatins \"Billion\":\n        cost = cost.replace('Billion','')\n        cost = float(cost)* math.pow(10,8)\n    elif raw_cost.find(\"Million\") != -1:     # elif \"cell\" contains Million: \n        cost = cost.replace('Million','')\n        cost = float(cost)* math.pow(10,6)\n    return str(cost)\n\n#Testing cleanse_cost function\ncleanse_cost(\"4.5 Billion\")",
      "execution_count": 13,
      "outputs": [
        {
          "output_type": "execute_result",
          "execution_count": 13,
          "data": {
            "text/plain": "'450000000.0'"
          },
          "metadata": {}
        }
      ]
    },
    {
      "cell_type": "code",
      "metadata": {
        "cell_id": "00013-1cf8f7ec-7dac-40b4-91c1-0241f56a5c96",
        "deepnote_to_be_reexecuted": false,
        "source_hash": "ef80ea6a",
        "execution_start": 1615778560405,
        "execution_millis": 29,
        "deepnote_cell_type": "code"
      },
      "source": "#applying the cleanse cost function to Census Cost Column\ndataframe_table1[\"Census Cost\"] = dataframe_table1[\"Census Cost\"].apply(cleanse_cost)\nprint(dataframe_table1)",
      "execution_count": 14,
      "outputs": [
        {
          "name": "stdout",
          "text": "0  Census Year Total Population   Census Cost Average Cost Per Person\n1         1790          3929214         44377              1.13 cents\n2         1800          5308483         66109              1.24 cents\n3         1810          7239881        178445              2.46 cents\n4         1820          9633822        208526              2.16 cents\n5         1830         12866020        378545              2.94 cents\n6         1840         17069458        833371              4.88 cents\n7         1850         23191876       1423351              6.14 cents\n8         1860         31443321       1969377              6.26 cents\n9         1870         38558371       3421198              8.87 cents\n10        1880         50155783       5790678             11.54 cents\n11        1890         62979766      11547127             18.33 cents\n12        1900         76303387      11854000             15.54 cents\n13        1910         91972266      15968000             17.07 cents\n14        1920        105710620      25117000             23.76 cents\n15        1930        122775046      40156000             32.71 cents\n16        1940        131669275      67527000             51.29 cents\n17        1950        151325798      91462000             60.44 cents\n18        1960        179323175     127934000             71.34 cents\n19        1970        203302031     247653000                   $1.22\n20        1980        226542199    1078488000                   $4.76\n21        1990        248718301    2492830000                  $10.02\n22        2000        281421906   450000000.0                  $15.99\n23        2010        308745538  1300000000.0                  $42.11\n",
          "output_type": "stream"
        }
      ]
    },
    {
      "cell_type": "code",
      "metadata": {
        "cell_id": "00014-a3fb1e03-efb6-4066-bbdc-3cdf5e6ca5f5",
        "deepnote_to_be_reexecuted": false,
        "source_hash": "c89e6ac6",
        "execution_start": 1615778560405,
        "execution_millis": 29,
        "deepnote_cell_type": "code"
      },
      "source": "#define cleanse_population function which can be used to clean the Total Population column\ndef cleanse_population(popultaion):\n  return int(popultaion.replace(',',''))\n\n#testing the cleanse population function\n\ncleanse_population(\"123,000\")",
      "execution_count": 15,
      "outputs": [
        {
          "output_type": "execute_result",
          "execution_count": 15,
          "data": {
            "text/plain": "123000"
          },
          "metadata": {}
        }
      ]
    },
    {
      "cell_type": "code",
      "metadata": {
        "cell_id": "00015-f429323d-5f2d-47e0-9985-cdb7cfe66df4",
        "deepnote_to_be_reexecuted": false,
        "source_hash": "67a2e5f1",
        "execution_start": 1615778560411,
        "execution_millis": 23,
        "deepnote_cell_type": "code"
      },
      "source": "#applying the cleanse population function to Total Population column\ndataframe_table1['Total Population'] = dataframe_table1['Total Population'].apply(cleanse_population)\nprint(dataframe_table1)",
      "execution_count": 16,
      "outputs": [
        {
          "name": "stdout",
          "text": "0  Census Year  Total Population   Census Cost Average Cost Per Person\n1         1790           3929214         44377              1.13 cents\n2         1800           5308483         66109              1.24 cents\n3         1810           7239881        178445              2.46 cents\n4         1820           9633822        208526              2.16 cents\n5         1830          12866020        378545              2.94 cents\n6         1840          17069458        833371              4.88 cents\n7         1850          23191876       1423351              6.14 cents\n8         1860          31443321       1969377              6.26 cents\n9         1870          38558371       3421198              8.87 cents\n10        1880          50155783       5790678             11.54 cents\n11        1890          62979766      11547127             18.33 cents\n12        1900          76303387      11854000             15.54 cents\n13        1910          91972266      15968000             17.07 cents\n14        1920         105710620      25117000             23.76 cents\n15        1930         122775046      40156000             32.71 cents\n16        1940         131669275      67527000             51.29 cents\n17        1950         151325798      91462000             60.44 cents\n18        1960         179323175     127934000             71.34 cents\n19        1970         203302031     247653000                   $1.22\n20        1980         226542199    1078488000                   $4.76\n21        1990         248718301    2492830000                  $10.02\n22        2000         281421906   450000000.0                  $15.99\n23        2010         308745538  1300000000.0                  $42.11\n",
          "output_type": "stream"
        }
      ]
    },
    {
      "cell_type": "code",
      "metadata": {
        "cell_id": "00016-1fc30322-1939-44fb-8a64-b0e3a0cc56f4",
        "deepnote_to_be_reexecuted": false,
        "source_hash": "629dd4eb",
        "execution_start": 1615778560417,
        "execution_millis": 17,
        "deepnote_cell_type": "code"
      },
      "source": "#define cleanse_avgcost function which can be used to clean the Average Cost Per Person column\n\ndef cleanse_avgcost(cost):\n  cost = cost.replace('$','')\n  cost = cost.replace('\\t','')\n  cost = cost.replace('\\n','')\n  if 'cents' in cost:\n    # print(\"Cost \",cost)\n    cost = cost.replace('cents','')\n    cost = float(cost)/100\n  return cost\n\n# testing the function cleanse_avgcost\ncleanse_avgcost(\"1.6 cents\")",
      "execution_count": 17,
      "outputs": [
        {
          "output_type": "execute_result",
          "execution_count": 17,
          "data": {
            "text/plain": "0.016"
          },
          "metadata": {}
        }
      ]
    },
    {
      "cell_type": "code",
      "metadata": {
        "cell_id": "00017-19ff293b-6cc1-4494-985f-48943b8db670",
        "deepnote_to_be_reexecuted": false,
        "source_hash": "15b3f699",
        "execution_start": 1615778560425,
        "execution_millis": 23,
        "deepnote_cell_type": "code"
      },
      "source": "#applying the cleanse_avgcost function to Average Cost Per Person column\ndataframe_table1['Average Cost Per Person'] = dataframe_table1['Average Cost Per Person'].apply(cleanse_avgcost)\nprint(dataframe_table1)",
      "execution_count": 18,
      "outputs": [
        {
          "name": "stdout",
          "text": "0  Census Year  Total Population   Census Cost Average Cost Per Person\n1         1790           3929214         44377                  0.0113\n2         1800           5308483         66109                  0.0124\n3         1810           7239881        178445                  0.0246\n4         1820           9633822        208526                  0.0216\n5         1830          12866020        378545                  0.0294\n6         1840          17069458        833371                  0.0488\n7         1850          23191876       1423351                  0.0614\n8         1860          31443321       1969377                  0.0626\n9         1870          38558371       3421198                  0.0887\n10        1880          50155783       5790678                  0.1154\n11        1890          62979766      11547127                  0.1833\n12        1900          76303387      11854000                  0.1554\n13        1910          91972266      15968000                  0.1707\n14        1920         105710620      25117000                  0.2376\n15        1930         122775046      40156000                  0.3271\n16        1940         131669275      67527000                  0.5129\n17        1950         151325798      91462000                  0.6044\n18        1960         179323175     127934000                  0.7134\n19        1970         203302031     247653000                    1.22\n20        1980         226542199    1078488000                    4.76\n21        1990         248718301    2492830000                   10.02\n22        2000         281421906   450000000.0                   15.99\n23        2010         308745538  1300000000.0                   42.11\n",
          "output_type": "stream"
        }
      ]
    },
    {
      "cell_type": "code",
      "metadata": {
        "cell_id": "00018-4a929ea6-fb05-4413-9a57-9f3de5a678b7",
        "deepnote_to_be_reexecuted": false,
        "source_hash": "9b2965ef",
        "execution_start": 1615778560441,
        "execution_millis": 3,
        "deepnote_cell_type": "code"
      },
      "source": "#save the cleansed dataframe to census_cost_cleansed file using pandas\ndataframe_table1.to_csv('census_cost_cleansed.csv',index=False)",
      "execution_count": 19,
      "outputs": []
    },
    {
      "cell_type": "code",
      "metadata": {
        "cell_id": "00019-a367e2b9-d60f-4c99-9d42-c0dcec2237d4",
        "deepnote_to_be_reexecuted": false,
        "source_hash": "465ebb0c",
        "execution_start": 1615778560446,
        "execution_millis": 22,
        "deepnote_cell_type": "code"
      },
      "source": "dataframe2_cleansed = pd.read_csv('census_cost_cleansed.csv')\nprint(dataframe2_cleansed)\nprint(\"the shape of cleansed df is\",dataframe2_cleansed.shape)\ndataframe2_cleansed.isnull()#checking whether data frame has any null values or not",
      "execution_count": 20,
      "outputs": [
        {
          "name": "stdout",
          "text": "    Census Year  Total Population   Census Cost  Average Cost Per Person\n0          1790           3929214  4.437700e+04                   0.0113\n1          1800           5308483  6.610900e+04                   0.0124\n2          1810           7239881  1.784450e+05                   0.0246\n3          1820           9633822  2.085260e+05                   0.0216\n4          1830          12866020  3.785450e+05                   0.0294\n5          1840          17069458  8.333710e+05                   0.0488\n6          1850          23191876  1.423351e+06                   0.0614\n7          1860          31443321  1.969377e+06                   0.0626\n8          1870          38558371  3.421198e+06                   0.0887\n9          1880          50155783  5.790678e+06                   0.1154\n10         1890          62979766  1.154713e+07                   0.1833\n11         1900          76303387  1.185400e+07                   0.1554\n12         1910          91972266  1.596800e+07                   0.1707\n13         1920         105710620  2.511700e+07                   0.2376\n14         1930         122775046  4.015600e+07                   0.3271\n15         1940         131669275  6.752700e+07                   0.5129\n16         1950         151325798  9.146200e+07                   0.6044\n17         1960         179323175  1.279340e+08                   0.7134\n18         1970         203302031  2.476530e+08                   1.2200\n19         1980         226542199  1.078488e+09                   4.7600\n20         1990         248718301  2.492830e+09                  10.0200\n21         2000         281421906  4.500000e+08                  15.9900\n22         2010         308745538  1.300000e+09                  42.1100\nthe shape of cleansed df is (23, 4)\n",
          "output_type": "stream"
        },
        {
          "output_type": "execute_result",
          "execution_count": 20,
          "data": {
            "application/vnd.deepnote.dataframe.v2+json": {
              "row_count": 23,
              "column_count": 4,
              "columns": [
                {
                  "name": "Census Year",
                  "dtype": "bool",
                  "stats": {
                    "unique_count": 1,
                    "nan_count": 0,
                    "categories": [
                      {
                        "name": "False",
                        "count": 23
                      }
                    ]
                  }
                },
                {
                  "name": "Total Population",
                  "dtype": "bool",
                  "stats": {
                    "unique_count": 1,
                    "nan_count": 0,
                    "categories": [
                      {
                        "name": "False",
                        "count": 23
                      }
                    ]
                  }
                },
                {
                  "name": "Census Cost",
                  "dtype": "bool",
                  "stats": {
                    "unique_count": 1,
                    "nan_count": 0,
                    "categories": [
                      {
                        "name": "False",
                        "count": 23
                      }
                    ]
                  }
                },
                {
                  "name": "Average Cost Per Person",
                  "dtype": "bool",
                  "stats": {
                    "unique_count": 1,
                    "nan_count": 0,
                    "categories": [
                      {
                        "name": "False",
                        "count": 23
                      }
                    ]
                  }
                },
                {
                  "name": "_deepnote_index_column",
                  "dtype": "int64"
                }
              ],
              "rows_top": [
                {
                  "Census Year": false,
                  "Total Population": false,
                  "Census Cost": false,
                  "Average Cost Per Person": false,
                  "_deepnote_index_column": 0
                },
                {
                  "Census Year": false,
                  "Total Population": false,
                  "Census Cost": false,
                  "Average Cost Per Person": false,
                  "_deepnote_index_column": 1
                },
                {
                  "Census Year": false,
                  "Total Population": false,
                  "Census Cost": false,
                  "Average Cost Per Person": false,
                  "_deepnote_index_column": 2
                },
                {
                  "Census Year": false,
                  "Total Population": false,
                  "Census Cost": false,
                  "Average Cost Per Person": false,
                  "_deepnote_index_column": 3
                },
                {
                  "Census Year": false,
                  "Total Population": false,
                  "Census Cost": false,
                  "Average Cost Per Person": false,
                  "_deepnote_index_column": 4
                },
                {
                  "Census Year": false,
                  "Total Population": false,
                  "Census Cost": false,
                  "Average Cost Per Person": false,
                  "_deepnote_index_column": 5
                },
                {
                  "Census Year": false,
                  "Total Population": false,
                  "Census Cost": false,
                  "Average Cost Per Person": false,
                  "_deepnote_index_column": 6
                },
                {
                  "Census Year": false,
                  "Total Population": false,
                  "Census Cost": false,
                  "Average Cost Per Person": false,
                  "_deepnote_index_column": 7
                },
                {
                  "Census Year": false,
                  "Total Population": false,
                  "Census Cost": false,
                  "Average Cost Per Person": false,
                  "_deepnote_index_column": 8
                },
                {
                  "Census Year": false,
                  "Total Population": false,
                  "Census Cost": false,
                  "Average Cost Per Person": false,
                  "_deepnote_index_column": 9
                },
                {
                  "Census Year": false,
                  "Total Population": false,
                  "Census Cost": false,
                  "Average Cost Per Person": false,
                  "_deepnote_index_column": 10
                },
                {
                  "Census Year": false,
                  "Total Population": false,
                  "Census Cost": false,
                  "Average Cost Per Person": false,
                  "_deepnote_index_column": 11
                },
                {
                  "Census Year": false,
                  "Total Population": false,
                  "Census Cost": false,
                  "Average Cost Per Person": false,
                  "_deepnote_index_column": 12
                },
                {
                  "Census Year": false,
                  "Total Population": false,
                  "Census Cost": false,
                  "Average Cost Per Person": false,
                  "_deepnote_index_column": 13
                },
                {
                  "Census Year": false,
                  "Total Population": false,
                  "Census Cost": false,
                  "Average Cost Per Person": false,
                  "_deepnote_index_column": 14
                },
                {
                  "Census Year": false,
                  "Total Population": false,
                  "Census Cost": false,
                  "Average Cost Per Person": false,
                  "_deepnote_index_column": 15
                },
                {
                  "Census Year": false,
                  "Total Population": false,
                  "Census Cost": false,
                  "Average Cost Per Person": false,
                  "_deepnote_index_column": 16
                },
                {
                  "Census Year": false,
                  "Total Population": false,
                  "Census Cost": false,
                  "Average Cost Per Person": false,
                  "_deepnote_index_column": 17
                },
                {
                  "Census Year": false,
                  "Total Population": false,
                  "Census Cost": false,
                  "Average Cost Per Person": false,
                  "_deepnote_index_column": 18
                },
                {
                  "Census Year": false,
                  "Total Population": false,
                  "Census Cost": false,
                  "Average Cost Per Person": false,
                  "_deepnote_index_column": 19
                },
                {
                  "Census Year": false,
                  "Total Population": false,
                  "Census Cost": false,
                  "Average Cost Per Person": false,
                  "_deepnote_index_column": 20
                },
                {
                  "Census Year": false,
                  "Total Population": false,
                  "Census Cost": false,
                  "Average Cost Per Person": false,
                  "_deepnote_index_column": 21
                },
                {
                  "Census Year": false,
                  "Total Population": false,
                  "Census Cost": false,
                  "Average Cost Per Person": false,
                  "_deepnote_index_column": 22
                }
              ],
              "rows_bottom": null
            },
            "text/plain": "    Census Year  Total Population  Census Cost  Average Cost Per Person\n0         False             False        False                    False\n1         False             False        False                    False\n2         False             False        False                    False\n3         False             False        False                    False\n4         False             False        False                    False\n5         False             False        False                    False\n6         False             False        False                    False\n7         False             False        False                    False\n8         False             False        False                    False\n9         False             False        False                    False\n10        False             False        False                    False\n11        False             False        False                    False\n12        False             False        False                    False\n13        False             False        False                    False\n14        False             False        False                    False\n15        False             False        False                    False\n16        False             False        False                    False\n17        False             False        False                    False\n18        False             False        False                    False\n19        False             False        False                    False\n20        False             False        False                    False\n21        False             False        False                    False\n22        False             False        False                    False",
            "text/html": "<div>\n<style scoped>\n    .dataframe tbody tr th:only-of-type {\n        vertical-align: middle;\n    }\n\n    .dataframe tbody tr th {\n        vertical-align: top;\n    }\n\n    .dataframe thead th {\n        text-align: right;\n    }\n</style>\n<table border=\"1\" class=\"dataframe\">\n  <thead>\n    <tr style=\"text-align: right;\">\n      <th></th>\n      <th>Census Year</th>\n      <th>Total Population</th>\n      <th>Census Cost</th>\n      <th>Average Cost Per Person</th>\n    </tr>\n  </thead>\n  <tbody>\n    <tr>\n      <th>0</th>\n      <td>False</td>\n      <td>False</td>\n      <td>False</td>\n      <td>False</td>\n    </tr>\n    <tr>\n      <th>1</th>\n      <td>False</td>\n      <td>False</td>\n      <td>False</td>\n      <td>False</td>\n    </tr>\n    <tr>\n      <th>2</th>\n      <td>False</td>\n      <td>False</td>\n      <td>False</td>\n      <td>False</td>\n    </tr>\n    <tr>\n      <th>3</th>\n      <td>False</td>\n      <td>False</td>\n      <td>False</td>\n      <td>False</td>\n    </tr>\n    <tr>\n      <th>4</th>\n      <td>False</td>\n      <td>False</td>\n      <td>False</td>\n      <td>False</td>\n    </tr>\n    <tr>\n      <th>5</th>\n      <td>False</td>\n      <td>False</td>\n      <td>False</td>\n      <td>False</td>\n    </tr>\n    <tr>\n      <th>6</th>\n      <td>False</td>\n      <td>False</td>\n      <td>False</td>\n      <td>False</td>\n    </tr>\n    <tr>\n      <th>7</th>\n      <td>False</td>\n      <td>False</td>\n      <td>False</td>\n      <td>False</td>\n    </tr>\n    <tr>\n      <th>8</th>\n      <td>False</td>\n      <td>False</td>\n      <td>False</td>\n      <td>False</td>\n    </tr>\n    <tr>\n      <th>9</th>\n      <td>False</td>\n      <td>False</td>\n      <td>False</td>\n      <td>False</td>\n    </tr>\n    <tr>\n      <th>10</th>\n      <td>False</td>\n      <td>False</td>\n      <td>False</td>\n      <td>False</td>\n    </tr>\n    <tr>\n      <th>11</th>\n      <td>False</td>\n      <td>False</td>\n      <td>False</td>\n      <td>False</td>\n    </tr>\n    <tr>\n      <th>12</th>\n      <td>False</td>\n      <td>False</td>\n      <td>False</td>\n      <td>False</td>\n    </tr>\n    <tr>\n      <th>13</th>\n      <td>False</td>\n      <td>False</td>\n      <td>False</td>\n      <td>False</td>\n    </tr>\n    <tr>\n      <th>14</th>\n      <td>False</td>\n      <td>False</td>\n      <td>False</td>\n      <td>False</td>\n    </tr>\n    <tr>\n      <th>15</th>\n      <td>False</td>\n      <td>False</td>\n      <td>False</td>\n      <td>False</td>\n    </tr>\n    <tr>\n      <th>16</th>\n      <td>False</td>\n      <td>False</td>\n      <td>False</td>\n      <td>False</td>\n    </tr>\n    <tr>\n      <th>17</th>\n      <td>False</td>\n      <td>False</td>\n      <td>False</td>\n      <td>False</td>\n    </tr>\n    <tr>\n      <th>18</th>\n      <td>False</td>\n      <td>False</td>\n      <td>False</td>\n      <td>False</td>\n    </tr>\n    <tr>\n      <th>19</th>\n      <td>False</td>\n      <td>False</td>\n      <td>False</td>\n      <td>False</td>\n    </tr>\n    <tr>\n      <th>20</th>\n      <td>False</td>\n      <td>False</td>\n      <td>False</td>\n      <td>False</td>\n    </tr>\n    <tr>\n      <th>21</th>\n      <td>False</td>\n      <td>False</td>\n      <td>False</td>\n      <td>False</td>\n    </tr>\n    <tr>\n      <th>22</th>\n      <td>False</td>\n      <td>False</td>\n      <td>False</td>\n      <td>False</td>\n    </tr>\n  </tbody>\n</table>\n</div>"
          },
          "metadata": {}
        }
      ]
    },
    {
      "cell_type": "code",
      "metadata": {
        "cell_id": "00020-602677ab-dc79-47db-aa95-59b5b9fd36f1",
        "deepnote_to_be_reexecuted": false,
        "source_hash": "dcc18dd7",
        "execution_start": 1615778560517,
        "execution_millis": 4,
        "deepnote_cell_type": "code"
      },
      "source": "dataframe2_cleansed.isnull().any()",
      "execution_count": 21,
      "outputs": [
        {
          "output_type": "execute_result",
          "execution_count": 21,
          "data": {
            "text/plain": "Census Year                False\nTotal Population           False\nCensus Cost                False\nAverage Cost Per Person    False\ndtype: bool"
          },
          "metadata": {}
        }
      ]
    },
    {
      "cell_type": "markdown",
      "source": "<a style='text-decoration:none;line-height:16px;display:flex;color:#5B5B62;padding:10px;justify-content:end;' href='https://deepnote.com?utm_source=created-in-deepnote-cell&projectId=b1b47f6f-399c-4c62-a3b1-883c9e8ac1e1' target=\"_blank\">\n<img style='display:inline;max-height:16px;margin:0px;margin-right:7.5px;' src='data:image/svg+xml;base64,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' > </img>\nCreated in <span style='font-weight:600;margin-left:4px;'>Deepnote</span></a>",
      "metadata": {
        "tags": [],
        "created_in_deepnote_cell": true,
        "deepnote_cell_type": "markdown"
      }
    }
  ],
  "nbformat": 4,
  "nbformat_minor": 4,
  "metadata": {
    "kernelspec": {
      "display_name": "Python 3",
      "language": "python",
      "name": "python3"
    },
    "language_info": {
      "codemirror_mode": {
        "name": "ipython",
        "version": 3
      },
      "file_extension": ".py",
      "mimetype": "text/x-python",
      "name": "python",
      "nbconvert_exporter": "python",
      "pygments_lexer": "ipython3",
      "version": "3.8.5"
    },
    "deepnote_notebook_id": "82780d5c-8b26-4ab3-8988-9bbc852c31f0",
    "deepnote": {},
    "deepnote_execution_queue": []
  }
}