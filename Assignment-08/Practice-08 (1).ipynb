{
  "cells": [
    {
      "cell_type": "code",
      "source": "!unzip /work/DATA-690-WANG/Assignment-08/Data/CollegeScorecard_Raw_Data_01192021.zip",
      "metadata": {
        "tags": [],
        "cell_id": "00000-b48536b6-40e6-48dd-8c11-a717773f361f",
        "deepnote_to_be_reexecuted": false,
        "source_hash": "77c33ed5",
        "execution_millis": 110679,
        "execution_start": 1618792959972,
        "deepnote_cell_type": "code"
      },
      "outputs": [
        {
          "name": "stdout",
          "text": "Archive:  /work/DATA-690-WANG/Assignment-08/Data/CollegeScorecard_Raw_Data_01192021.zip\nreplace Raw Data Files/MERGED2011_12_PP.csv? [y]es, [n]o, [A]ll, [N]one, [r]ename: ^C\n",
          "output_type": "stream"
        }
      ],
      "execution_count": 1
    },
    {
      "cell_type": "code",
      "metadata": {
        "id": "HpZckaJR6oI8",
        "cell_id": "00000-e2015634-0fc4-49c8-96cd-dca4a411a2d0",
        "deepnote_to_be_reexecuted": false,
        "source_hash": "593ced5a",
        "execution_millis": 587,
        "execution_start": 1618793070666,
        "deepnote_cell_type": "code"
      },
      "source": "# 1 - Import necessary libraries\n\nimport os\nimport random\nimport pandas as pd\nimport matplotlib.pyplot as plt\nimport plotly.express as px",
      "execution_count": 2,
      "outputs": []
    },
    {
      "cell_type": "code",
      "metadata": {
        "id": "6qafjqpb6oJC",
        "cell_id": "00001-f1e74849-b60b-4333-8066-6d9e0598925b",
        "deepnote_to_be_reexecuted": false,
        "source_hash": "e1253bf8",
        "execution_millis": 8,
        "execution_start": 1618793082695,
        "deepnote_cell_type": "code"
      },
      "source": "# 2 - Retrieve the names of the 23 files and assign them to a List variable\n# You would need to filter out other files\n# Display the names of these 23 files\n\nfile_path = os.chdir(\"/work/DATA-690-WANG/Assignment-08/Raw Data Files\")\n\ndata_files = os.listdir()\n\ncsv_files = []\n\nfor file in data_files:\n    if \"MERGED\" in file:\n        csv_files.append(file)\n\ncsv_files\n",
      "execution_count": 29,
      "outputs": [
        {
          "output_type": "execute_result",
          "execution_count": 29,
          "data": {
            "text/plain": "['MERGED2016_17_PP.csv',\n 'MERGED2008_09_PP.csv',\n 'MERGED2014_15_PP.csv',\n 'MERGED2009_10_PP.csv',\n 'MERGED2001_02_PP.csv',\n 'MERGED2017_18_PP.csv',\n 'MERGED2003_04_PP.csv',\n 'MERGED1998_99_PP.csv',\n 'MERGED2010_11_PP.csv',\n 'MERGED2005_06_PP.csv',\n 'MERGED1999_00_PP.csv',\n 'MERGED2012_13_PP.csv',\n 'MERGED2006_07_PP.csv',\n 'MERGED2018_19_PP.csv',\n 'MERGED2004_05_PP.csv',\n 'MERGED2011_12_PP.csv',\n 'MERGED2007_08_PP.csv',\n 'MERGED2013_14_PP.csv',\n 'MERGED1996_97_PP.csv',\n 'MERGED2000_01_PP.csv',\n 'MERGED2015_16_PP.csv',\n 'MERGED1997_98_PP.csv',\n 'MERGED2002_03_PP.csv']"
          },
          "metadata": {}
        }
      ]
    },
    {
      "cell_type": "code",
      "metadata": {
        "tags": [],
        "cell_id": "00002-570b8380-3d8b-464a-9f26-83486f8f4005",
        "deepnote_to_be_reexecuted": false,
        "source_hash": "c580f584",
        "execution_millis": 14,
        "execution_start": 1618793088529,
        "deepnote_cell_type": "code"
      },
      "source": "a_len = len(csv_files) #Storing Length of csv files in a_len\n\na_len",
      "execution_count": 33,
      "outputs": [
        {
          "output_type": "execute_result",
          "execution_count": 33,
          "data": {
            "text/plain": "23"
          },
          "metadata": {}
        }
      ]
    },
    {
      "cell_type": "code",
      "metadata": {
        "id": "ft9Rn1lp6oJG",
        "cell_id": "00002-94830452-3829-4a47-8360-4aa44be4fb55",
        "deepnote_to_be_reexecuted": false,
        "source_hash": "ff6b8f26",
        "execution_millis": 8,
        "execution_start": 1618793071271,
        "deepnote_cell_type": "code"
      },
      "source": "# 3 - Write code to randomly select one file name out of the 23 files names. \n# Hint: generate a random integer between 0 and 22 first\n# Display the file name\n\nrandom_integer = random.randrange(a_len)\nrandom_file =  csv_files[random_integer]\n\nprint('The Randomly selected file is :', random_file)",
      "execution_count": 5,
      "outputs": [
        {
          "name": "stdout",
          "text": "The Randomly selected file is : MERGED2015_16_PP.csv\n",
          "output_type": "stream"
        }
      ]
    },
    {
      "cell_type": "code",
      "metadata": {
        "id": "DJy1hmWM6oJN",
        "cell_id": "00003-985dd5fd-6a5b-45ed-a4c1-095b0d9d5d52",
        "deepnote_to_be_reexecuted": false,
        "source_hash": "1a54a66a",
        "execution_millis": 1458,
        "execution_start": 1618793071319,
        "deepnote_cell_type": "code"
      },
      "source": "# 4 - Only read the two columns: college name (INSTNM) and in state tution (\"TUITIONFEE_IN\")\n# from this file into a data frame aand display use info() function to display a summary information\n\n\ndf_selected_columns = pd.read_csv(random_file, usecols = ['INSTNM','TUITIONFEE_IN'])\ndf_selected_columns.info()",
      "execution_count": 6,
      "outputs": [
        {
          "name": "stdout",
          "text": "<class 'pandas.core.frame.DataFrame'>\nRangeIndex: 7666 entries, 0 to 7665\nData columns (total 2 columns):\n #   Column         Non-Null Count  Dtype  \n---  ------         --------------  -----  \n 0   INSTNM         7666 non-null   object \n 1   TUITIONFEE_IN  4330 non-null   float64\ndtypes: float64(1), object(1)\nmemory usage: 119.9+ KB\n",
          "output_type": "stream"
        }
      ]
    },
    {
      "cell_type": "code",
      "metadata": {
        "id": "wU5Ozu106oJR",
        "cell_id": "00004-54c0722c-f76a-429d-aa6a-071c9282bc10",
        "deepnote_to_be_reexecuted": false,
        "source_hash": "dfb34207",
        "execution_millis": 10,
        "execution_start": 1618793072779,
        "deepnote_cell_type": "code"
      },
      "source": "# 5 - Find out how many observations have missing value.\n\ndf_selected_columns.isnull().sum()",
      "execution_count": 7,
      "outputs": [
        {
          "output_type": "execute_result",
          "execution_count": 7,
          "data": {
            "text/plain": "INSTNM              0\nTUITIONFEE_IN    3336\ndtype: int64"
          },
          "metadata": {}
        }
      ]
    },
    {
      "cell_type": "code",
      "metadata": {
        "id": "V0MTbBwv6oJW",
        "cell_id": "00005-41da93fc-1dd9-491b-a02a-cf062b72e7f4",
        "deepnote_to_be_reexecuted": false,
        "source_hash": "a2f7527d",
        "execution_millis": 18,
        "execution_start": 1618793072786,
        "deepnote_cell_type": "code"
      },
      "source": "# 6 - Drop those observations with missing value\n# Display the number of observations afterward\n\ndf_IsNan = df_selected_columns.dropna().reset_index(drop = True) #dropping observations with missing value\ndf_IsNan.shape #number of observations now",
      "execution_count": 8,
      "outputs": [
        {
          "output_type": "execute_result",
          "execution_count": 8,
          "data": {
            "text/plain": "(4330, 2)"
          },
          "metadata": {}
        }
      ]
    },
    {
      "cell_type": "code",
      "metadata": {
        "id": "A-pfpASe6oJb",
        "cell_id": "00006-c9710752-e0e0-4470-9e97-ecd2a810db9a",
        "deepnote_to_be_reexecuted": false,
        "source_hash": "29920609",
        "execution_millis": 13,
        "execution_start": 1618793072801,
        "deepnote_cell_type": "code"
      },
      "source": "# 7 - Find out how many observations have 0 tution. \n\ndf_IsNan[df_IsNan['TUITIONFEE_IN'] == 0].shape",
      "execution_count": 9,
      "outputs": [
        {
          "output_type": "execute_result",
          "execution_count": 9,
          "data": {
            "text/plain": "(0, 2)"
          },
          "metadata": {}
        }
      ]
    },
    {
      "cell_type": "code",
      "metadata": {
        "id": "UUp2iUlM6oJk",
        "cell_id": "00007-cd8350a5-a110-4910-b581-77fd028e8308",
        "deepnote_to_be_reexecuted": false,
        "source_hash": "608cf128",
        "execution_millis": 21,
        "execution_start": 1618793072841,
        "deepnote_cell_type": "code"
      },
      "source": "# 8 - Drop those observations with 0 tuition\n# Display the number of observations afterward\n\ncleaned_df = df_IsNan[df_IsNan['TUITIONFEE_IN'] != 0] #storing Tution not equal to 0 values in df\ncleaned_df.shape",
      "execution_count": 10,
      "outputs": [
        {
          "output_type": "execute_result",
          "execution_count": 10,
          "data": {
            "text/plain": "(4330, 2)"
          },
          "metadata": {}
        }
      ]
    },
    {
      "cell_type": "code",
      "metadata": {
        "id": "vXjrc9Km6oJq",
        "cell_id": "00008-8ff7a4bc-08df-4066-abcc-320e51ed243f",
        "deepnote_to_be_reexecuted": false,
        "source_hash": "e61c92a7",
        "execution_millis": 21,
        "execution_start": 1618793072841,
        "deepnote_cell_type": "code"
      },
      "source": "# 9 - Calculate and display the mean (average) of the tuitions of all the remaining observations \n\ntuitionfee_avg = cleaned_df['TUITIONFEE_IN'].mean() #using mean for avg\ntuitionfee_avg",
      "execution_count": 11,
      "outputs": [
        {
          "output_type": "execute_result",
          "execution_count": 11,
          "data": {
            "text/plain": "14492.511547344111"
          },
          "metadata": {}
        }
      ]
    },
    {
      "cell_type": "code",
      "metadata": {
        "id": "Yyk1Kx456oJv",
        "cell_id": "00009-bcf8d1f3-cd53-4893-bebe-2eaf73011e76",
        "deepnote_to_be_reexecuted": false,
        "source_hash": "e281ae19",
        "execution_millis": 20,
        "execution_start": 1618793072842,
        "deepnote_cell_type": "code"
      },
      "source": "# 10 - Randomly select just 1 observation from the data frame.\n# Display the tuition of that observation. \n\nrandom_school = cleaned_df.sample() #random selection using sample\n\nrandom_school ",
      "execution_count": 12,
      "outputs": [
        {
          "output_type": "execute_result",
          "execution_count": 12,
          "data": {
            "application/vnd.deepnote.dataframe.v2+json": {
              "row_count": 1,
              "column_count": 2,
              "columns": [
                {
                  "name": "INSTNM",
                  "dtype": "object",
                  "stats": {
                    "unique_count": 1,
                    "nan_count": 0,
                    "categories": [
                      {
                        "name": "North Carolina State University at Raleigh",
                        "count": 1
                      }
                    ]
                  }
                },
                {
                  "name": "TUITIONFEE_IN",
                  "dtype": "float64",
                  "stats": {
                    "unique_count": 1,
                    "nan_count": 0,
                    "min": "8581.0",
                    "max": "8581.0",
                    "histogram": [
                      {
                        "bin_start": 8580.5,
                        "bin_end": 8580.6,
                        "count": 0
                      },
                      {
                        "bin_start": 8580.6,
                        "bin_end": 8580.7,
                        "count": 0
                      },
                      {
                        "bin_start": 8580.7,
                        "bin_end": 8580.8,
                        "count": 0
                      },
                      {
                        "bin_start": 8580.8,
                        "bin_end": 8580.9,
                        "count": 0
                      },
                      {
                        "bin_start": 8580.9,
                        "bin_end": 8581,
                        "count": 0
                      },
                      {
                        "bin_start": 8581,
                        "bin_end": 8581.1,
                        "count": 1
                      },
                      {
                        "bin_start": 8581.1,
                        "bin_end": 8581.2,
                        "count": 0
                      },
                      {
                        "bin_start": 8581.2,
                        "bin_end": 8581.3,
                        "count": 0
                      },
                      {
                        "bin_start": 8581.3,
                        "bin_end": 8581.4,
                        "count": 0
                      },
                      {
                        "bin_start": 8581.4,
                        "bin_end": 8581.5,
                        "count": 0
                      }
                    ]
                  }
                },
                {
                  "name": "_deepnote_index_column",
                  "dtype": "int64"
                }
              ],
              "rows_top": [
                {
                  "INSTNM": "North Carolina State University at Raleigh",
                  "TUITIONFEE_IN": 8581,
                  "_deepnote_index_column": 1951
                }
              ],
              "rows_bottom": null
            },
            "text/plain": "                                          INSTNM  TUITIONFEE_IN\n1951  North Carolina State University at Raleigh         8581.0",
            "text/html": "<div>\n<style scoped>\n    .dataframe tbody tr th:only-of-type {\n        vertical-align: middle;\n    }\n\n    .dataframe tbody tr th {\n        vertical-align: top;\n    }\n\n    .dataframe thead th {\n        text-align: right;\n    }\n</style>\n<table border=\"1\" class=\"dataframe\">\n  <thead>\n    <tr style=\"text-align: right;\">\n      <th></th>\n      <th>INSTNM</th>\n      <th>TUITIONFEE_IN</th>\n    </tr>\n  </thead>\n  <tbody>\n    <tr>\n      <th>1951</th>\n      <td>North Carolina State University at Raleigh</td>\n      <td>8581.0</td>\n    </tr>\n  </tbody>\n</table>\n</div>"
          },
          "metadata": {}
        }
      ]
    },
    {
      "cell_type": "code",
      "metadata": {
        "id": "2Jio5eDc6oJ0",
        "cell_id": "00010-1d903a3e-0bc6-4892-9b8d-2614e6e0f762",
        "deepnote_to_be_reexecuted": false,
        "source_hash": "7a810507",
        "execution_millis": 16,
        "execution_start": 1618793072846,
        "deepnote_cell_type": "code"
      },
      "source": "# 11 - Calculate the different between the tuition of this observation and \n# the mean tuition off all observations calculated earlier.\n# Display the difference\n\ndifference = tuitionfee_avg - float(random_school['TUITIONFEE_IN'])\n\nprint(\"The different between the tuition of this observation \",\n\"and the mean tuition off all observations calculated earlier is : \",round(difference,3),'$') ",
      "execution_count": 13,
      "outputs": [
        {
          "name": "stdout",
          "text": "The different between the tuition of this observation  and the mean tuition off all observations calculated earlier is :  5911.512 $\n",
          "output_type": "stream"
        }
      ]
    },
    {
      "cell_type": "code",
      "metadata": {
        "id": "E7RIjD8E6oJ5",
        "cell_id": "00011-a2bea136-00ba-47bc-88cd-d932ea8a231c",
        "deepnote_to_be_reexecuted": false,
        "source_hash": "b9182e83",
        "execution_millis": 10,
        "execution_start": 1618793072855,
        "deepnote_cell_type": "code"
      },
      "source": "# 12 - Repeat 10 to 11 several times get the feel of the size of the difference in means\n\nrandom_school_2 = cleaned_df.sample()\n\ndifference_2 = tuitionfee_avg - float(random_school_2['TUITIONFEE_IN'])\n\nprint(random_school_2)\nprint(\"The different between the tuition of this observation \",\n\"and the mean tuition off all observations calculated earlier is : \",round(difference_2,3),'$') ",
      "execution_count": 14,
      "outputs": [
        {
          "name": "stdout",
          "text": "                               INSTNM  TUITIONFEE_IN\n583  Brown College of Court Reporting        12900.0\nThe different between the tuition of this observation  and the mean tuition off all observations calculated earlier is :  1592.512 $\n",
          "output_type": "stream"
        }
      ]
    },
    {
      "cell_type": "code",
      "metadata": {
        "tags": [],
        "cell_id": "00012-dd7d0d35-abb6-4fc1-b83c-2f28538dc619",
        "deepnote_to_be_reexecuted": false,
        "source_hash": "b871e2b1",
        "execution_millis": 7,
        "execution_start": 1618793072882,
        "deepnote_cell_type": "code"
      },
      "source": "random_school_3 = cleaned_df.sample() \n\ndifference_3 = tuitionfee_avg - float(random_school_3['TUITIONFEE_IN'])\n\nprint(random_school_3)\nprint(\"The different between the tuition of this observation \",\n\"and the mean tuition off all observations calculated earlier is : \",round(difference_3,3),'$') ",
      "execution_count": 15,
      "outputs": [
        {
          "name": "stdout",
          "text": "                    INSTNM  TUITIONFEE_IN\n1733  The Juilliard School        39720.0\nThe different between the tuition of this observation  and the mean tuition off all observations calculated earlier is :  -25227.488 $\n",
          "output_type": "stream"
        }
      ]
    },
    {
      "cell_type": "code",
      "metadata": {
        "id": "X7P4DGbi6oJ-",
        "cell_id": "00012-27496786-e89d-40e4-be68-80d3816462c8",
        "deepnote_to_be_reexecuted": false,
        "source_hash": "1ca993ed",
        "execution_millis": 6,
        "execution_start": 1618793072883,
        "deepnote_cell_type": "code"
      },
      "source": "# 13 - Randomly select 20 observations, display the tuition of these observation. \n\ndf_random = cleaned_df.sample(20)\ndf_random.head(20)",
      "execution_count": 16,
      "outputs": [
        {
          "output_type": "execute_result",
          "execution_count": 16,
          "data": {
            "application/vnd.deepnote.dataframe.v2+json": {
              "row_count": 20,
              "column_count": 2,
              "columns": [
                {
                  "name": "INSTNM",
                  "dtype": "object",
                  "stats": {
                    "unique_count": 20,
                    "nan_count": 0,
                    "categories": [
                      {
                        "name": "Jamestown Business College",
                        "count": 1
                      },
                      {
                        "name": "Oberlin College",
                        "count": 1
                      },
                      {
                        "name": "18 others",
                        "count": 18
                      }
                    ]
                  }
                },
                {
                  "name": "TUITIONFEE_IN",
                  "dtype": "float64",
                  "stats": {
                    "unique_count": 20,
                    "nan_count": 0,
                    "min": "1134.0",
                    "max": "50582.0",
                    "histogram": [
                      {
                        "bin_start": 1134,
                        "bin_end": 6078.8,
                        "count": 3
                      },
                      {
                        "bin_start": 6078.8,
                        "bin_end": 11023.6,
                        "count": 3
                      },
                      {
                        "bin_start": 11023.6,
                        "bin_end": 15968.400000000001,
                        "count": 4
                      },
                      {
                        "bin_start": 15968.400000000001,
                        "bin_end": 20913.2,
                        "count": 2
                      },
                      {
                        "bin_start": 20913.2,
                        "bin_end": 25858,
                        "count": 1
                      },
                      {
                        "bin_start": 25858,
                        "bin_end": 30802.800000000003,
                        "count": 2
                      },
                      {
                        "bin_start": 30802.800000000003,
                        "bin_end": 35747.6,
                        "count": 0
                      },
                      {
                        "bin_start": 35747.6,
                        "bin_end": 40692.4,
                        "count": 3
                      },
                      {
                        "bin_start": 40692.4,
                        "bin_end": 45637.200000000004,
                        "count": 1
                      },
                      {
                        "bin_start": 45637.200000000004,
                        "bin_end": 50582,
                        "count": 1
                      }
                    ]
                  }
                },
                {
                  "name": "_deepnote_index_column",
                  "dtype": "int64"
                }
              ],
              "rows_top": [
                {
                  "INSTNM": "Jamestown Business College",
                  "TUITIONFEE_IN": 12300,
                  "_deepnote_index_column": 1730
                },
                {
                  "INSTNM": "Oberlin College",
                  "TUITIONFEE_IN": 50582,
                  "_deepnote_index_column": 2109
                },
                {
                  "INSTNM": "Family of Faith Christian University",
                  "TUITIONFEE_IN": 6070,
                  "_deepnote_index_column": 3466
                },
                {
                  "INSTNM": "ITT Technical Institute-Oakland",
                  "TUITIONFEE_IN": 18048,
                  "_deepnote_index_column": 3843
                },
                {
                  "INSTNM": "Eastern Oregon University",
                  "TUITIONFEE_IN": 7764,
                  "_deepnote_index_column": 2215
                },
                {
                  "INSTNM": "Rivier University",
                  "TUITIONFEE_IN": 29700,
                  "_deepnote_index_column": 1548
                },
                {
                  "INSTNM": "Hampden-Sydney College",
                  "TUITIONFEE_IN": 41730,
                  "_deepnote_index_column": 2780
                },
                {
                  "INSTNM": "PPG Technical College",
                  "TUITIONFEE_IN": 7600,
                  "_deepnote_index_column": 4034
                },
                {
                  "INSTNM": "Menlo College",
                  "TUITIONFEE_IN": 38750,
                  "_deepnote_index_column": 272
                },
                {
                  "INSTNM": "Loyola University Chicago",
                  "TUITIONFEE_IN": 40426,
                  "_deepnote_index_column": 725
                },
                {
                  "INSTNM": "Merrimack College",
                  "TUITIONFEE_IN": 37670,
                  "_deepnote_index_column": 1166
                },
                {
                  "INSTNM": "Virginia College-Florence",
                  "TUITIONFEE_IN": 13932,
                  "_deepnote_index_column": 3910
                },
                {
                  "INSTNM": "Brown Mackie College-North Canton",
                  "TUITIONFEE_IN": 12672,
                  "_deepnote_index_column": 2104
                },
                {
                  "INSTNM": "Alverno College",
                  "TUITIONFEE_IN": 25660,
                  "_deepnote_index_column": 2920
                },
                {
                  "INSTNM": "Yeshiva Gedolah Imrei Yosef D'spinka",
                  "TUITIONFEE_IN": 8000,
                  "_deepnote_index_column": 3155
                },
                {
                  "INSTNM": "Beaufort County Community College",
                  "TUITIONFEE_IN": 2368,
                  "_deepnote_index_column": 1880
                },
                {
                  "INSTNM": "Faith Baptist Bible College and Theological Seminary",
                  "TUITIONFEE_IN": 16600,
                  "_deepnote_index_column": 857
                },
                {
                  "INSTNM": "New York Film Academy",
                  "TUITIONFEE_IN": 28000,
                  "_deepnote_index_column": 3821
                },
                {
                  "INSTNM": "National American University-Burnsville",
                  "TUITIONFEE_IN": 13863,
                  "_deepnote_index_column": 3895
                },
                {
                  "INSTNM": "Taft College",
                  "TUITIONFEE_IN": 1134,
                  "_deepnote_index_column": 354
                }
              ],
              "rows_bottom": null
            },
            "text/plain": "                                                 INSTNM  TUITIONFEE_IN\n1730                         Jamestown Business College        12300.0\n2109                                    Oberlin College        50582.0\n3466               Family of Faith Christian University         6070.0\n3843                    ITT Technical Institute-Oakland        18048.0\n2215                          Eastern Oregon University         7764.0\n1548                                  Rivier University        29700.0\n2780                             Hampden-Sydney College        41730.0\n4034                              PPG Technical College         7600.0\n272                                       Menlo College        38750.0\n725                           Loyola University Chicago        40426.0\n1166                                  Merrimack College        37670.0\n3910                          Virginia College-Florence        13932.0\n2104                  Brown Mackie College-North Canton        12672.0\n2920                                    Alverno College        25660.0\n3155               Yeshiva Gedolah Imrei Yosef D'spinka         8000.0\n1880                  Beaufort County Community College         2368.0\n857   Faith Baptist Bible College and Theological Se...        16600.0\n3821                              New York Film Academy        28000.0\n3895            National American University-Burnsville        13863.0\n354                                        Taft College         1134.0",
            "text/html": "<div>\n<style scoped>\n    .dataframe tbody tr th:only-of-type {\n        vertical-align: middle;\n    }\n\n    .dataframe tbody tr th {\n        vertical-align: top;\n    }\n\n    .dataframe thead th {\n        text-align: right;\n    }\n</style>\n<table border=\"1\" class=\"dataframe\">\n  <thead>\n    <tr style=\"text-align: right;\">\n      <th></th>\n      <th>INSTNM</th>\n      <th>TUITIONFEE_IN</th>\n    </tr>\n  </thead>\n  <tbody>\n    <tr>\n      <th>1730</th>\n      <td>Jamestown Business College</td>\n      <td>12300.0</td>\n    </tr>\n    <tr>\n      <th>2109</th>\n      <td>Oberlin College</td>\n      <td>50582.0</td>\n    </tr>\n    <tr>\n      <th>3466</th>\n      <td>Family of Faith Christian University</td>\n      <td>6070.0</td>\n    </tr>\n    <tr>\n      <th>3843</th>\n      <td>ITT Technical Institute-Oakland</td>\n      <td>18048.0</td>\n    </tr>\n    <tr>\n      <th>2215</th>\n      <td>Eastern Oregon University</td>\n      <td>7764.0</td>\n    </tr>\n    <tr>\n      <th>1548</th>\n      <td>Rivier University</td>\n      <td>29700.0</td>\n    </tr>\n    <tr>\n      <th>2780</th>\n      <td>Hampden-Sydney College</td>\n      <td>41730.0</td>\n    </tr>\n    <tr>\n      <th>4034</th>\n      <td>PPG Technical College</td>\n      <td>7600.0</td>\n    </tr>\n    <tr>\n      <th>272</th>\n      <td>Menlo College</td>\n      <td>38750.0</td>\n    </tr>\n    <tr>\n      <th>725</th>\n      <td>Loyola University Chicago</td>\n      <td>40426.0</td>\n    </tr>\n    <tr>\n      <th>1166</th>\n      <td>Merrimack College</td>\n      <td>37670.0</td>\n    </tr>\n    <tr>\n      <th>3910</th>\n      <td>Virginia College-Florence</td>\n      <td>13932.0</td>\n    </tr>\n    <tr>\n      <th>2104</th>\n      <td>Brown Mackie College-North Canton</td>\n      <td>12672.0</td>\n    </tr>\n    <tr>\n      <th>2920</th>\n      <td>Alverno College</td>\n      <td>25660.0</td>\n    </tr>\n    <tr>\n      <th>3155</th>\n      <td>Yeshiva Gedolah Imrei Yosef D'spinka</td>\n      <td>8000.0</td>\n    </tr>\n    <tr>\n      <th>1880</th>\n      <td>Beaufort County Community College</td>\n      <td>2368.0</td>\n    </tr>\n    <tr>\n      <th>857</th>\n      <td>Faith Baptist Bible College and Theological Se...</td>\n      <td>16600.0</td>\n    </tr>\n    <tr>\n      <th>3821</th>\n      <td>New York Film Academy</td>\n      <td>28000.0</td>\n    </tr>\n    <tr>\n      <th>3895</th>\n      <td>National American University-Burnsville</td>\n      <td>13863.0</td>\n    </tr>\n    <tr>\n      <th>354</th>\n      <td>Taft College</td>\n      <td>1134.0</td>\n    </tr>\n  </tbody>\n</table>\n</div>"
          },
          "metadata": {}
        }
      ]
    },
    {
      "cell_type": "code",
      "metadata": {
        "id": "2kvz1whj6oKA",
        "cell_id": "00013-fb6d34a0-05a4-4913-8f1a-39525e4f6ddd",
        "deepnote_to_be_reexecuted": false,
        "source_hash": "cc99b5b8",
        "execution_millis": 8,
        "execution_start": 1618793072905,
        "deepnote_cell_type": "code"
      },
      "source": "# 14 - Calculate and display the mean tuition of these 20 observations\n\naverage_tutionfee = df_random['TUITIONFEE_IN'].mean()\nprint('The mean tution fees of these 20 observations is :', average_tutionfee)",
      "execution_count": 17,
      "outputs": [
        {
          "name": "stdout",
          "text": "The mean tution fees of these 20 observations is : 20643.45\n",
          "output_type": "stream"
        }
      ]
    },
    {
      "cell_type": "code",
      "metadata": {
        "id": "7qZe_Xn-6oKE",
        "cell_id": "00014-32a8cd9b-a81b-4648-917d-cf75ba0395b9",
        "deepnote_to_be_reexecuted": false,
        "source_hash": "45f67615",
        "execution_millis": 7,
        "execution_start": 1618793072906,
        "deepnote_cell_type": "code"
      },
      "source": "# 15 - Calculate  the different between the average tuition of these 20 observations \n# and the mean tuition off all observations calculated earlier.\n# Display the difference\n\nmean_difference = tuitionfee_avg - average_tutionfee\nprint('Difference in mean of avg tution of these samples tuition and average overall tuition is:', round(mean_difference, 3),'$')\n",
      "execution_count": 18,
      "outputs": [
        {
          "name": "stdout",
          "text": "Difference in mean of avg tution of these samples tuition and average overall tuition is: -6150.938 $\n",
          "output_type": "stream"
        }
      ]
    },
    {
      "cell_type": "code",
      "metadata": {
        "id": "V7xgI6GU6oKH",
        "cell_id": "00015-2c7ac5c0-e9d6-4272-99f2-005ca2f1a451",
        "deepnote_to_be_reexecuted": false,
        "source_hash": "c146d773",
        "execution_millis": 20,
        "execution_start": 1618793072907,
        "deepnote_cell_type": "code"
      },
      "source": "# 16 - Repeat 13 to 15 several times and get the feel of the size of the difference in means \n# Compare these differences with the differences calculated earlier with just 1 observation\n# Describe your hunch/conclusion\n\ndf_random_2 = cleaned_df.sample(20) #Randomly select 20 samples data\n\naverage_tutionfee_2 = df_random_2['TUITIONFEE_IN'].mean() #store their mean tutionfees in  a variable\naverage_tutionfee_2\n\nmean_difference_2 = tuitionfee_avg - average_tutionfee_2 #mean difference\n\nprint(df_random_2.head(5))\nprint('Difference in mean of avg tution of these samples tuition and average overall tuition is:', round(mean_difference_2, 3), '$')",
      "execution_count": 19,
      "outputs": [
        {
          "name": "stdout",
          "text": "                                     INSTNM  TUITIONFEE_IN\n3719           Brown Mackie College-Phoenix        12672.0\n1195  University of Massachusetts-Dartmouth        12588.0\n2140                 Daymar College-Jackson        17000.0\n5                 The University of Alabama        10170.0\n3132         McNally Smith College of Music        26640.0\nDifference in mean of avg tution of these samples tuition and average overall tuition is: -2542.288 $\n",
          "output_type": "stream"
        }
      ]
    },
    {
      "cell_type": "code",
      "metadata": {
        "tags": [],
        "cell_id": "00017-9686b3a3-0088-4fed-bc8a-b73e8e2bf27b",
        "deepnote_to_be_reexecuted": false,
        "source_hash": "825caec1",
        "execution_millis": 13,
        "execution_start": 1618793072915,
        "deepnote_cell_type": "code"
      },
      "source": "df_random_3 = cleaned_df.sample(20) #Randomly select 20 samples data\n\naverage_tutionfee_3 = df_random_3['TUITIONFEE_IN'].mean() #store their mean tutionfees in  a variable\naverage_tutionfee_3\n\nmean_difference_3 = tuitionfee_avg - average_tutionfee_3 #mean difference\n\nprint(df_random_3.head(5))\nprint('Difference in mean of avg tution of these samples tuition and average overall tuition is:', round(mean_difference_3, 3),'$')",
      "execution_count": 20,
      "outputs": [
        {
          "name": "stdout",
          "text": "                                           INSTNM  TUITIONFEE_IN\n3717  Polytechnic University of Puerto Rico-Miami        11925.0\n3516            Fortis Institute-Port Saint Lucie        14300.0\n1817          SUNY College of Technology at Delhi         7855.0\n1430                  Missouri Baptist University        23886.0\n1675             Metropolitan College of New York        18030.0\nDifference in mean of avg tution of these samples tuition and average overall tuition is: 1873.762 $\n",
          "output_type": "stream"
        }
      ]
    },
    {
      "cell_type": "markdown",
      "source": "",
      "metadata": {
        "tags": [],
        "cell_id": "00018-d50dbbd0-371e-4b60-b7f1-0a2e382129d5",
        "deepnote_cell_type": "markdown"
      }
    },
    {
      "cell_type": "markdown",
      "source": "### Describe your hunch/conclusion ###\n\nWhen calculated the difference between one random sample tution fee and mean tution fees the values generated were very high i.e. 4139.179 $, 5449.179 $, 6984.179 $ \nand when caluclated for 20 random samples the difference between that and mean tution fees \nwas very less value comparitively i.e 76.579$ ,1307.879$ , -980.321$ where the mean sample tution fee was greater than the actual mean . So with this observation we can draw a conclusion that :\n\n* The mean difference is indirectly proportional to the number of samples selected randomly i.e more the number of samples less the difference and vice versa.\n* If a sample consists of almost all the schools data then the mean difference would be close to zero.",
      "metadata": {
        "tags": [],
        "cell_id": "00020-da3191c9-7b2c-40cd-a8c8-02504918a9e5",
        "deepnote_cell_type": "markdown"
      }
    },
    {
      "cell_type": "markdown",
      "source": "Write a function that take two input parameters:\n- x (number of observations) \n- y (the name of the dataframe). \n\nThe function will perform the following: \n- Randomly select x observations from y\n- Calculate the mean of these x observations \n- Calculate the mean of all observations\n- Calculate the difference between the two means \n- Return the difference",
      "metadata": {
        "id": "0i4lLySc6oKK",
        "cell_id": "00016-ab123f56-a29f-477f-8ee2-f1d280cdda2a",
        "deepnote_cell_type": "markdown"
      }
    },
    {
      "cell_type": "code",
      "metadata": {
        "id": "ZblkuSq46oKL",
        "cell_id": "00017-4898cfcd-539d-4a2f-b7d9-a31322a8b875",
        "deepnote_to_be_reexecuted": false,
        "source_hash": "aaafa765",
        "execution_millis": 1,
        "execution_start": 1618793072921,
        "deepnote_cell_type": "code"
      },
      "source": "# 17 - write function Code here\ndef mean_difference(sample, df):  #sample = number of samples and df = df_name\n    mean_df = df.mean() \n    random_df = df.sample(sample)\n    mean_random_df = random_df.mean()\n    difference = mean_df - mean_random_df\n    print('the Mean Difference is:', round(difference, 3),'$' )",
      "execution_count": 21,
      "outputs": []
    },
    {
      "cell_type": "code",
      "metadata": {
        "id": "rCtsaGCy6oKN",
        "cell_id": "00018-a685ee93-d15d-4718-8e30-888510133692",
        "deepnote_to_be_reexecuted": false,
        "source_hash": "43273d02",
        "execution_millis": 88,
        "execution_start": 1618793072924,
        "deepnote_cell_type": "code"
      },
      "source": "# 18 - test the function by passing a sample size and the name of the dataframe\n# Display the return of the function\n\nmean_difference(100, cleaned_df)\n\nmean_difference(3000, cleaned_df)\n\nmean_difference(3500, cleaned_df)\n",
      "execution_count": 22,
      "outputs": [
        {
          "name": "stdout",
          "text": "the Mean Difference is: TUITIONFEE_IN   -1934.628\ndtype: float64 $\nthe Mean Difference is: TUITIONFEE_IN   -63.122\ndtype: float64 $\nthe Mean Difference is: TUITIONFEE_IN    1.366\ndtype: float64 $\n",
          "output_type": "stream"
        }
      ]
    },
    {
      "cell_type": "code",
      "metadata": {
        "id": "0I58wyGH6oKP",
        "cell_id": "00019-fc47be2e-9714-4872-b8c3-d52768910140",
        "deepnote_to_be_reexecuted": false,
        "source_hash": "a54e0829",
        "execution_millis": 37,
        "execution_start": 1618793073015,
        "deepnote_cell_type": "code"
      },
      "source": "# 19 - Create a list of sequence numbers from 1 to 50, name it \"sample_sizes\";\n# display it to make sure its members are from 1 to 50\nsample_sizes = list(range(1,51)) #using range for sequenc\nprint(sample_sizes)",
      "execution_count": 23,
      "outputs": [
        {
          "name": "stdout",
          "text": "[1, 2, 3, 4, 5, 6, 7, 8, 9, 10, 11, 12, 13, 14, 15, 16, 17, 18, 19, 20, 21, 22, 23, 24, 25, 26, 27, 28, 29, 30, 31, 32, 33, 34, 35, 36, 37, 38, 39, 40, 41, 42, 43, 44, 45, 46, 47, 48, 49, 50]\n",
          "output_type": "stream"
        }
      ]
    },
    {
      "cell_type": "code",
      "metadata": {
        "id": "sBWwbejh6oKR",
        "cell_id": "00020-65bc60df-b63c-4d3b-a965-f9bbd7a4d477",
        "deepnote_to_be_reexecuted": false,
        "source_hash": "4ae8ce89",
        "execution_millis": 21,
        "execution_start": 1618793073031,
        "deepnote_cell_type": "code"
      },
      "source": "# 20 - Create an empty list and name it \"means_diff\" for differences of population mean and sample means\n# Loop through the list sample_sizes:\n# For each element in the sample size list, obtain a random sample of that size from the data frame;\n# Calculate the sample mean \n# Calculate the difference between the population mean and the sample mean\n# Append the difference to the list \"means_diff\"\n# Display the list \"means_diff\" after the loop is completed\n\nmeans_diff = []\n\ndef Mean_calculator(input_value): # function to calculate the average\n    mean = sum(input_value) / len(input_value)\n    return mean\n\nfor i in sample_sizes:\n    sample = random.sample(sample_sizes, i)\n    samples_mean = Mean_calculator(sample)\n    mean_difference = (Mean_calculator(sample_sizes) - samples_mean)\n    means_diff.append(round(mean_difference,2))\n\nprint(means_diff)",
      "execution_count": 24,
      "outputs": [
        {
          "name": "stdout",
          "text": "[-4.5, 9.5, 10.17, 7.5, 10.5, -6.67, 13.93, -8.62, -0.83, -0.7, 2.5, -7.08, -2.96, 3.29, -1.77, -2.19, -1.26, 3.33, 3.97, 1.4, -5.21, 3.5, 3.28, 0.38, 1.3, -3.38, -1.06, 0.46, -0.26, -1.07, 1.31, 3.0, 1.53, 2.03, 0.1, -0.86, 1.34, -0.5, -0.12, -0.7, -0.52, 0.43, -0.9, 1.84, 0.68, 0.61, -0.14, 0.6, 0.09, 0.0]\n",
          "output_type": "stream"
        }
      ]
    },
    {
      "cell_type": "code",
      "metadata": {
        "id": "CZxUYK6b6oKU",
        "cell_id": "00021-586701ca-6cab-4b27-b4ac-022303d29178",
        "deepnote_to_be_reexecuted": false,
        "source_hash": "5b23646a",
        "execution_millis": 1859,
        "execution_start": 1618793073031,
        "deepnote_cell_type": "code"
      },
      "source": "# 21 - Make a scatter plot with sample size on the x-axs and  mean difference on the y-axis\n# Observe as the sample size increases, the sample means converge to the population mean.\n# Make sure you make the plot large enough \n\nfig = px.scatter(cleaned_df, x=sample_sizes, y=means_diff,title='Sample Size vs Mean Difference (Sample Size of 50)',labels={\n                     'x' : \"Sample sizes\",\n                     'y'  : \"Means difference\"\n                 })\n\nfig.show()\n",
      "execution_count": 25,
      "outputs": [
        {
          "data": {
            "text/html": "<html>\n<head><meta charset=\"utf-8\" /></head>\n<body>\n    <div>            <script src=\"https://cdnjs.cloudflare.com/ajax/libs/mathjax/2.7.5/MathJax.js?config=TeX-AMS-MML_SVG\"></script><script type=\"text/javascript\">if (window.MathJax) {MathJax.Hub.Config({SVG: {font: \"STIX-Web\"}});}</script>                <script type=\"text/javascript\">window.PlotlyConfig = {MathJaxConfig: 'local'};</script>\n        <script src=\"https://cdn.plot.ly/plotly-latest.min.js\"></script>                <div id=\"54169e30-d4c9-48b0-8656-30d78b12fe4d\" class=\"plotly-graph-div\" style=\"height:525px; width:100%;\"></div>            <script type=\"text/javascript\">                                    window.PLOTLYENV=window.PLOTLYENV || {};                                    if (document.getElementById(\"54169e30-d4c9-48b0-8656-30d78b12fe4d\")) {                    Plotly.newPlot(                        \"54169e30-d4c9-48b0-8656-30d78b12fe4d\",                        [{\"hovertemplate\": \"Sample sizes=%{x}<br>Means difference=%{y}<extra></extra>\", \"legendgroup\": \"\", \"marker\": {\"color\": \"#636efa\", \"symbol\": \"circle\"}, \"mode\": \"markers\", \"name\": \"\", \"orientation\": \"v\", \"showlegend\": false, \"type\": \"scatter\", \"x\": [1, 2, 3, 4, 5, 6, 7, 8, 9, 10, 11, 12, 13, 14, 15, 16, 17, 18, 19, 20, 21, 22, 23, 24, 25, 26, 27, 28, 29, 30, 31, 32, 33, 34, 35, 36, 37, 38, 39, 40, 41, 42, 43, 44, 45, 46, 47, 48, 49, 50], \"xaxis\": \"x\", \"y\": [-4.5, 9.5, 10.17, 7.5, 10.5, -6.67, 13.93, -8.62, -0.83, -0.7, 2.5, -7.08, -2.96, 3.29, -1.77, -2.19, -1.26, 3.33, 3.97, 1.4, -5.21, 3.5, 3.28, 0.38, 1.3, -3.38, -1.06, 0.46, -0.26, -1.07, 1.31, 3.0, 1.53, 2.03, 0.1, -0.86, 1.34, -0.5, -0.12, -0.7, -0.52, 0.43, -0.9, 1.84, 0.68, 0.61, -0.14, 0.6, 0.09, 0.0], \"yaxis\": \"y\"}],                        {\"legend\": {\"tracegroupgap\": 0}, \"template\": {\"data\": {\"bar\": [{\"error_x\": {\"color\": \"#2a3f5f\"}, \"error_y\": {\"color\": \"#2a3f5f\"}, \"marker\": {\"line\": {\"color\": \"#E5ECF6\", \"width\": 0.5}}, \"type\": \"bar\"}], \"barpolar\": [{\"marker\": {\"line\": {\"color\": \"#E5ECF6\", \"width\": 0.5}}, \"type\": \"barpolar\"}], \"carpet\": [{\"aaxis\": {\"endlinecolor\": \"#2a3f5f\", \"gridcolor\": \"white\", \"linecolor\": \"white\", \"minorgridcolor\": \"white\", \"startlinecolor\": \"#2a3f5f\"}, \"baxis\": {\"endlinecolor\": \"#2a3f5f\", \"gridcolor\": \"white\", \"linecolor\": \"white\", \"minorgridcolor\": \"white\", \"startlinecolor\": \"#2a3f5f\"}, \"type\": \"carpet\"}], \"choropleth\": [{\"colorbar\": {\"outlinewidth\": 0, \"ticks\": \"\"}, \"type\": \"choropleth\"}], \"contour\": [{\"colorbar\": {\"outlinewidth\": 0, \"ticks\": \"\"}, \"colorscale\": [[0.0, \"#0d0887\"], [0.1111111111111111, \"#46039f\"], [0.2222222222222222, \"#7201a8\"], [0.3333333333333333, \"#9c179e\"], [0.4444444444444444, \"#bd3786\"], [0.5555555555555556, \"#d8576b\"], [0.6666666666666666, \"#ed7953\"], [0.7777777777777778, \"#fb9f3a\"], [0.8888888888888888, \"#fdca26\"], [1.0, \"#f0f921\"]], \"type\": \"contour\"}], \"contourcarpet\": [{\"colorbar\": {\"outlinewidth\": 0, \"ticks\": \"\"}, \"type\": \"contourcarpet\"}], \"heatmap\": [{\"colorbar\": {\"outlinewidth\": 0, \"ticks\": \"\"}, \"colorscale\": [[0.0, \"#0d0887\"], [0.1111111111111111, \"#46039f\"], [0.2222222222222222, \"#7201a8\"], [0.3333333333333333, \"#9c179e\"], [0.4444444444444444, \"#bd3786\"], [0.5555555555555556, \"#d8576b\"], [0.6666666666666666, \"#ed7953\"], [0.7777777777777778, \"#fb9f3a\"], [0.8888888888888888, \"#fdca26\"], [1.0, \"#f0f921\"]], \"type\": \"heatmap\"}], \"heatmapgl\": [{\"colorbar\": {\"outlinewidth\": 0, \"ticks\": \"\"}, \"colorscale\": [[0.0, \"#0d0887\"], [0.1111111111111111, \"#46039f\"], [0.2222222222222222, \"#7201a8\"], [0.3333333333333333, \"#9c179e\"], [0.4444444444444444, \"#bd3786\"], [0.5555555555555556, \"#d8576b\"], [0.6666666666666666, \"#ed7953\"], [0.7777777777777778, \"#fb9f3a\"], [0.8888888888888888, \"#fdca26\"], [1.0, \"#f0f921\"]], \"type\": \"heatmapgl\"}], \"histogram\": [{\"marker\": {\"colorbar\": {\"outlinewidth\": 0, \"ticks\": \"\"}}, \"type\": \"histogram\"}], \"histogram2d\": [{\"colorbar\": {\"outlinewidth\": 0, \"ticks\": \"\"}, \"colorscale\": [[0.0, \"#0d0887\"], [0.1111111111111111, \"#46039f\"], [0.2222222222222222, \"#7201a8\"], [0.3333333333333333, \"#9c179e\"], [0.4444444444444444, \"#bd3786\"], [0.5555555555555556, \"#d8576b\"], [0.6666666666666666, \"#ed7953\"], [0.7777777777777778, \"#fb9f3a\"], [0.8888888888888888, \"#fdca26\"], [1.0, \"#f0f921\"]], \"type\": \"histogram2d\"}], \"histogram2dcontour\": [{\"colorbar\": {\"outlinewidth\": 0, \"ticks\": \"\"}, \"colorscale\": [[0.0, \"#0d0887\"], [0.1111111111111111, \"#46039f\"], [0.2222222222222222, \"#7201a8\"], [0.3333333333333333, \"#9c179e\"], [0.4444444444444444, \"#bd3786\"], [0.5555555555555556, \"#d8576b\"], [0.6666666666666666, \"#ed7953\"], [0.7777777777777778, \"#fb9f3a\"], [0.8888888888888888, \"#fdca26\"], [1.0, \"#f0f921\"]], \"type\": \"histogram2dcontour\"}], \"mesh3d\": [{\"colorbar\": {\"outlinewidth\": 0, \"ticks\": \"\"}, \"type\": \"mesh3d\"}], \"parcoords\": [{\"line\": {\"colorbar\": {\"outlinewidth\": 0, \"ticks\": \"\"}}, \"type\": \"parcoords\"}], \"pie\": [{\"automargin\": true, \"type\": \"pie\"}], \"scatter\": [{\"marker\": {\"colorbar\": {\"outlinewidth\": 0, \"ticks\": \"\"}}, \"type\": \"scatter\"}], \"scatter3d\": [{\"line\": {\"colorbar\": {\"outlinewidth\": 0, \"ticks\": \"\"}}, \"marker\": {\"colorbar\": {\"outlinewidth\": 0, \"ticks\": \"\"}}, \"type\": \"scatter3d\"}], \"scattercarpet\": [{\"marker\": {\"colorbar\": {\"outlinewidth\": 0, \"ticks\": \"\"}}, \"type\": \"scattercarpet\"}], \"scattergeo\": [{\"marker\": {\"colorbar\": {\"outlinewidth\": 0, \"ticks\": \"\"}}, \"type\": \"scattergeo\"}], \"scattergl\": [{\"marker\": {\"colorbar\": {\"outlinewidth\": 0, \"ticks\": \"\"}}, \"type\": \"scattergl\"}], \"scattermapbox\": [{\"marker\": {\"colorbar\": {\"outlinewidth\": 0, \"ticks\": \"\"}}, \"type\": \"scattermapbox\"}], \"scatterpolar\": [{\"marker\": {\"colorbar\": {\"outlinewidth\": 0, \"ticks\": \"\"}}, \"type\": \"scatterpolar\"}], \"scatterpolargl\": [{\"marker\": {\"colorbar\": {\"outlinewidth\": 0, \"ticks\": \"\"}}, \"type\": \"scatterpolargl\"}], \"scatterternary\": [{\"marker\": {\"colorbar\": {\"outlinewidth\": 0, \"ticks\": \"\"}}, \"type\": \"scatterternary\"}], \"surface\": [{\"colorbar\": {\"outlinewidth\": 0, \"ticks\": \"\"}, \"colorscale\": [[0.0, \"#0d0887\"], [0.1111111111111111, \"#46039f\"], [0.2222222222222222, \"#7201a8\"], [0.3333333333333333, \"#9c179e\"], [0.4444444444444444, \"#bd3786\"], [0.5555555555555556, \"#d8576b\"], [0.6666666666666666, \"#ed7953\"], [0.7777777777777778, \"#fb9f3a\"], [0.8888888888888888, \"#fdca26\"], [1.0, \"#f0f921\"]], \"type\": \"surface\"}], \"table\": [{\"cells\": {\"fill\": {\"color\": \"#EBF0F8\"}, \"line\": {\"color\": \"white\"}}, \"header\": {\"fill\": {\"color\": \"#C8D4E3\"}, \"line\": {\"color\": \"white\"}}, \"type\": \"table\"}]}, \"layout\": {\"annotationdefaults\": {\"arrowcolor\": \"#2a3f5f\", \"arrowhead\": 0, \"arrowwidth\": 1}, \"autotypenumbers\": \"strict\", \"coloraxis\": {\"colorbar\": {\"outlinewidth\": 0, \"ticks\": \"\"}}, \"colorscale\": {\"diverging\": [[0, \"#8e0152\"], [0.1, \"#c51b7d\"], [0.2, \"#de77ae\"], [0.3, \"#f1b6da\"], [0.4, \"#fde0ef\"], [0.5, \"#f7f7f7\"], [0.6, \"#e6f5d0\"], [0.7, \"#b8e186\"], [0.8, \"#7fbc41\"], [0.9, \"#4d9221\"], [1, \"#276419\"]], \"sequential\": [[0.0, \"#0d0887\"], [0.1111111111111111, \"#46039f\"], [0.2222222222222222, \"#7201a8\"], [0.3333333333333333, \"#9c179e\"], [0.4444444444444444, \"#bd3786\"], [0.5555555555555556, \"#d8576b\"], [0.6666666666666666, \"#ed7953\"], [0.7777777777777778, \"#fb9f3a\"], [0.8888888888888888, \"#fdca26\"], [1.0, \"#f0f921\"]], \"sequentialminus\": [[0.0, \"#0d0887\"], [0.1111111111111111, \"#46039f\"], [0.2222222222222222, \"#7201a8\"], [0.3333333333333333, \"#9c179e\"], [0.4444444444444444, \"#bd3786\"], [0.5555555555555556, \"#d8576b\"], [0.6666666666666666, \"#ed7953\"], [0.7777777777777778, \"#fb9f3a\"], [0.8888888888888888, \"#fdca26\"], [1.0, \"#f0f921\"]]}, \"colorway\": [\"#636efa\", \"#EF553B\", \"#00cc96\", \"#ab63fa\", \"#FFA15A\", \"#19d3f3\", \"#FF6692\", \"#B6E880\", \"#FF97FF\", \"#FECB52\"], \"font\": {\"color\": \"#2a3f5f\"}, \"geo\": {\"bgcolor\": \"white\", \"lakecolor\": \"white\", \"landcolor\": \"#E5ECF6\", \"showlakes\": true, \"showland\": true, \"subunitcolor\": \"white\"}, \"hoverlabel\": {\"align\": \"left\"}, \"hovermode\": \"closest\", \"mapbox\": {\"style\": \"light\"}, \"paper_bgcolor\": \"white\", \"plot_bgcolor\": \"#E5ECF6\", \"polar\": {\"angularaxis\": {\"gridcolor\": \"white\", \"linecolor\": \"white\", \"ticks\": \"\"}, \"bgcolor\": \"#E5ECF6\", \"radialaxis\": {\"gridcolor\": \"white\", \"linecolor\": \"white\", \"ticks\": \"\"}}, \"scene\": {\"xaxis\": {\"backgroundcolor\": \"#E5ECF6\", \"gridcolor\": \"white\", \"gridwidth\": 2, \"linecolor\": \"white\", \"showbackground\": true, \"ticks\": \"\", \"zerolinecolor\": \"white\"}, \"yaxis\": {\"backgroundcolor\": \"#E5ECF6\", \"gridcolor\": \"white\", \"gridwidth\": 2, \"linecolor\": \"white\", \"showbackground\": true, \"ticks\": \"\", \"zerolinecolor\": \"white\"}, \"zaxis\": {\"backgroundcolor\": \"#E5ECF6\", \"gridcolor\": \"white\", \"gridwidth\": 2, \"linecolor\": \"white\", \"showbackground\": true, \"ticks\": \"\", \"zerolinecolor\": \"white\"}}, \"shapedefaults\": {\"line\": {\"color\": \"#2a3f5f\"}}, \"ternary\": {\"aaxis\": {\"gridcolor\": \"white\", \"linecolor\": \"white\", \"ticks\": \"\"}, \"baxis\": {\"gridcolor\": \"white\", \"linecolor\": \"white\", \"ticks\": \"\"}, \"bgcolor\": \"#E5ECF6\", \"caxis\": {\"gridcolor\": \"white\", \"linecolor\": \"white\", \"ticks\": \"\"}}, \"title\": {\"x\": 0.05}, \"xaxis\": {\"automargin\": true, \"gridcolor\": \"white\", \"linecolor\": \"white\", \"ticks\": \"\", \"title\": {\"standoff\": 15}, \"zerolinecolor\": \"white\", \"zerolinewidth\": 2}, \"yaxis\": {\"automargin\": true, \"gridcolor\": \"white\", \"linecolor\": \"white\", \"ticks\": \"\", \"title\": {\"standoff\": 15}, \"zerolinecolor\": \"white\", \"zerolinewidth\": 2}}}, \"title\": {\"text\": \"Sample Size vs Mean Difference (Sample Size of 50)\"}, \"xaxis\": {\"anchor\": \"y\", \"domain\": [0.0, 1.0], \"title\": {\"text\": \"Sample sizes\"}}, \"yaxis\": {\"anchor\": \"x\", \"domain\": [0.0, 1.0], \"title\": {\"text\": \"Means difference\"}}},                        {\"responsive\": true}                    ).then(function(){\n                            \nvar gd = document.getElementById('54169e30-d4c9-48b0-8656-30d78b12fe4d');\nvar x = new MutationObserver(function (mutations, observer) {{\n        var display = window.getComputedStyle(gd).display;\n        if (!display || display === 'none') {{\n            console.log([gd, 'removed!']);\n            Plotly.purge(gd);\n            observer.disconnect();\n        }}\n}});\n\n// Listen for the removal of the full notebook cells\nvar notebookContainer = gd.closest('#notebook-container');\nif (notebookContainer) {{\n    x.observe(notebookContainer, {childList: true});\n}}\n\n// Listen for the clearing of the current output cell\nvar outputEl = gd.closest('.output');\nif (outputEl) {{\n    x.observe(outputEl, {childList: true});\n}}\n\n                        })                };                            </script>        </div>\n</body>\n</html>"
          },
          "metadata": {},
          "output_type": "display_data"
        }
      ]
    },
    {
      "cell_type": "code",
      "metadata": {
        "id": "tD8z_VyB6oKW",
        "cell_id": "00022-fdb3ed5e-f67d-469e-bd64-e18452801ca5",
        "deepnote_to_be_reexecuted": false,
        "source_hash": "1205e3f0",
        "execution_millis": 86,
        "execution_start": 1618793074944,
        "deepnote_cell_type": "code"
      },
      "source": "# 22 - repeat 18 to 21 by replacing 50 with a larger number. For example, 300, or even 1000.\n# and see how the plot looks.\n\n# sample size of 300\n\nsample_sizes_500 = list(range(1,501))\n\nmeans_difference_500 = []\n\nfor i in sample_sizes_500:\n    sample_500 = random.sample(sample_sizes_500, i)\n    sample_avg_500 = Mean_calculator(sample_500)\n    avg_diff_500 = Mean_calculator(sample_sizes_500) - sample_avg_500\n    means_difference_500.append(round(avg_diff_500,3))\n    \n\nfig = px.scatter(cleaned_df, x=sample_sizes_500, y=means_difference_500,title='Sample Size vs Mean Difference (Sample Size of 500)',labels={\n                     'x' : \"Sample sizes 500\",\n                     'y'  : \"Means difference 500\"\n                 })\n\nfig.show()",
      "execution_count": 26,
      "outputs": [
        {
          "data": {
            "text/html": "<html>\n<head><meta charset=\"utf-8\" /></head>\n<body>\n    <div>            <script src=\"https://cdnjs.cloudflare.com/ajax/libs/mathjax/2.7.5/MathJax.js?config=TeX-AMS-MML_SVG\"></script><script type=\"text/javascript\">if (window.MathJax) {MathJax.Hub.Config({SVG: {font: \"STIX-Web\"}});}</script>                <script type=\"text/javascript\">window.PlotlyConfig = {MathJaxConfig: 'local'};</script>\n        <script src=\"https://cdn.plot.ly/plotly-latest.min.js\"></script>                <div id=\"799f0e7d-662a-4da9-aca1-dc4f117c1636\" class=\"plotly-graph-div\" style=\"height:525px; width:100%;\"></div>            <script type=\"text/javascript\">                                    window.PLOTLYENV=window.PLOTLYENV || {};                                    if (document.getElementById(\"799f0e7d-662a-4da9-aca1-dc4f117c1636\")) {                    Plotly.newPlot(                        \"799f0e7d-662a-4da9-aca1-dc4f117c1636\",                        [{\"hovertemplate\": \"Sample sizes 500=%{x}<br>Means difference 500=%{y}<extra></extra>\", \"legendgroup\": \"\", \"marker\": {\"color\": \"#636efa\", \"symbol\": \"circle\"}, \"mode\": \"markers\", \"name\": \"\", \"orientation\": \"v\", \"showlegend\": false, \"type\": \"scatter\", \"x\": [1, 2, 3, 4, 5, 6, 7, 8, 9, 10, 11, 12, 13, 14, 15, 16, 17, 18, 19, 20, 21, 22, 23, 24, 25, 26, 27, 28, 29, 30, 31, 32, 33, 34, 35, 36, 37, 38, 39, 40, 41, 42, 43, 44, 45, 46, 47, 48, 49, 50, 51, 52, 53, 54, 55, 56, 57, 58, 59, 60, 61, 62, 63, 64, 65, 66, 67, 68, 69, 70, 71, 72, 73, 74, 75, 76, 77, 78, 79, 80, 81, 82, 83, 84, 85, 86, 87, 88, 89, 90, 91, 92, 93, 94, 95, 96, 97, 98, 99, 100, 101, 102, 103, 104, 105, 106, 107, 108, 109, 110, 111, 112, 113, 114, 115, 116, 117, 118, 119, 120, 121, 122, 123, 124, 125, 126, 127, 128, 129, 130, 131, 132, 133, 134, 135, 136, 137, 138, 139, 140, 141, 142, 143, 144, 145, 146, 147, 148, 149, 150, 151, 152, 153, 154, 155, 156, 157, 158, 159, 160, 161, 162, 163, 164, 165, 166, 167, 168, 169, 170, 171, 172, 173, 174, 175, 176, 177, 178, 179, 180, 181, 182, 183, 184, 185, 186, 187, 188, 189, 190, 191, 192, 193, 194, 195, 196, 197, 198, 199, 200, 201, 202, 203, 204, 205, 206, 207, 208, 209, 210, 211, 212, 213, 214, 215, 216, 217, 218, 219, 220, 221, 222, 223, 224, 225, 226, 227, 228, 229, 230, 231, 232, 233, 234, 235, 236, 237, 238, 239, 240, 241, 242, 243, 244, 245, 246, 247, 248, 249, 250, 251, 252, 253, 254, 255, 256, 257, 258, 259, 260, 261, 262, 263, 264, 265, 266, 267, 268, 269, 270, 271, 272, 273, 274, 275, 276, 277, 278, 279, 280, 281, 282, 283, 284, 285, 286, 287, 288, 289, 290, 291, 292, 293, 294, 295, 296, 297, 298, 299, 300, 301, 302, 303, 304, 305, 306, 307, 308, 309, 310, 311, 312, 313, 314, 315, 316, 317, 318, 319, 320, 321, 322, 323, 324, 325, 326, 327, 328, 329, 330, 331, 332, 333, 334, 335, 336, 337, 338, 339, 340, 341, 342, 343, 344, 345, 346, 347, 348, 349, 350, 351, 352, 353, 354, 355, 356, 357, 358, 359, 360, 361, 362, 363, 364, 365, 366, 367, 368, 369, 370, 371, 372, 373, 374, 375, 376, 377, 378, 379, 380, 381, 382, 383, 384, 385, 386, 387, 388, 389, 390, 391, 392, 393, 394, 395, 396, 397, 398, 399, 400, 401, 402, 403, 404, 405, 406, 407, 408, 409, 410, 411, 412, 413, 414, 415, 416, 417, 418, 419, 420, 421, 422, 423, 424, 425, 426, 427, 428, 429, 430, 431, 432, 433, 434, 435, 436, 437, 438, 439, 440, 441, 442, 443, 444, 445, 446, 447, 448, 449, 450, 451, 452, 453, 454, 455, 456, 457, 458, 459, 460, 461, 462, 463, 464, 465, 466, 467, 468, 469, 470, 471, 472, 473, 474, 475, 476, 477, 478, 479, 480, 481, 482, 483, 484, 485, 486, 487, 488, 489, 490, 491, 492, 493, 494, 495, 496, 497, 498, 499, 500], \"xaxis\": \"x\", \"y\": [147.5, -11.0, 32.167, 21.0, -15.5, 101.0, 62.786, -16.25, -8.611, 19.9, 13.864, -38.417, -83.654, 46.214, 45.167, -65.0, -44.5, -13.278, 1.816, 11.25, -10.786, -7.591, -17.109, -23.875, -3.3, 82.615, -33.833, -23.5, -64.569, -40.867, 44.403, -2.25, 7.167, -27.0, -7.986, 2.722, 19.338, -11.395, -0.244, 8.65, 7.183, -1.214, 2.872, 0.114, 23.744, 20.152, 0.351, -2.0, -6.908, 9.68, 19.069, 24.346, 14.991, -13.926, -31.082, -24.339, -9.851, 5.172, 20.602, 26.417, 23.631, -7.952, 6.071, -12.453, -1.362, 15.97, 11.246, 0.176, -9.225, -18.343, -5.162, 9.361, -29.993, -5.622, -0.433, -19.618, -14.097, -35.628, -2.449, 9.2, -8.438, 3.695, -6.596, -31.345, -14.265, 9.651, 26.443, 7.318, -24.994, -9.722, -1.709, 23.587, -9.876, -10.596, 18.805, 1.604, 1.49, -17.694, 5.167, 3.95, 2.797, 24.176, -13.578, -14.154, 2.624, 6.689, -7.883, -19.731, 4.261, 15.955, 21.338, 4.098, 9.367, -25.465, 4.787, 12.466, 2.893, -4.322, -31.155, -13.358, -25.971, -4.369, 16.947, 3.274, 13.18, -6.746, 11.138, 6.414, 8.089, -3.346, -15.027, -18.962, 21.959, 13.291, 10.626, 11.926, 9.872, 5.587, 10.112, -4.486, -3.571, 0.423, -0.311, -6.924, 2.569, 6.466, 12.534, -4.264, -5.795, 1.02, -2.348, -3.257, -1.408, 8.325, -11.726, -5.314, -20.596, -4.487, 0.531, 5.056, 5.5, -7.093, -13.347, -3.47, -1.967, 0.006, 3.979, -18.452, -7.908, -2.0, 15.406, -2.105, -6.777, -11.103, 7.237, 5.477, 0.59, -3.371, 4.372, 10.828, -8.749, 3.973, -12.751, -13.614, -4.349, -11.065, -1.971, 1.41, -4.616, -3.105, -5.699, -11.776, 5.93, 1.732, 6.233, -14.214, 7.398, -17.121, 9.907, -5.85, 6.012, -13.782, 2.648, 2.637, -1.593, 3.816, 9.341, 2.438, 2.189, -3.048, 7.192, -3.849, 12.974, 3.593, 12.5, 8.727, 10.73, -9.298, -5.495, 4.368, -4.373, 2.725, -0.818, -1.607, -3.998, -1.686, 2.606, 7.82, -5.303, 12.887, 7.591, 6.543, 3.753, -11.184, 1.377, -1.064, 5.618, 0.58, 6.609, -8.125, 7.533, 11.607, -13.006, 9.693, -8.349, -6.118, -0.727, -2.867, 1.857, 4.0, 3.612, -0.556, 1.895, 0.173, 0.786, -5.32, -10.411, -5.171, -8.473, 5.469, 2.021, -1.931, 2.489, -5.068, 8.077, 2.199, 0.957, -3.41, 4.18, 4.048, 0.921, 4.941, -3.833, 2.934, 1.635, 1.58, -5.016, -4.022, 3.396, -0.593, -6.02, 2.44, -2.443, -14.775, 4.163, -0.685, 1.538, -2.688, 2.067, -1.645, 6.627, 1.123, -3.459, -1.67, 1.385, 2.99, 6.342, -3.594, 3.758, -5.013, -2.088, -6.556, -3.47, 13.536, -6.926, -3.078, 5.5, -5.221, -7.267, -2.387, -3.516, 1.391, -6.5, 2.618, 2.256, -10.712, -3.144, 2.821, 3.976, 2.359, -3.407, 6.885, 1.144, -0.679, 6.851, -2.632, 4.43, -5.037, -5.491, 5.012, 0.252, -2.386, 6.926, 0.593, -1.963, 3.866, -0.188, -7.107, -2.603, 2.332, 1.65, 3.497, 0.812, -4.032, -5.964, -3.676, -3.751, -1.239, 8.471, -9.389, 1.54, 2.321, 4.197, 3.006, 8.249, -2.101, -1.508, 4.821, -5.519, -3.492, 7.472, -1.367, 0.492, -5.052, 3.941, 2.91, -1.614, 6.552, -6.329, -1.446, -8.061, 0.739, -3.578, -4.57, -2.212, -3.277, 2.675, -0.198, -9.972, -2.816, -4.009, 7.455, -1.121, -1.052, -1.578, -3.402, -1.89, -0.541, 2.284, 1.326, -0.121, -6.564, -1.378, -2.284, 1.024, 3.735, -2.714, 5.008, 7.573, 0.718, 5.642, -3.333, -0.952, -2.428, -0.265, 2.135, -1.254, -0.025, -2.974, 5.839, 1.692, 3.772, 0.11, -3.355, -0.411, -1.865, 0.857, 1.462, 2.724, -0.969, -2.372, -1.763, 6.677, 1.802, -3.876, 3.871, -0.446, 1.367, 1.015, 0.695, -0.939, -1.053, 4.054, -2.647, 1.443, 0.261, 1.09, 2.587, 2.425, -3.232, 0.353, -0.629, 0.933, -2.164, 0.835, -0.641, 0.487, 2.48, 0.651, -0.416, 2.746, -0.144, -2.553, -0.637, 1.882, 0.292, 0.135, -0.764, -0.306, 2.146, 2.099, 0.885, 2.895, -0.636, 4.44, 2.481, -2.007, 1.368, 0.41, -0.521, 0.848, 2.879, -0.766, 0.643, -1.708, -2.708, -2.068, -0.255, -1.429, -0.871, 0.471, 1.328, -0.266, -0.095, -0.712, -1.101, -0.034, -1.277, 0.7, -0.069, -2.001, 0.837, -0.632, 0.476, -0.098, -0.613, 0.365, -0.05, 0.416, 0.0], \"yaxis\": \"y\"}],                        {\"legend\": {\"tracegroupgap\": 0}, \"template\": {\"data\": {\"bar\": [{\"error_x\": {\"color\": \"#2a3f5f\"}, \"error_y\": {\"color\": \"#2a3f5f\"}, \"marker\": {\"line\": {\"color\": \"#E5ECF6\", \"width\": 0.5}}, \"type\": \"bar\"}], \"barpolar\": [{\"marker\": {\"line\": {\"color\": \"#E5ECF6\", \"width\": 0.5}}, \"type\": \"barpolar\"}], \"carpet\": [{\"aaxis\": {\"endlinecolor\": \"#2a3f5f\", \"gridcolor\": \"white\", \"linecolor\": \"white\", \"minorgridcolor\": \"white\", \"startlinecolor\": \"#2a3f5f\"}, \"baxis\": {\"endlinecolor\": \"#2a3f5f\", \"gridcolor\": \"white\", \"linecolor\": \"white\", \"minorgridcolor\": \"white\", \"startlinecolor\": \"#2a3f5f\"}, \"type\": \"carpet\"}], \"choropleth\": [{\"colorbar\": {\"outlinewidth\": 0, \"ticks\": \"\"}, \"type\": \"choropleth\"}], \"contour\": [{\"colorbar\": {\"outlinewidth\": 0, \"ticks\": \"\"}, \"colorscale\": [[0.0, \"#0d0887\"], [0.1111111111111111, \"#46039f\"], [0.2222222222222222, \"#7201a8\"], [0.3333333333333333, \"#9c179e\"], [0.4444444444444444, \"#bd3786\"], [0.5555555555555556, \"#d8576b\"], [0.6666666666666666, \"#ed7953\"], [0.7777777777777778, \"#fb9f3a\"], [0.8888888888888888, \"#fdca26\"], [1.0, \"#f0f921\"]], \"type\": \"contour\"}], \"contourcarpet\": [{\"colorbar\": {\"outlinewidth\": 0, \"ticks\": \"\"}, \"type\": \"contourcarpet\"}], \"heatmap\": [{\"colorbar\": {\"outlinewidth\": 0, \"ticks\": \"\"}, \"colorscale\": [[0.0, \"#0d0887\"], [0.1111111111111111, \"#46039f\"], [0.2222222222222222, \"#7201a8\"], [0.3333333333333333, \"#9c179e\"], [0.4444444444444444, \"#bd3786\"], [0.5555555555555556, \"#d8576b\"], [0.6666666666666666, \"#ed7953\"], [0.7777777777777778, \"#fb9f3a\"], [0.8888888888888888, \"#fdca26\"], [1.0, \"#f0f921\"]], \"type\": \"heatmap\"}], \"heatmapgl\": [{\"colorbar\": {\"outlinewidth\": 0, \"ticks\": \"\"}, \"colorscale\": [[0.0, \"#0d0887\"], [0.1111111111111111, \"#46039f\"], [0.2222222222222222, \"#7201a8\"], [0.3333333333333333, \"#9c179e\"], [0.4444444444444444, \"#bd3786\"], [0.5555555555555556, \"#d8576b\"], [0.6666666666666666, \"#ed7953\"], [0.7777777777777778, \"#fb9f3a\"], [0.8888888888888888, \"#fdca26\"], [1.0, \"#f0f921\"]], \"type\": \"heatmapgl\"}], \"histogram\": [{\"marker\": {\"colorbar\": {\"outlinewidth\": 0, \"ticks\": \"\"}}, \"type\": \"histogram\"}], \"histogram2d\": [{\"colorbar\": {\"outlinewidth\": 0, \"ticks\": \"\"}, \"colorscale\": [[0.0, \"#0d0887\"], [0.1111111111111111, \"#46039f\"], [0.2222222222222222, \"#7201a8\"], [0.3333333333333333, \"#9c179e\"], [0.4444444444444444, \"#bd3786\"], [0.5555555555555556, \"#d8576b\"], [0.6666666666666666, \"#ed7953\"], [0.7777777777777778, \"#fb9f3a\"], [0.8888888888888888, \"#fdca26\"], [1.0, \"#f0f921\"]], \"type\": \"histogram2d\"}], \"histogram2dcontour\": [{\"colorbar\": {\"outlinewidth\": 0, \"ticks\": \"\"}, \"colorscale\": [[0.0, \"#0d0887\"], [0.1111111111111111, \"#46039f\"], [0.2222222222222222, \"#7201a8\"], [0.3333333333333333, \"#9c179e\"], [0.4444444444444444, \"#bd3786\"], [0.5555555555555556, \"#d8576b\"], [0.6666666666666666, \"#ed7953\"], [0.7777777777777778, \"#fb9f3a\"], [0.8888888888888888, \"#fdca26\"], [1.0, \"#f0f921\"]], \"type\": \"histogram2dcontour\"}], \"mesh3d\": [{\"colorbar\": {\"outlinewidth\": 0, \"ticks\": \"\"}, \"type\": \"mesh3d\"}], \"parcoords\": [{\"line\": {\"colorbar\": {\"outlinewidth\": 0, \"ticks\": \"\"}}, \"type\": \"parcoords\"}], \"pie\": [{\"automargin\": true, \"type\": \"pie\"}], \"scatter\": [{\"marker\": {\"colorbar\": {\"outlinewidth\": 0, \"ticks\": \"\"}}, \"type\": \"scatter\"}], \"scatter3d\": [{\"line\": {\"colorbar\": {\"outlinewidth\": 0, \"ticks\": \"\"}}, \"marker\": {\"colorbar\": {\"outlinewidth\": 0, \"ticks\": \"\"}}, \"type\": \"scatter3d\"}], \"scattercarpet\": [{\"marker\": {\"colorbar\": {\"outlinewidth\": 0, \"ticks\": \"\"}}, \"type\": \"scattercarpet\"}], \"scattergeo\": [{\"marker\": {\"colorbar\": {\"outlinewidth\": 0, \"ticks\": \"\"}}, \"type\": \"scattergeo\"}], \"scattergl\": [{\"marker\": {\"colorbar\": {\"outlinewidth\": 0, \"ticks\": \"\"}}, \"type\": \"scattergl\"}], \"scattermapbox\": [{\"marker\": {\"colorbar\": {\"outlinewidth\": 0, \"ticks\": \"\"}}, \"type\": \"scattermapbox\"}], \"scatterpolar\": [{\"marker\": {\"colorbar\": {\"outlinewidth\": 0, \"ticks\": \"\"}}, \"type\": \"scatterpolar\"}], \"scatterpolargl\": [{\"marker\": {\"colorbar\": {\"outlinewidth\": 0, \"ticks\": \"\"}}, \"type\": \"scatterpolargl\"}], \"scatterternary\": [{\"marker\": {\"colorbar\": {\"outlinewidth\": 0, \"ticks\": \"\"}}, \"type\": \"scatterternary\"}], \"surface\": [{\"colorbar\": {\"outlinewidth\": 0, \"ticks\": \"\"}, \"colorscale\": [[0.0, \"#0d0887\"], [0.1111111111111111, \"#46039f\"], [0.2222222222222222, \"#7201a8\"], [0.3333333333333333, \"#9c179e\"], [0.4444444444444444, \"#bd3786\"], [0.5555555555555556, \"#d8576b\"], [0.6666666666666666, \"#ed7953\"], [0.7777777777777778, \"#fb9f3a\"], [0.8888888888888888, \"#fdca26\"], [1.0, \"#f0f921\"]], \"type\": \"surface\"}], \"table\": [{\"cells\": {\"fill\": {\"color\": \"#EBF0F8\"}, \"line\": {\"color\": \"white\"}}, \"header\": {\"fill\": {\"color\": \"#C8D4E3\"}, \"line\": {\"color\": \"white\"}}, \"type\": \"table\"}]}, \"layout\": {\"annotationdefaults\": {\"arrowcolor\": \"#2a3f5f\", \"arrowhead\": 0, \"arrowwidth\": 1}, \"autotypenumbers\": \"strict\", \"coloraxis\": {\"colorbar\": {\"outlinewidth\": 0, \"ticks\": \"\"}}, \"colorscale\": {\"diverging\": [[0, \"#8e0152\"], [0.1, \"#c51b7d\"], [0.2, \"#de77ae\"], [0.3, \"#f1b6da\"], [0.4, \"#fde0ef\"], [0.5, \"#f7f7f7\"], [0.6, \"#e6f5d0\"], [0.7, \"#b8e186\"], [0.8, \"#7fbc41\"], [0.9, \"#4d9221\"], [1, \"#276419\"]], \"sequential\": [[0.0, \"#0d0887\"], [0.1111111111111111, \"#46039f\"], [0.2222222222222222, \"#7201a8\"], [0.3333333333333333, \"#9c179e\"], [0.4444444444444444, \"#bd3786\"], [0.5555555555555556, \"#d8576b\"], [0.6666666666666666, \"#ed7953\"], [0.7777777777777778, \"#fb9f3a\"], [0.8888888888888888, \"#fdca26\"], [1.0, \"#f0f921\"]], \"sequentialminus\": [[0.0, \"#0d0887\"], [0.1111111111111111, \"#46039f\"], [0.2222222222222222, \"#7201a8\"], [0.3333333333333333, \"#9c179e\"], [0.4444444444444444, \"#bd3786\"], [0.5555555555555556, \"#d8576b\"], [0.6666666666666666, \"#ed7953\"], [0.7777777777777778, \"#fb9f3a\"], [0.8888888888888888, \"#fdca26\"], [1.0, \"#f0f921\"]]}, \"colorway\": [\"#636efa\", \"#EF553B\", \"#00cc96\", \"#ab63fa\", \"#FFA15A\", \"#19d3f3\", \"#FF6692\", \"#B6E880\", \"#FF97FF\", \"#FECB52\"], \"font\": {\"color\": \"#2a3f5f\"}, \"geo\": {\"bgcolor\": \"white\", \"lakecolor\": \"white\", \"landcolor\": \"#E5ECF6\", \"showlakes\": true, \"showland\": true, \"subunitcolor\": \"white\"}, \"hoverlabel\": {\"align\": \"left\"}, \"hovermode\": \"closest\", \"mapbox\": {\"style\": \"light\"}, \"paper_bgcolor\": \"white\", \"plot_bgcolor\": \"#E5ECF6\", \"polar\": {\"angularaxis\": {\"gridcolor\": \"white\", \"linecolor\": \"white\", \"ticks\": \"\"}, \"bgcolor\": \"#E5ECF6\", \"radialaxis\": {\"gridcolor\": \"white\", \"linecolor\": \"white\", \"ticks\": \"\"}}, \"scene\": {\"xaxis\": {\"backgroundcolor\": \"#E5ECF6\", \"gridcolor\": \"white\", \"gridwidth\": 2, \"linecolor\": \"white\", \"showbackground\": true, \"ticks\": \"\", \"zerolinecolor\": \"white\"}, \"yaxis\": {\"backgroundcolor\": \"#E5ECF6\", \"gridcolor\": \"white\", \"gridwidth\": 2, \"linecolor\": \"white\", \"showbackground\": true, \"ticks\": \"\", \"zerolinecolor\": \"white\"}, \"zaxis\": {\"backgroundcolor\": \"#E5ECF6\", \"gridcolor\": \"white\", \"gridwidth\": 2, \"linecolor\": \"white\", \"showbackground\": true, \"ticks\": \"\", \"zerolinecolor\": \"white\"}}, \"shapedefaults\": {\"line\": {\"color\": \"#2a3f5f\"}}, \"ternary\": {\"aaxis\": {\"gridcolor\": \"white\", \"linecolor\": \"white\", \"ticks\": \"\"}, \"baxis\": {\"gridcolor\": \"white\", \"linecolor\": \"white\", \"ticks\": \"\"}, \"bgcolor\": \"#E5ECF6\", \"caxis\": {\"gridcolor\": \"white\", \"linecolor\": \"white\", \"ticks\": \"\"}}, \"title\": {\"x\": 0.05}, \"xaxis\": {\"automargin\": true, \"gridcolor\": \"white\", \"linecolor\": \"white\", \"ticks\": \"\", \"title\": {\"standoff\": 15}, \"zerolinecolor\": \"white\", \"zerolinewidth\": 2}, \"yaxis\": {\"automargin\": true, \"gridcolor\": \"white\", \"linecolor\": \"white\", \"ticks\": \"\", \"title\": {\"standoff\": 15}, \"zerolinecolor\": \"white\", \"zerolinewidth\": 2}}}, \"title\": {\"text\": \"Sample Size vs Mean Difference (Sample Size of 500)\"}, \"xaxis\": {\"anchor\": \"y\", \"domain\": [0.0, 1.0], \"title\": {\"text\": \"Sample sizes 500\"}}, \"yaxis\": {\"anchor\": \"x\", \"domain\": [0.0, 1.0], \"title\": {\"text\": \"Means difference 500\"}}},                        {\"responsive\": true}                    ).then(function(){\n                            \nvar gd = document.getElementById('799f0e7d-662a-4da9-aca1-dc4f117c1636');\nvar x = new MutationObserver(function (mutations, observer) {{\n        var display = window.getComputedStyle(gd).display;\n        if (!display || display === 'none') {{\n            console.log([gd, 'removed!']);\n            Plotly.purge(gd);\n            observer.disconnect();\n        }}\n}});\n\n// Listen for the removal of the full notebook cells\nvar notebookContainer = gd.closest('#notebook-container');\nif (notebookContainer) {{\n    x.observe(notebookContainer, {childList: true});\n}}\n\n// Listen for the clearing of the current output cell\nvar outputEl = gd.closest('.output');\nif (outputEl) {{\n    x.observe(outputEl, {childList: true});\n}}\n\n                        })                };                            </script>        </div>\n</body>\n</html>"
          },
          "metadata": {},
          "output_type": "display_data"
        }
      ]
    },
    {
      "cell_type": "code",
      "metadata": {
        "tags": [],
        "cell_id": "00027-8d40b2ee-689e-4360-9c9d-e2075323bfbb",
        "deepnote_to_be_reexecuted": false,
        "source_hash": "c2ad29d1",
        "execution_millis": 164,
        "execution_start": 1618793075099,
        "deepnote_cell_type": "code"
      },
      "source": "# sample size of 700\n\nsample_sizes_700 = list(range(1,701))\n\nmeans_diff_700 = []\n\nfor i in sample_sizes_700:\n    sample_700 = random.sample(sample_sizes_700, i)\n    sample_avg_700 = Mean_calculator(sample_700)\n    avg_diff_700 =  Mean_calculator(sample_sizes_700) - sample_avg_700\n    means_diff_700.append(round(avg_diff_700,3))\n    \nfig = px.scatter(cleaned_df, x=sample_sizes_700, y=means_diff_700,title='Sample Size vs Mean Difference (Sample Size of 500)',labels={\n                     'x' : \"Sample sizes 700\",\n                     'y'  : \"Means difference 700\"\n                 })\n\nfig.show()",
      "execution_count": 27,
      "outputs": [
        {
          "data": {
            "text/html": "<html>\n<head><meta charset=\"utf-8\" /></head>\n<body>\n    <div>            <script src=\"https://cdnjs.cloudflare.com/ajax/libs/mathjax/2.7.5/MathJax.js?config=TeX-AMS-MML_SVG\"></script><script type=\"text/javascript\">if (window.MathJax) {MathJax.Hub.Config({SVG: {font: \"STIX-Web\"}});}</script>                <script type=\"text/javascript\">window.PlotlyConfig = {MathJaxConfig: 'local'};</script>\n        <script src=\"https://cdn.plot.ly/plotly-latest.min.js\"></script>                <div id=\"6da6bc75-77a9-4cf7-bcf3-50de6729803a\" class=\"plotly-graph-div\" style=\"height:525px; width:100%;\"></div>            <script type=\"text/javascript\">                                    window.PLOTLYENV=window.PLOTLYENV || {};                                    if (document.getElementById(\"6da6bc75-77a9-4cf7-bcf3-50de6729803a\")) {                    Plotly.newPlot(                        \"6da6bc75-77a9-4cf7-bcf3-50de6729803a\",                        [{\"hovertemplate\": \"Sample sizes 700=%{x}<br>Means difference 700=%{y}<extra></extra>\", \"legendgroup\": \"\", \"marker\": {\"color\": \"#636efa\", \"symbol\": \"circle\"}, \"mode\": \"markers\", \"name\": \"\", \"orientation\": \"v\", \"showlegend\": false, \"type\": \"scatter\", \"x\": [1, 2, 3, 4, 5, 6, 7, 8, 9, 10, 11, 12, 13, 14, 15, 16, 17, 18, 19, 20, 21, 22, 23, 24, 25, 26, 27, 28, 29, 30, 31, 32, 33, 34, 35, 36, 37, 38, 39, 40, 41, 42, 43, 44, 45, 46, 47, 48, 49, 50, 51, 52, 53, 54, 55, 56, 57, 58, 59, 60, 61, 62, 63, 64, 65, 66, 67, 68, 69, 70, 71, 72, 73, 74, 75, 76, 77, 78, 79, 80, 81, 82, 83, 84, 85, 86, 87, 88, 89, 90, 91, 92, 93, 94, 95, 96, 97, 98, 99, 100, 101, 102, 103, 104, 105, 106, 107, 108, 109, 110, 111, 112, 113, 114, 115, 116, 117, 118, 119, 120, 121, 122, 123, 124, 125, 126, 127, 128, 129, 130, 131, 132, 133, 134, 135, 136, 137, 138, 139, 140, 141, 142, 143, 144, 145, 146, 147, 148, 149, 150, 151, 152, 153, 154, 155, 156, 157, 158, 159, 160, 161, 162, 163, 164, 165, 166, 167, 168, 169, 170, 171, 172, 173, 174, 175, 176, 177, 178, 179, 180, 181, 182, 183, 184, 185, 186, 187, 188, 189, 190, 191, 192, 193, 194, 195, 196, 197, 198, 199, 200, 201, 202, 203, 204, 205, 206, 207, 208, 209, 210, 211, 212, 213, 214, 215, 216, 217, 218, 219, 220, 221, 222, 223, 224, 225, 226, 227, 228, 229, 230, 231, 232, 233, 234, 235, 236, 237, 238, 239, 240, 241, 242, 243, 244, 245, 246, 247, 248, 249, 250, 251, 252, 253, 254, 255, 256, 257, 258, 259, 260, 261, 262, 263, 264, 265, 266, 267, 268, 269, 270, 271, 272, 273, 274, 275, 276, 277, 278, 279, 280, 281, 282, 283, 284, 285, 286, 287, 288, 289, 290, 291, 292, 293, 294, 295, 296, 297, 298, 299, 300, 301, 302, 303, 304, 305, 306, 307, 308, 309, 310, 311, 312, 313, 314, 315, 316, 317, 318, 319, 320, 321, 322, 323, 324, 325, 326, 327, 328, 329, 330, 331, 332, 333, 334, 335, 336, 337, 338, 339, 340, 341, 342, 343, 344, 345, 346, 347, 348, 349, 350, 351, 352, 353, 354, 355, 356, 357, 358, 359, 360, 361, 362, 363, 364, 365, 366, 367, 368, 369, 370, 371, 372, 373, 374, 375, 376, 377, 378, 379, 380, 381, 382, 383, 384, 385, 386, 387, 388, 389, 390, 391, 392, 393, 394, 395, 396, 397, 398, 399, 400, 401, 402, 403, 404, 405, 406, 407, 408, 409, 410, 411, 412, 413, 414, 415, 416, 417, 418, 419, 420, 421, 422, 423, 424, 425, 426, 427, 428, 429, 430, 431, 432, 433, 434, 435, 436, 437, 438, 439, 440, 441, 442, 443, 444, 445, 446, 447, 448, 449, 450, 451, 452, 453, 454, 455, 456, 457, 458, 459, 460, 461, 462, 463, 464, 465, 466, 467, 468, 469, 470, 471, 472, 473, 474, 475, 476, 477, 478, 479, 480, 481, 482, 483, 484, 485, 486, 487, 488, 489, 490, 491, 492, 493, 494, 495, 496, 497, 498, 499, 500, 501, 502, 503, 504, 505, 506, 507, 508, 509, 510, 511, 512, 513, 514, 515, 516, 517, 518, 519, 520, 521, 522, 523, 524, 525, 526, 527, 528, 529, 530, 531, 532, 533, 534, 535, 536, 537, 538, 539, 540, 541, 542, 543, 544, 545, 546, 547, 548, 549, 550, 551, 552, 553, 554, 555, 556, 557, 558, 559, 560, 561, 562, 563, 564, 565, 566, 567, 568, 569, 570, 571, 572, 573, 574, 575, 576, 577, 578, 579, 580, 581, 582, 583, 584, 585, 586, 587, 588, 589, 590, 591, 592, 593, 594, 595, 596, 597, 598, 599, 600, 601, 602, 603, 604, 605, 606, 607, 608, 609, 610, 611, 612, 613, 614, 615, 616, 617, 618, 619, 620, 621, 622, 623, 624, 625, 626, 627, 628, 629, 630, 631, 632, 633, 634, 635, 636, 637, 638, 639, 640, 641, 642, 643, 644, 645, 646, 647, 648, 649, 650, 651, 652, 653, 654, 655, 656, 657, 658, 659, 660, 661, 662, 663, 664, 665, 666, 667, 668, 669, 670, 671, 672, 673, 674, 675, 676, 677, 678, 679, 680, 681, 682, 683, 684, 685, 686, 687, 688, 689, 690, 691, 692, 693, 694, 695, 696, 697, 698, 699, 700], \"xaxis\": \"x\", \"y\": [-256.5, 284.0, -56.5, 129.75, -115.7, 63.667, -38.929, 9.625, 52.722, -67.9, -32.409, 14.167, -23.192, 2.929, -29.967, 25.562, -141.676, -53.167, -36.921, 35.7, 69.167, -24.591, -81.37, 28.208, 9.78, -50.962, -46.463, -60.071, 44.017, -14.967, -30.565, 20.125, 28.106, -12.647, -62.586, -22.278, -6.176, 54.289, -36.962, 6.475, 7.671, 80.476, 23.616, -69.955, -10.856, 6.13, 16.287, -17.312, -14.827, -23.7, -23.343, -16.327, 11.425, -10.963, -13.173, 3.196, -33.588, -0.793, -20.975, -53.083, -24.205, 14.919, 64.992, -0.266, -30.377, -45.015, -6.948, 8.956, 14.891, 14.529, 19.162, 13.194, 20.719, -51.959, -16.687, 35.684, -17.24, -14.615, 49.082, 22.637, -3.315, -26.707, 15.404, 17.179, -20.559, 39.849, -3.902, 21.182, -12.185, -9.378, -8.445, 18.435, 2.328, -33.702, 30.226, -23.948, -0.438, -8.092, 27.187, 27.11, 11.728, -15.696, -9.451, 33.606, -2.119, 18.736, -0.379, 0.222, -4.243, -29.945, 9.518, 5.679, 10.827, 16.114, 4.97, 16.716, 6.859, 19.525, -11.92, 27.258, 6.062, -4.402, -8.947, -16.403, 21.108, 32.833, 17.413, 10.523, 8.942, 15.308, -18.676, 0.28, -5.635, -9.59, 3.093, -11.581, 12.602, -14.478, -11.809, -2.243, -16.855, 0.007, -7.101, -5.556, -4.272, -16.76, -9.024, -23.642, 2.138, 9.193, -26.381, 2.888, 0.173, -24.065, 13.623, -15.962, -0.538, -16.266, -10.425, -19.531, 5.233, 7.253, 23.463, 11.305, -9.252, 15.572, -4.003, 5.214, 0.571, 1.888, 17.219, 12.924, -24.24, -2.701, -23.317, -2.676, -19.263, -5.006, 4.595, 8.75, -11.837, -19.643, 2.566, 4.495, -1.024, 20.952, 3.195, 7.617, -1.405, 6.316, 10.898, 24.74, 9.174, 0.052, 4.921, -2.281, -16.536, 2.247, 27.987, 6.12, -1.261, 6.941, -3.416, -12.475, -6.671, -1.408, 7.645, -20.582, 0.514, 5.929, 11.528, -19.495, 8.725, 9.701, -14.76, 2.176, 3.03, -5.372, -2.34, 11.732, -20.355, -15.315, -6.137, -2.696, 1.411, 8.717, -14.024, 1.539, 10.277, 4.743, -4.868, 1.392, 12.998, 7.35, 3.883, -8.195, 4.196, -9.706, -5.588, 22.271, 6.371, 3.252, 3.562, 14.189, -2.247, -9.764, -0.407, 12.431, -14.155, 11.844, 9.098, 5.635, 4.401, -9.146, 6.837, -16.961, 12.154, -11.562, 7.041, -2.712, 9.132, 6.706, -14.044, 6.693, 5.455, -17.135, 4.17, 14.981, 2.151, -1.396, 13.884, 7.757, 6.196, 19.602, -7.707, -0.406, 4.825, -5.604, 6.529, -3.204, 15.945, -2.528, -6.422, -7.148, 9.795, -6.08, -11.974, -6.167, -0.967, 2.893, 13.091, 14.113, -0.534, -10.255, 12.9, -0.324, 3.386, -11.312, 6.614, -18.693, 11.819, -6.083, 1.503, 1.697, 2.526, 4.83, 10.422, -0.13, 2.044, -4.371, 8.722, 14.228, 6.931, 1.14, 1.408, -17.025, -0.386, 0.104, 9.951, -18.688, -10.522, 3.034, 5.89, 13.985, -8.925, 6.926, 7.601, 1.732, 6.09, -1.997, -15.678, -6.166, 3.608, -0.934, 0.697, 5.509, -0.779, 0.76, -6.73, -3.744, 2.336, 1.509, -12.751, 7.709, -10.451, 6.243, 10.514, 1.925, -1.99, -7.111, 15.799, 2.909, 0.211, 4.105, -21.266, -3.396, 11.831, -2.634, -5.703, -22.928, 6.4, -7.29, 2.514, 12.775, -3.248, -4.372, -3.77, 11.459, 6.925, 0.262, -1.937, -1.524, 3.57, -13.941, -24.98, -0.117, -1.033, 7.249, 0.801, 11.45, -2.82, -2.924, -12.422, -8.503, 8.368, -10.728, -9.273, -4.82, 6.15, -10.054, 9.109, -4.842, -3.607, 10.188, 7.472, 3.803, -4.787, -7.673, -14.382, 6.108, 1.43, 1.963, -7.902, 6.431, -3.93, 2.377, -3.645, -4.843, 1.48, 7.207, -1.12, 4.129, -4.916, -0.761, -1.201, -6.988, 9.62, 2.172, -3.631, 11.66, 7.096, 9.284, -0.996, -6.946, -5.135, -0.202, -8.626, -9.843, -1.756, -1.353, 3.454, 5.769, -3.23, -1.742, -2.5, -4.979, -12.322, -3.144, -3.245, -2.091, 1.718, -7.333, 4.209, -3.446, 4.988, 1.599, 7.99, 4.067, -0.923, 5.342, -5.786, -1.675, -4.195, -4.947, 2.546, 2.092, 1.889, 0.69, 4.278, -7.446, -5.819, -5.861, -0.174, 8.289, -2.517, -6.873, -4.988, -4.092, -5.029, 11.094, 4.734, 4.669, 4.777, -10.675, -1.98, -2.271, 2.923, 4.276, -3.725, 7.881, -0.413, -5.979, 1.558, -3.591, 1.265, -0.798, -2.89, -10.717, 0.727, -2.871, -3.529, 3.687, 2.106, -3.423, 3.07, 1.514, -9.045, -2.193, 9.991, 10.394, 4.542, -1.643, -3.172, 2.339, 3.948, -5.63, -2.707, 7.99, 4.423, 1.71, -7.668, 4.881, 5.174, -3.465, -6.766, 3.552, -1.328, 1.39, -5.155, 9.398, 4.759, 0.669, 4.622, 1.204, -5.812, -9.643, 6.614, 1.519, 3.387, 1.123, 10.268, 2.513, 1.487, -3.431, -8.296, 0.799, -4.694, 3.433, -1.179, 1.754, -1.934, -6.655, -3.905, -2.699, -0.546, 3.89, 1.595, 3.036, 5.664, 2.127, 1.099, 0.839, -3.095, 4.511, -4.522, 0.678, 5.775, 5.525, 3.237, 3.668, -2.168, -9.381, -0.733, -2.151, 1.486, 2.488, -1.884, 0.544, 0.075, -3.232, 3.574, 4.392, 6.894, 5.261, -8.843, -4.538, -1.032, 0.644, 2.388, 6.059, 0.094, -1.636, -1.136, 0.404, -0.11, 1.375, 1.79, -0.114, 2.199, -2.393, -5.713, 3.593, 0.567, -4.559, -2.137, 7.552, 1.56, 0.674, 2.912, 1.91, -0.408, 1.944, -0.745, 4.361, 5.117, 2.881, -3.136, -1.868, 2.996, -2.397, -0.557, -1.526, -2.699, 2.699, 4.105, -0.534, 0.717, 1.96, 4.321, 1.55, -2.759, -1.928, -2.285, -4.508, -0.628, 0.775, -0.146, 0.193, 3.411, -1.9, 0.95, 2.976, 3.092, 0.869, 1.9, 1.774, 1.979, -1.881, -1.879, 1.873, -1.79, 2.333, -0.572, 1.124, -2.632, -0.534, -0.475, -0.15, 5.891, -0.706, 0.709, 2.521, -4.705, -2.246, 0.175, -3.11, -1.024, -1.574, -0.882, 0.677, -2.514, -3.967, -2.081, 0.289, -2.192, -0.305, 1.469, -0.278, 1.258, -0.997, 0.2, -1.118, -2.155, -3.567, -1.15, 0.288, -0.569, 1.971, -1.507, 1.744, -0.491, 0.516, -2.566, 0.582, 1.693, -1.22, 0.889, 0.487, -0.443, 1.784, -1.571, -0.451, -0.572, -1.012, -0.687, -0.376, -0.216, -0.109, -0.22, 0.0], \"yaxis\": \"y\"}],                        {\"legend\": {\"tracegroupgap\": 0}, \"template\": {\"data\": {\"bar\": [{\"error_x\": {\"color\": \"#2a3f5f\"}, \"error_y\": {\"color\": \"#2a3f5f\"}, \"marker\": {\"line\": {\"color\": \"#E5ECF6\", \"width\": 0.5}}, \"type\": \"bar\"}], \"barpolar\": [{\"marker\": {\"line\": {\"color\": \"#E5ECF6\", \"width\": 0.5}}, \"type\": \"barpolar\"}], \"carpet\": [{\"aaxis\": {\"endlinecolor\": \"#2a3f5f\", \"gridcolor\": \"white\", \"linecolor\": \"white\", \"minorgridcolor\": \"white\", \"startlinecolor\": \"#2a3f5f\"}, \"baxis\": {\"endlinecolor\": \"#2a3f5f\", \"gridcolor\": \"white\", \"linecolor\": \"white\", \"minorgridcolor\": \"white\", \"startlinecolor\": \"#2a3f5f\"}, \"type\": \"carpet\"}], \"choropleth\": [{\"colorbar\": {\"outlinewidth\": 0, \"ticks\": \"\"}, \"type\": \"choropleth\"}], \"contour\": [{\"colorbar\": {\"outlinewidth\": 0, \"ticks\": \"\"}, \"colorscale\": [[0.0, \"#0d0887\"], [0.1111111111111111, \"#46039f\"], [0.2222222222222222, \"#7201a8\"], [0.3333333333333333, \"#9c179e\"], [0.4444444444444444, \"#bd3786\"], [0.5555555555555556, \"#d8576b\"], [0.6666666666666666, \"#ed7953\"], [0.7777777777777778, \"#fb9f3a\"], [0.8888888888888888, \"#fdca26\"], [1.0, \"#f0f921\"]], \"type\": \"contour\"}], \"contourcarpet\": [{\"colorbar\": {\"outlinewidth\": 0, \"ticks\": \"\"}, \"type\": \"contourcarpet\"}], \"heatmap\": [{\"colorbar\": {\"outlinewidth\": 0, \"ticks\": \"\"}, \"colorscale\": [[0.0, \"#0d0887\"], [0.1111111111111111, \"#46039f\"], [0.2222222222222222, \"#7201a8\"], [0.3333333333333333, \"#9c179e\"], [0.4444444444444444, \"#bd3786\"], [0.5555555555555556, \"#d8576b\"], [0.6666666666666666, \"#ed7953\"], [0.7777777777777778, \"#fb9f3a\"], [0.8888888888888888, \"#fdca26\"], [1.0, \"#f0f921\"]], \"type\": \"heatmap\"}], \"heatmapgl\": [{\"colorbar\": {\"outlinewidth\": 0, \"ticks\": \"\"}, \"colorscale\": [[0.0, \"#0d0887\"], [0.1111111111111111, \"#46039f\"], [0.2222222222222222, \"#7201a8\"], [0.3333333333333333, \"#9c179e\"], [0.4444444444444444, \"#bd3786\"], [0.5555555555555556, \"#d8576b\"], [0.6666666666666666, \"#ed7953\"], [0.7777777777777778, \"#fb9f3a\"], [0.8888888888888888, \"#fdca26\"], [1.0, \"#f0f921\"]], \"type\": \"heatmapgl\"}], \"histogram\": [{\"marker\": {\"colorbar\": {\"outlinewidth\": 0, \"ticks\": \"\"}}, \"type\": \"histogram\"}], \"histogram2d\": [{\"colorbar\": {\"outlinewidth\": 0, \"ticks\": \"\"}, \"colorscale\": [[0.0, \"#0d0887\"], [0.1111111111111111, \"#46039f\"], [0.2222222222222222, \"#7201a8\"], [0.3333333333333333, \"#9c179e\"], [0.4444444444444444, \"#bd3786\"], [0.5555555555555556, \"#d8576b\"], [0.6666666666666666, \"#ed7953\"], [0.7777777777777778, \"#fb9f3a\"], [0.8888888888888888, \"#fdca26\"], [1.0, \"#f0f921\"]], \"type\": \"histogram2d\"}], \"histogram2dcontour\": [{\"colorbar\": {\"outlinewidth\": 0, \"ticks\": \"\"}, \"colorscale\": [[0.0, \"#0d0887\"], [0.1111111111111111, \"#46039f\"], [0.2222222222222222, \"#7201a8\"], [0.3333333333333333, \"#9c179e\"], [0.4444444444444444, \"#bd3786\"], [0.5555555555555556, \"#d8576b\"], [0.6666666666666666, \"#ed7953\"], [0.7777777777777778, \"#fb9f3a\"], [0.8888888888888888, \"#fdca26\"], [1.0, \"#f0f921\"]], \"type\": \"histogram2dcontour\"}], \"mesh3d\": [{\"colorbar\": {\"outlinewidth\": 0, \"ticks\": \"\"}, \"type\": \"mesh3d\"}], \"parcoords\": [{\"line\": {\"colorbar\": {\"outlinewidth\": 0, \"ticks\": \"\"}}, \"type\": \"parcoords\"}], \"pie\": [{\"automargin\": true, \"type\": \"pie\"}], \"scatter\": [{\"marker\": {\"colorbar\": {\"outlinewidth\": 0, \"ticks\": \"\"}}, \"type\": \"scatter\"}], \"scatter3d\": [{\"line\": {\"colorbar\": {\"outlinewidth\": 0, \"ticks\": \"\"}}, \"marker\": {\"colorbar\": {\"outlinewidth\": 0, \"ticks\": \"\"}}, \"type\": \"scatter3d\"}], \"scattercarpet\": [{\"marker\": {\"colorbar\": {\"outlinewidth\": 0, \"ticks\": \"\"}}, \"type\": \"scattercarpet\"}], \"scattergeo\": [{\"marker\": {\"colorbar\": {\"outlinewidth\": 0, \"ticks\": \"\"}}, \"type\": \"scattergeo\"}], \"scattergl\": [{\"marker\": {\"colorbar\": {\"outlinewidth\": 0, \"ticks\": \"\"}}, \"type\": \"scattergl\"}], \"scattermapbox\": [{\"marker\": {\"colorbar\": {\"outlinewidth\": 0, \"ticks\": \"\"}}, \"type\": \"scattermapbox\"}], \"scatterpolar\": [{\"marker\": {\"colorbar\": {\"outlinewidth\": 0, \"ticks\": \"\"}}, \"type\": \"scatterpolar\"}], \"scatterpolargl\": [{\"marker\": {\"colorbar\": {\"outlinewidth\": 0, \"ticks\": \"\"}}, \"type\": \"scatterpolargl\"}], \"scatterternary\": [{\"marker\": {\"colorbar\": {\"outlinewidth\": 0, \"ticks\": \"\"}}, \"type\": \"scatterternary\"}], \"surface\": [{\"colorbar\": {\"outlinewidth\": 0, \"ticks\": \"\"}, \"colorscale\": [[0.0, \"#0d0887\"], [0.1111111111111111, \"#46039f\"], [0.2222222222222222, \"#7201a8\"], [0.3333333333333333, \"#9c179e\"], [0.4444444444444444, \"#bd3786\"], [0.5555555555555556, \"#d8576b\"], [0.6666666666666666, \"#ed7953\"], [0.7777777777777778, \"#fb9f3a\"], [0.8888888888888888, \"#fdca26\"], [1.0, \"#f0f921\"]], \"type\": \"surface\"}], \"table\": [{\"cells\": {\"fill\": {\"color\": \"#EBF0F8\"}, \"line\": {\"color\": \"white\"}}, \"header\": {\"fill\": {\"color\": \"#C8D4E3\"}, \"line\": {\"color\": \"white\"}}, \"type\": \"table\"}]}, \"layout\": {\"annotationdefaults\": {\"arrowcolor\": \"#2a3f5f\", \"arrowhead\": 0, \"arrowwidth\": 1}, \"autotypenumbers\": \"strict\", \"coloraxis\": {\"colorbar\": {\"outlinewidth\": 0, \"ticks\": \"\"}}, \"colorscale\": {\"diverging\": [[0, \"#8e0152\"], [0.1, \"#c51b7d\"], [0.2, \"#de77ae\"], [0.3, \"#f1b6da\"], [0.4, \"#fde0ef\"], [0.5, \"#f7f7f7\"], [0.6, \"#e6f5d0\"], [0.7, \"#b8e186\"], [0.8, \"#7fbc41\"], [0.9, \"#4d9221\"], [1, \"#276419\"]], \"sequential\": [[0.0, \"#0d0887\"], [0.1111111111111111, \"#46039f\"], [0.2222222222222222, \"#7201a8\"], [0.3333333333333333, \"#9c179e\"], [0.4444444444444444, \"#bd3786\"], [0.5555555555555556, \"#d8576b\"], [0.6666666666666666, \"#ed7953\"], [0.7777777777777778, \"#fb9f3a\"], [0.8888888888888888, \"#fdca26\"], [1.0, \"#f0f921\"]], \"sequentialminus\": [[0.0, \"#0d0887\"], [0.1111111111111111, \"#46039f\"], [0.2222222222222222, \"#7201a8\"], [0.3333333333333333, \"#9c179e\"], [0.4444444444444444, \"#bd3786\"], [0.5555555555555556, \"#d8576b\"], [0.6666666666666666, \"#ed7953\"], [0.7777777777777778, \"#fb9f3a\"], [0.8888888888888888, \"#fdca26\"], [1.0, \"#f0f921\"]]}, \"colorway\": [\"#636efa\", \"#EF553B\", \"#00cc96\", \"#ab63fa\", \"#FFA15A\", \"#19d3f3\", \"#FF6692\", \"#B6E880\", \"#FF97FF\", \"#FECB52\"], \"font\": {\"color\": \"#2a3f5f\"}, \"geo\": {\"bgcolor\": \"white\", \"lakecolor\": \"white\", \"landcolor\": \"#E5ECF6\", \"showlakes\": true, \"showland\": true, \"subunitcolor\": \"white\"}, \"hoverlabel\": {\"align\": \"left\"}, \"hovermode\": \"closest\", \"mapbox\": {\"style\": \"light\"}, \"paper_bgcolor\": \"white\", \"plot_bgcolor\": \"#E5ECF6\", \"polar\": {\"angularaxis\": {\"gridcolor\": \"white\", \"linecolor\": \"white\", \"ticks\": \"\"}, \"bgcolor\": \"#E5ECF6\", \"radialaxis\": {\"gridcolor\": \"white\", \"linecolor\": \"white\", \"ticks\": \"\"}}, \"scene\": {\"xaxis\": {\"backgroundcolor\": \"#E5ECF6\", \"gridcolor\": \"white\", \"gridwidth\": 2, \"linecolor\": \"white\", \"showbackground\": true, \"ticks\": \"\", \"zerolinecolor\": \"white\"}, \"yaxis\": {\"backgroundcolor\": \"#E5ECF6\", \"gridcolor\": \"white\", \"gridwidth\": 2, \"linecolor\": \"white\", \"showbackground\": true, \"ticks\": \"\", \"zerolinecolor\": \"white\"}, \"zaxis\": {\"backgroundcolor\": \"#E5ECF6\", \"gridcolor\": \"white\", \"gridwidth\": 2, \"linecolor\": \"white\", \"showbackground\": true, \"ticks\": \"\", \"zerolinecolor\": \"white\"}}, \"shapedefaults\": {\"line\": {\"color\": \"#2a3f5f\"}}, \"ternary\": {\"aaxis\": {\"gridcolor\": \"white\", \"linecolor\": \"white\", \"ticks\": \"\"}, \"baxis\": {\"gridcolor\": \"white\", \"linecolor\": \"white\", \"ticks\": \"\"}, \"bgcolor\": \"#E5ECF6\", \"caxis\": {\"gridcolor\": \"white\", \"linecolor\": \"white\", \"ticks\": \"\"}}, \"title\": {\"x\": 0.05}, \"xaxis\": {\"automargin\": true, \"gridcolor\": \"white\", \"linecolor\": \"white\", \"ticks\": \"\", \"title\": {\"standoff\": 15}, \"zerolinecolor\": \"white\", \"zerolinewidth\": 2}, \"yaxis\": {\"automargin\": true, \"gridcolor\": \"white\", \"linecolor\": \"white\", \"ticks\": \"\", \"title\": {\"standoff\": 15}, \"zerolinecolor\": \"white\", \"zerolinewidth\": 2}}}, \"title\": {\"text\": \"Sample Size vs Mean Difference (Sample Size of 500)\"}, \"xaxis\": {\"anchor\": \"y\", \"domain\": [0.0, 1.0], \"title\": {\"text\": \"Sample sizes 700\"}}, \"yaxis\": {\"anchor\": \"x\", \"domain\": [0.0, 1.0], \"title\": {\"text\": \"Means difference 700\"}}},                        {\"responsive\": true}                    ).then(function(){\n                            \nvar gd = document.getElementById('6da6bc75-77a9-4cf7-bcf3-50de6729803a');\nvar x = new MutationObserver(function (mutations, observer) {{\n        var display = window.getComputedStyle(gd).display;\n        if (!display || display === 'none') {{\n            console.log([gd, 'removed!']);\n            Plotly.purge(gd);\n            observer.disconnect();\n        }}\n}});\n\n// Listen for the removal of the full notebook cells\nvar notebookContainer = gd.closest('#notebook-container');\nif (notebookContainer) {{\n    x.observe(notebookContainer, {childList: true});\n}}\n\n// Listen for the clearing of the current output cell\nvar outputEl = gd.closest('.output');\nif (outputEl) {{\n    x.observe(outputEl, {childList: true});\n}}\n\n                        })                };                            </script>        </div>\n</body>\n</html>"
          },
          "metadata": {},
          "output_type": "display_data"
        }
      ]
    },
    {
      "cell_type": "code",
      "metadata": {
        "id": "MjqbewGC6oKZ",
        "cell_id": "00023-68d8132f-50e9-4fd8-bccc-fa739564d41b",
        "deepnote_to_be_reexecuted": false,
        "source_hash": "762c9ac",
        "execution_millis": 2,
        "execution_start": 1618793075261,
        "deepnote_cell_type": "code"
      },
      "source": "# The end - Give yourself a pat on the back!",
      "execution_count": 28,
      "outputs": []
    },
    {
      "cell_type": "markdown",
      "source": "<a style='text-decoration:none;line-height:16px;display:flex;color:#5B5B62;padding:10px;justify-content:end;' href='https://deepnote.com?utm_source=created-in-deepnote-cell&projectId=f415496f-a148-437a-9485-6110d5ba3018' target=\"_blank\">\n<img alt='Created in deepnote.com' style='display:inline;max-height:16px;margin:0px;margin-right:7.5px;' src='data:image/svg+xml;base64,PD94bWwgdmVyc2lvbj0iMS4wIiBlbmNvZGluZz0iVVRGLTgiPz4KPHN2ZyB3aWR0aD0iODBweCIgaGVpZ2h0PSI4MHB4IiB2aWV3Qm94PSIwIDAgODAgODAiIHZlcnNpb249IjEuMSIgeG1sbnM9Imh0dHA6Ly93d3cudzMub3JnLzIwMDAvc3ZnIiB4bWxuczp4bGluaz0iaHR0cDovL3d3dy53My5vcmcvMTk5OS94bGluayI+CiAgICA8IS0tIEdlbmVyYXRvcjogU2tldGNoIDU0LjEgKDc2NDkwKSAtIGh0dHBzOi8vc2tldGNoYXBwLmNvbSAtLT4KICAgIDx0aXRsZT5Hcm91cCAzPC90aXRsZT4KICAgIDxkZXNjPkNyZWF0ZWQgd2l0aCBTa2V0Y2guPC9kZXNjPgogICAgPGcgaWQ9IkxhbmRpbmciIHN0cm9rZT0ibm9uZSIgc3Ryb2tlLXdpZHRoPSIxIiBmaWxsPSJub25lIiBmaWxsLXJ1bGU9ImV2ZW5vZGQiPgogICAgICAgIDxnIGlkPSJBcnRib2FyZCIgdHJhbnNmb3JtPSJ0cmFuc2xhdGUoLTEyMzUuMDAwMDAwLCAtNzkuMDAwMDAwKSI+CiAgICAgICAgICAgIDxnIGlkPSJHcm91cC0zIiB0cmFuc2Zvcm09InRyYW5zbGF0ZSgxMjM1LjAwMDAwMCwgNzkuMDAwMDAwKSI+CiAgICAgICAgICAgICAgICA8cG9seWdvbiBpZD0iUGF0aC0yMCIgZmlsbD0iIzAyNjVCNCIgcG9pbnRzPSIyLjM3NjIzNzYyIDgwIDM4LjA0NzY2NjcgODAgNTcuODIxNzgyMiA3My44MDU3NTkyIDU3LjgyMTc4MjIgMzIuNzU5MjczOSAzOS4xNDAyMjc4IDMxLjY4MzE2ODMiPjwvcG9seWdvbj4KICAgICAgICAgICAgICAgIDxwYXRoIGQ9Ik0zNS4wMDc3MTgsODAgQzQyLjkwNjIwMDcsNzYuNDU0OTM1OCA0Ny41NjQ5MTY3LDcxLjU0MjI2NzEgNDguOTgzODY2LDY1LjI2MTk5MzkgQzUxLjExMjI4OTksNTUuODQxNTg0MiA0MS42NzcxNzk1LDQ5LjIxMjIyODQgMjUuNjIzOTg0Niw0OS4yMTIyMjg0IEMyNS40ODQ5Mjg5LDQ5LjEyNjg0NDggMjkuODI2MTI5Niw0My4yODM4MjQ4IDM4LjY0NzU4NjksMzEuNjgzMTY4MyBMNzIuODcxMjg3MSwzMi41NTQ0MjUgTDY1LjI4MDk3Myw2Ny42NzYzNDIxIEw1MS4xMTIyODk5LDc3LjM3NjE0NCBMMzUuMDA3NzE4LDgwIFoiIGlkPSJQYXRoLTIyIiBmaWxsPSIjMDAyODY4Ij48L3BhdGg+CiAgICAgICAgICAgICAgICA8cGF0aCBkPSJNMCwzNy43MzA0NDA1IEwyNy4xMTQ1MzcsMC4yNTcxMTE0MzYgQzYyLjM3MTUxMjMsLTEuOTkwNzE3MDEgODAsMTAuNTAwMzkyNyA4MCwzNy43MzA0NDA1IEM4MCw2NC45NjA0ODgyIDY0Ljc3NjUwMzgsNzkuMDUwMzQxNCAzNC4zMjk1MTEzLDgwIEM0Ny4wNTUzNDg5LDc3LjU2NzA4MDggNTMuNDE4MjY3Nyw3MC4zMTM2MTAzIDUzLjQxODI2NzcsNTguMjM5NTg4NSBDNTMuNDE4MjY3Nyw0MC4xMjg1NTU3IDM2LjMwMzk1NDQsMzcuNzMwNDQwNSAyNS4yMjc0MTcsMzcuNzMwNDQwNSBDMTcuODQzMDU4NiwzNy43MzA0NDA1IDkuNDMzOTE5NjYsMzcuNzMwNDQwNSAwLDM3LjczMDQ0MDUgWiIgaWQ9IlBhdGgtMTkiIGZpbGw9IiMzNzkzRUYiPjwvcGF0aD4KICAgICAgICAgICAgPC9nPgogICAgICAgIDwvZz4KICAgIDwvZz4KPC9zdmc+' > </img>\nCreated in <span style='font-weight:600;margin-left:4px;'>Deepnote</span></a>",
      "metadata": {
        "tags": [],
        "created_in_deepnote_cell": true,
        "deepnote_cell_type": "markdown"
      }
    }
  ],
  "nbformat": 4,
  "nbformat_minor": 0,
  "metadata": {
    "kernelspec": {
      "display_name": "Python 3",
      "language": "python",
      "name": "python3"
    },
    "language_info": {
      "codemirror_mode": {
        "name": "ipython",
        "version": 3
      },
      "file_extension": ".py",
      "mimetype": "text/x-python",
      "name": "python",
      "nbconvert_exporter": "python",
      "pygments_lexer": "ipython3",
      "version": "3.7.4"
    },
    "colab": {
      "name": "assignment_08.ipynb.txt",
      "provenance": [],
      "toc_visible": true
    },
    "deepnote_notebook_id": "0ae732a0-f0fc-477d-9c2b-c8e9cab4f4cc",
    "deepnote": {},
    "deepnote_execution_queue": []
  }
}