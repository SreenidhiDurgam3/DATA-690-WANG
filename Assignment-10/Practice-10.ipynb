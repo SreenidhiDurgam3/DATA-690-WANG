{
  "cells": [
    {
      "cell_type": "code",
      "metadata": {
        "deepnote_to_be_reexecuted": false,
        "execution_millis": 6,
        "execution_start": 1619967633914,
        "source_hash": "d31af9aa",
        "cell_id": "00000-49d42b17-5f37-4a4a-9ef1-a542f0feb677",
        "deepnote_cell_type": "code"
      },
      "source": "import pandas",
      "execution_count": 1,
      "outputs": []
    },
    {
      "cell_type": "code",
      "metadata": {
        "deepnote_to_be_reexecuted": false,
        "execution_millis": 44,
        "execution_start": 1619967633977,
        "source_hash": "34ea68ba",
        "cell_id": "00001-cf139f9a-2d2c-4170-930b-9bc433dd5660",
        "deepnote_cell_type": "code"
      },
      "source": "df = pandas.read_csv('./gapminder.tsv', sep='\\t')",
      "execution_count": 2,
      "outputs": []
    },
    {
      "cell_type": "code",
      "metadata": {
        "deepnote_to_be_reexecuted": false,
        "execution_millis": 241,
        "execution_start": 1619967634022,
        "source_hash": "c085b6ba",
        "cell_id": "00002-02a55b40-8db1-4a0e-8aca-e929ebab541c",
        "deepnote_cell_type": "code"
      },
      "source": "df.head()",
      "execution_count": 3,
      "outputs": [
        {
          "output_type": "execute_result",
          "execution_count": 3,
          "data": {
            "application/vnd.deepnote.dataframe.v2+json": {
              "row_count": 5,
              "column_count": 6,
              "columns": [
                {
                  "name": "country",
                  "dtype": "object",
                  "stats": {
                    "unique_count": 1,
                    "nan_count": 0,
                    "categories": [
                      {
                        "name": "Afghanistan",
                        "count": 5
                      }
                    ]
                  }
                },
                {
                  "name": "continent",
                  "dtype": "object",
                  "stats": {
                    "unique_count": 1,
                    "nan_count": 0,
                    "categories": [
                      {
                        "name": "Asia",
                        "count": 5
                      }
                    ]
                  }
                },
                {
                  "name": "year",
                  "dtype": "int64",
                  "stats": {
                    "unique_count": 5,
                    "nan_count": 0,
                    "min": "1952",
                    "max": "1972",
                    "histogram": [
                      {
                        "bin_start": 1952,
                        "bin_end": 1954,
                        "count": 1
                      },
                      {
                        "bin_start": 1954,
                        "bin_end": 1956,
                        "count": 0
                      },
                      {
                        "bin_start": 1956,
                        "bin_end": 1958,
                        "count": 1
                      },
                      {
                        "bin_start": 1958,
                        "bin_end": 1960,
                        "count": 0
                      },
                      {
                        "bin_start": 1960,
                        "bin_end": 1962,
                        "count": 0
                      },
                      {
                        "bin_start": 1962,
                        "bin_end": 1964,
                        "count": 1
                      },
                      {
                        "bin_start": 1964,
                        "bin_end": 1966,
                        "count": 0
                      },
                      {
                        "bin_start": 1966,
                        "bin_end": 1968,
                        "count": 1
                      },
                      {
                        "bin_start": 1968,
                        "bin_end": 1970,
                        "count": 0
                      },
                      {
                        "bin_start": 1970,
                        "bin_end": 1972,
                        "count": 1
                      }
                    ]
                  }
                },
                {
                  "name": "lifeExp",
                  "dtype": "float64",
                  "stats": {
                    "unique_count": 5,
                    "nan_count": 0,
                    "min": "28.801",
                    "max": "36.088",
                    "histogram": [
                      {
                        "bin_start": 28.801,
                        "bin_end": 29.5297,
                        "count": 1
                      },
                      {
                        "bin_start": 29.5297,
                        "bin_end": 30.258399999999998,
                        "count": 0
                      },
                      {
                        "bin_start": 30.258399999999998,
                        "bin_end": 30.987099999999998,
                        "count": 1
                      },
                      {
                        "bin_start": 30.987099999999998,
                        "bin_end": 31.715799999999998,
                        "count": 0
                      },
                      {
                        "bin_start": 31.715799999999998,
                        "bin_end": 32.4445,
                        "count": 1
                      },
                      {
                        "bin_start": 32.4445,
                        "bin_end": 33.1732,
                        "count": 0
                      },
                      {
                        "bin_start": 33.1732,
                        "bin_end": 33.9019,
                        "count": 0
                      },
                      {
                        "bin_start": 33.9019,
                        "bin_end": 34.6306,
                        "count": 1
                      },
                      {
                        "bin_start": 34.6306,
                        "bin_end": 35.3593,
                        "count": 0
                      },
                      {
                        "bin_start": 35.3593,
                        "bin_end": 36.088,
                        "count": 1
                      }
                    ]
                  }
                },
                {
                  "name": "pop",
                  "dtype": "int64",
                  "stats": {
                    "unique_count": 5,
                    "nan_count": 0,
                    "min": "8425333",
                    "max": "13079460",
                    "histogram": [
                      {
                        "bin_start": 8425333,
                        "bin_end": 8890745.7,
                        "count": 1
                      },
                      {
                        "bin_start": 8890745.7,
                        "bin_end": 9356158.4,
                        "count": 1
                      },
                      {
                        "bin_start": 9356158.4,
                        "bin_end": 9821571.1,
                        "count": 0
                      },
                      {
                        "bin_start": 9821571.1,
                        "bin_end": 10286983.8,
                        "count": 1
                      },
                      {
                        "bin_start": 10286983.8,
                        "bin_end": 10752396.5,
                        "count": 0
                      },
                      {
                        "bin_start": 10752396.5,
                        "bin_end": 11217809.2,
                        "count": 0
                      },
                      {
                        "bin_start": 11217809.2,
                        "bin_end": 11683221.9,
                        "count": 1
                      },
                      {
                        "bin_start": 11683221.9,
                        "bin_end": 12148634.6,
                        "count": 0
                      },
                      {
                        "bin_start": 12148634.6,
                        "bin_end": 12614047.3,
                        "count": 0
                      },
                      {
                        "bin_start": 12614047.3,
                        "bin_end": 13079460,
                        "count": 1
                      }
                    ]
                  }
                },
                {
                  "name": "gdpPercap",
                  "dtype": "float64",
                  "stats": {
                    "unique_count": 5,
                    "nan_count": 0,
                    "min": "739.9811058",
                    "max": "853.10071",
                    "histogram": [
                      {
                        "bin_start": 739.9811058,
                        "bin_end": 751.29306622,
                        "count": 1
                      },
                      {
                        "bin_start": 751.29306622,
                        "bin_end": 762.60502664,
                        "count": 0
                      },
                      {
                        "bin_start": 762.60502664,
                        "bin_end": 773.91698706,
                        "count": 0
                      },
                      {
                        "bin_start": 773.91698706,
                        "bin_end": 785.22894748,
                        "count": 1
                      },
                      {
                        "bin_start": 785.22894748,
                        "bin_end": 796.5409079000001,
                        "count": 0
                      },
                      {
                        "bin_start": 796.5409079000001,
                        "bin_end": 807.85286832,
                        "count": 0
                      },
                      {
                        "bin_start": 807.85286832,
                        "bin_end": 819.1648287400001,
                        "count": 0
                      },
                      {
                        "bin_start": 819.1648287400001,
                        "bin_end": 830.4767891600001,
                        "count": 1
                      },
                      {
                        "bin_start": 830.4767891600001,
                        "bin_end": 841.7887495800001,
                        "count": 1
                      },
                      {
                        "bin_start": 841.7887495800001,
                        "bin_end": 853.10071,
                        "count": 1
                      }
                    ]
                  }
                },
                {
                  "name": "_deepnote_index_column",
                  "dtype": "int64"
                }
              ],
              "rows_top": [
                {
                  "country": "Afghanistan",
                  "continent": "Asia",
                  "year": 1952,
                  "lifeExp": 28.801,
                  "pop": 8425333,
                  "gdpPercap": 779.4453145,
                  "_deepnote_index_column": 0
                },
                {
                  "country": "Afghanistan",
                  "continent": "Asia",
                  "year": 1957,
                  "lifeExp": 30.332,
                  "pop": 9240934,
                  "gdpPercap": 820.8530296,
                  "_deepnote_index_column": 1
                },
                {
                  "country": "Afghanistan",
                  "continent": "Asia",
                  "year": 1962,
                  "lifeExp": 31.997,
                  "pop": 10267083,
                  "gdpPercap": 853.10071,
                  "_deepnote_index_column": 2
                },
                {
                  "country": "Afghanistan",
                  "continent": "Asia",
                  "year": 1967,
                  "lifeExp": 34.02,
                  "pop": 11537966,
                  "gdpPercap": 836.1971382,
                  "_deepnote_index_column": 3
                },
                {
                  "country": "Afghanistan",
                  "continent": "Asia",
                  "year": 1972,
                  "lifeExp": 36.088,
                  "pop": 13079460,
                  "gdpPercap": 739.9811058,
                  "_deepnote_index_column": 4
                }
              ],
              "rows_bottom": null
            },
            "text/plain": "       country continent  year  lifeExp       pop   gdpPercap\n0  Afghanistan      Asia  1952   28.801   8425333  779.445314\n1  Afghanistan      Asia  1957   30.332   9240934  820.853030\n2  Afghanistan      Asia  1962   31.997  10267083  853.100710\n3  Afghanistan      Asia  1967   34.020  11537966  836.197138\n4  Afghanistan      Asia  1972   36.088  13079460  739.981106",
            "text/html": "<div>\n<style scoped>\n    .dataframe tbody tr th:only-of-type {\n        vertical-align: middle;\n    }\n\n    .dataframe tbody tr th {\n        vertical-align: top;\n    }\n\n    .dataframe thead th {\n        text-align: right;\n    }\n</style>\n<table border=\"1\" class=\"dataframe\">\n  <thead>\n    <tr style=\"text-align: right;\">\n      <th></th>\n      <th>country</th>\n      <th>continent</th>\n      <th>year</th>\n      <th>lifeExp</th>\n      <th>pop</th>\n      <th>gdpPercap</th>\n    </tr>\n  </thead>\n  <tbody>\n    <tr>\n      <th>0</th>\n      <td>Afghanistan</td>\n      <td>Asia</td>\n      <td>1952</td>\n      <td>28.801</td>\n      <td>8425333</td>\n      <td>779.445314</td>\n    </tr>\n    <tr>\n      <th>1</th>\n      <td>Afghanistan</td>\n      <td>Asia</td>\n      <td>1957</td>\n      <td>30.332</td>\n      <td>9240934</td>\n      <td>820.853030</td>\n    </tr>\n    <tr>\n      <th>2</th>\n      <td>Afghanistan</td>\n      <td>Asia</td>\n      <td>1962</td>\n      <td>31.997</td>\n      <td>10267083</td>\n      <td>853.100710</td>\n    </tr>\n    <tr>\n      <th>3</th>\n      <td>Afghanistan</td>\n      <td>Asia</td>\n      <td>1967</td>\n      <td>34.020</td>\n      <td>11537966</td>\n      <td>836.197138</td>\n    </tr>\n    <tr>\n      <th>4</th>\n      <td>Afghanistan</td>\n      <td>Asia</td>\n      <td>1972</td>\n      <td>36.088</td>\n      <td>13079460</td>\n      <td>739.981106</td>\n    </tr>\n  </tbody>\n</table>\n</div>"
          },
          "metadata": {}
        }
      ]
    },
    {
      "cell_type": "code",
      "metadata": {
        "deepnote_to_be_reexecuted": false,
        "execution_millis": 13,
        "execution_start": 1619967634251,
        "source_hash": "25d43fa0",
        "cell_id": "00003-67b53033-0edf-4544-bbb5-1a976db9de0b",
        "deepnote_cell_type": "code"
      },
      "source": "df.columns",
      "execution_count": 4,
      "outputs": [
        {
          "output_type": "execute_result",
          "execution_count": 4,
          "data": {
            "text/plain": "Index(['country', 'continent', 'year', 'lifeExp', 'pop', 'gdpPercap'], dtype='object')"
          },
          "metadata": {}
        }
      ]
    },
    {
      "cell_type": "code",
      "metadata": {
        "deepnote_to_be_reexecuted": false,
        "execution_millis": 21,
        "execution_start": 1619967634251,
        "source_hash": "651ad380",
        "cell_id": "00004-5450e1de-7bb0-446e-96a7-37ff92d22b41",
        "deepnote_cell_type": "code"
      },
      "source": "df.index",
      "execution_count": 5,
      "outputs": [
        {
          "output_type": "execute_result",
          "execution_count": 5,
          "data": {
            "text/plain": "RangeIndex(start=0, stop=1704, step=1)"
          },
          "metadata": {}
        }
      ]
    },
    {
      "cell_type": "code",
      "metadata": {
        "deepnote_to_be_reexecuted": false,
        "execution_millis": 26,
        "execution_start": 1619967634290,
        "source_hash": "c00d0602",
        "cell_id": "00005-2ffa2e75-a920-4165-aebc-6641b5b79ee8",
        "deepnote_cell_type": "code"
      },
      "source": "df.values",
      "execution_count": 6,
      "outputs": [
        {
          "output_type": "execute_result",
          "execution_count": 6,
          "data": {
            "text/plain": "array([['Afghanistan', 'Asia', 1952, 28.801, 8425333, 779.4453145],\n       ['Afghanistan', 'Asia', 1957, 30.332, 9240934, 820.8530296],\n       ['Afghanistan', 'Asia', 1962, 31.997, 10267083, 853.10071],\n       ...,\n       ['Zimbabwe', 'Africa', 1997, 46.809, 11404948, 792.4499603],\n       ['Zimbabwe', 'Africa', 2002, 39.989, 11926563, 672.0386227],\n       ['Zimbabwe', 'Africa', 2007, 43.487, 12311143, 469.7092981]],\n      dtype=object)"
          },
          "metadata": {}
        }
      ]
    },
    {
      "cell_type": "code",
      "metadata": {
        "deepnote_to_be_reexecuted": false,
        "execution_millis": 43470583,
        "execution_start": 1619967634318,
        "source_hash": "61a12043",
        "cell_id": "00006-e0e6cecf-766e-4991-b753-0952855d9bd6",
        "deepnote_cell_type": "code"
      },
      "source": "type(df)",
      "execution_count": 7,
      "outputs": [
        {
          "output_type": "execute_result",
          "execution_count": 7,
          "data": {
            "text/plain": "pandas.core.frame.DataFrame"
          },
          "metadata": {}
        }
      ]
    },
    {
      "cell_type": "code",
      "metadata": {
        "deepnote_to_be_reexecuted": false,
        "execution_millis": 43470591,
        "execution_start": 1619967634362,
        "source_hash": "14f60b8f",
        "cell_id": "00007-82cce689-7a9c-4e59-a727-a60dd79d16d4",
        "deepnote_cell_type": "code"
      },
      "source": "df.shape",
      "execution_count": 8,
      "outputs": [
        {
          "output_type": "execute_result",
          "execution_count": 8,
          "data": {
            "text/plain": "(1704, 6)"
          },
          "metadata": {}
        }
      ]
    },
    {
      "cell_type": "code",
      "metadata": {
        "deepnote_to_be_reexecuted": false,
        "execution_millis": 43470607,
        "execution_start": 1619967634434,
        "source_hash": "d5db3423",
        "cell_id": "00008-c958105a-51d2-4ab3-8f38-b84835dd2fe5",
        "deepnote_cell_type": "code"
      },
      "source": "# df.shape()",
      "execution_count": 9,
      "outputs": []
    },
    {
      "cell_type": "code",
      "metadata": {
        "deepnote_to_be_reexecuted": false,
        "execution_millis": 43470701,
        "execution_start": 1619967634477,
        "source_hash": "de1e323c",
        "cell_id": "00009-146e6340-9e0a-487a-b2e0-6ffe208edc9f",
        "deepnote_cell_type": "code"
      },
      "source": "df.info()",
      "execution_count": 10,
      "outputs": [
        {
          "name": "stdout",
          "text": "<class 'pandas.core.frame.DataFrame'>\nRangeIndex: 1704 entries, 0 to 1703\nData columns (total 6 columns):\n #   Column     Non-Null Count  Dtype  \n---  ------     --------------  -----  \n 0   country    1704 non-null   object \n 1   continent  1704 non-null   object \n 2   year       1704 non-null   int64  \n 3   lifeExp    1704 non-null   float64\n 4   pop        1704 non-null   int64  \n 5   gdpPercap  1704 non-null   float64\ndtypes: float64(2), int64(2), object(2)\nmemory usage: 80.0+ KB\n",
          "output_type": "stream"
        }
      ]
    },
    {
      "cell_type": "code",
      "metadata": {
        "deepnote_to_be_reexecuted": false,
        "execution_millis": 43470661,
        "execution_start": 1619967634512,
        "source_hash": "3af5b800",
        "cell_id": "00010-a474d57d-ebfc-486c-8502-08e2113d73aa",
        "deepnote_cell_type": "code"
      },
      "source": "df['country']",
      "execution_count": 11,
      "outputs": [
        {
          "output_type": "execute_result",
          "execution_count": 11,
          "data": {
            "text/plain": "0       Afghanistan\n1       Afghanistan\n2       Afghanistan\n3       Afghanistan\n4       Afghanistan\n           ...     \n1699       Zimbabwe\n1700       Zimbabwe\n1701       Zimbabwe\n1702       Zimbabwe\n1703       Zimbabwe\nName: country, Length: 1704, dtype: object"
          },
          "metadata": {}
        }
      ]
    },
    {
      "cell_type": "code",
      "metadata": {
        "deepnote_to_be_reexecuted": false,
        "execution_millis": 43470702,
        "execution_start": 1619967634565,
        "source_hash": "f3718ab4",
        "cell_id": "00011-afb3cd25-3c11-4d99-bb7f-1c95f2be8429",
        "deepnote_cell_type": "code"
      },
      "source": "country_df = df['country']",
      "execution_count": 12,
      "outputs": []
    },
    {
      "cell_type": "code",
      "metadata": {
        "deepnote_to_be_reexecuted": false,
        "execution_millis": 43470721,
        "execution_start": 1619967634566,
        "source_hash": "98ba0e48",
        "cell_id": "00012-98680e46-dd22-4626-95ca-7f48cb95a591",
        "deepnote_cell_type": "code"
      },
      "source": "country_df.head()",
      "execution_count": 13,
      "outputs": [
        {
          "output_type": "execute_result",
          "execution_count": 13,
          "data": {
            "text/plain": "0    Afghanistan\n1    Afghanistan\n2    Afghanistan\n3    Afghanistan\n4    Afghanistan\nName: country, dtype: object"
          },
          "metadata": {}
        }
      ]
    },
    {
      "cell_type": "code",
      "metadata": {
        "deepnote_to_be_reexecuted": false,
        "execution_millis": 43470722,
        "execution_start": 1619967634610,
        "source_hash": "9b1f19c2",
        "cell_id": "00013-1dd7d061-55cb-43ed-afc4-046d0f1e77ae",
        "deepnote_cell_type": "code"
      },
      "source": "type(country_df)",
      "execution_count": 14,
      "outputs": [
        {
          "output_type": "execute_result",
          "execution_count": 14,
          "data": {
            "text/plain": "pandas.core.series.Series"
          },
          "metadata": {}
        }
      ]
    },
    {
      "cell_type": "code",
      "metadata": {
        "deepnote_to_be_reexecuted": false,
        "execution_millis": 43470724,
        "execution_start": 1619967634610,
        "source_hash": "d9247761",
        "cell_id": "00014-cff6e3ff-940b-4770-9421-e966564d9fcc",
        "deepnote_cell_type": "code"
      },
      "source": "subset = df[['country', 'continent', 'year']]",
      "execution_count": 15,
      "outputs": []
    },
    {
      "cell_type": "code",
      "metadata": {
        "deepnote_to_be_reexecuted": false,
        "execution_millis": 62,
        "execution_start": 1619967634611,
        "source_hash": "8d3cf01e",
        "cell_id": "00015-a33408c4-7cc3-4696-b0c1-54b77cf5969f",
        "deepnote_cell_type": "code"
      },
      "source": "subset.head()",
      "execution_count": 16,
      "outputs": [
        {
          "output_type": "execute_result",
          "execution_count": 16,
          "data": {
            "application/vnd.deepnote.dataframe.v2+json": {
              "row_count": 5,
              "column_count": 3,
              "columns": [
                {
                  "name": "country",
                  "dtype": "object",
                  "stats": {
                    "unique_count": 1,
                    "nan_count": 0,
                    "categories": [
                      {
                        "name": "Afghanistan",
                        "count": 5
                      }
                    ]
                  }
                },
                {
                  "name": "continent",
                  "dtype": "object",
                  "stats": {
                    "unique_count": 1,
                    "nan_count": 0,
                    "categories": [
                      {
                        "name": "Asia",
                        "count": 5
                      }
                    ]
                  }
                },
                {
                  "name": "year",
                  "dtype": "int64",
                  "stats": {
                    "unique_count": 5,
                    "nan_count": 0,
                    "min": "1952",
                    "max": "1972",
                    "histogram": [
                      {
                        "bin_start": 1952,
                        "bin_end": 1954,
                        "count": 1
                      },
                      {
                        "bin_start": 1954,
                        "bin_end": 1956,
                        "count": 0
                      },
                      {
                        "bin_start": 1956,
                        "bin_end": 1958,
                        "count": 1
                      },
                      {
                        "bin_start": 1958,
                        "bin_end": 1960,
                        "count": 0
                      },
                      {
                        "bin_start": 1960,
                        "bin_end": 1962,
                        "count": 0
                      },
                      {
                        "bin_start": 1962,
                        "bin_end": 1964,
                        "count": 1
                      },
                      {
                        "bin_start": 1964,
                        "bin_end": 1966,
                        "count": 0
                      },
                      {
                        "bin_start": 1966,
                        "bin_end": 1968,
                        "count": 1
                      },
                      {
                        "bin_start": 1968,
                        "bin_end": 1970,
                        "count": 0
                      },
                      {
                        "bin_start": 1970,
                        "bin_end": 1972,
                        "count": 1
                      }
                    ]
                  }
                },
                {
                  "name": "_deepnote_index_column",
                  "dtype": "int64"
                }
              ],
              "rows_top": [
                {
                  "country": "Afghanistan",
                  "continent": "Asia",
                  "year": 1952,
                  "_deepnote_index_column": 0
                },
                {
                  "country": "Afghanistan",
                  "continent": "Asia",
                  "year": 1957,
                  "_deepnote_index_column": 1
                },
                {
                  "country": "Afghanistan",
                  "continent": "Asia",
                  "year": 1962,
                  "_deepnote_index_column": 2
                },
                {
                  "country": "Afghanistan",
                  "continent": "Asia",
                  "year": 1967,
                  "_deepnote_index_column": 3
                },
                {
                  "country": "Afghanistan",
                  "continent": "Asia",
                  "year": 1972,
                  "_deepnote_index_column": 4
                }
              ],
              "rows_bottom": null
            },
            "text/plain": "       country continent  year\n0  Afghanistan      Asia  1952\n1  Afghanistan      Asia  1957\n2  Afghanistan      Asia  1962\n3  Afghanistan      Asia  1967\n4  Afghanistan      Asia  1972",
            "text/html": "<div>\n<style scoped>\n    .dataframe tbody tr th:only-of-type {\n        vertical-align: middle;\n    }\n\n    .dataframe tbody tr th {\n        vertical-align: top;\n    }\n\n    .dataframe thead th {\n        text-align: right;\n    }\n</style>\n<table border=\"1\" class=\"dataframe\">\n  <thead>\n    <tr style=\"text-align: right;\">\n      <th></th>\n      <th>country</th>\n      <th>continent</th>\n      <th>year</th>\n    </tr>\n  </thead>\n  <tbody>\n    <tr>\n      <th>0</th>\n      <td>Afghanistan</td>\n      <td>Asia</td>\n      <td>1952</td>\n    </tr>\n    <tr>\n      <th>1</th>\n      <td>Afghanistan</td>\n      <td>Asia</td>\n      <td>1957</td>\n    </tr>\n    <tr>\n      <th>2</th>\n      <td>Afghanistan</td>\n      <td>Asia</td>\n      <td>1962</td>\n    </tr>\n    <tr>\n      <th>3</th>\n      <td>Afghanistan</td>\n      <td>Asia</td>\n      <td>1967</td>\n    </tr>\n    <tr>\n      <th>4</th>\n      <td>Afghanistan</td>\n      <td>Asia</td>\n      <td>1972</td>\n    </tr>\n  </tbody>\n</table>\n</div>"
          },
          "metadata": {}
        }
      ]
    },
    {
      "cell_type": "code",
      "metadata": {
        "deepnote_to_be_reexecuted": false,
        "execution_millis": 1,
        "execution_start": 1619967634648,
        "source_hash": "c2aac475",
        "cell_id": "00016-26ba1c70-1226-4b1a-b51a-79e7987241d4",
        "deepnote_cell_type": "code"
      },
      "source": "pandas.__version__",
      "execution_count": 17,
      "outputs": [
        {
          "output_type": "execute_result",
          "execution_count": 17,
          "data": {
            "text/plain": "'1.2.4'"
          },
          "metadata": {}
        }
      ]
    },
    {
      "cell_type": "code",
      "metadata": {
        "deepnote_to_be_reexecuted": false,
        "execution_millis": 43470799,
        "execution_start": 1619967634680,
        "source_hash": "c25fd91a",
        "cell_id": "00017-860ff699-e25d-402e-a323-fb55bbac7ac2",
        "deepnote_cell_type": "code"
      },
      "source": "df.loc[2]",
      "execution_count": 18,
      "outputs": [
        {
          "output_type": "execute_result",
          "execution_count": 18,
          "data": {
            "text/plain": "country      Afghanistan\ncontinent           Asia\nyear                1962\nlifeExp           31.997\npop             10267083\ngdpPercap      853.10071\nName: 2, dtype: object"
          },
          "metadata": {}
        }
      ]
    },
    {
      "cell_type": "code",
      "metadata": {
        "deepnote_to_be_reexecuted": false,
        "execution_millis": 90,
        "execution_start": 1619967634690,
        "source_hash": "18a8fc21",
        "cell_id": "00018-c5ffe527-2516-4c07-855f-2e03449e9916",
        "deepnote_cell_type": "code"
      },
      "source": "df.loc[[2, 0]]",
      "execution_count": 19,
      "outputs": [
        {
          "output_type": "execute_result",
          "execution_count": 19,
          "data": {
            "application/vnd.deepnote.dataframe.v2+json": {
              "row_count": 2,
              "column_count": 6,
              "columns": [
                {
                  "name": "country",
                  "dtype": "object",
                  "stats": {
                    "unique_count": 1,
                    "nan_count": 0,
                    "categories": [
                      {
                        "name": "Afghanistan",
                        "count": 2
                      }
                    ]
                  }
                },
                {
                  "name": "continent",
                  "dtype": "object",
                  "stats": {
                    "unique_count": 1,
                    "nan_count": 0,
                    "categories": [
                      {
                        "name": "Asia",
                        "count": 2
                      }
                    ]
                  }
                },
                {
                  "name": "year",
                  "dtype": "int64",
                  "stats": {
                    "unique_count": 2,
                    "nan_count": 0,
                    "min": "1952",
                    "max": "1962",
                    "histogram": [
                      {
                        "bin_start": 1952,
                        "bin_end": 1953,
                        "count": 1
                      },
                      {
                        "bin_start": 1953,
                        "bin_end": 1954,
                        "count": 0
                      },
                      {
                        "bin_start": 1954,
                        "bin_end": 1955,
                        "count": 0
                      },
                      {
                        "bin_start": 1955,
                        "bin_end": 1956,
                        "count": 0
                      },
                      {
                        "bin_start": 1956,
                        "bin_end": 1957,
                        "count": 0
                      },
                      {
                        "bin_start": 1957,
                        "bin_end": 1958,
                        "count": 0
                      },
                      {
                        "bin_start": 1958,
                        "bin_end": 1959,
                        "count": 0
                      },
                      {
                        "bin_start": 1959,
                        "bin_end": 1960,
                        "count": 0
                      },
                      {
                        "bin_start": 1960,
                        "bin_end": 1961,
                        "count": 0
                      },
                      {
                        "bin_start": 1961,
                        "bin_end": 1962,
                        "count": 1
                      }
                    ]
                  }
                },
                {
                  "name": "lifeExp",
                  "dtype": "float64",
                  "stats": {
                    "unique_count": 2,
                    "nan_count": 0,
                    "min": "28.801",
                    "max": "31.997",
                    "histogram": [
                      {
                        "bin_start": 28.801,
                        "bin_end": 29.1206,
                        "count": 1
                      },
                      {
                        "bin_start": 29.1206,
                        "bin_end": 29.440199999999997,
                        "count": 0
                      },
                      {
                        "bin_start": 29.440199999999997,
                        "bin_end": 29.7598,
                        "count": 0
                      },
                      {
                        "bin_start": 29.7598,
                        "bin_end": 30.0794,
                        "count": 0
                      },
                      {
                        "bin_start": 30.0794,
                        "bin_end": 30.399,
                        "count": 0
                      },
                      {
                        "bin_start": 30.399,
                        "bin_end": 30.7186,
                        "count": 0
                      },
                      {
                        "bin_start": 30.7186,
                        "bin_end": 31.0382,
                        "count": 0
                      },
                      {
                        "bin_start": 31.0382,
                        "bin_end": 31.3578,
                        "count": 0
                      },
                      {
                        "bin_start": 31.3578,
                        "bin_end": 31.6774,
                        "count": 0
                      },
                      {
                        "bin_start": 31.6774,
                        "bin_end": 31.997,
                        "count": 1
                      }
                    ]
                  }
                },
                {
                  "name": "pop",
                  "dtype": "int64",
                  "stats": {
                    "unique_count": 2,
                    "nan_count": 0,
                    "min": "8425333",
                    "max": "10267083",
                    "histogram": [
                      {
                        "bin_start": 8425333,
                        "bin_end": 8609508,
                        "count": 1
                      },
                      {
                        "bin_start": 8609508,
                        "bin_end": 8793683,
                        "count": 0
                      },
                      {
                        "bin_start": 8793683,
                        "bin_end": 8977858,
                        "count": 0
                      },
                      {
                        "bin_start": 8977858,
                        "bin_end": 9162033,
                        "count": 0
                      },
                      {
                        "bin_start": 9162033,
                        "bin_end": 9346208,
                        "count": 0
                      },
                      {
                        "bin_start": 9346208,
                        "bin_end": 9530383,
                        "count": 0
                      },
                      {
                        "bin_start": 9530383,
                        "bin_end": 9714558,
                        "count": 0
                      },
                      {
                        "bin_start": 9714558,
                        "bin_end": 9898733,
                        "count": 0
                      },
                      {
                        "bin_start": 9898733,
                        "bin_end": 10082908,
                        "count": 0
                      },
                      {
                        "bin_start": 10082908,
                        "bin_end": 10267083,
                        "count": 1
                      }
                    ]
                  }
                },
                {
                  "name": "gdpPercap",
                  "dtype": "float64",
                  "stats": {
                    "unique_count": 2,
                    "nan_count": 0,
                    "min": "779.4453145",
                    "max": "853.10071",
                    "histogram": [
                      {
                        "bin_start": 779.4453145,
                        "bin_end": 786.81085405,
                        "count": 1
                      },
                      {
                        "bin_start": 786.81085405,
                        "bin_end": 794.1763936,
                        "count": 0
                      },
                      {
                        "bin_start": 794.1763936,
                        "bin_end": 801.54193315,
                        "count": 0
                      },
                      {
                        "bin_start": 801.54193315,
                        "bin_end": 808.9074727,
                        "count": 0
                      },
                      {
                        "bin_start": 808.9074727,
                        "bin_end": 816.27301225,
                        "count": 0
                      },
                      {
                        "bin_start": 816.27301225,
                        "bin_end": 823.6385518000001,
                        "count": 0
                      },
                      {
                        "bin_start": 823.6385518000001,
                        "bin_end": 831.0040913500001,
                        "count": 0
                      },
                      {
                        "bin_start": 831.0040913500001,
                        "bin_end": 838.3696309000001,
                        "count": 0
                      },
                      {
                        "bin_start": 838.3696309000001,
                        "bin_end": 845.73517045,
                        "count": 0
                      },
                      {
                        "bin_start": 845.73517045,
                        "bin_end": 853.10071,
                        "count": 1
                      }
                    ]
                  }
                },
                {
                  "name": "_deepnote_index_column",
                  "dtype": "int64"
                }
              ],
              "rows_top": [
                {
                  "country": "Afghanistan",
                  "continent": "Asia",
                  "year": 1962,
                  "lifeExp": 31.997,
                  "pop": 10267083,
                  "gdpPercap": 853.10071,
                  "_deepnote_index_column": 2
                },
                {
                  "country": "Afghanistan",
                  "continent": "Asia",
                  "year": 1952,
                  "lifeExp": 28.801,
                  "pop": 8425333,
                  "gdpPercap": 779.4453145,
                  "_deepnote_index_column": 0
                }
              ],
              "rows_bottom": null
            },
            "text/plain": "       country continent  year  lifeExp       pop   gdpPercap\n2  Afghanistan      Asia  1962   31.997  10267083  853.100710\n0  Afghanistan      Asia  1952   28.801   8425333  779.445314",
            "text/html": "<div>\n<style scoped>\n    .dataframe tbody tr th:only-of-type {\n        vertical-align: middle;\n    }\n\n    .dataframe tbody tr th {\n        vertical-align: top;\n    }\n\n    .dataframe thead th {\n        text-align: right;\n    }\n</style>\n<table border=\"1\" class=\"dataframe\">\n  <thead>\n    <tr style=\"text-align: right;\">\n      <th></th>\n      <th>country</th>\n      <th>continent</th>\n      <th>year</th>\n      <th>lifeExp</th>\n      <th>pop</th>\n      <th>gdpPercap</th>\n    </tr>\n  </thead>\n  <tbody>\n    <tr>\n      <th>2</th>\n      <td>Afghanistan</td>\n      <td>Asia</td>\n      <td>1962</td>\n      <td>31.997</td>\n      <td>10267083</td>\n      <td>853.100710</td>\n    </tr>\n    <tr>\n      <th>0</th>\n      <td>Afghanistan</td>\n      <td>Asia</td>\n      <td>1952</td>\n      <td>28.801</td>\n      <td>8425333</td>\n      <td>779.445314</td>\n    </tr>\n  </tbody>\n</table>\n</div>"
          },
          "metadata": {}
        }
      ]
    },
    {
      "cell_type": "code",
      "metadata": {
        "deepnote_to_be_reexecuted": false,
        "execution_millis": 110,
        "execution_start": 1619967634749,
        "source_hash": "7bd7608c",
        "cell_id": "00019-747fb9de-711f-44f1-87ac-859f9abe9353",
        "deepnote_cell_type": "code"
      },
      "source": "df.iloc[2]",
      "execution_count": 20,
      "outputs": [
        {
          "output_type": "execute_result",
          "execution_count": 20,
          "data": {
            "text/plain": "country      Afghanistan\ncontinent           Asia\nyear                1962\nlifeExp           31.997\npop             10267083\ngdpPercap      853.10071\nName: 2, dtype: object"
          },
          "metadata": {}
        }
      ]
    },
    {
      "cell_type": "code",
      "metadata": {
        "deepnote_to_be_reexecuted": false,
        "execution_millis": 54,
        "execution_start": 1619967634842,
        "source_hash": "c085b6ba",
        "cell_id": "00020-57e2e298-61c2-4ba4-aaba-6bf14ed8dd99",
        "deepnote_cell_type": "code"
      },
      "source": "df.head()",
      "execution_count": 21,
      "outputs": [
        {
          "output_type": "execute_result",
          "execution_count": 21,
          "data": {
            "application/vnd.deepnote.dataframe.v2+json": {
              "row_count": 5,
              "column_count": 6,
              "columns": [
                {
                  "name": "country",
                  "dtype": "object",
                  "stats": {
                    "unique_count": 1,
                    "nan_count": 0,
                    "categories": [
                      {
                        "name": "Afghanistan",
                        "count": 5
                      }
                    ]
                  }
                },
                {
                  "name": "continent",
                  "dtype": "object",
                  "stats": {
                    "unique_count": 1,
                    "nan_count": 0,
                    "categories": [
                      {
                        "name": "Asia",
                        "count": 5
                      }
                    ]
                  }
                },
                {
                  "name": "year",
                  "dtype": "int64",
                  "stats": {
                    "unique_count": 5,
                    "nan_count": 0,
                    "min": "1952",
                    "max": "1972",
                    "histogram": [
                      {
                        "bin_start": 1952,
                        "bin_end": 1954,
                        "count": 1
                      },
                      {
                        "bin_start": 1954,
                        "bin_end": 1956,
                        "count": 0
                      },
                      {
                        "bin_start": 1956,
                        "bin_end": 1958,
                        "count": 1
                      },
                      {
                        "bin_start": 1958,
                        "bin_end": 1960,
                        "count": 0
                      },
                      {
                        "bin_start": 1960,
                        "bin_end": 1962,
                        "count": 0
                      },
                      {
                        "bin_start": 1962,
                        "bin_end": 1964,
                        "count": 1
                      },
                      {
                        "bin_start": 1964,
                        "bin_end": 1966,
                        "count": 0
                      },
                      {
                        "bin_start": 1966,
                        "bin_end": 1968,
                        "count": 1
                      },
                      {
                        "bin_start": 1968,
                        "bin_end": 1970,
                        "count": 0
                      },
                      {
                        "bin_start": 1970,
                        "bin_end": 1972,
                        "count": 1
                      }
                    ]
                  }
                },
                {
                  "name": "lifeExp",
                  "dtype": "float64",
                  "stats": {
                    "unique_count": 5,
                    "nan_count": 0,
                    "min": "28.801",
                    "max": "36.088",
                    "histogram": [
                      {
                        "bin_start": 28.801,
                        "bin_end": 29.5297,
                        "count": 1
                      },
                      {
                        "bin_start": 29.5297,
                        "bin_end": 30.258399999999998,
                        "count": 0
                      },
                      {
                        "bin_start": 30.258399999999998,
                        "bin_end": 30.987099999999998,
                        "count": 1
                      },
                      {
                        "bin_start": 30.987099999999998,
                        "bin_end": 31.715799999999998,
                        "count": 0
                      },
                      {
                        "bin_start": 31.715799999999998,
                        "bin_end": 32.4445,
                        "count": 1
                      },
                      {
                        "bin_start": 32.4445,
                        "bin_end": 33.1732,
                        "count": 0
                      },
                      {
                        "bin_start": 33.1732,
                        "bin_end": 33.9019,
                        "count": 0
                      },
                      {
                        "bin_start": 33.9019,
                        "bin_end": 34.6306,
                        "count": 1
                      },
                      {
                        "bin_start": 34.6306,
                        "bin_end": 35.3593,
                        "count": 0
                      },
                      {
                        "bin_start": 35.3593,
                        "bin_end": 36.088,
                        "count": 1
                      }
                    ]
                  }
                },
                {
                  "name": "pop",
                  "dtype": "int64",
                  "stats": {
                    "unique_count": 5,
                    "nan_count": 0,
                    "min": "8425333",
                    "max": "13079460",
                    "histogram": [
                      {
                        "bin_start": 8425333,
                        "bin_end": 8890745.7,
                        "count": 1
                      },
                      {
                        "bin_start": 8890745.7,
                        "bin_end": 9356158.4,
                        "count": 1
                      },
                      {
                        "bin_start": 9356158.4,
                        "bin_end": 9821571.1,
                        "count": 0
                      },
                      {
                        "bin_start": 9821571.1,
                        "bin_end": 10286983.8,
                        "count": 1
                      },
                      {
                        "bin_start": 10286983.8,
                        "bin_end": 10752396.5,
                        "count": 0
                      },
                      {
                        "bin_start": 10752396.5,
                        "bin_end": 11217809.2,
                        "count": 0
                      },
                      {
                        "bin_start": 11217809.2,
                        "bin_end": 11683221.9,
                        "count": 1
                      },
                      {
                        "bin_start": 11683221.9,
                        "bin_end": 12148634.6,
                        "count": 0
                      },
                      {
                        "bin_start": 12148634.6,
                        "bin_end": 12614047.3,
                        "count": 0
                      },
                      {
                        "bin_start": 12614047.3,
                        "bin_end": 13079460,
                        "count": 1
                      }
                    ]
                  }
                },
                {
                  "name": "gdpPercap",
                  "dtype": "float64",
                  "stats": {
                    "unique_count": 5,
                    "nan_count": 0,
                    "min": "739.9811058",
                    "max": "853.10071",
                    "histogram": [
                      {
                        "bin_start": 739.9811058,
                        "bin_end": 751.29306622,
                        "count": 1
                      },
                      {
                        "bin_start": 751.29306622,
                        "bin_end": 762.60502664,
                        "count": 0
                      },
                      {
                        "bin_start": 762.60502664,
                        "bin_end": 773.91698706,
                        "count": 0
                      },
                      {
                        "bin_start": 773.91698706,
                        "bin_end": 785.22894748,
                        "count": 1
                      },
                      {
                        "bin_start": 785.22894748,
                        "bin_end": 796.5409079000001,
                        "count": 0
                      },
                      {
                        "bin_start": 796.5409079000001,
                        "bin_end": 807.85286832,
                        "count": 0
                      },
                      {
                        "bin_start": 807.85286832,
                        "bin_end": 819.1648287400001,
                        "count": 0
                      },
                      {
                        "bin_start": 819.1648287400001,
                        "bin_end": 830.4767891600001,
                        "count": 1
                      },
                      {
                        "bin_start": 830.4767891600001,
                        "bin_end": 841.7887495800001,
                        "count": 1
                      },
                      {
                        "bin_start": 841.7887495800001,
                        "bin_end": 853.10071,
                        "count": 1
                      }
                    ]
                  }
                },
                {
                  "name": "_deepnote_index_column",
                  "dtype": "int64"
                }
              ],
              "rows_top": [
                {
                  "country": "Afghanistan",
                  "continent": "Asia",
                  "year": 1952,
                  "lifeExp": 28.801,
                  "pop": 8425333,
                  "gdpPercap": 779.4453145,
                  "_deepnote_index_column": 0
                },
                {
                  "country": "Afghanistan",
                  "continent": "Asia",
                  "year": 1957,
                  "lifeExp": 30.332,
                  "pop": 9240934,
                  "gdpPercap": 820.8530296,
                  "_deepnote_index_column": 1
                },
                {
                  "country": "Afghanistan",
                  "continent": "Asia",
                  "year": 1962,
                  "lifeExp": 31.997,
                  "pop": 10267083,
                  "gdpPercap": 853.10071,
                  "_deepnote_index_column": 2
                },
                {
                  "country": "Afghanistan",
                  "continent": "Asia",
                  "year": 1967,
                  "lifeExp": 34.02,
                  "pop": 11537966,
                  "gdpPercap": 836.1971382,
                  "_deepnote_index_column": 3
                },
                {
                  "country": "Afghanistan",
                  "continent": "Asia",
                  "year": 1972,
                  "lifeExp": 36.088,
                  "pop": 13079460,
                  "gdpPercap": 739.9811058,
                  "_deepnote_index_column": 4
                }
              ],
              "rows_bottom": null
            },
            "text/plain": "       country continent  year  lifeExp       pop   gdpPercap\n0  Afghanistan      Asia  1952   28.801   8425333  779.445314\n1  Afghanistan      Asia  1957   30.332   9240934  820.853030\n2  Afghanistan      Asia  1962   31.997  10267083  853.100710\n3  Afghanistan      Asia  1967   34.020  11537966  836.197138\n4  Afghanistan      Asia  1972   36.088  13079460  739.981106",
            "text/html": "<div>\n<style scoped>\n    .dataframe tbody tr th:only-of-type {\n        vertical-align: middle;\n    }\n\n    .dataframe tbody tr th {\n        vertical-align: top;\n    }\n\n    .dataframe thead th {\n        text-align: right;\n    }\n</style>\n<table border=\"1\" class=\"dataframe\">\n  <thead>\n    <tr style=\"text-align: right;\">\n      <th></th>\n      <th>country</th>\n      <th>continent</th>\n      <th>year</th>\n      <th>lifeExp</th>\n      <th>pop</th>\n      <th>gdpPercap</th>\n    </tr>\n  </thead>\n  <tbody>\n    <tr>\n      <th>0</th>\n      <td>Afghanistan</td>\n      <td>Asia</td>\n      <td>1952</td>\n      <td>28.801</td>\n      <td>8425333</td>\n      <td>779.445314</td>\n    </tr>\n    <tr>\n      <th>1</th>\n      <td>Afghanistan</td>\n      <td>Asia</td>\n      <td>1957</td>\n      <td>30.332</td>\n      <td>9240934</td>\n      <td>820.853030</td>\n    </tr>\n    <tr>\n      <th>2</th>\n      <td>Afghanistan</td>\n      <td>Asia</td>\n      <td>1962</td>\n      <td>31.997</td>\n      <td>10267083</td>\n      <td>853.100710</td>\n    </tr>\n    <tr>\n      <th>3</th>\n      <td>Afghanistan</td>\n      <td>Asia</td>\n      <td>1967</td>\n      <td>34.020</td>\n      <td>11537966</td>\n      <td>836.197138</td>\n    </tr>\n    <tr>\n      <th>4</th>\n      <td>Afghanistan</td>\n      <td>Asia</td>\n      <td>1972</td>\n      <td>36.088</td>\n      <td>13079460</td>\n      <td>739.981106</td>\n    </tr>\n  </tbody>\n</table>\n</div>"
          },
          "metadata": {}
        }
      ]
    },
    {
      "cell_type": "code",
      "metadata": {
        "deepnote_to_be_reexecuted": false,
        "execution_millis": 7,
        "execution_start": 1619967634883,
        "source_hash": "c7e45169",
        "cell_id": "00021-c87c2397-05ed-4247-8ce1-359d8fd19596",
        "deepnote_cell_type": "code"
      },
      "source": "# df.ix[2]",
      "execution_count": 22,
      "outputs": []
    },
    {
      "cell_type": "code",
      "metadata": {
        "deepnote_to_be_reexecuted": false,
        "execution_millis": 11,
        "execution_start": 1619967634900,
        "source_hash": "d95f452a",
        "cell_id": "00022-6e432c18-745c-4900-a7f6-7c534e014ecf",
        "deepnote_cell_type": "code"
      },
      "source": "subset = df.loc[:, ['year', 'pop']]",
      "execution_count": 23,
      "outputs": []
    },
    {
      "cell_type": "code",
      "metadata": {
        "deepnote_to_be_reexecuted": false,
        "execution_millis": 32,
        "execution_start": 1619967634939,
        "source_hash": "8d3cf01e",
        "cell_id": "00023-6fbefa59-d8bc-4e00-966c-cc338e104425",
        "deepnote_cell_type": "code"
      },
      "source": "subset.head()",
      "execution_count": 24,
      "outputs": [
        {
          "output_type": "execute_result",
          "execution_count": 24,
          "data": {
            "application/vnd.deepnote.dataframe.v2+json": {
              "row_count": 5,
              "column_count": 2,
              "columns": [
                {
                  "name": "year",
                  "dtype": "int64",
                  "stats": {
                    "unique_count": 5,
                    "nan_count": 0,
                    "min": "1952",
                    "max": "1972",
                    "histogram": [
                      {
                        "bin_start": 1952,
                        "bin_end": 1954,
                        "count": 1
                      },
                      {
                        "bin_start": 1954,
                        "bin_end": 1956,
                        "count": 0
                      },
                      {
                        "bin_start": 1956,
                        "bin_end": 1958,
                        "count": 1
                      },
                      {
                        "bin_start": 1958,
                        "bin_end": 1960,
                        "count": 0
                      },
                      {
                        "bin_start": 1960,
                        "bin_end": 1962,
                        "count": 0
                      },
                      {
                        "bin_start": 1962,
                        "bin_end": 1964,
                        "count": 1
                      },
                      {
                        "bin_start": 1964,
                        "bin_end": 1966,
                        "count": 0
                      },
                      {
                        "bin_start": 1966,
                        "bin_end": 1968,
                        "count": 1
                      },
                      {
                        "bin_start": 1968,
                        "bin_end": 1970,
                        "count": 0
                      },
                      {
                        "bin_start": 1970,
                        "bin_end": 1972,
                        "count": 1
                      }
                    ]
                  }
                },
                {
                  "name": "pop",
                  "dtype": "int64",
                  "stats": {
                    "unique_count": 5,
                    "nan_count": 0,
                    "min": "8425333",
                    "max": "13079460",
                    "histogram": [
                      {
                        "bin_start": 8425333,
                        "bin_end": 8890745.7,
                        "count": 1
                      },
                      {
                        "bin_start": 8890745.7,
                        "bin_end": 9356158.4,
                        "count": 1
                      },
                      {
                        "bin_start": 9356158.4,
                        "bin_end": 9821571.1,
                        "count": 0
                      },
                      {
                        "bin_start": 9821571.1,
                        "bin_end": 10286983.8,
                        "count": 1
                      },
                      {
                        "bin_start": 10286983.8,
                        "bin_end": 10752396.5,
                        "count": 0
                      },
                      {
                        "bin_start": 10752396.5,
                        "bin_end": 11217809.2,
                        "count": 0
                      },
                      {
                        "bin_start": 11217809.2,
                        "bin_end": 11683221.9,
                        "count": 1
                      },
                      {
                        "bin_start": 11683221.9,
                        "bin_end": 12148634.6,
                        "count": 0
                      },
                      {
                        "bin_start": 12148634.6,
                        "bin_end": 12614047.3,
                        "count": 0
                      },
                      {
                        "bin_start": 12614047.3,
                        "bin_end": 13079460,
                        "count": 1
                      }
                    ]
                  }
                },
                {
                  "name": "_deepnote_index_column",
                  "dtype": "int64"
                }
              ],
              "rows_top": [
                {
                  "year": 1952,
                  "pop": 8425333,
                  "_deepnote_index_column": 0
                },
                {
                  "year": 1957,
                  "pop": 9240934,
                  "_deepnote_index_column": 1
                },
                {
                  "year": 1962,
                  "pop": 10267083,
                  "_deepnote_index_column": 2
                },
                {
                  "year": 1967,
                  "pop": 11537966,
                  "_deepnote_index_column": 3
                },
                {
                  "year": 1972,
                  "pop": 13079460,
                  "_deepnote_index_column": 4
                }
              ],
              "rows_bottom": null
            },
            "text/plain": "   year       pop\n0  1952   8425333\n1  1957   9240934\n2  1962  10267083\n3  1967  11537966\n4  1972  13079460",
            "text/html": "<div>\n<style scoped>\n    .dataframe tbody tr th:only-of-type {\n        vertical-align: middle;\n    }\n\n    .dataframe tbody tr th {\n        vertical-align: top;\n    }\n\n    .dataframe thead th {\n        text-align: right;\n    }\n</style>\n<table border=\"1\" class=\"dataframe\">\n  <thead>\n    <tr style=\"text-align: right;\">\n      <th></th>\n      <th>year</th>\n      <th>pop</th>\n    </tr>\n  </thead>\n  <tbody>\n    <tr>\n      <th>0</th>\n      <td>1952</td>\n      <td>8425333</td>\n    </tr>\n    <tr>\n      <th>1</th>\n      <td>1957</td>\n      <td>9240934</td>\n    </tr>\n    <tr>\n      <th>2</th>\n      <td>1962</td>\n      <td>10267083</td>\n    </tr>\n    <tr>\n      <th>3</th>\n      <td>1967</td>\n      <td>11537966</td>\n    </tr>\n    <tr>\n      <th>4</th>\n      <td>1972</td>\n      <td>13079460</td>\n    </tr>\n  </tbody>\n</table>\n</div>"
          },
          "metadata": {}
        }
      ]
    },
    {
      "cell_type": "code",
      "metadata": {
        "deepnote_to_be_reexecuted": false,
        "execution_millis": 23,
        "execution_start": 1619967635017,
        "source_hash": "55e6cfe",
        "cell_id": "00024-f29a38cf-e673-46a8-affc-441d267ded7d",
        "deepnote_cell_type": "code"
      },
      "source": "df.loc[df['year'] == 1967, ['year', 'pop']]",
      "execution_count": 25,
      "outputs": [
        {
          "output_type": "execute_result",
          "execution_count": 25,
          "data": {
            "application/vnd.deepnote.dataframe.v2+json": {
              "row_count": 142,
              "column_count": 2,
              "columns": [
                {
                  "name": "year",
                  "dtype": "int64",
                  "stats": {
                    "unique_count": 1,
                    "nan_count": 0,
                    "min": "1967",
                    "max": "1967",
                    "histogram": [
                      {
                        "bin_start": 1966.5,
                        "bin_end": 1966.6,
                        "count": 0
                      },
                      {
                        "bin_start": 1966.6,
                        "bin_end": 1966.7,
                        "count": 0
                      },
                      {
                        "bin_start": 1966.7,
                        "bin_end": 1966.8,
                        "count": 0
                      },
                      {
                        "bin_start": 1966.8,
                        "bin_end": 1966.9,
                        "count": 0
                      },
                      {
                        "bin_start": 1966.9,
                        "bin_end": 1967,
                        "count": 0
                      },
                      {
                        "bin_start": 1967,
                        "bin_end": 1967.1,
                        "count": 142
                      },
                      {
                        "bin_start": 1967.1,
                        "bin_end": 1967.2,
                        "count": 0
                      },
                      {
                        "bin_start": 1967.2,
                        "bin_end": 1967.3,
                        "count": 0
                      },
                      {
                        "bin_start": 1967.3,
                        "bin_end": 1967.4,
                        "count": 0
                      },
                      {
                        "bin_start": 1967.4,
                        "bin_end": 1967.5,
                        "count": 0
                      }
                    ]
                  }
                },
                {
                  "name": "pop",
                  "dtype": "int64",
                  "stats": {
                    "unique_count": 142,
                    "nan_count": 0,
                    "min": "70787",
                    "max": "754550000",
                    "histogram": [
                      {
                        "bin_start": 70787,
                        "bin_end": 75518708.3,
                        "count": 135
                      },
                      {
                        "bin_start": 75518708.3,
                        "bin_end": 150966629.6,
                        "count": 4
                      },
                      {
                        "bin_start": 150966629.6,
                        "bin_end": 226414550.89999998,
                        "count": 1
                      },
                      {
                        "bin_start": 226414550.89999998,
                        "bin_end": 301862472.2,
                        "count": 0
                      },
                      {
                        "bin_start": 301862472.2,
                        "bin_end": 377310393.5,
                        "count": 0
                      },
                      {
                        "bin_start": 377310393.5,
                        "bin_end": 452758314.79999995,
                        "count": 0
                      },
                      {
                        "bin_start": 452758314.79999995,
                        "bin_end": 528206236.09999996,
                        "count": 1
                      },
                      {
                        "bin_start": 528206236.09999996,
                        "bin_end": 603654157.4,
                        "count": 0
                      },
                      {
                        "bin_start": 603654157.4,
                        "bin_end": 679102078.6999999,
                        "count": 0
                      },
                      {
                        "bin_start": 679102078.6999999,
                        "bin_end": 754550000,
                        "count": 1
                      }
                    ]
                  }
                },
                {
                  "name": "_deepnote_index_column",
                  "dtype": "int64"
                }
              ],
              "rows_top": [
                {
                  "year": 1967,
                  "pop": 11537966,
                  "_deepnote_index_column": 3
                },
                {
                  "year": 1967,
                  "pop": 1984060,
                  "_deepnote_index_column": 15
                },
                {
                  "year": 1967,
                  "pop": 12760499,
                  "_deepnote_index_column": 27
                },
                {
                  "year": 1967,
                  "pop": 5247469,
                  "_deepnote_index_column": 39
                },
                {
                  "year": 1967,
                  "pop": 22934225,
                  "_deepnote_index_column": 51
                },
                {
                  "year": 1967,
                  "pop": 11872264,
                  "_deepnote_index_column": 63
                },
                {
                  "year": 1967,
                  "pop": 7376998,
                  "_deepnote_index_column": 75
                },
                {
                  "year": 1967,
                  "pop": 202182,
                  "_deepnote_index_column": 87
                },
                {
                  "year": 1967,
                  "pop": 62821884,
                  "_deepnote_index_column": 99
                },
                {
                  "year": 1967,
                  "pop": 9556500,
                  "_deepnote_index_column": 111
                },
                {
                  "year": 1967,
                  "pop": 2427334,
                  "_deepnote_index_column": 123
                },
                {
                  "year": 1967,
                  "pop": 4040665,
                  "_deepnote_index_column": 135
                },
                {
                  "year": 1967,
                  "pop": 3585000,
                  "_deepnote_index_column": 147
                },
                {
                  "year": 1967,
                  "pop": 553541,
                  "_deepnote_index_column": 159
                },
                {
                  "year": 1967,
                  "pop": 88049823,
                  "_deepnote_index_column": 171
                },
                {
                  "year": 1967,
                  "pop": 8310226,
                  "_deepnote_index_column": 183
                },
                {
                  "year": 1967,
                  "pop": 5127935,
                  "_deepnote_index_column": 195
                },
                {
                  "year": 1967,
                  "pop": 3330989,
                  "_deepnote_index_column": 207
                },
                {
                  "year": 1967,
                  "pop": 6960067,
                  "_deepnote_index_column": 219
                },
                {
                  "year": 1967,
                  "pop": 6335506,
                  "_deepnote_index_column": 231
                },
                {
                  "year": 1967,
                  "pop": 20819767,
                  "_deepnote_index_column": 243
                },
                {
                  "year": 1967,
                  "pop": 1733638,
                  "_deepnote_index_column": 255
                },
                {
                  "year": 1967,
                  "pop": 3495967,
                  "_deepnote_index_column": 267
                },
                {
                  "year": 1967,
                  "pop": 8858908,
                  "_deepnote_index_column": 279
                },
                {
                  "year": 1967,
                  "pop": 754550000,
                  "_deepnote_index_column": 291
                },
                {
                  "year": 1967,
                  "pop": 19764027,
                  "_deepnote_index_column": 303
                },
                {
                  "year": 1967,
                  "pop": 217378,
                  "_deepnote_index_column": 315
                },
                {
                  "year": 1967,
                  "pop": 19941073,
                  "_deepnote_index_column": 327
                },
                {
                  "year": 1967,
                  "pop": 1179760,
                  "_deepnote_index_column": 339
                },
                {
                  "year": 1967,
                  "pop": 1588717,
                  "_deepnote_index_column": 351
                },
                {
                  "year": 1967,
                  "pop": 4744870,
                  "_deepnote_index_column": 363
                },
                {
                  "year": 1967,
                  "pop": 4174366,
                  "_deepnote_index_column": 375
                },
                {
                  "year": 1967,
                  "pop": 8139332,
                  "_deepnote_index_column": 387
                },
                {
                  "year": 1967,
                  "pop": 9835109,
                  "_deepnote_index_column": 399
                },
                {
                  "year": 1967,
                  "pop": 4838800,
                  "_deepnote_index_column": 411
                },
                {
                  "year": 1967,
                  "pop": 127617,
                  "_deepnote_index_column": 423
                },
                {
                  "year": 1967,
                  "pop": 4049146,
                  "_deepnote_index_column": 435
                },
                {
                  "year": 1967,
                  "pop": 5432424,
                  "_deepnote_index_column": 447
                },
                {
                  "year": 1967,
                  "pop": 31681188,
                  "_deepnote_index_column": 459
                },
                {
                  "year": 1967,
                  "pop": 3232927,
                  "_deepnote_index_column": 471
                },
                {
                  "year": 1967,
                  "pop": 259864,
                  "_deepnote_index_column": 483
                },
                {
                  "year": 1967,
                  "pop": 1820319,
                  "_deepnote_index_column": 495
                },
                {
                  "year": 1967,
                  "pop": 27860297,
                  "_deepnote_index_column": 507
                },
                {
                  "year": 1967,
                  "pop": 4605744,
                  "_deepnote_index_column": 519
                },
                {
                  "year": 1967,
                  "pop": 49569000,
                  "_deepnote_index_column": 531
                },
                {
                  "year": 1967,
                  "pop": 489004,
                  "_deepnote_index_column": 543
                },
                {
                  "year": 1967,
                  "pop": 439593,
                  "_deepnote_index_column": 555
                },
                {
                  "year": 1967,
                  "pop": 76368453,
                  "_deepnote_index_column": 567
                },
                {
                  "year": 1967,
                  "pop": 8490213,
                  "_deepnote_index_column": 579
                },
                {
                  "year": 1967,
                  "pop": 8716441,
                  "_deepnote_index_column": 591
                },
                {
                  "year": 1967,
                  "pop": 4690773,
                  "_deepnote_index_column": 603
                },
                {
                  "year": 1967,
                  "pop": 3451418,
                  "_deepnote_index_column": 615
                },
                {
                  "year": 1967,
                  "pop": 601287,
                  "_deepnote_index_column": 627
                },
                {
                  "year": 1967,
                  "pop": 4318137,
                  "_deepnote_index_column": 639
                },
                {
                  "year": 1967,
                  "pop": 2500689,
                  "_deepnote_index_column": 651
                },
                {
                  "year": 1967,
                  "pop": 3722800,
                  "_deepnote_index_column": 663
                },
                {
                  "year": 1967,
                  "pop": 10223422,
                  "_deepnote_index_column": 675
                },
                {
                  "year": 1967,
                  "pop": 198676,
                  "_deepnote_index_column": 687
                },
                {
                  "year": 1967,
                  "pop": 506000000,
                  "_deepnote_index_column": 699
                },
                {
                  "year": 1967,
                  "pop": 109343000,
                  "_deepnote_index_column": 711
                },
                {
                  "year": 1967,
                  "pop": 26538000,
                  "_deepnote_index_column": 723
                },
                {
                  "year": 1967,
                  "pop": 8519282,
                  "_deepnote_index_column": 735
                },
                {
                  "year": 1967,
                  "pop": 2900100,
                  "_deepnote_index_column": 747
                },
                {
                  "year": 1967,
                  "pop": 2693585,
                  "_deepnote_index_column": 759
                },
                {
                  "year": 1967,
                  "pop": 52667100,
                  "_deepnote_index_column": 771
                },
                {
                  "year": 1967,
                  "pop": 1861096,
                  "_deepnote_index_column": 783
                },
                {
                  "year": 1967,
                  "pop": 100825279,
                  "_deepnote_index_column": 795
                },
                {
                  "year": 1967,
                  "pop": 1255058,
                  "_deepnote_index_column": 807
                },
                {
                  "year": 1967,
                  "pop": 10191512,
                  "_deepnote_index_column": 819
                },
                {
                  "year": 1967,
                  "pop": 12617009,
                  "_deepnote_index_column": 831
                },
                {
                  "year": 1967,
                  "pop": 30131000,
                  "_deepnote_index_column": 843
                },
                {
                  "year": 1967,
                  "pop": 575003,
                  "_deepnote_index_column": 855
                },
                {
                  "year": 1967,
                  "pop": 2186894,
                  "_deepnote_index_column": 867
                },
                {
                  "year": 1967,
                  "pop": 996380,
                  "_deepnote_index_column": 879
                },
                {
                  "year": 1967,
                  "pop": 1279406,
                  "_deepnote_index_column": 891
                },
                {
                  "year": 1967,
                  "pop": 1759224,
                  "_deepnote_index_column": 903
                },
                {
                  "year": 1967,
                  "pop": 6334556,
                  "_deepnote_index_column": 915
                },
                {
                  "year": 1967,
                  "pop": 4147252,
                  "_deepnote_index_column": 927
                },
                {
                  "year": 1967,
                  "pop": 10154878,
                  "_deepnote_index_column": 939
                },
                {
                  "year": 1967,
                  "pop": 5212416,
                  "_deepnote_index_column": 951
                },
                {
                  "year": 1967,
                  "pop": 1230542,
                  "_deepnote_index_column": 963
                },
                {
                  "year": 1967,
                  "pop": 789309,
                  "_deepnote_index_column": 975
                },
                {
                  "year": 1967,
                  "pop": 47995559,
                  "_deepnote_index_column": 987
                },
                {
                  "year": 1967,
                  "pop": 1149500,
                  "_deepnote_index_column": 999
                },
                {
                  "year": 1967,
                  "pop": 501035,
                  "_deepnote_index_column": 1011
                },
                {
                  "year": 1967,
                  "pop": 14770296,
                  "_deepnote_index_column": 1023
                },
                {
                  "year": 1967,
                  "pop": 8680909,
                  "_deepnote_index_column": 1035
                },
                {
                  "year": 1967,
                  "pop": 25870271,
                  "_deepnote_index_column": 1047
                },
                {
                  "year": 1967,
                  "pop": 706640,
                  "_deepnote_index_column": 1059
                },
                {
                  "year": 1967,
                  "pop": 11261690,
                  "_deepnote_index_column": 1071
                },
                {
                  "year": 1967,
                  "pop": 12596822,
                  "_deepnote_index_column": 1083
                },
                {
                  "year": 1967,
                  "pop": 2728150,
                  "_deepnote_index_column": 1095
                },
                {
                  "year": 1967,
                  "pop": 1865490,
                  "_deepnote_index_column": 1107
                },
                {
                  "year": 1967,
                  "pop": 4534062,
                  "_deepnote_index_column": 1119
                },
                {
                  "year": 1967,
                  "pop": 47287752,
                  "_deepnote_index_column": 1131
                },
                {
                  "year": 1967,
                  "pop": 3786019,
                  "_deepnote_index_column": 1143
                },
                {
                  "year": 1967,
                  "pop": 714775,
                  "_deepnote_index_column": 1155
                },
                {
                  "year": 1967,
                  "pop": 60641899,
                  "_deepnote_index_column": 1167
                },
                {
                  "year": 1967,
                  "pop": 1405486,
                  "_deepnote_index_column": 1179
                },
                {
                  "year": 1967,
                  "pop": 2287985,
                  "_deepnote_index_column": 1191
                },
                {
                  "year": 1967,
                  "pop": 12132200,
                  "_deepnote_index_column": 1203
                },
                {
                  "year": 1967,
                  "pop": 35356600,
                  "_deepnote_index_column": 1215
                },
                {
                  "year": 1967,
                  "pop": 31785378,
                  "_deepnote_index_column": 1227
                },
                {
                  "year": 1967,
                  "pop": 9103000,
                  "_deepnote_index_column": 1239
                },
                {
                  "year": 1967,
                  "pop": 2648961,
                  "_deepnote_index_column": 1251
                },
                {
                  "year": 1967,
                  "pop": 414024,
                  "_deepnote_index_column": 1263
                },
                {
                  "year": 1967,
                  "pop": 19284814,
                  "_deepnote_index_column": 1275
                },
                {
                  "year": 1967,
                  "pop": 3451079,
                  "_deepnote_index_column": 1287
                },
                {
                  "year": 1967,
                  "pop": 70787,
                  "_deepnote_index_column": 1299
                },
                {
                  "year": 1967,
                  "pop": 5618198,
                  "_deepnote_index_column": 1311
                },
                {
                  "year": 1967,
                  "pop": 3965841,
                  "_deepnote_index_column": 1323
                },
                {
                  "year": 1967,
                  "pop": 7971222,
                  "_deepnote_index_column": 1335
                },
                {
                  "year": 1967,
                  "pop": 2662190,
                  "_deepnote_index_column": 1347
                },
                {
                  "year": 1967,
                  "pop": 1977600,
                  "_deepnote_index_column": 1359
                },
                {
                  "year": 1967,
                  "pop": 4442238,
                  "_deepnote_index_column": 1371
                },
                {
                  "year": 1967,
                  "pop": 1646912,
                  "_deepnote_index_column": 1383
                },
                {
                  "year": 1967,
                  "pop": 3428839,
                  "_deepnote_index_column": 1395
                },
                {
                  "year": 1967,
                  "pop": 20997321,
                  "_deepnote_index_column": 1407
                },
                {
                  "year": 1967,
                  "pop": 32850275,
                  "_deepnote_index_column": 1419
                },
                {
                  "year": 1967,
                  "pop": 11737396,
                  "_deepnote_index_column": 1431
                },
                {
                  "year": 1967,
                  "pop": 12716129,
                  "_deepnote_index_column": 1443
                },
                {
                  "year": 1967,
                  "pop": 420690,
                  "_deepnote_index_column": 1455
                },
                {
                  "year": 1967,
                  "pop": 7867931,
                  "_deepnote_index_column": 1467
                },
                {
                  "year": 1967,
                  "pop": 6063000,
                  "_deepnote_index_column": 1479
                },
                {
                  "year": 1967,
                  "pop": 5680812,
                  "_deepnote_index_column": 1491
                },
                {
                  "year": 1967,
                  "pop": 13648692,
                  "_deepnote_index_column": 1503
                },
                {
                  "year": 1967,
                  "pop": 12607312,
                  "_deepnote_index_column": 1515
                },
                {
                  "year": 1967,
                  "pop": 34024249,
                  "_deepnote_index_column": 1527
                },
                {
                  "year": 1967,
                  "pop": 1735550,
                  "_deepnote_index_column": 1539
                },
                {
                  "year": 1967,
                  "pop": 960155,
                  "_deepnote_index_column": 1551
                },
                {
                  "year": 1967,
                  "pop": 4786986,
                  "_deepnote_index_column": 1563
                },
                {
                  "year": 1967,
                  "pop": 33411317,
                  "_deepnote_index_column": 1575
                },
                {
                  "year": 1967,
                  "pop": 8900294,
                  "_deepnote_index_column": 1587
                },
                {
                  "year": 1967,
                  "pop": 54959000,
                  "_deepnote_index_column": 1599
                },
                {
                  "year": 1967,
                  "pop": 198712000,
                  "_deepnote_index_column": 1611
                },
                {
                  "year": 1967,
                  "pop": 2748579,
                  "_deepnote_index_column": 1623
                },
                {
                  "year": 1967,
                  "pop": 9709552,
                  "_deepnote_index_column": 1635
                },
                {
                  "year": 1967,
                  "pop": 39463910,
                  "_deepnote_index_column": 1647
                },
                {
                  "year": 1967,
                  "pop": 1142636,
                  "_deepnote_index_column": 1659
                },
                {
                  "year": 1967,
                  "pop": 6740785,
                  "_deepnote_index_column": 1671
                },
                {
                  "year": 1967,
                  "pop": 3900000,
                  "_deepnote_index_column": 1683
                },
                {
                  "year": 1967,
                  "pop": 4995432,
                  "_deepnote_index_column": 1695
                }
              ],
              "rows_bottom": null
            },
            "text/plain": "      year       pop\n3     1967  11537966\n15    1967   1984060\n27    1967  12760499\n39    1967   5247469\n51    1967  22934225\n...    ...       ...\n1647  1967  39463910\n1659  1967   1142636\n1671  1967   6740785\n1683  1967   3900000\n1695  1967   4995432\n\n[142 rows x 2 columns]",
            "text/html": "<div>\n<style scoped>\n    .dataframe tbody tr th:only-of-type {\n        vertical-align: middle;\n    }\n\n    .dataframe tbody tr th {\n        vertical-align: top;\n    }\n\n    .dataframe thead th {\n        text-align: right;\n    }\n</style>\n<table border=\"1\" class=\"dataframe\">\n  <thead>\n    <tr style=\"text-align: right;\">\n      <th></th>\n      <th>year</th>\n      <th>pop</th>\n    </tr>\n  </thead>\n  <tbody>\n    <tr>\n      <th>3</th>\n      <td>1967</td>\n      <td>11537966</td>\n    </tr>\n    <tr>\n      <th>15</th>\n      <td>1967</td>\n      <td>1984060</td>\n    </tr>\n    <tr>\n      <th>27</th>\n      <td>1967</td>\n      <td>12760499</td>\n    </tr>\n    <tr>\n      <th>39</th>\n      <td>1967</td>\n      <td>5247469</td>\n    </tr>\n    <tr>\n      <th>51</th>\n      <td>1967</td>\n      <td>22934225</td>\n    </tr>\n    <tr>\n      <th>...</th>\n      <td>...</td>\n      <td>...</td>\n    </tr>\n    <tr>\n      <th>1647</th>\n      <td>1967</td>\n      <td>39463910</td>\n    </tr>\n    <tr>\n      <th>1659</th>\n      <td>1967</td>\n      <td>1142636</td>\n    </tr>\n    <tr>\n      <th>1671</th>\n      <td>1967</td>\n      <td>6740785</td>\n    </tr>\n    <tr>\n      <th>1683</th>\n      <td>1967</td>\n      <td>3900000</td>\n    </tr>\n    <tr>\n      <th>1695</th>\n      <td>1967</td>\n      <td>4995432</td>\n    </tr>\n  </tbody>\n</table>\n<p>142 rows × 2 columns</p>\n</div>"
          },
          "metadata": {}
        }
      ]
    },
    {
      "cell_type": "code",
      "metadata": {
        "deepnote_to_be_reexecuted": false,
        "execution_millis": 94,
        "execution_start": 1619967635043,
        "source_hash": "aa4235fe",
        "cell_id": "00025-c2502047-baca-4a5e-b358-5d78117ca817",
        "deepnote_cell_type": "code"
      },
      "source": "df.loc[(df['year'] == 1967) & (df['pop'] > 1_000_000),\n       ['year', 'pop']]",
      "execution_count": 26,
      "outputs": [
        {
          "output_type": "execute_result",
          "execution_count": 26,
          "data": {
            "application/vnd.deepnote.dataframe.v2+json": {
              "row_count": 123,
              "column_count": 2,
              "columns": [
                {
                  "name": "year",
                  "dtype": "int64",
                  "stats": {
                    "unique_count": 1,
                    "nan_count": 0,
                    "min": "1967",
                    "max": "1967",
                    "histogram": [
                      {
                        "bin_start": 1966.5,
                        "bin_end": 1966.6,
                        "count": 0
                      },
                      {
                        "bin_start": 1966.6,
                        "bin_end": 1966.7,
                        "count": 0
                      },
                      {
                        "bin_start": 1966.7,
                        "bin_end": 1966.8,
                        "count": 0
                      },
                      {
                        "bin_start": 1966.8,
                        "bin_end": 1966.9,
                        "count": 0
                      },
                      {
                        "bin_start": 1966.9,
                        "bin_end": 1967,
                        "count": 0
                      },
                      {
                        "bin_start": 1967,
                        "bin_end": 1967.1,
                        "count": 123
                      },
                      {
                        "bin_start": 1967.1,
                        "bin_end": 1967.2,
                        "count": 0
                      },
                      {
                        "bin_start": 1967.2,
                        "bin_end": 1967.3,
                        "count": 0
                      },
                      {
                        "bin_start": 1967.3,
                        "bin_end": 1967.4,
                        "count": 0
                      },
                      {
                        "bin_start": 1967.4,
                        "bin_end": 1967.5,
                        "count": 0
                      }
                    ]
                  }
                },
                {
                  "name": "pop",
                  "dtype": "int64",
                  "stats": {
                    "unique_count": 123,
                    "nan_count": 0,
                    "min": "1142636",
                    "max": "754550000",
                    "histogram": [
                      {
                        "bin_start": 1142636,
                        "bin_end": 76483372.4,
                        "count": 117
                      },
                      {
                        "bin_start": 76483372.4,
                        "bin_end": 151824108.8,
                        "count": 3
                      },
                      {
                        "bin_start": 151824108.8,
                        "bin_end": 227164845.20000002,
                        "count": 1
                      },
                      {
                        "bin_start": 227164845.20000002,
                        "bin_end": 302505581.6,
                        "count": 0
                      },
                      {
                        "bin_start": 302505581.6,
                        "bin_end": 377846318,
                        "count": 0
                      },
                      {
                        "bin_start": 377846318,
                        "bin_end": 453187054.40000004,
                        "count": 0
                      },
                      {
                        "bin_start": 453187054.40000004,
                        "bin_end": 528527790.8000001,
                        "count": 1
                      },
                      {
                        "bin_start": 528527790.8000001,
                        "bin_end": 603868527.2,
                        "count": 0
                      },
                      {
                        "bin_start": 603868527.2,
                        "bin_end": 679209263.6,
                        "count": 0
                      },
                      {
                        "bin_start": 679209263.6,
                        "bin_end": 754550000,
                        "count": 1
                      }
                    ]
                  }
                },
                {
                  "name": "_deepnote_index_column",
                  "dtype": "int64"
                }
              ],
              "rows_top": [
                {
                  "year": 1967,
                  "pop": 11537966,
                  "_deepnote_index_column": 3
                },
                {
                  "year": 1967,
                  "pop": 1984060,
                  "_deepnote_index_column": 15
                },
                {
                  "year": 1967,
                  "pop": 12760499,
                  "_deepnote_index_column": 27
                },
                {
                  "year": 1967,
                  "pop": 5247469,
                  "_deepnote_index_column": 39
                },
                {
                  "year": 1967,
                  "pop": 22934225,
                  "_deepnote_index_column": 51
                },
                {
                  "year": 1967,
                  "pop": 11872264,
                  "_deepnote_index_column": 63
                },
                {
                  "year": 1967,
                  "pop": 7376998,
                  "_deepnote_index_column": 75
                },
                {
                  "year": 1967,
                  "pop": 62821884,
                  "_deepnote_index_column": 99
                },
                {
                  "year": 1967,
                  "pop": 9556500,
                  "_deepnote_index_column": 111
                },
                {
                  "year": 1967,
                  "pop": 2427334,
                  "_deepnote_index_column": 123
                },
                {
                  "year": 1967,
                  "pop": 4040665,
                  "_deepnote_index_column": 135
                },
                {
                  "year": 1967,
                  "pop": 3585000,
                  "_deepnote_index_column": 147
                },
                {
                  "year": 1967,
                  "pop": 88049823,
                  "_deepnote_index_column": 171
                },
                {
                  "year": 1967,
                  "pop": 8310226,
                  "_deepnote_index_column": 183
                },
                {
                  "year": 1967,
                  "pop": 5127935,
                  "_deepnote_index_column": 195
                },
                {
                  "year": 1967,
                  "pop": 3330989,
                  "_deepnote_index_column": 207
                },
                {
                  "year": 1967,
                  "pop": 6960067,
                  "_deepnote_index_column": 219
                },
                {
                  "year": 1967,
                  "pop": 6335506,
                  "_deepnote_index_column": 231
                },
                {
                  "year": 1967,
                  "pop": 20819767,
                  "_deepnote_index_column": 243
                },
                {
                  "year": 1967,
                  "pop": 1733638,
                  "_deepnote_index_column": 255
                },
                {
                  "year": 1967,
                  "pop": 3495967,
                  "_deepnote_index_column": 267
                },
                {
                  "year": 1967,
                  "pop": 8858908,
                  "_deepnote_index_column": 279
                },
                {
                  "year": 1967,
                  "pop": 754550000,
                  "_deepnote_index_column": 291
                },
                {
                  "year": 1967,
                  "pop": 19764027,
                  "_deepnote_index_column": 303
                },
                {
                  "year": 1967,
                  "pop": 19941073,
                  "_deepnote_index_column": 327
                },
                {
                  "year": 1967,
                  "pop": 1179760,
                  "_deepnote_index_column": 339
                },
                {
                  "year": 1967,
                  "pop": 1588717,
                  "_deepnote_index_column": 351
                },
                {
                  "year": 1967,
                  "pop": 4744870,
                  "_deepnote_index_column": 363
                },
                {
                  "year": 1967,
                  "pop": 4174366,
                  "_deepnote_index_column": 375
                },
                {
                  "year": 1967,
                  "pop": 8139332,
                  "_deepnote_index_column": 387
                },
                {
                  "year": 1967,
                  "pop": 9835109,
                  "_deepnote_index_column": 399
                },
                {
                  "year": 1967,
                  "pop": 4838800,
                  "_deepnote_index_column": 411
                },
                {
                  "year": 1967,
                  "pop": 4049146,
                  "_deepnote_index_column": 435
                },
                {
                  "year": 1967,
                  "pop": 5432424,
                  "_deepnote_index_column": 447
                },
                {
                  "year": 1967,
                  "pop": 31681188,
                  "_deepnote_index_column": 459
                },
                {
                  "year": 1967,
                  "pop": 3232927,
                  "_deepnote_index_column": 471
                },
                {
                  "year": 1967,
                  "pop": 1820319,
                  "_deepnote_index_column": 495
                },
                {
                  "year": 1967,
                  "pop": 27860297,
                  "_deepnote_index_column": 507
                },
                {
                  "year": 1967,
                  "pop": 4605744,
                  "_deepnote_index_column": 519
                },
                {
                  "year": 1967,
                  "pop": 49569000,
                  "_deepnote_index_column": 531
                },
                {
                  "year": 1967,
                  "pop": 76368453,
                  "_deepnote_index_column": 567
                },
                {
                  "year": 1967,
                  "pop": 8490213,
                  "_deepnote_index_column": 579
                },
                {
                  "year": 1967,
                  "pop": 8716441,
                  "_deepnote_index_column": 591
                },
                {
                  "year": 1967,
                  "pop": 4690773,
                  "_deepnote_index_column": 603
                },
                {
                  "year": 1967,
                  "pop": 3451418,
                  "_deepnote_index_column": 615
                },
                {
                  "year": 1967,
                  "pop": 4318137,
                  "_deepnote_index_column": 639
                },
                {
                  "year": 1967,
                  "pop": 2500689,
                  "_deepnote_index_column": 651
                },
                {
                  "year": 1967,
                  "pop": 3722800,
                  "_deepnote_index_column": 663
                },
                {
                  "year": 1967,
                  "pop": 10223422,
                  "_deepnote_index_column": 675
                },
                {
                  "year": 1967,
                  "pop": 506000000,
                  "_deepnote_index_column": 699
                },
                {
                  "year": 1967,
                  "pop": 109343000,
                  "_deepnote_index_column": 711
                },
                {
                  "year": 1967,
                  "pop": 26538000,
                  "_deepnote_index_column": 723
                },
                {
                  "year": 1967,
                  "pop": 8519282,
                  "_deepnote_index_column": 735
                },
                {
                  "year": 1967,
                  "pop": 2900100,
                  "_deepnote_index_column": 747
                },
                {
                  "year": 1967,
                  "pop": 2693585,
                  "_deepnote_index_column": 759
                },
                {
                  "year": 1967,
                  "pop": 52667100,
                  "_deepnote_index_column": 771
                },
                {
                  "year": 1967,
                  "pop": 1861096,
                  "_deepnote_index_column": 783
                },
                {
                  "year": 1967,
                  "pop": 100825279,
                  "_deepnote_index_column": 795
                },
                {
                  "year": 1967,
                  "pop": 1255058,
                  "_deepnote_index_column": 807
                },
                {
                  "year": 1967,
                  "pop": 10191512,
                  "_deepnote_index_column": 819
                },
                {
                  "year": 1967,
                  "pop": 12617009,
                  "_deepnote_index_column": 831
                },
                {
                  "year": 1967,
                  "pop": 30131000,
                  "_deepnote_index_column": 843
                },
                {
                  "year": 1967,
                  "pop": 2186894,
                  "_deepnote_index_column": 867
                },
                {
                  "year": 1967,
                  "pop": 1279406,
                  "_deepnote_index_column": 891
                },
                {
                  "year": 1967,
                  "pop": 1759224,
                  "_deepnote_index_column": 903
                },
                {
                  "year": 1967,
                  "pop": 6334556,
                  "_deepnote_index_column": 915
                },
                {
                  "year": 1967,
                  "pop": 4147252,
                  "_deepnote_index_column": 927
                },
                {
                  "year": 1967,
                  "pop": 10154878,
                  "_deepnote_index_column": 939
                },
                {
                  "year": 1967,
                  "pop": 5212416,
                  "_deepnote_index_column": 951
                },
                {
                  "year": 1967,
                  "pop": 1230542,
                  "_deepnote_index_column": 963
                },
                {
                  "year": 1967,
                  "pop": 47995559,
                  "_deepnote_index_column": 987
                },
                {
                  "year": 1967,
                  "pop": 1149500,
                  "_deepnote_index_column": 999
                },
                {
                  "year": 1967,
                  "pop": 14770296,
                  "_deepnote_index_column": 1023
                },
                {
                  "year": 1967,
                  "pop": 8680909,
                  "_deepnote_index_column": 1035
                },
                {
                  "year": 1967,
                  "pop": 25870271,
                  "_deepnote_index_column": 1047
                },
                {
                  "year": 1967,
                  "pop": 11261690,
                  "_deepnote_index_column": 1071
                },
                {
                  "year": 1967,
                  "pop": 12596822,
                  "_deepnote_index_column": 1083
                },
                {
                  "year": 1967,
                  "pop": 2728150,
                  "_deepnote_index_column": 1095
                },
                {
                  "year": 1967,
                  "pop": 1865490,
                  "_deepnote_index_column": 1107
                },
                {
                  "year": 1967,
                  "pop": 4534062,
                  "_deepnote_index_column": 1119
                },
                {
                  "year": 1967,
                  "pop": 47287752,
                  "_deepnote_index_column": 1131
                },
                {
                  "year": 1967,
                  "pop": 3786019,
                  "_deepnote_index_column": 1143
                },
                {
                  "year": 1967,
                  "pop": 60641899,
                  "_deepnote_index_column": 1167
                },
                {
                  "year": 1967,
                  "pop": 1405486,
                  "_deepnote_index_column": 1179
                },
                {
                  "year": 1967,
                  "pop": 2287985,
                  "_deepnote_index_column": 1191
                },
                {
                  "year": 1967,
                  "pop": 12132200,
                  "_deepnote_index_column": 1203
                },
                {
                  "year": 1967,
                  "pop": 35356600,
                  "_deepnote_index_column": 1215
                },
                {
                  "year": 1967,
                  "pop": 31785378,
                  "_deepnote_index_column": 1227
                },
                {
                  "year": 1967,
                  "pop": 9103000,
                  "_deepnote_index_column": 1239
                },
                {
                  "year": 1967,
                  "pop": 2648961,
                  "_deepnote_index_column": 1251
                },
                {
                  "year": 1967,
                  "pop": 19284814,
                  "_deepnote_index_column": 1275
                },
                {
                  "year": 1967,
                  "pop": 3451079,
                  "_deepnote_index_column": 1287
                },
                {
                  "year": 1967,
                  "pop": 5618198,
                  "_deepnote_index_column": 1311
                },
                {
                  "year": 1967,
                  "pop": 3965841,
                  "_deepnote_index_column": 1323
                },
                {
                  "year": 1967,
                  "pop": 7971222,
                  "_deepnote_index_column": 1335
                },
                {
                  "year": 1967,
                  "pop": 2662190,
                  "_deepnote_index_column": 1347
                },
                {
                  "year": 1967,
                  "pop": 1977600,
                  "_deepnote_index_column": 1359
                },
                {
                  "year": 1967,
                  "pop": 4442238,
                  "_deepnote_index_column": 1371
                },
                {
                  "year": 1967,
                  "pop": 1646912,
                  "_deepnote_index_column": 1383
                },
                {
                  "year": 1967,
                  "pop": 3428839,
                  "_deepnote_index_column": 1395
                },
                {
                  "year": 1967,
                  "pop": 20997321,
                  "_deepnote_index_column": 1407
                },
                {
                  "year": 1967,
                  "pop": 32850275,
                  "_deepnote_index_column": 1419
                },
                {
                  "year": 1967,
                  "pop": 11737396,
                  "_deepnote_index_column": 1431
                },
                {
                  "year": 1967,
                  "pop": 12716129,
                  "_deepnote_index_column": 1443
                },
                {
                  "year": 1967,
                  "pop": 7867931,
                  "_deepnote_index_column": 1467
                },
                {
                  "year": 1967,
                  "pop": 6063000,
                  "_deepnote_index_column": 1479
                },
                {
                  "year": 1967,
                  "pop": 5680812,
                  "_deepnote_index_column": 1491
                },
                {
                  "year": 1967,
                  "pop": 13648692,
                  "_deepnote_index_column": 1503
                },
                {
                  "year": 1967,
                  "pop": 12607312,
                  "_deepnote_index_column": 1515
                },
                {
                  "year": 1967,
                  "pop": 34024249,
                  "_deepnote_index_column": 1527
                },
                {
                  "year": 1967,
                  "pop": 1735550,
                  "_deepnote_index_column": 1539
                },
                {
                  "year": 1967,
                  "pop": 4786986,
                  "_deepnote_index_column": 1563
                },
                {
                  "year": 1967,
                  "pop": 33411317,
                  "_deepnote_index_column": 1575
                },
                {
                  "year": 1967,
                  "pop": 8900294,
                  "_deepnote_index_column": 1587
                },
                {
                  "year": 1967,
                  "pop": 54959000,
                  "_deepnote_index_column": 1599
                },
                {
                  "year": 1967,
                  "pop": 198712000,
                  "_deepnote_index_column": 1611
                },
                {
                  "year": 1967,
                  "pop": 2748579,
                  "_deepnote_index_column": 1623
                },
                {
                  "year": 1967,
                  "pop": 9709552,
                  "_deepnote_index_column": 1635
                },
                {
                  "year": 1967,
                  "pop": 39463910,
                  "_deepnote_index_column": 1647
                },
                {
                  "year": 1967,
                  "pop": 1142636,
                  "_deepnote_index_column": 1659
                },
                {
                  "year": 1967,
                  "pop": 6740785,
                  "_deepnote_index_column": 1671
                },
                {
                  "year": 1967,
                  "pop": 3900000,
                  "_deepnote_index_column": 1683
                },
                {
                  "year": 1967,
                  "pop": 4995432,
                  "_deepnote_index_column": 1695
                }
              ],
              "rows_bottom": null
            },
            "text/plain": "      year       pop\n3     1967  11537966\n15    1967   1984060\n27    1967  12760499\n39    1967   5247469\n51    1967  22934225\n...    ...       ...\n1647  1967  39463910\n1659  1967   1142636\n1671  1967   6740785\n1683  1967   3900000\n1695  1967   4995432\n\n[123 rows x 2 columns]",
            "text/html": "<div>\n<style scoped>\n    .dataframe tbody tr th:only-of-type {\n        vertical-align: middle;\n    }\n\n    .dataframe tbody tr th {\n        vertical-align: top;\n    }\n\n    .dataframe thead th {\n        text-align: right;\n    }\n</style>\n<table border=\"1\" class=\"dataframe\">\n  <thead>\n    <tr style=\"text-align: right;\">\n      <th></th>\n      <th>year</th>\n      <th>pop</th>\n    </tr>\n  </thead>\n  <tbody>\n    <tr>\n      <th>3</th>\n      <td>1967</td>\n      <td>11537966</td>\n    </tr>\n    <tr>\n      <th>15</th>\n      <td>1967</td>\n      <td>1984060</td>\n    </tr>\n    <tr>\n      <th>27</th>\n      <td>1967</td>\n      <td>12760499</td>\n    </tr>\n    <tr>\n      <th>39</th>\n      <td>1967</td>\n      <td>5247469</td>\n    </tr>\n    <tr>\n      <th>51</th>\n      <td>1967</td>\n      <td>22934225</td>\n    </tr>\n    <tr>\n      <th>...</th>\n      <td>...</td>\n      <td>...</td>\n    </tr>\n    <tr>\n      <th>1647</th>\n      <td>1967</td>\n      <td>39463910</td>\n    </tr>\n    <tr>\n      <th>1659</th>\n      <td>1967</td>\n      <td>1142636</td>\n    </tr>\n    <tr>\n      <th>1671</th>\n      <td>1967</td>\n      <td>6740785</td>\n    </tr>\n    <tr>\n      <th>1683</th>\n      <td>1967</td>\n      <td>3900000</td>\n    </tr>\n    <tr>\n      <th>1695</th>\n      <td>1967</td>\n      <td>4995432</td>\n    </tr>\n  </tbody>\n</table>\n<p>123 rows × 2 columns</p>\n</div>"
          },
          "metadata": {}
        }
      ]
    },
    {
      "cell_type": "code",
      "metadata": {
        "deepnote_to_be_reexecuted": false,
        "execution_millis": 7,
        "execution_start": 1619967635130,
        "source_hash": "b623e53d",
        "cell_id": "00026-02315d87-ee57-4165-ae10-4e020a350762",
        "deepnote_cell_type": "code"
      },
      "source": "",
      "execution_count": 26,
      "outputs": []
    },
    {
      "cell_type": "code",
      "metadata": {
        "deepnote_to_be_reexecuted": false,
        "execution_millis": 44,
        "execution_start": 1619967635144,
        "source_hash": "b623e53d",
        "cell_id": "00027-f03b76a7-d5a1-4de2-9925-c9f2c90ce9ef",
        "deepnote_cell_type": "code"
      },
      "source": "",
      "execution_count": 26,
      "outputs": []
    },
    {
      "cell_type": "code",
      "metadata": {
        "deepnote_to_be_reexecuted": false,
        "execution_millis": 43586243,
        "execution_start": 1619967635232,
        "source_hash": "9b82ee11",
        "cell_id": "00029-0c156f32-4836-43f9-934d-51fbc75a8475",
        "deepnote_cell_type": "code"
      },
      "source": "import pandas as pd",
      "execution_count": 27,
      "outputs": []
    },
    {
      "cell_type": "code",
      "metadata": {
        "deepnote_to_be_reexecuted": false,
        "execution_millis": 0,
        "execution_start": 1619967635232,
        "source_hash": "ff22ce17",
        "cell_id": "00030-2566aec4-e492-4b07-84f5-874a4cddb714",
        "deepnote_cell_type": "code"
      },
      "source": "pew = pd.read_csv('/work/Assignment 10/pew.csv')",
      "execution_count": 28,
      "outputs": []
    },
    {
      "cell_type": "code",
      "metadata": {
        "deepnote_to_be_reexecuted": false,
        "execution_millis": 173,
        "execution_start": 1619967635233,
        "source_hash": "190b4ed4",
        "cell_id": "00031-97c03512-b7d4-4881-bdb5-7ac191fa09fd",
        "deepnote_cell_type": "code"
      },
      "source": "pew.head()",
      "execution_count": 29,
      "outputs": [
        {
          "output_type": "execute_result",
          "execution_count": 29,
          "data": {
            "application/vnd.deepnote.dataframe.v2+json": {
              "row_count": 5,
              "column_count": 11,
              "columns": [
                {
                  "name": "religion",
                  "dtype": "object",
                  "stats": {
                    "unique_count": 5,
                    "nan_count": 0,
                    "categories": [
                      {
                        "name": "Agnostic",
                        "count": 1
                      },
                      {
                        "name": "Atheist",
                        "count": 1
                      },
                      {
                        "name": "3 others",
                        "count": 3
                      }
                    ]
                  }
                },
                {
                  "name": "<$10k",
                  "dtype": "int64",
                  "stats": {
                    "unique_count": 4,
                    "nan_count": 0,
                    "min": "12",
                    "max": "418",
                    "histogram": [
                      {
                        "bin_start": 12,
                        "bin_end": 52.6,
                        "count": 4
                      },
                      {
                        "bin_start": 52.6,
                        "bin_end": 93.2,
                        "count": 0
                      },
                      {
                        "bin_start": 93.2,
                        "bin_end": 133.8,
                        "count": 0
                      },
                      {
                        "bin_start": 133.8,
                        "bin_end": 174.4,
                        "count": 0
                      },
                      {
                        "bin_start": 174.4,
                        "bin_end": 215,
                        "count": 0
                      },
                      {
                        "bin_start": 215,
                        "bin_end": 255.60000000000002,
                        "count": 0
                      },
                      {
                        "bin_start": 255.60000000000002,
                        "bin_end": 296.2,
                        "count": 0
                      },
                      {
                        "bin_start": 296.2,
                        "bin_end": 336.8,
                        "count": 0
                      },
                      {
                        "bin_start": 336.8,
                        "bin_end": 377.40000000000003,
                        "count": 0
                      },
                      {
                        "bin_start": 377.40000000000003,
                        "bin_end": 418,
                        "count": 1
                      }
                    ]
                  }
                },
                {
                  "name": "$10-20k",
                  "dtype": "int64",
                  "stats": {
                    "unique_count": 5,
                    "nan_count": 0,
                    "min": "14",
                    "max": "617",
                    "histogram": [
                      {
                        "bin_start": 14,
                        "bin_end": 74.3,
                        "count": 4
                      },
                      {
                        "bin_start": 74.3,
                        "bin_end": 134.6,
                        "count": 0
                      },
                      {
                        "bin_start": 134.6,
                        "bin_end": 194.89999999999998,
                        "count": 0
                      },
                      {
                        "bin_start": 194.89999999999998,
                        "bin_end": 255.2,
                        "count": 0
                      },
                      {
                        "bin_start": 255.2,
                        "bin_end": 315.5,
                        "count": 0
                      },
                      {
                        "bin_start": 315.5,
                        "bin_end": 375.79999999999995,
                        "count": 0
                      },
                      {
                        "bin_start": 375.79999999999995,
                        "bin_end": 436.09999999999997,
                        "count": 0
                      },
                      {
                        "bin_start": 436.09999999999997,
                        "bin_end": 496.4,
                        "count": 0
                      },
                      {
                        "bin_start": 496.4,
                        "bin_end": 556.6999999999999,
                        "count": 0
                      },
                      {
                        "bin_start": 556.6999999999999,
                        "bin_end": 617,
                        "count": 1
                      }
                    ]
                  }
                },
                {
                  "name": "$20-30k",
                  "dtype": "int64",
                  "stats": {
                    "unique_count": 5,
                    "nan_count": 0,
                    "min": "15",
                    "max": "732",
                    "histogram": [
                      {
                        "bin_start": 15,
                        "bin_end": 86.7,
                        "count": 4
                      },
                      {
                        "bin_start": 86.7,
                        "bin_end": 158.4,
                        "count": 0
                      },
                      {
                        "bin_start": 158.4,
                        "bin_end": 230.10000000000002,
                        "count": 0
                      },
                      {
                        "bin_start": 230.10000000000002,
                        "bin_end": 301.8,
                        "count": 0
                      },
                      {
                        "bin_start": 301.8,
                        "bin_end": 373.5,
                        "count": 0
                      },
                      {
                        "bin_start": 373.5,
                        "bin_end": 445.20000000000005,
                        "count": 0
                      },
                      {
                        "bin_start": 445.20000000000005,
                        "bin_end": 516.9000000000001,
                        "count": 0
                      },
                      {
                        "bin_start": 516.9000000000001,
                        "bin_end": 588.6,
                        "count": 0
                      },
                      {
                        "bin_start": 588.6,
                        "bin_end": 660.3000000000001,
                        "count": 0
                      },
                      {
                        "bin_start": 660.3000000000001,
                        "bin_end": 732,
                        "count": 1
                      }
                    ]
                  }
                },
                {
                  "name": "$30-40k",
                  "dtype": "int64",
                  "stats": {
                    "unique_count": 5,
                    "nan_count": 0,
                    "min": "11",
                    "max": "670",
                    "histogram": [
                      {
                        "bin_start": 11,
                        "bin_end": 76.9,
                        "count": 3
                      },
                      {
                        "bin_start": 76.9,
                        "bin_end": 142.8,
                        "count": 1
                      },
                      {
                        "bin_start": 142.8,
                        "bin_end": 208.70000000000002,
                        "count": 0
                      },
                      {
                        "bin_start": 208.70000000000002,
                        "bin_end": 274.6,
                        "count": 0
                      },
                      {
                        "bin_start": 274.6,
                        "bin_end": 340.5,
                        "count": 0
                      },
                      {
                        "bin_start": 340.5,
                        "bin_end": 406.40000000000003,
                        "count": 0
                      },
                      {
                        "bin_start": 406.40000000000003,
                        "bin_end": 472.30000000000007,
                        "count": 0
                      },
                      {
                        "bin_start": 472.30000000000007,
                        "bin_end": 538.2,
                        "count": 0
                      },
                      {
                        "bin_start": 538.2,
                        "bin_end": 604.1,
                        "count": 0
                      },
                      {
                        "bin_start": 604.1,
                        "bin_end": 670,
                        "count": 1
                      }
                    ]
                  }
                },
                {
                  "name": "$40-50k",
                  "dtype": "int64",
                  "stats": {
                    "unique_count": 5,
                    "nan_count": 0,
                    "min": "10",
                    "max": "638",
                    "histogram": [
                      {
                        "bin_start": 10,
                        "bin_end": 72.8,
                        "count": 3
                      },
                      {
                        "bin_start": 72.8,
                        "bin_end": 135.6,
                        "count": 1
                      },
                      {
                        "bin_start": 135.6,
                        "bin_end": 198.39999999999998,
                        "count": 0
                      },
                      {
                        "bin_start": 198.39999999999998,
                        "bin_end": 261.2,
                        "count": 0
                      },
                      {
                        "bin_start": 261.2,
                        "bin_end": 324,
                        "count": 0
                      },
                      {
                        "bin_start": 324,
                        "bin_end": 386.79999999999995,
                        "count": 0
                      },
                      {
                        "bin_start": 386.79999999999995,
                        "bin_end": 449.59999999999997,
                        "count": 0
                      },
                      {
                        "bin_start": 449.59999999999997,
                        "bin_end": 512.4,
                        "count": 0
                      },
                      {
                        "bin_start": 512.4,
                        "bin_end": 575.1999999999999,
                        "count": 0
                      },
                      {
                        "bin_start": 575.1999999999999,
                        "bin_end": 638,
                        "count": 1
                      }
                    ]
                  }
                },
                {
                  "name": "$50-75k",
                  "dtype": "int64",
                  "stats": {
                    "unique_count": 5,
                    "nan_count": 0,
                    "min": "35",
                    "max": "1116",
                    "histogram": [
                      {
                        "bin_start": 35,
                        "bin_end": 143.1,
                        "count": 4
                      },
                      {
                        "bin_start": 143.1,
                        "bin_end": 251.2,
                        "count": 0
                      },
                      {
                        "bin_start": 251.2,
                        "bin_end": 359.29999999999995,
                        "count": 0
                      },
                      {
                        "bin_start": 359.29999999999995,
                        "bin_end": 467.4,
                        "count": 0
                      },
                      {
                        "bin_start": 467.4,
                        "bin_end": 575.5,
                        "count": 0
                      },
                      {
                        "bin_start": 575.5,
                        "bin_end": 683.5999999999999,
                        "count": 0
                      },
                      {
                        "bin_start": 683.5999999999999,
                        "bin_end": 791.6999999999999,
                        "count": 0
                      },
                      {
                        "bin_start": 791.6999999999999,
                        "bin_end": 899.8,
                        "count": 0
                      },
                      {
                        "bin_start": 899.8,
                        "bin_end": 1007.9,
                        "count": 0
                      },
                      {
                        "bin_start": 1007.9,
                        "bin_end": 1116,
                        "count": 1
                      }
                    ]
                  }
                },
                {
                  "name": "$75-100k",
                  "dtype": "int64",
                  "stats": {
                    "unique_count": 5,
                    "nan_count": 0,
                    "min": "21",
                    "max": "949",
                    "histogram": [
                      {
                        "bin_start": 21,
                        "bin_end": 113.8,
                        "count": 3
                      },
                      {
                        "bin_start": 113.8,
                        "bin_end": 206.6,
                        "count": 1
                      },
                      {
                        "bin_start": 206.6,
                        "bin_end": 299.4,
                        "count": 0
                      },
                      {
                        "bin_start": 299.4,
                        "bin_end": 392.2,
                        "count": 0
                      },
                      {
                        "bin_start": 392.2,
                        "bin_end": 485,
                        "count": 0
                      },
                      {
                        "bin_start": 485,
                        "bin_end": 577.8,
                        "count": 0
                      },
                      {
                        "bin_start": 577.8,
                        "bin_end": 670.6,
                        "count": 0
                      },
                      {
                        "bin_start": 670.6,
                        "bin_end": 763.4,
                        "count": 0
                      },
                      {
                        "bin_start": 763.4,
                        "bin_end": 856.1999999999999,
                        "count": 0
                      },
                      {
                        "bin_start": 856.1999999999999,
                        "bin_end": 949,
                        "count": 1
                      }
                    ]
                  }
                },
                {
                  "name": "$100-150k",
                  "dtype": "int64",
                  "stats": {
                    "unique_count": 5,
                    "nan_count": 0,
                    "min": "17",
                    "max": "792",
                    "histogram": [
                      {
                        "bin_start": 17,
                        "bin_end": 94.5,
                        "count": 3
                      },
                      {
                        "bin_start": 94.5,
                        "bin_end": 172,
                        "count": 1
                      },
                      {
                        "bin_start": 172,
                        "bin_end": 249.5,
                        "count": 0
                      },
                      {
                        "bin_start": 249.5,
                        "bin_end": 327,
                        "count": 0
                      },
                      {
                        "bin_start": 327,
                        "bin_end": 404.5,
                        "count": 0
                      },
                      {
                        "bin_start": 404.5,
                        "bin_end": 482,
                        "count": 0
                      },
                      {
                        "bin_start": 482,
                        "bin_end": 559.5,
                        "count": 0
                      },
                      {
                        "bin_start": 559.5,
                        "bin_end": 637,
                        "count": 0
                      },
                      {
                        "bin_start": 637,
                        "bin_end": 714.5,
                        "count": 0
                      },
                      {
                        "bin_start": 714.5,
                        "bin_end": 792,
                        "count": 1
                      }
                    ]
                  }
                },
                {
                  "name": ">150k",
                  "dtype": "int64",
                  "stats": {
                    "unique_count": 5,
                    "nan_count": 0,
                    "min": "18",
                    "max": "633",
                    "histogram": [
                      {
                        "bin_start": 18,
                        "bin_end": 79.5,
                        "count": 3
                      },
                      {
                        "bin_start": 79.5,
                        "bin_end": 141,
                        "count": 1
                      },
                      {
                        "bin_start": 141,
                        "bin_end": 202.5,
                        "count": 0
                      },
                      {
                        "bin_start": 202.5,
                        "bin_end": 264,
                        "count": 0
                      },
                      {
                        "bin_start": 264,
                        "bin_end": 325.5,
                        "count": 0
                      },
                      {
                        "bin_start": 325.5,
                        "bin_end": 387,
                        "count": 0
                      },
                      {
                        "bin_start": 387,
                        "bin_end": 448.5,
                        "count": 0
                      },
                      {
                        "bin_start": 448.5,
                        "bin_end": 510,
                        "count": 0
                      },
                      {
                        "bin_start": 510,
                        "bin_end": 571.5,
                        "count": 0
                      },
                      {
                        "bin_start": 571.5,
                        "bin_end": 633,
                        "count": 1
                      }
                    ]
                  }
                },
                {
                  "name": "Don't know/refused",
                  "dtype": "int64",
                  "stats": {
                    "unique_count": 5,
                    "nan_count": 0,
                    "min": "54",
                    "max": "1489",
                    "histogram": [
                      {
                        "bin_start": 54,
                        "bin_end": 197.5,
                        "count": 4
                      },
                      {
                        "bin_start": 197.5,
                        "bin_end": 341,
                        "count": 0
                      },
                      {
                        "bin_start": 341,
                        "bin_end": 484.5,
                        "count": 0
                      },
                      {
                        "bin_start": 484.5,
                        "bin_end": 628,
                        "count": 0
                      },
                      {
                        "bin_start": 628,
                        "bin_end": 771.5,
                        "count": 0
                      },
                      {
                        "bin_start": 771.5,
                        "bin_end": 915,
                        "count": 0
                      },
                      {
                        "bin_start": 915,
                        "bin_end": 1058.5,
                        "count": 0
                      },
                      {
                        "bin_start": 1058.5,
                        "bin_end": 1202,
                        "count": 0
                      },
                      {
                        "bin_start": 1202,
                        "bin_end": 1345.5,
                        "count": 0
                      },
                      {
                        "bin_start": 1345.5,
                        "bin_end": 1489,
                        "count": 1
                      }
                    ]
                  }
                },
                {
                  "name": "_deepnote_index_column",
                  "dtype": "int64"
                }
              ],
              "rows_top": [
                {
                  "religion": "Agnostic",
                  "<$10k": 27,
                  "$10-20k": 34,
                  "$20-30k": 60,
                  "$30-40k": 81,
                  "$40-50k": 76,
                  "$50-75k": 137,
                  "$75-100k": 122,
                  "$100-150k": 109,
                  ">150k": 84,
                  "Don't know/refused": 96,
                  "_deepnote_index_column": 0
                },
                {
                  "religion": "Atheist",
                  "<$10k": 12,
                  "$10-20k": 27,
                  "$20-30k": 37,
                  "$30-40k": 52,
                  "$40-50k": 35,
                  "$50-75k": 70,
                  "$75-100k": 73,
                  "$100-150k": 59,
                  ">150k": 74,
                  "Don't know/refused": 76,
                  "_deepnote_index_column": 1
                },
                {
                  "religion": "Buddhist",
                  "<$10k": 27,
                  "$10-20k": 21,
                  "$20-30k": 30,
                  "$30-40k": 34,
                  "$40-50k": 33,
                  "$50-75k": 58,
                  "$75-100k": 62,
                  "$100-150k": 39,
                  ">150k": 53,
                  "Don't know/refused": 54,
                  "_deepnote_index_column": 2
                },
                {
                  "religion": "Catholic",
                  "<$10k": 418,
                  "$10-20k": 617,
                  "$20-30k": 732,
                  "$30-40k": 670,
                  "$40-50k": 638,
                  "$50-75k": 1116,
                  "$75-100k": 949,
                  "$100-150k": 792,
                  ">150k": 633,
                  "Don't know/refused": 1489,
                  "_deepnote_index_column": 3
                },
                {
                  "religion": "Don’t know/refused",
                  "<$10k": 15,
                  "$10-20k": 14,
                  "$20-30k": 15,
                  "$30-40k": 11,
                  "$40-50k": 10,
                  "$50-75k": 35,
                  "$75-100k": 21,
                  "$100-150k": 17,
                  ">150k": 18,
                  "Don't know/refused": 116,
                  "_deepnote_index_column": 4
                }
              ],
              "rows_bottom": null
            },
            "text/plain": "             religion  <$10k  $10-20k  $20-30k  $30-40k  $40-50k  $50-75k  \\\n0            Agnostic     27       34       60       81       76      137   \n1             Atheist     12       27       37       52       35       70   \n2            Buddhist     27       21       30       34       33       58   \n3            Catholic    418      617      732      670      638     1116   \n4  Don’t know/refused     15       14       15       11       10       35   \n\n   $75-100k  $100-150k  >150k  Don't know/refused  \n0       122        109     84                  96  \n1        73         59     74                  76  \n2        62         39     53                  54  \n3       949        792    633                1489  \n4        21         17     18                 116  ",
            "text/html": "<div>\n<style scoped>\n    .dataframe tbody tr th:only-of-type {\n        vertical-align: middle;\n    }\n\n    .dataframe tbody tr th {\n        vertical-align: top;\n    }\n\n    .dataframe thead th {\n        text-align: right;\n    }\n</style>\n<table border=\"1\" class=\"dataframe\">\n  <thead>\n    <tr style=\"text-align: right;\">\n      <th></th>\n      <th>religion</th>\n      <th>&lt;$10k</th>\n      <th>$10-20k</th>\n      <th>$20-30k</th>\n      <th>$30-40k</th>\n      <th>$40-50k</th>\n      <th>$50-75k</th>\n      <th>$75-100k</th>\n      <th>$100-150k</th>\n      <th>&gt;150k</th>\n      <th>Don't know/refused</th>\n    </tr>\n  </thead>\n  <tbody>\n    <tr>\n      <th>0</th>\n      <td>Agnostic</td>\n      <td>27</td>\n      <td>34</td>\n      <td>60</td>\n      <td>81</td>\n      <td>76</td>\n      <td>137</td>\n      <td>122</td>\n      <td>109</td>\n      <td>84</td>\n      <td>96</td>\n    </tr>\n    <tr>\n      <th>1</th>\n      <td>Atheist</td>\n      <td>12</td>\n      <td>27</td>\n      <td>37</td>\n      <td>52</td>\n      <td>35</td>\n      <td>70</td>\n      <td>73</td>\n      <td>59</td>\n      <td>74</td>\n      <td>76</td>\n    </tr>\n    <tr>\n      <th>2</th>\n      <td>Buddhist</td>\n      <td>27</td>\n      <td>21</td>\n      <td>30</td>\n      <td>34</td>\n      <td>33</td>\n      <td>58</td>\n      <td>62</td>\n      <td>39</td>\n      <td>53</td>\n      <td>54</td>\n    </tr>\n    <tr>\n      <th>3</th>\n      <td>Catholic</td>\n      <td>418</td>\n      <td>617</td>\n      <td>732</td>\n      <td>670</td>\n      <td>638</td>\n      <td>1116</td>\n      <td>949</td>\n      <td>792</td>\n      <td>633</td>\n      <td>1489</td>\n    </tr>\n    <tr>\n      <th>4</th>\n      <td>Don’t know/refused</td>\n      <td>15</td>\n      <td>14</td>\n      <td>15</td>\n      <td>11</td>\n      <td>10</td>\n      <td>35</td>\n      <td>21</td>\n      <td>17</td>\n      <td>18</td>\n      <td>116</td>\n    </tr>\n  </tbody>\n</table>\n</div>"
          },
          "metadata": {}
        }
      ]
    },
    {
      "cell_type": "code",
      "metadata": {
        "deepnote_to_be_reexecuted": false,
        "execution_millis": 26,
        "execution_start": 1619967635403,
        "source_hash": "b834560f",
        "cell_id": "00032-8f57866f-ea44-410a-8941-360fc85497cb",
        "deepnote_cell_type": "code"
      },
      "source": "pew_long = pd.melt(pew, id_vars='religion')",
      "execution_count": 30,
      "outputs": []
    },
    {
      "cell_type": "code",
      "metadata": {
        "deepnote_to_be_reexecuted": false,
        "execution_millis": 71,
        "execution_start": 1619967635430,
        "source_hash": "413880b1",
        "cell_id": "00033-a8df66f9-b4ab-4ab2-b10c-9c4c0ca27f97",
        "deepnote_cell_type": "code"
      },
      "source": "pew_long.head()",
      "execution_count": 31,
      "outputs": [
        {
          "output_type": "execute_result",
          "execution_count": 31,
          "data": {
            "application/vnd.deepnote.dataframe.v2+json": {
              "row_count": 5,
              "column_count": 3,
              "columns": [
                {
                  "name": "religion",
                  "dtype": "object",
                  "stats": {
                    "unique_count": 5,
                    "nan_count": 0,
                    "categories": [
                      {
                        "name": "Agnostic",
                        "count": 1
                      },
                      {
                        "name": "Atheist",
                        "count": 1
                      },
                      {
                        "name": "3 others",
                        "count": 3
                      }
                    ]
                  }
                },
                {
                  "name": "variable",
                  "dtype": "object",
                  "stats": {
                    "unique_count": 1,
                    "nan_count": 0,
                    "categories": [
                      {
                        "name": "<$10k",
                        "count": 5
                      }
                    ]
                  }
                },
                {
                  "name": "value",
                  "dtype": "int64",
                  "stats": {
                    "unique_count": 4,
                    "nan_count": 0,
                    "min": "12",
                    "max": "418",
                    "histogram": [
                      {
                        "bin_start": 12,
                        "bin_end": 52.6,
                        "count": 4
                      },
                      {
                        "bin_start": 52.6,
                        "bin_end": 93.2,
                        "count": 0
                      },
                      {
                        "bin_start": 93.2,
                        "bin_end": 133.8,
                        "count": 0
                      },
                      {
                        "bin_start": 133.8,
                        "bin_end": 174.4,
                        "count": 0
                      },
                      {
                        "bin_start": 174.4,
                        "bin_end": 215,
                        "count": 0
                      },
                      {
                        "bin_start": 215,
                        "bin_end": 255.60000000000002,
                        "count": 0
                      },
                      {
                        "bin_start": 255.60000000000002,
                        "bin_end": 296.2,
                        "count": 0
                      },
                      {
                        "bin_start": 296.2,
                        "bin_end": 336.8,
                        "count": 0
                      },
                      {
                        "bin_start": 336.8,
                        "bin_end": 377.40000000000003,
                        "count": 0
                      },
                      {
                        "bin_start": 377.40000000000003,
                        "bin_end": 418,
                        "count": 1
                      }
                    ]
                  }
                },
                {
                  "name": "_deepnote_index_column",
                  "dtype": "int64"
                }
              ],
              "rows_top": [
                {
                  "religion": "Agnostic",
                  "variable": "<$10k",
                  "value": 27,
                  "_deepnote_index_column": 0
                },
                {
                  "religion": "Atheist",
                  "variable": "<$10k",
                  "value": 12,
                  "_deepnote_index_column": 1
                },
                {
                  "religion": "Buddhist",
                  "variable": "<$10k",
                  "value": 27,
                  "_deepnote_index_column": 2
                },
                {
                  "religion": "Catholic",
                  "variable": "<$10k",
                  "value": 418,
                  "_deepnote_index_column": 3
                },
                {
                  "religion": "Don’t know/refused",
                  "variable": "<$10k",
                  "value": 15,
                  "_deepnote_index_column": 4
                }
              ],
              "rows_bottom": null
            },
            "text/plain": "             religion variable  value\n0            Agnostic    <$10k     27\n1             Atheist    <$10k     12\n2            Buddhist    <$10k     27\n3            Catholic    <$10k    418\n4  Don’t know/refused    <$10k     15",
            "text/html": "<div>\n<style scoped>\n    .dataframe tbody tr th:only-of-type {\n        vertical-align: middle;\n    }\n\n    .dataframe tbody tr th {\n        vertical-align: top;\n    }\n\n    .dataframe thead th {\n        text-align: right;\n    }\n</style>\n<table border=\"1\" class=\"dataframe\">\n  <thead>\n    <tr style=\"text-align: right;\">\n      <th></th>\n      <th>religion</th>\n      <th>variable</th>\n      <th>value</th>\n    </tr>\n  </thead>\n  <tbody>\n    <tr>\n      <th>0</th>\n      <td>Agnostic</td>\n      <td>&lt;$10k</td>\n      <td>27</td>\n    </tr>\n    <tr>\n      <th>1</th>\n      <td>Atheist</td>\n      <td>&lt;$10k</td>\n      <td>12</td>\n    </tr>\n    <tr>\n      <th>2</th>\n      <td>Buddhist</td>\n      <td>&lt;$10k</td>\n      <td>27</td>\n    </tr>\n    <tr>\n      <th>3</th>\n      <td>Catholic</td>\n      <td>&lt;$10k</td>\n      <td>418</td>\n    </tr>\n    <tr>\n      <th>4</th>\n      <td>Don’t know/refused</td>\n      <td>&lt;$10k</td>\n      <td>15</td>\n    </tr>\n  </tbody>\n</table>\n</div>"
          },
          "metadata": {}
        }
      ]
    },
    {
      "cell_type": "code",
      "metadata": {
        "deepnote_to_be_reexecuted": false,
        "execution_millis": 12,
        "execution_start": 1619967635498,
        "source_hash": "97f7fa60",
        "cell_id": "00034-fdd45bbf-6b79-4971-ace6-8684aad4002e",
        "deepnote_cell_type": "code"
      },
      "source": "pew_long = pd.melt(pew, id_vars='religion',\n                   var_name='income',\n                  value_name='count')",
      "execution_count": 32,
      "outputs": []
    },
    {
      "cell_type": "code",
      "metadata": {
        "deepnote_to_be_reexecuted": false,
        "execution_millis": 70,
        "execution_start": 1619967635512,
        "source_hash": "413880b1",
        "cell_id": "00035-95400706-60ac-4bb3-9364-04e0719a2b0f",
        "deepnote_cell_type": "code"
      },
      "source": "pew_long.head()",
      "execution_count": 33,
      "outputs": [
        {
          "output_type": "execute_result",
          "execution_count": 33,
          "data": {
            "application/vnd.deepnote.dataframe.v2+json": {
              "row_count": 5,
              "column_count": 3,
              "columns": [
                {
                  "name": "religion",
                  "dtype": "object",
                  "stats": {
                    "unique_count": 5,
                    "nan_count": 0,
                    "categories": [
                      {
                        "name": "Agnostic",
                        "count": 1
                      },
                      {
                        "name": "Atheist",
                        "count": 1
                      },
                      {
                        "name": "3 others",
                        "count": 3
                      }
                    ]
                  }
                },
                {
                  "name": "income",
                  "dtype": "object",
                  "stats": {
                    "unique_count": 1,
                    "nan_count": 0,
                    "categories": [
                      {
                        "name": "<$10k",
                        "count": 5
                      }
                    ]
                  }
                },
                {
                  "name": "count",
                  "dtype": "int64",
                  "stats": {
                    "unique_count": 4,
                    "nan_count": 0,
                    "min": "12",
                    "max": "418",
                    "histogram": [
                      {
                        "bin_start": 12,
                        "bin_end": 52.6,
                        "count": 4
                      },
                      {
                        "bin_start": 52.6,
                        "bin_end": 93.2,
                        "count": 0
                      },
                      {
                        "bin_start": 93.2,
                        "bin_end": 133.8,
                        "count": 0
                      },
                      {
                        "bin_start": 133.8,
                        "bin_end": 174.4,
                        "count": 0
                      },
                      {
                        "bin_start": 174.4,
                        "bin_end": 215,
                        "count": 0
                      },
                      {
                        "bin_start": 215,
                        "bin_end": 255.60000000000002,
                        "count": 0
                      },
                      {
                        "bin_start": 255.60000000000002,
                        "bin_end": 296.2,
                        "count": 0
                      },
                      {
                        "bin_start": 296.2,
                        "bin_end": 336.8,
                        "count": 0
                      },
                      {
                        "bin_start": 336.8,
                        "bin_end": 377.40000000000003,
                        "count": 0
                      },
                      {
                        "bin_start": 377.40000000000003,
                        "bin_end": 418,
                        "count": 1
                      }
                    ]
                  }
                },
                {
                  "name": "_deepnote_index_column",
                  "dtype": "int64"
                }
              ],
              "rows_top": [
                {
                  "religion": "Agnostic",
                  "income": "<$10k",
                  "count": 27,
                  "_deepnote_index_column": 0
                },
                {
                  "religion": "Atheist",
                  "income": "<$10k",
                  "count": 12,
                  "_deepnote_index_column": 1
                },
                {
                  "religion": "Buddhist",
                  "income": "<$10k",
                  "count": 27,
                  "_deepnote_index_column": 2
                },
                {
                  "religion": "Catholic",
                  "income": "<$10k",
                  "count": 418,
                  "_deepnote_index_column": 3
                },
                {
                  "religion": "Don’t know/refused",
                  "income": "<$10k",
                  "count": 15,
                  "_deepnote_index_column": 4
                }
              ],
              "rows_bottom": null
            },
            "text/plain": "             religion income  count\n0            Agnostic  <$10k     27\n1             Atheist  <$10k     12\n2            Buddhist  <$10k     27\n3            Catholic  <$10k    418\n4  Don’t know/refused  <$10k     15",
            "text/html": "<div>\n<style scoped>\n    .dataframe tbody tr th:only-of-type {\n        vertical-align: middle;\n    }\n\n    .dataframe tbody tr th {\n        vertical-align: top;\n    }\n\n    .dataframe thead th {\n        text-align: right;\n    }\n</style>\n<table border=\"1\" class=\"dataframe\">\n  <thead>\n    <tr style=\"text-align: right;\">\n      <th></th>\n      <th>religion</th>\n      <th>income</th>\n      <th>count</th>\n    </tr>\n  </thead>\n  <tbody>\n    <tr>\n      <th>0</th>\n      <td>Agnostic</td>\n      <td>&lt;$10k</td>\n      <td>27</td>\n    </tr>\n    <tr>\n      <th>1</th>\n      <td>Atheist</td>\n      <td>&lt;$10k</td>\n      <td>12</td>\n    </tr>\n    <tr>\n      <th>2</th>\n      <td>Buddhist</td>\n      <td>&lt;$10k</td>\n      <td>27</td>\n    </tr>\n    <tr>\n      <th>3</th>\n      <td>Catholic</td>\n      <td>&lt;$10k</td>\n      <td>418</td>\n    </tr>\n    <tr>\n      <th>4</th>\n      <td>Don’t know/refused</td>\n      <td>&lt;$10k</td>\n      <td>15</td>\n    </tr>\n  </tbody>\n</table>\n</div>"
          },
          "metadata": {}
        }
      ]
    },
    {
      "cell_type": "code",
      "metadata": {
        "deepnote_to_be_reexecuted": false,
        "execution_millis": 87,
        "execution_start": 1619967635580,
        "source_hash": "428cedc6",
        "cell_id": "00036-45aa9c8d-fcd3-4cb1-99f8-cf42defdff6e",
        "deepnote_cell_type": "code"
      },
      "source": "billboard = pd.read_csv('/work/Assignment 10/billboard.csv')",
      "execution_count": 34,
      "outputs": []
    },
    {
      "cell_type": "code",
      "metadata": {
        "deepnote_to_be_reexecuted": false,
        "execution_millis": 1043,
        "execution_start": 1619967635667,
        "source_hash": "8c0e668",
        "cell_id": "00037-b670a7ef-8d25-45fd-a437-311ed985173e",
        "deepnote_cell_type": "code"
      },
      "source": "billboard",
      "execution_count": 35,
      "outputs": [
        {
          "output_type": "execute_result",
          "execution_count": 35,
          "data": {
            "application/vnd.deepnote.dataframe.v2+json": {
              "row_count": 317,
              "column_count": 81,
              "columns": [
                {
                  "name": "year",
                  "dtype": "int64",
                  "stats": {
                    "unique_count": 1,
                    "nan_count": 0,
                    "min": "2000",
                    "max": "2000",
                    "histogram": [
                      {
                        "bin_start": 1999.5,
                        "bin_end": 1999.6,
                        "count": 0
                      },
                      {
                        "bin_start": 1999.6,
                        "bin_end": 1999.7,
                        "count": 0
                      },
                      {
                        "bin_start": 1999.7,
                        "bin_end": 1999.8,
                        "count": 0
                      },
                      {
                        "bin_start": 1999.8,
                        "bin_end": 1999.9,
                        "count": 0
                      },
                      {
                        "bin_start": 1999.9,
                        "bin_end": 2000,
                        "count": 0
                      },
                      {
                        "bin_start": 2000,
                        "bin_end": 2000.1,
                        "count": 317
                      },
                      {
                        "bin_start": 2000.1,
                        "bin_end": 2000.2,
                        "count": 0
                      },
                      {
                        "bin_start": 2000.2,
                        "bin_end": 2000.3,
                        "count": 0
                      },
                      {
                        "bin_start": 2000.3,
                        "bin_end": 2000.4,
                        "count": 0
                      },
                      {
                        "bin_start": 2000.4,
                        "bin_end": 2000.5,
                        "count": 0
                      }
                    ]
                  }
                },
                {
                  "name": "artist",
                  "dtype": "object",
                  "stats": {
                    "unique_count": 228,
                    "nan_count": 0,
                    "categories": [
                      {
                        "name": "Jay-Z",
                        "count": 5
                      },
                      {
                        "name": "Dixie Chicks, The",
                        "count": 4
                      },
                      {
                        "name": "226 others",
                        "count": 308
                      }
                    ]
                  }
                },
                {
                  "name": "track",
                  "dtype": "object",
                  "stats": {
                    "unique_count": 316,
                    "nan_count": 0,
                    "categories": [
                      {
                        "name": "Where I Wanna Be",
                        "count": 2
                      },
                      {
                        "name": "Baby Don't Cry (Keep...",
                        "count": 1
                      },
                      {
                        "name": "314 others",
                        "count": 314
                      }
                    ]
                  }
                },
                {
                  "name": "time",
                  "dtype": "object",
                  "stats": {
                    "unique_count": 126,
                    "nan_count": 0,
                    "categories": [
                      {
                        "name": "3:50",
                        "count": 9
                      },
                      {
                        "name": "3:54",
                        "count": 7
                      },
                      {
                        "name": "124 others",
                        "count": 301
                      }
                    ]
                  }
                },
                {
                  "name": "date.entered",
                  "dtype": "object",
                  "stats": {
                    "unique_count": 68,
                    "nan_count": 0,
                    "categories": [
                      {
                        "name": "2000-01-29",
                        "count": 11
                      },
                      {
                        "name": "2000-08-12",
                        "count": 10
                      },
                      {
                        "name": "66 others",
                        "count": 296
                      }
                    ]
                  }
                },
                {
                  "name": "wk1",
                  "dtype": "int64",
                  "stats": {
                    "unique_count": 63,
                    "nan_count": 0,
                    "min": "15",
                    "max": "100",
                    "histogram": [
                      {
                        "bin_start": 15,
                        "bin_end": 23.5,
                        "count": 2
                      },
                      {
                        "bin_start": 23.5,
                        "bin_end": 32,
                        "count": 2
                      },
                      {
                        "bin_start": 32,
                        "bin_end": 40.5,
                        "count": 4
                      },
                      {
                        "bin_start": 40.5,
                        "bin_end": 49,
                        "count": 5
                      },
                      {
                        "bin_start": 49,
                        "bin_end": 57.5,
                        "count": 9
                      },
                      {
                        "bin_start": 57.5,
                        "bin_end": 66,
                        "count": 17
                      },
                      {
                        "bin_start": 66,
                        "bin_end": 74.5,
                        "count": 47
                      },
                      {
                        "bin_start": 74.5,
                        "bin_end": 83,
                        "count": 91
                      },
                      {
                        "bin_start": 83,
                        "bin_end": 91.5,
                        "count": 64
                      },
                      {
                        "bin_start": 91.5,
                        "bin_end": 100,
                        "count": 76
                      }
                    ]
                  }
                },
                {
                  "name": "wk2",
                  "dtype": "float64",
                  "stats": {
                    "unique_count": 72,
                    "nan_count": 5,
                    "min": "8.0",
                    "max": "100.0",
                    "histogram": [
                      {
                        "bin_start": 8,
                        "bin_end": 17.2,
                        "count": 2
                      },
                      {
                        "bin_start": 17.2,
                        "bin_end": 26.4,
                        "count": 5
                      },
                      {
                        "bin_start": 26.4,
                        "bin_end": 35.599999999999994,
                        "count": 14
                      },
                      {
                        "bin_start": 35.599999999999994,
                        "bin_end": 44.8,
                        "count": 7
                      },
                      {
                        "bin_start": 44.8,
                        "bin_end": 54,
                        "count": 18
                      },
                      {
                        "bin_start": 54,
                        "bin_end": 63.199999999999996,
                        "count": 35
                      },
                      {
                        "bin_start": 63.199999999999996,
                        "bin_end": 72.39999999999999,
                        "count": 72
                      },
                      {
                        "bin_start": 72.39999999999999,
                        "bin_end": 81.6,
                        "count": 66
                      },
                      {
                        "bin_start": 81.6,
                        "bin_end": 90.8,
                        "count": 48
                      },
                      {
                        "bin_start": 90.8,
                        "bin_end": 100,
                        "count": 45
                      }
                    ]
                  }
                },
                {
                  "name": "wk3",
                  "dtype": "float64",
                  "stats": {
                    "unique_count": 79,
                    "nan_count": 10,
                    "min": "6.0",
                    "max": "100.0",
                    "histogram": [
                      {
                        "bin_start": 6,
                        "bin_end": 15.4,
                        "count": 4
                      },
                      {
                        "bin_start": 15.4,
                        "bin_end": 24.8,
                        "count": 13
                      },
                      {
                        "bin_start": 24.8,
                        "bin_end": 34.2,
                        "count": 13
                      },
                      {
                        "bin_start": 34.2,
                        "bin_end": 43.6,
                        "count": 11
                      },
                      {
                        "bin_start": 43.6,
                        "bin_end": 53,
                        "count": 34
                      },
                      {
                        "bin_start": 53,
                        "bin_end": 62.400000000000006,
                        "count": 46
                      },
                      {
                        "bin_start": 62.400000000000006,
                        "bin_end": 71.8,
                        "count": 69
                      },
                      {
                        "bin_start": 71.8,
                        "bin_end": 81.2,
                        "count": 52
                      },
                      {
                        "bin_start": 81.2,
                        "bin_end": 90.60000000000001,
                        "count": 26
                      },
                      {
                        "bin_start": 90.60000000000001,
                        "bin_end": 100,
                        "count": 39
                      }
                    ]
                  }
                },
                {
                  "name": "wk4",
                  "dtype": "float64",
                  "stats": {
                    "unique_count": 88,
                    "nan_count": 17,
                    "min": "5.0",
                    "max": "100.0",
                    "histogram": [
                      {
                        "bin_start": 5,
                        "bin_end": 14.5,
                        "count": 6
                      },
                      {
                        "bin_start": 14.5,
                        "bin_end": 24,
                        "count": 16
                      },
                      {
                        "bin_start": 24,
                        "bin_end": 33.5,
                        "count": 19
                      },
                      {
                        "bin_start": 33.5,
                        "bin_end": 43,
                        "count": 29
                      },
                      {
                        "bin_start": 43,
                        "bin_end": 52.5,
                        "count": 35
                      },
                      {
                        "bin_start": 52.5,
                        "bin_end": 62,
                        "count": 47
                      },
                      {
                        "bin_start": 62,
                        "bin_end": 71.5,
                        "count": 54
                      },
                      {
                        "bin_start": 71.5,
                        "bin_end": 81,
                        "count": 40
                      },
                      {
                        "bin_start": 81,
                        "bin_end": 90.5,
                        "count": 23
                      },
                      {
                        "bin_start": 90.5,
                        "bin_end": 100,
                        "count": 31
                      }
                    ]
                  }
                },
                {
                  "name": "wk5",
                  "dtype": "float64",
                  "stats": {
                    "unique_count": 91,
                    "nan_count": 25,
                    "min": "2.0",
                    "max": "100.0",
                    "histogram": [
                      {
                        "bin_start": 2,
                        "bin_end": 11.8,
                        "count": 7
                      },
                      {
                        "bin_start": 11.8,
                        "bin_end": 21.6,
                        "count": 20
                      },
                      {
                        "bin_start": 21.6,
                        "bin_end": 31.400000000000002,
                        "count": 22
                      },
                      {
                        "bin_start": 31.400000000000002,
                        "bin_end": 41.2,
                        "count": 34
                      },
                      {
                        "bin_start": 41.2,
                        "bin_end": 51,
                        "count": 30
                      },
                      {
                        "bin_start": 51,
                        "bin_end": 60.800000000000004,
                        "count": 50
                      },
                      {
                        "bin_start": 60.800000000000004,
                        "bin_end": 70.60000000000001,
                        "count": 48
                      },
                      {
                        "bin_start": 70.60000000000001,
                        "bin_end": 80.4,
                        "count": 23
                      },
                      {
                        "bin_start": 80.4,
                        "bin_end": 90.2,
                        "count": 31
                      },
                      {
                        "bin_start": 90.2,
                        "bin_end": 100,
                        "count": 27
                      }
                    ]
                  }
                },
                {
                  "name": "wk6",
                  "dtype": "float64",
                  "stats": {
                    "unique_count": 92,
                    "nan_count": 37,
                    "min": "1.0",
                    "max": "99.0",
                    "histogram": [
                      {
                        "bin_start": 1,
                        "bin_end": 10.8,
                        "count": 8
                      },
                      {
                        "bin_start": 10.8,
                        "bin_end": 20.6,
                        "count": 25
                      },
                      {
                        "bin_start": 20.6,
                        "bin_end": 30.400000000000002,
                        "count": 24
                      },
                      {
                        "bin_start": 30.400000000000002,
                        "bin_end": 40.2,
                        "count": 36
                      },
                      {
                        "bin_start": 40.2,
                        "bin_end": 50,
                        "count": 41
                      },
                      {
                        "bin_start": 50,
                        "bin_end": 59.800000000000004,
                        "count": 39
                      },
                      {
                        "bin_start": 59.800000000000004,
                        "bin_end": 69.60000000000001,
                        "count": 32
                      },
                      {
                        "bin_start": 69.60000000000001,
                        "bin_end": 79.4,
                        "count": 29
                      },
                      {
                        "bin_start": 79.4,
                        "bin_end": 89.2,
                        "count": 24
                      },
                      {
                        "bin_start": 89.2,
                        "bin_end": 99,
                        "count": 22
                      }
                    ]
                  }
                },
                {
                  "name": "wk7",
                  "dtype": "float64",
                  "stats": {
                    "unique_count": 90,
                    "nan_count": 48,
                    "min": "1.0",
                    "max": "100.0",
                    "histogram": [
                      {
                        "bin_start": 1,
                        "bin_end": 10.9,
                        "count": 16
                      },
                      {
                        "bin_start": 10.9,
                        "bin_end": 20.8,
                        "count": 25
                      },
                      {
                        "bin_start": 20.8,
                        "bin_end": 30.700000000000003,
                        "count": 29
                      },
                      {
                        "bin_start": 30.700000000000003,
                        "bin_end": 40.6,
                        "count": 39
                      },
                      {
                        "bin_start": 40.6,
                        "bin_end": 50.5,
                        "count": 37
                      },
                      {
                        "bin_start": 50.5,
                        "bin_end": 60.400000000000006,
                        "count": 35
                      },
                      {
                        "bin_start": 60.400000000000006,
                        "bin_end": 70.3,
                        "count": 25
                      },
                      {
                        "bin_start": 70.3,
                        "bin_end": 80.2,
                        "count": 19
                      },
                      {
                        "bin_start": 80.2,
                        "bin_end": 90.10000000000001,
                        "count": 24
                      },
                      {
                        "bin_start": 90.10000000000001,
                        "bin_end": 100,
                        "count": 20
                      }
                    ]
                  }
                },
                {
                  "name": "wk8",
                  "dtype": "float64",
                  "stats": {
                    "unique_count": 91,
                    "nan_count": 57,
                    "min": "1.0",
                    "max": "99.0",
                    "histogram": [
                      {
                        "bin_start": 1,
                        "bin_end": 10.8,
                        "count": 24
                      },
                      {
                        "bin_start": 10.8,
                        "bin_end": 20.6,
                        "count": 23
                      },
                      {
                        "bin_start": 20.6,
                        "bin_end": 30.400000000000002,
                        "count": 32
                      },
                      {
                        "bin_start": 30.400000000000002,
                        "bin_end": 40.2,
                        "count": 37
                      },
                      {
                        "bin_start": 40.2,
                        "bin_end": 50,
                        "count": 31
                      },
                      {
                        "bin_start": 50,
                        "bin_end": 59.800000000000004,
                        "count": 33
                      },
                      {
                        "bin_start": 59.800000000000004,
                        "bin_end": 69.60000000000001,
                        "count": 20
                      },
                      {
                        "bin_start": 69.60000000000001,
                        "bin_end": 79.4,
                        "count": 17
                      },
                      {
                        "bin_start": 79.4,
                        "bin_end": 89.2,
                        "count": 24
                      },
                      {
                        "bin_start": 89.2,
                        "bin_end": 99,
                        "count": 19
                      }
                    ]
                  }
                },
                {
                  "name": "wk9",
                  "dtype": "float64",
                  "stats": {
                    "unique_count": 92,
                    "nan_count": 64,
                    "min": "1.0",
                    "max": "100.0",
                    "histogram": [
                      {
                        "bin_start": 1,
                        "bin_end": 10.9,
                        "count": 24
                      },
                      {
                        "bin_start": 10.9,
                        "bin_end": 20.8,
                        "count": 25
                      },
                      {
                        "bin_start": 20.8,
                        "bin_end": 30.700000000000003,
                        "count": 35
                      },
                      {
                        "bin_start": 30.700000000000003,
                        "bin_end": 40.6,
                        "count": 38
                      },
                      {
                        "bin_start": 40.6,
                        "bin_end": 50.5,
                        "count": 22
                      },
                      {
                        "bin_start": 50.5,
                        "bin_end": 60.400000000000006,
                        "count": 31
                      },
                      {
                        "bin_start": 60.400000000000006,
                        "bin_end": 70.3,
                        "count": 20
                      },
                      {
                        "bin_start": 70.3,
                        "bin_end": 80.2,
                        "count": 19
                      },
                      {
                        "bin_start": 80.2,
                        "bin_end": 90.10000000000001,
                        "count": 22
                      },
                      {
                        "bin_start": 90.10000000000001,
                        "bin_end": 100,
                        "count": 17
                      }
                    ]
                  }
                },
                {
                  "name": "wk10",
                  "dtype": "float64",
                  "stats": {
                    "unique_count": 92,
                    "nan_count": 73,
                    "min": "1.0",
                    "max": "100.0",
                    "histogram": [
                      {
                        "bin_start": 1,
                        "bin_end": 10.9,
                        "count": 28
                      },
                      {
                        "bin_start": 10.9,
                        "bin_end": 20.8,
                        "count": 25
                      },
                      {
                        "bin_start": 20.8,
                        "bin_end": 30.700000000000003,
                        "count": 34
                      },
                      {
                        "bin_start": 30.700000000000003,
                        "bin_end": 40.6,
                        "count": 36
                      },
                      {
                        "bin_start": 40.6,
                        "bin_end": 50.5,
                        "count": 18
                      },
                      {
                        "bin_start": 50.5,
                        "bin_end": 60.400000000000006,
                        "count": 28
                      },
                      {
                        "bin_start": 60.400000000000006,
                        "bin_end": 70.3,
                        "count": 20
                      },
                      {
                        "bin_start": 70.3,
                        "bin_end": 80.2,
                        "count": 17
                      },
                      {
                        "bin_start": 80.2,
                        "bin_end": 90.10000000000001,
                        "count": 16
                      },
                      {
                        "bin_start": 90.10000000000001,
                        "bin_end": 100,
                        "count": 22
                      }
                    ]
                  }
                },
                {
                  "name": "wk11",
                  "dtype": "float64",
                  "stats": {
                    "unique_count": 92,
                    "nan_count": 81,
                    "min": "1.0",
                    "max": "100.0",
                    "histogram": [
                      {
                        "bin_start": 1,
                        "bin_end": 10.9,
                        "count": 29
                      },
                      {
                        "bin_start": 10.9,
                        "bin_end": 20.8,
                        "count": 24
                      },
                      {
                        "bin_start": 20.8,
                        "bin_end": 30.700000000000003,
                        "count": 34
                      },
                      {
                        "bin_start": 30.700000000000003,
                        "bin_end": 40.6,
                        "count": 28
                      },
                      {
                        "bin_start": 40.6,
                        "bin_end": 50.5,
                        "count": 24
                      },
                      {
                        "bin_start": 50.5,
                        "bin_end": 60.400000000000006,
                        "count": 22
                      },
                      {
                        "bin_start": 60.400000000000006,
                        "bin_end": 70.3,
                        "count": 17
                      },
                      {
                        "bin_start": 70.3,
                        "bin_end": 80.2,
                        "count": 19
                      },
                      {
                        "bin_start": 80.2,
                        "bin_end": 90.10000000000001,
                        "count": 13
                      },
                      {
                        "bin_start": 90.10000000000001,
                        "bin_end": 100,
                        "count": 26
                      }
                    ]
                  }
                },
                {
                  "name": "wk12",
                  "dtype": "float64",
                  "stats": {
                    "unique_count": 91,
                    "nan_count": 95,
                    "min": "1.0",
                    "max": "100.0",
                    "histogram": [
                      {
                        "bin_start": 1,
                        "bin_end": 10.9,
                        "count": 32
                      },
                      {
                        "bin_start": 10.9,
                        "bin_end": 20.8,
                        "count": 24
                      },
                      {
                        "bin_start": 20.8,
                        "bin_end": 30.700000000000003,
                        "count": 32
                      },
                      {
                        "bin_start": 30.700000000000003,
                        "bin_end": 40.6,
                        "count": 20
                      },
                      {
                        "bin_start": 40.6,
                        "bin_end": 50.5,
                        "count": 25
                      },
                      {
                        "bin_start": 50.5,
                        "bin_end": 60.400000000000006,
                        "count": 26
                      },
                      {
                        "bin_start": 60.400000000000006,
                        "bin_end": 70.3,
                        "count": 13
                      },
                      {
                        "bin_start": 70.3,
                        "bin_end": 80.2,
                        "count": 11
                      },
                      {
                        "bin_start": 80.2,
                        "bin_end": 90.10000000000001,
                        "count": 22
                      },
                      {
                        "bin_start": 90.10000000000001,
                        "bin_end": 100,
                        "count": 17
                      }
                    ]
                  }
                },
                {
                  "name": "wk13",
                  "dtype": "float64",
                  "stats": {
                    "unique_count": 86,
                    "nan_count": 107,
                    "min": "1.0",
                    "max": "100.0",
                    "histogram": [
                      {
                        "bin_start": 1,
                        "bin_end": 10.9,
                        "count": 32
                      },
                      {
                        "bin_start": 10.9,
                        "bin_end": 20.8,
                        "count": 23
                      },
                      {
                        "bin_start": 20.8,
                        "bin_end": 30.700000000000003,
                        "count": 27
                      },
                      {
                        "bin_start": 30.700000000000003,
                        "bin_end": 40.6,
                        "count": 21
                      },
                      {
                        "bin_start": 40.6,
                        "bin_end": 50.5,
                        "count": 23
                      },
                      {
                        "bin_start": 50.5,
                        "bin_end": 60.400000000000006,
                        "count": 21
                      },
                      {
                        "bin_start": 60.400000000000006,
                        "bin_end": 70.3,
                        "count": 16
                      },
                      {
                        "bin_start": 70.3,
                        "bin_end": 80.2,
                        "count": 11
                      },
                      {
                        "bin_start": 80.2,
                        "bin_end": 90.10000000000001,
                        "count": 19
                      },
                      {
                        "bin_start": 90.10000000000001,
                        "bin_end": 100,
                        "count": 17
                      }
                    ]
                  }
                },
                {
                  "name": "wk14",
                  "dtype": "float64",
                  "stats": {
                    "unique_count": 87,
                    "nan_count": 113,
                    "min": "1.0",
                    "max": "100.0",
                    "histogram": [
                      {
                        "bin_start": 1,
                        "bin_end": 10.9,
                        "count": 32
                      },
                      {
                        "bin_start": 10.9,
                        "bin_end": 20.8,
                        "count": 23
                      },
                      {
                        "bin_start": 20.8,
                        "bin_end": 30.700000000000003,
                        "count": 22
                      },
                      {
                        "bin_start": 30.700000000000003,
                        "bin_end": 40.6,
                        "count": 21
                      },
                      {
                        "bin_start": 40.6,
                        "bin_end": 50.5,
                        "count": 16
                      },
                      {
                        "bin_start": 50.5,
                        "bin_end": 60.400000000000006,
                        "count": 21
                      },
                      {
                        "bin_start": 60.400000000000006,
                        "bin_end": 70.3,
                        "count": 17
                      },
                      {
                        "bin_start": 70.3,
                        "bin_end": 80.2,
                        "count": 10
                      },
                      {
                        "bin_start": 80.2,
                        "bin_end": 90.10000000000001,
                        "count": 20
                      },
                      {
                        "bin_start": 90.10000000000001,
                        "bin_end": 100,
                        "count": 22
                      }
                    ]
                  }
                },
                {
                  "name": "wk15",
                  "dtype": "float64",
                  "stats": {
                    "unique_count": 86,
                    "nan_count": 120,
                    "min": "1.0",
                    "max": "100.0",
                    "histogram": [
                      {
                        "bin_start": 1,
                        "bin_end": 10.9,
                        "count": 30
                      },
                      {
                        "bin_start": 10.9,
                        "bin_end": 20.8,
                        "count": 25
                      },
                      {
                        "bin_start": 20.8,
                        "bin_end": 30.700000000000003,
                        "count": 13
                      },
                      {
                        "bin_start": 30.700000000000003,
                        "bin_end": 40.6,
                        "count": 22
                      },
                      {
                        "bin_start": 40.6,
                        "bin_end": 50.5,
                        "count": 14
                      },
                      {
                        "bin_start": 50.5,
                        "bin_end": 60.400000000000006,
                        "count": 16
                      },
                      {
                        "bin_start": 60.400000000000006,
                        "bin_end": 70.3,
                        "count": 19
                      },
                      {
                        "bin_start": 70.3,
                        "bin_end": 80.2,
                        "count": 16
                      },
                      {
                        "bin_start": 80.2,
                        "bin_end": 90.10000000000001,
                        "count": 17
                      },
                      {
                        "bin_start": 90.10000000000001,
                        "bin_end": 100,
                        "count": 25
                      }
                    ]
                  }
                },
                {
                  "name": "wk16",
                  "dtype": "float64",
                  "stats": {
                    "unique_count": 78,
                    "nan_count": 135,
                    "min": "1.0",
                    "max": "100.0",
                    "histogram": [
                      {
                        "bin_start": 1,
                        "bin_end": 10.9,
                        "count": 30
                      },
                      {
                        "bin_start": 10.9,
                        "bin_end": 20.8,
                        "count": 22
                      },
                      {
                        "bin_start": 20.8,
                        "bin_end": 30.700000000000003,
                        "count": 13
                      },
                      {
                        "bin_start": 30.700000000000003,
                        "bin_end": 40.6,
                        "count": 16
                      },
                      {
                        "bin_start": 40.6,
                        "bin_end": 50.5,
                        "count": 16
                      },
                      {
                        "bin_start": 50.5,
                        "bin_end": 60.400000000000006,
                        "count": 8
                      },
                      {
                        "bin_start": 60.400000000000006,
                        "bin_end": 70.3,
                        "count": 21
                      },
                      {
                        "bin_start": 70.3,
                        "bin_end": 80.2,
                        "count": 15
                      },
                      {
                        "bin_start": 80.2,
                        "bin_end": 90.10000000000001,
                        "count": 19
                      },
                      {
                        "bin_start": 90.10000000000001,
                        "bin_end": 100,
                        "count": 22
                      }
                    ]
                  }
                },
                {
                  "name": "wk17",
                  "dtype": "float64",
                  "stats": {
                    "unique_count": 79,
                    "nan_count": 140,
                    "min": "1.0",
                    "max": "100.0",
                    "histogram": [
                      {
                        "bin_start": 1,
                        "bin_end": 10.9,
                        "count": 25
                      },
                      {
                        "bin_start": 10.9,
                        "bin_end": 20.8,
                        "count": 22
                      },
                      {
                        "bin_start": 20.8,
                        "bin_end": 30.700000000000003,
                        "count": 16
                      },
                      {
                        "bin_start": 30.700000000000003,
                        "bin_end": 40.6,
                        "count": 9
                      },
                      {
                        "bin_start": 40.6,
                        "bin_end": 50.5,
                        "count": 13
                      },
                      {
                        "bin_start": 50.5,
                        "bin_end": 60.400000000000006,
                        "count": 14
                      },
                      {
                        "bin_start": 60.400000000000006,
                        "bin_end": 70.3,
                        "count": 15
                      },
                      {
                        "bin_start": 70.3,
                        "bin_end": 80.2,
                        "count": 12
                      },
                      {
                        "bin_start": 80.2,
                        "bin_end": 90.10000000000001,
                        "count": 20
                      },
                      {
                        "bin_start": 90.10000000000001,
                        "bin_end": 100,
                        "count": 31
                      }
                    ]
                  }
                },
                {
                  "name": "wk18",
                  "dtype": "float64",
                  "stats": {
                    "unique_count": 83,
                    "nan_count": 151,
                    "min": "1.0",
                    "max": "100.0",
                    "histogram": [
                      {
                        "bin_start": 1,
                        "bin_end": 10.9,
                        "count": 23
                      },
                      {
                        "bin_start": 10.9,
                        "bin_end": 20.8,
                        "count": 22
                      },
                      {
                        "bin_start": 20.8,
                        "bin_end": 30.700000000000003,
                        "count": 14
                      },
                      {
                        "bin_start": 30.700000000000003,
                        "bin_end": 40.6,
                        "count": 9
                      },
                      {
                        "bin_start": 40.6,
                        "bin_end": 50.5,
                        "count": 11
                      },
                      {
                        "bin_start": 50.5,
                        "bin_end": 60.400000000000006,
                        "count": 10
                      },
                      {
                        "bin_start": 60.400000000000006,
                        "bin_end": 70.3,
                        "count": 15
                      },
                      {
                        "bin_start": 70.3,
                        "bin_end": 80.2,
                        "count": 10
                      },
                      {
                        "bin_start": 80.2,
                        "bin_end": 90.10000000000001,
                        "count": 26
                      },
                      {
                        "bin_start": 90.10000000000001,
                        "bin_end": 100,
                        "count": 26
                      }
                    ]
                  }
                },
                {
                  "name": "wk19",
                  "dtype": "float64",
                  "stats": {
                    "unique_count": 77,
                    "nan_count": 161,
                    "min": "1.0",
                    "max": "99.0",
                    "histogram": [
                      {
                        "bin_start": 1,
                        "bin_end": 10.8,
                        "count": 19
                      },
                      {
                        "bin_start": 10.8,
                        "bin_end": 20.6,
                        "count": 20
                      },
                      {
                        "bin_start": 20.6,
                        "bin_end": 30.400000000000002,
                        "count": 15
                      },
                      {
                        "bin_start": 30.400000000000002,
                        "bin_end": 40.2,
                        "count": 8
                      },
                      {
                        "bin_start": 40.2,
                        "bin_end": 50,
                        "count": 8
                      },
                      {
                        "bin_start": 50,
                        "bin_end": 59.800000000000004,
                        "count": 14
                      },
                      {
                        "bin_start": 59.800000000000004,
                        "bin_end": 69.60000000000001,
                        "count": 9
                      },
                      {
                        "bin_start": 69.60000000000001,
                        "bin_end": 79.4,
                        "count": 12
                      },
                      {
                        "bin_start": 79.4,
                        "bin_end": 89.2,
                        "count": 21
                      },
                      {
                        "bin_start": 89.2,
                        "bin_end": 99,
                        "count": 30
                      }
                    ]
                  }
                },
                {
                  "name": "wk20",
                  "dtype": "float64",
                  "stats": {
                    "unique_count": 73,
                    "nan_count": 171,
                    "min": "2.0",
                    "max": "100.0",
                    "histogram": [
                      {
                        "bin_start": 2,
                        "bin_end": 11.8,
                        "count": 18
                      },
                      {
                        "bin_start": 11.8,
                        "bin_end": 21.6,
                        "count": 17
                      },
                      {
                        "bin_start": 21.6,
                        "bin_end": 31.400000000000002,
                        "count": 16
                      },
                      {
                        "bin_start": 31.400000000000002,
                        "bin_end": 41.2,
                        "count": 6
                      },
                      {
                        "bin_start": 41.2,
                        "bin_end": 51,
                        "count": 9
                      },
                      {
                        "bin_start": 51,
                        "bin_end": 60.800000000000004,
                        "count": 10
                      },
                      {
                        "bin_start": 60.800000000000004,
                        "bin_end": 70.60000000000001,
                        "count": 13
                      },
                      {
                        "bin_start": 70.60000000000001,
                        "bin_end": 80.4,
                        "count": 9
                      },
                      {
                        "bin_start": 80.4,
                        "bin_end": 90.2,
                        "count": 25
                      },
                      {
                        "bin_start": 90.2,
                        "bin_end": 100,
                        "count": 23
                      }
                    ]
                  }
                },
                {
                  "name": "wk21",
                  "dtype": "float64",
                  "stats": {
                    "unique_count": 38,
                    "nan_count": 252,
                    "min": "3.0",
                    "max": "97.0",
                    "histogram": [
                      {
                        "bin_start": 3,
                        "bin_end": 12.4,
                        "count": 21
                      },
                      {
                        "bin_start": 12.4,
                        "bin_end": 21.8,
                        "count": 11
                      },
                      {
                        "bin_start": 21.8,
                        "bin_end": 31.200000000000003,
                        "count": 12
                      },
                      {
                        "bin_start": 31.200000000000003,
                        "bin_end": 40.6,
                        "count": 7
                      },
                      {
                        "bin_start": 40.6,
                        "bin_end": 50,
                        "count": 10
                      },
                      {
                        "bin_start": 50,
                        "bin_end": 59.400000000000006,
                        "count": 1
                      },
                      {
                        "bin_start": 59.400000000000006,
                        "bin_end": 68.8,
                        "count": 0
                      },
                      {
                        "bin_start": 68.8,
                        "bin_end": 78.2,
                        "count": 0
                      },
                      {
                        "bin_start": 78.2,
                        "bin_end": 87.60000000000001,
                        "count": 0
                      },
                      {
                        "bin_start": 87.60000000000001,
                        "bin_end": 97,
                        "count": 3
                      }
                    ]
                  }
                },
                {
                  "name": "wk22",
                  "dtype": "float64",
                  "stats": {
                    "unique_count": 37,
                    "nan_count": 262,
                    "min": "3.0",
                    "max": "100.0",
                    "histogram": [
                      {
                        "bin_start": 3,
                        "bin_end": 12.7,
                        "count": 19
                      },
                      {
                        "bin_start": 12.7,
                        "bin_end": 22.4,
                        "count": 10
                      },
                      {
                        "bin_start": 22.4,
                        "bin_end": 32.099999999999994,
                        "count": 9
                      },
                      {
                        "bin_start": 32.099999999999994,
                        "bin_end": 41.8,
                        "count": 9
                      },
                      {
                        "bin_start": 41.8,
                        "bin_end": 51.5,
                        "count": 5
                      },
                      {
                        "bin_start": 51.5,
                        "bin_end": 61.199999999999996,
                        "count": 0
                      },
                      {
                        "bin_start": 61.199999999999996,
                        "bin_end": 70.89999999999999,
                        "count": 0
                      },
                      {
                        "bin_start": 70.89999999999999,
                        "bin_end": 80.6,
                        "count": 1
                      },
                      {
                        "bin_start": 80.6,
                        "bin_end": 90.3,
                        "count": 0
                      },
                      {
                        "bin_start": 90.3,
                        "bin_end": 100,
                        "count": 2
                      }
                    ]
                  }
                },
                {
                  "name": "wk23",
                  "dtype": "float64",
                  "stats": {
                    "unique_count": 32,
                    "nan_count": 269,
                    "min": "3.0",
                    "max": "91.0",
                    "histogram": [
                      {
                        "bin_start": 3,
                        "bin_end": 11.8,
                        "count": 16
                      },
                      {
                        "bin_start": 11.8,
                        "bin_end": 20.6,
                        "count": 8
                      },
                      {
                        "bin_start": 20.6,
                        "bin_end": 29.400000000000002,
                        "count": 8
                      },
                      {
                        "bin_start": 29.400000000000002,
                        "bin_end": 38.2,
                        "count": 7
                      },
                      {
                        "bin_start": 38.2,
                        "bin_end": 47,
                        "count": 7
                      },
                      {
                        "bin_start": 47,
                        "bin_end": 55.800000000000004,
                        "count": 0
                      },
                      {
                        "bin_start": 55.800000000000004,
                        "bin_end": 64.60000000000001,
                        "count": 0
                      },
                      {
                        "bin_start": 64.60000000000001,
                        "bin_end": 73.4,
                        "count": 0
                      },
                      {
                        "bin_start": 73.4,
                        "bin_end": 82.2,
                        "count": 1
                      },
                      {
                        "bin_start": 82.2,
                        "bin_end": 91,
                        "count": 1
                      }
                    ]
                  }
                },
                {
                  "name": "wk24",
                  "dtype": "float64",
                  "stats": {
                    "unique_count": 32,
                    "nan_count": 271,
                    "min": "3.0",
                    "max": "91.0",
                    "histogram": [
                      {
                        "bin_start": 3,
                        "bin_end": 11.8,
                        "count": 10
                      },
                      {
                        "bin_start": 11.8,
                        "bin_end": 20.6,
                        "count": 12
                      },
                      {
                        "bin_start": 20.6,
                        "bin_end": 29.400000000000002,
                        "count": 4
                      },
                      {
                        "bin_start": 29.400000000000002,
                        "bin_end": 38.2,
                        "count": 7
                      },
                      {
                        "bin_start": 38.2,
                        "bin_end": 47,
                        "count": 7
                      },
                      {
                        "bin_start": 47,
                        "bin_end": 55.800000000000004,
                        "count": 4
                      },
                      {
                        "bin_start": 55.800000000000004,
                        "bin_end": 64.60000000000001,
                        "count": 0
                      },
                      {
                        "bin_start": 64.60000000000001,
                        "bin_end": 73.4,
                        "count": 1
                      },
                      {
                        "bin_start": 73.4,
                        "bin_end": 82.2,
                        "count": 0
                      },
                      {
                        "bin_start": 82.2,
                        "bin_end": 91,
                        "count": 1
                      }
                    ]
                  }
                },
                {
                  "name": "wk25",
                  "dtype": "float64",
                  "stats": {
                    "unique_count": 27,
                    "nan_count": 279,
                    "min": "2.0",
                    "max": "90.0",
                    "histogram": [
                      {
                        "bin_start": 2,
                        "bin_end": 10.8,
                        "count": 7
                      },
                      {
                        "bin_start": 10.8,
                        "bin_end": 19.6,
                        "count": 9
                      },
                      {
                        "bin_start": 19.6,
                        "bin_end": 28.400000000000002,
                        "count": 8
                      },
                      {
                        "bin_start": 28.400000000000002,
                        "bin_end": 37.2,
                        "count": 4
                      },
                      {
                        "bin_start": 37.2,
                        "bin_end": 46,
                        "count": 5
                      },
                      {
                        "bin_start": 46,
                        "bin_end": 54.800000000000004,
                        "count": 3
                      },
                      {
                        "bin_start": 54.800000000000004,
                        "bin_end": 63.60000000000001,
                        "count": 0
                      },
                      {
                        "bin_start": 63.60000000000001,
                        "bin_end": 72.4,
                        "count": 1
                      },
                      {
                        "bin_start": 72.4,
                        "bin_end": 81.2,
                        "count": 0
                      },
                      {
                        "bin_start": 81.2,
                        "bin_end": 90,
                        "count": 1
                      }
                    ]
                  }
                },
                {
                  "name": "wk26",
                  "dtype": "float64",
                  "stats": {
                    "unique_count": 32,
                    "nan_count": 281,
                    "min": "1.0",
                    "max": "89.0",
                    "histogram": [
                      {
                        "bin_start": 1,
                        "bin_end": 9.8,
                        "count": 6
                      },
                      {
                        "bin_start": 9.8,
                        "bin_end": 18.6,
                        "count": 8
                      },
                      {
                        "bin_start": 18.6,
                        "bin_end": 27.400000000000002,
                        "count": 5
                      },
                      {
                        "bin_start": 27.400000000000002,
                        "bin_end": 36.2,
                        "count": 5
                      },
                      {
                        "bin_start": 36.2,
                        "bin_end": 45,
                        "count": 4
                      },
                      {
                        "bin_start": 45,
                        "bin_end": 53.800000000000004,
                        "count": 6
                      },
                      {
                        "bin_start": 53.800000000000004,
                        "bin_end": 62.60000000000001,
                        "count": 1
                      },
                      {
                        "bin_start": 62.60000000000001,
                        "bin_end": 71.4,
                        "count": 0
                      },
                      {
                        "bin_start": 71.4,
                        "bin_end": 80.2,
                        "count": 0
                      },
                      {
                        "bin_start": 80.2,
                        "bin_end": 89,
                        "count": 1
                      }
                    ]
                  }
                },
                {
                  "name": "wk27",
                  "dtype": "float64",
                  "stats": {
                    "unique_count": 25,
                    "nan_count": 288,
                    "min": "1.0",
                    "max": "86.0",
                    "histogram": [
                      {
                        "bin_start": 1,
                        "bin_end": 9.5,
                        "count": 5
                      },
                      {
                        "bin_start": 9.5,
                        "bin_end": 18,
                        "count": 5
                      },
                      {
                        "bin_start": 18,
                        "bin_end": 26.5,
                        "count": 6
                      },
                      {
                        "bin_start": 26.5,
                        "bin_end": 35,
                        "count": 3
                      },
                      {
                        "bin_start": 35,
                        "bin_end": 43.5,
                        "count": 4
                      },
                      {
                        "bin_start": 43.5,
                        "bin_end": 52,
                        "count": 4
                      },
                      {
                        "bin_start": 52,
                        "bin_end": 60.5,
                        "count": 1
                      },
                      {
                        "bin_start": 60.5,
                        "bin_end": 69,
                        "count": 0
                      },
                      {
                        "bin_start": 69,
                        "bin_end": 77.5,
                        "count": 0
                      },
                      {
                        "bin_start": 77.5,
                        "bin_end": 86,
                        "count": 1
                      }
                    ]
                  }
                },
                {
                  "name": "wk28",
                  "dtype": "float64",
                  "stats": {
                    "unique_count": 19,
                    "nan_count": 293,
                    "min": "2.0",
                    "max": "58.0",
                    "histogram": [
                      {
                        "bin_start": 2,
                        "bin_end": 7.6,
                        "count": 5
                      },
                      {
                        "bin_start": 7.6,
                        "bin_end": 13.2,
                        "count": 1
                      },
                      {
                        "bin_start": 13.2,
                        "bin_end": 18.799999999999997,
                        "count": 3
                      },
                      {
                        "bin_start": 18.799999999999997,
                        "bin_end": 24.4,
                        "count": 5
                      },
                      {
                        "bin_start": 24.4,
                        "bin_end": 30,
                        "count": 1
                      },
                      {
                        "bin_start": 30,
                        "bin_end": 35.599999999999994,
                        "count": 2
                      },
                      {
                        "bin_start": 35.599999999999994,
                        "bin_end": 41.199999999999996,
                        "count": 2
                      },
                      {
                        "bin_start": 41.199999999999996,
                        "bin_end": 46.8,
                        "count": 3
                      },
                      {
                        "bin_start": 46.8,
                        "bin_end": 52.4,
                        "count": 1
                      },
                      {
                        "bin_start": 52.4,
                        "bin_end": 58,
                        "count": 1
                      }
                    ]
                  }
                },
                {
                  "name": "wk29",
                  "dtype": "float64",
                  "stats": {
                    "unique_count": 16,
                    "nan_count": 297,
                    "min": "2.0",
                    "max": "49.0",
                    "histogram": [
                      {
                        "bin_start": 2,
                        "bin_end": 6.7,
                        "count": 5
                      },
                      {
                        "bin_start": 6.7,
                        "bin_end": 11.4,
                        "count": 0
                      },
                      {
                        "bin_start": 11.4,
                        "bin_end": 16.1,
                        "count": 0
                      },
                      {
                        "bin_start": 16.1,
                        "bin_end": 20.8,
                        "count": 4
                      },
                      {
                        "bin_start": 20.8,
                        "bin_end": 25.5,
                        "count": 3
                      },
                      {
                        "bin_start": 25.5,
                        "bin_end": 30.200000000000003,
                        "count": 1
                      },
                      {
                        "bin_start": 30.200000000000003,
                        "bin_end": 34.9,
                        "count": 1
                      },
                      {
                        "bin_start": 34.9,
                        "bin_end": 39.6,
                        "count": 2
                      },
                      {
                        "bin_start": 39.6,
                        "bin_end": 44.300000000000004,
                        "count": 3
                      },
                      {
                        "bin_start": 44.300000000000004,
                        "bin_end": 49,
                        "count": 1
                      }
                    ]
                  }
                },
                {
                  "name": "wk30",
                  "dtype": "float64",
                  "stats": {
                    "unique_count": 16,
                    "nan_count": 297,
                    "min": "2.0",
                    "max": "45.0",
                    "histogram": [
                      {
                        "bin_start": 2,
                        "bin_end": 6.3,
                        "count": 4
                      },
                      {
                        "bin_start": 6.3,
                        "bin_end": 10.6,
                        "count": 1
                      },
                      {
                        "bin_start": 10.6,
                        "bin_end": 14.899999999999999,
                        "count": 0
                      },
                      {
                        "bin_start": 14.899999999999999,
                        "bin_end": 19.2,
                        "count": 1
                      },
                      {
                        "bin_start": 19.2,
                        "bin_end": 23.5,
                        "count": 2
                      },
                      {
                        "bin_start": 23.5,
                        "bin_end": 27.799999999999997,
                        "count": 1
                      },
                      {
                        "bin_start": 27.799999999999997,
                        "bin_end": 32.099999999999994,
                        "count": 1
                      },
                      {
                        "bin_start": 32.099999999999994,
                        "bin_end": 36.4,
                        "count": 4
                      },
                      {
                        "bin_start": 36.4,
                        "bin_end": 40.699999999999996,
                        "count": 1
                      },
                      {
                        "bin_start": 40.699999999999996,
                        "bin_end": 45,
                        "count": 5
                      }
                    ]
                  }
                },
                {
                  "name": "wk31",
                  "dtype": "float64",
                  "stats": {
                    "unique_count": 18,
                    "nan_count": 298,
                    "min": "3.0",
                    "max": "49.0",
                    "histogram": [
                      {
                        "bin_start": 3,
                        "bin_end": 7.6,
                        "count": 4
                      },
                      {
                        "bin_start": 7.6,
                        "bin_end": 12.2,
                        "count": 1
                      },
                      {
                        "bin_start": 12.2,
                        "bin_end": 16.799999999999997,
                        "count": 0
                      },
                      {
                        "bin_start": 16.799999999999997,
                        "bin_end": 21.4,
                        "count": 0
                      },
                      {
                        "bin_start": 21.4,
                        "bin_end": 26,
                        "count": 1
                      },
                      {
                        "bin_start": 26,
                        "bin_end": 30.599999999999998,
                        "count": 2
                      },
                      {
                        "bin_start": 30.599999999999998,
                        "bin_end": 35.199999999999996,
                        "count": 3
                      },
                      {
                        "bin_start": 35.199999999999996,
                        "bin_end": 39.8,
                        "count": 2
                      },
                      {
                        "bin_start": 39.8,
                        "bin_end": 44.4,
                        "count": 3
                      },
                      {
                        "bin_start": 44.4,
                        "bin_end": 49,
                        "count": 3
                      }
                    ]
                  }
                },
                {
                  "name": "wk32",
                  "dtype": "float64",
                  "stats": {
                    "unique_count": 14,
                    "nan_count": 299,
                    "min": "3.0",
                    "max": "47.0",
                    "histogram": [
                      {
                        "bin_start": 3,
                        "bin_end": 7.4,
                        "count": 4
                      },
                      {
                        "bin_start": 7.4,
                        "bin_end": 11.8,
                        "count": 1
                      },
                      {
                        "bin_start": 11.8,
                        "bin_end": 16.200000000000003,
                        "count": 0
                      },
                      {
                        "bin_start": 16.200000000000003,
                        "bin_end": 20.6,
                        "count": 0
                      },
                      {
                        "bin_start": 20.6,
                        "bin_end": 25,
                        "count": 0
                      },
                      {
                        "bin_start": 25,
                        "bin_end": 29.400000000000002,
                        "count": 3
                      },
                      {
                        "bin_start": 29.400000000000002,
                        "bin_end": 33.800000000000004,
                        "count": 0
                      },
                      {
                        "bin_start": 33.800000000000004,
                        "bin_end": 38.2,
                        "count": 1
                      },
                      {
                        "bin_start": 38.2,
                        "bin_end": 42.6,
                        "count": 2
                      },
                      {
                        "bin_start": 42.6,
                        "bin_end": 47,
                        "count": 7
                      }
                    ]
                  }
                },
                {
                  "name": "wk33",
                  "dtype": "float64",
                  "stats": {
                    "unique_count": 12,
                    "nan_count": 305,
                    "min": "2.0",
                    "max": "50.0",
                    "histogram": [
                      {
                        "bin_start": 2,
                        "bin_end": 6.8,
                        "count": 4
                      },
                      {
                        "bin_start": 6.8,
                        "bin_end": 11.6,
                        "count": 0
                      },
                      {
                        "bin_start": 11.6,
                        "bin_end": 16.4,
                        "count": 0
                      },
                      {
                        "bin_start": 16.4,
                        "bin_end": 21.2,
                        "count": 1
                      },
                      {
                        "bin_start": 21.2,
                        "bin_end": 26,
                        "count": 2
                      },
                      {
                        "bin_start": 26,
                        "bin_end": 30.799999999999997,
                        "count": 1
                      },
                      {
                        "bin_start": 30.799999999999997,
                        "bin_end": 35.6,
                        "count": 0
                      },
                      {
                        "bin_start": 35.6,
                        "bin_end": 40.4,
                        "count": 2
                      },
                      {
                        "bin_start": 40.4,
                        "bin_end": 45.199999999999996,
                        "count": 0
                      },
                      {
                        "bin_start": 45.199999999999996,
                        "bin_end": 50,
                        "count": 2
                      }
                    ]
                  }
                },
                {
                  "name": "wk34",
                  "dtype": "float64",
                  "stats": {
                    "unique_count": 9,
                    "nan_count": 307,
                    "min": "3.0",
                    "max": "49.0",
                    "histogram": [
                      {
                        "bin_start": 3,
                        "bin_end": 7.6,
                        "count": 3
                      },
                      {
                        "bin_start": 7.6,
                        "bin_end": 12.2,
                        "count": 1
                      },
                      {
                        "bin_start": 12.2,
                        "bin_end": 16.799999999999997,
                        "count": 0
                      },
                      {
                        "bin_start": 16.799999999999997,
                        "bin_end": 21.4,
                        "count": 2
                      },
                      {
                        "bin_start": 21.4,
                        "bin_end": 26,
                        "count": 1
                      },
                      {
                        "bin_start": 26,
                        "bin_end": 30.599999999999998,
                        "count": 1
                      },
                      {
                        "bin_start": 30.599999999999998,
                        "bin_end": 35.199999999999996,
                        "count": 1
                      },
                      {
                        "bin_start": 35.199999999999996,
                        "bin_end": 39.8,
                        "count": 0
                      },
                      {
                        "bin_start": 39.8,
                        "bin_end": 44.4,
                        "count": 0
                      },
                      {
                        "bin_start": 44.4,
                        "bin_end": 49,
                        "count": 1
                      }
                    ]
                  }
                },
                {
                  "name": "wk35",
                  "dtype": "float64",
                  "stats": {
                    "unique_count": 8,
                    "nan_count": 308,
                    "min": "4.0",
                    "max": "34.0",
                    "histogram": [
                      {
                        "bin_start": 4,
                        "bin_end": 7,
                        "count": 3
                      },
                      {
                        "bin_start": 7,
                        "bin_end": 10,
                        "count": 1
                      },
                      {
                        "bin_start": 10,
                        "bin_end": 13,
                        "count": 0
                      },
                      {
                        "bin_start": 13,
                        "bin_end": 16,
                        "count": 1
                      },
                      {
                        "bin_start": 16,
                        "bin_end": 19,
                        "count": 0
                      },
                      {
                        "bin_start": 19,
                        "bin_end": 22,
                        "count": 0
                      },
                      {
                        "bin_start": 22,
                        "bin_end": 25,
                        "count": 1
                      },
                      {
                        "bin_start": 25,
                        "bin_end": 28,
                        "count": 1
                      },
                      {
                        "bin_start": 28,
                        "bin_end": 31,
                        "count": 0
                      },
                      {
                        "bin_start": 31,
                        "bin_end": 34,
                        "count": 2
                      }
                    ]
                  }
                },
                {
                  "name": "wk36",
                  "dtype": "float64",
                  "stats": {
                    "unique_count": 8,
                    "nan_count": 308,
                    "min": "5.0",
                    "max": "41.0",
                    "histogram": [
                      {
                        "bin_start": 5,
                        "bin_end": 8.6,
                        "count": 3
                      },
                      {
                        "bin_start": 8.6,
                        "bin_end": 12.2,
                        "count": 1
                      },
                      {
                        "bin_start": 12.2,
                        "bin_end": 15.8,
                        "count": 0
                      },
                      {
                        "bin_start": 15.8,
                        "bin_end": 19.4,
                        "count": 2
                      },
                      {
                        "bin_start": 19.4,
                        "bin_end": 23,
                        "count": 0
                      },
                      {
                        "bin_start": 23,
                        "bin_end": 26.6,
                        "count": 0
                      },
                      {
                        "bin_start": 26.6,
                        "bin_end": 30.2,
                        "count": 1
                      },
                      {
                        "bin_start": 30.2,
                        "bin_end": 33.8,
                        "count": 0
                      },
                      {
                        "bin_start": 33.8,
                        "bin_end": 37.4,
                        "count": 1
                      },
                      {
                        "bin_start": 37.4,
                        "bin_end": 41,
                        "count": 1
                      }
                    ]
                  }
                },
                {
                  "name": "wk37",
                  "dtype": "float64",
                  "stats": {
                    "unique_count": 8,
                    "nan_count": 308,
                    "min": "5.0",
                    "max": "48.0",
                    "histogram": [
                      {
                        "bin_start": 5,
                        "bin_end": 9.3,
                        "count": 3
                      },
                      {
                        "bin_start": 9.3,
                        "bin_end": 13.6,
                        "count": 1
                      },
                      {
                        "bin_start": 13.6,
                        "bin_end": 17.9,
                        "count": 1
                      },
                      {
                        "bin_start": 17.9,
                        "bin_end": 22.2,
                        "count": 1
                      },
                      {
                        "bin_start": 22.2,
                        "bin_end": 26.5,
                        "count": 0
                      },
                      {
                        "bin_start": 26.5,
                        "bin_end": 30.799999999999997,
                        "count": 0
                      },
                      {
                        "bin_start": 30.799999999999997,
                        "bin_end": 35.099999999999994,
                        "count": 0
                      },
                      {
                        "bin_start": 35.099999999999994,
                        "bin_end": 39.4,
                        "count": 2
                      },
                      {
                        "bin_start": 39.4,
                        "bin_end": 43.699999999999996,
                        "count": 0
                      },
                      {
                        "bin_start": 43.699999999999996,
                        "bin_end": 48,
                        "count": 1
                      }
                    ]
                  }
                },
                {
                  "name": "wk38",
                  "dtype": "float64",
                  "stats": {
                    "unique_count": 5,
                    "nan_count": 309,
                    "min": "9.0",
                    "max": "40.0",
                    "histogram": [
                      {
                        "bin_start": 9,
                        "bin_end": 12.1,
                        "count": 3
                      },
                      {
                        "bin_start": 12.1,
                        "bin_end": 15.2,
                        "count": 1
                      },
                      {
                        "bin_start": 15.2,
                        "bin_end": 18.3,
                        "count": 2
                      },
                      {
                        "bin_start": 18.3,
                        "bin_end": 21.4,
                        "count": 0
                      },
                      {
                        "bin_start": 21.4,
                        "bin_end": 24.5,
                        "count": 0
                      },
                      {
                        "bin_start": 24.5,
                        "bin_end": 27.6,
                        "count": 0
                      },
                      {
                        "bin_start": 27.6,
                        "bin_end": 30.7,
                        "count": 0
                      },
                      {
                        "bin_start": 30.7,
                        "bin_end": 33.8,
                        "count": 0
                      },
                      {
                        "bin_start": 33.8,
                        "bin_end": 36.900000000000006,
                        "count": 0
                      },
                      {
                        "bin_start": 36.900000000000006,
                        "bin_end": 40,
                        "count": 2
                      }
                    ]
                  }
                },
                {
                  "name": "wk39",
                  "dtype": "float64",
                  "stats": {
                    "unique_count": 8,
                    "nan_count": 309,
                    "min": "3.0",
                    "max": "50.0",
                    "histogram": [
                      {
                        "bin_start": 3,
                        "bin_end": 7.7,
                        "count": 1
                      },
                      {
                        "bin_start": 7.7,
                        "bin_end": 12.4,
                        "count": 3
                      },
                      {
                        "bin_start": 12.4,
                        "bin_end": 17.1,
                        "count": 1
                      },
                      {
                        "bin_start": 17.1,
                        "bin_end": 21.8,
                        "count": 1
                      },
                      {
                        "bin_start": 21.8,
                        "bin_end": 26.5,
                        "count": 0
                      },
                      {
                        "bin_start": 26.5,
                        "bin_end": 31.200000000000003,
                        "count": 0
                      },
                      {
                        "bin_start": 31.200000000000003,
                        "bin_end": 35.9,
                        "count": 0
                      },
                      {
                        "bin_start": 35.9,
                        "bin_end": 40.6,
                        "count": 0
                      },
                      {
                        "bin_start": 40.6,
                        "bin_end": 45.300000000000004,
                        "count": 0
                      },
                      {
                        "bin_start": 45.300000000000004,
                        "bin_end": 50,
                        "count": 2
                      }
                    ]
                  }
                },
                {
                  "name": "wk40",
                  "dtype": "float64",
                  "stats": {
                    "unique_count": 6,
                    "nan_count": 310,
                    "min": "1.0",
                    "max": "47.0",
                    "histogram": [
                      {
                        "bin_start": 1,
                        "bin_end": 5.6,
                        "count": 1
                      },
                      {
                        "bin_start": 5.6,
                        "bin_end": 10.2,
                        "count": 0
                      },
                      {
                        "bin_start": 10.2,
                        "bin_end": 14.799999999999999,
                        "count": 3
                      },
                      {
                        "bin_start": 14.799999999999999,
                        "bin_end": 19.4,
                        "count": 1
                      },
                      {
                        "bin_start": 19.4,
                        "bin_end": 24,
                        "count": 1
                      },
                      {
                        "bin_start": 24,
                        "bin_end": 28.599999999999998,
                        "count": 0
                      },
                      {
                        "bin_start": 28.599999999999998,
                        "bin_end": 33.199999999999996,
                        "count": 0
                      },
                      {
                        "bin_start": 33.199999999999996,
                        "bin_end": 37.8,
                        "count": 0
                      },
                      {
                        "bin_start": 37.8,
                        "bin_end": 42.4,
                        "count": 0
                      },
                      {
                        "bin_start": 42.4,
                        "bin_end": 47,
                        "count": 1
                      }
                    ]
                  }
                },
                {
                  "name": "wk41",
                  "dtype": "float64",
                  "stats": {
                    "unique_count": 6,
                    "nan_count": 310,
                    "min": "1.0",
                    "max": "50.0",
                    "histogram": [
                      {
                        "bin_start": 1,
                        "bin_end": 5.9,
                        "count": 1
                      },
                      {
                        "bin_start": 5.9,
                        "bin_end": 10.8,
                        "count": 0
                      },
                      {
                        "bin_start": 10.8,
                        "bin_end": 15.700000000000001,
                        "count": 3
                      },
                      {
                        "bin_start": 15.700000000000001,
                        "bin_end": 20.6,
                        "count": 1
                      },
                      {
                        "bin_start": 20.6,
                        "bin_end": 25.5,
                        "count": 1
                      },
                      {
                        "bin_start": 25.5,
                        "bin_end": 30.400000000000002,
                        "count": 0
                      },
                      {
                        "bin_start": 30.400000000000002,
                        "bin_end": 35.300000000000004,
                        "count": 0
                      },
                      {
                        "bin_start": 35.300000000000004,
                        "bin_end": 40.2,
                        "count": 0
                      },
                      {
                        "bin_start": 40.2,
                        "bin_end": 45.1,
                        "count": 0
                      },
                      {
                        "bin_start": 45.1,
                        "bin_end": 50,
                        "count": 1
                      }
                    ]
                  }
                },
                {
                  "name": "wk42",
                  "dtype": "float64",
                  "stats": {
                    "unique_count": 6,
                    "nan_count": 311,
                    "min": "2.0",
                    "max": "22.0",
                    "histogram": [
                      {
                        "bin_start": 2,
                        "bin_end": 4,
                        "count": 1
                      },
                      {
                        "bin_start": 4,
                        "bin_end": 6,
                        "count": 0
                      },
                      {
                        "bin_start": 6,
                        "bin_end": 8,
                        "count": 0
                      },
                      {
                        "bin_start": 8,
                        "bin_end": 10,
                        "count": 0
                      },
                      {
                        "bin_start": 10,
                        "bin_end": 12,
                        "count": 1
                      },
                      {
                        "bin_start": 12,
                        "bin_end": 14,
                        "count": 1
                      },
                      {
                        "bin_start": 14,
                        "bin_end": 16,
                        "count": 0
                      },
                      {
                        "bin_start": 16,
                        "bin_end": 18,
                        "count": 1
                      },
                      {
                        "bin_start": 18,
                        "bin_end": 20,
                        "count": 0
                      },
                      {
                        "bin_start": 20,
                        "bin_end": 22,
                        "count": 2
                      }
                    ]
                  }
                },
                {
                  "name": "wk43",
                  "dtype": "float64",
                  "stats": {
                    "unique_count": 6,
                    "nan_count": 311,
                    "min": "3.0",
                    "max": "32.0",
                    "histogram": [
                      {
                        "bin_start": 3,
                        "bin_end": 5.9,
                        "count": 1
                      },
                      {
                        "bin_start": 5.9,
                        "bin_end": 8.8,
                        "count": 0
                      },
                      {
                        "bin_start": 8.8,
                        "bin_end": 11.7,
                        "count": 1
                      },
                      {
                        "bin_start": 11.7,
                        "bin_end": 14.6,
                        "count": 1
                      },
                      {
                        "bin_start": 14.6,
                        "bin_end": 17.5,
                        "count": 0
                      },
                      {
                        "bin_start": 17.5,
                        "bin_end": 20.4,
                        "count": 0
                      },
                      {
                        "bin_start": 20.4,
                        "bin_end": 23.3,
                        "count": 1
                      },
                      {
                        "bin_start": 23.3,
                        "bin_end": 26.2,
                        "count": 1
                      },
                      {
                        "bin_start": 26.2,
                        "bin_end": 29.099999999999998,
                        "count": 0
                      },
                      {
                        "bin_start": 29.099999999999998,
                        "bin_end": 32,
                        "count": 1
                      }
                    ]
                  }
                },
                {
                  "name": "wk44",
                  "dtype": "float64",
                  "stats": {
                    "unique_count": 6,
                    "nan_count": 311,
                    "min": "4.0",
                    "max": "45.0",
                    "histogram": [
                      {
                        "bin_start": 4,
                        "bin_end": 8.1,
                        "count": 1
                      },
                      {
                        "bin_start": 8.1,
                        "bin_end": 12.2,
                        "count": 1
                      },
                      {
                        "bin_start": 12.2,
                        "bin_end": 16.299999999999997,
                        "count": 1
                      },
                      {
                        "bin_start": 16.299999999999997,
                        "bin_end": 20.4,
                        "count": 0
                      },
                      {
                        "bin_start": 20.4,
                        "bin_end": 24.5,
                        "count": 0
                      },
                      {
                        "bin_start": 24.5,
                        "bin_end": 28.599999999999998,
                        "count": 1
                      },
                      {
                        "bin_start": 28.599999999999998,
                        "bin_end": 32.699999999999996,
                        "count": 1
                      },
                      {
                        "bin_start": 32.699999999999996,
                        "bin_end": 36.8,
                        "count": 0
                      },
                      {
                        "bin_start": 36.8,
                        "bin_end": 40.9,
                        "count": 0
                      },
                      {
                        "bin_start": 40.9,
                        "bin_end": 45,
                        "count": 1
                      }
                    ]
                  }
                },
                {
                  "name": "wk45",
                  "dtype": "float64",
                  "stats": {
                    "unique_count": 5,
                    "nan_count": 312,
                    "min": "4.0",
                    "max": "31.0",
                    "histogram": [
                      {
                        "bin_start": 4,
                        "bin_end": 6.7,
                        "count": 1
                      },
                      {
                        "bin_start": 6.7,
                        "bin_end": 9.4,
                        "count": 1
                      },
                      {
                        "bin_start": 9.4,
                        "bin_end": 12.100000000000001,
                        "count": 0
                      },
                      {
                        "bin_start": 12.100000000000001,
                        "bin_end": 14.8,
                        "count": 0
                      },
                      {
                        "bin_start": 14.8,
                        "bin_end": 17.5,
                        "count": 1
                      },
                      {
                        "bin_start": 17.5,
                        "bin_end": 20.200000000000003,
                        "count": 0
                      },
                      {
                        "bin_start": 20.200000000000003,
                        "bin_end": 22.900000000000002,
                        "count": 0
                      },
                      {
                        "bin_start": 22.900000000000002,
                        "bin_end": 25.6,
                        "count": 0
                      },
                      {
                        "bin_start": 25.6,
                        "bin_end": 28.3,
                        "count": 1
                      },
                      {
                        "bin_start": 28.3,
                        "bin_end": 31,
                        "count": 1
                      }
                    ]
                  }
                },
                {
                  "name": "wk46",
                  "dtype": "float64",
                  "stats": {
                    "unique_count": 5,
                    "nan_count": 312,
                    "min": "5.0",
                    "max": "37.0",
                    "histogram": [
                      {
                        "bin_start": 5,
                        "bin_end": 8.2,
                        "count": 2
                      },
                      {
                        "bin_start": 8.2,
                        "bin_end": 11.4,
                        "count": 0
                      },
                      {
                        "bin_start": 11.4,
                        "bin_end": 14.600000000000001,
                        "count": 0
                      },
                      {
                        "bin_start": 14.600000000000001,
                        "bin_end": 17.8,
                        "count": 0
                      },
                      {
                        "bin_start": 17.8,
                        "bin_end": 21,
                        "count": 0
                      },
                      {
                        "bin_start": 21,
                        "bin_end": 24.200000000000003,
                        "count": 1
                      },
                      {
                        "bin_start": 24.200000000000003,
                        "bin_end": 27.400000000000002,
                        "count": 0
                      },
                      {
                        "bin_start": 27.400000000000002,
                        "bin_end": 30.6,
                        "count": 0
                      },
                      {
                        "bin_start": 30.6,
                        "bin_end": 33.8,
                        "count": 1
                      },
                      {
                        "bin_start": 33.8,
                        "bin_end": 37,
                        "count": 1
                      }
                    ]
                  }
                },
                {
                  "name": "wk47",
                  "dtype": "float64",
                  "stats": {
                    "unique_count": 5,
                    "nan_count": 312,
                    "min": "6.0",
                    "max": "41.0",
                    "histogram": [
                      {
                        "bin_start": 6,
                        "bin_end": 9.5,
                        "count": 2
                      },
                      {
                        "bin_start": 9.5,
                        "bin_end": 13,
                        "count": 0
                      },
                      {
                        "bin_start": 13,
                        "bin_end": 16.5,
                        "count": 0
                      },
                      {
                        "bin_start": 16.5,
                        "bin_end": 20,
                        "count": 0
                      },
                      {
                        "bin_start": 20,
                        "bin_end": 23.5,
                        "count": 1
                      },
                      {
                        "bin_start": 23.5,
                        "bin_end": 27,
                        "count": 0
                      },
                      {
                        "bin_start": 27,
                        "bin_end": 30.5,
                        "count": 0
                      },
                      {
                        "bin_start": 30.5,
                        "bin_end": 34,
                        "count": 0
                      },
                      {
                        "bin_start": 34,
                        "bin_end": 37.5,
                        "count": 0
                      },
                      {
                        "bin_start": 37.5,
                        "bin_end": 41,
                        "count": 2
                      }
                    ]
                  }
                },
                {
                  "name": "wk48",
                  "dtype": "float64",
                  "stats": {
                    "unique_count": 4,
                    "nan_count": 313,
                    "min": "8.0",
                    "max": "39.0",
                    "histogram": [
                      {
                        "bin_start": 8,
                        "bin_end": 11.1,
                        "count": 2
                      },
                      {
                        "bin_start": 11.1,
                        "bin_end": 14.2,
                        "count": 0
                      },
                      {
                        "bin_start": 14.2,
                        "bin_end": 17.3,
                        "count": 0
                      },
                      {
                        "bin_start": 17.3,
                        "bin_end": 20.4,
                        "count": 0
                      },
                      {
                        "bin_start": 20.4,
                        "bin_end": 23.5,
                        "count": 0
                      },
                      {
                        "bin_start": 23.5,
                        "bin_end": 26.6,
                        "count": 1
                      },
                      {
                        "bin_start": 26.6,
                        "bin_end": 29.7,
                        "count": 0
                      },
                      {
                        "bin_start": 29.7,
                        "bin_end": 32.8,
                        "count": 0
                      },
                      {
                        "bin_start": 32.8,
                        "bin_end": 35.900000000000006,
                        "count": 0
                      },
                      {
                        "bin_start": 35.900000000000006,
                        "bin_end": 39,
                        "count": 1
                      }
                    ]
                  }
                },
                {
                  "name": "wk49",
                  "dtype": "float64",
                  "stats": {
                    "unique_count": 3,
                    "nan_count": 313,
                    "min": "9.0",
                    "max": "42.0",
                    "histogram": [
                      {
                        "bin_start": 9,
                        "bin_end": 12.3,
                        "count": 2
                      },
                      {
                        "bin_start": 12.3,
                        "bin_end": 15.6,
                        "count": 0
                      },
                      {
                        "bin_start": 15.6,
                        "bin_end": 18.9,
                        "count": 0
                      },
                      {
                        "bin_start": 18.9,
                        "bin_end": 22.2,
                        "count": 0
                      },
                      {
                        "bin_start": 22.2,
                        "bin_end": 25.5,
                        "count": 0
                      },
                      {
                        "bin_start": 25.5,
                        "bin_end": 28.799999999999997,
                        "count": 1
                      },
                      {
                        "bin_start": 28.799999999999997,
                        "bin_end": 32.099999999999994,
                        "count": 0
                      },
                      {
                        "bin_start": 32.099999999999994,
                        "bin_end": 35.4,
                        "count": 0
                      },
                      {
                        "bin_start": 35.4,
                        "bin_end": 38.7,
                        "count": 0
                      },
                      {
                        "bin_start": 38.7,
                        "bin_end": 42,
                        "count": 1
                      }
                    ]
                  }
                },
                {
                  "name": "wk50",
                  "dtype": "float64",
                  "stats": {
                    "unique_count": 4,
                    "nan_count": 313,
                    "min": "10.0",
                    "max": "49.0",
                    "histogram": [
                      {
                        "bin_start": 10,
                        "bin_end": 13.9,
                        "count": 2
                      },
                      {
                        "bin_start": 13.9,
                        "bin_end": 17.8,
                        "count": 0
                      },
                      {
                        "bin_start": 17.8,
                        "bin_end": 21.7,
                        "count": 0
                      },
                      {
                        "bin_start": 21.7,
                        "bin_end": 25.6,
                        "count": 0
                      },
                      {
                        "bin_start": 25.6,
                        "bin_end": 29.5,
                        "count": 0
                      },
                      {
                        "bin_start": 29.5,
                        "bin_end": 33.4,
                        "count": 1
                      },
                      {
                        "bin_start": 33.4,
                        "bin_end": 37.3,
                        "count": 0
                      },
                      {
                        "bin_start": 37.3,
                        "bin_end": 41.2,
                        "count": 0
                      },
                      {
                        "bin_start": 41.2,
                        "bin_end": 45.1,
                        "count": 0
                      },
                      {
                        "bin_start": 45.1,
                        "bin_end": 49,
                        "count": 1
                      }
                    ]
                  }
                },
                {
                  "name": "wk51",
                  "dtype": "float64",
                  "stats": {
                    "unique_count": 4,
                    "nan_count": 313,
                    "min": "12.0",
                    "max": "49.0",
                    "histogram": [
                      {
                        "bin_start": 12,
                        "bin_end": 15.7,
                        "count": 2
                      },
                      {
                        "bin_start": 15.7,
                        "bin_end": 19.4,
                        "count": 0
                      },
                      {
                        "bin_start": 19.4,
                        "bin_end": 23.1,
                        "count": 0
                      },
                      {
                        "bin_start": 23.1,
                        "bin_end": 26.8,
                        "count": 0
                      },
                      {
                        "bin_start": 26.8,
                        "bin_end": 30.5,
                        "count": 0
                      },
                      {
                        "bin_start": 30.5,
                        "bin_end": 34.2,
                        "count": 0
                      },
                      {
                        "bin_start": 34.2,
                        "bin_end": 37.900000000000006,
                        "count": 0
                      },
                      {
                        "bin_start": 37.900000000000006,
                        "bin_end": 41.6,
                        "count": 0
                      },
                      {
                        "bin_start": 41.6,
                        "bin_end": 45.300000000000004,
                        "count": 1
                      },
                      {
                        "bin_start": 45.300000000000004,
                        "bin_end": 49,
                        "count": 1
                      }
                    ]
                  }
                },
                {
                  "name": "wk52",
                  "dtype": "float64",
                  "stats": {
                    "unique_count": 4,
                    "nan_count": 313,
                    "min": "15.0",
                    "max": "48.0",
                    "histogram": [
                      {
                        "bin_start": 15,
                        "bin_end": 18.3,
                        "count": 2
                      },
                      {
                        "bin_start": 18.3,
                        "bin_end": 21.6,
                        "count": 0
                      },
                      {
                        "bin_start": 21.6,
                        "bin_end": 24.9,
                        "count": 0
                      },
                      {
                        "bin_start": 24.9,
                        "bin_end": 28.2,
                        "count": 0
                      },
                      {
                        "bin_start": 28.2,
                        "bin_end": 31.5,
                        "count": 0
                      },
                      {
                        "bin_start": 31.5,
                        "bin_end": 34.8,
                        "count": 0
                      },
                      {
                        "bin_start": 34.8,
                        "bin_end": 38.099999999999994,
                        "count": 0
                      },
                      {
                        "bin_start": 38.099999999999994,
                        "bin_end": 41.4,
                        "count": 0
                      },
                      {
                        "bin_start": 41.4,
                        "bin_end": 44.7,
                        "count": 1
                      },
                      {
                        "bin_start": 44.7,
                        "bin_end": 48,
                        "count": 1
                      }
                    ]
                  }
                },
                {
                  "name": "wk53",
                  "dtype": "float64",
                  "stats": {
                    "unique_count": 4,
                    "nan_count": 313,
                    "min": "17.0",
                    "max": "49.0",
                    "histogram": [
                      {
                        "bin_start": 17,
                        "bin_end": 20.2,
                        "count": 2
                      },
                      {
                        "bin_start": 20.2,
                        "bin_end": 23.4,
                        "count": 0
                      },
                      {
                        "bin_start": 23.4,
                        "bin_end": 26.6,
                        "count": 0
                      },
                      {
                        "bin_start": 26.6,
                        "bin_end": 29.8,
                        "count": 0
                      },
                      {
                        "bin_start": 29.8,
                        "bin_end": 33,
                        "count": 0
                      },
                      {
                        "bin_start": 33,
                        "bin_end": 36.2,
                        "count": 0
                      },
                      {
                        "bin_start": 36.2,
                        "bin_end": 39.400000000000006,
                        "count": 0
                      },
                      {
                        "bin_start": 39.400000000000006,
                        "bin_end": 42.6,
                        "count": 0
                      },
                      {
                        "bin_start": 42.6,
                        "bin_end": 45.8,
                        "count": 0
                      },
                      {
                        "bin_start": 45.8,
                        "bin_end": 49,
                        "count": 2
                      }
                    ]
                  }
                },
                {
                  "name": "wk54",
                  "dtype": "float64",
                  "stats": {
                    "unique_count": 2,
                    "nan_count": 315,
                    "min": "17.0",
                    "max": "22.0",
                    "histogram": [
                      {
                        "bin_start": 17,
                        "bin_end": 17.5,
                        "count": 1
                      },
                      {
                        "bin_start": 17.5,
                        "bin_end": 18,
                        "count": 0
                      },
                      {
                        "bin_start": 18,
                        "bin_end": 18.5,
                        "count": 0
                      },
                      {
                        "bin_start": 18.5,
                        "bin_end": 19,
                        "count": 0
                      },
                      {
                        "bin_start": 19,
                        "bin_end": 19.5,
                        "count": 0
                      },
                      {
                        "bin_start": 19.5,
                        "bin_end": 20,
                        "count": 0
                      },
                      {
                        "bin_start": 20,
                        "bin_end": 20.5,
                        "count": 0
                      },
                      {
                        "bin_start": 20.5,
                        "bin_end": 21,
                        "count": 0
                      },
                      {
                        "bin_start": 21,
                        "bin_end": 21.5,
                        "count": 0
                      },
                      {
                        "bin_start": 21.5,
                        "bin_end": 22,
                        "count": 1
                      }
                    ]
                  }
                },
                {
                  "name": "wk55",
                  "dtype": "float64",
                  "stats": {
                    "unique_count": 2,
                    "nan_count": 315,
                    "min": "21.0",
                    "max": "22.0",
                    "histogram": [
                      {
                        "bin_start": 21,
                        "bin_end": 21.1,
                        "count": 1
                      },
                      {
                        "bin_start": 21.1,
                        "bin_end": 21.2,
                        "count": 0
                      },
                      {
                        "bin_start": 21.2,
                        "bin_end": 21.3,
                        "count": 0
                      },
                      {
                        "bin_start": 21.3,
                        "bin_end": 21.4,
                        "count": 0
                      },
                      {
                        "bin_start": 21.4,
                        "bin_end": 21.5,
                        "count": 0
                      },
                      {
                        "bin_start": 21.5,
                        "bin_end": 21.6,
                        "count": 0
                      },
                      {
                        "bin_start": 21.6,
                        "bin_end": 21.7,
                        "count": 0
                      },
                      {
                        "bin_start": 21.7,
                        "bin_end": 21.8,
                        "count": 0
                      },
                      {
                        "bin_start": 21.8,
                        "bin_end": 21.9,
                        "count": 0
                      },
                      {
                        "bin_start": 21.9,
                        "bin_end": 22,
                        "count": 1
                      }
                    ]
                  }
                },
                {
                  "name": "wk56",
                  "dtype": "float64",
                  "stats": {
                    "unique_count": 2,
                    "nan_count": 315,
                    "min": "25.0",
                    "max": "26.0",
                    "histogram": [
                      {
                        "bin_start": 25,
                        "bin_end": 25.1,
                        "count": 1
                      },
                      {
                        "bin_start": 25.1,
                        "bin_end": 25.2,
                        "count": 0
                      },
                      {
                        "bin_start": 25.2,
                        "bin_end": 25.3,
                        "count": 0
                      },
                      {
                        "bin_start": 25.3,
                        "bin_end": 25.4,
                        "count": 0
                      },
                      {
                        "bin_start": 25.4,
                        "bin_end": 25.5,
                        "count": 0
                      },
                      {
                        "bin_start": 25.5,
                        "bin_end": 25.6,
                        "count": 0
                      },
                      {
                        "bin_start": 25.6,
                        "bin_end": 25.7,
                        "count": 0
                      },
                      {
                        "bin_start": 25.7,
                        "bin_end": 25.8,
                        "count": 0
                      },
                      {
                        "bin_start": 25.8,
                        "bin_end": 25.9,
                        "count": 0
                      },
                      {
                        "bin_start": 25.9,
                        "bin_end": 26,
                        "count": 1
                      }
                    ]
                  }
                },
                {
                  "name": "wk57",
                  "dtype": "float64",
                  "stats": {
                    "unique_count": 2,
                    "nan_count": 315,
                    "min": "26.0",
                    "max": "29.0",
                    "histogram": [
                      {
                        "bin_start": 26,
                        "bin_end": 26.3,
                        "count": 1
                      },
                      {
                        "bin_start": 26.3,
                        "bin_end": 26.6,
                        "count": 0
                      },
                      {
                        "bin_start": 26.6,
                        "bin_end": 26.9,
                        "count": 0
                      },
                      {
                        "bin_start": 26.9,
                        "bin_end": 27.2,
                        "count": 0
                      },
                      {
                        "bin_start": 27.2,
                        "bin_end": 27.5,
                        "count": 0
                      },
                      {
                        "bin_start": 27.5,
                        "bin_end": 27.8,
                        "count": 0
                      },
                      {
                        "bin_start": 27.8,
                        "bin_end": 28.1,
                        "count": 0
                      },
                      {
                        "bin_start": 28.1,
                        "bin_end": 28.4,
                        "count": 0
                      },
                      {
                        "bin_start": 28.4,
                        "bin_end": 28.7,
                        "count": 0
                      },
                      {
                        "bin_start": 28.7,
                        "bin_end": 29,
                        "count": 1
                      }
                    ]
                  }
                },
                {
                  "name": "wk58",
                  "dtype": "float64",
                  "stats": {
                    "unique_count": 2,
                    "nan_count": 315,
                    "min": "31.0",
                    "max": "32.0",
                    "histogram": [
                      {
                        "bin_start": 31,
                        "bin_end": 31.1,
                        "count": 1
                      },
                      {
                        "bin_start": 31.1,
                        "bin_end": 31.2,
                        "count": 0
                      },
                      {
                        "bin_start": 31.2,
                        "bin_end": 31.3,
                        "count": 0
                      },
                      {
                        "bin_start": 31.3,
                        "bin_end": 31.4,
                        "count": 0
                      },
                      {
                        "bin_start": 31.4,
                        "bin_end": 31.5,
                        "count": 0
                      },
                      {
                        "bin_start": 31.5,
                        "bin_end": 31.6,
                        "count": 0
                      },
                      {
                        "bin_start": 31.6,
                        "bin_end": 31.7,
                        "count": 0
                      },
                      {
                        "bin_start": 31.7,
                        "bin_end": 31.8,
                        "count": 0
                      },
                      {
                        "bin_start": 31.8,
                        "bin_end": 31.9,
                        "count": 0
                      },
                      {
                        "bin_start": 31.9,
                        "bin_end": 32,
                        "count": 1
                      }
                    ]
                  }
                },
                {
                  "name": "wk59",
                  "dtype": "float64",
                  "stats": {
                    "unique_count": 2,
                    "nan_count": 315,
                    "min": "32.0",
                    "max": "39.0",
                    "histogram": [
                      {
                        "bin_start": 32,
                        "bin_end": 32.7,
                        "count": 1
                      },
                      {
                        "bin_start": 32.7,
                        "bin_end": 33.4,
                        "count": 0
                      },
                      {
                        "bin_start": 33.4,
                        "bin_end": 34.1,
                        "count": 0
                      },
                      {
                        "bin_start": 34.1,
                        "bin_end": 34.8,
                        "count": 0
                      },
                      {
                        "bin_start": 34.8,
                        "bin_end": 35.5,
                        "count": 0
                      },
                      {
                        "bin_start": 35.5,
                        "bin_end": 36.2,
                        "count": 0
                      },
                      {
                        "bin_start": 36.2,
                        "bin_end": 36.9,
                        "count": 0
                      },
                      {
                        "bin_start": 36.9,
                        "bin_end": 37.6,
                        "count": 0
                      },
                      {
                        "bin_start": 37.6,
                        "bin_end": 38.3,
                        "count": 0
                      },
                      {
                        "bin_start": 38.3,
                        "bin_end": 39,
                        "count": 1
                      }
                    ]
                  }
                },
                {
                  "name": "wk60",
                  "dtype": "float64",
                  "stats": {
                    "unique_count": 2,
                    "nan_count": 315,
                    "min": "37.0",
                    "max": "39.0",
                    "histogram": [
                      {
                        "bin_start": 37,
                        "bin_end": 37.2,
                        "count": 1
                      },
                      {
                        "bin_start": 37.2,
                        "bin_end": 37.4,
                        "count": 0
                      },
                      {
                        "bin_start": 37.4,
                        "bin_end": 37.6,
                        "count": 0
                      },
                      {
                        "bin_start": 37.6,
                        "bin_end": 37.8,
                        "count": 0
                      },
                      {
                        "bin_start": 37.8,
                        "bin_end": 38,
                        "count": 0
                      },
                      {
                        "bin_start": 38,
                        "bin_end": 38.2,
                        "count": 0
                      },
                      {
                        "bin_start": 38.2,
                        "bin_end": 38.4,
                        "count": 0
                      },
                      {
                        "bin_start": 38.4,
                        "bin_end": 38.6,
                        "count": 0
                      },
                      {
                        "bin_start": 38.6,
                        "bin_end": 38.8,
                        "count": 0
                      },
                      {
                        "bin_start": 38.8,
                        "bin_end": 39,
                        "count": 1
                      }
                    ]
                  }
                },
                {
                  "name": "wk61",
                  "dtype": "float64",
                  "stats": {
                    "unique_count": 2,
                    "nan_count": 315,
                    "min": "42.0",
                    "max": "43.0",
                    "histogram": [
                      {
                        "bin_start": 42,
                        "bin_end": 42.1,
                        "count": 1
                      },
                      {
                        "bin_start": 42.1,
                        "bin_end": 42.2,
                        "count": 0
                      },
                      {
                        "bin_start": 42.2,
                        "bin_end": 42.3,
                        "count": 0
                      },
                      {
                        "bin_start": 42.3,
                        "bin_end": 42.4,
                        "count": 0
                      },
                      {
                        "bin_start": 42.4,
                        "bin_end": 42.5,
                        "count": 0
                      },
                      {
                        "bin_start": 42.5,
                        "bin_end": 42.6,
                        "count": 0
                      },
                      {
                        "bin_start": 42.6,
                        "bin_end": 42.7,
                        "count": 0
                      },
                      {
                        "bin_start": 42.7,
                        "bin_end": 42.8,
                        "count": 0
                      },
                      {
                        "bin_start": 42.8,
                        "bin_end": 42.9,
                        "count": 0
                      },
                      {
                        "bin_start": 42.9,
                        "bin_end": 43,
                        "count": 1
                      }
                    ]
                  }
                },
                {
                  "name": "wk62",
                  "dtype": "float64",
                  "stats": {
                    "unique_count": 2,
                    "nan_count": 315,
                    "min": "42.0",
                    "max": "47.0",
                    "histogram": [
                      {
                        "bin_start": 42,
                        "bin_end": 42.5,
                        "count": 1
                      },
                      {
                        "bin_start": 42.5,
                        "bin_end": 43,
                        "count": 0
                      },
                      {
                        "bin_start": 43,
                        "bin_end": 43.5,
                        "count": 0
                      },
                      {
                        "bin_start": 43.5,
                        "bin_end": 44,
                        "count": 0
                      },
                      {
                        "bin_start": 44,
                        "bin_end": 44.5,
                        "count": 0
                      },
                      {
                        "bin_start": 44.5,
                        "bin_end": 45,
                        "count": 0
                      },
                      {
                        "bin_start": 45,
                        "bin_end": 45.5,
                        "count": 0
                      },
                      {
                        "bin_start": 45.5,
                        "bin_end": 46,
                        "count": 0
                      },
                      {
                        "bin_start": 46,
                        "bin_end": 46.5,
                        "count": 0
                      },
                      {
                        "bin_start": 46.5,
                        "bin_end": 47,
                        "count": 1
                      }
                    ]
                  }
                },
                {
                  "name": "wk63",
                  "dtype": "float64",
                  "stats": {
                    "unique_count": 2,
                    "nan_count": 315,
                    "min": "45.0",
                    "max": "50.0",
                    "histogram": [
                      {
                        "bin_start": 45,
                        "bin_end": 45.5,
                        "count": 1
                      },
                      {
                        "bin_start": 45.5,
                        "bin_end": 46,
                        "count": 0
                      },
                      {
                        "bin_start": 46,
                        "bin_end": 46.5,
                        "count": 0
                      },
                      {
                        "bin_start": 46.5,
                        "bin_end": 47,
                        "count": 0
                      },
                      {
                        "bin_start": 47,
                        "bin_end": 47.5,
                        "count": 0
                      },
                      {
                        "bin_start": 47.5,
                        "bin_end": 48,
                        "count": 0
                      },
                      {
                        "bin_start": 48,
                        "bin_end": 48.5,
                        "count": 0
                      },
                      {
                        "bin_start": 48.5,
                        "bin_end": 49,
                        "count": 0
                      },
                      {
                        "bin_start": 49,
                        "bin_end": 49.5,
                        "count": 0
                      },
                      {
                        "bin_start": 49.5,
                        "bin_end": 50,
                        "count": 1
                      }
                    ]
                  }
                },
                {
                  "name": "wk64",
                  "dtype": "float64",
                  "stats": {
                    "unique_count": 1,
                    "nan_count": 315,
                    "min": "50.0",
                    "max": "50.0",
                    "histogram": [
                      {
                        "bin_start": 49.5,
                        "bin_end": 49.6,
                        "count": 0
                      },
                      {
                        "bin_start": 49.6,
                        "bin_end": 49.7,
                        "count": 0
                      },
                      {
                        "bin_start": 49.7,
                        "bin_end": 49.8,
                        "count": 0
                      },
                      {
                        "bin_start": 49.8,
                        "bin_end": 49.9,
                        "count": 0
                      },
                      {
                        "bin_start": 49.9,
                        "bin_end": 50,
                        "count": 0
                      },
                      {
                        "bin_start": 50,
                        "bin_end": 50.1,
                        "count": 2
                      },
                      {
                        "bin_start": 50.1,
                        "bin_end": 50.2,
                        "count": 0
                      },
                      {
                        "bin_start": 50.2,
                        "bin_end": 50.3,
                        "count": 0
                      },
                      {
                        "bin_start": 50.3,
                        "bin_end": 50.4,
                        "count": 0
                      },
                      {
                        "bin_start": 50.4,
                        "bin_end": 50.5,
                        "count": 0
                      }
                    ]
                  }
                },
                {
                  "name": "wk65",
                  "dtype": "float64",
                  "stats": {
                    "unique_count": 1,
                    "nan_count": 316,
                    "min": "49.0",
                    "max": "49.0",
                    "histogram": [
                      {
                        "bin_start": 48.5,
                        "bin_end": 48.6,
                        "count": 0
                      },
                      {
                        "bin_start": 48.6,
                        "bin_end": 48.7,
                        "count": 0
                      },
                      {
                        "bin_start": 48.7,
                        "bin_end": 48.8,
                        "count": 0
                      },
                      {
                        "bin_start": 48.8,
                        "bin_end": 48.9,
                        "count": 0
                      },
                      {
                        "bin_start": 48.9,
                        "bin_end": 49,
                        "count": 0
                      },
                      {
                        "bin_start": 49,
                        "bin_end": 49.1,
                        "count": 1
                      },
                      {
                        "bin_start": 49.1,
                        "bin_end": 49.2,
                        "count": 0
                      },
                      {
                        "bin_start": 49.2,
                        "bin_end": 49.3,
                        "count": 0
                      },
                      {
                        "bin_start": 49.3,
                        "bin_end": 49.4,
                        "count": 0
                      },
                      {
                        "bin_start": 49.4,
                        "bin_end": 49.5,
                        "count": 0
                      }
                    ]
                  }
                },
                {
                  "name": "wk66",
                  "dtype": "float64",
                  "stats": {
                    "unique_count": 0,
                    "nan_count": 317,
                    "min": null,
                    "max": null,
                    "histogram": [
                      {
                        "bin_start": 0,
                        "bin_end": 0.1,
                        "count": 0
                      },
                      {
                        "bin_start": 0.1,
                        "bin_end": 0.2,
                        "count": 0
                      },
                      {
                        "bin_start": 0.2,
                        "bin_end": 0.30000000000000004,
                        "count": 0
                      },
                      {
                        "bin_start": 0.30000000000000004,
                        "bin_end": 0.4,
                        "count": 0
                      },
                      {
                        "bin_start": 0.4,
                        "bin_end": 0.5,
                        "count": 0
                      },
                      {
                        "bin_start": 0.5,
                        "bin_end": 0.6000000000000001,
                        "count": 0
                      },
                      {
                        "bin_start": 0.6000000000000001,
                        "bin_end": 0.7000000000000001,
                        "count": 0
                      },
                      {
                        "bin_start": 0.7000000000000001,
                        "bin_end": 0.8,
                        "count": 0
                      },
                      {
                        "bin_start": 0.8,
                        "bin_end": 0.9,
                        "count": 0
                      },
                      {
                        "bin_start": 0.9,
                        "bin_end": 1,
                        "count": 0
                      }
                    ]
                  }
                },
                {
                  "name": "wk67",
                  "dtype": "float64",
                  "stats": {
                    "unique_count": 0,
                    "nan_count": 317,
                    "min": null,
                    "max": null,
                    "histogram": [
                      {
                        "bin_start": 0,
                        "bin_end": 0.1,
                        "count": 0
                      },
                      {
                        "bin_start": 0.1,
                        "bin_end": 0.2,
                        "count": 0
                      },
                      {
                        "bin_start": 0.2,
                        "bin_end": 0.30000000000000004,
                        "count": 0
                      },
                      {
                        "bin_start": 0.30000000000000004,
                        "bin_end": 0.4,
                        "count": 0
                      },
                      {
                        "bin_start": 0.4,
                        "bin_end": 0.5,
                        "count": 0
                      },
                      {
                        "bin_start": 0.5,
                        "bin_end": 0.6000000000000001,
                        "count": 0
                      },
                      {
                        "bin_start": 0.6000000000000001,
                        "bin_end": 0.7000000000000001,
                        "count": 0
                      },
                      {
                        "bin_start": 0.7000000000000001,
                        "bin_end": 0.8,
                        "count": 0
                      },
                      {
                        "bin_start": 0.8,
                        "bin_end": 0.9,
                        "count": 0
                      },
                      {
                        "bin_start": 0.9,
                        "bin_end": 1,
                        "count": 0
                      }
                    ]
                  }
                },
                {
                  "name": "wk68",
                  "dtype": "float64",
                  "stats": {
                    "unique_count": 0,
                    "nan_count": 317,
                    "min": null,
                    "max": null,
                    "histogram": [
                      {
                        "bin_start": 0,
                        "bin_end": 0.1,
                        "count": 0
                      },
                      {
                        "bin_start": 0.1,
                        "bin_end": 0.2,
                        "count": 0
                      },
                      {
                        "bin_start": 0.2,
                        "bin_end": 0.30000000000000004,
                        "count": 0
                      },
                      {
                        "bin_start": 0.30000000000000004,
                        "bin_end": 0.4,
                        "count": 0
                      },
                      {
                        "bin_start": 0.4,
                        "bin_end": 0.5,
                        "count": 0
                      },
                      {
                        "bin_start": 0.5,
                        "bin_end": 0.6000000000000001,
                        "count": 0
                      },
                      {
                        "bin_start": 0.6000000000000001,
                        "bin_end": 0.7000000000000001,
                        "count": 0
                      },
                      {
                        "bin_start": 0.7000000000000001,
                        "bin_end": 0.8,
                        "count": 0
                      },
                      {
                        "bin_start": 0.8,
                        "bin_end": 0.9,
                        "count": 0
                      },
                      {
                        "bin_start": 0.9,
                        "bin_end": 1,
                        "count": 0
                      }
                    ]
                  }
                },
                {
                  "name": "wk69",
                  "dtype": "float64",
                  "stats": {
                    "unique_count": 0,
                    "nan_count": 317,
                    "min": null,
                    "max": null,
                    "histogram": [
                      {
                        "bin_start": 0,
                        "bin_end": 0.1,
                        "count": 0
                      },
                      {
                        "bin_start": 0.1,
                        "bin_end": 0.2,
                        "count": 0
                      },
                      {
                        "bin_start": 0.2,
                        "bin_end": 0.30000000000000004,
                        "count": 0
                      },
                      {
                        "bin_start": 0.30000000000000004,
                        "bin_end": 0.4,
                        "count": 0
                      },
                      {
                        "bin_start": 0.4,
                        "bin_end": 0.5,
                        "count": 0
                      },
                      {
                        "bin_start": 0.5,
                        "bin_end": 0.6000000000000001,
                        "count": 0
                      },
                      {
                        "bin_start": 0.6000000000000001,
                        "bin_end": 0.7000000000000001,
                        "count": 0
                      },
                      {
                        "bin_start": 0.7000000000000001,
                        "bin_end": 0.8,
                        "count": 0
                      },
                      {
                        "bin_start": 0.8,
                        "bin_end": 0.9,
                        "count": 0
                      },
                      {
                        "bin_start": 0.9,
                        "bin_end": 1,
                        "count": 0
                      }
                    ]
                  }
                },
                {
                  "name": "wk70",
                  "dtype": "float64",
                  "stats": {
                    "unique_count": 0,
                    "nan_count": 317,
                    "min": null,
                    "max": null,
                    "histogram": [
                      {
                        "bin_start": 0,
                        "bin_end": 0.1,
                        "count": 0
                      },
                      {
                        "bin_start": 0.1,
                        "bin_end": 0.2,
                        "count": 0
                      },
                      {
                        "bin_start": 0.2,
                        "bin_end": 0.30000000000000004,
                        "count": 0
                      },
                      {
                        "bin_start": 0.30000000000000004,
                        "bin_end": 0.4,
                        "count": 0
                      },
                      {
                        "bin_start": 0.4,
                        "bin_end": 0.5,
                        "count": 0
                      },
                      {
                        "bin_start": 0.5,
                        "bin_end": 0.6000000000000001,
                        "count": 0
                      },
                      {
                        "bin_start": 0.6000000000000001,
                        "bin_end": 0.7000000000000001,
                        "count": 0
                      },
                      {
                        "bin_start": 0.7000000000000001,
                        "bin_end": 0.8,
                        "count": 0
                      },
                      {
                        "bin_start": 0.8,
                        "bin_end": 0.9,
                        "count": 0
                      },
                      {
                        "bin_start": 0.9,
                        "bin_end": 1,
                        "count": 0
                      }
                    ]
                  }
                },
                {
                  "name": "wk71",
                  "dtype": "float64",
                  "stats": {
                    "unique_count": 0,
                    "nan_count": 317,
                    "min": null,
                    "max": null,
                    "histogram": [
                      {
                        "bin_start": 0,
                        "bin_end": 0.1,
                        "count": 0
                      },
                      {
                        "bin_start": 0.1,
                        "bin_end": 0.2,
                        "count": 0
                      },
                      {
                        "bin_start": 0.2,
                        "bin_end": 0.30000000000000004,
                        "count": 0
                      },
                      {
                        "bin_start": 0.30000000000000004,
                        "bin_end": 0.4,
                        "count": 0
                      },
                      {
                        "bin_start": 0.4,
                        "bin_end": 0.5,
                        "count": 0
                      },
                      {
                        "bin_start": 0.5,
                        "bin_end": 0.6000000000000001,
                        "count": 0
                      },
                      {
                        "bin_start": 0.6000000000000001,
                        "bin_end": 0.7000000000000001,
                        "count": 0
                      },
                      {
                        "bin_start": 0.7000000000000001,
                        "bin_end": 0.8,
                        "count": 0
                      },
                      {
                        "bin_start": 0.8,
                        "bin_end": 0.9,
                        "count": 0
                      },
                      {
                        "bin_start": 0.9,
                        "bin_end": 1,
                        "count": 0
                      }
                    ]
                  }
                },
                {
                  "name": "wk72",
                  "dtype": "float64",
                  "stats": {
                    "unique_count": 0,
                    "nan_count": 317,
                    "min": null,
                    "max": null,
                    "histogram": [
                      {
                        "bin_start": 0,
                        "bin_end": 0.1,
                        "count": 0
                      },
                      {
                        "bin_start": 0.1,
                        "bin_end": 0.2,
                        "count": 0
                      },
                      {
                        "bin_start": 0.2,
                        "bin_end": 0.30000000000000004,
                        "count": 0
                      },
                      {
                        "bin_start": 0.30000000000000004,
                        "bin_end": 0.4,
                        "count": 0
                      },
                      {
                        "bin_start": 0.4,
                        "bin_end": 0.5,
                        "count": 0
                      },
                      {
                        "bin_start": 0.5,
                        "bin_end": 0.6000000000000001,
                        "count": 0
                      },
                      {
                        "bin_start": 0.6000000000000001,
                        "bin_end": 0.7000000000000001,
                        "count": 0
                      },
                      {
                        "bin_start": 0.7000000000000001,
                        "bin_end": 0.8,
                        "count": 0
                      },
                      {
                        "bin_start": 0.8,
                        "bin_end": 0.9,
                        "count": 0
                      },
                      {
                        "bin_start": 0.9,
                        "bin_end": 1,
                        "count": 0
                      }
                    ]
                  }
                },
                {
                  "name": "wk73",
                  "dtype": "float64",
                  "stats": {
                    "unique_count": 0,
                    "nan_count": 317,
                    "min": null,
                    "max": null,
                    "histogram": [
                      {
                        "bin_start": 0,
                        "bin_end": 0.1,
                        "count": 0
                      },
                      {
                        "bin_start": 0.1,
                        "bin_end": 0.2,
                        "count": 0
                      },
                      {
                        "bin_start": 0.2,
                        "bin_end": 0.30000000000000004,
                        "count": 0
                      },
                      {
                        "bin_start": 0.30000000000000004,
                        "bin_end": 0.4,
                        "count": 0
                      },
                      {
                        "bin_start": 0.4,
                        "bin_end": 0.5,
                        "count": 0
                      },
                      {
                        "bin_start": 0.5,
                        "bin_end": 0.6000000000000001,
                        "count": 0
                      },
                      {
                        "bin_start": 0.6000000000000001,
                        "bin_end": 0.7000000000000001,
                        "count": 0
                      },
                      {
                        "bin_start": 0.7000000000000001,
                        "bin_end": 0.8,
                        "count": 0
                      },
                      {
                        "bin_start": 0.8,
                        "bin_end": 0.9,
                        "count": 0
                      },
                      {
                        "bin_start": 0.9,
                        "bin_end": 1,
                        "count": 0
                      }
                    ]
                  }
                },
                {
                  "name": "wk74",
                  "dtype": "float64",
                  "stats": {
                    "unique_count": 0,
                    "nan_count": 317,
                    "min": null,
                    "max": null,
                    "histogram": [
                      {
                        "bin_start": 0,
                        "bin_end": 0.1,
                        "count": 0
                      },
                      {
                        "bin_start": 0.1,
                        "bin_end": 0.2,
                        "count": 0
                      },
                      {
                        "bin_start": 0.2,
                        "bin_end": 0.30000000000000004,
                        "count": 0
                      },
                      {
                        "bin_start": 0.30000000000000004,
                        "bin_end": 0.4,
                        "count": 0
                      },
                      {
                        "bin_start": 0.4,
                        "bin_end": 0.5,
                        "count": 0
                      },
                      {
                        "bin_start": 0.5,
                        "bin_end": 0.6000000000000001,
                        "count": 0
                      },
                      {
                        "bin_start": 0.6000000000000001,
                        "bin_end": 0.7000000000000001,
                        "count": 0
                      },
                      {
                        "bin_start": 0.7000000000000001,
                        "bin_end": 0.8,
                        "count": 0
                      },
                      {
                        "bin_start": 0.8,
                        "bin_end": 0.9,
                        "count": 0
                      },
                      {
                        "bin_start": 0.9,
                        "bin_end": 1,
                        "count": 0
                      }
                    ]
                  }
                },
                {
                  "name": "wk75",
                  "dtype": "float64",
                  "stats": {
                    "unique_count": 0,
                    "nan_count": 317,
                    "min": null,
                    "max": null,
                    "histogram": [
                      {
                        "bin_start": 0,
                        "bin_end": 0.1,
                        "count": 0
                      },
                      {
                        "bin_start": 0.1,
                        "bin_end": 0.2,
                        "count": 0
                      },
                      {
                        "bin_start": 0.2,
                        "bin_end": 0.30000000000000004,
                        "count": 0
                      },
                      {
                        "bin_start": 0.30000000000000004,
                        "bin_end": 0.4,
                        "count": 0
                      },
                      {
                        "bin_start": 0.4,
                        "bin_end": 0.5,
                        "count": 0
                      },
                      {
                        "bin_start": 0.5,
                        "bin_end": 0.6000000000000001,
                        "count": 0
                      },
                      {
                        "bin_start": 0.6000000000000001,
                        "bin_end": 0.7000000000000001,
                        "count": 0
                      },
                      {
                        "bin_start": 0.7000000000000001,
                        "bin_end": 0.8,
                        "count": 0
                      },
                      {
                        "bin_start": 0.8,
                        "bin_end": 0.9,
                        "count": 0
                      },
                      {
                        "bin_start": 0.9,
                        "bin_end": 1,
                        "count": 0
                      }
                    ]
                  }
                },
                {
                  "name": "wk76",
                  "dtype": "float64",
                  "stats": {
                    "unique_count": 0,
                    "nan_count": 317,
                    "min": null,
                    "max": null,
                    "histogram": [
                      {
                        "bin_start": 0,
                        "bin_end": 0.1,
                        "count": 0
                      },
                      {
                        "bin_start": 0.1,
                        "bin_end": 0.2,
                        "count": 0
                      },
                      {
                        "bin_start": 0.2,
                        "bin_end": 0.30000000000000004,
                        "count": 0
                      },
                      {
                        "bin_start": 0.30000000000000004,
                        "bin_end": 0.4,
                        "count": 0
                      },
                      {
                        "bin_start": 0.4,
                        "bin_end": 0.5,
                        "count": 0
                      },
                      {
                        "bin_start": 0.5,
                        "bin_end": 0.6000000000000001,
                        "count": 0
                      },
                      {
                        "bin_start": 0.6000000000000001,
                        "bin_end": 0.7000000000000001,
                        "count": 0
                      },
                      {
                        "bin_start": 0.7000000000000001,
                        "bin_end": 0.8,
                        "count": 0
                      },
                      {
                        "bin_start": 0.8,
                        "bin_end": 0.9,
                        "count": 0
                      },
                      {
                        "bin_start": 0.9,
                        "bin_end": 1,
                        "count": 0
                      }
                    ]
                  }
                },
                {
                  "name": "_deepnote_index_column",
                  "dtype": "int64"
                }
              ],
              "rows_top": [
                {
                  "year": 2000,
                  "artist": "2 Pac",
                  "track": "Baby Don't Cry (Keep...",
                  "time": "4:22",
                  "date.entered": "2000-02-26",
                  "wk1": 87,
                  "wk2": 82,
                  "wk3": 72,
                  "wk4": "77.0",
                  "wk5": "87.0",
                  "wk6": "94.0",
                  "wk7": "99.0",
                  "wk8": "nan",
                  "wk9": "nan",
                  "wk10": "nan",
                  "wk11": "nan",
                  "wk12": "nan",
                  "wk13": "nan",
                  "wk14": "nan",
                  "wk15": "nan",
                  "wk16": "nan",
                  "wk17": "nan",
                  "wk18": "nan",
                  "wk19": "nan",
                  "wk20": "nan",
                  "wk21": "nan",
                  "wk22": "nan",
                  "wk23": "nan",
                  "wk24": "nan",
                  "wk25": "nan",
                  "wk26": "nan",
                  "wk27": "nan",
                  "wk28": "nan",
                  "wk29": "nan",
                  "wk30": "nan",
                  "wk31": "nan",
                  "wk32": "nan",
                  "wk33": "nan",
                  "wk34": "nan",
                  "wk35": "nan",
                  "wk36": "nan",
                  "wk37": "nan",
                  "wk38": "nan",
                  "wk39": "nan",
                  "wk40": "nan",
                  "wk41": "nan",
                  "wk42": "nan",
                  "wk43": "nan",
                  "wk44": "nan",
                  "wk45": "nan",
                  "wk46": "nan",
                  "wk47": "nan",
                  "wk48": "nan",
                  "wk49": "nan",
                  "wk50": "nan",
                  "wk51": "nan",
                  "wk52": "nan",
                  "wk53": "nan",
                  "wk54": "nan",
                  "wk55": "nan",
                  "wk56": "nan",
                  "wk57": "nan",
                  "wk58": "nan",
                  "wk59": "nan",
                  "wk60": "nan",
                  "wk61": "nan",
                  "wk62": "nan",
                  "wk63": "nan",
                  "wk64": "nan",
                  "wk65": "nan",
                  "wk66": "nan",
                  "wk67": "nan",
                  "wk68": "nan",
                  "wk69": "nan",
                  "wk70": "nan",
                  "wk71": "nan",
                  "wk72": "nan",
                  "wk73": "nan",
                  "wk74": "nan",
                  "wk75": "nan",
                  "wk76": "nan",
                  "_deepnote_index_column": 0
                },
                {
                  "year": 2000,
                  "artist": "2Ge+her",
                  "track": "The Hardest Part Of ...",
                  "time": "3:15",
                  "date.entered": "2000-09-02",
                  "wk1": 91,
                  "wk2": 87,
                  "wk3": 92,
                  "wk4": "nan",
                  "wk5": "nan",
                  "wk6": "nan",
                  "wk7": "nan",
                  "wk8": "nan",
                  "wk9": "nan",
                  "wk10": "nan",
                  "wk11": "nan",
                  "wk12": "nan",
                  "wk13": "nan",
                  "wk14": "nan",
                  "wk15": "nan",
                  "wk16": "nan",
                  "wk17": "nan",
                  "wk18": "nan",
                  "wk19": "nan",
                  "wk20": "nan",
                  "wk21": "nan",
                  "wk22": "nan",
                  "wk23": "nan",
                  "wk24": "nan",
                  "wk25": "nan",
                  "wk26": "nan",
                  "wk27": "nan",
                  "wk28": "nan",
                  "wk29": "nan",
                  "wk30": "nan",
                  "wk31": "nan",
                  "wk32": "nan",
                  "wk33": "nan",
                  "wk34": "nan",
                  "wk35": "nan",
                  "wk36": "nan",
                  "wk37": "nan",
                  "wk38": "nan",
                  "wk39": "nan",
                  "wk40": "nan",
                  "wk41": "nan",
                  "wk42": "nan",
                  "wk43": "nan",
                  "wk44": "nan",
                  "wk45": "nan",
                  "wk46": "nan",
                  "wk47": "nan",
                  "wk48": "nan",
                  "wk49": "nan",
                  "wk50": "nan",
                  "wk51": "nan",
                  "wk52": "nan",
                  "wk53": "nan",
                  "wk54": "nan",
                  "wk55": "nan",
                  "wk56": "nan",
                  "wk57": "nan",
                  "wk58": "nan",
                  "wk59": "nan",
                  "wk60": "nan",
                  "wk61": "nan",
                  "wk62": "nan",
                  "wk63": "nan",
                  "wk64": "nan",
                  "wk65": "nan",
                  "wk66": "nan",
                  "wk67": "nan",
                  "wk68": "nan",
                  "wk69": "nan",
                  "wk70": "nan",
                  "wk71": "nan",
                  "wk72": "nan",
                  "wk73": "nan",
                  "wk74": "nan",
                  "wk75": "nan",
                  "wk76": "nan",
                  "_deepnote_index_column": 1
                },
                {
                  "year": 2000,
                  "artist": "3 Doors Down",
                  "track": "Kryptonite",
                  "time": "3:53",
                  "date.entered": "2000-04-08",
                  "wk1": 81,
                  "wk2": 70,
                  "wk3": 68,
                  "wk4": "67.0",
                  "wk5": "66.0",
                  "wk6": "57.0",
                  "wk7": "54.0",
                  "wk8": "53.0",
                  "wk9": "51.0",
                  "wk10": "51.0",
                  "wk11": "51.0",
                  "wk12": "51.0",
                  "wk13": "47.0",
                  "wk14": "44.0",
                  "wk15": "38.0",
                  "wk16": "28.0",
                  "wk17": "22.0",
                  "wk18": "18.0",
                  "wk19": "18.0",
                  "wk20": "14.0",
                  "wk21": "12.0",
                  "wk22": "7.0",
                  "wk23": "6.0",
                  "wk24": "6.0",
                  "wk25": "6.0",
                  "wk26": "5.0",
                  "wk27": "5.0",
                  "wk28": "4.0",
                  "wk29": "4.0",
                  "wk30": "4.0",
                  "wk31": "4.0",
                  "wk32": "3.0",
                  "wk33": "3.0",
                  "wk34": "3.0",
                  "wk35": "4.0",
                  "wk36": "5.0",
                  "wk37": "5.0",
                  "wk38": "9.0",
                  "wk39": "9.0",
                  "wk40": "15.0",
                  "wk41": "14.0",
                  "wk42": "13.0",
                  "wk43": "14.0",
                  "wk44": "16.0",
                  "wk45": "17.0",
                  "wk46": "21.0",
                  "wk47": "22.0",
                  "wk48": "24.0",
                  "wk49": "28.0",
                  "wk50": "33.0",
                  "wk51": "42.0",
                  "wk52": "42.0",
                  "wk53": "49.0",
                  "wk54": "nan",
                  "wk55": "nan",
                  "wk56": "nan",
                  "wk57": "nan",
                  "wk58": "nan",
                  "wk59": "nan",
                  "wk60": "nan",
                  "wk61": "nan",
                  "wk62": "nan",
                  "wk63": "nan",
                  "wk64": "nan",
                  "wk65": "nan",
                  "wk66": "nan",
                  "wk67": "nan",
                  "wk68": "nan",
                  "wk69": "nan",
                  "wk70": "nan",
                  "wk71": "nan",
                  "wk72": "nan",
                  "wk73": "nan",
                  "wk74": "nan",
                  "wk75": "nan",
                  "wk76": "nan",
                  "_deepnote_index_column": 2
                },
                {
                  "year": 2000,
                  "artist": "3 Doors Down",
                  "track": "Loser",
                  "time": "4:24",
                  "date.entered": "2000-10-21",
                  "wk1": 76,
                  "wk2": 76,
                  "wk3": 72,
                  "wk4": "69.0",
                  "wk5": "67.0",
                  "wk6": "65.0",
                  "wk7": "55.0",
                  "wk8": "59.0",
                  "wk9": "62.0",
                  "wk10": "61.0",
                  "wk11": "61.0",
                  "wk12": "59.0",
                  "wk13": "61.0",
                  "wk14": "66.0",
                  "wk15": "72.0",
                  "wk16": "76.0",
                  "wk17": "75.0",
                  "wk18": "67.0",
                  "wk19": "73.0",
                  "wk20": "70.0",
                  "wk21": "nan",
                  "wk22": "nan",
                  "wk23": "nan",
                  "wk24": "nan",
                  "wk25": "nan",
                  "wk26": "nan",
                  "wk27": "nan",
                  "wk28": "nan",
                  "wk29": "nan",
                  "wk30": "nan",
                  "wk31": "nan",
                  "wk32": "nan",
                  "wk33": "nan",
                  "wk34": "nan",
                  "wk35": "nan",
                  "wk36": "nan",
                  "wk37": "nan",
                  "wk38": "nan",
                  "wk39": "nan",
                  "wk40": "nan",
                  "wk41": "nan",
                  "wk42": "nan",
                  "wk43": "nan",
                  "wk44": "nan",
                  "wk45": "nan",
                  "wk46": "nan",
                  "wk47": "nan",
                  "wk48": "nan",
                  "wk49": "nan",
                  "wk50": "nan",
                  "wk51": "nan",
                  "wk52": "nan",
                  "wk53": "nan",
                  "wk54": "nan",
                  "wk55": "nan",
                  "wk56": "nan",
                  "wk57": "nan",
                  "wk58": "nan",
                  "wk59": "nan",
                  "wk60": "nan",
                  "wk61": "nan",
                  "wk62": "nan",
                  "wk63": "nan",
                  "wk64": "nan",
                  "wk65": "nan",
                  "wk66": "nan",
                  "wk67": "nan",
                  "wk68": "nan",
                  "wk69": "nan",
                  "wk70": "nan",
                  "wk71": "nan",
                  "wk72": "nan",
                  "wk73": "nan",
                  "wk74": "nan",
                  "wk75": "nan",
                  "wk76": "nan",
                  "_deepnote_index_column": 3
                },
                {
                  "year": 2000,
                  "artist": "504 Boyz",
                  "track": "Wobble Wobble",
                  "time": "3:35",
                  "date.entered": "2000-04-15",
                  "wk1": 57,
                  "wk2": 34,
                  "wk3": 25,
                  "wk4": "17.0",
                  "wk5": "17.0",
                  "wk6": "31.0",
                  "wk7": "36.0",
                  "wk8": "49.0",
                  "wk9": "53.0",
                  "wk10": "57.0",
                  "wk11": "64.0",
                  "wk12": "70.0",
                  "wk13": "75.0",
                  "wk14": "76.0",
                  "wk15": "78.0",
                  "wk16": "85.0",
                  "wk17": "92.0",
                  "wk18": "96.0",
                  "wk19": "nan",
                  "wk20": "nan",
                  "wk21": "nan",
                  "wk22": "nan",
                  "wk23": "nan",
                  "wk24": "nan",
                  "wk25": "nan",
                  "wk26": "nan",
                  "wk27": "nan",
                  "wk28": "nan",
                  "wk29": "nan",
                  "wk30": "nan",
                  "wk31": "nan",
                  "wk32": "nan",
                  "wk33": "nan",
                  "wk34": "nan",
                  "wk35": "nan",
                  "wk36": "nan",
                  "wk37": "nan",
                  "wk38": "nan",
                  "wk39": "nan",
                  "wk40": "nan",
                  "wk41": "nan",
                  "wk42": "nan",
                  "wk43": "nan",
                  "wk44": "nan",
                  "wk45": "nan",
                  "wk46": "nan",
                  "wk47": "nan",
                  "wk48": "nan",
                  "wk49": "nan",
                  "wk50": "nan",
                  "wk51": "nan",
                  "wk52": "nan",
                  "wk53": "nan",
                  "wk54": "nan",
                  "wk55": "nan",
                  "wk56": "nan",
                  "wk57": "nan",
                  "wk58": "nan",
                  "wk59": "nan",
                  "wk60": "nan",
                  "wk61": "nan",
                  "wk62": "nan",
                  "wk63": "nan",
                  "wk64": "nan",
                  "wk65": "nan",
                  "wk66": "nan",
                  "wk67": "nan",
                  "wk68": "nan",
                  "wk69": "nan",
                  "wk70": "nan",
                  "wk71": "nan",
                  "wk72": "nan",
                  "wk73": "nan",
                  "wk74": "nan",
                  "wk75": "nan",
                  "wk76": "nan",
                  "_deepnote_index_column": 4
                },
                {
                  "year": 2000,
                  "artist": "98^0",
                  "track": "Give Me Just One Nig...",
                  "time": "3:24",
                  "date.entered": "2000-08-19",
                  "wk1": 51,
                  "wk2": 39,
                  "wk3": 34,
                  "wk4": "26.0",
                  "wk5": "26.0",
                  "wk6": "19.0",
                  "wk7": "2.0",
                  "wk8": "2.0",
                  "wk9": "3.0",
                  "wk10": "6.0",
                  "wk11": "7.0",
                  "wk12": "22.0",
                  "wk13": "29.0",
                  "wk14": "36.0",
                  "wk15": "47.0",
                  "wk16": "67.0",
                  "wk17": "66.0",
                  "wk18": "84.0",
                  "wk19": "93.0",
                  "wk20": "94.0",
                  "wk21": "nan",
                  "wk22": "nan",
                  "wk23": "nan",
                  "wk24": "nan",
                  "wk25": "nan",
                  "wk26": "nan",
                  "wk27": "nan",
                  "wk28": "nan",
                  "wk29": "nan",
                  "wk30": "nan",
                  "wk31": "nan",
                  "wk32": "nan",
                  "wk33": "nan",
                  "wk34": "nan",
                  "wk35": "nan",
                  "wk36": "nan",
                  "wk37": "nan",
                  "wk38": "nan",
                  "wk39": "nan",
                  "wk40": "nan",
                  "wk41": "nan",
                  "wk42": "nan",
                  "wk43": "nan",
                  "wk44": "nan",
                  "wk45": "nan",
                  "wk46": "nan",
                  "wk47": "nan",
                  "wk48": "nan",
                  "wk49": "nan",
                  "wk50": "nan",
                  "wk51": "nan",
                  "wk52": "nan",
                  "wk53": "nan",
                  "wk54": "nan",
                  "wk55": "nan",
                  "wk56": "nan",
                  "wk57": "nan",
                  "wk58": "nan",
                  "wk59": "nan",
                  "wk60": "nan",
                  "wk61": "nan",
                  "wk62": "nan",
                  "wk63": "nan",
                  "wk64": "nan",
                  "wk65": "nan",
                  "wk66": "nan",
                  "wk67": "nan",
                  "wk68": "nan",
                  "wk69": "nan",
                  "wk70": "nan",
                  "wk71": "nan",
                  "wk72": "nan",
                  "wk73": "nan",
                  "wk74": "nan",
                  "wk75": "nan",
                  "wk76": "nan",
                  "_deepnote_index_column": 5
                }
              ],
              "rows_bottom": [
                {
                  "year": 2000,
                  "artist": "Wright, Chely",
                  "track": "It Was",
                  "time": "3:51",
                  "date.entered": "2000-03-04",
                  "wk1": 86,
                  "wk2": 78,
                  "wk3": "75.0",
                  "wk4": "72.0",
                  "wk5": "71.0",
                  "wk6": "69.0",
                  "wk7": "64.0",
                  "wk8": "75.0",
                  "wk9": "85.0",
                  "wk10": "98.0",
                  "wk11": "nan",
                  "wk12": "nan",
                  "wk13": "nan",
                  "wk14": "nan",
                  "wk15": "nan",
                  "wk16": "nan",
                  "wk17": "nan",
                  "wk18": "nan",
                  "wk19": "nan",
                  "wk20": "nan",
                  "wk21": "nan",
                  "wk22": "nan",
                  "wk23": "nan",
                  "wk24": "nan",
                  "wk25": "nan",
                  "wk26": "nan",
                  "wk27": "nan",
                  "wk28": "nan",
                  "wk29": "nan",
                  "wk30": "nan",
                  "wk31": "nan",
                  "wk32": "nan",
                  "wk33": "nan",
                  "wk34": "nan",
                  "wk35": "nan",
                  "wk36": "nan",
                  "wk37": "nan",
                  "wk38": "nan",
                  "wk39": "nan",
                  "wk40": "nan",
                  "wk41": "nan",
                  "wk42": "nan",
                  "wk43": "nan",
                  "wk44": "nan",
                  "wk45": "nan",
                  "wk46": "nan",
                  "wk47": "nan",
                  "wk48": "nan",
                  "wk49": "nan",
                  "wk50": "nan",
                  "wk51": "nan",
                  "wk52": "nan",
                  "wk53": "nan",
                  "wk54": "nan",
                  "wk55": "nan",
                  "wk56": "nan",
                  "wk57": "nan",
                  "wk58": "nan",
                  "wk59": "nan",
                  "wk60": "nan",
                  "wk61": "nan",
                  "wk62": "nan",
                  "wk63": "nan",
                  "wk64": "nan",
                  "wk65": "nan",
                  "wk66": "nan",
                  "wk67": "nan",
                  "wk68": "nan",
                  "wk69": "nan",
                  "wk70": "nan",
                  "wk71": "nan",
                  "wk72": "nan",
                  "wk73": "nan",
                  "wk74": "nan",
                  "wk75": "nan",
                  "wk76": "nan",
                  "_deepnote_index_column": 311
                },
                {
                  "year": 2000,
                  "artist": "Yankee Grey",
                  "track": "Another Nine Minutes",
                  "time": "3:10",
                  "date.entered": "2000-04-29",
                  "wk1": 86,
                  "wk2": 83,
                  "wk3": "77.0",
                  "wk4": "74.0",
                  "wk5": "83.0",
                  "wk6": "79.0",
                  "wk7": "88.0",
                  "wk8": "95.0",
                  "wk9": "nan",
                  "wk10": "nan",
                  "wk11": "nan",
                  "wk12": "nan",
                  "wk13": "nan",
                  "wk14": "nan",
                  "wk15": "nan",
                  "wk16": "nan",
                  "wk17": "nan",
                  "wk18": "nan",
                  "wk19": "nan",
                  "wk20": "nan",
                  "wk21": "nan",
                  "wk22": "nan",
                  "wk23": "nan",
                  "wk24": "nan",
                  "wk25": "nan",
                  "wk26": "nan",
                  "wk27": "nan",
                  "wk28": "nan",
                  "wk29": "nan",
                  "wk30": "nan",
                  "wk31": "nan",
                  "wk32": "nan",
                  "wk33": "nan",
                  "wk34": "nan",
                  "wk35": "nan",
                  "wk36": "nan",
                  "wk37": "nan",
                  "wk38": "nan",
                  "wk39": "nan",
                  "wk40": "nan",
                  "wk41": "nan",
                  "wk42": "nan",
                  "wk43": "nan",
                  "wk44": "nan",
                  "wk45": "nan",
                  "wk46": "nan",
                  "wk47": "nan",
                  "wk48": "nan",
                  "wk49": "nan",
                  "wk50": "nan",
                  "wk51": "nan",
                  "wk52": "nan",
                  "wk53": "nan",
                  "wk54": "nan",
                  "wk55": "nan",
                  "wk56": "nan",
                  "wk57": "nan",
                  "wk58": "nan",
                  "wk59": "nan",
                  "wk60": "nan",
                  "wk61": "nan",
                  "wk62": "nan",
                  "wk63": "nan",
                  "wk64": "nan",
                  "wk65": "nan",
                  "wk66": "nan",
                  "wk67": "nan",
                  "wk68": "nan",
                  "wk69": "nan",
                  "wk70": "nan",
                  "wk71": "nan",
                  "wk72": "nan",
                  "wk73": "nan",
                  "wk74": "nan",
                  "wk75": "nan",
                  "wk76": "nan",
                  "_deepnote_index_column": 312
                },
                {
                  "year": 2000,
                  "artist": "Yearwood, Trisha",
                  "track": "Real Live Woman",
                  "time": "3:55",
                  "date.entered": "2000-04-01",
                  "wk1": 85,
                  "wk2": 83,
                  "wk3": "83.0",
                  "wk4": "82.0",
                  "wk5": "81.0",
                  "wk6": "91.0",
                  "wk7": "nan",
                  "wk8": "nan",
                  "wk9": "nan",
                  "wk10": "nan",
                  "wk11": "nan",
                  "wk12": "nan",
                  "wk13": "nan",
                  "wk14": "nan",
                  "wk15": "nan",
                  "wk16": "nan",
                  "wk17": "nan",
                  "wk18": "nan",
                  "wk19": "nan",
                  "wk20": "nan",
                  "wk21": "nan",
                  "wk22": "nan",
                  "wk23": "nan",
                  "wk24": "nan",
                  "wk25": "nan",
                  "wk26": "nan",
                  "wk27": "nan",
                  "wk28": "nan",
                  "wk29": "nan",
                  "wk30": "nan",
                  "wk31": "nan",
                  "wk32": "nan",
                  "wk33": "nan",
                  "wk34": "nan",
                  "wk35": "nan",
                  "wk36": "nan",
                  "wk37": "nan",
                  "wk38": "nan",
                  "wk39": "nan",
                  "wk40": "nan",
                  "wk41": "nan",
                  "wk42": "nan",
                  "wk43": "nan",
                  "wk44": "nan",
                  "wk45": "nan",
                  "wk46": "nan",
                  "wk47": "nan",
                  "wk48": "nan",
                  "wk49": "nan",
                  "wk50": "nan",
                  "wk51": "nan",
                  "wk52": "nan",
                  "wk53": "nan",
                  "wk54": "nan",
                  "wk55": "nan",
                  "wk56": "nan",
                  "wk57": "nan",
                  "wk58": "nan",
                  "wk59": "nan",
                  "wk60": "nan",
                  "wk61": "nan",
                  "wk62": "nan",
                  "wk63": "nan",
                  "wk64": "nan",
                  "wk65": "nan",
                  "wk66": "nan",
                  "wk67": "nan",
                  "wk68": "nan",
                  "wk69": "nan",
                  "wk70": "nan",
                  "wk71": "nan",
                  "wk72": "nan",
                  "wk73": "nan",
                  "wk74": "nan",
                  "wk75": "nan",
                  "wk76": "nan",
                  "_deepnote_index_column": 313
                },
                {
                  "year": 2000,
                  "artist": "Ying Yang Twins",
                  "track": "Whistle While You Tw...",
                  "time": "4:19",
                  "date.entered": "2000-03-18",
                  "wk1": 95,
                  "wk2": 94,
                  "wk3": "91.0",
                  "wk4": "85.0",
                  "wk5": "84.0",
                  "wk6": "78.0",
                  "wk7": "74.0",
                  "wk8": "78.0",
                  "wk9": "85.0",
                  "wk10": "89.0",
                  "wk11": "97.0",
                  "wk12": "96.0",
                  "wk13": "99.0",
                  "wk14": "99.0",
                  "wk15": "nan",
                  "wk16": "nan",
                  "wk17": "nan",
                  "wk18": "nan",
                  "wk19": "nan",
                  "wk20": "nan",
                  "wk21": "nan",
                  "wk22": "nan",
                  "wk23": "nan",
                  "wk24": "nan",
                  "wk25": "nan",
                  "wk26": "nan",
                  "wk27": "nan",
                  "wk28": "nan",
                  "wk29": "nan",
                  "wk30": "nan",
                  "wk31": "nan",
                  "wk32": "nan",
                  "wk33": "nan",
                  "wk34": "nan",
                  "wk35": "nan",
                  "wk36": "nan",
                  "wk37": "nan",
                  "wk38": "nan",
                  "wk39": "nan",
                  "wk40": "nan",
                  "wk41": "nan",
                  "wk42": "nan",
                  "wk43": "nan",
                  "wk44": "nan",
                  "wk45": "nan",
                  "wk46": "nan",
                  "wk47": "nan",
                  "wk48": "nan",
                  "wk49": "nan",
                  "wk50": "nan",
                  "wk51": "nan",
                  "wk52": "nan",
                  "wk53": "nan",
                  "wk54": "nan",
                  "wk55": "nan",
                  "wk56": "nan",
                  "wk57": "nan",
                  "wk58": "nan",
                  "wk59": "nan",
                  "wk60": "nan",
                  "wk61": "nan",
                  "wk62": "nan",
                  "wk63": "nan",
                  "wk64": "nan",
                  "wk65": "nan",
                  "wk66": "nan",
                  "wk67": "nan",
                  "wk68": "nan",
                  "wk69": "nan",
                  "wk70": "nan",
                  "wk71": "nan",
                  "wk72": "nan",
                  "wk73": "nan",
                  "wk74": "nan",
                  "wk75": "nan",
                  "wk76": "nan",
                  "_deepnote_index_column": 314
                },
                {
                  "year": 2000,
                  "artist": "Zombie Nation",
                  "track": "Kernkraft 400",
                  "time": "3:30",
                  "date.entered": "2000-09-02",
                  "wk1": 99,
                  "wk2": 99,
                  "wk3": "nan",
                  "wk4": "nan",
                  "wk5": "nan",
                  "wk6": "nan",
                  "wk7": "nan",
                  "wk8": "nan",
                  "wk9": "nan",
                  "wk10": "nan",
                  "wk11": "nan",
                  "wk12": "nan",
                  "wk13": "nan",
                  "wk14": "nan",
                  "wk15": "nan",
                  "wk16": "nan",
                  "wk17": "nan",
                  "wk18": "nan",
                  "wk19": "nan",
                  "wk20": "nan",
                  "wk21": "nan",
                  "wk22": "nan",
                  "wk23": "nan",
                  "wk24": "nan",
                  "wk25": "nan",
                  "wk26": "nan",
                  "wk27": "nan",
                  "wk28": "nan",
                  "wk29": "nan",
                  "wk30": "nan",
                  "wk31": "nan",
                  "wk32": "nan",
                  "wk33": "nan",
                  "wk34": "nan",
                  "wk35": "nan",
                  "wk36": "nan",
                  "wk37": "nan",
                  "wk38": "nan",
                  "wk39": "nan",
                  "wk40": "nan",
                  "wk41": "nan",
                  "wk42": "nan",
                  "wk43": "nan",
                  "wk44": "nan",
                  "wk45": "nan",
                  "wk46": "nan",
                  "wk47": "nan",
                  "wk48": "nan",
                  "wk49": "nan",
                  "wk50": "nan",
                  "wk51": "nan",
                  "wk52": "nan",
                  "wk53": "nan",
                  "wk54": "nan",
                  "wk55": "nan",
                  "wk56": "nan",
                  "wk57": "nan",
                  "wk58": "nan",
                  "wk59": "nan",
                  "wk60": "nan",
                  "wk61": "nan",
                  "wk62": "nan",
                  "wk63": "nan",
                  "wk64": "nan",
                  "wk65": "nan",
                  "wk66": "nan",
                  "wk67": "nan",
                  "wk68": "nan",
                  "wk69": "nan",
                  "wk70": "nan",
                  "wk71": "nan",
                  "wk72": "nan",
                  "wk73": "nan",
                  "wk74": "nan",
                  "wk75": "nan",
                  "wk76": "nan",
                  "_deepnote_index_column": 315
                },
                {
                  "year": 2000,
                  "artist": "matchbox twenty",
                  "track": "Bent",
                  "time": "4:12",
                  "date.entered": "2000-04-29",
                  "wk1": 60,
                  "wk2": 37,
                  "wk3": "29.0",
                  "wk4": "24.0",
                  "wk5": "22.0",
                  "wk6": "21.0",
                  "wk7": "18.0",
                  "wk8": "16.0",
                  "wk9": "13.0",
                  "wk10": "12.0",
                  "wk11": "8.0",
                  "wk12": "6.0",
                  "wk13": "1.0",
                  "wk14": "2.0",
                  "wk15": "3.0",
                  "wk16": "2.0",
                  "wk17": "2.0",
                  "wk18": "3.0",
                  "wk19": "4.0",
                  "wk20": "5.0",
                  "wk21": "4.0",
                  "wk22": "4.0",
                  "wk23": "6.0",
                  "wk24": "9.0",
                  "wk25": "12.0",
                  "wk26": "13.0",
                  "wk27": "19.0",
                  "wk28": "20.0",
                  "wk29": "20.0",
                  "wk30": "24.0",
                  "wk31": "29.0",
                  "wk32": "28.0",
                  "wk33": "27.0",
                  "wk34": "30.0",
                  "wk35": "33.0",
                  "wk36": "37.0",
                  "wk37": "38.0",
                  "wk38": "38.0",
                  "wk39": "48.0",
                  "wk40": "nan",
                  "wk41": "nan",
                  "wk42": "nan",
                  "wk43": "nan",
                  "wk44": "nan",
                  "wk45": "nan",
                  "wk46": "nan",
                  "wk47": "nan",
                  "wk48": "nan",
                  "wk49": "nan",
                  "wk50": "nan",
                  "wk51": "nan",
                  "wk52": "nan",
                  "wk53": "nan",
                  "wk54": "nan",
                  "wk55": "nan",
                  "wk56": "nan",
                  "wk57": "nan",
                  "wk58": "nan",
                  "wk59": "nan",
                  "wk60": "nan",
                  "wk61": "nan",
                  "wk62": "nan",
                  "wk63": "nan",
                  "wk64": "nan",
                  "wk65": "nan",
                  "wk66": "nan",
                  "wk67": "nan",
                  "wk68": "nan",
                  "wk69": "nan",
                  "wk70": "nan",
                  "wk71": "nan",
                  "wk72": "nan",
                  "wk73": "nan",
                  "wk74": "nan",
                  "wk75": "nan",
                  "wk76": "nan",
                  "_deepnote_index_column": 316
                }
              ]
            },
            "text/plain": "     year            artist                    track  time date.entered  wk1  \\\n0    2000             2 Pac  Baby Don't Cry (Keep...  4:22   2000-02-26   87   \n1    2000           2Ge+her  The Hardest Part Of ...  3:15   2000-09-02   91   \n2    2000      3 Doors Down               Kryptonite  3:53   2000-04-08   81   \n3    2000      3 Doors Down                    Loser  4:24   2000-10-21   76   \n4    2000          504 Boyz            Wobble Wobble  3:35   2000-04-15   57   \n..    ...               ...                      ...   ...          ...  ...   \n312  2000       Yankee Grey     Another Nine Minutes  3:10   2000-04-29   86   \n313  2000  Yearwood, Trisha          Real Live Woman  3:55   2000-04-01   85   \n314  2000   Ying Yang Twins  Whistle While You Tw...  4:19   2000-03-18   95   \n315  2000     Zombie Nation            Kernkraft 400  3:30   2000-09-02   99   \n316  2000   matchbox twenty                     Bent  4:12   2000-04-29   60   \n\n      wk2   wk3   wk4   wk5  ...  wk67  wk68  wk69  wk70  wk71  wk72  wk73  \\\n0    82.0  72.0  77.0  87.0  ...   NaN   NaN   NaN   NaN   NaN   NaN   NaN   \n1    87.0  92.0   NaN   NaN  ...   NaN   NaN   NaN   NaN   NaN   NaN   NaN   \n2    70.0  68.0  67.0  66.0  ...   NaN   NaN   NaN   NaN   NaN   NaN   NaN   \n3    76.0  72.0  69.0  67.0  ...   NaN   NaN   NaN   NaN   NaN   NaN   NaN   \n4    34.0  25.0  17.0  17.0  ...   NaN   NaN   NaN   NaN   NaN   NaN   NaN   \n..    ...   ...   ...   ...  ...   ...   ...   ...   ...   ...   ...   ...   \n312  83.0  77.0  74.0  83.0  ...   NaN   NaN   NaN   NaN   NaN   NaN   NaN   \n313  83.0  83.0  82.0  81.0  ...   NaN   NaN   NaN   NaN   NaN   NaN   NaN   \n314  94.0  91.0  85.0  84.0  ...   NaN   NaN   NaN   NaN   NaN   NaN   NaN   \n315  99.0   NaN   NaN   NaN  ...   NaN   NaN   NaN   NaN   NaN   NaN   NaN   \n316  37.0  29.0  24.0  22.0  ...   NaN   NaN   NaN   NaN   NaN   NaN   NaN   \n\n     wk74  wk75  wk76  \n0     NaN   NaN   NaN  \n1     NaN   NaN   NaN  \n2     NaN   NaN   NaN  \n3     NaN   NaN   NaN  \n4     NaN   NaN   NaN  \n..    ...   ...   ...  \n312   NaN   NaN   NaN  \n313   NaN   NaN   NaN  \n314   NaN   NaN   NaN  \n315   NaN   NaN   NaN  \n316   NaN   NaN   NaN  \n\n[317 rows x 81 columns]",
            "text/html": "<div>\n<style scoped>\n    .dataframe tbody tr th:only-of-type {\n        vertical-align: middle;\n    }\n\n    .dataframe tbody tr th {\n        vertical-align: top;\n    }\n\n    .dataframe thead th {\n        text-align: right;\n    }\n</style>\n<table border=\"1\" class=\"dataframe\">\n  <thead>\n    <tr style=\"text-align: right;\">\n      <th></th>\n      <th>year</th>\n      <th>artist</th>\n      <th>track</th>\n      <th>time</th>\n      <th>date.entered</th>\n      <th>wk1</th>\n      <th>wk2</th>\n      <th>wk3</th>\n      <th>wk4</th>\n      <th>wk5</th>\n      <th>...</th>\n      <th>wk67</th>\n      <th>wk68</th>\n      <th>wk69</th>\n      <th>wk70</th>\n      <th>wk71</th>\n      <th>wk72</th>\n      <th>wk73</th>\n      <th>wk74</th>\n      <th>wk75</th>\n      <th>wk76</th>\n    </tr>\n  </thead>\n  <tbody>\n    <tr>\n      <th>0</th>\n      <td>2000</td>\n      <td>2 Pac</td>\n      <td>Baby Don't Cry (Keep...</td>\n      <td>4:22</td>\n      <td>2000-02-26</td>\n      <td>87</td>\n      <td>82.0</td>\n      <td>72.0</td>\n      <td>77.0</td>\n      <td>87.0</td>\n      <td>...</td>\n      <td>NaN</td>\n      <td>NaN</td>\n      <td>NaN</td>\n      <td>NaN</td>\n      <td>NaN</td>\n      <td>NaN</td>\n      <td>NaN</td>\n      <td>NaN</td>\n      <td>NaN</td>\n      <td>NaN</td>\n    </tr>\n    <tr>\n      <th>1</th>\n      <td>2000</td>\n      <td>2Ge+her</td>\n      <td>The Hardest Part Of ...</td>\n      <td>3:15</td>\n      <td>2000-09-02</td>\n      <td>91</td>\n      <td>87.0</td>\n      <td>92.0</td>\n      <td>NaN</td>\n      <td>NaN</td>\n      <td>...</td>\n      <td>NaN</td>\n      <td>NaN</td>\n      <td>NaN</td>\n      <td>NaN</td>\n      <td>NaN</td>\n      <td>NaN</td>\n      <td>NaN</td>\n      <td>NaN</td>\n      <td>NaN</td>\n      <td>NaN</td>\n    </tr>\n    <tr>\n      <th>2</th>\n      <td>2000</td>\n      <td>3 Doors Down</td>\n      <td>Kryptonite</td>\n      <td>3:53</td>\n      <td>2000-04-08</td>\n      <td>81</td>\n      <td>70.0</td>\n      <td>68.0</td>\n      <td>67.0</td>\n      <td>66.0</td>\n      <td>...</td>\n      <td>NaN</td>\n      <td>NaN</td>\n      <td>NaN</td>\n      <td>NaN</td>\n      <td>NaN</td>\n      <td>NaN</td>\n      <td>NaN</td>\n      <td>NaN</td>\n      <td>NaN</td>\n      <td>NaN</td>\n    </tr>\n    <tr>\n      <th>3</th>\n      <td>2000</td>\n      <td>3 Doors Down</td>\n      <td>Loser</td>\n      <td>4:24</td>\n      <td>2000-10-21</td>\n      <td>76</td>\n      <td>76.0</td>\n      <td>72.0</td>\n      <td>69.0</td>\n      <td>67.0</td>\n      <td>...</td>\n      <td>NaN</td>\n      <td>NaN</td>\n      <td>NaN</td>\n      <td>NaN</td>\n      <td>NaN</td>\n      <td>NaN</td>\n      <td>NaN</td>\n      <td>NaN</td>\n      <td>NaN</td>\n      <td>NaN</td>\n    </tr>\n    <tr>\n      <th>4</th>\n      <td>2000</td>\n      <td>504 Boyz</td>\n      <td>Wobble Wobble</td>\n      <td>3:35</td>\n      <td>2000-04-15</td>\n      <td>57</td>\n      <td>34.0</td>\n      <td>25.0</td>\n      <td>17.0</td>\n      <td>17.0</td>\n      <td>...</td>\n      <td>NaN</td>\n      <td>NaN</td>\n      <td>NaN</td>\n      <td>NaN</td>\n      <td>NaN</td>\n      <td>NaN</td>\n      <td>NaN</td>\n      <td>NaN</td>\n      <td>NaN</td>\n      <td>NaN</td>\n    </tr>\n    <tr>\n      <th>...</th>\n      <td>...</td>\n      <td>...</td>\n      <td>...</td>\n      <td>...</td>\n      <td>...</td>\n      <td>...</td>\n      <td>...</td>\n      <td>...</td>\n      <td>...</td>\n      <td>...</td>\n      <td>...</td>\n      <td>...</td>\n      <td>...</td>\n      <td>...</td>\n      <td>...</td>\n      <td>...</td>\n      <td>...</td>\n      <td>...</td>\n      <td>...</td>\n      <td>...</td>\n      <td>...</td>\n    </tr>\n    <tr>\n      <th>312</th>\n      <td>2000</td>\n      <td>Yankee Grey</td>\n      <td>Another Nine Minutes</td>\n      <td>3:10</td>\n      <td>2000-04-29</td>\n      <td>86</td>\n      <td>83.0</td>\n      <td>77.0</td>\n      <td>74.0</td>\n      <td>83.0</td>\n      <td>...</td>\n      <td>NaN</td>\n      <td>NaN</td>\n      <td>NaN</td>\n      <td>NaN</td>\n      <td>NaN</td>\n      <td>NaN</td>\n      <td>NaN</td>\n      <td>NaN</td>\n      <td>NaN</td>\n      <td>NaN</td>\n    </tr>\n    <tr>\n      <th>313</th>\n      <td>2000</td>\n      <td>Yearwood, Trisha</td>\n      <td>Real Live Woman</td>\n      <td>3:55</td>\n      <td>2000-04-01</td>\n      <td>85</td>\n      <td>83.0</td>\n      <td>83.0</td>\n      <td>82.0</td>\n      <td>81.0</td>\n      <td>...</td>\n      <td>NaN</td>\n      <td>NaN</td>\n      <td>NaN</td>\n      <td>NaN</td>\n      <td>NaN</td>\n      <td>NaN</td>\n      <td>NaN</td>\n      <td>NaN</td>\n      <td>NaN</td>\n      <td>NaN</td>\n    </tr>\n    <tr>\n      <th>314</th>\n      <td>2000</td>\n      <td>Ying Yang Twins</td>\n      <td>Whistle While You Tw...</td>\n      <td>4:19</td>\n      <td>2000-03-18</td>\n      <td>95</td>\n      <td>94.0</td>\n      <td>91.0</td>\n      <td>85.0</td>\n      <td>84.0</td>\n      <td>...</td>\n      <td>NaN</td>\n      <td>NaN</td>\n      <td>NaN</td>\n      <td>NaN</td>\n      <td>NaN</td>\n      <td>NaN</td>\n      <td>NaN</td>\n      <td>NaN</td>\n      <td>NaN</td>\n      <td>NaN</td>\n    </tr>\n    <tr>\n      <th>315</th>\n      <td>2000</td>\n      <td>Zombie Nation</td>\n      <td>Kernkraft 400</td>\n      <td>3:30</td>\n      <td>2000-09-02</td>\n      <td>99</td>\n      <td>99.0</td>\n      <td>NaN</td>\n      <td>NaN</td>\n      <td>NaN</td>\n      <td>...</td>\n      <td>NaN</td>\n      <td>NaN</td>\n      <td>NaN</td>\n      <td>NaN</td>\n      <td>NaN</td>\n      <td>NaN</td>\n      <td>NaN</td>\n      <td>NaN</td>\n      <td>NaN</td>\n      <td>NaN</td>\n    </tr>\n    <tr>\n      <th>316</th>\n      <td>2000</td>\n      <td>matchbox twenty</td>\n      <td>Bent</td>\n      <td>4:12</td>\n      <td>2000-04-29</td>\n      <td>60</td>\n      <td>37.0</td>\n      <td>29.0</td>\n      <td>24.0</td>\n      <td>22.0</td>\n      <td>...</td>\n      <td>NaN</td>\n      <td>NaN</td>\n      <td>NaN</td>\n      <td>NaN</td>\n      <td>NaN</td>\n      <td>NaN</td>\n      <td>NaN</td>\n      <td>NaN</td>\n      <td>NaN</td>\n      <td>NaN</td>\n    </tr>\n  </tbody>\n</table>\n<p>317 rows × 81 columns</p>\n</div>"
          },
          "metadata": {}
        }
      ]
    },
    {
      "cell_type": "code",
      "metadata": {
        "deepnote_to_be_reexecuted": false,
        "execution_millis": 767,
        "execution_start": 1619967636705,
        "source_hash": "631c4d59",
        "cell_id": "00038-7050dff1-2f05-4618-850b-022279af4194",
        "deepnote_cell_type": "code"
      },
      "source": "billboard.head()",
      "execution_count": 36,
      "outputs": [
        {
          "output_type": "execute_result",
          "execution_count": 36,
          "data": {
            "application/vnd.deepnote.dataframe.v2+json": {
              "row_count": 5,
              "column_count": 81,
              "columns": [
                {
                  "name": "year",
                  "dtype": "int64",
                  "stats": {
                    "unique_count": 1,
                    "nan_count": 0,
                    "min": "2000",
                    "max": "2000",
                    "histogram": [
                      {
                        "bin_start": 1999.5,
                        "bin_end": 1999.6,
                        "count": 0
                      },
                      {
                        "bin_start": 1999.6,
                        "bin_end": 1999.7,
                        "count": 0
                      },
                      {
                        "bin_start": 1999.7,
                        "bin_end": 1999.8,
                        "count": 0
                      },
                      {
                        "bin_start": 1999.8,
                        "bin_end": 1999.9,
                        "count": 0
                      },
                      {
                        "bin_start": 1999.9,
                        "bin_end": 2000,
                        "count": 0
                      },
                      {
                        "bin_start": 2000,
                        "bin_end": 2000.1,
                        "count": 5
                      },
                      {
                        "bin_start": 2000.1,
                        "bin_end": 2000.2,
                        "count": 0
                      },
                      {
                        "bin_start": 2000.2,
                        "bin_end": 2000.3,
                        "count": 0
                      },
                      {
                        "bin_start": 2000.3,
                        "bin_end": 2000.4,
                        "count": 0
                      },
                      {
                        "bin_start": 2000.4,
                        "bin_end": 2000.5,
                        "count": 0
                      }
                    ]
                  }
                },
                {
                  "name": "artist",
                  "dtype": "object",
                  "stats": {
                    "unique_count": 4,
                    "nan_count": 0,
                    "categories": [
                      {
                        "name": "3 Doors Down",
                        "count": 2
                      },
                      {
                        "name": "2 Pac",
                        "count": 1
                      },
                      {
                        "name": "2 others",
                        "count": 2
                      }
                    ]
                  }
                },
                {
                  "name": "track",
                  "dtype": "object",
                  "stats": {
                    "unique_count": 5,
                    "nan_count": 0,
                    "categories": [
                      {
                        "name": "Baby Don't Cry (Keep...",
                        "count": 1
                      },
                      {
                        "name": "The Hardest Part Of ...",
                        "count": 1
                      },
                      {
                        "name": "3 others",
                        "count": 3
                      }
                    ]
                  }
                },
                {
                  "name": "time",
                  "dtype": "object",
                  "stats": {
                    "unique_count": 5,
                    "nan_count": 0,
                    "categories": [
                      {
                        "name": "4:22",
                        "count": 1
                      },
                      {
                        "name": "3:15",
                        "count": 1
                      },
                      {
                        "name": "3 others",
                        "count": 3
                      }
                    ]
                  }
                },
                {
                  "name": "date.entered",
                  "dtype": "object",
                  "stats": {
                    "unique_count": 5,
                    "nan_count": 0,
                    "categories": [
                      {
                        "name": "2000-02-26",
                        "count": 1
                      },
                      {
                        "name": "2000-09-02",
                        "count": 1
                      },
                      {
                        "name": "3 others",
                        "count": 3
                      }
                    ]
                  }
                },
                {
                  "name": "wk1",
                  "dtype": "int64",
                  "stats": {
                    "unique_count": 5,
                    "nan_count": 0,
                    "min": "57",
                    "max": "91",
                    "histogram": [
                      {
                        "bin_start": 57,
                        "bin_end": 60.4,
                        "count": 1
                      },
                      {
                        "bin_start": 60.4,
                        "bin_end": 63.8,
                        "count": 0
                      },
                      {
                        "bin_start": 63.8,
                        "bin_end": 67.2,
                        "count": 0
                      },
                      {
                        "bin_start": 67.2,
                        "bin_end": 70.6,
                        "count": 0
                      },
                      {
                        "bin_start": 70.6,
                        "bin_end": 74,
                        "count": 0
                      },
                      {
                        "bin_start": 74,
                        "bin_end": 77.4,
                        "count": 1
                      },
                      {
                        "bin_start": 77.4,
                        "bin_end": 80.8,
                        "count": 0
                      },
                      {
                        "bin_start": 80.8,
                        "bin_end": 84.2,
                        "count": 1
                      },
                      {
                        "bin_start": 84.2,
                        "bin_end": 87.6,
                        "count": 1
                      },
                      {
                        "bin_start": 87.6,
                        "bin_end": 91,
                        "count": 1
                      }
                    ]
                  }
                },
                {
                  "name": "wk2",
                  "dtype": "float64",
                  "stats": {
                    "unique_count": 5,
                    "nan_count": 0,
                    "min": "34.0",
                    "max": "87.0",
                    "histogram": [
                      {
                        "bin_start": 34,
                        "bin_end": 39.3,
                        "count": 1
                      },
                      {
                        "bin_start": 39.3,
                        "bin_end": 44.6,
                        "count": 0
                      },
                      {
                        "bin_start": 44.6,
                        "bin_end": 49.9,
                        "count": 0
                      },
                      {
                        "bin_start": 49.9,
                        "bin_end": 55.2,
                        "count": 0
                      },
                      {
                        "bin_start": 55.2,
                        "bin_end": 60.5,
                        "count": 0
                      },
                      {
                        "bin_start": 60.5,
                        "bin_end": 65.8,
                        "count": 0
                      },
                      {
                        "bin_start": 65.8,
                        "bin_end": 71.1,
                        "count": 1
                      },
                      {
                        "bin_start": 71.1,
                        "bin_end": 76.4,
                        "count": 1
                      },
                      {
                        "bin_start": 76.4,
                        "bin_end": 81.69999999999999,
                        "count": 0
                      },
                      {
                        "bin_start": 81.69999999999999,
                        "bin_end": 87,
                        "count": 2
                      }
                    ]
                  }
                },
                {
                  "name": "wk3",
                  "dtype": "float64",
                  "stats": {
                    "unique_count": 4,
                    "nan_count": 0,
                    "min": "25.0",
                    "max": "92.0",
                    "histogram": [
                      {
                        "bin_start": 25,
                        "bin_end": 31.7,
                        "count": 1
                      },
                      {
                        "bin_start": 31.7,
                        "bin_end": 38.4,
                        "count": 0
                      },
                      {
                        "bin_start": 38.4,
                        "bin_end": 45.1,
                        "count": 0
                      },
                      {
                        "bin_start": 45.1,
                        "bin_end": 51.8,
                        "count": 0
                      },
                      {
                        "bin_start": 51.8,
                        "bin_end": 58.5,
                        "count": 0
                      },
                      {
                        "bin_start": 58.5,
                        "bin_end": 65.2,
                        "count": 0
                      },
                      {
                        "bin_start": 65.2,
                        "bin_end": 71.9,
                        "count": 1
                      },
                      {
                        "bin_start": 71.9,
                        "bin_end": 78.6,
                        "count": 2
                      },
                      {
                        "bin_start": 78.6,
                        "bin_end": 85.30000000000001,
                        "count": 0
                      },
                      {
                        "bin_start": 85.30000000000001,
                        "bin_end": 92,
                        "count": 1
                      }
                    ]
                  }
                },
                {
                  "name": "wk4",
                  "dtype": "float64",
                  "stats": {
                    "unique_count": 4,
                    "nan_count": 1,
                    "min": "17.0",
                    "max": "77.0",
                    "histogram": [
                      {
                        "bin_start": 17,
                        "bin_end": 23,
                        "count": 1
                      },
                      {
                        "bin_start": 23,
                        "bin_end": 29,
                        "count": 0
                      },
                      {
                        "bin_start": 29,
                        "bin_end": 35,
                        "count": 0
                      },
                      {
                        "bin_start": 35,
                        "bin_end": 41,
                        "count": 0
                      },
                      {
                        "bin_start": 41,
                        "bin_end": 47,
                        "count": 0
                      },
                      {
                        "bin_start": 47,
                        "bin_end": 53,
                        "count": 0
                      },
                      {
                        "bin_start": 53,
                        "bin_end": 59,
                        "count": 0
                      },
                      {
                        "bin_start": 59,
                        "bin_end": 65,
                        "count": 0
                      },
                      {
                        "bin_start": 65,
                        "bin_end": 71,
                        "count": 2
                      },
                      {
                        "bin_start": 71,
                        "bin_end": 77,
                        "count": 1
                      }
                    ]
                  }
                },
                {
                  "name": "wk5",
                  "dtype": "float64",
                  "stats": {
                    "unique_count": 4,
                    "nan_count": 1,
                    "min": "17.0",
                    "max": "87.0",
                    "histogram": [
                      {
                        "bin_start": 17,
                        "bin_end": 24,
                        "count": 1
                      },
                      {
                        "bin_start": 24,
                        "bin_end": 31,
                        "count": 0
                      },
                      {
                        "bin_start": 31,
                        "bin_end": 38,
                        "count": 0
                      },
                      {
                        "bin_start": 38,
                        "bin_end": 45,
                        "count": 0
                      },
                      {
                        "bin_start": 45,
                        "bin_end": 52,
                        "count": 0
                      },
                      {
                        "bin_start": 52,
                        "bin_end": 59,
                        "count": 0
                      },
                      {
                        "bin_start": 59,
                        "bin_end": 66,
                        "count": 0
                      },
                      {
                        "bin_start": 66,
                        "bin_end": 73,
                        "count": 2
                      },
                      {
                        "bin_start": 73,
                        "bin_end": 80,
                        "count": 0
                      },
                      {
                        "bin_start": 80,
                        "bin_end": 87,
                        "count": 1
                      }
                    ]
                  }
                },
                {
                  "name": "wk6",
                  "dtype": "float64",
                  "stats": {
                    "unique_count": 4,
                    "nan_count": 1,
                    "min": "31.0",
                    "max": "94.0",
                    "histogram": [
                      {
                        "bin_start": 31,
                        "bin_end": 37.3,
                        "count": 1
                      },
                      {
                        "bin_start": 37.3,
                        "bin_end": 43.6,
                        "count": 0
                      },
                      {
                        "bin_start": 43.6,
                        "bin_end": 49.9,
                        "count": 0
                      },
                      {
                        "bin_start": 49.9,
                        "bin_end": 56.2,
                        "count": 0
                      },
                      {
                        "bin_start": 56.2,
                        "bin_end": 62.5,
                        "count": 1
                      },
                      {
                        "bin_start": 62.5,
                        "bin_end": 68.8,
                        "count": 1
                      },
                      {
                        "bin_start": 68.8,
                        "bin_end": 75.1,
                        "count": 0
                      },
                      {
                        "bin_start": 75.1,
                        "bin_end": 81.4,
                        "count": 0
                      },
                      {
                        "bin_start": 81.4,
                        "bin_end": 87.69999999999999,
                        "count": 0
                      },
                      {
                        "bin_start": 87.69999999999999,
                        "bin_end": 94,
                        "count": 1
                      }
                    ]
                  }
                },
                {
                  "name": "wk7",
                  "dtype": "float64",
                  "stats": {
                    "unique_count": 4,
                    "nan_count": 1,
                    "min": "36.0",
                    "max": "99.0",
                    "histogram": [
                      {
                        "bin_start": 36,
                        "bin_end": 42.3,
                        "count": 1
                      },
                      {
                        "bin_start": 42.3,
                        "bin_end": 48.6,
                        "count": 0
                      },
                      {
                        "bin_start": 48.6,
                        "bin_end": 54.9,
                        "count": 1
                      },
                      {
                        "bin_start": 54.9,
                        "bin_end": 61.2,
                        "count": 1
                      },
                      {
                        "bin_start": 61.2,
                        "bin_end": 67.5,
                        "count": 0
                      },
                      {
                        "bin_start": 67.5,
                        "bin_end": 73.8,
                        "count": 0
                      },
                      {
                        "bin_start": 73.8,
                        "bin_end": 80.1,
                        "count": 0
                      },
                      {
                        "bin_start": 80.1,
                        "bin_end": 86.4,
                        "count": 0
                      },
                      {
                        "bin_start": 86.4,
                        "bin_end": 92.69999999999999,
                        "count": 0
                      },
                      {
                        "bin_start": 92.69999999999999,
                        "bin_end": 99,
                        "count": 1
                      }
                    ]
                  }
                },
                {
                  "name": "wk8",
                  "dtype": "float64",
                  "stats": {
                    "unique_count": 3,
                    "nan_count": 2,
                    "min": "49.0",
                    "max": "59.0",
                    "histogram": [
                      {
                        "bin_start": 49,
                        "bin_end": 50,
                        "count": 1
                      },
                      {
                        "bin_start": 50,
                        "bin_end": 51,
                        "count": 0
                      },
                      {
                        "bin_start": 51,
                        "bin_end": 52,
                        "count": 0
                      },
                      {
                        "bin_start": 52,
                        "bin_end": 53,
                        "count": 0
                      },
                      {
                        "bin_start": 53,
                        "bin_end": 54,
                        "count": 1
                      },
                      {
                        "bin_start": 54,
                        "bin_end": 55,
                        "count": 0
                      },
                      {
                        "bin_start": 55,
                        "bin_end": 56,
                        "count": 0
                      },
                      {
                        "bin_start": 56,
                        "bin_end": 57,
                        "count": 0
                      },
                      {
                        "bin_start": 57,
                        "bin_end": 58,
                        "count": 0
                      },
                      {
                        "bin_start": 58,
                        "bin_end": 59,
                        "count": 1
                      }
                    ]
                  }
                },
                {
                  "name": "wk9",
                  "dtype": "float64",
                  "stats": {
                    "unique_count": 3,
                    "nan_count": 2,
                    "min": "51.0",
                    "max": "62.0",
                    "histogram": [
                      {
                        "bin_start": 51,
                        "bin_end": 52.1,
                        "count": 1
                      },
                      {
                        "bin_start": 52.1,
                        "bin_end": 53.2,
                        "count": 1
                      },
                      {
                        "bin_start": 53.2,
                        "bin_end": 54.3,
                        "count": 0
                      },
                      {
                        "bin_start": 54.3,
                        "bin_end": 55.4,
                        "count": 0
                      },
                      {
                        "bin_start": 55.4,
                        "bin_end": 56.5,
                        "count": 0
                      },
                      {
                        "bin_start": 56.5,
                        "bin_end": 57.6,
                        "count": 0
                      },
                      {
                        "bin_start": 57.6,
                        "bin_end": 58.7,
                        "count": 0
                      },
                      {
                        "bin_start": 58.7,
                        "bin_end": 59.8,
                        "count": 0
                      },
                      {
                        "bin_start": 59.8,
                        "bin_end": 60.9,
                        "count": 0
                      },
                      {
                        "bin_start": 60.9,
                        "bin_end": 62,
                        "count": 1
                      }
                    ]
                  }
                },
                {
                  "name": "wk10",
                  "dtype": "float64",
                  "stats": {
                    "unique_count": 3,
                    "nan_count": 2,
                    "min": "51.0",
                    "max": "61.0",
                    "histogram": [
                      {
                        "bin_start": 51,
                        "bin_end": 52,
                        "count": 1
                      },
                      {
                        "bin_start": 52,
                        "bin_end": 53,
                        "count": 0
                      },
                      {
                        "bin_start": 53,
                        "bin_end": 54,
                        "count": 0
                      },
                      {
                        "bin_start": 54,
                        "bin_end": 55,
                        "count": 0
                      },
                      {
                        "bin_start": 55,
                        "bin_end": 56,
                        "count": 0
                      },
                      {
                        "bin_start": 56,
                        "bin_end": 57,
                        "count": 0
                      },
                      {
                        "bin_start": 57,
                        "bin_end": 58,
                        "count": 1
                      },
                      {
                        "bin_start": 58,
                        "bin_end": 59,
                        "count": 0
                      },
                      {
                        "bin_start": 59,
                        "bin_end": 60,
                        "count": 0
                      },
                      {
                        "bin_start": 60,
                        "bin_end": 61,
                        "count": 1
                      }
                    ]
                  }
                },
                {
                  "name": "wk11",
                  "dtype": "float64",
                  "stats": {
                    "unique_count": 3,
                    "nan_count": 2,
                    "min": "51.0",
                    "max": "64.0",
                    "histogram": [
                      {
                        "bin_start": 51,
                        "bin_end": 52.3,
                        "count": 1
                      },
                      {
                        "bin_start": 52.3,
                        "bin_end": 53.6,
                        "count": 0
                      },
                      {
                        "bin_start": 53.6,
                        "bin_end": 54.9,
                        "count": 0
                      },
                      {
                        "bin_start": 54.9,
                        "bin_end": 56.2,
                        "count": 0
                      },
                      {
                        "bin_start": 56.2,
                        "bin_end": 57.5,
                        "count": 0
                      },
                      {
                        "bin_start": 57.5,
                        "bin_end": 58.8,
                        "count": 0
                      },
                      {
                        "bin_start": 58.8,
                        "bin_end": 60.1,
                        "count": 0
                      },
                      {
                        "bin_start": 60.1,
                        "bin_end": 61.4,
                        "count": 1
                      },
                      {
                        "bin_start": 61.4,
                        "bin_end": 62.7,
                        "count": 0
                      },
                      {
                        "bin_start": 62.7,
                        "bin_end": 64,
                        "count": 1
                      }
                    ]
                  }
                },
                {
                  "name": "wk12",
                  "dtype": "float64",
                  "stats": {
                    "unique_count": 3,
                    "nan_count": 2,
                    "min": "51.0",
                    "max": "70.0",
                    "histogram": [
                      {
                        "bin_start": 51,
                        "bin_end": 52.9,
                        "count": 1
                      },
                      {
                        "bin_start": 52.9,
                        "bin_end": 54.8,
                        "count": 0
                      },
                      {
                        "bin_start": 54.8,
                        "bin_end": 56.7,
                        "count": 0
                      },
                      {
                        "bin_start": 56.7,
                        "bin_end": 58.6,
                        "count": 0
                      },
                      {
                        "bin_start": 58.6,
                        "bin_end": 60.5,
                        "count": 1
                      },
                      {
                        "bin_start": 60.5,
                        "bin_end": 62.4,
                        "count": 0
                      },
                      {
                        "bin_start": 62.4,
                        "bin_end": 64.3,
                        "count": 0
                      },
                      {
                        "bin_start": 64.3,
                        "bin_end": 66.2,
                        "count": 0
                      },
                      {
                        "bin_start": 66.2,
                        "bin_end": 68.1,
                        "count": 0
                      },
                      {
                        "bin_start": 68.1,
                        "bin_end": 70,
                        "count": 1
                      }
                    ]
                  }
                },
                {
                  "name": "wk13",
                  "dtype": "float64",
                  "stats": {
                    "unique_count": 3,
                    "nan_count": 2,
                    "min": "47.0",
                    "max": "75.0",
                    "histogram": [
                      {
                        "bin_start": 47,
                        "bin_end": 49.8,
                        "count": 1
                      },
                      {
                        "bin_start": 49.8,
                        "bin_end": 52.6,
                        "count": 0
                      },
                      {
                        "bin_start": 52.6,
                        "bin_end": 55.4,
                        "count": 0
                      },
                      {
                        "bin_start": 55.4,
                        "bin_end": 58.2,
                        "count": 0
                      },
                      {
                        "bin_start": 58.2,
                        "bin_end": 61,
                        "count": 0
                      },
                      {
                        "bin_start": 61,
                        "bin_end": 63.8,
                        "count": 1
                      },
                      {
                        "bin_start": 63.8,
                        "bin_end": 66.6,
                        "count": 0
                      },
                      {
                        "bin_start": 66.6,
                        "bin_end": 69.4,
                        "count": 0
                      },
                      {
                        "bin_start": 69.4,
                        "bin_end": 72.2,
                        "count": 0
                      },
                      {
                        "bin_start": 72.2,
                        "bin_end": 75,
                        "count": 1
                      }
                    ]
                  }
                },
                {
                  "name": "wk14",
                  "dtype": "float64",
                  "stats": {
                    "unique_count": 3,
                    "nan_count": 2,
                    "min": "44.0",
                    "max": "76.0",
                    "histogram": [
                      {
                        "bin_start": 44,
                        "bin_end": 47.2,
                        "count": 1
                      },
                      {
                        "bin_start": 47.2,
                        "bin_end": 50.4,
                        "count": 0
                      },
                      {
                        "bin_start": 50.4,
                        "bin_end": 53.6,
                        "count": 0
                      },
                      {
                        "bin_start": 53.6,
                        "bin_end": 56.8,
                        "count": 0
                      },
                      {
                        "bin_start": 56.8,
                        "bin_end": 60,
                        "count": 0
                      },
                      {
                        "bin_start": 60,
                        "bin_end": 63.2,
                        "count": 0
                      },
                      {
                        "bin_start": 63.2,
                        "bin_end": 66.4,
                        "count": 1
                      },
                      {
                        "bin_start": 66.4,
                        "bin_end": 69.6,
                        "count": 0
                      },
                      {
                        "bin_start": 69.6,
                        "bin_end": 72.8,
                        "count": 0
                      },
                      {
                        "bin_start": 72.8,
                        "bin_end": 76,
                        "count": 1
                      }
                    ]
                  }
                },
                {
                  "name": "wk15",
                  "dtype": "float64",
                  "stats": {
                    "unique_count": 3,
                    "nan_count": 2,
                    "min": "38.0",
                    "max": "78.0",
                    "histogram": [
                      {
                        "bin_start": 38,
                        "bin_end": 42,
                        "count": 1
                      },
                      {
                        "bin_start": 42,
                        "bin_end": 46,
                        "count": 0
                      },
                      {
                        "bin_start": 46,
                        "bin_end": 50,
                        "count": 0
                      },
                      {
                        "bin_start": 50,
                        "bin_end": 54,
                        "count": 0
                      },
                      {
                        "bin_start": 54,
                        "bin_end": 58,
                        "count": 0
                      },
                      {
                        "bin_start": 58,
                        "bin_end": 62,
                        "count": 0
                      },
                      {
                        "bin_start": 62,
                        "bin_end": 66,
                        "count": 0
                      },
                      {
                        "bin_start": 66,
                        "bin_end": 70,
                        "count": 0
                      },
                      {
                        "bin_start": 70,
                        "bin_end": 74,
                        "count": 1
                      },
                      {
                        "bin_start": 74,
                        "bin_end": 78,
                        "count": 1
                      }
                    ]
                  }
                },
                {
                  "name": "wk16",
                  "dtype": "float64",
                  "stats": {
                    "unique_count": 3,
                    "nan_count": 2,
                    "min": "28.0",
                    "max": "85.0",
                    "histogram": [
                      {
                        "bin_start": 28,
                        "bin_end": 33.7,
                        "count": 1
                      },
                      {
                        "bin_start": 33.7,
                        "bin_end": 39.4,
                        "count": 0
                      },
                      {
                        "bin_start": 39.4,
                        "bin_end": 45.1,
                        "count": 0
                      },
                      {
                        "bin_start": 45.1,
                        "bin_end": 50.8,
                        "count": 0
                      },
                      {
                        "bin_start": 50.8,
                        "bin_end": 56.5,
                        "count": 0
                      },
                      {
                        "bin_start": 56.5,
                        "bin_end": 62.2,
                        "count": 0
                      },
                      {
                        "bin_start": 62.2,
                        "bin_end": 67.9,
                        "count": 0
                      },
                      {
                        "bin_start": 67.9,
                        "bin_end": 73.6,
                        "count": 0
                      },
                      {
                        "bin_start": 73.6,
                        "bin_end": 79.30000000000001,
                        "count": 1
                      },
                      {
                        "bin_start": 79.30000000000001,
                        "bin_end": 85,
                        "count": 1
                      }
                    ]
                  }
                },
                {
                  "name": "wk17",
                  "dtype": "float64",
                  "stats": {
                    "unique_count": 3,
                    "nan_count": 2,
                    "min": "22.0",
                    "max": "92.0",
                    "histogram": [
                      {
                        "bin_start": 22,
                        "bin_end": 29,
                        "count": 1
                      },
                      {
                        "bin_start": 29,
                        "bin_end": 36,
                        "count": 0
                      },
                      {
                        "bin_start": 36,
                        "bin_end": 43,
                        "count": 0
                      },
                      {
                        "bin_start": 43,
                        "bin_end": 50,
                        "count": 0
                      },
                      {
                        "bin_start": 50,
                        "bin_end": 57,
                        "count": 0
                      },
                      {
                        "bin_start": 57,
                        "bin_end": 64,
                        "count": 0
                      },
                      {
                        "bin_start": 64,
                        "bin_end": 71,
                        "count": 0
                      },
                      {
                        "bin_start": 71,
                        "bin_end": 78,
                        "count": 1
                      },
                      {
                        "bin_start": 78,
                        "bin_end": 85,
                        "count": 0
                      },
                      {
                        "bin_start": 85,
                        "bin_end": 92,
                        "count": 1
                      }
                    ]
                  }
                },
                {
                  "name": "wk18",
                  "dtype": "float64",
                  "stats": {
                    "unique_count": 3,
                    "nan_count": 2,
                    "min": "18.0",
                    "max": "96.0",
                    "histogram": [
                      {
                        "bin_start": 18,
                        "bin_end": 25.8,
                        "count": 1
                      },
                      {
                        "bin_start": 25.8,
                        "bin_end": 33.6,
                        "count": 0
                      },
                      {
                        "bin_start": 33.6,
                        "bin_end": 41.4,
                        "count": 0
                      },
                      {
                        "bin_start": 41.4,
                        "bin_end": 49.2,
                        "count": 0
                      },
                      {
                        "bin_start": 49.2,
                        "bin_end": 57,
                        "count": 0
                      },
                      {
                        "bin_start": 57,
                        "bin_end": 64.8,
                        "count": 0
                      },
                      {
                        "bin_start": 64.8,
                        "bin_end": 72.6,
                        "count": 1
                      },
                      {
                        "bin_start": 72.6,
                        "bin_end": 80.4,
                        "count": 0
                      },
                      {
                        "bin_start": 80.4,
                        "bin_end": 88.2,
                        "count": 0
                      },
                      {
                        "bin_start": 88.2,
                        "bin_end": 96,
                        "count": 1
                      }
                    ]
                  }
                },
                {
                  "name": "wk19",
                  "dtype": "float64",
                  "stats": {
                    "unique_count": 2,
                    "nan_count": 3,
                    "min": "18.0",
                    "max": "73.0",
                    "histogram": [
                      {
                        "bin_start": 18,
                        "bin_end": 23.5,
                        "count": 1
                      },
                      {
                        "bin_start": 23.5,
                        "bin_end": 29,
                        "count": 0
                      },
                      {
                        "bin_start": 29,
                        "bin_end": 34.5,
                        "count": 0
                      },
                      {
                        "bin_start": 34.5,
                        "bin_end": 40,
                        "count": 0
                      },
                      {
                        "bin_start": 40,
                        "bin_end": 45.5,
                        "count": 0
                      },
                      {
                        "bin_start": 45.5,
                        "bin_end": 51,
                        "count": 0
                      },
                      {
                        "bin_start": 51,
                        "bin_end": 56.5,
                        "count": 0
                      },
                      {
                        "bin_start": 56.5,
                        "bin_end": 62,
                        "count": 0
                      },
                      {
                        "bin_start": 62,
                        "bin_end": 67.5,
                        "count": 0
                      },
                      {
                        "bin_start": 67.5,
                        "bin_end": 73,
                        "count": 1
                      }
                    ]
                  }
                },
                {
                  "name": "wk20",
                  "dtype": "float64",
                  "stats": {
                    "unique_count": 2,
                    "nan_count": 3,
                    "min": "14.0",
                    "max": "70.0",
                    "histogram": [
                      {
                        "bin_start": 14,
                        "bin_end": 19.6,
                        "count": 1
                      },
                      {
                        "bin_start": 19.6,
                        "bin_end": 25.2,
                        "count": 0
                      },
                      {
                        "bin_start": 25.2,
                        "bin_end": 30.799999999999997,
                        "count": 0
                      },
                      {
                        "bin_start": 30.799999999999997,
                        "bin_end": 36.4,
                        "count": 0
                      },
                      {
                        "bin_start": 36.4,
                        "bin_end": 42,
                        "count": 0
                      },
                      {
                        "bin_start": 42,
                        "bin_end": 47.599999999999994,
                        "count": 0
                      },
                      {
                        "bin_start": 47.599999999999994,
                        "bin_end": 53.199999999999996,
                        "count": 0
                      },
                      {
                        "bin_start": 53.199999999999996,
                        "bin_end": 58.8,
                        "count": 0
                      },
                      {
                        "bin_start": 58.8,
                        "bin_end": 64.4,
                        "count": 0
                      },
                      {
                        "bin_start": 64.4,
                        "bin_end": 70,
                        "count": 1
                      }
                    ]
                  }
                },
                {
                  "name": "wk21",
                  "dtype": "float64",
                  "stats": {
                    "unique_count": 1,
                    "nan_count": 4,
                    "min": "12.0",
                    "max": "12.0",
                    "histogram": [
                      {
                        "bin_start": 11.5,
                        "bin_end": 11.6,
                        "count": 0
                      },
                      {
                        "bin_start": 11.6,
                        "bin_end": 11.7,
                        "count": 0
                      },
                      {
                        "bin_start": 11.7,
                        "bin_end": 11.8,
                        "count": 0
                      },
                      {
                        "bin_start": 11.8,
                        "bin_end": 11.9,
                        "count": 0
                      },
                      {
                        "bin_start": 11.9,
                        "bin_end": 12,
                        "count": 0
                      },
                      {
                        "bin_start": 12,
                        "bin_end": 12.1,
                        "count": 1
                      },
                      {
                        "bin_start": 12.1,
                        "bin_end": 12.2,
                        "count": 0
                      },
                      {
                        "bin_start": 12.2,
                        "bin_end": 12.3,
                        "count": 0
                      },
                      {
                        "bin_start": 12.3,
                        "bin_end": 12.4,
                        "count": 0
                      },
                      {
                        "bin_start": 12.4,
                        "bin_end": 12.5,
                        "count": 0
                      }
                    ]
                  }
                },
                {
                  "name": "wk22",
                  "dtype": "float64",
                  "stats": {
                    "unique_count": 1,
                    "nan_count": 4,
                    "min": "7.0",
                    "max": "7.0",
                    "histogram": [
                      {
                        "bin_start": 6.5,
                        "bin_end": 6.6,
                        "count": 0
                      },
                      {
                        "bin_start": 6.6,
                        "bin_end": 6.7,
                        "count": 0
                      },
                      {
                        "bin_start": 6.7,
                        "bin_end": 6.8,
                        "count": 0
                      },
                      {
                        "bin_start": 6.8,
                        "bin_end": 6.9,
                        "count": 0
                      },
                      {
                        "bin_start": 6.9,
                        "bin_end": 7,
                        "count": 0
                      },
                      {
                        "bin_start": 7,
                        "bin_end": 7.1,
                        "count": 1
                      },
                      {
                        "bin_start": 7.1,
                        "bin_end": 7.2,
                        "count": 0
                      },
                      {
                        "bin_start": 7.2,
                        "bin_end": 7.3,
                        "count": 0
                      },
                      {
                        "bin_start": 7.3,
                        "bin_end": 7.4,
                        "count": 0
                      },
                      {
                        "bin_start": 7.4,
                        "bin_end": 7.5,
                        "count": 0
                      }
                    ]
                  }
                },
                {
                  "name": "wk23",
                  "dtype": "float64",
                  "stats": {
                    "unique_count": 1,
                    "nan_count": 4,
                    "min": "6.0",
                    "max": "6.0",
                    "histogram": [
                      {
                        "bin_start": 5.5,
                        "bin_end": 5.6,
                        "count": 0
                      },
                      {
                        "bin_start": 5.6,
                        "bin_end": 5.7,
                        "count": 0
                      },
                      {
                        "bin_start": 5.7,
                        "bin_end": 5.8,
                        "count": 0
                      },
                      {
                        "bin_start": 5.8,
                        "bin_end": 5.9,
                        "count": 0
                      },
                      {
                        "bin_start": 5.9,
                        "bin_end": 6,
                        "count": 0
                      },
                      {
                        "bin_start": 6,
                        "bin_end": 6.1,
                        "count": 1
                      },
                      {
                        "bin_start": 6.1,
                        "bin_end": 6.2,
                        "count": 0
                      },
                      {
                        "bin_start": 6.2,
                        "bin_end": 6.3,
                        "count": 0
                      },
                      {
                        "bin_start": 6.3,
                        "bin_end": 6.4,
                        "count": 0
                      },
                      {
                        "bin_start": 6.4,
                        "bin_end": 6.5,
                        "count": 0
                      }
                    ]
                  }
                },
                {
                  "name": "wk24",
                  "dtype": "float64",
                  "stats": {
                    "unique_count": 1,
                    "nan_count": 4,
                    "min": "6.0",
                    "max": "6.0",
                    "histogram": [
                      {
                        "bin_start": 5.5,
                        "bin_end": 5.6,
                        "count": 0
                      },
                      {
                        "bin_start": 5.6,
                        "bin_end": 5.7,
                        "count": 0
                      },
                      {
                        "bin_start": 5.7,
                        "bin_end": 5.8,
                        "count": 0
                      },
                      {
                        "bin_start": 5.8,
                        "bin_end": 5.9,
                        "count": 0
                      },
                      {
                        "bin_start": 5.9,
                        "bin_end": 6,
                        "count": 0
                      },
                      {
                        "bin_start": 6,
                        "bin_end": 6.1,
                        "count": 1
                      },
                      {
                        "bin_start": 6.1,
                        "bin_end": 6.2,
                        "count": 0
                      },
                      {
                        "bin_start": 6.2,
                        "bin_end": 6.3,
                        "count": 0
                      },
                      {
                        "bin_start": 6.3,
                        "bin_end": 6.4,
                        "count": 0
                      },
                      {
                        "bin_start": 6.4,
                        "bin_end": 6.5,
                        "count": 0
                      }
                    ]
                  }
                },
                {
                  "name": "wk25",
                  "dtype": "float64",
                  "stats": {
                    "unique_count": 1,
                    "nan_count": 4,
                    "min": "6.0",
                    "max": "6.0",
                    "histogram": [
                      {
                        "bin_start": 5.5,
                        "bin_end": 5.6,
                        "count": 0
                      },
                      {
                        "bin_start": 5.6,
                        "bin_end": 5.7,
                        "count": 0
                      },
                      {
                        "bin_start": 5.7,
                        "bin_end": 5.8,
                        "count": 0
                      },
                      {
                        "bin_start": 5.8,
                        "bin_end": 5.9,
                        "count": 0
                      },
                      {
                        "bin_start": 5.9,
                        "bin_end": 6,
                        "count": 0
                      },
                      {
                        "bin_start": 6,
                        "bin_end": 6.1,
                        "count": 1
                      },
                      {
                        "bin_start": 6.1,
                        "bin_end": 6.2,
                        "count": 0
                      },
                      {
                        "bin_start": 6.2,
                        "bin_end": 6.3,
                        "count": 0
                      },
                      {
                        "bin_start": 6.3,
                        "bin_end": 6.4,
                        "count": 0
                      },
                      {
                        "bin_start": 6.4,
                        "bin_end": 6.5,
                        "count": 0
                      }
                    ]
                  }
                },
                {
                  "name": "wk26",
                  "dtype": "float64",
                  "stats": {
                    "unique_count": 1,
                    "nan_count": 4,
                    "min": "5.0",
                    "max": "5.0",
                    "histogram": [
                      {
                        "bin_start": 4.5,
                        "bin_end": 4.6,
                        "count": 0
                      },
                      {
                        "bin_start": 4.6,
                        "bin_end": 4.7,
                        "count": 0
                      },
                      {
                        "bin_start": 4.7,
                        "bin_end": 4.8,
                        "count": 0
                      },
                      {
                        "bin_start": 4.8,
                        "bin_end": 4.9,
                        "count": 0
                      },
                      {
                        "bin_start": 4.9,
                        "bin_end": 5,
                        "count": 0
                      },
                      {
                        "bin_start": 5,
                        "bin_end": 5.1,
                        "count": 1
                      },
                      {
                        "bin_start": 5.1,
                        "bin_end": 5.2,
                        "count": 0
                      },
                      {
                        "bin_start": 5.2,
                        "bin_end": 5.3,
                        "count": 0
                      },
                      {
                        "bin_start": 5.3,
                        "bin_end": 5.4,
                        "count": 0
                      },
                      {
                        "bin_start": 5.4,
                        "bin_end": 5.5,
                        "count": 0
                      }
                    ]
                  }
                },
                {
                  "name": "wk27",
                  "dtype": "float64",
                  "stats": {
                    "unique_count": 1,
                    "nan_count": 4,
                    "min": "5.0",
                    "max": "5.0",
                    "histogram": [
                      {
                        "bin_start": 4.5,
                        "bin_end": 4.6,
                        "count": 0
                      },
                      {
                        "bin_start": 4.6,
                        "bin_end": 4.7,
                        "count": 0
                      },
                      {
                        "bin_start": 4.7,
                        "bin_end": 4.8,
                        "count": 0
                      },
                      {
                        "bin_start": 4.8,
                        "bin_end": 4.9,
                        "count": 0
                      },
                      {
                        "bin_start": 4.9,
                        "bin_end": 5,
                        "count": 0
                      },
                      {
                        "bin_start": 5,
                        "bin_end": 5.1,
                        "count": 1
                      },
                      {
                        "bin_start": 5.1,
                        "bin_end": 5.2,
                        "count": 0
                      },
                      {
                        "bin_start": 5.2,
                        "bin_end": 5.3,
                        "count": 0
                      },
                      {
                        "bin_start": 5.3,
                        "bin_end": 5.4,
                        "count": 0
                      },
                      {
                        "bin_start": 5.4,
                        "bin_end": 5.5,
                        "count": 0
                      }
                    ]
                  }
                },
                {
                  "name": "wk28",
                  "dtype": "float64",
                  "stats": {
                    "unique_count": 1,
                    "nan_count": 4,
                    "min": "4.0",
                    "max": "4.0",
                    "histogram": [
                      {
                        "bin_start": 3.5,
                        "bin_end": 3.6,
                        "count": 0
                      },
                      {
                        "bin_start": 3.6,
                        "bin_end": 3.7,
                        "count": 0
                      },
                      {
                        "bin_start": 3.7,
                        "bin_end": 3.8,
                        "count": 0
                      },
                      {
                        "bin_start": 3.8,
                        "bin_end": 3.9,
                        "count": 0
                      },
                      {
                        "bin_start": 3.9,
                        "bin_end": 4,
                        "count": 0
                      },
                      {
                        "bin_start": 4,
                        "bin_end": 4.1,
                        "count": 1
                      },
                      {
                        "bin_start": 4.1,
                        "bin_end": 4.2,
                        "count": 0
                      },
                      {
                        "bin_start": 4.2,
                        "bin_end": 4.3,
                        "count": 0
                      },
                      {
                        "bin_start": 4.3,
                        "bin_end": 4.4,
                        "count": 0
                      },
                      {
                        "bin_start": 4.4,
                        "bin_end": 4.5,
                        "count": 0
                      }
                    ]
                  }
                },
                {
                  "name": "wk29",
                  "dtype": "float64",
                  "stats": {
                    "unique_count": 1,
                    "nan_count": 4,
                    "min": "4.0",
                    "max": "4.0",
                    "histogram": [
                      {
                        "bin_start": 3.5,
                        "bin_end": 3.6,
                        "count": 0
                      },
                      {
                        "bin_start": 3.6,
                        "bin_end": 3.7,
                        "count": 0
                      },
                      {
                        "bin_start": 3.7,
                        "bin_end": 3.8,
                        "count": 0
                      },
                      {
                        "bin_start": 3.8,
                        "bin_end": 3.9,
                        "count": 0
                      },
                      {
                        "bin_start": 3.9,
                        "bin_end": 4,
                        "count": 0
                      },
                      {
                        "bin_start": 4,
                        "bin_end": 4.1,
                        "count": 1
                      },
                      {
                        "bin_start": 4.1,
                        "bin_end": 4.2,
                        "count": 0
                      },
                      {
                        "bin_start": 4.2,
                        "bin_end": 4.3,
                        "count": 0
                      },
                      {
                        "bin_start": 4.3,
                        "bin_end": 4.4,
                        "count": 0
                      },
                      {
                        "bin_start": 4.4,
                        "bin_end": 4.5,
                        "count": 0
                      }
                    ]
                  }
                },
                {
                  "name": "wk30",
                  "dtype": "float64",
                  "stats": {
                    "unique_count": 1,
                    "nan_count": 4,
                    "min": "4.0",
                    "max": "4.0",
                    "histogram": [
                      {
                        "bin_start": 3.5,
                        "bin_end": 3.6,
                        "count": 0
                      },
                      {
                        "bin_start": 3.6,
                        "bin_end": 3.7,
                        "count": 0
                      },
                      {
                        "bin_start": 3.7,
                        "bin_end": 3.8,
                        "count": 0
                      },
                      {
                        "bin_start": 3.8,
                        "bin_end": 3.9,
                        "count": 0
                      },
                      {
                        "bin_start": 3.9,
                        "bin_end": 4,
                        "count": 0
                      },
                      {
                        "bin_start": 4,
                        "bin_end": 4.1,
                        "count": 1
                      },
                      {
                        "bin_start": 4.1,
                        "bin_end": 4.2,
                        "count": 0
                      },
                      {
                        "bin_start": 4.2,
                        "bin_end": 4.3,
                        "count": 0
                      },
                      {
                        "bin_start": 4.3,
                        "bin_end": 4.4,
                        "count": 0
                      },
                      {
                        "bin_start": 4.4,
                        "bin_end": 4.5,
                        "count": 0
                      }
                    ]
                  }
                },
                {
                  "name": "wk31",
                  "dtype": "float64",
                  "stats": {
                    "unique_count": 1,
                    "nan_count": 4,
                    "min": "4.0",
                    "max": "4.0",
                    "histogram": [
                      {
                        "bin_start": 3.5,
                        "bin_end": 3.6,
                        "count": 0
                      },
                      {
                        "bin_start": 3.6,
                        "bin_end": 3.7,
                        "count": 0
                      },
                      {
                        "bin_start": 3.7,
                        "bin_end": 3.8,
                        "count": 0
                      },
                      {
                        "bin_start": 3.8,
                        "bin_end": 3.9,
                        "count": 0
                      },
                      {
                        "bin_start": 3.9,
                        "bin_end": 4,
                        "count": 0
                      },
                      {
                        "bin_start": 4,
                        "bin_end": 4.1,
                        "count": 1
                      },
                      {
                        "bin_start": 4.1,
                        "bin_end": 4.2,
                        "count": 0
                      },
                      {
                        "bin_start": 4.2,
                        "bin_end": 4.3,
                        "count": 0
                      },
                      {
                        "bin_start": 4.3,
                        "bin_end": 4.4,
                        "count": 0
                      },
                      {
                        "bin_start": 4.4,
                        "bin_end": 4.5,
                        "count": 0
                      }
                    ]
                  }
                },
                {
                  "name": "wk32",
                  "dtype": "float64",
                  "stats": {
                    "unique_count": 1,
                    "nan_count": 4,
                    "min": "3.0",
                    "max": "3.0",
                    "histogram": [
                      {
                        "bin_start": 2.5,
                        "bin_end": 2.6,
                        "count": 0
                      },
                      {
                        "bin_start": 2.6,
                        "bin_end": 2.7,
                        "count": 0
                      },
                      {
                        "bin_start": 2.7,
                        "bin_end": 2.8,
                        "count": 0
                      },
                      {
                        "bin_start": 2.8,
                        "bin_end": 2.9,
                        "count": 0
                      },
                      {
                        "bin_start": 2.9,
                        "bin_end": 3,
                        "count": 0
                      },
                      {
                        "bin_start": 3,
                        "bin_end": 3.1,
                        "count": 1
                      },
                      {
                        "bin_start": 3.1,
                        "bin_end": 3.2,
                        "count": 0
                      },
                      {
                        "bin_start": 3.2,
                        "bin_end": 3.3,
                        "count": 0
                      },
                      {
                        "bin_start": 3.3,
                        "bin_end": 3.4,
                        "count": 0
                      },
                      {
                        "bin_start": 3.4,
                        "bin_end": 3.5,
                        "count": 0
                      }
                    ]
                  }
                },
                {
                  "name": "wk33",
                  "dtype": "float64",
                  "stats": {
                    "unique_count": 1,
                    "nan_count": 4,
                    "min": "3.0",
                    "max": "3.0",
                    "histogram": [
                      {
                        "bin_start": 2.5,
                        "bin_end": 2.6,
                        "count": 0
                      },
                      {
                        "bin_start": 2.6,
                        "bin_end": 2.7,
                        "count": 0
                      },
                      {
                        "bin_start": 2.7,
                        "bin_end": 2.8,
                        "count": 0
                      },
                      {
                        "bin_start": 2.8,
                        "bin_end": 2.9,
                        "count": 0
                      },
                      {
                        "bin_start": 2.9,
                        "bin_end": 3,
                        "count": 0
                      },
                      {
                        "bin_start": 3,
                        "bin_end": 3.1,
                        "count": 1
                      },
                      {
                        "bin_start": 3.1,
                        "bin_end": 3.2,
                        "count": 0
                      },
                      {
                        "bin_start": 3.2,
                        "bin_end": 3.3,
                        "count": 0
                      },
                      {
                        "bin_start": 3.3,
                        "bin_end": 3.4,
                        "count": 0
                      },
                      {
                        "bin_start": 3.4,
                        "bin_end": 3.5,
                        "count": 0
                      }
                    ]
                  }
                },
                {
                  "name": "wk34",
                  "dtype": "float64",
                  "stats": {
                    "unique_count": 1,
                    "nan_count": 4,
                    "min": "3.0",
                    "max": "3.0",
                    "histogram": [
                      {
                        "bin_start": 2.5,
                        "bin_end": 2.6,
                        "count": 0
                      },
                      {
                        "bin_start": 2.6,
                        "bin_end": 2.7,
                        "count": 0
                      },
                      {
                        "bin_start": 2.7,
                        "bin_end": 2.8,
                        "count": 0
                      },
                      {
                        "bin_start": 2.8,
                        "bin_end": 2.9,
                        "count": 0
                      },
                      {
                        "bin_start": 2.9,
                        "bin_end": 3,
                        "count": 0
                      },
                      {
                        "bin_start": 3,
                        "bin_end": 3.1,
                        "count": 1
                      },
                      {
                        "bin_start": 3.1,
                        "bin_end": 3.2,
                        "count": 0
                      },
                      {
                        "bin_start": 3.2,
                        "bin_end": 3.3,
                        "count": 0
                      },
                      {
                        "bin_start": 3.3,
                        "bin_end": 3.4,
                        "count": 0
                      },
                      {
                        "bin_start": 3.4,
                        "bin_end": 3.5,
                        "count": 0
                      }
                    ]
                  }
                },
                {
                  "name": "wk35",
                  "dtype": "float64",
                  "stats": {
                    "unique_count": 1,
                    "nan_count": 4,
                    "min": "4.0",
                    "max": "4.0",
                    "histogram": [
                      {
                        "bin_start": 3.5,
                        "bin_end": 3.6,
                        "count": 0
                      },
                      {
                        "bin_start": 3.6,
                        "bin_end": 3.7,
                        "count": 0
                      },
                      {
                        "bin_start": 3.7,
                        "bin_end": 3.8,
                        "count": 0
                      },
                      {
                        "bin_start": 3.8,
                        "bin_end": 3.9,
                        "count": 0
                      },
                      {
                        "bin_start": 3.9,
                        "bin_end": 4,
                        "count": 0
                      },
                      {
                        "bin_start": 4,
                        "bin_end": 4.1,
                        "count": 1
                      },
                      {
                        "bin_start": 4.1,
                        "bin_end": 4.2,
                        "count": 0
                      },
                      {
                        "bin_start": 4.2,
                        "bin_end": 4.3,
                        "count": 0
                      },
                      {
                        "bin_start": 4.3,
                        "bin_end": 4.4,
                        "count": 0
                      },
                      {
                        "bin_start": 4.4,
                        "bin_end": 4.5,
                        "count": 0
                      }
                    ]
                  }
                },
                {
                  "name": "wk36",
                  "dtype": "float64",
                  "stats": {
                    "unique_count": 1,
                    "nan_count": 4,
                    "min": "5.0",
                    "max": "5.0",
                    "histogram": [
                      {
                        "bin_start": 4.5,
                        "bin_end": 4.6,
                        "count": 0
                      },
                      {
                        "bin_start": 4.6,
                        "bin_end": 4.7,
                        "count": 0
                      },
                      {
                        "bin_start": 4.7,
                        "bin_end": 4.8,
                        "count": 0
                      },
                      {
                        "bin_start": 4.8,
                        "bin_end": 4.9,
                        "count": 0
                      },
                      {
                        "bin_start": 4.9,
                        "bin_end": 5,
                        "count": 0
                      },
                      {
                        "bin_start": 5,
                        "bin_end": 5.1,
                        "count": 1
                      },
                      {
                        "bin_start": 5.1,
                        "bin_end": 5.2,
                        "count": 0
                      },
                      {
                        "bin_start": 5.2,
                        "bin_end": 5.3,
                        "count": 0
                      },
                      {
                        "bin_start": 5.3,
                        "bin_end": 5.4,
                        "count": 0
                      },
                      {
                        "bin_start": 5.4,
                        "bin_end": 5.5,
                        "count": 0
                      }
                    ]
                  }
                },
                {
                  "name": "wk37",
                  "dtype": "float64",
                  "stats": {
                    "unique_count": 1,
                    "nan_count": 4,
                    "min": "5.0",
                    "max": "5.0",
                    "histogram": [
                      {
                        "bin_start": 4.5,
                        "bin_end": 4.6,
                        "count": 0
                      },
                      {
                        "bin_start": 4.6,
                        "bin_end": 4.7,
                        "count": 0
                      },
                      {
                        "bin_start": 4.7,
                        "bin_end": 4.8,
                        "count": 0
                      },
                      {
                        "bin_start": 4.8,
                        "bin_end": 4.9,
                        "count": 0
                      },
                      {
                        "bin_start": 4.9,
                        "bin_end": 5,
                        "count": 0
                      },
                      {
                        "bin_start": 5,
                        "bin_end": 5.1,
                        "count": 1
                      },
                      {
                        "bin_start": 5.1,
                        "bin_end": 5.2,
                        "count": 0
                      },
                      {
                        "bin_start": 5.2,
                        "bin_end": 5.3,
                        "count": 0
                      },
                      {
                        "bin_start": 5.3,
                        "bin_end": 5.4,
                        "count": 0
                      },
                      {
                        "bin_start": 5.4,
                        "bin_end": 5.5,
                        "count": 0
                      }
                    ]
                  }
                },
                {
                  "name": "wk38",
                  "dtype": "float64",
                  "stats": {
                    "unique_count": 1,
                    "nan_count": 4,
                    "min": "9.0",
                    "max": "9.0",
                    "histogram": [
                      {
                        "bin_start": 8.5,
                        "bin_end": 8.6,
                        "count": 0
                      },
                      {
                        "bin_start": 8.6,
                        "bin_end": 8.7,
                        "count": 0
                      },
                      {
                        "bin_start": 8.7,
                        "bin_end": 8.8,
                        "count": 0
                      },
                      {
                        "bin_start": 8.8,
                        "bin_end": 8.9,
                        "count": 0
                      },
                      {
                        "bin_start": 8.9,
                        "bin_end": 9,
                        "count": 0
                      },
                      {
                        "bin_start": 9,
                        "bin_end": 9.1,
                        "count": 1
                      },
                      {
                        "bin_start": 9.1,
                        "bin_end": 9.2,
                        "count": 0
                      },
                      {
                        "bin_start": 9.2,
                        "bin_end": 9.3,
                        "count": 0
                      },
                      {
                        "bin_start": 9.3,
                        "bin_end": 9.4,
                        "count": 0
                      },
                      {
                        "bin_start": 9.4,
                        "bin_end": 9.5,
                        "count": 0
                      }
                    ]
                  }
                },
                {
                  "name": "wk39",
                  "dtype": "float64",
                  "stats": {
                    "unique_count": 1,
                    "nan_count": 4,
                    "min": "9.0",
                    "max": "9.0",
                    "histogram": [
                      {
                        "bin_start": 8.5,
                        "bin_end": 8.6,
                        "count": 0
                      },
                      {
                        "bin_start": 8.6,
                        "bin_end": 8.7,
                        "count": 0
                      },
                      {
                        "bin_start": 8.7,
                        "bin_end": 8.8,
                        "count": 0
                      },
                      {
                        "bin_start": 8.8,
                        "bin_end": 8.9,
                        "count": 0
                      },
                      {
                        "bin_start": 8.9,
                        "bin_end": 9,
                        "count": 0
                      },
                      {
                        "bin_start": 9,
                        "bin_end": 9.1,
                        "count": 1
                      },
                      {
                        "bin_start": 9.1,
                        "bin_end": 9.2,
                        "count": 0
                      },
                      {
                        "bin_start": 9.2,
                        "bin_end": 9.3,
                        "count": 0
                      },
                      {
                        "bin_start": 9.3,
                        "bin_end": 9.4,
                        "count": 0
                      },
                      {
                        "bin_start": 9.4,
                        "bin_end": 9.5,
                        "count": 0
                      }
                    ]
                  }
                },
                {
                  "name": "wk40",
                  "dtype": "float64",
                  "stats": {
                    "unique_count": 1,
                    "nan_count": 4,
                    "min": "15.0",
                    "max": "15.0",
                    "histogram": [
                      {
                        "bin_start": 14.5,
                        "bin_end": 14.6,
                        "count": 0
                      },
                      {
                        "bin_start": 14.6,
                        "bin_end": 14.7,
                        "count": 0
                      },
                      {
                        "bin_start": 14.7,
                        "bin_end": 14.8,
                        "count": 0
                      },
                      {
                        "bin_start": 14.8,
                        "bin_end": 14.9,
                        "count": 0
                      },
                      {
                        "bin_start": 14.9,
                        "bin_end": 15,
                        "count": 0
                      },
                      {
                        "bin_start": 15,
                        "bin_end": 15.1,
                        "count": 1
                      },
                      {
                        "bin_start": 15.1,
                        "bin_end": 15.2,
                        "count": 0
                      },
                      {
                        "bin_start": 15.2,
                        "bin_end": 15.3,
                        "count": 0
                      },
                      {
                        "bin_start": 15.3,
                        "bin_end": 15.4,
                        "count": 0
                      },
                      {
                        "bin_start": 15.4,
                        "bin_end": 15.5,
                        "count": 0
                      }
                    ]
                  }
                },
                {
                  "name": "wk41",
                  "dtype": "float64",
                  "stats": {
                    "unique_count": 1,
                    "nan_count": 4,
                    "min": "14.0",
                    "max": "14.0",
                    "histogram": [
                      {
                        "bin_start": 13.5,
                        "bin_end": 13.6,
                        "count": 0
                      },
                      {
                        "bin_start": 13.6,
                        "bin_end": 13.7,
                        "count": 0
                      },
                      {
                        "bin_start": 13.7,
                        "bin_end": 13.8,
                        "count": 0
                      },
                      {
                        "bin_start": 13.8,
                        "bin_end": 13.9,
                        "count": 0
                      },
                      {
                        "bin_start": 13.9,
                        "bin_end": 14,
                        "count": 0
                      },
                      {
                        "bin_start": 14,
                        "bin_end": 14.1,
                        "count": 1
                      },
                      {
                        "bin_start": 14.1,
                        "bin_end": 14.2,
                        "count": 0
                      },
                      {
                        "bin_start": 14.2,
                        "bin_end": 14.3,
                        "count": 0
                      },
                      {
                        "bin_start": 14.3,
                        "bin_end": 14.4,
                        "count": 0
                      },
                      {
                        "bin_start": 14.4,
                        "bin_end": 14.5,
                        "count": 0
                      }
                    ]
                  }
                },
                {
                  "name": "wk42",
                  "dtype": "float64",
                  "stats": {
                    "unique_count": 1,
                    "nan_count": 4,
                    "min": "13.0",
                    "max": "13.0",
                    "histogram": [
                      {
                        "bin_start": 12.5,
                        "bin_end": 12.6,
                        "count": 0
                      },
                      {
                        "bin_start": 12.6,
                        "bin_end": 12.7,
                        "count": 0
                      },
                      {
                        "bin_start": 12.7,
                        "bin_end": 12.8,
                        "count": 0
                      },
                      {
                        "bin_start": 12.8,
                        "bin_end": 12.9,
                        "count": 0
                      },
                      {
                        "bin_start": 12.9,
                        "bin_end": 13,
                        "count": 0
                      },
                      {
                        "bin_start": 13,
                        "bin_end": 13.1,
                        "count": 1
                      },
                      {
                        "bin_start": 13.1,
                        "bin_end": 13.2,
                        "count": 0
                      },
                      {
                        "bin_start": 13.2,
                        "bin_end": 13.3,
                        "count": 0
                      },
                      {
                        "bin_start": 13.3,
                        "bin_end": 13.4,
                        "count": 0
                      },
                      {
                        "bin_start": 13.4,
                        "bin_end": 13.5,
                        "count": 0
                      }
                    ]
                  }
                },
                {
                  "name": "wk43",
                  "dtype": "float64",
                  "stats": {
                    "unique_count": 1,
                    "nan_count": 4,
                    "min": "14.0",
                    "max": "14.0",
                    "histogram": [
                      {
                        "bin_start": 13.5,
                        "bin_end": 13.6,
                        "count": 0
                      },
                      {
                        "bin_start": 13.6,
                        "bin_end": 13.7,
                        "count": 0
                      },
                      {
                        "bin_start": 13.7,
                        "bin_end": 13.8,
                        "count": 0
                      },
                      {
                        "bin_start": 13.8,
                        "bin_end": 13.9,
                        "count": 0
                      },
                      {
                        "bin_start": 13.9,
                        "bin_end": 14,
                        "count": 0
                      },
                      {
                        "bin_start": 14,
                        "bin_end": 14.1,
                        "count": 1
                      },
                      {
                        "bin_start": 14.1,
                        "bin_end": 14.2,
                        "count": 0
                      },
                      {
                        "bin_start": 14.2,
                        "bin_end": 14.3,
                        "count": 0
                      },
                      {
                        "bin_start": 14.3,
                        "bin_end": 14.4,
                        "count": 0
                      },
                      {
                        "bin_start": 14.4,
                        "bin_end": 14.5,
                        "count": 0
                      }
                    ]
                  }
                },
                {
                  "name": "wk44",
                  "dtype": "float64",
                  "stats": {
                    "unique_count": 1,
                    "nan_count": 4,
                    "min": "16.0",
                    "max": "16.0",
                    "histogram": [
                      {
                        "bin_start": 15.5,
                        "bin_end": 15.6,
                        "count": 0
                      },
                      {
                        "bin_start": 15.6,
                        "bin_end": 15.7,
                        "count": 0
                      },
                      {
                        "bin_start": 15.7,
                        "bin_end": 15.8,
                        "count": 0
                      },
                      {
                        "bin_start": 15.8,
                        "bin_end": 15.9,
                        "count": 0
                      },
                      {
                        "bin_start": 15.9,
                        "bin_end": 16,
                        "count": 0
                      },
                      {
                        "bin_start": 16,
                        "bin_end": 16.1,
                        "count": 1
                      },
                      {
                        "bin_start": 16.1,
                        "bin_end": 16.2,
                        "count": 0
                      },
                      {
                        "bin_start": 16.2,
                        "bin_end": 16.3,
                        "count": 0
                      },
                      {
                        "bin_start": 16.3,
                        "bin_end": 16.4,
                        "count": 0
                      },
                      {
                        "bin_start": 16.4,
                        "bin_end": 16.5,
                        "count": 0
                      }
                    ]
                  }
                },
                {
                  "name": "wk45",
                  "dtype": "float64",
                  "stats": {
                    "unique_count": 1,
                    "nan_count": 4,
                    "min": "17.0",
                    "max": "17.0",
                    "histogram": [
                      {
                        "bin_start": 16.5,
                        "bin_end": 16.6,
                        "count": 0
                      },
                      {
                        "bin_start": 16.6,
                        "bin_end": 16.7,
                        "count": 0
                      },
                      {
                        "bin_start": 16.7,
                        "bin_end": 16.8,
                        "count": 0
                      },
                      {
                        "bin_start": 16.8,
                        "bin_end": 16.9,
                        "count": 0
                      },
                      {
                        "bin_start": 16.9,
                        "bin_end": 17,
                        "count": 0
                      },
                      {
                        "bin_start": 17,
                        "bin_end": 17.1,
                        "count": 1
                      },
                      {
                        "bin_start": 17.1,
                        "bin_end": 17.2,
                        "count": 0
                      },
                      {
                        "bin_start": 17.2,
                        "bin_end": 17.3,
                        "count": 0
                      },
                      {
                        "bin_start": 17.3,
                        "bin_end": 17.4,
                        "count": 0
                      },
                      {
                        "bin_start": 17.4,
                        "bin_end": 17.5,
                        "count": 0
                      }
                    ]
                  }
                },
                {
                  "name": "wk46",
                  "dtype": "float64",
                  "stats": {
                    "unique_count": 1,
                    "nan_count": 4,
                    "min": "21.0",
                    "max": "21.0",
                    "histogram": [
                      {
                        "bin_start": 20.5,
                        "bin_end": 20.6,
                        "count": 0
                      },
                      {
                        "bin_start": 20.6,
                        "bin_end": 20.7,
                        "count": 0
                      },
                      {
                        "bin_start": 20.7,
                        "bin_end": 20.8,
                        "count": 0
                      },
                      {
                        "bin_start": 20.8,
                        "bin_end": 20.9,
                        "count": 0
                      },
                      {
                        "bin_start": 20.9,
                        "bin_end": 21,
                        "count": 0
                      },
                      {
                        "bin_start": 21,
                        "bin_end": 21.1,
                        "count": 1
                      },
                      {
                        "bin_start": 21.1,
                        "bin_end": 21.2,
                        "count": 0
                      },
                      {
                        "bin_start": 21.2,
                        "bin_end": 21.3,
                        "count": 0
                      },
                      {
                        "bin_start": 21.3,
                        "bin_end": 21.4,
                        "count": 0
                      },
                      {
                        "bin_start": 21.4,
                        "bin_end": 21.5,
                        "count": 0
                      }
                    ]
                  }
                },
                {
                  "name": "wk47",
                  "dtype": "float64",
                  "stats": {
                    "unique_count": 1,
                    "nan_count": 4,
                    "min": "22.0",
                    "max": "22.0",
                    "histogram": [
                      {
                        "bin_start": 21.5,
                        "bin_end": 21.6,
                        "count": 0
                      },
                      {
                        "bin_start": 21.6,
                        "bin_end": 21.7,
                        "count": 0
                      },
                      {
                        "bin_start": 21.7,
                        "bin_end": 21.8,
                        "count": 0
                      },
                      {
                        "bin_start": 21.8,
                        "bin_end": 21.9,
                        "count": 0
                      },
                      {
                        "bin_start": 21.9,
                        "bin_end": 22,
                        "count": 0
                      },
                      {
                        "bin_start": 22,
                        "bin_end": 22.1,
                        "count": 1
                      },
                      {
                        "bin_start": 22.1,
                        "bin_end": 22.2,
                        "count": 0
                      },
                      {
                        "bin_start": 22.2,
                        "bin_end": 22.3,
                        "count": 0
                      },
                      {
                        "bin_start": 22.3,
                        "bin_end": 22.4,
                        "count": 0
                      },
                      {
                        "bin_start": 22.4,
                        "bin_end": 22.5,
                        "count": 0
                      }
                    ]
                  }
                },
                {
                  "name": "wk48",
                  "dtype": "float64",
                  "stats": {
                    "unique_count": 1,
                    "nan_count": 4,
                    "min": "24.0",
                    "max": "24.0",
                    "histogram": [
                      {
                        "bin_start": 23.5,
                        "bin_end": 23.6,
                        "count": 0
                      },
                      {
                        "bin_start": 23.6,
                        "bin_end": 23.7,
                        "count": 0
                      },
                      {
                        "bin_start": 23.7,
                        "bin_end": 23.8,
                        "count": 0
                      },
                      {
                        "bin_start": 23.8,
                        "bin_end": 23.9,
                        "count": 0
                      },
                      {
                        "bin_start": 23.9,
                        "bin_end": 24,
                        "count": 0
                      },
                      {
                        "bin_start": 24,
                        "bin_end": 24.1,
                        "count": 1
                      },
                      {
                        "bin_start": 24.1,
                        "bin_end": 24.2,
                        "count": 0
                      },
                      {
                        "bin_start": 24.2,
                        "bin_end": 24.3,
                        "count": 0
                      },
                      {
                        "bin_start": 24.3,
                        "bin_end": 24.4,
                        "count": 0
                      },
                      {
                        "bin_start": 24.4,
                        "bin_end": 24.5,
                        "count": 0
                      }
                    ]
                  }
                },
                {
                  "name": "wk49",
                  "dtype": "float64",
                  "stats": {
                    "unique_count": 1,
                    "nan_count": 4,
                    "min": "28.0",
                    "max": "28.0",
                    "histogram": [
                      {
                        "bin_start": 27.5,
                        "bin_end": 27.6,
                        "count": 0
                      },
                      {
                        "bin_start": 27.6,
                        "bin_end": 27.7,
                        "count": 0
                      },
                      {
                        "bin_start": 27.7,
                        "bin_end": 27.8,
                        "count": 0
                      },
                      {
                        "bin_start": 27.8,
                        "bin_end": 27.9,
                        "count": 0
                      },
                      {
                        "bin_start": 27.9,
                        "bin_end": 28,
                        "count": 0
                      },
                      {
                        "bin_start": 28,
                        "bin_end": 28.1,
                        "count": 1
                      },
                      {
                        "bin_start": 28.1,
                        "bin_end": 28.2,
                        "count": 0
                      },
                      {
                        "bin_start": 28.2,
                        "bin_end": 28.3,
                        "count": 0
                      },
                      {
                        "bin_start": 28.3,
                        "bin_end": 28.4,
                        "count": 0
                      },
                      {
                        "bin_start": 28.4,
                        "bin_end": 28.5,
                        "count": 0
                      }
                    ]
                  }
                },
                {
                  "name": "wk50",
                  "dtype": "float64",
                  "stats": {
                    "unique_count": 1,
                    "nan_count": 4,
                    "min": "33.0",
                    "max": "33.0",
                    "histogram": [
                      {
                        "bin_start": 32.5,
                        "bin_end": 32.6,
                        "count": 0
                      },
                      {
                        "bin_start": 32.6,
                        "bin_end": 32.7,
                        "count": 0
                      },
                      {
                        "bin_start": 32.7,
                        "bin_end": 32.8,
                        "count": 0
                      },
                      {
                        "bin_start": 32.8,
                        "bin_end": 32.9,
                        "count": 0
                      },
                      {
                        "bin_start": 32.9,
                        "bin_end": 33,
                        "count": 0
                      },
                      {
                        "bin_start": 33,
                        "bin_end": 33.1,
                        "count": 1
                      },
                      {
                        "bin_start": 33.1,
                        "bin_end": 33.2,
                        "count": 0
                      },
                      {
                        "bin_start": 33.2,
                        "bin_end": 33.3,
                        "count": 0
                      },
                      {
                        "bin_start": 33.3,
                        "bin_end": 33.4,
                        "count": 0
                      },
                      {
                        "bin_start": 33.4,
                        "bin_end": 33.5,
                        "count": 0
                      }
                    ]
                  }
                },
                {
                  "name": "wk51",
                  "dtype": "float64",
                  "stats": {
                    "unique_count": 1,
                    "nan_count": 4,
                    "min": "42.0",
                    "max": "42.0",
                    "histogram": [
                      {
                        "bin_start": 41.5,
                        "bin_end": 41.6,
                        "count": 0
                      },
                      {
                        "bin_start": 41.6,
                        "bin_end": 41.7,
                        "count": 0
                      },
                      {
                        "bin_start": 41.7,
                        "bin_end": 41.8,
                        "count": 0
                      },
                      {
                        "bin_start": 41.8,
                        "bin_end": 41.9,
                        "count": 0
                      },
                      {
                        "bin_start": 41.9,
                        "bin_end": 42,
                        "count": 0
                      },
                      {
                        "bin_start": 42,
                        "bin_end": 42.1,
                        "count": 1
                      },
                      {
                        "bin_start": 42.1,
                        "bin_end": 42.2,
                        "count": 0
                      },
                      {
                        "bin_start": 42.2,
                        "bin_end": 42.3,
                        "count": 0
                      },
                      {
                        "bin_start": 42.3,
                        "bin_end": 42.4,
                        "count": 0
                      },
                      {
                        "bin_start": 42.4,
                        "bin_end": 42.5,
                        "count": 0
                      }
                    ]
                  }
                },
                {
                  "name": "wk52",
                  "dtype": "float64",
                  "stats": {
                    "unique_count": 1,
                    "nan_count": 4,
                    "min": "42.0",
                    "max": "42.0",
                    "histogram": [
                      {
                        "bin_start": 41.5,
                        "bin_end": 41.6,
                        "count": 0
                      },
                      {
                        "bin_start": 41.6,
                        "bin_end": 41.7,
                        "count": 0
                      },
                      {
                        "bin_start": 41.7,
                        "bin_end": 41.8,
                        "count": 0
                      },
                      {
                        "bin_start": 41.8,
                        "bin_end": 41.9,
                        "count": 0
                      },
                      {
                        "bin_start": 41.9,
                        "bin_end": 42,
                        "count": 0
                      },
                      {
                        "bin_start": 42,
                        "bin_end": 42.1,
                        "count": 1
                      },
                      {
                        "bin_start": 42.1,
                        "bin_end": 42.2,
                        "count": 0
                      },
                      {
                        "bin_start": 42.2,
                        "bin_end": 42.3,
                        "count": 0
                      },
                      {
                        "bin_start": 42.3,
                        "bin_end": 42.4,
                        "count": 0
                      },
                      {
                        "bin_start": 42.4,
                        "bin_end": 42.5,
                        "count": 0
                      }
                    ]
                  }
                },
                {
                  "name": "wk53",
                  "dtype": "float64",
                  "stats": {
                    "unique_count": 1,
                    "nan_count": 4,
                    "min": "49.0",
                    "max": "49.0",
                    "histogram": [
                      {
                        "bin_start": 48.5,
                        "bin_end": 48.6,
                        "count": 0
                      },
                      {
                        "bin_start": 48.6,
                        "bin_end": 48.7,
                        "count": 0
                      },
                      {
                        "bin_start": 48.7,
                        "bin_end": 48.8,
                        "count": 0
                      },
                      {
                        "bin_start": 48.8,
                        "bin_end": 48.9,
                        "count": 0
                      },
                      {
                        "bin_start": 48.9,
                        "bin_end": 49,
                        "count": 0
                      },
                      {
                        "bin_start": 49,
                        "bin_end": 49.1,
                        "count": 1
                      },
                      {
                        "bin_start": 49.1,
                        "bin_end": 49.2,
                        "count": 0
                      },
                      {
                        "bin_start": 49.2,
                        "bin_end": 49.3,
                        "count": 0
                      },
                      {
                        "bin_start": 49.3,
                        "bin_end": 49.4,
                        "count": 0
                      },
                      {
                        "bin_start": 49.4,
                        "bin_end": 49.5,
                        "count": 0
                      }
                    ]
                  }
                },
                {
                  "name": "wk54",
                  "dtype": "float64",
                  "stats": {
                    "unique_count": 0,
                    "nan_count": 5,
                    "min": null,
                    "max": null,
                    "histogram": [
                      {
                        "bin_start": 0,
                        "bin_end": 0.1,
                        "count": 0
                      },
                      {
                        "bin_start": 0.1,
                        "bin_end": 0.2,
                        "count": 0
                      },
                      {
                        "bin_start": 0.2,
                        "bin_end": 0.30000000000000004,
                        "count": 0
                      },
                      {
                        "bin_start": 0.30000000000000004,
                        "bin_end": 0.4,
                        "count": 0
                      },
                      {
                        "bin_start": 0.4,
                        "bin_end": 0.5,
                        "count": 0
                      },
                      {
                        "bin_start": 0.5,
                        "bin_end": 0.6000000000000001,
                        "count": 0
                      },
                      {
                        "bin_start": 0.6000000000000001,
                        "bin_end": 0.7000000000000001,
                        "count": 0
                      },
                      {
                        "bin_start": 0.7000000000000001,
                        "bin_end": 0.8,
                        "count": 0
                      },
                      {
                        "bin_start": 0.8,
                        "bin_end": 0.9,
                        "count": 0
                      },
                      {
                        "bin_start": 0.9,
                        "bin_end": 1,
                        "count": 0
                      }
                    ]
                  }
                },
                {
                  "name": "wk55",
                  "dtype": "float64",
                  "stats": {
                    "unique_count": 0,
                    "nan_count": 5,
                    "min": null,
                    "max": null,
                    "histogram": [
                      {
                        "bin_start": 0,
                        "bin_end": 0.1,
                        "count": 0
                      },
                      {
                        "bin_start": 0.1,
                        "bin_end": 0.2,
                        "count": 0
                      },
                      {
                        "bin_start": 0.2,
                        "bin_end": 0.30000000000000004,
                        "count": 0
                      },
                      {
                        "bin_start": 0.30000000000000004,
                        "bin_end": 0.4,
                        "count": 0
                      },
                      {
                        "bin_start": 0.4,
                        "bin_end": 0.5,
                        "count": 0
                      },
                      {
                        "bin_start": 0.5,
                        "bin_end": 0.6000000000000001,
                        "count": 0
                      },
                      {
                        "bin_start": 0.6000000000000001,
                        "bin_end": 0.7000000000000001,
                        "count": 0
                      },
                      {
                        "bin_start": 0.7000000000000001,
                        "bin_end": 0.8,
                        "count": 0
                      },
                      {
                        "bin_start": 0.8,
                        "bin_end": 0.9,
                        "count": 0
                      },
                      {
                        "bin_start": 0.9,
                        "bin_end": 1,
                        "count": 0
                      }
                    ]
                  }
                },
                {
                  "name": "wk56",
                  "dtype": "float64",
                  "stats": {
                    "unique_count": 0,
                    "nan_count": 5,
                    "min": null,
                    "max": null,
                    "histogram": [
                      {
                        "bin_start": 0,
                        "bin_end": 0.1,
                        "count": 0
                      },
                      {
                        "bin_start": 0.1,
                        "bin_end": 0.2,
                        "count": 0
                      },
                      {
                        "bin_start": 0.2,
                        "bin_end": 0.30000000000000004,
                        "count": 0
                      },
                      {
                        "bin_start": 0.30000000000000004,
                        "bin_end": 0.4,
                        "count": 0
                      },
                      {
                        "bin_start": 0.4,
                        "bin_end": 0.5,
                        "count": 0
                      },
                      {
                        "bin_start": 0.5,
                        "bin_end": 0.6000000000000001,
                        "count": 0
                      },
                      {
                        "bin_start": 0.6000000000000001,
                        "bin_end": 0.7000000000000001,
                        "count": 0
                      },
                      {
                        "bin_start": 0.7000000000000001,
                        "bin_end": 0.8,
                        "count": 0
                      },
                      {
                        "bin_start": 0.8,
                        "bin_end": 0.9,
                        "count": 0
                      },
                      {
                        "bin_start": 0.9,
                        "bin_end": 1,
                        "count": 0
                      }
                    ]
                  }
                },
                {
                  "name": "wk57",
                  "dtype": "float64",
                  "stats": {
                    "unique_count": 0,
                    "nan_count": 5,
                    "min": null,
                    "max": null,
                    "histogram": [
                      {
                        "bin_start": 0,
                        "bin_end": 0.1,
                        "count": 0
                      },
                      {
                        "bin_start": 0.1,
                        "bin_end": 0.2,
                        "count": 0
                      },
                      {
                        "bin_start": 0.2,
                        "bin_end": 0.30000000000000004,
                        "count": 0
                      },
                      {
                        "bin_start": 0.30000000000000004,
                        "bin_end": 0.4,
                        "count": 0
                      },
                      {
                        "bin_start": 0.4,
                        "bin_end": 0.5,
                        "count": 0
                      },
                      {
                        "bin_start": 0.5,
                        "bin_end": 0.6000000000000001,
                        "count": 0
                      },
                      {
                        "bin_start": 0.6000000000000001,
                        "bin_end": 0.7000000000000001,
                        "count": 0
                      },
                      {
                        "bin_start": 0.7000000000000001,
                        "bin_end": 0.8,
                        "count": 0
                      },
                      {
                        "bin_start": 0.8,
                        "bin_end": 0.9,
                        "count": 0
                      },
                      {
                        "bin_start": 0.9,
                        "bin_end": 1,
                        "count": 0
                      }
                    ]
                  }
                },
                {
                  "name": "wk58",
                  "dtype": "float64",
                  "stats": {
                    "unique_count": 0,
                    "nan_count": 5,
                    "min": null,
                    "max": null,
                    "histogram": [
                      {
                        "bin_start": 0,
                        "bin_end": 0.1,
                        "count": 0
                      },
                      {
                        "bin_start": 0.1,
                        "bin_end": 0.2,
                        "count": 0
                      },
                      {
                        "bin_start": 0.2,
                        "bin_end": 0.30000000000000004,
                        "count": 0
                      },
                      {
                        "bin_start": 0.30000000000000004,
                        "bin_end": 0.4,
                        "count": 0
                      },
                      {
                        "bin_start": 0.4,
                        "bin_end": 0.5,
                        "count": 0
                      },
                      {
                        "bin_start": 0.5,
                        "bin_end": 0.6000000000000001,
                        "count": 0
                      },
                      {
                        "bin_start": 0.6000000000000001,
                        "bin_end": 0.7000000000000001,
                        "count": 0
                      },
                      {
                        "bin_start": 0.7000000000000001,
                        "bin_end": 0.8,
                        "count": 0
                      },
                      {
                        "bin_start": 0.8,
                        "bin_end": 0.9,
                        "count": 0
                      },
                      {
                        "bin_start": 0.9,
                        "bin_end": 1,
                        "count": 0
                      }
                    ]
                  }
                },
                {
                  "name": "wk59",
                  "dtype": "float64",
                  "stats": {
                    "unique_count": 0,
                    "nan_count": 5,
                    "min": null,
                    "max": null,
                    "histogram": [
                      {
                        "bin_start": 0,
                        "bin_end": 0.1,
                        "count": 0
                      },
                      {
                        "bin_start": 0.1,
                        "bin_end": 0.2,
                        "count": 0
                      },
                      {
                        "bin_start": 0.2,
                        "bin_end": 0.30000000000000004,
                        "count": 0
                      },
                      {
                        "bin_start": 0.30000000000000004,
                        "bin_end": 0.4,
                        "count": 0
                      },
                      {
                        "bin_start": 0.4,
                        "bin_end": 0.5,
                        "count": 0
                      },
                      {
                        "bin_start": 0.5,
                        "bin_end": 0.6000000000000001,
                        "count": 0
                      },
                      {
                        "bin_start": 0.6000000000000001,
                        "bin_end": 0.7000000000000001,
                        "count": 0
                      },
                      {
                        "bin_start": 0.7000000000000001,
                        "bin_end": 0.8,
                        "count": 0
                      },
                      {
                        "bin_start": 0.8,
                        "bin_end": 0.9,
                        "count": 0
                      },
                      {
                        "bin_start": 0.9,
                        "bin_end": 1,
                        "count": 0
                      }
                    ]
                  }
                },
                {
                  "name": "wk60",
                  "dtype": "float64",
                  "stats": {
                    "unique_count": 0,
                    "nan_count": 5,
                    "min": null,
                    "max": null,
                    "histogram": [
                      {
                        "bin_start": 0,
                        "bin_end": 0.1,
                        "count": 0
                      },
                      {
                        "bin_start": 0.1,
                        "bin_end": 0.2,
                        "count": 0
                      },
                      {
                        "bin_start": 0.2,
                        "bin_end": 0.30000000000000004,
                        "count": 0
                      },
                      {
                        "bin_start": 0.30000000000000004,
                        "bin_end": 0.4,
                        "count": 0
                      },
                      {
                        "bin_start": 0.4,
                        "bin_end": 0.5,
                        "count": 0
                      },
                      {
                        "bin_start": 0.5,
                        "bin_end": 0.6000000000000001,
                        "count": 0
                      },
                      {
                        "bin_start": 0.6000000000000001,
                        "bin_end": 0.7000000000000001,
                        "count": 0
                      },
                      {
                        "bin_start": 0.7000000000000001,
                        "bin_end": 0.8,
                        "count": 0
                      },
                      {
                        "bin_start": 0.8,
                        "bin_end": 0.9,
                        "count": 0
                      },
                      {
                        "bin_start": 0.9,
                        "bin_end": 1,
                        "count": 0
                      }
                    ]
                  }
                },
                {
                  "name": "wk61",
                  "dtype": "float64",
                  "stats": {
                    "unique_count": 0,
                    "nan_count": 5,
                    "min": null,
                    "max": null,
                    "histogram": [
                      {
                        "bin_start": 0,
                        "bin_end": 0.1,
                        "count": 0
                      },
                      {
                        "bin_start": 0.1,
                        "bin_end": 0.2,
                        "count": 0
                      },
                      {
                        "bin_start": 0.2,
                        "bin_end": 0.30000000000000004,
                        "count": 0
                      },
                      {
                        "bin_start": 0.30000000000000004,
                        "bin_end": 0.4,
                        "count": 0
                      },
                      {
                        "bin_start": 0.4,
                        "bin_end": 0.5,
                        "count": 0
                      },
                      {
                        "bin_start": 0.5,
                        "bin_end": 0.6000000000000001,
                        "count": 0
                      },
                      {
                        "bin_start": 0.6000000000000001,
                        "bin_end": 0.7000000000000001,
                        "count": 0
                      },
                      {
                        "bin_start": 0.7000000000000001,
                        "bin_end": 0.8,
                        "count": 0
                      },
                      {
                        "bin_start": 0.8,
                        "bin_end": 0.9,
                        "count": 0
                      },
                      {
                        "bin_start": 0.9,
                        "bin_end": 1,
                        "count": 0
                      }
                    ]
                  }
                },
                {
                  "name": "wk62",
                  "dtype": "float64",
                  "stats": {
                    "unique_count": 0,
                    "nan_count": 5,
                    "min": null,
                    "max": null,
                    "histogram": [
                      {
                        "bin_start": 0,
                        "bin_end": 0.1,
                        "count": 0
                      },
                      {
                        "bin_start": 0.1,
                        "bin_end": 0.2,
                        "count": 0
                      },
                      {
                        "bin_start": 0.2,
                        "bin_end": 0.30000000000000004,
                        "count": 0
                      },
                      {
                        "bin_start": 0.30000000000000004,
                        "bin_end": 0.4,
                        "count": 0
                      },
                      {
                        "bin_start": 0.4,
                        "bin_end": 0.5,
                        "count": 0
                      },
                      {
                        "bin_start": 0.5,
                        "bin_end": 0.6000000000000001,
                        "count": 0
                      },
                      {
                        "bin_start": 0.6000000000000001,
                        "bin_end": 0.7000000000000001,
                        "count": 0
                      },
                      {
                        "bin_start": 0.7000000000000001,
                        "bin_end": 0.8,
                        "count": 0
                      },
                      {
                        "bin_start": 0.8,
                        "bin_end": 0.9,
                        "count": 0
                      },
                      {
                        "bin_start": 0.9,
                        "bin_end": 1,
                        "count": 0
                      }
                    ]
                  }
                },
                {
                  "name": "wk63",
                  "dtype": "float64",
                  "stats": {
                    "unique_count": 0,
                    "nan_count": 5,
                    "min": null,
                    "max": null,
                    "histogram": [
                      {
                        "bin_start": 0,
                        "bin_end": 0.1,
                        "count": 0
                      },
                      {
                        "bin_start": 0.1,
                        "bin_end": 0.2,
                        "count": 0
                      },
                      {
                        "bin_start": 0.2,
                        "bin_end": 0.30000000000000004,
                        "count": 0
                      },
                      {
                        "bin_start": 0.30000000000000004,
                        "bin_end": 0.4,
                        "count": 0
                      },
                      {
                        "bin_start": 0.4,
                        "bin_end": 0.5,
                        "count": 0
                      },
                      {
                        "bin_start": 0.5,
                        "bin_end": 0.6000000000000001,
                        "count": 0
                      },
                      {
                        "bin_start": 0.6000000000000001,
                        "bin_end": 0.7000000000000001,
                        "count": 0
                      },
                      {
                        "bin_start": 0.7000000000000001,
                        "bin_end": 0.8,
                        "count": 0
                      },
                      {
                        "bin_start": 0.8,
                        "bin_end": 0.9,
                        "count": 0
                      },
                      {
                        "bin_start": 0.9,
                        "bin_end": 1,
                        "count": 0
                      }
                    ]
                  }
                },
                {
                  "name": "wk64",
                  "dtype": "float64",
                  "stats": {
                    "unique_count": 0,
                    "nan_count": 5,
                    "min": null,
                    "max": null,
                    "histogram": [
                      {
                        "bin_start": 0,
                        "bin_end": 0.1,
                        "count": 0
                      },
                      {
                        "bin_start": 0.1,
                        "bin_end": 0.2,
                        "count": 0
                      },
                      {
                        "bin_start": 0.2,
                        "bin_end": 0.30000000000000004,
                        "count": 0
                      },
                      {
                        "bin_start": 0.30000000000000004,
                        "bin_end": 0.4,
                        "count": 0
                      },
                      {
                        "bin_start": 0.4,
                        "bin_end": 0.5,
                        "count": 0
                      },
                      {
                        "bin_start": 0.5,
                        "bin_end": 0.6000000000000001,
                        "count": 0
                      },
                      {
                        "bin_start": 0.6000000000000001,
                        "bin_end": 0.7000000000000001,
                        "count": 0
                      },
                      {
                        "bin_start": 0.7000000000000001,
                        "bin_end": 0.8,
                        "count": 0
                      },
                      {
                        "bin_start": 0.8,
                        "bin_end": 0.9,
                        "count": 0
                      },
                      {
                        "bin_start": 0.9,
                        "bin_end": 1,
                        "count": 0
                      }
                    ]
                  }
                },
                {
                  "name": "wk65",
                  "dtype": "float64",
                  "stats": {
                    "unique_count": 0,
                    "nan_count": 5,
                    "min": null,
                    "max": null,
                    "histogram": [
                      {
                        "bin_start": 0,
                        "bin_end": 0.1,
                        "count": 0
                      },
                      {
                        "bin_start": 0.1,
                        "bin_end": 0.2,
                        "count": 0
                      },
                      {
                        "bin_start": 0.2,
                        "bin_end": 0.30000000000000004,
                        "count": 0
                      },
                      {
                        "bin_start": 0.30000000000000004,
                        "bin_end": 0.4,
                        "count": 0
                      },
                      {
                        "bin_start": 0.4,
                        "bin_end": 0.5,
                        "count": 0
                      },
                      {
                        "bin_start": 0.5,
                        "bin_end": 0.6000000000000001,
                        "count": 0
                      },
                      {
                        "bin_start": 0.6000000000000001,
                        "bin_end": 0.7000000000000001,
                        "count": 0
                      },
                      {
                        "bin_start": 0.7000000000000001,
                        "bin_end": 0.8,
                        "count": 0
                      },
                      {
                        "bin_start": 0.8,
                        "bin_end": 0.9,
                        "count": 0
                      },
                      {
                        "bin_start": 0.9,
                        "bin_end": 1,
                        "count": 0
                      }
                    ]
                  }
                },
                {
                  "name": "wk66",
                  "dtype": "float64",
                  "stats": {
                    "unique_count": 0,
                    "nan_count": 5,
                    "min": null,
                    "max": null,
                    "histogram": [
                      {
                        "bin_start": 0,
                        "bin_end": 0.1,
                        "count": 0
                      },
                      {
                        "bin_start": 0.1,
                        "bin_end": 0.2,
                        "count": 0
                      },
                      {
                        "bin_start": 0.2,
                        "bin_end": 0.30000000000000004,
                        "count": 0
                      },
                      {
                        "bin_start": 0.30000000000000004,
                        "bin_end": 0.4,
                        "count": 0
                      },
                      {
                        "bin_start": 0.4,
                        "bin_end": 0.5,
                        "count": 0
                      },
                      {
                        "bin_start": 0.5,
                        "bin_end": 0.6000000000000001,
                        "count": 0
                      },
                      {
                        "bin_start": 0.6000000000000001,
                        "bin_end": 0.7000000000000001,
                        "count": 0
                      },
                      {
                        "bin_start": 0.7000000000000001,
                        "bin_end": 0.8,
                        "count": 0
                      },
                      {
                        "bin_start": 0.8,
                        "bin_end": 0.9,
                        "count": 0
                      },
                      {
                        "bin_start": 0.9,
                        "bin_end": 1,
                        "count": 0
                      }
                    ]
                  }
                },
                {
                  "name": "wk67",
                  "dtype": "float64",
                  "stats": {
                    "unique_count": 0,
                    "nan_count": 5,
                    "min": null,
                    "max": null,
                    "histogram": [
                      {
                        "bin_start": 0,
                        "bin_end": 0.1,
                        "count": 0
                      },
                      {
                        "bin_start": 0.1,
                        "bin_end": 0.2,
                        "count": 0
                      },
                      {
                        "bin_start": 0.2,
                        "bin_end": 0.30000000000000004,
                        "count": 0
                      },
                      {
                        "bin_start": 0.30000000000000004,
                        "bin_end": 0.4,
                        "count": 0
                      },
                      {
                        "bin_start": 0.4,
                        "bin_end": 0.5,
                        "count": 0
                      },
                      {
                        "bin_start": 0.5,
                        "bin_end": 0.6000000000000001,
                        "count": 0
                      },
                      {
                        "bin_start": 0.6000000000000001,
                        "bin_end": 0.7000000000000001,
                        "count": 0
                      },
                      {
                        "bin_start": 0.7000000000000001,
                        "bin_end": 0.8,
                        "count": 0
                      },
                      {
                        "bin_start": 0.8,
                        "bin_end": 0.9,
                        "count": 0
                      },
                      {
                        "bin_start": 0.9,
                        "bin_end": 1,
                        "count": 0
                      }
                    ]
                  }
                },
                {
                  "name": "wk68",
                  "dtype": "float64",
                  "stats": {
                    "unique_count": 0,
                    "nan_count": 5,
                    "min": null,
                    "max": null,
                    "histogram": [
                      {
                        "bin_start": 0,
                        "bin_end": 0.1,
                        "count": 0
                      },
                      {
                        "bin_start": 0.1,
                        "bin_end": 0.2,
                        "count": 0
                      },
                      {
                        "bin_start": 0.2,
                        "bin_end": 0.30000000000000004,
                        "count": 0
                      },
                      {
                        "bin_start": 0.30000000000000004,
                        "bin_end": 0.4,
                        "count": 0
                      },
                      {
                        "bin_start": 0.4,
                        "bin_end": 0.5,
                        "count": 0
                      },
                      {
                        "bin_start": 0.5,
                        "bin_end": 0.6000000000000001,
                        "count": 0
                      },
                      {
                        "bin_start": 0.6000000000000001,
                        "bin_end": 0.7000000000000001,
                        "count": 0
                      },
                      {
                        "bin_start": 0.7000000000000001,
                        "bin_end": 0.8,
                        "count": 0
                      },
                      {
                        "bin_start": 0.8,
                        "bin_end": 0.9,
                        "count": 0
                      },
                      {
                        "bin_start": 0.9,
                        "bin_end": 1,
                        "count": 0
                      }
                    ]
                  }
                },
                {
                  "name": "wk69",
                  "dtype": "float64",
                  "stats": {
                    "unique_count": 0,
                    "nan_count": 5,
                    "min": null,
                    "max": null,
                    "histogram": [
                      {
                        "bin_start": 0,
                        "bin_end": 0.1,
                        "count": 0
                      },
                      {
                        "bin_start": 0.1,
                        "bin_end": 0.2,
                        "count": 0
                      },
                      {
                        "bin_start": 0.2,
                        "bin_end": 0.30000000000000004,
                        "count": 0
                      },
                      {
                        "bin_start": 0.30000000000000004,
                        "bin_end": 0.4,
                        "count": 0
                      },
                      {
                        "bin_start": 0.4,
                        "bin_end": 0.5,
                        "count": 0
                      },
                      {
                        "bin_start": 0.5,
                        "bin_end": 0.6000000000000001,
                        "count": 0
                      },
                      {
                        "bin_start": 0.6000000000000001,
                        "bin_end": 0.7000000000000001,
                        "count": 0
                      },
                      {
                        "bin_start": 0.7000000000000001,
                        "bin_end": 0.8,
                        "count": 0
                      },
                      {
                        "bin_start": 0.8,
                        "bin_end": 0.9,
                        "count": 0
                      },
                      {
                        "bin_start": 0.9,
                        "bin_end": 1,
                        "count": 0
                      }
                    ]
                  }
                },
                {
                  "name": "wk70",
                  "dtype": "float64",
                  "stats": {
                    "unique_count": 0,
                    "nan_count": 5,
                    "min": null,
                    "max": null,
                    "histogram": [
                      {
                        "bin_start": 0,
                        "bin_end": 0.1,
                        "count": 0
                      },
                      {
                        "bin_start": 0.1,
                        "bin_end": 0.2,
                        "count": 0
                      },
                      {
                        "bin_start": 0.2,
                        "bin_end": 0.30000000000000004,
                        "count": 0
                      },
                      {
                        "bin_start": 0.30000000000000004,
                        "bin_end": 0.4,
                        "count": 0
                      },
                      {
                        "bin_start": 0.4,
                        "bin_end": 0.5,
                        "count": 0
                      },
                      {
                        "bin_start": 0.5,
                        "bin_end": 0.6000000000000001,
                        "count": 0
                      },
                      {
                        "bin_start": 0.6000000000000001,
                        "bin_end": 0.7000000000000001,
                        "count": 0
                      },
                      {
                        "bin_start": 0.7000000000000001,
                        "bin_end": 0.8,
                        "count": 0
                      },
                      {
                        "bin_start": 0.8,
                        "bin_end": 0.9,
                        "count": 0
                      },
                      {
                        "bin_start": 0.9,
                        "bin_end": 1,
                        "count": 0
                      }
                    ]
                  }
                },
                {
                  "name": "wk71",
                  "dtype": "float64",
                  "stats": {
                    "unique_count": 0,
                    "nan_count": 5,
                    "min": null,
                    "max": null,
                    "histogram": [
                      {
                        "bin_start": 0,
                        "bin_end": 0.1,
                        "count": 0
                      },
                      {
                        "bin_start": 0.1,
                        "bin_end": 0.2,
                        "count": 0
                      },
                      {
                        "bin_start": 0.2,
                        "bin_end": 0.30000000000000004,
                        "count": 0
                      },
                      {
                        "bin_start": 0.30000000000000004,
                        "bin_end": 0.4,
                        "count": 0
                      },
                      {
                        "bin_start": 0.4,
                        "bin_end": 0.5,
                        "count": 0
                      },
                      {
                        "bin_start": 0.5,
                        "bin_end": 0.6000000000000001,
                        "count": 0
                      },
                      {
                        "bin_start": 0.6000000000000001,
                        "bin_end": 0.7000000000000001,
                        "count": 0
                      },
                      {
                        "bin_start": 0.7000000000000001,
                        "bin_end": 0.8,
                        "count": 0
                      },
                      {
                        "bin_start": 0.8,
                        "bin_end": 0.9,
                        "count": 0
                      },
                      {
                        "bin_start": 0.9,
                        "bin_end": 1,
                        "count": 0
                      }
                    ]
                  }
                },
                {
                  "name": "wk72",
                  "dtype": "float64",
                  "stats": {
                    "unique_count": 0,
                    "nan_count": 5,
                    "min": null,
                    "max": null,
                    "histogram": [
                      {
                        "bin_start": 0,
                        "bin_end": 0.1,
                        "count": 0
                      },
                      {
                        "bin_start": 0.1,
                        "bin_end": 0.2,
                        "count": 0
                      },
                      {
                        "bin_start": 0.2,
                        "bin_end": 0.30000000000000004,
                        "count": 0
                      },
                      {
                        "bin_start": 0.30000000000000004,
                        "bin_end": 0.4,
                        "count": 0
                      },
                      {
                        "bin_start": 0.4,
                        "bin_end": 0.5,
                        "count": 0
                      },
                      {
                        "bin_start": 0.5,
                        "bin_end": 0.6000000000000001,
                        "count": 0
                      },
                      {
                        "bin_start": 0.6000000000000001,
                        "bin_end": 0.7000000000000001,
                        "count": 0
                      },
                      {
                        "bin_start": 0.7000000000000001,
                        "bin_end": 0.8,
                        "count": 0
                      },
                      {
                        "bin_start": 0.8,
                        "bin_end": 0.9,
                        "count": 0
                      },
                      {
                        "bin_start": 0.9,
                        "bin_end": 1,
                        "count": 0
                      }
                    ]
                  }
                },
                {
                  "name": "wk73",
                  "dtype": "float64",
                  "stats": {
                    "unique_count": 0,
                    "nan_count": 5,
                    "min": null,
                    "max": null,
                    "histogram": [
                      {
                        "bin_start": 0,
                        "bin_end": 0.1,
                        "count": 0
                      },
                      {
                        "bin_start": 0.1,
                        "bin_end": 0.2,
                        "count": 0
                      },
                      {
                        "bin_start": 0.2,
                        "bin_end": 0.30000000000000004,
                        "count": 0
                      },
                      {
                        "bin_start": 0.30000000000000004,
                        "bin_end": 0.4,
                        "count": 0
                      },
                      {
                        "bin_start": 0.4,
                        "bin_end": 0.5,
                        "count": 0
                      },
                      {
                        "bin_start": 0.5,
                        "bin_end": 0.6000000000000001,
                        "count": 0
                      },
                      {
                        "bin_start": 0.6000000000000001,
                        "bin_end": 0.7000000000000001,
                        "count": 0
                      },
                      {
                        "bin_start": 0.7000000000000001,
                        "bin_end": 0.8,
                        "count": 0
                      },
                      {
                        "bin_start": 0.8,
                        "bin_end": 0.9,
                        "count": 0
                      },
                      {
                        "bin_start": 0.9,
                        "bin_end": 1,
                        "count": 0
                      }
                    ]
                  }
                },
                {
                  "name": "wk74",
                  "dtype": "float64",
                  "stats": {
                    "unique_count": 0,
                    "nan_count": 5,
                    "min": null,
                    "max": null,
                    "histogram": [
                      {
                        "bin_start": 0,
                        "bin_end": 0.1,
                        "count": 0
                      },
                      {
                        "bin_start": 0.1,
                        "bin_end": 0.2,
                        "count": 0
                      },
                      {
                        "bin_start": 0.2,
                        "bin_end": 0.30000000000000004,
                        "count": 0
                      },
                      {
                        "bin_start": 0.30000000000000004,
                        "bin_end": 0.4,
                        "count": 0
                      },
                      {
                        "bin_start": 0.4,
                        "bin_end": 0.5,
                        "count": 0
                      },
                      {
                        "bin_start": 0.5,
                        "bin_end": 0.6000000000000001,
                        "count": 0
                      },
                      {
                        "bin_start": 0.6000000000000001,
                        "bin_end": 0.7000000000000001,
                        "count": 0
                      },
                      {
                        "bin_start": 0.7000000000000001,
                        "bin_end": 0.8,
                        "count": 0
                      },
                      {
                        "bin_start": 0.8,
                        "bin_end": 0.9,
                        "count": 0
                      },
                      {
                        "bin_start": 0.9,
                        "bin_end": 1,
                        "count": 0
                      }
                    ]
                  }
                },
                {
                  "name": "wk75",
                  "dtype": "float64",
                  "stats": {
                    "unique_count": 0,
                    "nan_count": 5,
                    "min": null,
                    "max": null,
                    "histogram": [
                      {
                        "bin_start": 0,
                        "bin_end": 0.1,
                        "count": 0
                      },
                      {
                        "bin_start": 0.1,
                        "bin_end": 0.2,
                        "count": 0
                      },
                      {
                        "bin_start": 0.2,
                        "bin_end": 0.30000000000000004,
                        "count": 0
                      },
                      {
                        "bin_start": 0.30000000000000004,
                        "bin_end": 0.4,
                        "count": 0
                      },
                      {
                        "bin_start": 0.4,
                        "bin_end": 0.5,
                        "count": 0
                      },
                      {
                        "bin_start": 0.5,
                        "bin_end": 0.6000000000000001,
                        "count": 0
                      },
                      {
                        "bin_start": 0.6000000000000001,
                        "bin_end": 0.7000000000000001,
                        "count": 0
                      },
                      {
                        "bin_start": 0.7000000000000001,
                        "bin_end": 0.8,
                        "count": 0
                      },
                      {
                        "bin_start": 0.8,
                        "bin_end": 0.9,
                        "count": 0
                      },
                      {
                        "bin_start": 0.9,
                        "bin_end": 1,
                        "count": 0
                      }
                    ]
                  }
                },
                {
                  "name": "wk76",
                  "dtype": "float64",
                  "stats": {
                    "unique_count": 0,
                    "nan_count": 5,
                    "min": null,
                    "max": null,
                    "histogram": [
                      {
                        "bin_start": 0,
                        "bin_end": 0.1,
                        "count": 0
                      },
                      {
                        "bin_start": 0.1,
                        "bin_end": 0.2,
                        "count": 0
                      },
                      {
                        "bin_start": 0.2,
                        "bin_end": 0.30000000000000004,
                        "count": 0
                      },
                      {
                        "bin_start": 0.30000000000000004,
                        "bin_end": 0.4,
                        "count": 0
                      },
                      {
                        "bin_start": 0.4,
                        "bin_end": 0.5,
                        "count": 0
                      },
                      {
                        "bin_start": 0.5,
                        "bin_end": 0.6000000000000001,
                        "count": 0
                      },
                      {
                        "bin_start": 0.6000000000000001,
                        "bin_end": 0.7000000000000001,
                        "count": 0
                      },
                      {
                        "bin_start": 0.7000000000000001,
                        "bin_end": 0.8,
                        "count": 0
                      },
                      {
                        "bin_start": 0.8,
                        "bin_end": 0.9,
                        "count": 0
                      },
                      {
                        "bin_start": 0.9,
                        "bin_end": 1,
                        "count": 0
                      }
                    ]
                  }
                },
                {
                  "name": "_deepnote_index_column",
                  "dtype": "int64"
                }
              ],
              "rows_top": [
                {
                  "year": 2000,
                  "artist": "2 Pac",
                  "track": "Baby Don't Cry (Keep...",
                  "time": "4:22",
                  "date.entered": "2000-02-26",
                  "wk1": 87,
                  "wk2": 82,
                  "wk3": 72,
                  "wk4": "77.0",
                  "wk5": "87.0",
                  "wk6": "94.0",
                  "wk7": "99.0",
                  "wk8": "nan",
                  "wk9": "nan",
                  "wk10": "nan",
                  "wk11": "nan",
                  "wk12": "nan",
                  "wk13": "nan",
                  "wk14": "nan",
                  "wk15": "nan",
                  "wk16": "nan",
                  "wk17": "nan",
                  "wk18": "nan",
                  "wk19": "nan",
                  "wk20": "nan",
                  "wk21": "nan",
                  "wk22": "nan",
                  "wk23": "nan",
                  "wk24": "nan",
                  "wk25": "nan",
                  "wk26": "nan",
                  "wk27": "nan",
                  "wk28": "nan",
                  "wk29": "nan",
                  "wk30": "nan",
                  "wk31": "nan",
                  "wk32": "nan",
                  "wk33": "nan",
                  "wk34": "nan",
                  "wk35": "nan",
                  "wk36": "nan",
                  "wk37": "nan",
                  "wk38": "nan",
                  "wk39": "nan",
                  "wk40": "nan",
                  "wk41": "nan",
                  "wk42": "nan",
                  "wk43": "nan",
                  "wk44": "nan",
                  "wk45": "nan",
                  "wk46": "nan",
                  "wk47": "nan",
                  "wk48": "nan",
                  "wk49": "nan",
                  "wk50": "nan",
                  "wk51": "nan",
                  "wk52": "nan",
                  "wk53": "nan",
                  "wk54": "nan",
                  "wk55": "nan",
                  "wk56": "nan",
                  "wk57": "nan",
                  "wk58": "nan",
                  "wk59": "nan",
                  "wk60": "nan",
                  "wk61": "nan",
                  "wk62": "nan",
                  "wk63": "nan",
                  "wk64": "nan",
                  "wk65": "nan",
                  "wk66": "nan",
                  "wk67": "nan",
                  "wk68": "nan",
                  "wk69": "nan",
                  "wk70": "nan",
                  "wk71": "nan",
                  "wk72": "nan",
                  "wk73": "nan",
                  "wk74": "nan",
                  "wk75": "nan",
                  "wk76": "nan",
                  "_deepnote_index_column": 0
                },
                {
                  "year": 2000,
                  "artist": "2Ge+her",
                  "track": "The Hardest Part Of ...",
                  "time": "3:15",
                  "date.entered": "2000-09-02",
                  "wk1": 91,
                  "wk2": 87,
                  "wk3": 92,
                  "wk4": "nan",
                  "wk5": "nan",
                  "wk6": "nan",
                  "wk7": "nan",
                  "wk8": "nan",
                  "wk9": "nan",
                  "wk10": "nan",
                  "wk11": "nan",
                  "wk12": "nan",
                  "wk13": "nan",
                  "wk14": "nan",
                  "wk15": "nan",
                  "wk16": "nan",
                  "wk17": "nan",
                  "wk18": "nan",
                  "wk19": "nan",
                  "wk20": "nan",
                  "wk21": "nan",
                  "wk22": "nan",
                  "wk23": "nan",
                  "wk24": "nan",
                  "wk25": "nan",
                  "wk26": "nan",
                  "wk27": "nan",
                  "wk28": "nan",
                  "wk29": "nan",
                  "wk30": "nan",
                  "wk31": "nan",
                  "wk32": "nan",
                  "wk33": "nan",
                  "wk34": "nan",
                  "wk35": "nan",
                  "wk36": "nan",
                  "wk37": "nan",
                  "wk38": "nan",
                  "wk39": "nan",
                  "wk40": "nan",
                  "wk41": "nan",
                  "wk42": "nan",
                  "wk43": "nan",
                  "wk44": "nan",
                  "wk45": "nan",
                  "wk46": "nan",
                  "wk47": "nan",
                  "wk48": "nan",
                  "wk49": "nan",
                  "wk50": "nan",
                  "wk51": "nan",
                  "wk52": "nan",
                  "wk53": "nan",
                  "wk54": "nan",
                  "wk55": "nan",
                  "wk56": "nan",
                  "wk57": "nan",
                  "wk58": "nan",
                  "wk59": "nan",
                  "wk60": "nan",
                  "wk61": "nan",
                  "wk62": "nan",
                  "wk63": "nan",
                  "wk64": "nan",
                  "wk65": "nan",
                  "wk66": "nan",
                  "wk67": "nan",
                  "wk68": "nan",
                  "wk69": "nan",
                  "wk70": "nan",
                  "wk71": "nan",
                  "wk72": "nan",
                  "wk73": "nan",
                  "wk74": "nan",
                  "wk75": "nan",
                  "wk76": "nan",
                  "_deepnote_index_column": 1
                },
                {
                  "year": 2000,
                  "artist": "3 Doors Down",
                  "track": "Kryptonite",
                  "time": "3:53",
                  "date.entered": "2000-04-08",
                  "wk1": 81,
                  "wk2": 70,
                  "wk3": 68,
                  "wk4": "67.0",
                  "wk5": "66.0",
                  "wk6": "57.0",
                  "wk7": "54.0",
                  "wk8": "53.0",
                  "wk9": "51.0",
                  "wk10": "51.0",
                  "wk11": "51.0",
                  "wk12": "51.0",
                  "wk13": "47.0",
                  "wk14": "44.0",
                  "wk15": "38.0",
                  "wk16": "28.0",
                  "wk17": "22.0",
                  "wk18": "18.0",
                  "wk19": "18.0",
                  "wk20": "14.0",
                  "wk21": "12.0",
                  "wk22": "7.0",
                  "wk23": "6.0",
                  "wk24": "6.0",
                  "wk25": "6.0",
                  "wk26": "5.0",
                  "wk27": "5.0",
                  "wk28": "4.0",
                  "wk29": "4.0",
                  "wk30": "4.0",
                  "wk31": "4.0",
                  "wk32": "3.0",
                  "wk33": "3.0",
                  "wk34": "3.0",
                  "wk35": "4.0",
                  "wk36": "5.0",
                  "wk37": "5.0",
                  "wk38": "9.0",
                  "wk39": "9.0",
                  "wk40": "15.0",
                  "wk41": "14.0",
                  "wk42": "13.0",
                  "wk43": "14.0",
                  "wk44": "16.0",
                  "wk45": "17.0",
                  "wk46": "21.0",
                  "wk47": "22.0",
                  "wk48": "24.0",
                  "wk49": "28.0",
                  "wk50": "33.0",
                  "wk51": "42.0",
                  "wk52": "42.0",
                  "wk53": "49.0",
                  "wk54": "nan",
                  "wk55": "nan",
                  "wk56": "nan",
                  "wk57": "nan",
                  "wk58": "nan",
                  "wk59": "nan",
                  "wk60": "nan",
                  "wk61": "nan",
                  "wk62": "nan",
                  "wk63": "nan",
                  "wk64": "nan",
                  "wk65": "nan",
                  "wk66": "nan",
                  "wk67": "nan",
                  "wk68": "nan",
                  "wk69": "nan",
                  "wk70": "nan",
                  "wk71": "nan",
                  "wk72": "nan",
                  "wk73": "nan",
                  "wk74": "nan",
                  "wk75": "nan",
                  "wk76": "nan",
                  "_deepnote_index_column": 2
                },
                {
                  "year": 2000,
                  "artist": "3 Doors Down",
                  "track": "Loser",
                  "time": "4:24",
                  "date.entered": "2000-10-21",
                  "wk1": 76,
                  "wk2": 76,
                  "wk3": 72,
                  "wk4": "69.0",
                  "wk5": "67.0",
                  "wk6": "65.0",
                  "wk7": "55.0",
                  "wk8": "59.0",
                  "wk9": "62.0",
                  "wk10": "61.0",
                  "wk11": "61.0",
                  "wk12": "59.0",
                  "wk13": "61.0",
                  "wk14": "66.0",
                  "wk15": "72.0",
                  "wk16": "76.0",
                  "wk17": "75.0",
                  "wk18": "67.0",
                  "wk19": "73.0",
                  "wk20": "70.0",
                  "wk21": "nan",
                  "wk22": "nan",
                  "wk23": "nan",
                  "wk24": "nan",
                  "wk25": "nan",
                  "wk26": "nan",
                  "wk27": "nan",
                  "wk28": "nan",
                  "wk29": "nan",
                  "wk30": "nan",
                  "wk31": "nan",
                  "wk32": "nan",
                  "wk33": "nan",
                  "wk34": "nan",
                  "wk35": "nan",
                  "wk36": "nan",
                  "wk37": "nan",
                  "wk38": "nan",
                  "wk39": "nan",
                  "wk40": "nan",
                  "wk41": "nan",
                  "wk42": "nan",
                  "wk43": "nan",
                  "wk44": "nan",
                  "wk45": "nan",
                  "wk46": "nan",
                  "wk47": "nan",
                  "wk48": "nan",
                  "wk49": "nan",
                  "wk50": "nan",
                  "wk51": "nan",
                  "wk52": "nan",
                  "wk53": "nan",
                  "wk54": "nan",
                  "wk55": "nan",
                  "wk56": "nan",
                  "wk57": "nan",
                  "wk58": "nan",
                  "wk59": "nan",
                  "wk60": "nan",
                  "wk61": "nan",
                  "wk62": "nan",
                  "wk63": "nan",
                  "wk64": "nan",
                  "wk65": "nan",
                  "wk66": "nan",
                  "wk67": "nan",
                  "wk68": "nan",
                  "wk69": "nan",
                  "wk70": "nan",
                  "wk71": "nan",
                  "wk72": "nan",
                  "wk73": "nan",
                  "wk74": "nan",
                  "wk75": "nan",
                  "wk76": "nan",
                  "_deepnote_index_column": 3
                },
                {
                  "year": 2000,
                  "artist": "504 Boyz",
                  "track": "Wobble Wobble",
                  "time": "3:35",
                  "date.entered": "2000-04-15",
                  "wk1": 57,
                  "wk2": 34,
                  "wk3": 25,
                  "wk4": "17.0",
                  "wk5": "17.0",
                  "wk6": "31.0",
                  "wk7": "36.0",
                  "wk8": "49.0",
                  "wk9": "53.0",
                  "wk10": "57.0",
                  "wk11": "64.0",
                  "wk12": "70.0",
                  "wk13": "75.0",
                  "wk14": "76.0",
                  "wk15": "78.0",
                  "wk16": "85.0",
                  "wk17": "92.0",
                  "wk18": "96.0",
                  "wk19": "nan",
                  "wk20": "nan",
                  "wk21": "nan",
                  "wk22": "nan",
                  "wk23": "nan",
                  "wk24": "nan",
                  "wk25": "nan",
                  "wk26": "nan",
                  "wk27": "nan",
                  "wk28": "nan",
                  "wk29": "nan",
                  "wk30": "nan",
                  "wk31": "nan",
                  "wk32": "nan",
                  "wk33": "nan",
                  "wk34": "nan",
                  "wk35": "nan",
                  "wk36": "nan",
                  "wk37": "nan",
                  "wk38": "nan",
                  "wk39": "nan",
                  "wk40": "nan",
                  "wk41": "nan",
                  "wk42": "nan",
                  "wk43": "nan",
                  "wk44": "nan",
                  "wk45": "nan",
                  "wk46": "nan",
                  "wk47": "nan",
                  "wk48": "nan",
                  "wk49": "nan",
                  "wk50": "nan",
                  "wk51": "nan",
                  "wk52": "nan",
                  "wk53": "nan",
                  "wk54": "nan",
                  "wk55": "nan",
                  "wk56": "nan",
                  "wk57": "nan",
                  "wk58": "nan",
                  "wk59": "nan",
                  "wk60": "nan",
                  "wk61": "nan",
                  "wk62": "nan",
                  "wk63": "nan",
                  "wk64": "nan",
                  "wk65": "nan",
                  "wk66": "nan",
                  "wk67": "nan",
                  "wk68": "nan",
                  "wk69": "nan",
                  "wk70": "nan",
                  "wk71": "nan",
                  "wk72": "nan",
                  "wk73": "nan",
                  "wk74": "nan",
                  "wk75": "nan",
                  "wk76": "nan",
                  "_deepnote_index_column": 4
                }
              ],
              "rows_bottom": null
            },
            "text/plain": "   year        artist                    track  time date.entered  wk1   wk2  \\\n0  2000         2 Pac  Baby Don't Cry (Keep...  4:22   2000-02-26   87  82.0   \n1  2000       2Ge+her  The Hardest Part Of ...  3:15   2000-09-02   91  87.0   \n2  2000  3 Doors Down               Kryptonite  3:53   2000-04-08   81  70.0   \n3  2000  3 Doors Down                    Loser  4:24   2000-10-21   76  76.0   \n4  2000      504 Boyz            Wobble Wobble  3:35   2000-04-15   57  34.0   \n\n    wk3   wk4   wk5  ...  wk67  wk68  wk69  wk70  wk71  wk72  wk73  wk74  \\\n0  72.0  77.0  87.0  ...   NaN   NaN   NaN   NaN   NaN   NaN   NaN   NaN   \n1  92.0   NaN   NaN  ...   NaN   NaN   NaN   NaN   NaN   NaN   NaN   NaN   \n2  68.0  67.0  66.0  ...   NaN   NaN   NaN   NaN   NaN   NaN   NaN   NaN   \n3  72.0  69.0  67.0  ...   NaN   NaN   NaN   NaN   NaN   NaN   NaN   NaN   \n4  25.0  17.0  17.0  ...   NaN   NaN   NaN   NaN   NaN   NaN   NaN   NaN   \n\n   wk75  wk76  \n0   NaN   NaN  \n1   NaN   NaN  \n2   NaN   NaN  \n3   NaN   NaN  \n4   NaN   NaN  \n\n[5 rows x 81 columns]",
            "text/html": "<div>\n<style scoped>\n    .dataframe tbody tr th:only-of-type {\n        vertical-align: middle;\n    }\n\n    .dataframe tbody tr th {\n        vertical-align: top;\n    }\n\n    .dataframe thead th {\n        text-align: right;\n    }\n</style>\n<table border=\"1\" class=\"dataframe\">\n  <thead>\n    <tr style=\"text-align: right;\">\n      <th></th>\n      <th>year</th>\n      <th>artist</th>\n      <th>track</th>\n      <th>time</th>\n      <th>date.entered</th>\n      <th>wk1</th>\n      <th>wk2</th>\n      <th>wk3</th>\n      <th>wk4</th>\n      <th>wk5</th>\n      <th>...</th>\n      <th>wk67</th>\n      <th>wk68</th>\n      <th>wk69</th>\n      <th>wk70</th>\n      <th>wk71</th>\n      <th>wk72</th>\n      <th>wk73</th>\n      <th>wk74</th>\n      <th>wk75</th>\n      <th>wk76</th>\n    </tr>\n  </thead>\n  <tbody>\n    <tr>\n      <th>0</th>\n      <td>2000</td>\n      <td>2 Pac</td>\n      <td>Baby Don't Cry (Keep...</td>\n      <td>4:22</td>\n      <td>2000-02-26</td>\n      <td>87</td>\n      <td>82.0</td>\n      <td>72.0</td>\n      <td>77.0</td>\n      <td>87.0</td>\n      <td>...</td>\n      <td>NaN</td>\n      <td>NaN</td>\n      <td>NaN</td>\n      <td>NaN</td>\n      <td>NaN</td>\n      <td>NaN</td>\n      <td>NaN</td>\n      <td>NaN</td>\n      <td>NaN</td>\n      <td>NaN</td>\n    </tr>\n    <tr>\n      <th>1</th>\n      <td>2000</td>\n      <td>2Ge+her</td>\n      <td>The Hardest Part Of ...</td>\n      <td>3:15</td>\n      <td>2000-09-02</td>\n      <td>91</td>\n      <td>87.0</td>\n      <td>92.0</td>\n      <td>NaN</td>\n      <td>NaN</td>\n      <td>...</td>\n      <td>NaN</td>\n      <td>NaN</td>\n      <td>NaN</td>\n      <td>NaN</td>\n      <td>NaN</td>\n      <td>NaN</td>\n      <td>NaN</td>\n      <td>NaN</td>\n      <td>NaN</td>\n      <td>NaN</td>\n    </tr>\n    <tr>\n      <th>2</th>\n      <td>2000</td>\n      <td>3 Doors Down</td>\n      <td>Kryptonite</td>\n      <td>3:53</td>\n      <td>2000-04-08</td>\n      <td>81</td>\n      <td>70.0</td>\n      <td>68.0</td>\n      <td>67.0</td>\n      <td>66.0</td>\n      <td>...</td>\n      <td>NaN</td>\n      <td>NaN</td>\n      <td>NaN</td>\n      <td>NaN</td>\n      <td>NaN</td>\n      <td>NaN</td>\n      <td>NaN</td>\n      <td>NaN</td>\n      <td>NaN</td>\n      <td>NaN</td>\n    </tr>\n    <tr>\n      <th>3</th>\n      <td>2000</td>\n      <td>3 Doors Down</td>\n      <td>Loser</td>\n      <td>4:24</td>\n      <td>2000-10-21</td>\n      <td>76</td>\n      <td>76.0</td>\n      <td>72.0</td>\n      <td>69.0</td>\n      <td>67.0</td>\n      <td>...</td>\n      <td>NaN</td>\n      <td>NaN</td>\n      <td>NaN</td>\n      <td>NaN</td>\n      <td>NaN</td>\n      <td>NaN</td>\n      <td>NaN</td>\n      <td>NaN</td>\n      <td>NaN</td>\n      <td>NaN</td>\n    </tr>\n    <tr>\n      <th>4</th>\n      <td>2000</td>\n      <td>504 Boyz</td>\n      <td>Wobble Wobble</td>\n      <td>3:35</td>\n      <td>2000-04-15</td>\n      <td>57</td>\n      <td>34.0</td>\n      <td>25.0</td>\n      <td>17.0</td>\n      <td>17.0</td>\n      <td>...</td>\n      <td>NaN</td>\n      <td>NaN</td>\n      <td>NaN</td>\n      <td>NaN</td>\n      <td>NaN</td>\n      <td>NaN</td>\n      <td>NaN</td>\n      <td>NaN</td>\n      <td>NaN</td>\n      <td>NaN</td>\n    </tr>\n  </tbody>\n</table>\n<p>5 rows × 81 columns</p>\n</div>"
          },
          "metadata": {}
        }
      ]
    },
    {
      "cell_type": "code",
      "metadata": {
        "deepnote_to_be_reexecuted": false,
        "execution_millis": 13,
        "execution_start": 1619967637405,
        "source_hash": "bb4de382",
        "cell_id": "00039-cc3798a4-0231-413e-bbfb-8e7907e43242",
        "deepnote_cell_type": "code"
      },
      "source": "billboard_melt = pd.melt(\n    billboard,\n    id_vars=['year', 'artist', 'track', 'time', 'date.entered'],\n    var_name='week',\n    value_name='rating'\n)",
      "execution_count": 37,
      "outputs": []
    },
    {
      "cell_type": "code",
      "metadata": {
        "deepnote_to_be_reexecuted": false,
        "execution_millis": 76,
        "execution_start": 1619967637434,
        "source_hash": "4da1956e",
        "cell_id": "00040-f079e0fe-0ee9-41cc-9a87-7a5a9dff0f20",
        "deepnote_cell_type": "code"
      },
      "source": "billboard_melt.head()",
      "execution_count": 38,
      "outputs": [
        {
          "output_type": "execute_result",
          "execution_count": 38,
          "data": {
            "application/vnd.deepnote.dataframe.v2+json": {
              "row_count": 5,
              "column_count": 7,
              "columns": [
                {
                  "name": "year",
                  "dtype": "int64",
                  "stats": {
                    "unique_count": 1,
                    "nan_count": 0,
                    "min": "2000",
                    "max": "2000",
                    "histogram": [
                      {
                        "bin_start": 1999.5,
                        "bin_end": 1999.6,
                        "count": 0
                      },
                      {
                        "bin_start": 1999.6,
                        "bin_end": 1999.7,
                        "count": 0
                      },
                      {
                        "bin_start": 1999.7,
                        "bin_end": 1999.8,
                        "count": 0
                      },
                      {
                        "bin_start": 1999.8,
                        "bin_end": 1999.9,
                        "count": 0
                      },
                      {
                        "bin_start": 1999.9,
                        "bin_end": 2000,
                        "count": 0
                      },
                      {
                        "bin_start": 2000,
                        "bin_end": 2000.1,
                        "count": 5
                      },
                      {
                        "bin_start": 2000.1,
                        "bin_end": 2000.2,
                        "count": 0
                      },
                      {
                        "bin_start": 2000.2,
                        "bin_end": 2000.3,
                        "count": 0
                      },
                      {
                        "bin_start": 2000.3,
                        "bin_end": 2000.4,
                        "count": 0
                      },
                      {
                        "bin_start": 2000.4,
                        "bin_end": 2000.5,
                        "count": 0
                      }
                    ]
                  }
                },
                {
                  "name": "artist",
                  "dtype": "object",
                  "stats": {
                    "unique_count": 4,
                    "nan_count": 0,
                    "categories": [
                      {
                        "name": "3 Doors Down",
                        "count": 2
                      },
                      {
                        "name": "2 Pac",
                        "count": 1
                      },
                      {
                        "name": "2 others",
                        "count": 2
                      }
                    ]
                  }
                },
                {
                  "name": "track",
                  "dtype": "object",
                  "stats": {
                    "unique_count": 5,
                    "nan_count": 0,
                    "categories": [
                      {
                        "name": "Baby Don't Cry (Keep...",
                        "count": 1
                      },
                      {
                        "name": "The Hardest Part Of ...",
                        "count": 1
                      },
                      {
                        "name": "3 others",
                        "count": 3
                      }
                    ]
                  }
                },
                {
                  "name": "time",
                  "dtype": "object",
                  "stats": {
                    "unique_count": 5,
                    "nan_count": 0,
                    "categories": [
                      {
                        "name": "4:22",
                        "count": 1
                      },
                      {
                        "name": "3:15",
                        "count": 1
                      },
                      {
                        "name": "3 others",
                        "count": 3
                      }
                    ]
                  }
                },
                {
                  "name": "date.entered",
                  "dtype": "object",
                  "stats": {
                    "unique_count": 5,
                    "nan_count": 0,
                    "categories": [
                      {
                        "name": "2000-02-26",
                        "count": 1
                      },
                      {
                        "name": "2000-09-02",
                        "count": 1
                      },
                      {
                        "name": "3 others",
                        "count": 3
                      }
                    ]
                  }
                },
                {
                  "name": "week",
                  "dtype": "object",
                  "stats": {
                    "unique_count": 1,
                    "nan_count": 0,
                    "categories": [
                      {
                        "name": "wk1",
                        "count": 5
                      }
                    ]
                  }
                },
                {
                  "name": "rating",
                  "dtype": "float64",
                  "stats": {
                    "unique_count": 5,
                    "nan_count": 0,
                    "min": "57.0",
                    "max": "91.0",
                    "histogram": [
                      {
                        "bin_start": 57,
                        "bin_end": 60.4,
                        "count": 1
                      },
                      {
                        "bin_start": 60.4,
                        "bin_end": 63.8,
                        "count": 0
                      },
                      {
                        "bin_start": 63.8,
                        "bin_end": 67.2,
                        "count": 0
                      },
                      {
                        "bin_start": 67.2,
                        "bin_end": 70.6,
                        "count": 0
                      },
                      {
                        "bin_start": 70.6,
                        "bin_end": 74,
                        "count": 0
                      },
                      {
                        "bin_start": 74,
                        "bin_end": 77.4,
                        "count": 1
                      },
                      {
                        "bin_start": 77.4,
                        "bin_end": 80.8,
                        "count": 0
                      },
                      {
                        "bin_start": 80.8,
                        "bin_end": 84.2,
                        "count": 1
                      },
                      {
                        "bin_start": 84.2,
                        "bin_end": 87.6,
                        "count": 1
                      },
                      {
                        "bin_start": 87.6,
                        "bin_end": 91,
                        "count": 1
                      }
                    ]
                  }
                },
                {
                  "name": "_deepnote_index_column",
                  "dtype": "int64"
                }
              ],
              "rows_top": [
                {
                  "year": 2000,
                  "artist": "2 Pac",
                  "track": "Baby Don't Cry (Keep...",
                  "time": "4:22",
                  "date.entered": "2000-02-26",
                  "week": "wk1",
                  "rating": 87,
                  "_deepnote_index_column": 0
                },
                {
                  "year": 2000,
                  "artist": "2Ge+her",
                  "track": "The Hardest Part Of ...",
                  "time": "3:15",
                  "date.entered": "2000-09-02",
                  "week": "wk1",
                  "rating": 91,
                  "_deepnote_index_column": 1
                },
                {
                  "year": 2000,
                  "artist": "3 Doors Down",
                  "track": "Kryptonite",
                  "time": "3:53",
                  "date.entered": "2000-04-08",
                  "week": "wk1",
                  "rating": 81,
                  "_deepnote_index_column": 2
                },
                {
                  "year": 2000,
                  "artist": "3 Doors Down",
                  "track": "Loser",
                  "time": "4:24",
                  "date.entered": "2000-10-21",
                  "week": "wk1",
                  "rating": 76,
                  "_deepnote_index_column": 3
                },
                {
                  "year": 2000,
                  "artist": "504 Boyz",
                  "track": "Wobble Wobble",
                  "time": "3:35",
                  "date.entered": "2000-04-15",
                  "week": "wk1",
                  "rating": 57,
                  "_deepnote_index_column": 4
                }
              ],
              "rows_bottom": null
            },
            "text/plain": "   year        artist                    track  time date.entered week  rating\n0  2000         2 Pac  Baby Don't Cry (Keep...  4:22   2000-02-26  wk1    87.0\n1  2000       2Ge+her  The Hardest Part Of ...  3:15   2000-09-02  wk1    91.0\n2  2000  3 Doors Down               Kryptonite  3:53   2000-04-08  wk1    81.0\n3  2000  3 Doors Down                    Loser  4:24   2000-10-21  wk1    76.0\n4  2000      504 Boyz            Wobble Wobble  3:35   2000-04-15  wk1    57.0",
            "text/html": "<div>\n<style scoped>\n    .dataframe tbody tr th:only-of-type {\n        vertical-align: middle;\n    }\n\n    .dataframe tbody tr th {\n        vertical-align: top;\n    }\n\n    .dataframe thead th {\n        text-align: right;\n    }\n</style>\n<table border=\"1\" class=\"dataframe\">\n  <thead>\n    <tr style=\"text-align: right;\">\n      <th></th>\n      <th>year</th>\n      <th>artist</th>\n      <th>track</th>\n      <th>time</th>\n      <th>date.entered</th>\n      <th>week</th>\n      <th>rating</th>\n    </tr>\n  </thead>\n  <tbody>\n    <tr>\n      <th>0</th>\n      <td>2000</td>\n      <td>2 Pac</td>\n      <td>Baby Don't Cry (Keep...</td>\n      <td>4:22</td>\n      <td>2000-02-26</td>\n      <td>wk1</td>\n      <td>87.0</td>\n    </tr>\n    <tr>\n      <th>1</th>\n      <td>2000</td>\n      <td>2Ge+her</td>\n      <td>The Hardest Part Of ...</td>\n      <td>3:15</td>\n      <td>2000-09-02</td>\n      <td>wk1</td>\n      <td>91.0</td>\n    </tr>\n    <tr>\n      <th>2</th>\n      <td>2000</td>\n      <td>3 Doors Down</td>\n      <td>Kryptonite</td>\n      <td>3:53</td>\n      <td>2000-04-08</td>\n      <td>wk1</td>\n      <td>81.0</td>\n    </tr>\n    <tr>\n      <th>3</th>\n      <td>2000</td>\n      <td>3 Doors Down</td>\n      <td>Loser</td>\n      <td>4:24</td>\n      <td>2000-10-21</td>\n      <td>wk1</td>\n      <td>76.0</td>\n    </tr>\n    <tr>\n      <th>4</th>\n      <td>2000</td>\n      <td>504 Boyz</td>\n      <td>Wobble Wobble</td>\n      <td>3:35</td>\n      <td>2000-04-15</td>\n      <td>wk1</td>\n      <td>57.0</td>\n    </tr>\n  </tbody>\n</table>\n</div>"
          },
          "metadata": {}
        }
      ]
    },
    {
      "cell_type": "code",
      "metadata": {
        "deepnote_to_be_reexecuted": false,
        "execution_millis": 17,
        "execution_start": 1619967637494,
        "source_hash": "9bafa9e7",
        "cell_id": "00041-8f6bb50a-8921-4ae6-a2cb-27fb6b8d42c8",
        "deepnote_cell_type": "code"
      },
      "source": "billboard.shape",
      "execution_count": 39,
      "outputs": [
        {
          "output_type": "execute_result",
          "execution_count": 39,
          "data": {
            "text/plain": "(317, 81)"
          },
          "metadata": {}
        }
      ]
    },
    {
      "cell_type": "code",
      "metadata": {
        "deepnote_to_be_reexecuted": false,
        "execution_millis": 0,
        "execution_start": 1619967637511,
        "source_hash": "c992492",
        "cell_id": "00042-ae77c860-ef59-4b75-a6f0-67a7943c8f0e",
        "deepnote_cell_type": "code"
      },
      "source": "billboard_melt.shape",
      "execution_count": 40,
      "outputs": [
        {
          "output_type": "execute_result",
          "execution_count": 40,
          "data": {
            "text/plain": "(24092, 7)"
          },
          "metadata": {}
        }
      ]
    },
    {
      "cell_type": "code",
      "metadata": {
        "deepnote_to_be_reexecuted": false,
        "execution_millis": 5,
        "execution_start": 1619967637529,
        "source_hash": "5708c860",
        "cell_id": "00043-29451c8a-3597-41de-b48f-18778585d1de",
        "deepnote_cell_type": "code"
      },
      "source": "ebola = pd.read_csv('/work/Assignment 10/country_timeseries.csv')",
      "execution_count": 41,
      "outputs": []
    },
    {
      "cell_type": "code",
      "metadata": {
        "deepnote_to_be_reexecuted": false,
        "execution_millis": 149,
        "execution_start": 1619967637535,
        "source_hash": "66bdeb92",
        "cell_id": "00044-13ae5385-e1ea-4a0b-8ee3-6e6f95e59611",
        "deepnote_cell_type": "code"
      },
      "source": "ebola.head()",
      "execution_count": 42,
      "outputs": [
        {
          "output_type": "execute_result",
          "execution_count": 42,
          "data": {
            "application/vnd.deepnote.dataframe.v2+json": {
              "row_count": 5,
              "column_count": 18,
              "columns": [
                {
                  "name": "Date",
                  "dtype": "object",
                  "stats": {
                    "unique_count": 5,
                    "nan_count": 0,
                    "categories": [
                      {
                        "name": "1/5/2015",
                        "count": 1
                      },
                      {
                        "name": "1/4/2015",
                        "count": 1
                      },
                      {
                        "name": "3 others",
                        "count": 3
                      }
                    ]
                  }
                },
                {
                  "name": "Day",
                  "dtype": "int64",
                  "stats": {
                    "unique_count": 5,
                    "nan_count": 0,
                    "min": "284",
                    "max": "289",
                    "histogram": [
                      {
                        "bin_start": 284,
                        "bin_end": 284.5,
                        "count": 1
                      },
                      {
                        "bin_start": 284.5,
                        "bin_end": 285,
                        "count": 0
                      },
                      {
                        "bin_start": 285,
                        "bin_end": 285.5,
                        "count": 0
                      },
                      {
                        "bin_start": 285.5,
                        "bin_end": 286,
                        "count": 0
                      },
                      {
                        "bin_start": 286,
                        "bin_end": 286.5,
                        "count": 1
                      },
                      {
                        "bin_start": 286.5,
                        "bin_end": 287,
                        "count": 0
                      },
                      {
                        "bin_start": 287,
                        "bin_end": 287.5,
                        "count": 1
                      },
                      {
                        "bin_start": 287.5,
                        "bin_end": 288,
                        "count": 0
                      },
                      {
                        "bin_start": 288,
                        "bin_end": 288.5,
                        "count": 1
                      },
                      {
                        "bin_start": 288.5,
                        "bin_end": 289,
                        "count": 1
                      }
                    ]
                  }
                },
                {
                  "name": "Cases_Guinea",
                  "dtype": "float64",
                  "stats": {
                    "unique_count": 4,
                    "nan_count": 1,
                    "min": "2730.0",
                    "max": "2776.0",
                    "histogram": [
                      {
                        "bin_start": 2730,
                        "bin_end": 2734.6,
                        "count": 1
                      },
                      {
                        "bin_start": 2734.6,
                        "bin_end": 2739.2,
                        "count": 0
                      },
                      {
                        "bin_start": 2739.2,
                        "bin_end": 2743.8,
                        "count": 0
                      },
                      {
                        "bin_start": 2743.8,
                        "bin_end": 2748.4,
                        "count": 0
                      },
                      {
                        "bin_start": 2748.4,
                        "bin_end": 2753,
                        "count": 0
                      },
                      {
                        "bin_start": 2753,
                        "bin_end": 2757.6,
                        "count": 0
                      },
                      {
                        "bin_start": 2757.6,
                        "bin_end": 2762.2,
                        "count": 0
                      },
                      {
                        "bin_start": 2762.2,
                        "bin_end": 2766.8,
                        "count": 0
                      },
                      {
                        "bin_start": 2766.8,
                        "bin_end": 2771.4,
                        "count": 1
                      },
                      {
                        "bin_start": 2771.4,
                        "bin_end": 2776,
                        "count": 2
                      }
                    ]
                  }
                },
                {
                  "name": "Cases_Liberia",
                  "dtype": "float64",
                  "stats": {
                    "unique_count": 3,
                    "nan_count": 2,
                    "min": "8115.0",
                    "max": "8166.0",
                    "histogram": [
                      {
                        "bin_start": 8115,
                        "bin_end": 8120.1,
                        "count": 1
                      },
                      {
                        "bin_start": 8120.1,
                        "bin_end": 8125.2,
                        "count": 0
                      },
                      {
                        "bin_start": 8125.2,
                        "bin_end": 8130.3,
                        "count": 0
                      },
                      {
                        "bin_start": 8130.3,
                        "bin_end": 8135.4,
                        "count": 0
                      },
                      {
                        "bin_start": 8135.4,
                        "bin_end": 8140.5,
                        "count": 0
                      },
                      {
                        "bin_start": 8140.5,
                        "bin_end": 8145.6,
                        "count": 0
                      },
                      {
                        "bin_start": 8145.6,
                        "bin_end": 8150.7,
                        "count": 0
                      },
                      {
                        "bin_start": 8150.7,
                        "bin_end": 8155.8,
                        "count": 0
                      },
                      {
                        "bin_start": 8155.8,
                        "bin_end": 8160.9,
                        "count": 1
                      },
                      {
                        "bin_start": 8160.9,
                        "bin_end": 8166,
                        "count": 1
                      }
                    ]
                  }
                },
                {
                  "name": "Cases_SierraLeone",
                  "dtype": "float64",
                  "stats": {
                    "unique_count": 4,
                    "nan_count": 1,
                    "min": "9633.0",
                    "max": "10030.0",
                    "histogram": [
                      {
                        "bin_start": 9633,
                        "bin_end": 9672.7,
                        "count": 1
                      },
                      {
                        "bin_start": 9672.7,
                        "bin_end": 9712.4,
                        "count": 0
                      },
                      {
                        "bin_start": 9712.4,
                        "bin_end": 9752.1,
                        "count": 1
                      },
                      {
                        "bin_start": 9752.1,
                        "bin_end": 9791.8,
                        "count": 1
                      },
                      {
                        "bin_start": 9791.8,
                        "bin_end": 9831.5,
                        "count": 0
                      },
                      {
                        "bin_start": 9831.5,
                        "bin_end": 9871.2,
                        "count": 0
                      },
                      {
                        "bin_start": 9871.2,
                        "bin_end": 9910.9,
                        "count": 0
                      },
                      {
                        "bin_start": 9910.9,
                        "bin_end": 9950.6,
                        "count": 0
                      },
                      {
                        "bin_start": 9950.6,
                        "bin_end": 9990.3,
                        "count": 0
                      },
                      {
                        "bin_start": 9990.3,
                        "bin_end": 10030,
                        "count": 1
                      }
                    ]
                  }
                },
                {
                  "name": "Cases_Nigeria",
                  "dtype": "float64",
                  "stats": {
                    "unique_count": 0,
                    "nan_count": 5,
                    "min": null,
                    "max": null,
                    "histogram": [
                      {
                        "bin_start": 0,
                        "bin_end": 0.1,
                        "count": 0
                      },
                      {
                        "bin_start": 0.1,
                        "bin_end": 0.2,
                        "count": 0
                      },
                      {
                        "bin_start": 0.2,
                        "bin_end": 0.30000000000000004,
                        "count": 0
                      },
                      {
                        "bin_start": 0.30000000000000004,
                        "bin_end": 0.4,
                        "count": 0
                      },
                      {
                        "bin_start": 0.4,
                        "bin_end": 0.5,
                        "count": 0
                      },
                      {
                        "bin_start": 0.5,
                        "bin_end": 0.6000000000000001,
                        "count": 0
                      },
                      {
                        "bin_start": 0.6000000000000001,
                        "bin_end": 0.7000000000000001,
                        "count": 0
                      },
                      {
                        "bin_start": 0.7000000000000001,
                        "bin_end": 0.8,
                        "count": 0
                      },
                      {
                        "bin_start": 0.8,
                        "bin_end": 0.9,
                        "count": 0
                      },
                      {
                        "bin_start": 0.9,
                        "bin_end": 1,
                        "count": 0
                      }
                    ]
                  }
                },
                {
                  "name": "Cases_Senegal",
                  "dtype": "float64",
                  "stats": {
                    "unique_count": 0,
                    "nan_count": 5,
                    "min": null,
                    "max": null,
                    "histogram": [
                      {
                        "bin_start": 0,
                        "bin_end": 0.1,
                        "count": 0
                      },
                      {
                        "bin_start": 0.1,
                        "bin_end": 0.2,
                        "count": 0
                      },
                      {
                        "bin_start": 0.2,
                        "bin_end": 0.30000000000000004,
                        "count": 0
                      },
                      {
                        "bin_start": 0.30000000000000004,
                        "bin_end": 0.4,
                        "count": 0
                      },
                      {
                        "bin_start": 0.4,
                        "bin_end": 0.5,
                        "count": 0
                      },
                      {
                        "bin_start": 0.5,
                        "bin_end": 0.6000000000000001,
                        "count": 0
                      },
                      {
                        "bin_start": 0.6000000000000001,
                        "bin_end": 0.7000000000000001,
                        "count": 0
                      },
                      {
                        "bin_start": 0.7000000000000001,
                        "bin_end": 0.8,
                        "count": 0
                      },
                      {
                        "bin_start": 0.8,
                        "bin_end": 0.9,
                        "count": 0
                      },
                      {
                        "bin_start": 0.9,
                        "bin_end": 1,
                        "count": 0
                      }
                    ]
                  }
                },
                {
                  "name": "Cases_UnitedStates",
                  "dtype": "float64",
                  "stats": {
                    "unique_count": 0,
                    "nan_count": 5,
                    "min": null,
                    "max": null,
                    "histogram": [
                      {
                        "bin_start": 0,
                        "bin_end": 0.1,
                        "count": 0
                      },
                      {
                        "bin_start": 0.1,
                        "bin_end": 0.2,
                        "count": 0
                      },
                      {
                        "bin_start": 0.2,
                        "bin_end": 0.30000000000000004,
                        "count": 0
                      },
                      {
                        "bin_start": 0.30000000000000004,
                        "bin_end": 0.4,
                        "count": 0
                      },
                      {
                        "bin_start": 0.4,
                        "bin_end": 0.5,
                        "count": 0
                      },
                      {
                        "bin_start": 0.5,
                        "bin_end": 0.6000000000000001,
                        "count": 0
                      },
                      {
                        "bin_start": 0.6000000000000001,
                        "bin_end": 0.7000000000000001,
                        "count": 0
                      },
                      {
                        "bin_start": 0.7000000000000001,
                        "bin_end": 0.8,
                        "count": 0
                      },
                      {
                        "bin_start": 0.8,
                        "bin_end": 0.9,
                        "count": 0
                      },
                      {
                        "bin_start": 0.9,
                        "bin_end": 1,
                        "count": 0
                      }
                    ]
                  }
                },
                {
                  "name": "Cases_Spain",
                  "dtype": "float64",
                  "stats": {
                    "unique_count": 0,
                    "nan_count": 5,
                    "min": null,
                    "max": null,
                    "histogram": [
                      {
                        "bin_start": 0,
                        "bin_end": 0.1,
                        "count": 0
                      },
                      {
                        "bin_start": 0.1,
                        "bin_end": 0.2,
                        "count": 0
                      },
                      {
                        "bin_start": 0.2,
                        "bin_end": 0.30000000000000004,
                        "count": 0
                      },
                      {
                        "bin_start": 0.30000000000000004,
                        "bin_end": 0.4,
                        "count": 0
                      },
                      {
                        "bin_start": 0.4,
                        "bin_end": 0.5,
                        "count": 0
                      },
                      {
                        "bin_start": 0.5,
                        "bin_end": 0.6000000000000001,
                        "count": 0
                      },
                      {
                        "bin_start": 0.6000000000000001,
                        "bin_end": 0.7000000000000001,
                        "count": 0
                      },
                      {
                        "bin_start": 0.7000000000000001,
                        "bin_end": 0.8,
                        "count": 0
                      },
                      {
                        "bin_start": 0.8,
                        "bin_end": 0.9,
                        "count": 0
                      },
                      {
                        "bin_start": 0.9,
                        "bin_end": 1,
                        "count": 0
                      }
                    ]
                  }
                },
                {
                  "name": "Cases_Mali",
                  "dtype": "float64",
                  "stats": {
                    "unique_count": 0,
                    "nan_count": 5,
                    "min": null,
                    "max": null,
                    "histogram": [
                      {
                        "bin_start": 0,
                        "bin_end": 0.1,
                        "count": 0
                      },
                      {
                        "bin_start": 0.1,
                        "bin_end": 0.2,
                        "count": 0
                      },
                      {
                        "bin_start": 0.2,
                        "bin_end": 0.30000000000000004,
                        "count": 0
                      },
                      {
                        "bin_start": 0.30000000000000004,
                        "bin_end": 0.4,
                        "count": 0
                      },
                      {
                        "bin_start": 0.4,
                        "bin_end": 0.5,
                        "count": 0
                      },
                      {
                        "bin_start": 0.5,
                        "bin_end": 0.6000000000000001,
                        "count": 0
                      },
                      {
                        "bin_start": 0.6000000000000001,
                        "bin_end": 0.7000000000000001,
                        "count": 0
                      },
                      {
                        "bin_start": 0.7000000000000001,
                        "bin_end": 0.8,
                        "count": 0
                      },
                      {
                        "bin_start": 0.8,
                        "bin_end": 0.9,
                        "count": 0
                      },
                      {
                        "bin_start": 0.9,
                        "bin_end": 1,
                        "count": 0
                      }
                    ]
                  }
                },
                {
                  "name": "Deaths_Guinea",
                  "dtype": "float64",
                  "stats": {
                    "unique_count": 4,
                    "nan_count": 1,
                    "min": "1739.0",
                    "max": "1786.0",
                    "histogram": [
                      {
                        "bin_start": 1739,
                        "bin_end": 1743.7,
                        "count": 1
                      },
                      {
                        "bin_start": 1743.7,
                        "bin_end": 1748.4,
                        "count": 0
                      },
                      {
                        "bin_start": 1748.4,
                        "bin_end": 1753.1,
                        "count": 0
                      },
                      {
                        "bin_start": 1753.1,
                        "bin_end": 1757.8,
                        "count": 0
                      },
                      {
                        "bin_start": 1757.8,
                        "bin_end": 1762.5,
                        "count": 0
                      },
                      {
                        "bin_start": 1762.5,
                        "bin_end": 1767.2,
                        "count": 1
                      },
                      {
                        "bin_start": 1767.2,
                        "bin_end": 1771.9,
                        "count": 0
                      },
                      {
                        "bin_start": 1771.9,
                        "bin_end": 1776.6,
                        "count": 0
                      },
                      {
                        "bin_start": 1776.6,
                        "bin_end": 1781.3,
                        "count": 1
                      },
                      {
                        "bin_start": 1781.3,
                        "bin_end": 1786,
                        "count": 1
                      }
                    ]
                  }
                },
                {
                  "name": "Deaths_Liberia",
                  "dtype": "float64",
                  "stats": {
                    "unique_count": 2,
                    "nan_count": 2,
                    "min": "3471.0",
                    "max": "3496.0",
                    "histogram": [
                      {
                        "bin_start": 3471,
                        "bin_end": 3473.5,
                        "count": 1
                      },
                      {
                        "bin_start": 3473.5,
                        "bin_end": 3476,
                        "count": 0
                      },
                      {
                        "bin_start": 3476,
                        "bin_end": 3478.5,
                        "count": 0
                      },
                      {
                        "bin_start": 3478.5,
                        "bin_end": 3481,
                        "count": 0
                      },
                      {
                        "bin_start": 3481,
                        "bin_end": 3483.5,
                        "count": 0
                      },
                      {
                        "bin_start": 3483.5,
                        "bin_end": 3486,
                        "count": 0
                      },
                      {
                        "bin_start": 3486,
                        "bin_end": 3488.5,
                        "count": 0
                      },
                      {
                        "bin_start": 3488.5,
                        "bin_end": 3491,
                        "count": 0
                      },
                      {
                        "bin_start": 3491,
                        "bin_end": 3493.5,
                        "count": 0
                      },
                      {
                        "bin_start": 3493.5,
                        "bin_end": 3496,
                        "count": 2
                      }
                    ]
                  }
                },
                {
                  "name": "Deaths_SierraLeone",
                  "dtype": "float64",
                  "stats": {
                    "unique_count": 4,
                    "nan_count": 1,
                    "min": "2827.0",
                    "max": "2977.0",
                    "histogram": [
                      {
                        "bin_start": 2827,
                        "bin_end": 2842,
                        "count": 1
                      },
                      {
                        "bin_start": 2842,
                        "bin_end": 2857,
                        "count": 0
                      },
                      {
                        "bin_start": 2857,
                        "bin_end": 2872,
                        "count": 0
                      },
                      {
                        "bin_start": 2872,
                        "bin_end": 2887,
                        "count": 0
                      },
                      {
                        "bin_start": 2887,
                        "bin_end": 2902,
                        "count": 0
                      },
                      {
                        "bin_start": 2902,
                        "bin_end": 2917,
                        "count": 1
                      },
                      {
                        "bin_start": 2917,
                        "bin_end": 2932,
                        "count": 0
                      },
                      {
                        "bin_start": 2932,
                        "bin_end": 2947,
                        "count": 1
                      },
                      {
                        "bin_start": 2947,
                        "bin_end": 2962,
                        "count": 0
                      },
                      {
                        "bin_start": 2962,
                        "bin_end": 2977,
                        "count": 1
                      }
                    ]
                  }
                },
                {
                  "name": "Deaths_Nigeria",
                  "dtype": "float64",
                  "stats": {
                    "unique_count": 0,
                    "nan_count": 5,
                    "min": null,
                    "max": null,
                    "histogram": [
                      {
                        "bin_start": 0,
                        "bin_end": 0.1,
                        "count": 0
                      },
                      {
                        "bin_start": 0.1,
                        "bin_end": 0.2,
                        "count": 0
                      },
                      {
                        "bin_start": 0.2,
                        "bin_end": 0.30000000000000004,
                        "count": 0
                      },
                      {
                        "bin_start": 0.30000000000000004,
                        "bin_end": 0.4,
                        "count": 0
                      },
                      {
                        "bin_start": 0.4,
                        "bin_end": 0.5,
                        "count": 0
                      },
                      {
                        "bin_start": 0.5,
                        "bin_end": 0.6000000000000001,
                        "count": 0
                      },
                      {
                        "bin_start": 0.6000000000000001,
                        "bin_end": 0.7000000000000001,
                        "count": 0
                      },
                      {
                        "bin_start": 0.7000000000000001,
                        "bin_end": 0.8,
                        "count": 0
                      },
                      {
                        "bin_start": 0.8,
                        "bin_end": 0.9,
                        "count": 0
                      },
                      {
                        "bin_start": 0.9,
                        "bin_end": 1,
                        "count": 0
                      }
                    ]
                  }
                },
                {
                  "name": "Deaths_Senegal",
                  "dtype": "float64",
                  "stats": {
                    "unique_count": 0,
                    "nan_count": 5,
                    "min": null,
                    "max": null,
                    "histogram": [
                      {
                        "bin_start": 0,
                        "bin_end": 0.1,
                        "count": 0
                      },
                      {
                        "bin_start": 0.1,
                        "bin_end": 0.2,
                        "count": 0
                      },
                      {
                        "bin_start": 0.2,
                        "bin_end": 0.30000000000000004,
                        "count": 0
                      },
                      {
                        "bin_start": 0.30000000000000004,
                        "bin_end": 0.4,
                        "count": 0
                      },
                      {
                        "bin_start": 0.4,
                        "bin_end": 0.5,
                        "count": 0
                      },
                      {
                        "bin_start": 0.5,
                        "bin_end": 0.6000000000000001,
                        "count": 0
                      },
                      {
                        "bin_start": 0.6000000000000001,
                        "bin_end": 0.7000000000000001,
                        "count": 0
                      },
                      {
                        "bin_start": 0.7000000000000001,
                        "bin_end": 0.8,
                        "count": 0
                      },
                      {
                        "bin_start": 0.8,
                        "bin_end": 0.9,
                        "count": 0
                      },
                      {
                        "bin_start": 0.9,
                        "bin_end": 1,
                        "count": 0
                      }
                    ]
                  }
                },
                {
                  "name": "Deaths_UnitedStates",
                  "dtype": "float64",
                  "stats": {
                    "unique_count": 0,
                    "nan_count": 5,
                    "min": null,
                    "max": null,
                    "histogram": [
                      {
                        "bin_start": 0,
                        "bin_end": 0.1,
                        "count": 0
                      },
                      {
                        "bin_start": 0.1,
                        "bin_end": 0.2,
                        "count": 0
                      },
                      {
                        "bin_start": 0.2,
                        "bin_end": 0.30000000000000004,
                        "count": 0
                      },
                      {
                        "bin_start": 0.30000000000000004,
                        "bin_end": 0.4,
                        "count": 0
                      },
                      {
                        "bin_start": 0.4,
                        "bin_end": 0.5,
                        "count": 0
                      },
                      {
                        "bin_start": 0.5,
                        "bin_end": 0.6000000000000001,
                        "count": 0
                      },
                      {
                        "bin_start": 0.6000000000000001,
                        "bin_end": 0.7000000000000001,
                        "count": 0
                      },
                      {
                        "bin_start": 0.7000000000000001,
                        "bin_end": 0.8,
                        "count": 0
                      },
                      {
                        "bin_start": 0.8,
                        "bin_end": 0.9,
                        "count": 0
                      },
                      {
                        "bin_start": 0.9,
                        "bin_end": 1,
                        "count": 0
                      }
                    ]
                  }
                },
                {
                  "name": "Deaths_Spain",
                  "dtype": "float64",
                  "stats": {
                    "unique_count": 0,
                    "nan_count": 5,
                    "min": null,
                    "max": null,
                    "histogram": [
                      {
                        "bin_start": 0,
                        "bin_end": 0.1,
                        "count": 0
                      },
                      {
                        "bin_start": 0.1,
                        "bin_end": 0.2,
                        "count": 0
                      },
                      {
                        "bin_start": 0.2,
                        "bin_end": 0.30000000000000004,
                        "count": 0
                      },
                      {
                        "bin_start": 0.30000000000000004,
                        "bin_end": 0.4,
                        "count": 0
                      },
                      {
                        "bin_start": 0.4,
                        "bin_end": 0.5,
                        "count": 0
                      },
                      {
                        "bin_start": 0.5,
                        "bin_end": 0.6000000000000001,
                        "count": 0
                      },
                      {
                        "bin_start": 0.6000000000000001,
                        "bin_end": 0.7000000000000001,
                        "count": 0
                      },
                      {
                        "bin_start": 0.7000000000000001,
                        "bin_end": 0.8,
                        "count": 0
                      },
                      {
                        "bin_start": 0.8,
                        "bin_end": 0.9,
                        "count": 0
                      },
                      {
                        "bin_start": 0.9,
                        "bin_end": 1,
                        "count": 0
                      }
                    ]
                  }
                },
                {
                  "name": "Deaths_Mali",
                  "dtype": "float64",
                  "stats": {
                    "unique_count": 0,
                    "nan_count": 5,
                    "min": null,
                    "max": null,
                    "histogram": [
                      {
                        "bin_start": 0,
                        "bin_end": 0.1,
                        "count": 0
                      },
                      {
                        "bin_start": 0.1,
                        "bin_end": 0.2,
                        "count": 0
                      },
                      {
                        "bin_start": 0.2,
                        "bin_end": 0.30000000000000004,
                        "count": 0
                      },
                      {
                        "bin_start": 0.30000000000000004,
                        "bin_end": 0.4,
                        "count": 0
                      },
                      {
                        "bin_start": 0.4,
                        "bin_end": 0.5,
                        "count": 0
                      },
                      {
                        "bin_start": 0.5,
                        "bin_end": 0.6000000000000001,
                        "count": 0
                      },
                      {
                        "bin_start": 0.6000000000000001,
                        "bin_end": 0.7000000000000001,
                        "count": 0
                      },
                      {
                        "bin_start": 0.7000000000000001,
                        "bin_end": 0.8,
                        "count": 0
                      },
                      {
                        "bin_start": 0.8,
                        "bin_end": 0.9,
                        "count": 0
                      },
                      {
                        "bin_start": 0.9,
                        "bin_end": 1,
                        "count": 0
                      }
                    ]
                  }
                },
                {
                  "name": "_deepnote_index_column",
                  "dtype": "int64"
                }
              ],
              "rows_top": [
                {
                  "Date": "1/5/2015",
                  "Day": 289,
                  "Cases_Guinea": "2776.0",
                  "Cases_Liberia": "nan",
                  "Cases_SierraLeone": "10030.0",
                  "Cases_Nigeria": "nan",
                  "Cases_Senegal": "nan",
                  "Cases_UnitedStates": "nan",
                  "Cases_Spain": "nan",
                  "Cases_Mali": "nan",
                  "Deaths_Guinea": "1786.0",
                  "Deaths_Liberia": "nan",
                  "Deaths_SierraLeone": "2977.0",
                  "Deaths_Nigeria": "nan",
                  "Deaths_Senegal": "nan",
                  "Deaths_UnitedStates": "nan",
                  "Deaths_Spain": "nan",
                  "Deaths_Mali": "nan",
                  "_deepnote_index_column": 0
                },
                {
                  "Date": "1/4/2015",
                  "Day": 288,
                  "Cases_Guinea": "2775.0",
                  "Cases_Liberia": "nan",
                  "Cases_SierraLeone": "9780.0",
                  "Cases_Nigeria": "nan",
                  "Cases_Senegal": "nan",
                  "Cases_UnitedStates": "nan",
                  "Cases_Spain": "nan",
                  "Cases_Mali": "nan",
                  "Deaths_Guinea": "1781.0",
                  "Deaths_Liberia": "nan",
                  "Deaths_SierraLeone": "2943.0",
                  "Deaths_Nigeria": "nan",
                  "Deaths_Senegal": "nan",
                  "Deaths_UnitedStates": "nan",
                  "Deaths_Spain": "nan",
                  "Deaths_Mali": "nan",
                  "_deepnote_index_column": 1
                },
                {
                  "Date": "1/3/2015",
                  "Day": 287,
                  "Cases_Guinea": "2769.0",
                  "Cases_Liberia": "8166.0",
                  "Cases_SierraLeone": "9722.0",
                  "Cases_Nigeria": "nan",
                  "Cases_Senegal": "nan",
                  "Cases_UnitedStates": "nan",
                  "Cases_Spain": "nan",
                  "Cases_Mali": "nan",
                  "Deaths_Guinea": "1767.0",
                  "Deaths_Liberia": "3496.0",
                  "Deaths_SierraLeone": "2915.0",
                  "Deaths_Nigeria": "nan",
                  "Deaths_Senegal": "nan",
                  "Deaths_UnitedStates": "nan",
                  "Deaths_Spain": "nan",
                  "Deaths_Mali": "nan",
                  "_deepnote_index_column": 2
                },
                {
                  "Date": "1/2/2015",
                  "Day": 286,
                  "Cases_Guinea": "nan",
                  "Cases_Liberia": "8157.0",
                  "Cases_SierraLeone": "nan",
                  "Cases_Nigeria": "nan",
                  "Cases_Senegal": "nan",
                  "Cases_UnitedStates": "nan",
                  "Cases_Spain": "nan",
                  "Cases_Mali": "nan",
                  "Deaths_Guinea": "nan",
                  "Deaths_Liberia": "3496.0",
                  "Deaths_SierraLeone": "nan",
                  "Deaths_Nigeria": "nan",
                  "Deaths_Senegal": "nan",
                  "Deaths_UnitedStates": "nan",
                  "Deaths_Spain": "nan",
                  "Deaths_Mali": "nan",
                  "_deepnote_index_column": 3
                },
                {
                  "Date": "12/31/2014",
                  "Day": 284,
                  "Cases_Guinea": "2730.0",
                  "Cases_Liberia": "8115.0",
                  "Cases_SierraLeone": "9633.0",
                  "Cases_Nigeria": "nan",
                  "Cases_Senegal": "nan",
                  "Cases_UnitedStates": "nan",
                  "Cases_Spain": "nan",
                  "Cases_Mali": "nan",
                  "Deaths_Guinea": "1739.0",
                  "Deaths_Liberia": "3471.0",
                  "Deaths_SierraLeone": "2827.0",
                  "Deaths_Nigeria": "nan",
                  "Deaths_Senegal": "nan",
                  "Deaths_UnitedStates": "nan",
                  "Deaths_Spain": "nan",
                  "Deaths_Mali": "nan",
                  "_deepnote_index_column": 4
                }
              ],
              "rows_bottom": null
            },
            "text/plain": "         Date  Day  Cases_Guinea  Cases_Liberia  Cases_SierraLeone  \\\n0    1/5/2015  289        2776.0            NaN            10030.0   \n1    1/4/2015  288        2775.0            NaN             9780.0   \n2    1/3/2015  287        2769.0         8166.0             9722.0   \n3    1/2/2015  286           NaN         8157.0                NaN   \n4  12/31/2014  284        2730.0         8115.0             9633.0   \n\n   Cases_Nigeria  Cases_Senegal  Cases_UnitedStates  Cases_Spain  Cases_Mali  \\\n0            NaN            NaN                 NaN          NaN         NaN   \n1            NaN            NaN                 NaN          NaN         NaN   \n2            NaN            NaN                 NaN          NaN         NaN   \n3            NaN            NaN                 NaN          NaN         NaN   \n4            NaN            NaN                 NaN          NaN         NaN   \n\n   Deaths_Guinea  Deaths_Liberia  Deaths_SierraLeone  Deaths_Nigeria  \\\n0         1786.0             NaN              2977.0             NaN   \n1         1781.0             NaN              2943.0             NaN   \n2         1767.0          3496.0              2915.0             NaN   \n3            NaN          3496.0                 NaN             NaN   \n4         1739.0          3471.0              2827.0             NaN   \n\n   Deaths_Senegal  Deaths_UnitedStates  Deaths_Spain  Deaths_Mali  \n0             NaN                  NaN           NaN          NaN  \n1             NaN                  NaN           NaN          NaN  \n2             NaN                  NaN           NaN          NaN  \n3             NaN                  NaN           NaN          NaN  \n4             NaN                  NaN           NaN          NaN  ",
            "text/html": "<div>\n<style scoped>\n    .dataframe tbody tr th:only-of-type {\n        vertical-align: middle;\n    }\n\n    .dataframe tbody tr th {\n        vertical-align: top;\n    }\n\n    .dataframe thead th {\n        text-align: right;\n    }\n</style>\n<table border=\"1\" class=\"dataframe\">\n  <thead>\n    <tr style=\"text-align: right;\">\n      <th></th>\n      <th>Date</th>\n      <th>Day</th>\n      <th>Cases_Guinea</th>\n      <th>Cases_Liberia</th>\n      <th>Cases_SierraLeone</th>\n      <th>Cases_Nigeria</th>\n      <th>Cases_Senegal</th>\n      <th>Cases_UnitedStates</th>\n      <th>Cases_Spain</th>\n      <th>Cases_Mali</th>\n      <th>Deaths_Guinea</th>\n      <th>Deaths_Liberia</th>\n      <th>Deaths_SierraLeone</th>\n      <th>Deaths_Nigeria</th>\n      <th>Deaths_Senegal</th>\n      <th>Deaths_UnitedStates</th>\n      <th>Deaths_Spain</th>\n      <th>Deaths_Mali</th>\n    </tr>\n  </thead>\n  <tbody>\n    <tr>\n      <th>0</th>\n      <td>1/5/2015</td>\n      <td>289</td>\n      <td>2776.0</td>\n      <td>NaN</td>\n      <td>10030.0</td>\n      <td>NaN</td>\n      <td>NaN</td>\n      <td>NaN</td>\n      <td>NaN</td>\n      <td>NaN</td>\n      <td>1786.0</td>\n      <td>NaN</td>\n      <td>2977.0</td>\n      <td>NaN</td>\n      <td>NaN</td>\n      <td>NaN</td>\n      <td>NaN</td>\n      <td>NaN</td>\n    </tr>\n    <tr>\n      <th>1</th>\n      <td>1/4/2015</td>\n      <td>288</td>\n      <td>2775.0</td>\n      <td>NaN</td>\n      <td>9780.0</td>\n      <td>NaN</td>\n      <td>NaN</td>\n      <td>NaN</td>\n      <td>NaN</td>\n      <td>NaN</td>\n      <td>1781.0</td>\n      <td>NaN</td>\n      <td>2943.0</td>\n      <td>NaN</td>\n      <td>NaN</td>\n      <td>NaN</td>\n      <td>NaN</td>\n      <td>NaN</td>\n    </tr>\n    <tr>\n      <th>2</th>\n      <td>1/3/2015</td>\n      <td>287</td>\n      <td>2769.0</td>\n      <td>8166.0</td>\n      <td>9722.0</td>\n      <td>NaN</td>\n      <td>NaN</td>\n      <td>NaN</td>\n      <td>NaN</td>\n      <td>NaN</td>\n      <td>1767.0</td>\n      <td>3496.0</td>\n      <td>2915.0</td>\n      <td>NaN</td>\n      <td>NaN</td>\n      <td>NaN</td>\n      <td>NaN</td>\n      <td>NaN</td>\n    </tr>\n    <tr>\n      <th>3</th>\n      <td>1/2/2015</td>\n      <td>286</td>\n      <td>NaN</td>\n      <td>8157.0</td>\n      <td>NaN</td>\n      <td>NaN</td>\n      <td>NaN</td>\n      <td>NaN</td>\n      <td>NaN</td>\n      <td>NaN</td>\n      <td>NaN</td>\n      <td>3496.0</td>\n      <td>NaN</td>\n      <td>NaN</td>\n      <td>NaN</td>\n      <td>NaN</td>\n      <td>NaN</td>\n      <td>NaN</td>\n    </tr>\n    <tr>\n      <th>4</th>\n      <td>12/31/2014</td>\n      <td>284</td>\n      <td>2730.0</td>\n      <td>8115.0</td>\n      <td>9633.0</td>\n      <td>NaN</td>\n      <td>NaN</td>\n      <td>NaN</td>\n      <td>NaN</td>\n      <td>NaN</td>\n      <td>1739.0</td>\n      <td>3471.0</td>\n      <td>2827.0</td>\n      <td>NaN</td>\n      <td>NaN</td>\n      <td>NaN</td>\n      <td>NaN</td>\n      <td>NaN</td>\n    </tr>\n  </tbody>\n</table>\n</div>"
          },
          "metadata": {}
        }
      ]
    },
    {
      "cell_type": "code",
      "metadata": {
        "deepnote_to_be_reexecuted": false,
        "execution_millis": 21,
        "execution_start": 1619967637680,
        "source_hash": "20a04a44",
        "cell_id": "00045-1934bf51-87eb-4885-a9d0-30a274734181",
        "deepnote_cell_type": "code"
      },
      "source": "ebola_long = pd.melt(ebola,\n                    id_vars=['Date', 'Day'])",
      "execution_count": 43,
      "outputs": []
    },
    {
      "cell_type": "code",
      "metadata": {
        "deepnote_to_be_reexecuted": false,
        "execution_millis": 147,
        "execution_start": 1619967637705,
        "source_hash": "878edeaa",
        "cell_id": "00046-34d384ab-5724-4b7b-9096-e67a68209d2d",
        "deepnote_cell_type": "code"
      },
      "source": "ebola_long.head()",
      "execution_count": 44,
      "outputs": [
        {
          "output_type": "execute_result",
          "execution_count": 44,
          "data": {
            "application/vnd.deepnote.dataframe.v2+json": {
              "row_count": 5,
              "column_count": 4,
              "columns": [
                {
                  "name": "Date",
                  "dtype": "object",
                  "stats": {
                    "unique_count": 5,
                    "nan_count": 0,
                    "categories": [
                      {
                        "name": "1/5/2015",
                        "count": 1
                      },
                      {
                        "name": "1/4/2015",
                        "count": 1
                      },
                      {
                        "name": "3 others",
                        "count": 3
                      }
                    ]
                  }
                },
                {
                  "name": "Day",
                  "dtype": "int64",
                  "stats": {
                    "unique_count": 5,
                    "nan_count": 0,
                    "min": "284",
                    "max": "289",
                    "histogram": [
                      {
                        "bin_start": 284,
                        "bin_end": 284.5,
                        "count": 1
                      },
                      {
                        "bin_start": 284.5,
                        "bin_end": 285,
                        "count": 0
                      },
                      {
                        "bin_start": 285,
                        "bin_end": 285.5,
                        "count": 0
                      },
                      {
                        "bin_start": 285.5,
                        "bin_end": 286,
                        "count": 0
                      },
                      {
                        "bin_start": 286,
                        "bin_end": 286.5,
                        "count": 1
                      },
                      {
                        "bin_start": 286.5,
                        "bin_end": 287,
                        "count": 0
                      },
                      {
                        "bin_start": 287,
                        "bin_end": 287.5,
                        "count": 1
                      },
                      {
                        "bin_start": 287.5,
                        "bin_end": 288,
                        "count": 0
                      },
                      {
                        "bin_start": 288,
                        "bin_end": 288.5,
                        "count": 1
                      },
                      {
                        "bin_start": 288.5,
                        "bin_end": 289,
                        "count": 1
                      }
                    ]
                  }
                },
                {
                  "name": "variable",
                  "dtype": "object",
                  "stats": {
                    "unique_count": 1,
                    "nan_count": 0,
                    "categories": [
                      {
                        "name": "Cases_Guinea",
                        "count": 5
                      }
                    ]
                  }
                },
                {
                  "name": "value",
                  "dtype": "float64",
                  "stats": {
                    "unique_count": 4,
                    "nan_count": 1,
                    "min": "2730.0",
                    "max": "2776.0",
                    "histogram": [
                      {
                        "bin_start": 2730,
                        "bin_end": 2734.6,
                        "count": 1
                      },
                      {
                        "bin_start": 2734.6,
                        "bin_end": 2739.2,
                        "count": 0
                      },
                      {
                        "bin_start": 2739.2,
                        "bin_end": 2743.8,
                        "count": 0
                      },
                      {
                        "bin_start": 2743.8,
                        "bin_end": 2748.4,
                        "count": 0
                      },
                      {
                        "bin_start": 2748.4,
                        "bin_end": 2753,
                        "count": 0
                      },
                      {
                        "bin_start": 2753,
                        "bin_end": 2757.6,
                        "count": 0
                      },
                      {
                        "bin_start": 2757.6,
                        "bin_end": 2762.2,
                        "count": 0
                      },
                      {
                        "bin_start": 2762.2,
                        "bin_end": 2766.8,
                        "count": 0
                      },
                      {
                        "bin_start": 2766.8,
                        "bin_end": 2771.4,
                        "count": 1
                      },
                      {
                        "bin_start": 2771.4,
                        "bin_end": 2776,
                        "count": 2
                      }
                    ]
                  }
                },
                {
                  "name": "_deepnote_index_column",
                  "dtype": "int64"
                }
              ],
              "rows_top": [
                {
                  "Date": "1/5/2015",
                  "Day": 289,
                  "variable": "Cases_Guinea",
                  "value": "2776.0",
                  "_deepnote_index_column": 0
                },
                {
                  "Date": "1/4/2015",
                  "Day": 288,
                  "variable": "Cases_Guinea",
                  "value": "2775.0",
                  "_deepnote_index_column": 1
                },
                {
                  "Date": "1/3/2015",
                  "Day": 287,
                  "variable": "Cases_Guinea",
                  "value": "2769.0",
                  "_deepnote_index_column": 2
                },
                {
                  "Date": "1/2/2015",
                  "Day": 286,
                  "variable": "Cases_Guinea",
                  "value": "nan",
                  "_deepnote_index_column": 3
                },
                {
                  "Date": "12/31/2014",
                  "Day": 284,
                  "variable": "Cases_Guinea",
                  "value": "2730.0",
                  "_deepnote_index_column": 4
                }
              ],
              "rows_bottom": null
            },
            "text/plain": "         Date  Day      variable   value\n0    1/5/2015  289  Cases_Guinea  2776.0\n1    1/4/2015  288  Cases_Guinea  2775.0\n2    1/3/2015  287  Cases_Guinea  2769.0\n3    1/2/2015  286  Cases_Guinea     NaN\n4  12/31/2014  284  Cases_Guinea  2730.0",
            "text/html": "<div>\n<style scoped>\n    .dataframe tbody tr th:only-of-type {\n        vertical-align: middle;\n    }\n\n    .dataframe tbody tr th {\n        vertical-align: top;\n    }\n\n    .dataframe thead th {\n        text-align: right;\n    }\n</style>\n<table border=\"1\" class=\"dataframe\">\n  <thead>\n    <tr style=\"text-align: right;\">\n      <th></th>\n      <th>Date</th>\n      <th>Day</th>\n      <th>variable</th>\n      <th>value</th>\n    </tr>\n  </thead>\n  <tbody>\n    <tr>\n      <th>0</th>\n      <td>1/5/2015</td>\n      <td>289</td>\n      <td>Cases_Guinea</td>\n      <td>2776.0</td>\n    </tr>\n    <tr>\n      <th>1</th>\n      <td>1/4/2015</td>\n      <td>288</td>\n      <td>Cases_Guinea</td>\n      <td>2775.0</td>\n    </tr>\n    <tr>\n      <th>2</th>\n      <td>1/3/2015</td>\n      <td>287</td>\n      <td>Cases_Guinea</td>\n      <td>2769.0</td>\n    </tr>\n    <tr>\n      <th>3</th>\n      <td>1/2/2015</td>\n      <td>286</td>\n      <td>Cases_Guinea</td>\n      <td>NaN</td>\n    </tr>\n    <tr>\n      <th>4</th>\n      <td>12/31/2014</td>\n      <td>284</td>\n      <td>Cases_Guinea</td>\n      <td>2730.0</td>\n    </tr>\n  </tbody>\n</table>\n</div>"
          },
          "metadata": {}
        }
      ]
    },
    {
      "cell_type": "code",
      "metadata": {
        "deepnote_to_be_reexecuted": false,
        "execution_millis": 10,
        "execution_start": 1619967637842,
        "source_hash": "7679c64b",
        "cell_id": "00047-1783ecb6-c49e-498b-b500-e888c8e36b11",
        "deepnote_cell_type": "code"
      },
      "source": "'Cases_Guinea'.split('_')",
      "execution_count": 45,
      "outputs": [
        {
          "output_type": "execute_result",
          "execution_count": 45,
          "data": {
            "text/plain": "['Cases', 'Guinea']"
          },
          "metadata": {}
        }
      ]
    },
    {
      "cell_type": "code",
      "metadata": {
        "deepnote_to_be_reexecuted": false,
        "execution_millis": 1,
        "execution_start": 1619967637843,
        "source_hash": "4045798d",
        "cell_id": "00048-01f374d1-4724-4b59-834c-5aefb225f687",
        "deepnote_cell_type": "code"
      },
      "source": "variable_split = ebola_long['variable'].str.split('_')",
      "execution_count": 46,
      "outputs": []
    },
    {
      "cell_type": "code",
      "metadata": {
        "deepnote_to_be_reexecuted": false,
        "execution_millis": 19,
        "execution_start": 1619967637844,
        "source_hash": "5b80e257",
        "cell_id": "00049-97bb2b42-ac28-458d-8913-929a3bb55c91",
        "deepnote_cell_type": "code"
      },
      "source": "variable_split",
      "execution_count": 47,
      "outputs": [
        {
          "output_type": "execute_result",
          "execution_count": 47,
          "data": {
            "text/plain": "0       [Cases, Guinea]\n1       [Cases, Guinea]\n2       [Cases, Guinea]\n3       [Cases, Guinea]\n4       [Cases, Guinea]\n             ...       \n1947     [Deaths, Mali]\n1948     [Deaths, Mali]\n1949     [Deaths, Mali]\n1950     [Deaths, Mali]\n1951     [Deaths, Mali]\nName: variable, Length: 1952, dtype: object"
          },
          "metadata": {}
        }
      ]
    },
    {
      "cell_type": "code",
      "metadata": {
        "deepnote_to_be_reexecuted": false,
        "execution_millis": 16,
        "execution_start": 1619967637876,
        "source_hash": "6917a254",
        "cell_id": "00050-a962444c-d2ca-40e4-82ff-f21833bc3480",
        "deepnote_cell_type": "code"
      },
      "source": "type(variable_split)",
      "execution_count": 48,
      "outputs": [
        {
          "output_type": "execute_result",
          "execution_count": 48,
          "data": {
            "text/plain": "pandas.core.series.Series"
          },
          "metadata": {}
        }
      ]
    },
    {
      "cell_type": "code",
      "metadata": {
        "deepnote_to_be_reexecuted": false,
        "execution_millis": 26,
        "execution_start": 1619967637889,
        "source_hash": "51442d3b",
        "cell_id": "00051-8a699dbf-cd3d-4b53-8348-3d7b40e285a7",
        "deepnote_cell_type": "code"
      },
      "source": "type(variable_split[0])",
      "execution_count": 49,
      "outputs": [
        {
          "output_type": "execute_result",
          "execution_count": 49,
          "data": {
            "text/plain": "list"
          },
          "metadata": {}
        }
      ]
    },
    {
      "cell_type": "code",
      "metadata": {
        "deepnote_to_be_reexecuted": false,
        "execution_millis": 21,
        "execution_start": 1619967637912,
        "source_hash": "3028eb79",
        "cell_id": "00052-cfe8377d-7161-4fbd-afb8-a01ed396dc54",
        "deepnote_cell_type": "code"
      },
      "source": "(variable_split[0][0])",
      "execution_count": 50,
      "outputs": [
        {
          "output_type": "execute_result",
          "execution_count": 50,
          "data": {
            "text/plain": "'Cases'"
          },
          "metadata": {}
        }
      ]
    },
    {
      "cell_type": "code",
      "metadata": {
        "deepnote_to_be_reexecuted": false,
        "execution_millis": 13,
        "execution_start": 1619967637930,
        "source_hash": "9c954b71",
        "cell_id": "00053-29eb820b-4404-4359-a5bc-69d5c182b54a",
        "deepnote_cell_type": "code"
      },
      "source": "type(variable_split[0][0])",
      "execution_count": 51,
      "outputs": [
        {
          "output_type": "execute_result",
          "execution_count": 51,
          "data": {
            "text/plain": "str"
          },
          "metadata": {}
        }
      ]
    },
    {
      "cell_type": "code",
      "metadata": {
        "deepnote_to_be_reexecuted": false,
        "execution_millis": 10,
        "execution_start": 1619967637993,
        "source_hash": "2eb4fbcc",
        "cell_id": "00054-6e90c9f9-1d51-43de-8b41-66c8e172ee01",
        "deepnote_cell_type": "code"
      },
      "source": "variable_split.str.get(0)",
      "execution_count": 52,
      "outputs": [
        {
          "output_type": "execute_result",
          "execution_count": 52,
          "data": {
            "text/plain": "0        Cases\n1        Cases\n2        Cases\n3        Cases\n4        Cases\n         ...  \n1947    Deaths\n1948    Deaths\n1949    Deaths\n1950    Deaths\n1951    Deaths\nName: variable, Length: 1952, dtype: object"
          },
          "metadata": {}
        }
      ]
    },
    {
      "cell_type": "code",
      "metadata": {
        "deepnote_to_be_reexecuted": false,
        "execution_millis": 23,
        "execution_start": 1619967638003,
        "source_hash": "d523ba74",
        "cell_id": "00055-5742ac77-1ce1-4bb4-84b0-5e80eb88db1c",
        "deepnote_cell_type": "code"
      },
      "source": "variable_split.str.get(1)",
      "execution_count": 53,
      "outputs": [
        {
          "output_type": "execute_result",
          "execution_count": 53,
          "data": {
            "text/plain": "0       Guinea\n1       Guinea\n2       Guinea\n3       Guinea\n4       Guinea\n         ...  \n1947      Mali\n1948      Mali\n1949      Mali\n1950      Mali\n1951      Mali\nName: variable, Length: 1952, dtype: object"
          },
          "metadata": {}
        }
      ]
    },
    {
      "cell_type": "code",
      "metadata": {
        "deepnote_to_be_reexecuted": false,
        "execution_millis": 21,
        "execution_start": 1619967638027,
        "source_hash": "c1020b14",
        "cell_id": "00056-87df440c-fbf3-4f9b-88ca-60f19e654fc4",
        "deepnote_cell_type": "code"
      },
      "source": "ebola_long['stats'] = variable_split.str.get(0)\nebola_long['country'] = variable_split.str.get(1)",
      "execution_count": 54,
      "outputs": []
    },
    {
      "cell_type": "code",
      "metadata": {
        "deepnote_to_be_reexecuted": false,
        "execution_millis": 117,
        "execution_start": 1619967638075,
        "source_hash": "878edeaa",
        "cell_id": "00057-30443129-acac-4a7f-9024-435769870ef5",
        "deepnote_cell_type": "code"
      },
      "source": "ebola_long.head()",
      "execution_count": 55,
      "outputs": [
        {
          "output_type": "execute_result",
          "execution_count": 55,
          "data": {
            "application/vnd.deepnote.dataframe.v2+json": {
              "row_count": 5,
              "column_count": 6,
              "columns": [
                {
                  "name": "Date",
                  "dtype": "object",
                  "stats": {
                    "unique_count": 5,
                    "nan_count": 0,
                    "categories": [
                      {
                        "name": "1/5/2015",
                        "count": 1
                      },
                      {
                        "name": "1/4/2015",
                        "count": 1
                      },
                      {
                        "name": "3 others",
                        "count": 3
                      }
                    ]
                  }
                },
                {
                  "name": "Day",
                  "dtype": "int64",
                  "stats": {
                    "unique_count": 5,
                    "nan_count": 0,
                    "min": "284",
                    "max": "289",
                    "histogram": [
                      {
                        "bin_start": 284,
                        "bin_end": 284.5,
                        "count": 1
                      },
                      {
                        "bin_start": 284.5,
                        "bin_end": 285,
                        "count": 0
                      },
                      {
                        "bin_start": 285,
                        "bin_end": 285.5,
                        "count": 0
                      },
                      {
                        "bin_start": 285.5,
                        "bin_end": 286,
                        "count": 0
                      },
                      {
                        "bin_start": 286,
                        "bin_end": 286.5,
                        "count": 1
                      },
                      {
                        "bin_start": 286.5,
                        "bin_end": 287,
                        "count": 0
                      },
                      {
                        "bin_start": 287,
                        "bin_end": 287.5,
                        "count": 1
                      },
                      {
                        "bin_start": 287.5,
                        "bin_end": 288,
                        "count": 0
                      },
                      {
                        "bin_start": 288,
                        "bin_end": 288.5,
                        "count": 1
                      },
                      {
                        "bin_start": 288.5,
                        "bin_end": 289,
                        "count": 1
                      }
                    ]
                  }
                },
                {
                  "name": "variable",
                  "dtype": "object",
                  "stats": {
                    "unique_count": 1,
                    "nan_count": 0,
                    "categories": [
                      {
                        "name": "Cases_Guinea",
                        "count": 5
                      }
                    ]
                  }
                },
                {
                  "name": "value",
                  "dtype": "float64",
                  "stats": {
                    "unique_count": 4,
                    "nan_count": 1,
                    "min": "2730.0",
                    "max": "2776.0",
                    "histogram": [
                      {
                        "bin_start": 2730,
                        "bin_end": 2734.6,
                        "count": 1
                      },
                      {
                        "bin_start": 2734.6,
                        "bin_end": 2739.2,
                        "count": 0
                      },
                      {
                        "bin_start": 2739.2,
                        "bin_end": 2743.8,
                        "count": 0
                      },
                      {
                        "bin_start": 2743.8,
                        "bin_end": 2748.4,
                        "count": 0
                      },
                      {
                        "bin_start": 2748.4,
                        "bin_end": 2753,
                        "count": 0
                      },
                      {
                        "bin_start": 2753,
                        "bin_end": 2757.6,
                        "count": 0
                      },
                      {
                        "bin_start": 2757.6,
                        "bin_end": 2762.2,
                        "count": 0
                      },
                      {
                        "bin_start": 2762.2,
                        "bin_end": 2766.8,
                        "count": 0
                      },
                      {
                        "bin_start": 2766.8,
                        "bin_end": 2771.4,
                        "count": 1
                      },
                      {
                        "bin_start": 2771.4,
                        "bin_end": 2776,
                        "count": 2
                      }
                    ]
                  }
                },
                {
                  "name": "stats",
                  "dtype": "object",
                  "stats": {
                    "unique_count": 1,
                    "nan_count": 0,
                    "categories": [
                      {
                        "name": "Cases",
                        "count": 5
                      }
                    ]
                  }
                },
                {
                  "name": "country",
                  "dtype": "object",
                  "stats": {
                    "unique_count": 1,
                    "nan_count": 0,
                    "categories": [
                      {
                        "name": "Guinea",
                        "count": 5
                      }
                    ]
                  }
                },
                {
                  "name": "_deepnote_index_column",
                  "dtype": "int64"
                }
              ],
              "rows_top": [
                {
                  "Date": "1/5/2015",
                  "Day": 289,
                  "variable": "Cases_Guinea",
                  "value": "2776.0",
                  "stats": "Cases",
                  "country": "Guinea",
                  "_deepnote_index_column": 0
                },
                {
                  "Date": "1/4/2015",
                  "Day": 288,
                  "variable": "Cases_Guinea",
                  "value": "2775.0",
                  "stats": "Cases",
                  "country": "Guinea",
                  "_deepnote_index_column": 1
                },
                {
                  "Date": "1/3/2015",
                  "Day": 287,
                  "variable": "Cases_Guinea",
                  "value": "2769.0",
                  "stats": "Cases",
                  "country": "Guinea",
                  "_deepnote_index_column": 2
                },
                {
                  "Date": "1/2/2015",
                  "Day": 286,
                  "variable": "Cases_Guinea",
                  "value": "nan",
                  "stats": "Cases",
                  "country": "Guinea",
                  "_deepnote_index_column": 3
                },
                {
                  "Date": "12/31/2014",
                  "Day": 284,
                  "variable": "Cases_Guinea",
                  "value": "2730.0",
                  "stats": "Cases",
                  "country": "Guinea",
                  "_deepnote_index_column": 4
                }
              ],
              "rows_bottom": null
            },
            "text/plain": "         Date  Day      variable   value  stats country\n0    1/5/2015  289  Cases_Guinea  2776.0  Cases  Guinea\n1    1/4/2015  288  Cases_Guinea  2775.0  Cases  Guinea\n2    1/3/2015  287  Cases_Guinea  2769.0  Cases  Guinea\n3    1/2/2015  286  Cases_Guinea     NaN  Cases  Guinea\n4  12/31/2014  284  Cases_Guinea  2730.0  Cases  Guinea",
            "text/html": "<div>\n<style scoped>\n    .dataframe tbody tr th:only-of-type {\n        vertical-align: middle;\n    }\n\n    .dataframe tbody tr th {\n        vertical-align: top;\n    }\n\n    .dataframe thead th {\n        text-align: right;\n    }\n</style>\n<table border=\"1\" class=\"dataframe\">\n  <thead>\n    <tr style=\"text-align: right;\">\n      <th></th>\n      <th>Date</th>\n      <th>Day</th>\n      <th>variable</th>\n      <th>value</th>\n      <th>stats</th>\n      <th>country</th>\n    </tr>\n  </thead>\n  <tbody>\n    <tr>\n      <th>0</th>\n      <td>1/5/2015</td>\n      <td>289</td>\n      <td>Cases_Guinea</td>\n      <td>2776.0</td>\n      <td>Cases</td>\n      <td>Guinea</td>\n    </tr>\n    <tr>\n      <th>1</th>\n      <td>1/4/2015</td>\n      <td>288</td>\n      <td>Cases_Guinea</td>\n      <td>2775.0</td>\n      <td>Cases</td>\n      <td>Guinea</td>\n    </tr>\n    <tr>\n      <th>2</th>\n      <td>1/3/2015</td>\n      <td>287</td>\n      <td>Cases_Guinea</td>\n      <td>2769.0</td>\n      <td>Cases</td>\n      <td>Guinea</td>\n    </tr>\n    <tr>\n      <th>3</th>\n      <td>1/2/2015</td>\n      <td>286</td>\n      <td>Cases_Guinea</td>\n      <td>NaN</td>\n      <td>Cases</td>\n      <td>Guinea</td>\n    </tr>\n    <tr>\n      <th>4</th>\n      <td>12/31/2014</td>\n      <td>284</td>\n      <td>Cases_Guinea</td>\n      <td>2730.0</td>\n      <td>Cases</td>\n      <td>Guinea</td>\n    </tr>\n  </tbody>\n</table>\n</div>"
          },
          "metadata": {}
        }
      ]
    },
    {
      "cell_type": "code",
      "metadata": {
        "deepnote_to_be_reexecuted": false,
        "execution_millis": 30,
        "execution_start": 1619967638186,
        "source_hash": "d7fa5d7e",
        "cell_id": "00058-03bd8b3f-ebb1-41bc-9890-a4475b78cef4",
        "deepnote_cell_type": "code"
      },
      "source": "ebola_long[['stats_e', 'country_e']] = (ebola_long['variable']\n                                        .str\n                                        .split('_', expand=True))",
      "execution_count": 56,
      "outputs": []
    },
    {
      "cell_type": "code",
      "metadata": {
        "deepnote_to_be_reexecuted": false,
        "execution_millis": 148,
        "execution_start": 1619967638262,
        "source_hash": "446ef541",
        "cell_id": "00059-440a417b-3461-4e9d-87ae-52fdbed71a9c",
        "deepnote_cell_type": "code"
      },
      "source": "ebola_long",
      "execution_count": 57,
      "outputs": [
        {
          "output_type": "execute_result",
          "execution_count": 57,
          "data": {
            "application/vnd.deepnote.dataframe.v2+json": {
              "row_count": 1952,
              "column_count": 8,
              "columns": [
                {
                  "name": "Date",
                  "dtype": "object",
                  "stats": {
                    "unique_count": 122,
                    "nan_count": 0,
                    "categories": [
                      {
                        "name": "1/5/2015",
                        "count": 16
                      },
                      {
                        "name": "1/4/2015",
                        "count": 16
                      },
                      {
                        "name": "120 others",
                        "count": 1920
                      }
                    ]
                  }
                },
                {
                  "name": "Day",
                  "dtype": "int64",
                  "stats": {
                    "unique_count": 122,
                    "nan_count": 0,
                    "min": "0",
                    "max": "289",
                    "histogram": [
                      {
                        "bin_start": 0,
                        "bin_end": 28.9,
                        "count": 272
                      },
                      {
                        "bin_start": 28.9,
                        "bin_end": 57.8,
                        "count": 192
                      },
                      {
                        "bin_start": 57.8,
                        "bin_end": 86.69999999999999,
                        "count": 128
                      },
                      {
                        "bin_start": 86.69999999999999,
                        "bin_end": 115.6,
                        "count": 176
                      },
                      {
                        "bin_start": 115.6,
                        "bin_end": 144.5,
                        "count": 176
                      },
                      {
                        "bin_start": 144.5,
                        "bin_end": 173.39999999999998,
                        "count": 144
                      },
                      {
                        "bin_start": 173.39999999999998,
                        "bin_end": 202.29999999999998,
                        "count": 208
                      },
                      {
                        "bin_start": 202.29999999999998,
                        "bin_end": 231.2,
                        "count": 256
                      },
                      {
                        "bin_start": 231.2,
                        "bin_end": 260.09999999999997,
                        "count": 192
                      },
                      {
                        "bin_start": 260.09999999999997,
                        "bin_end": 289,
                        "count": 208
                      }
                    ]
                  }
                },
                {
                  "name": "variable",
                  "dtype": "object",
                  "stats": {
                    "unique_count": 16,
                    "nan_count": 0,
                    "categories": [
                      {
                        "name": "Cases_Guinea",
                        "count": 122
                      },
                      {
                        "name": "Cases_Liberia",
                        "count": 122
                      },
                      {
                        "name": "14 others",
                        "count": 1708
                      }
                    ]
                  }
                },
                {
                  "name": "value",
                  "dtype": "float64",
                  "stats": {
                    "unique_count": 415,
                    "nan_count": 1214,
                    "min": "0.0",
                    "max": "10030.0",
                    "histogram": [
                      {
                        "bin_start": 0,
                        "bin_end": 1003,
                        "count": 556
                      },
                      {
                        "bin_start": 1003,
                        "bin_end": 2006,
                        "count": 73
                      },
                      {
                        "bin_start": 2006,
                        "bin_end": 3009,
                        "count": 45
                      },
                      {
                        "bin_start": 3009,
                        "bin_end": 4012,
                        "count": 21
                      },
                      {
                        "bin_start": 4012,
                        "bin_end": 5015,
                        "count": 6
                      },
                      {
                        "bin_start": 5015,
                        "bin_end": 6018,
                        "count": 4
                      },
                      {
                        "bin_start": 6018,
                        "bin_end": 7021,
                        "count": 8
                      },
                      {
                        "bin_start": 7021,
                        "bin_end": 8024,
                        "count": 12
                      },
                      {
                        "bin_start": 8024,
                        "bin_end": 9027,
                        "count": 6
                      },
                      {
                        "bin_start": 9027,
                        "bin_end": 10030,
                        "count": 7
                      }
                    ]
                  }
                },
                {
                  "name": "stats",
                  "dtype": "object",
                  "stats": {
                    "unique_count": 2,
                    "nan_count": 0,
                    "categories": [
                      {
                        "name": "Cases",
                        "count": 976
                      },
                      {
                        "name": "Deaths",
                        "count": 976
                      }
                    ]
                  }
                },
                {
                  "name": "country",
                  "dtype": "object",
                  "stats": {
                    "unique_count": 8,
                    "nan_count": 0,
                    "categories": [
                      {
                        "name": "Guinea",
                        "count": 244
                      },
                      {
                        "name": "Liberia",
                        "count": 244
                      },
                      {
                        "name": "6 others",
                        "count": 1464
                      }
                    ]
                  }
                },
                {
                  "name": "stats_e",
                  "dtype": "object",
                  "stats": {
                    "unique_count": 2,
                    "nan_count": 0,
                    "categories": [
                      {
                        "name": "Cases",
                        "count": 976
                      },
                      {
                        "name": "Deaths",
                        "count": 976
                      }
                    ]
                  }
                },
                {
                  "name": "country_e",
                  "dtype": "object",
                  "stats": {
                    "unique_count": 8,
                    "nan_count": 0,
                    "categories": [
                      {
                        "name": "Guinea",
                        "count": 244
                      },
                      {
                        "name": "Liberia",
                        "count": 244
                      },
                      {
                        "name": "6 others",
                        "count": 1464
                      }
                    ]
                  }
                },
                {
                  "name": "_deepnote_index_column",
                  "dtype": "int64"
                }
              ],
              "rows_top": [
                {
                  "Date": "1/5/2015",
                  "Day": 289,
                  "variable": "Cases_Guinea",
                  "value": "2776.0",
                  "stats": "Cases",
                  "country": "Guinea",
                  "stats_e": "Cases",
                  "country_e": "Guinea",
                  "_deepnote_index_column": 0
                },
                {
                  "Date": "1/4/2015",
                  "Day": 288,
                  "variable": "Cases_Guinea",
                  "value": "2775.0",
                  "stats": "Cases",
                  "country": "Guinea",
                  "stats_e": "Cases",
                  "country_e": "Guinea",
                  "_deepnote_index_column": 1
                },
                {
                  "Date": "1/3/2015",
                  "Day": 287,
                  "variable": "Cases_Guinea",
                  "value": "2769.0",
                  "stats": "Cases",
                  "country": "Guinea",
                  "stats_e": "Cases",
                  "country_e": "Guinea",
                  "_deepnote_index_column": 2
                },
                {
                  "Date": "1/2/2015",
                  "Day": 286,
                  "variable": "Cases_Guinea",
                  "value": "nan",
                  "stats": "Cases",
                  "country": "Guinea",
                  "stats_e": "Cases",
                  "country_e": "Guinea",
                  "_deepnote_index_column": 3
                },
                {
                  "Date": "12/31/2014",
                  "Day": 284,
                  "variable": "Cases_Guinea",
                  "value": "2730.0",
                  "stats": "Cases",
                  "country": "Guinea",
                  "stats_e": "Cases",
                  "country_e": "Guinea",
                  "_deepnote_index_column": 4
                },
                {
                  "Date": "12/28/2014",
                  "Day": 281,
                  "variable": "Cases_Guinea",
                  "value": "2706.0",
                  "stats": "Cases",
                  "country": "Guinea",
                  "stats_e": "Cases",
                  "country_e": "Guinea",
                  "_deepnote_index_column": 5
                },
                {
                  "Date": "12/27/2014",
                  "Day": 280,
                  "variable": "Cases_Guinea",
                  "value": "2695.0",
                  "stats": "Cases",
                  "country": "Guinea",
                  "stats_e": "Cases",
                  "country_e": "Guinea",
                  "_deepnote_index_column": 6
                },
                {
                  "Date": "12/24/2014",
                  "Day": 277,
                  "variable": "Cases_Guinea",
                  "value": "2630.0",
                  "stats": "Cases",
                  "country": "Guinea",
                  "stats_e": "Cases",
                  "country_e": "Guinea",
                  "_deepnote_index_column": 7
                },
                {
                  "Date": "12/21/2014",
                  "Day": 273,
                  "variable": "Cases_Guinea",
                  "value": "2597.0",
                  "stats": "Cases",
                  "country": "Guinea",
                  "stats_e": "Cases",
                  "country_e": "Guinea",
                  "_deepnote_index_column": 8
                },
                {
                  "Date": "12/20/2014",
                  "Day": 272,
                  "variable": "Cases_Guinea",
                  "value": "2571.0",
                  "stats": "Cases",
                  "country": "Guinea",
                  "stats_e": "Cases",
                  "country_e": "Guinea",
                  "_deepnote_index_column": 9
                },
                {
                  "Date": "12/18/2014",
                  "Day": 271,
                  "variable": "Cases_Guinea",
                  "value": "nan",
                  "stats": "Cases",
                  "country": "Guinea",
                  "stats_e": "Cases",
                  "country_e": "Guinea",
                  "_deepnote_index_column": 10
                },
                {
                  "Date": "12/14/2014",
                  "Day": 267,
                  "variable": "Cases_Guinea",
                  "value": "2416.0",
                  "stats": "Cases",
                  "country": "Guinea",
                  "stats_e": "Cases",
                  "country_e": "Guinea",
                  "_deepnote_index_column": 11
                },
                {
                  "Date": "12/9/2014",
                  "Day": 262,
                  "variable": "Cases_Guinea",
                  "value": "nan",
                  "stats": "Cases",
                  "country": "Guinea",
                  "stats_e": "Cases",
                  "country_e": "Guinea",
                  "_deepnote_index_column": 12
                },
                {
                  "Date": "12/7/2014",
                  "Day": 260,
                  "variable": "Cases_Guinea",
                  "value": "2292.0",
                  "stats": "Cases",
                  "country": "Guinea",
                  "stats_e": "Cases",
                  "country_e": "Guinea",
                  "_deepnote_index_column": 13
                },
                {
                  "Date": "12/3/2014",
                  "Day": 256,
                  "variable": "Cases_Guinea",
                  "value": "nan",
                  "stats": "Cases",
                  "country": "Guinea",
                  "stats_e": "Cases",
                  "country_e": "Guinea",
                  "_deepnote_index_column": 14
                },
                {
                  "Date": "11/30/2014",
                  "Day": 253,
                  "variable": "Cases_Guinea",
                  "value": "2164.0",
                  "stats": "Cases",
                  "country": "Guinea",
                  "stats_e": "Cases",
                  "country_e": "Guinea",
                  "_deepnote_index_column": 15
                },
                {
                  "Date": "11/28/2014",
                  "Day": 251,
                  "variable": "Cases_Guinea",
                  "value": "nan",
                  "stats": "Cases",
                  "country": "Guinea",
                  "stats_e": "Cases",
                  "country_e": "Guinea",
                  "_deepnote_index_column": 16
                },
                {
                  "Date": "11/23/2014",
                  "Day": 246,
                  "variable": "Cases_Guinea",
                  "value": "2134.0",
                  "stats": "Cases",
                  "country": "Guinea",
                  "stats_e": "Cases",
                  "country_e": "Guinea",
                  "_deepnote_index_column": 17
                },
                {
                  "Date": "11/22/2014",
                  "Day": 245,
                  "variable": "Cases_Guinea",
                  "value": "nan",
                  "stats": "Cases",
                  "country": "Guinea",
                  "stats_e": "Cases",
                  "country_e": "Guinea",
                  "_deepnote_index_column": 18
                },
                {
                  "Date": "11/18/2014",
                  "Day": 241,
                  "variable": "Cases_Guinea",
                  "value": "2047.0",
                  "stats": "Cases",
                  "country": "Guinea",
                  "stats_e": "Cases",
                  "country_e": "Guinea",
                  "_deepnote_index_column": 19
                },
                {
                  "Date": "11/16/2014",
                  "Day": 239,
                  "variable": "Cases_Guinea",
                  "value": "1971.0",
                  "stats": "Cases",
                  "country": "Guinea",
                  "stats_e": "Cases",
                  "country_e": "Guinea",
                  "_deepnote_index_column": 20
                },
                {
                  "Date": "11/15/2014",
                  "Day": 238,
                  "variable": "Cases_Guinea",
                  "value": "nan",
                  "stats": "Cases",
                  "country": "Guinea",
                  "stats_e": "Cases",
                  "country_e": "Guinea",
                  "_deepnote_index_column": 21
                },
                {
                  "Date": "11/11/2014",
                  "Day": 234,
                  "variable": "Cases_Guinea",
                  "value": "1919.0",
                  "stats": "Cases",
                  "country": "Guinea",
                  "stats_e": "Cases",
                  "country_e": "Guinea",
                  "_deepnote_index_column": 22
                },
                {
                  "Date": "11/10/2014",
                  "Day": 233,
                  "variable": "Cases_Guinea",
                  "value": "nan",
                  "stats": "Cases",
                  "country": "Guinea",
                  "stats_e": "Cases",
                  "country_e": "Guinea",
                  "_deepnote_index_column": 23
                },
                {
                  "Date": "11/9/2014",
                  "Day": 232,
                  "variable": "Cases_Guinea",
                  "value": "1878.0",
                  "stats": "Cases",
                  "country": "Guinea",
                  "stats_e": "Cases",
                  "country_e": "Guinea",
                  "_deepnote_index_column": 24
                },
                {
                  "Date": "11/8/2014",
                  "Day": 231,
                  "variable": "Cases_Guinea",
                  "value": "nan",
                  "stats": "Cases",
                  "country": "Guinea",
                  "stats_e": "Cases",
                  "country_e": "Guinea",
                  "_deepnote_index_column": 25
                },
                {
                  "Date": "11/4/2014",
                  "Day": 227,
                  "variable": "Cases_Guinea",
                  "value": "nan",
                  "stats": "Cases",
                  "country": "Guinea",
                  "stats_e": "Cases",
                  "country_e": "Guinea",
                  "_deepnote_index_column": 26
                },
                {
                  "Date": "11/3/2014",
                  "Day": 226,
                  "variable": "Cases_Guinea",
                  "value": "1760.0",
                  "stats": "Cases",
                  "country": "Guinea",
                  "stats_e": "Cases",
                  "country_e": "Guinea",
                  "_deepnote_index_column": 27
                },
                {
                  "Date": "11/2/2014",
                  "Day": 225,
                  "variable": "Cases_Guinea",
                  "value": "1731.0",
                  "stats": "Cases",
                  "country": "Guinea",
                  "stats_e": "Cases",
                  "country_e": "Guinea",
                  "_deepnote_index_column": 28
                },
                {
                  "Date": "10/31/2014",
                  "Day": 222,
                  "variable": "Cases_Guinea",
                  "value": "nan",
                  "stats": "Cases",
                  "country": "Guinea",
                  "stats_e": "Cases",
                  "country_e": "Guinea",
                  "_deepnote_index_column": 29
                },
                {
                  "Date": "10/29/2014",
                  "Day": 220,
                  "variable": "Cases_Guinea",
                  "value": "1667.0",
                  "stats": "Cases",
                  "country": "Guinea",
                  "stats_e": "Cases",
                  "country_e": "Guinea",
                  "_deepnote_index_column": 30
                },
                {
                  "Date": "10/27/2014",
                  "Day": 218,
                  "variable": "Cases_Guinea",
                  "value": "1906.0",
                  "stats": "Cases",
                  "country": "Guinea",
                  "stats_e": "Cases",
                  "country_e": "Guinea",
                  "_deepnote_index_column": 31
                },
                {
                  "Date": "10/25/2014",
                  "Day": 216,
                  "variable": "Cases_Guinea",
                  "value": "nan",
                  "stats": "Cases",
                  "country": "Guinea",
                  "stats_e": "Cases",
                  "country_e": "Guinea",
                  "_deepnote_index_column": 32
                },
                {
                  "Date": "10/22/2014",
                  "Day": 214,
                  "variable": "Cases_Guinea",
                  "value": "nan",
                  "stats": "Cases",
                  "country": "Guinea",
                  "stats_e": "Cases",
                  "country_e": "Guinea",
                  "_deepnote_index_column": 33
                },
                {
                  "Date": "10/21/2014",
                  "Day": 213,
                  "variable": "Cases_Guinea",
                  "value": "1553.0",
                  "stats": "Cases",
                  "country": "Guinea",
                  "stats_e": "Cases",
                  "country_e": "Guinea",
                  "_deepnote_index_column": 34
                },
                {
                  "Date": "10/19/2014",
                  "Day": 211,
                  "variable": "Cases_Guinea",
                  "value": "1540.0",
                  "stats": "Cases",
                  "country": "Guinea",
                  "stats_e": "Cases",
                  "country_e": "Guinea",
                  "_deepnote_index_column": 35
                },
                {
                  "Date": "10/18/2014",
                  "Day": 210,
                  "variable": "Cases_Guinea",
                  "value": "nan",
                  "stats": "Cases",
                  "country": "Guinea",
                  "stats_e": "Cases",
                  "country_e": "Guinea",
                  "_deepnote_index_column": 36
                },
                {
                  "Date": "10/14/2014",
                  "Day": 206,
                  "variable": "Cases_Guinea",
                  "value": "1519.0",
                  "stats": "Cases",
                  "country": "Guinea",
                  "stats_e": "Cases",
                  "country_e": "Guinea",
                  "_deepnote_index_column": 37
                },
                {
                  "Date": "10/13/2014",
                  "Day": 205,
                  "variable": "Cases_Guinea",
                  "value": "nan",
                  "stats": "Cases",
                  "country": "Guinea",
                  "stats_e": "Cases",
                  "country_e": "Guinea",
                  "_deepnote_index_column": 38
                },
                {
                  "Date": "10/12/2014",
                  "Day": 204,
                  "variable": "Cases_Guinea",
                  "value": "1472.0",
                  "stats": "Cases",
                  "country": "Guinea",
                  "stats_e": "Cases",
                  "country_e": "Guinea",
                  "_deepnote_index_column": 39
                },
                {
                  "Date": "10/11/2014",
                  "Day": 203,
                  "variable": "Cases_Guinea",
                  "value": "nan",
                  "stats": "Cases",
                  "country": "Guinea",
                  "stats_e": "Cases",
                  "country_e": "Guinea",
                  "_deepnote_index_column": 40
                },
                {
                  "Date": "10/8/2014",
                  "Day": 200,
                  "variable": "Cases_Guinea",
                  "value": "nan",
                  "stats": "Cases",
                  "country": "Guinea",
                  "stats_e": "Cases",
                  "country_e": "Guinea",
                  "_deepnote_index_column": 41
                },
                {
                  "Date": "10/7/2014",
                  "Day": 199,
                  "variable": "Cases_Guinea",
                  "value": "1350.0",
                  "stats": "Cases",
                  "country": "Guinea",
                  "stats_e": "Cases",
                  "country_e": "Guinea",
                  "_deepnote_index_column": 42
                },
                {
                  "Date": "10/5/2014",
                  "Day": 197,
                  "variable": "Cases_Guinea",
                  "value": "1298.0",
                  "stats": "Cases",
                  "country": "Guinea",
                  "stats_e": "Cases",
                  "country_e": "Guinea",
                  "_deepnote_index_column": 43
                },
                {
                  "Date": "10/4/2014",
                  "Day": 196,
                  "variable": "Cases_Guinea",
                  "value": "nan",
                  "stats": "Cases",
                  "country": "Guinea",
                  "stats_e": "Cases",
                  "country_e": "Guinea",
                  "_deepnote_index_column": 44
                },
                {
                  "Date": "10/1/2014",
                  "Day": 193,
                  "variable": "Cases_Guinea",
                  "value": "1199.0",
                  "stats": "Cases",
                  "country": "Guinea",
                  "stats_e": "Cases",
                  "country_e": "Guinea",
                  "_deepnote_index_column": 45
                },
                {
                  "Date": "9/28/2014",
                  "Day": 190,
                  "variable": "Cases_Guinea",
                  "value": "1157.0",
                  "stats": "Cases",
                  "country": "Guinea",
                  "stats_e": "Cases",
                  "country_e": "Guinea",
                  "_deepnote_index_column": 46
                },
                {
                  "Date": "9/23/2014",
                  "Day": 185,
                  "variable": "Cases_Guinea",
                  "value": "1074.0",
                  "stats": "Cases",
                  "country": "Guinea",
                  "stats_e": "Cases",
                  "country_e": "Guinea",
                  "_deepnote_index_column": 47
                },
                {
                  "Date": "9/21/2014",
                  "Day": 183,
                  "variable": "Cases_Guinea",
                  "value": "1022.0",
                  "stats": "Cases",
                  "country": "Guinea",
                  "stats_e": "Cases",
                  "country_e": "Guinea",
                  "_deepnote_index_column": 48
                },
                {
                  "Date": "9/20/2014",
                  "Day": 182,
                  "variable": "Cases_Guinea",
                  "value": "nan",
                  "stats": "Cases",
                  "country": "Guinea",
                  "stats_e": "Cases",
                  "country_e": "Guinea",
                  "_deepnote_index_column": 49
                },
                {
                  "Date": "9/19/2014",
                  "Day": 181,
                  "variable": "Cases_Guinea",
                  "value": "1008.0",
                  "stats": "Cases",
                  "country": "Guinea",
                  "stats_e": "Cases",
                  "country_e": "Guinea",
                  "_deepnote_index_column": 50
                },
                {
                  "Date": "9/17/2014",
                  "Day": 179,
                  "variable": "Cases_Guinea",
                  "value": "nan",
                  "stats": "Cases",
                  "country": "Guinea",
                  "stats_e": "Cases",
                  "country_e": "Guinea",
                  "_deepnote_index_column": 51
                },
                {
                  "Date": "9/14/2014",
                  "Day": 176,
                  "variable": "Cases_Guinea",
                  "value": "942.0",
                  "stats": "Cases",
                  "country": "Guinea",
                  "stats_e": "Cases",
                  "country_e": "Guinea",
                  "_deepnote_index_column": 52
                },
                {
                  "Date": "9/13/2014",
                  "Day": 175,
                  "variable": "Cases_Guinea",
                  "value": "936.0",
                  "stats": "Cases",
                  "country": "Guinea",
                  "stats_e": "Cases",
                  "country_e": "Guinea",
                  "_deepnote_index_column": 53
                },
                {
                  "Date": "9/10/2014",
                  "Day": 172,
                  "variable": "Cases_Guinea",
                  "value": "899.0",
                  "stats": "Cases",
                  "country": "Guinea",
                  "stats_e": "Cases",
                  "country_e": "Guinea",
                  "_deepnote_index_column": 54
                },
                {
                  "Date": "9/9/2014",
                  "Day": 171,
                  "variable": "Cases_Guinea",
                  "value": "nan",
                  "stats": "Cases",
                  "country": "Guinea",
                  "stats_e": "Cases",
                  "country_e": "Guinea",
                  "_deepnote_index_column": 55
                },
                {
                  "Date": "9/7/2014",
                  "Day": 169,
                  "variable": "Cases_Guinea",
                  "value": "861.0",
                  "stats": "Cases",
                  "country": "Guinea",
                  "stats_e": "Cases",
                  "country_e": "Guinea",
                  "_deepnote_index_column": 56
                },
                {
                  "Date": "9/5/2014",
                  "Day": 167,
                  "variable": "Cases_Guinea",
                  "value": "812.0",
                  "stats": "Cases",
                  "country": "Guinea",
                  "stats_e": "Cases",
                  "country_e": "Guinea",
                  "_deepnote_index_column": 57
                },
                {
                  "Date": "8/31/2014",
                  "Day": 162,
                  "variable": "Cases_Guinea",
                  "value": "771.0",
                  "stats": "Cases",
                  "country": "Guinea",
                  "stats_e": "Cases",
                  "country_e": "Guinea",
                  "_deepnote_index_column": 58
                },
                {
                  "Date": "8/26/2014",
                  "Day": 157,
                  "variable": "Cases_Guinea",
                  "value": "648.0",
                  "stats": "Cases",
                  "country": "Guinea",
                  "stats_e": "Cases",
                  "country_e": "Guinea",
                  "_deepnote_index_column": 59
                },
                {
                  "Date": "8/20/2014",
                  "Day": 151,
                  "variable": "Cases_Guinea",
                  "value": "607.0",
                  "stats": "Cases",
                  "country": "Guinea",
                  "stats_e": "Cases",
                  "country_e": "Guinea",
                  "_deepnote_index_column": 60
                },
                {
                  "Date": "8/18/2014",
                  "Day": 149,
                  "variable": "Cases_Guinea",
                  "value": "579.0",
                  "stats": "Cases",
                  "country": "Guinea",
                  "stats_e": "Cases",
                  "country_e": "Guinea",
                  "_deepnote_index_column": 61
                }
              ],
              "rows_bottom": [
                {
                  "Date": "8/26/2014",
                  "Day": 157,
                  "variable": "Deaths_Mali",
                  "value": "nan",
                  "stats": "Deaths",
                  "country": "Mali",
                  "stats_e": "Deaths",
                  "country_e": "Mali",
                  "_deepnote_index_column": 1889
                },
                {
                  "Date": "8/20/2014",
                  "Day": 151,
                  "variable": "Deaths_Mali",
                  "value": "nan",
                  "stats": "Deaths",
                  "country": "Mali",
                  "stats_e": "Deaths",
                  "country_e": "Mali",
                  "_deepnote_index_column": 1890
                },
                {
                  "Date": "8/18/2014",
                  "Day": 149,
                  "variable": "Deaths_Mali",
                  "value": "nan",
                  "stats": "Deaths",
                  "country": "Mali",
                  "stats_e": "Deaths",
                  "country_e": "Mali",
                  "_deepnote_index_column": 1891
                },
                {
                  "Date": "8/16/2014",
                  "Day": 147,
                  "variable": "Deaths_Mali",
                  "value": "nan",
                  "stats": "Deaths",
                  "country": "Mali",
                  "stats_e": "Deaths",
                  "country_e": "Mali",
                  "_deepnote_index_column": 1892
                },
                {
                  "Date": "8/13/2014",
                  "Day": 144,
                  "variable": "Deaths_Mali",
                  "value": "nan",
                  "stats": "Deaths",
                  "country": "Mali",
                  "stats_e": "Deaths",
                  "country_e": "Mali",
                  "_deepnote_index_column": 1893
                },
                {
                  "Date": "8/11/2014",
                  "Day": 142,
                  "variable": "Deaths_Mali",
                  "value": "nan",
                  "stats": "Deaths",
                  "country": "Mali",
                  "stats_e": "Deaths",
                  "country_e": "Mali",
                  "_deepnote_index_column": 1894
                },
                {
                  "Date": "8/9/2014",
                  "Day": 140,
                  "variable": "Deaths_Mali",
                  "value": "nan",
                  "stats": "Deaths",
                  "country": "Mali",
                  "stats_e": "Deaths",
                  "country_e": "Mali",
                  "_deepnote_index_column": 1895
                },
                {
                  "Date": "8/6/2014",
                  "Day": 137,
                  "variable": "Deaths_Mali",
                  "value": "nan",
                  "stats": "Deaths",
                  "country": "Mali",
                  "stats_e": "Deaths",
                  "country_e": "Mali",
                  "_deepnote_index_column": 1896
                },
                {
                  "Date": "8/4/2014",
                  "Day": 135,
                  "variable": "Deaths_Mali",
                  "value": "nan",
                  "stats": "Deaths",
                  "country": "Mali",
                  "stats_e": "Deaths",
                  "country_e": "Mali",
                  "_deepnote_index_column": 1897
                },
                {
                  "Date": "8/1/2014",
                  "Day": 132,
                  "variable": "Deaths_Mali",
                  "value": "nan",
                  "stats": "Deaths",
                  "country": "Mali",
                  "stats_e": "Deaths",
                  "country_e": "Mali",
                  "_deepnote_index_column": 1898
                },
                {
                  "Date": "7/30/2014",
                  "Day": 129,
                  "variable": "Deaths_Mali",
                  "value": "nan",
                  "stats": "Deaths",
                  "country": "Mali",
                  "stats_e": "Deaths",
                  "country_e": "Mali",
                  "_deepnote_index_column": 1899
                },
                {
                  "Date": "7/27/2014",
                  "Day": 126,
                  "variable": "Deaths_Mali",
                  "value": "nan",
                  "stats": "Deaths",
                  "country": "Mali",
                  "stats_e": "Deaths",
                  "country_e": "Mali",
                  "_deepnote_index_column": 1900
                },
                {
                  "Date": "7/23/2014",
                  "Day": 123,
                  "variable": "Deaths_Mali",
                  "value": "nan",
                  "stats": "Deaths",
                  "country": "Mali",
                  "stats_e": "Deaths",
                  "country_e": "Mali",
                  "_deepnote_index_column": 1901
                },
                {
                  "Date": "7/20/2014",
                  "Day": 120,
                  "variable": "Deaths_Mali",
                  "value": "nan",
                  "stats": "Deaths",
                  "country": "Mali",
                  "stats_e": "Deaths",
                  "country_e": "Mali",
                  "_deepnote_index_column": 1902
                },
                {
                  "Date": "7/17/2014",
                  "Day": 117,
                  "variable": "Deaths_Mali",
                  "value": "nan",
                  "stats": "Deaths",
                  "country": "Mali",
                  "stats_e": "Deaths",
                  "country_e": "Mali",
                  "_deepnote_index_column": 1903
                },
                {
                  "Date": "7/14/2014",
                  "Day": 114,
                  "variable": "Deaths_Mali",
                  "value": "nan",
                  "stats": "Deaths",
                  "country": "Mali",
                  "stats_e": "Deaths",
                  "country_e": "Mali",
                  "_deepnote_index_column": 1904
                },
                {
                  "Date": "7/12/2014",
                  "Day": 112,
                  "variable": "Deaths_Mali",
                  "value": "nan",
                  "stats": "Deaths",
                  "country": "Mali",
                  "stats_e": "Deaths",
                  "country_e": "Mali",
                  "_deepnote_index_column": 1905
                },
                {
                  "Date": "7/8/2014",
                  "Day": 108,
                  "variable": "Deaths_Mali",
                  "value": "nan",
                  "stats": "Deaths",
                  "country": "Mali",
                  "stats_e": "Deaths",
                  "country_e": "Mali",
                  "_deepnote_index_column": 1906
                },
                {
                  "Date": "7/6/2014",
                  "Day": 106,
                  "variable": "Deaths_Mali",
                  "value": "nan",
                  "stats": "Deaths",
                  "country": "Mali",
                  "stats_e": "Deaths",
                  "country_e": "Mali",
                  "_deepnote_index_column": 1907
                },
                {
                  "Date": "7/2/2014",
                  "Day": 102,
                  "variable": "Deaths_Mali",
                  "value": "nan",
                  "stats": "Deaths",
                  "country": "Mali",
                  "stats_e": "Deaths",
                  "country_e": "Mali",
                  "_deepnote_index_column": 1908
                },
                {
                  "Date": "6/30/2014",
                  "Day": 100,
                  "variable": "Deaths_Mali",
                  "value": "nan",
                  "stats": "Deaths",
                  "country": "Mali",
                  "stats_e": "Deaths",
                  "country_e": "Mali",
                  "_deepnote_index_column": 1909
                },
                {
                  "Date": "6/22/2014",
                  "Day": 92,
                  "variable": "Deaths_Mali",
                  "value": "nan",
                  "stats": "Deaths",
                  "country": "Mali",
                  "stats_e": "Deaths",
                  "country_e": "Mali",
                  "_deepnote_index_column": 1910
                },
                {
                  "Date": "6/20/2014",
                  "Day": 90,
                  "variable": "Deaths_Mali",
                  "value": "nan",
                  "stats": "Deaths",
                  "country": "Mali",
                  "stats_e": "Deaths",
                  "country_e": "Mali",
                  "_deepnote_index_column": 1911
                },
                {
                  "Date": "6/19/2014",
                  "Day": 89,
                  "variable": "Deaths_Mali",
                  "value": "nan",
                  "stats": "Deaths",
                  "country": "Mali",
                  "stats_e": "Deaths",
                  "country_e": "Mali",
                  "_deepnote_index_column": 1912
                },
                {
                  "Date": "6/18/2014",
                  "Day": 88,
                  "variable": "Deaths_Mali",
                  "value": "nan",
                  "stats": "Deaths",
                  "country": "Mali",
                  "stats_e": "Deaths",
                  "country_e": "Mali",
                  "_deepnote_index_column": 1913
                },
                {
                  "Date": "6/17/2014",
                  "Day": 87,
                  "variable": "Deaths_Mali",
                  "value": "nan",
                  "stats": "Deaths",
                  "country": "Mali",
                  "stats_e": "Deaths",
                  "country_e": "Mali",
                  "_deepnote_index_column": 1914
                },
                {
                  "Date": "6/16/2014",
                  "Day": 86,
                  "variable": "Deaths_Mali",
                  "value": "nan",
                  "stats": "Deaths",
                  "country": "Mali",
                  "stats_e": "Deaths",
                  "country_e": "Mali",
                  "_deepnote_index_column": 1915
                },
                {
                  "Date": "6/10/2014",
                  "Day": 80,
                  "variable": "Deaths_Mali",
                  "value": "nan",
                  "stats": "Deaths",
                  "country": "Mali",
                  "stats_e": "Deaths",
                  "country_e": "Mali",
                  "_deepnote_index_column": 1916
                },
                {
                  "Date": "6/5/2014",
                  "Day": 75,
                  "variable": "Deaths_Mali",
                  "value": "nan",
                  "stats": "Deaths",
                  "country": "Mali",
                  "stats_e": "Deaths",
                  "country_e": "Mali",
                  "_deepnote_index_column": 1917
                },
                {
                  "Date": "6/3/2014",
                  "Day": 73,
                  "variable": "Deaths_Mali",
                  "value": "nan",
                  "stats": "Deaths",
                  "country": "Mali",
                  "stats_e": "Deaths",
                  "country_e": "Mali",
                  "_deepnote_index_column": 1918
                },
                {
                  "Date": "6/1/2014",
                  "Day": 71,
                  "variable": "Deaths_Mali",
                  "value": "nan",
                  "stats": "Deaths",
                  "country": "Mali",
                  "stats_e": "Deaths",
                  "country_e": "Mali",
                  "_deepnote_index_column": 1919
                },
                {
                  "Date": "5/28/2014",
                  "Day": 67,
                  "variable": "Deaths_Mali",
                  "value": "nan",
                  "stats": "Deaths",
                  "country": "Mali",
                  "stats_e": "Deaths",
                  "country_e": "Mali",
                  "_deepnote_index_column": 1920
                },
                {
                  "Date": "5/27/2014",
                  "Day": 66,
                  "variable": "Deaths_Mali",
                  "value": "nan",
                  "stats": "Deaths",
                  "country": "Mali",
                  "stats_e": "Deaths",
                  "country_e": "Mali",
                  "_deepnote_index_column": 1921
                },
                {
                  "Date": "5/23/2014",
                  "Day": 62,
                  "variable": "Deaths_Mali",
                  "value": "nan",
                  "stats": "Deaths",
                  "country": "Mali",
                  "stats_e": "Deaths",
                  "country_e": "Mali",
                  "_deepnote_index_column": 1922
                },
                {
                  "Date": "5/12/2014",
                  "Day": 51,
                  "variable": "Deaths_Mali",
                  "value": "nan",
                  "stats": "Deaths",
                  "country": "Mali",
                  "stats_e": "Deaths",
                  "country_e": "Mali",
                  "_deepnote_index_column": 1923
                },
                {
                  "Date": "5/10/2014",
                  "Day": 49,
                  "variable": "Deaths_Mali",
                  "value": "nan",
                  "stats": "Deaths",
                  "country": "Mali",
                  "stats_e": "Deaths",
                  "country_e": "Mali",
                  "_deepnote_index_column": 1924
                },
                {
                  "Date": "5/7/2014",
                  "Day": 46,
                  "variable": "Deaths_Mali",
                  "value": "nan",
                  "stats": "Deaths",
                  "country": "Mali",
                  "stats_e": "Deaths",
                  "country_e": "Mali",
                  "_deepnote_index_column": 1925
                },
                {
                  "Date": "5/5/2014",
                  "Day": 44,
                  "variable": "Deaths_Mali",
                  "value": "nan",
                  "stats": "Deaths",
                  "country": "Mali",
                  "stats_e": "Deaths",
                  "country_e": "Mali",
                  "_deepnote_index_column": 1926
                },
                {
                  "Date": "5/3/2014",
                  "Day": 42,
                  "variable": "Deaths_Mali",
                  "value": "nan",
                  "stats": "Deaths",
                  "country": "Mali",
                  "stats_e": "Deaths",
                  "country_e": "Mali",
                  "_deepnote_index_column": 1927
                },
                {
                  "Date": "5/1/2014",
                  "Day": 40,
                  "variable": "Deaths_Mali",
                  "value": "nan",
                  "stats": "Deaths",
                  "country": "Mali",
                  "stats_e": "Deaths",
                  "country_e": "Mali",
                  "_deepnote_index_column": 1928
                },
                {
                  "Date": "4/26/2014",
                  "Day": 35,
                  "variable": "Deaths_Mali",
                  "value": "nan",
                  "stats": "Deaths",
                  "country": "Mali",
                  "stats_e": "Deaths",
                  "country_e": "Mali",
                  "_deepnote_index_column": 1929
                },
                {
                  "Date": "4/24/2014",
                  "Day": 33,
                  "variable": "Deaths_Mali",
                  "value": "nan",
                  "stats": "Deaths",
                  "country": "Mali",
                  "stats_e": "Deaths",
                  "country_e": "Mali",
                  "_deepnote_index_column": 1930
                },
                {
                  "Date": "4/23/2014",
                  "Day": 32,
                  "variable": "Deaths_Mali",
                  "value": "nan",
                  "stats": "Deaths",
                  "country": "Mali",
                  "stats_e": "Deaths",
                  "country_e": "Mali",
                  "_deepnote_index_column": 1931
                },
                {
                  "Date": "4/22/2014",
                  "Day": 31,
                  "variable": "Deaths_Mali",
                  "value": "nan",
                  "stats": "Deaths",
                  "country": "Mali",
                  "stats_e": "Deaths",
                  "country_e": "Mali",
                  "_deepnote_index_column": 1932
                },
                {
                  "Date": "4/21/2014",
                  "Day": 30,
                  "variable": "Deaths_Mali",
                  "value": "nan",
                  "stats": "Deaths",
                  "country": "Mali",
                  "stats_e": "Deaths",
                  "country_e": "Mali",
                  "_deepnote_index_column": 1933
                },
                {
                  "Date": "4/20/2014",
                  "Day": 29,
                  "variable": "Deaths_Mali",
                  "value": "nan",
                  "stats": "Deaths",
                  "country": "Mali",
                  "stats_e": "Deaths",
                  "country_e": "Mali",
                  "_deepnote_index_column": 1934
                },
                {
                  "Date": "4/17/2014",
                  "Day": 26,
                  "variable": "Deaths_Mali",
                  "value": "nan",
                  "stats": "Deaths",
                  "country": "Mali",
                  "stats_e": "Deaths",
                  "country_e": "Mali",
                  "_deepnote_index_column": 1935
                },
                {
                  "Date": "4/16/2014",
                  "Day": 25,
                  "variable": "Deaths_Mali",
                  "value": "nan",
                  "stats": "Deaths",
                  "country": "Mali",
                  "stats_e": "Deaths",
                  "country_e": "Mali",
                  "_deepnote_index_column": 1936
                },
                {
                  "Date": "4/15/2014",
                  "Day": 24,
                  "variable": "Deaths_Mali",
                  "value": "nan",
                  "stats": "Deaths",
                  "country": "Mali",
                  "stats_e": "Deaths",
                  "country_e": "Mali",
                  "_deepnote_index_column": 1937
                },
                {
                  "Date": "4/14/2014",
                  "Day": 23,
                  "variable": "Deaths_Mali",
                  "value": "nan",
                  "stats": "Deaths",
                  "country": "Mali",
                  "stats_e": "Deaths",
                  "country_e": "Mali",
                  "_deepnote_index_column": 1938
                },
                {
                  "Date": "4/11/2014",
                  "Day": 20,
                  "variable": "Deaths_Mali",
                  "value": "nan",
                  "stats": "Deaths",
                  "country": "Mali",
                  "stats_e": "Deaths",
                  "country_e": "Mali",
                  "_deepnote_index_column": 1939
                },
                {
                  "Date": "4/9/2014",
                  "Day": 18,
                  "variable": "Deaths_Mali",
                  "value": "nan",
                  "stats": "Deaths",
                  "country": "Mali",
                  "stats_e": "Deaths",
                  "country_e": "Mali",
                  "_deepnote_index_column": 1940
                },
                {
                  "Date": "4/7/2014",
                  "Day": 16,
                  "variable": "Deaths_Mali",
                  "value": "nan",
                  "stats": "Deaths",
                  "country": "Mali",
                  "stats_e": "Deaths",
                  "country_e": "Mali",
                  "_deepnote_index_column": 1941
                },
                {
                  "Date": "4/4/2014",
                  "Day": 13,
                  "variable": "Deaths_Mali",
                  "value": "nan",
                  "stats": "Deaths",
                  "country": "Mali",
                  "stats_e": "Deaths",
                  "country_e": "Mali",
                  "_deepnote_index_column": 1942
                },
                {
                  "Date": "4/1/2014",
                  "Day": 10,
                  "variable": "Deaths_Mali",
                  "value": "nan",
                  "stats": "Deaths",
                  "country": "Mali",
                  "stats_e": "Deaths",
                  "country_e": "Mali",
                  "_deepnote_index_column": 1943
                },
                {
                  "Date": "3/31/2014",
                  "Day": 9,
                  "variable": "Deaths_Mali",
                  "value": "nan",
                  "stats": "Deaths",
                  "country": "Mali",
                  "stats_e": "Deaths",
                  "country_e": "Mali",
                  "_deepnote_index_column": 1944
                },
                {
                  "Date": "3/29/2014",
                  "Day": 7,
                  "variable": "Deaths_Mali",
                  "value": "nan",
                  "stats": "Deaths",
                  "country": "Mali",
                  "stats_e": "Deaths",
                  "country_e": "Mali",
                  "_deepnote_index_column": 1945
                },
                {
                  "Date": "3/28/2014",
                  "Day": 6,
                  "variable": "Deaths_Mali",
                  "value": "nan",
                  "stats": "Deaths",
                  "country": "Mali",
                  "stats_e": "Deaths",
                  "country_e": "Mali",
                  "_deepnote_index_column": 1946
                },
                {
                  "Date": "3/27/2014",
                  "Day": 5,
                  "variable": "Deaths_Mali",
                  "value": "nan",
                  "stats": "Deaths",
                  "country": "Mali",
                  "stats_e": "Deaths",
                  "country_e": "Mali",
                  "_deepnote_index_column": 1947
                },
                {
                  "Date": "3/26/2014",
                  "Day": 4,
                  "variable": "Deaths_Mali",
                  "value": "nan",
                  "stats": "Deaths",
                  "country": "Mali",
                  "stats_e": "Deaths",
                  "country_e": "Mali",
                  "_deepnote_index_column": 1948
                },
                {
                  "Date": "3/25/2014",
                  "Day": 3,
                  "variable": "Deaths_Mali",
                  "value": "nan",
                  "stats": "Deaths",
                  "country": "Mali",
                  "stats_e": "Deaths",
                  "country_e": "Mali",
                  "_deepnote_index_column": 1949
                },
                {
                  "Date": "3/24/2014",
                  "Day": 2,
                  "variable": "Deaths_Mali",
                  "value": "nan",
                  "stats": "Deaths",
                  "country": "Mali",
                  "stats_e": "Deaths",
                  "country_e": "Mali",
                  "_deepnote_index_column": 1950
                },
                {
                  "Date": "3/22/2014",
                  "Day": 0,
                  "variable": "Deaths_Mali",
                  "value": "nan",
                  "stats": "Deaths",
                  "country": "Mali",
                  "stats_e": "Deaths",
                  "country_e": "Mali",
                  "_deepnote_index_column": 1951
                }
              ]
            },
            "text/plain": "            Date  Day      variable   value   stats country stats_e country_e\n0       1/5/2015  289  Cases_Guinea  2776.0   Cases  Guinea   Cases    Guinea\n1       1/4/2015  288  Cases_Guinea  2775.0   Cases  Guinea   Cases    Guinea\n2       1/3/2015  287  Cases_Guinea  2769.0   Cases  Guinea   Cases    Guinea\n3       1/2/2015  286  Cases_Guinea     NaN   Cases  Guinea   Cases    Guinea\n4     12/31/2014  284  Cases_Guinea  2730.0   Cases  Guinea   Cases    Guinea\n...          ...  ...           ...     ...     ...     ...     ...       ...\n1947   3/27/2014    5   Deaths_Mali     NaN  Deaths    Mali  Deaths      Mali\n1948   3/26/2014    4   Deaths_Mali     NaN  Deaths    Mali  Deaths      Mali\n1949   3/25/2014    3   Deaths_Mali     NaN  Deaths    Mali  Deaths      Mali\n1950   3/24/2014    2   Deaths_Mali     NaN  Deaths    Mali  Deaths      Mali\n1951   3/22/2014    0   Deaths_Mali     NaN  Deaths    Mali  Deaths      Mali\n\n[1952 rows x 8 columns]",
            "text/html": "<div>\n<style scoped>\n    .dataframe tbody tr th:only-of-type {\n        vertical-align: middle;\n    }\n\n    .dataframe tbody tr th {\n        vertical-align: top;\n    }\n\n    .dataframe thead th {\n        text-align: right;\n    }\n</style>\n<table border=\"1\" class=\"dataframe\">\n  <thead>\n    <tr style=\"text-align: right;\">\n      <th></th>\n      <th>Date</th>\n      <th>Day</th>\n      <th>variable</th>\n      <th>value</th>\n      <th>stats</th>\n      <th>country</th>\n      <th>stats_e</th>\n      <th>country_e</th>\n    </tr>\n  </thead>\n  <tbody>\n    <tr>\n      <th>0</th>\n      <td>1/5/2015</td>\n      <td>289</td>\n      <td>Cases_Guinea</td>\n      <td>2776.0</td>\n      <td>Cases</td>\n      <td>Guinea</td>\n      <td>Cases</td>\n      <td>Guinea</td>\n    </tr>\n    <tr>\n      <th>1</th>\n      <td>1/4/2015</td>\n      <td>288</td>\n      <td>Cases_Guinea</td>\n      <td>2775.0</td>\n      <td>Cases</td>\n      <td>Guinea</td>\n      <td>Cases</td>\n      <td>Guinea</td>\n    </tr>\n    <tr>\n      <th>2</th>\n      <td>1/3/2015</td>\n      <td>287</td>\n      <td>Cases_Guinea</td>\n      <td>2769.0</td>\n      <td>Cases</td>\n      <td>Guinea</td>\n      <td>Cases</td>\n      <td>Guinea</td>\n    </tr>\n    <tr>\n      <th>3</th>\n      <td>1/2/2015</td>\n      <td>286</td>\n      <td>Cases_Guinea</td>\n      <td>NaN</td>\n      <td>Cases</td>\n      <td>Guinea</td>\n      <td>Cases</td>\n      <td>Guinea</td>\n    </tr>\n    <tr>\n      <th>4</th>\n      <td>12/31/2014</td>\n      <td>284</td>\n      <td>Cases_Guinea</td>\n      <td>2730.0</td>\n      <td>Cases</td>\n      <td>Guinea</td>\n      <td>Cases</td>\n      <td>Guinea</td>\n    </tr>\n    <tr>\n      <th>...</th>\n      <td>...</td>\n      <td>...</td>\n      <td>...</td>\n      <td>...</td>\n      <td>...</td>\n      <td>...</td>\n      <td>...</td>\n      <td>...</td>\n    </tr>\n    <tr>\n      <th>1947</th>\n      <td>3/27/2014</td>\n      <td>5</td>\n      <td>Deaths_Mali</td>\n      <td>NaN</td>\n      <td>Deaths</td>\n      <td>Mali</td>\n      <td>Deaths</td>\n      <td>Mali</td>\n    </tr>\n    <tr>\n      <th>1948</th>\n      <td>3/26/2014</td>\n      <td>4</td>\n      <td>Deaths_Mali</td>\n      <td>NaN</td>\n      <td>Deaths</td>\n      <td>Mali</td>\n      <td>Deaths</td>\n      <td>Mali</td>\n    </tr>\n    <tr>\n      <th>1949</th>\n      <td>3/25/2014</td>\n      <td>3</td>\n      <td>Deaths_Mali</td>\n      <td>NaN</td>\n      <td>Deaths</td>\n      <td>Mali</td>\n      <td>Deaths</td>\n      <td>Mali</td>\n    </tr>\n    <tr>\n      <th>1950</th>\n      <td>3/24/2014</td>\n      <td>2</td>\n      <td>Deaths_Mali</td>\n      <td>NaN</td>\n      <td>Deaths</td>\n      <td>Mali</td>\n      <td>Deaths</td>\n      <td>Mali</td>\n    </tr>\n    <tr>\n      <th>1951</th>\n      <td>3/22/2014</td>\n      <td>0</td>\n      <td>Deaths_Mali</td>\n      <td>NaN</td>\n      <td>Deaths</td>\n      <td>Mali</td>\n      <td>Deaths</td>\n      <td>Mali</td>\n    </tr>\n  </tbody>\n</table>\n<p>1952 rows × 8 columns</p>\n</div>"
          },
          "metadata": {}
        }
      ]
    },
    {
      "cell_type": "code",
      "metadata": {
        "deepnote_to_be_reexecuted": false,
        "execution_millis": 19,
        "execution_start": 1619967638412,
        "source_hash": "46759d7c",
        "cell_id": "00060-2cb464da-d544-4df1-8d22-f4deb14bafb8",
        "deepnote_cell_type": "code"
      },
      "source": "weather = pd.read_csv('/work/Assignment 10/weather.csv')",
      "execution_count": 58,
      "outputs": []
    },
    {
      "cell_type": "code",
      "metadata": {
        "deepnote_to_be_reexecuted": false,
        "execution_millis": 359,
        "execution_start": 1619967638447,
        "source_hash": "8b7e38d9",
        "cell_id": "00061-07303ba9-3dd2-42f3-a48c-02e2e79e8317",
        "deepnote_cell_type": "code"
      },
      "source": "weather",
      "execution_count": 59,
      "outputs": [
        {
          "output_type": "execute_result",
          "execution_count": 59,
          "data": {
            "application/vnd.deepnote.dataframe.v2+json": {
              "row_count": 22,
              "column_count": 35,
              "columns": [
                {
                  "name": "id",
                  "dtype": "object",
                  "stats": {
                    "unique_count": 1,
                    "nan_count": 0,
                    "categories": [
                      {
                        "name": "MX17004",
                        "count": 22
                      }
                    ]
                  }
                },
                {
                  "name": "year",
                  "dtype": "int64",
                  "stats": {
                    "unique_count": 1,
                    "nan_count": 0,
                    "min": "2010",
                    "max": "2010",
                    "histogram": [
                      {
                        "bin_start": 2009.5,
                        "bin_end": 2009.6,
                        "count": 0
                      },
                      {
                        "bin_start": 2009.6,
                        "bin_end": 2009.7,
                        "count": 0
                      },
                      {
                        "bin_start": 2009.7,
                        "bin_end": 2009.8,
                        "count": 0
                      },
                      {
                        "bin_start": 2009.8,
                        "bin_end": 2009.9,
                        "count": 0
                      },
                      {
                        "bin_start": 2009.9,
                        "bin_end": 2010,
                        "count": 0
                      },
                      {
                        "bin_start": 2010,
                        "bin_end": 2010.1,
                        "count": 22
                      },
                      {
                        "bin_start": 2010.1,
                        "bin_end": 2010.2,
                        "count": 0
                      },
                      {
                        "bin_start": 2010.2,
                        "bin_end": 2010.3,
                        "count": 0
                      },
                      {
                        "bin_start": 2010.3,
                        "bin_end": 2010.4,
                        "count": 0
                      },
                      {
                        "bin_start": 2010.4,
                        "bin_end": 2010.5,
                        "count": 0
                      }
                    ]
                  }
                },
                {
                  "name": "month",
                  "dtype": "int64",
                  "stats": {
                    "unique_count": 11,
                    "nan_count": 0,
                    "min": "1",
                    "max": "12",
                    "histogram": [
                      {
                        "bin_start": 1,
                        "bin_end": 2.1,
                        "count": 4
                      },
                      {
                        "bin_start": 2.1,
                        "bin_end": 3.2,
                        "count": 2
                      },
                      {
                        "bin_start": 3.2,
                        "bin_end": 4.300000000000001,
                        "count": 2
                      },
                      {
                        "bin_start": 4.300000000000001,
                        "bin_end": 5.4,
                        "count": 2
                      },
                      {
                        "bin_start": 5.4,
                        "bin_end": 6.5,
                        "count": 2
                      },
                      {
                        "bin_start": 6.5,
                        "bin_end": 7.6000000000000005,
                        "count": 2
                      },
                      {
                        "bin_start": 7.6000000000000005,
                        "bin_end": 8.700000000000001,
                        "count": 2
                      },
                      {
                        "bin_start": 8.700000000000001,
                        "bin_end": 9.8,
                        "count": 0
                      },
                      {
                        "bin_start": 9.8,
                        "bin_end": 10.9,
                        "count": 2
                      },
                      {
                        "bin_start": 10.9,
                        "bin_end": 12,
                        "count": 4
                      }
                    ]
                  }
                },
                {
                  "name": "element",
                  "dtype": "object",
                  "stats": {
                    "unique_count": 2,
                    "nan_count": 0,
                    "categories": [
                      {
                        "name": "tmax",
                        "count": 11
                      },
                      {
                        "name": "tmin",
                        "count": 11
                      }
                    ]
                  }
                },
                {
                  "name": "d1",
                  "dtype": "float64",
                  "stats": {
                    "unique_count": 2,
                    "nan_count": 20,
                    "min": "13.8",
                    "max": "29.9",
                    "histogram": [
                      {
                        "bin_start": 13.8,
                        "bin_end": 15.41,
                        "count": 1
                      },
                      {
                        "bin_start": 15.41,
                        "bin_end": 17.02,
                        "count": 0
                      },
                      {
                        "bin_start": 17.02,
                        "bin_end": 18.630000000000003,
                        "count": 0
                      },
                      {
                        "bin_start": 18.630000000000003,
                        "bin_end": 20.240000000000002,
                        "count": 0
                      },
                      {
                        "bin_start": 20.240000000000002,
                        "bin_end": 21.85,
                        "count": 0
                      },
                      {
                        "bin_start": 21.85,
                        "bin_end": 23.46,
                        "count": 0
                      },
                      {
                        "bin_start": 23.46,
                        "bin_end": 25.07,
                        "count": 0
                      },
                      {
                        "bin_start": 25.07,
                        "bin_end": 26.68,
                        "count": 0
                      },
                      {
                        "bin_start": 26.68,
                        "bin_end": 28.29,
                        "count": 0
                      },
                      {
                        "bin_start": 28.29,
                        "bin_end": 29.9,
                        "count": 1
                      }
                    ]
                  }
                },
                {
                  "name": "d2",
                  "dtype": "float64",
                  "stats": {
                    "unique_count": 4,
                    "nan_count": 18,
                    "min": "14.4",
                    "max": "31.3",
                    "histogram": [
                      {
                        "bin_start": 14.4,
                        "bin_end": 16.09,
                        "count": 1
                      },
                      {
                        "bin_start": 16.09,
                        "bin_end": 17.78,
                        "count": 1
                      },
                      {
                        "bin_start": 17.78,
                        "bin_end": 19.47,
                        "count": 0
                      },
                      {
                        "bin_start": 19.47,
                        "bin_end": 21.16,
                        "count": 0
                      },
                      {
                        "bin_start": 21.16,
                        "bin_end": 22.85,
                        "count": 0
                      },
                      {
                        "bin_start": 22.85,
                        "bin_end": 24.54,
                        "count": 0
                      },
                      {
                        "bin_start": 24.54,
                        "bin_end": 26.23,
                        "count": 0
                      },
                      {
                        "bin_start": 26.23,
                        "bin_end": 27.92,
                        "count": 1
                      },
                      {
                        "bin_start": 27.92,
                        "bin_end": 29.61,
                        "count": 0
                      },
                      {
                        "bin_start": 29.61,
                        "bin_end": 31.3,
                        "count": 1
                      }
                    ]
                  }
                },
                {
                  "name": "d3",
                  "dtype": "float64",
                  "stats": {
                    "unique_count": 4,
                    "nan_count": 18,
                    "min": "14.4",
                    "max": "28.6",
                    "histogram": [
                      {
                        "bin_start": 14.4,
                        "bin_end": 15.82,
                        "count": 1
                      },
                      {
                        "bin_start": 15.82,
                        "bin_end": 17.240000000000002,
                        "count": 0
                      },
                      {
                        "bin_start": 17.240000000000002,
                        "bin_end": 18.66,
                        "count": 1
                      },
                      {
                        "bin_start": 18.66,
                        "bin_end": 20.080000000000002,
                        "count": 0
                      },
                      {
                        "bin_start": 20.080000000000002,
                        "bin_end": 21.5,
                        "count": 0
                      },
                      {
                        "bin_start": 21.5,
                        "bin_end": 22.92,
                        "count": 0
                      },
                      {
                        "bin_start": 22.92,
                        "bin_end": 24.340000000000003,
                        "count": 1
                      },
                      {
                        "bin_start": 24.340000000000003,
                        "bin_end": 25.76,
                        "count": 0
                      },
                      {
                        "bin_start": 25.76,
                        "bin_end": 27.18,
                        "count": 0
                      },
                      {
                        "bin_start": 27.18,
                        "bin_end": 28.6,
                        "count": 1
                      }
                    ]
                  }
                },
                {
                  "name": "d4",
                  "dtype": "float64",
                  "stats": {
                    "unique_count": 2,
                    "nan_count": 20,
                    "min": "12.0",
                    "max": "27.2",
                    "histogram": [
                      {
                        "bin_start": 12,
                        "bin_end": 13.52,
                        "count": 1
                      },
                      {
                        "bin_start": 13.52,
                        "bin_end": 15.04,
                        "count": 0
                      },
                      {
                        "bin_start": 15.04,
                        "bin_end": 16.560000000000002,
                        "count": 0
                      },
                      {
                        "bin_start": 16.560000000000002,
                        "bin_end": 18.08,
                        "count": 0
                      },
                      {
                        "bin_start": 18.08,
                        "bin_end": 19.6,
                        "count": 0
                      },
                      {
                        "bin_start": 19.6,
                        "bin_end": 21.12,
                        "count": 0
                      },
                      {
                        "bin_start": 21.12,
                        "bin_end": 22.64,
                        "count": 0
                      },
                      {
                        "bin_start": 22.64,
                        "bin_end": 24.16,
                        "count": 0
                      },
                      {
                        "bin_start": 24.16,
                        "bin_end": 25.68,
                        "count": 0
                      },
                      {
                        "bin_start": 25.68,
                        "bin_end": 27.2,
                        "count": 1
                      }
                    ]
                  }
                },
                {
                  "name": "d5",
                  "dtype": "float64",
                  "stats": {
                    "unique_count": 8,
                    "nan_count": 14,
                    "min": "7.9",
                    "max": "32.1",
                    "histogram": [
                      {
                        "bin_start": 7.9,
                        "bin_end": 10.32,
                        "count": 1
                      },
                      {
                        "bin_start": 10.32,
                        "bin_end": 12.740000000000002,
                        "count": 0
                      },
                      {
                        "bin_start": 12.740000000000002,
                        "bin_end": 15.160000000000002,
                        "count": 2
                      },
                      {
                        "bin_start": 15.160000000000002,
                        "bin_end": 17.580000000000002,
                        "count": 1
                      },
                      {
                        "bin_start": 17.580000000000002,
                        "bin_end": 20,
                        "count": 0
                      },
                      {
                        "bin_start": 20,
                        "bin_end": 22.42,
                        "count": 0
                      },
                      {
                        "bin_start": 22.42,
                        "bin_end": 24.840000000000003,
                        "count": 0
                      },
                      {
                        "bin_start": 24.840000000000003,
                        "bin_end": 27.260000000000005,
                        "count": 2
                      },
                      {
                        "bin_start": 27.260000000000005,
                        "bin_end": 29.680000000000007,
                        "count": 1
                      },
                      {
                        "bin_start": 29.680000000000007,
                        "bin_end": 32.1,
                        "count": 1
                      }
                    ]
                  }
                },
                {
                  "name": "d6",
                  "dtype": "float64",
                  "stats": {
                    "unique_count": 2,
                    "nan_count": 20,
                    "min": "10.5",
                    "max": "27.8",
                    "histogram": [
                      {
                        "bin_start": 10.5,
                        "bin_end": 12.23,
                        "count": 1
                      },
                      {
                        "bin_start": 12.23,
                        "bin_end": 13.96,
                        "count": 0
                      },
                      {
                        "bin_start": 13.96,
                        "bin_end": 15.69,
                        "count": 0
                      },
                      {
                        "bin_start": 15.69,
                        "bin_end": 17.42,
                        "count": 0
                      },
                      {
                        "bin_start": 17.42,
                        "bin_end": 19.15,
                        "count": 0
                      },
                      {
                        "bin_start": 19.15,
                        "bin_end": 20.88,
                        "count": 0
                      },
                      {
                        "bin_start": 20.88,
                        "bin_end": 22.61,
                        "count": 0
                      },
                      {
                        "bin_start": 22.61,
                        "bin_end": 24.34,
                        "count": 0
                      },
                      {
                        "bin_start": 24.34,
                        "bin_end": 26.07,
                        "count": 0
                      },
                      {
                        "bin_start": 26.07,
                        "bin_end": 27.8,
                        "count": 1
                      }
                    ]
                  }
                },
                {
                  "name": "d7",
                  "dtype": "float64",
                  "stats": {
                    "unique_count": 2,
                    "nan_count": 20,
                    "min": "12.9",
                    "max": "28.1",
                    "histogram": [
                      {
                        "bin_start": 12.9,
                        "bin_end": 14.42,
                        "count": 1
                      },
                      {
                        "bin_start": 14.42,
                        "bin_end": 15.940000000000001,
                        "count": 0
                      },
                      {
                        "bin_start": 15.940000000000001,
                        "bin_end": 17.46,
                        "count": 0
                      },
                      {
                        "bin_start": 17.46,
                        "bin_end": 18.98,
                        "count": 0
                      },
                      {
                        "bin_start": 18.98,
                        "bin_end": 20.5,
                        "count": 0
                      },
                      {
                        "bin_start": 20.5,
                        "bin_end": 22.020000000000003,
                        "count": 0
                      },
                      {
                        "bin_start": 22.020000000000003,
                        "bin_end": 23.54,
                        "count": 0
                      },
                      {
                        "bin_start": 23.54,
                        "bin_end": 25.060000000000002,
                        "count": 0
                      },
                      {
                        "bin_start": 25.060000000000002,
                        "bin_end": 26.58,
                        "count": 0
                      },
                      {
                        "bin_start": 26.58,
                        "bin_end": 28.1,
                        "count": 1
                      }
                    ]
                  }
                },
                {
                  "name": "d8",
                  "dtype": "float64",
                  "stats": {
                    "unique_count": 2,
                    "nan_count": 20,
                    "min": "17.3",
                    "max": "29.0",
                    "histogram": [
                      {
                        "bin_start": 17.3,
                        "bin_end": 18.47,
                        "count": 1
                      },
                      {
                        "bin_start": 18.47,
                        "bin_end": 19.64,
                        "count": 0
                      },
                      {
                        "bin_start": 19.64,
                        "bin_end": 20.810000000000002,
                        "count": 0
                      },
                      {
                        "bin_start": 20.810000000000002,
                        "bin_end": 21.98,
                        "count": 0
                      },
                      {
                        "bin_start": 21.98,
                        "bin_end": 23.15,
                        "count": 0
                      },
                      {
                        "bin_start": 23.15,
                        "bin_end": 24.32,
                        "count": 0
                      },
                      {
                        "bin_start": 24.32,
                        "bin_end": 25.490000000000002,
                        "count": 0
                      },
                      {
                        "bin_start": 25.490000000000002,
                        "bin_end": 26.66,
                        "count": 0
                      },
                      {
                        "bin_start": 26.66,
                        "bin_end": 27.83,
                        "count": 0
                      },
                      {
                        "bin_start": 27.83,
                        "bin_end": 29,
                        "count": 1
                      }
                    ]
                  }
                },
                {
                  "name": "d9",
                  "dtype": "float64",
                  "stats": {
                    "unique_count": 0,
                    "nan_count": 22,
                    "min": null,
                    "max": null,
                    "histogram": [
                      {
                        "bin_start": 0,
                        "bin_end": 0.1,
                        "count": 0
                      },
                      {
                        "bin_start": 0.1,
                        "bin_end": 0.2,
                        "count": 0
                      },
                      {
                        "bin_start": 0.2,
                        "bin_end": 0.30000000000000004,
                        "count": 0
                      },
                      {
                        "bin_start": 0.30000000000000004,
                        "bin_end": 0.4,
                        "count": 0
                      },
                      {
                        "bin_start": 0.4,
                        "bin_end": 0.5,
                        "count": 0
                      },
                      {
                        "bin_start": 0.5,
                        "bin_end": 0.6000000000000001,
                        "count": 0
                      },
                      {
                        "bin_start": 0.6000000000000001,
                        "bin_end": 0.7000000000000001,
                        "count": 0
                      },
                      {
                        "bin_start": 0.7000000000000001,
                        "bin_end": 0.8,
                        "count": 0
                      },
                      {
                        "bin_start": 0.8,
                        "bin_end": 0.9,
                        "count": 0
                      },
                      {
                        "bin_start": 0.9,
                        "bin_end": 1,
                        "count": 0
                      }
                    ]
                  }
                },
                {
                  "name": "d10",
                  "dtype": "float64",
                  "stats": {
                    "unique_count": 2,
                    "nan_count": 20,
                    "min": "16.8",
                    "max": "34.5",
                    "histogram": [
                      {
                        "bin_start": 16.8,
                        "bin_end": 18.57,
                        "count": 1
                      },
                      {
                        "bin_start": 18.57,
                        "bin_end": 20.34,
                        "count": 0
                      },
                      {
                        "bin_start": 20.34,
                        "bin_end": 22.11,
                        "count": 0
                      },
                      {
                        "bin_start": 22.11,
                        "bin_end": 23.880000000000003,
                        "count": 0
                      },
                      {
                        "bin_start": 23.880000000000003,
                        "bin_end": 25.65,
                        "count": 0
                      },
                      {
                        "bin_start": 25.65,
                        "bin_end": 27.42,
                        "count": 0
                      },
                      {
                        "bin_start": 27.42,
                        "bin_end": 29.19,
                        "count": 0
                      },
                      {
                        "bin_start": 29.19,
                        "bin_end": 30.96,
                        "count": 0
                      },
                      {
                        "bin_start": 30.96,
                        "bin_end": 32.730000000000004,
                        "count": 0
                      },
                      {
                        "bin_start": 32.730000000000004,
                        "bin_end": 34.5,
                        "count": 1
                      }
                    ]
                  }
                },
                {
                  "name": "d11",
                  "dtype": "float64",
                  "stats": {
                    "unique_count": 2,
                    "nan_count": 20,
                    "min": "13.4",
                    "max": "29.7",
                    "histogram": [
                      {
                        "bin_start": 13.4,
                        "bin_end": 15.03,
                        "count": 1
                      },
                      {
                        "bin_start": 15.03,
                        "bin_end": 16.66,
                        "count": 0
                      },
                      {
                        "bin_start": 16.66,
                        "bin_end": 18.29,
                        "count": 0
                      },
                      {
                        "bin_start": 18.29,
                        "bin_end": 19.919999999999998,
                        "count": 0
                      },
                      {
                        "bin_start": 19.919999999999998,
                        "bin_end": 21.549999999999997,
                        "count": 0
                      },
                      {
                        "bin_start": 21.549999999999997,
                        "bin_end": 23.18,
                        "count": 0
                      },
                      {
                        "bin_start": 23.18,
                        "bin_end": 24.81,
                        "count": 0
                      },
                      {
                        "bin_start": 24.81,
                        "bin_end": 26.439999999999998,
                        "count": 0
                      },
                      {
                        "bin_start": 26.439999999999998,
                        "bin_end": 28.069999999999997,
                        "count": 0
                      },
                      {
                        "bin_start": 28.069999999999997,
                        "bin_end": 29.7,
                        "count": 1
                      }
                    ]
                  }
                },
                {
                  "name": "d12",
                  "dtype": "float64",
                  "stats": {
                    "unique_count": 0,
                    "nan_count": 22,
                    "min": null,
                    "max": null,
                    "histogram": [
                      {
                        "bin_start": 0,
                        "bin_end": 0.1,
                        "count": 0
                      },
                      {
                        "bin_start": 0.1,
                        "bin_end": 0.2,
                        "count": 0
                      },
                      {
                        "bin_start": 0.2,
                        "bin_end": 0.30000000000000004,
                        "count": 0
                      },
                      {
                        "bin_start": 0.30000000000000004,
                        "bin_end": 0.4,
                        "count": 0
                      },
                      {
                        "bin_start": 0.4,
                        "bin_end": 0.5,
                        "count": 0
                      },
                      {
                        "bin_start": 0.5,
                        "bin_end": 0.6000000000000001,
                        "count": 0
                      },
                      {
                        "bin_start": 0.6000000000000001,
                        "bin_end": 0.7000000000000001,
                        "count": 0
                      },
                      {
                        "bin_start": 0.7000000000000001,
                        "bin_end": 0.8,
                        "count": 0
                      },
                      {
                        "bin_start": 0.8,
                        "bin_end": 0.9,
                        "count": 0
                      },
                      {
                        "bin_start": 0.9,
                        "bin_end": 1,
                        "count": 0
                      }
                    ]
                  }
                },
                {
                  "name": "d13",
                  "dtype": "float64",
                  "stats": {
                    "unique_count": 2,
                    "nan_count": 20,
                    "min": "16.5",
                    "max": "29.8",
                    "histogram": [
                      {
                        "bin_start": 16.5,
                        "bin_end": 17.83,
                        "count": 1
                      },
                      {
                        "bin_start": 17.83,
                        "bin_end": 19.16,
                        "count": 0
                      },
                      {
                        "bin_start": 19.16,
                        "bin_end": 20.490000000000002,
                        "count": 0
                      },
                      {
                        "bin_start": 20.490000000000002,
                        "bin_end": 21.82,
                        "count": 0
                      },
                      {
                        "bin_start": 21.82,
                        "bin_end": 23.15,
                        "count": 0
                      },
                      {
                        "bin_start": 23.15,
                        "bin_end": 24.48,
                        "count": 0
                      },
                      {
                        "bin_start": 24.48,
                        "bin_end": 25.810000000000002,
                        "count": 0
                      },
                      {
                        "bin_start": 25.810000000000002,
                        "bin_end": 27.14,
                        "count": 0
                      },
                      {
                        "bin_start": 27.14,
                        "bin_end": 28.47,
                        "count": 0
                      },
                      {
                        "bin_start": 28.47,
                        "bin_end": 29.8,
                        "count": 1
                      }
                    ]
                  }
                },
                {
                  "name": "d14",
                  "dtype": "float64",
                  "stats": {
                    "unique_count": 4,
                    "nan_count": 18,
                    "min": "13.0",
                    "max": "29.9",
                    "histogram": [
                      {
                        "bin_start": 13,
                        "bin_end": 14.69,
                        "count": 1
                      },
                      {
                        "bin_start": 14.69,
                        "bin_end": 16.38,
                        "count": 0
                      },
                      {
                        "bin_start": 16.38,
                        "bin_end": 18.07,
                        "count": 1
                      },
                      {
                        "bin_start": 18.07,
                        "bin_end": 19.759999999999998,
                        "count": 0
                      },
                      {
                        "bin_start": 19.759999999999998,
                        "bin_end": 21.45,
                        "count": 0
                      },
                      {
                        "bin_start": 21.45,
                        "bin_end": 23.14,
                        "count": 0
                      },
                      {
                        "bin_start": 23.14,
                        "bin_end": 24.83,
                        "count": 0
                      },
                      {
                        "bin_start": 24.83,
                        "bin_end": 26.52,
                        "count": 0
                      },
                      {
                        "bin_start": 26.52,
                        "bin_end": 28.21,
                        "count": 0
                      },
                      {
                        "bin_start": 28.21,
                        "bin_end": 29.9,
                        "count": 2
                      }
                    ]
                  }
                },
                {
                  "name": "d15",
                  "dtype": "float64",
                  "stats": {
                    "unique_count": 2,
                    "nan_count": 20,
                    "min": "10.5",
                    "max": "28.7",
                    "histogram": [
                      {
                        "bin_start": 10.5,
                        "bin_end": 12.32,
                        "count": 1
                      },
                      {
                        "bin_start": 12.32,
                        "bin_end": 14.14,
                        "count": 0
                      },
                      {
                        "bin_start": 14.14,
                        "bin_end": 15.959999999999999,
                        "count": 0
                      },
                      {
                        "bin_start": 15.959999999999999,
                        "bin_end": 17.78,
                        "count": 0
                      },
                      {
                        "bin_start": 17.78,
                        "bin_end": 19.6,
                        "count": 0
                      },
                      {
                        "bin_start": 19.6,
                        "bin_end": 21.419999999999998,
                        "count": 0
                      },
                      {
                        "bin_start": 21.419999999999998,
                        "bin_end": 23.24,
                        "count": 0
                      },
                      {
                        "bin_start": 23.24,
                        "bin_end": 25.06,
                        "count": 0
                      },
                      {
                        "bin_start": 25.06,
                        "bin_end": 26.88,
                        "count": 0
                      },
                      {
                        "bin_start": 26.88,
                        "bin_end": 28.7,
                        "count": 1
                      }
                    ]
                  }
                },
                {
                  "name": "d16",
                  "dtype": "float64",
                  "stats": {
                    "unique_count": 2,
                    "nan_count": 20,
                    "min": "17.6",
                    "max": "31.1",
                    "histogram": [
                      {
                        "bin_start": 17.6,
                        "bin_end": 18.950000000000003,
                        "count": 1
                      },
                      {
                        "bin_start": 18.950000000000003,
                        "bin_end": 20.3,
                        "count": 0
                      },
                      {
                        "bin_start": 20.3,
                        "bin_end": 21.650000000000002,
                        "count": 0
                      },
                      {
                        "bin_start": 21.650000000000002,
                        "bin_end": 23,
                        "count": 0
                      },
                      {
                        "bin_start": 23,
                        "bin_end": 24.35,
                        "count": 0
                      },
                      {
                        "bin_start": 24.35,
                        "bin_end": 25.700000000000003,
                        "count": 0
                      },
                      {
                        "bin_start": 25.700000000000003,
                        "bin_end": 27.050000000000004,
                        "count": 0
                      },
                      {
                        "bin_start": 27.050000000000004,
                        "bin_end": 28.400000000000002,
                        "count": 0
                      },
                      {
                        "bin_start": 28.400000000000002,
                        "bin_end": 29.75,
                        "count": 0
                      },
                      {
                        "bin_start": 29.75,
                        "bin_end": 31.1,
                        "count": 1
                      }
                    ]
                  }
                },
                {
                  "name": "d17",
                  "dtype": "float64",
                  "stats": {
                    "unique_count": 2,
                    "nan_count": 20,
                    "min": "17.5",
                    "max": "28.0",
                    "histogram": [
                      {
                        "bin_start": 17.5,
                        "bin_end": 18.55,
                        "count": 1
                      },
                      {
                        "bin_start": 18.55,
                        "bin_end": 19.6,
                        "count": 0
                      },
                      {
                        "bin_start": 19.6,
                        "bin_end": 20.65,
                        "count": 0
                      },
                      {
                        "bin_start": 20.65,
                        "bin_end": 21.7,
                        "count": 0
                      },
                      {
                        "bin_start": 21.7,
                        "bin_end": 22.75,
                        "count": 0
                      },
                      {
                        "bin_start": 22.75,
                        "bin_end": 23.8,
                        "count": 0
                      },
                      {
                        "bin_start": 23.8,
                        "bin_end": 24.85,
                        "count": 0
                      },
                      {
                        "bin_start": 24.85,
                        "bin_end": 25.9,
                        "count": 0
                      },
                      {
                        "bin_start": 25.9,
                        "bin_end": 26.950000000000003,
                        "count": 0
                      },
                      {
                        "bin_start": 26.950000000000003,
                        "bin_end": 28,
                        "count": 1
                      }
                    ]
                  }
                },
                {
                  "name": "d18",
                  "dtype": "float64",
                  "stats": {
                    "unique_count": 0,
                    "nan_count": 22,
                    "min": null,
                    "max": null,
                    "histogram": [
                      {
                        "bin_start": 0,
                        "bin_end": 0.1,
                        "count": 0
                      },
                      {
                        "bin_start": 0.1,
                        "bin_end": 0.2,
                        "count": 0
                      },
                      {
                        "bin_start": 0.2,
                        "bin_end": 0.30000000000000004,
                        "count": 0
                      },
                      {
                        "bin_start": 0.30000000000000004,
                        "bin_end": 0.4,
                        "count": 0
                      },
                      {
                        "bin_start": 0.4,
                        "bin_end": 0.5,
                        "count": 0
                      },
                      {
                        "bin_start": 0.5,
                        "bin_end": 0.6000000000000001,
                        "count": 0
                      },
                      {
                        "bin_start": 0.6000000000000001,
                        "bin_end": 0.7000000000000001,
                        "count": 0
                      },
                      {
                        "bin_start": 0.7000000000000001,
                        "bin_end": 0.8,
                        "count": 0
                      },
                      {
                        "bin_start": 0.8,
                        "bin_end": 0.9,
                        "count": 0
                      },
                      {
                        "bin_start": 0.9,
                        "bin_end": 1,
                        "count": 0
                      }
                    ]
                  }
                },
                {
                  "name": "d19",
                  "dtype": "float64",
                  "stats": {
                    "unique_count": 0,
                    "nan_count": 22,
                    "min": null,
                    "max": null,
                    "histogram": [
                      {
                        "bin_start": 0,
                        "bin_end": 0.1,
                        "count": 0
                      },
                      {
                        "bin_start": 0.1,
                        "bin_end": 0.2,
                        "count": 0
                      },
                      {
                        "bin_start": 0.2,
                        "bin_end": 0.30000000000000004,
                        "count": 0
                      },
                      {
                        "bin_start": 0.30000000000000004,
                        "bin_end": 0.4,
                        "count": 0
                      },
                      {
                        "bin_start": 0.4,
                        "bin_end": 0.5,
                        "count": 0
                      },
                      {
                        "bin_start": 0.5,
                        "bin_end": 0.6000000000000001,
                        "count": 0
                      },
                      {
                        "bin_start": 0.6000000000000001,
                        "bin_end": 0.7000000000000001,
                        "count": 0
                      },
                      {
                        "bin_start": 0.7000000000000001,
                        "bin_end": 0.8,
                        "count": 0
                      },
                      {
                        "bin_start": 0.8,
                        "bin_end": 0.9,
                        "count": 0
                      },
                      {
                        "bin_start": 0.9,
                        "bin_end": 1,
                        "count": 0
                      }
                    ]
                  }
                },
                {
                  "name": "d20",
                  "dtype": "float64",
                  "stats": {
                    "unique_count": 0,
                    "nan_count": 22,
                    "min": null,
                    "max": null,
                    "histogram": [
                      {
                        "bin_start": 0,
                        "bin_end": 0.1,
                        "count": 0
                      },
                      {
                        "bin_start": 0.1,
                        "bin_end": 0.2,
                        "count": 0
                      },
                      {
                        "bin_start": 0.2,
                        "bin_end": 0.30000000000000004,
                        "count": 0
                      },
                      {
                        "bin_start": 0.30000000000000004,
                        "bin_end": 0.4,
                        "count": 0
                      },
                      {
                        "bin_start": 0.4,
                        "bin_end": 0.5,
                        "count": 0
                      },
                      {
                        "bin_start": 0.5,
                        "bin_end": 0.6000000000000001,
                        "count": 0
                      },
                      {
                        "bin_start": 0.6000000000000001,
                        "bin_end": 0.7000000000000001,
                        "count": 0
                      },
                      {
                        "bin_start": 0.7000000000000001,
                        "bin_end": 0.8,
                        "count": 0
                      },
                      {
                        "bin_start": 0.8,
                        "bin_end": 0.9,
                        "count": 0
                      },
                      {
                        "bin_start": 0.9,
                        "bin_end": 1,
                        "count": 0
                      }
                    ]
                  }
                },
                {
                  "name": "d21",
                  "dtype": "float64",
                  "stats": {
                    "unique_count": 0,
                    "nan_count": 22,
                    "min": null,
                    "max": null,
                    "histogram": [
                      {
                        "bin_start": 0,
                        "bin_end": 0.1,
                        "count": 0
                      },
                      {
                        "bin_start": 0.1,
                        "bin_end": 0.2,
                        "count": 0
                      },
                      {
                        "bin_start": 0.2,
                        "bin_end": 0.30000000000000004,
                        "count": 0
                      },
                      {
                        "bin_start": 0.30000000000000004,
                        "bin_end": 0.4,
                        "count": 0
                      },
                      {
                        "bin_start": 0.4,
                        "bin_end": 0.5,
                        "count": 0
                      },
                      {
                        "bin_start": 0.5,
                        "bin_end": 0.6000000000000001,
                        "count": 0
                      },
                      {
                        "bin_start": 0.6000000000000001,
                        "bin_end": 0.7000000000000001,
                        "count": 0
                      },
                      {
                        "bin_start": 0.7000000000000001,
                        "bin_end": 0.8,
                        "count": 0
                      },
                      {
                        "bin_start": 0.8,
                        "bin_end": 0.9,
                        "count": 0
                      },
                      {
                        "bin_start": 0.9,
                        "bin_end": 1,
                        "count": 0
                      }
                    ]
                  }
                },
                {
                  "name": "d22",
                  "dtype": "float64",
                  "stats": {
                    "unique_count": 0,
                    "nan_count": 22,
                    "min": null,
                    "max": null,
                    "histogram": [
                      {
                        "bin_start": 0,
                        "bin_end": 0.1,
                        "count": 0
                      },
                      {
                        "bin_start": 0.1,
                        "bin_end": 0.2,
                        "count": 0
                      },
                      {
                        "bin_start": 0.2,
                        "bin_end": 0.30000000000000004,
                        "count": 0
                      },
                      {
                        "bin_start": 0.30000000000000004,
                        "bin_end": 0.4,
                        "count": 0
                      },
                      {
                        "bin_start": 0.4,
                        "bin_end": 0.5,
                        "count": 0
                      },
                      {
                        "bin_start": 0.5,
                        "bin_end": 0.6000000000000001,
                        "count": 0
                      },
                      {
                        "bin_start": 0.6000000000000001,
                        "bin_end": 0.7000000000000001,
                        "count": 0
                      },
                      {
                        "bin_start": 0.7000000000000001,
                        "bin_end": 0.8,
                        "count": 0
                      },
                      {
                        "bin_start": 0.8,
                        "bin_end": 0.9,
                        "count": 0
                      },
                      {
                        "bin_start": 0.9,
                        "bin_end": 1,
                        "count": 0
                      }
                    ]
                  }
                },
                {
                  "name": "d23",
                  "dtype": "float64",
                  "stats": {
                    "unique_count": 4,
                    "nan_count": 18,
                    "min": "10.7",
                    "max": "29.9",
                    "histogram": [
                      {
                        "bin_start": 10.7,
                        "bin_end": 12.62,
                        "count": 1
                      },
                      {
                        "bin_start": 12.62,
                        "bin_end": 14.54,
                        "count": 0
                      },
                      {
                        "bin_start": 14.54,
                        "bin_end": 16.46,
                        "count": 1
                      },
                      {
                        "bin_start": 16.46,
                        "bin_end": 18.38,
                        "count": 0
                      },
                      {
                        "bin_start": 18.38,
                        "bin_end": 20.299999999999997,
                        "count": 0
                      },
                      {
                        "bin_start": 20.299999999999997,
                        "bin_end": 22.22,
                        "count": 0
                      },
                      {
                        "bin_start": 22.22,
                        "bin_end": 24.14,
                        "count": 0
                      },
                      {
                        "bin_start": 24.14,
                        "bin_end": 26.06,
                        "count": 0
                      },
                      {
                        "bin_start": 26.06,
                        "bin_end": 27.98,
                        "count": 1
                      },
                      {
                        "bin_start": 27.98,
                        "bin_end": 29.9,
                        "count": 1
                      }
                    ]
                  }
                },
                {
                  "name": "d24",
                  "dtype": "float64",
                  "stats": {
                    "unique_count": 0,
                    "nan_count": 22,
                    "min": null,
                    "max": null,
                    "histogram": [
                      {
                        "bin_start": 0,
                        "bin_end": 0.1,
                        "count": 0
                      },
                      {
                        "bin_start": 0.1,
                        "bin_end": 0.2,
                        "count": 0
                      },
                      {
                        "bin_start": 0.2,
                        "bin_end": 0.30000000000000004,
                        "count": 0
                      },
                      {
                        "bin_start": 0.30000000000000004,
                        "bin_end": 0.4,
                        "count": 0
                      },
                      {
                        "bin_start": 0.4,
                        "bin_end": 0.5,
                        "count": 0
                      },
                      {
                        "bin_start": 0.5,
                        "bin_end": 0.6000000000000001,
                        "count": 0
                      },
                      {
                        "bin_start": 0.6000000000000001,
                        "bin_end": 0.7000000000000001,
                        "count": 0
                      },
                      {
                        "bin_start": 0.7000000000000001,
                        "bin_end": 0.8,
                        "count": 0
                      },
                      {
                        "bin_start": 0.8,
                        "bin_end": 0.9,
                        "count": 0
                      },
                      {
                        "bin_start": 0.9,
                        "bin_end": 1,
                        "count": 0
                      }
                    ]
                  }
                },
                {
                  "name": "d25",
                  "dtype": "float64",
                  "stats": {
                    "unique_count": 2,
                    "nan_count": 20,
                    "min": "15.6",
                    "max": "29.7",
                    "histogram": [
                      {
                        "bin_start": 15.6,
                        "bin_end": 17.009999999999998,
                        "count": 1
                      },
                      {
                        "bin_start": 17.009999999999998,
                        "bin_end": 18.419999999999998,
                        "count": 0
                      },
                      {
                        "bin_start": 18.419999999999998,
                        "bin_end": 19.83,
                        "count": 0
                      },
                      {
                        "bin_start": 19.83,
                        "bin_end": 21.24,
                        "count": 0
                      },
                      {
                        "bin_start": 21.24,
                        "bin_end": 22.65,
                        "count": 0
                      },
                      {
                        "bin_start": 22.65,
                        "bin_end": 24.06,
                        "count": 0
                      },
                      {
                        "bin_start": 24.06,
                        "bin_end": 25.47,
                        "count": 0
                      },
                      {
                        "bin_start": 25.47,
                        "bin_end": 26.88,
                        "count": 0
                      },
                      {
                        "bin_start": 26.88,
                        "bin_end": 28.29,
                        "count": 0
                      },
                      {
                        "bin_start": 28.29,
                        "bin_end": 29.7,
                        "count": 1
                      }
                    ]
                  }
                },
                {
                  "name": "d26",
                  "dtype": "float64",
                  "stats": {
                    "unique_count": 2,
                    "nan_count": 20,
                    "min": "12.1",
                    "max": "28.1",
                    "histogram": [
                      {
                        "bin_start": 12.1,
                        "bin_end": 13.7,
                        "count": 1
                      },
                      {
                        "bin_start": 13.7,
                        "bin_end": 15.3,
                        "count": 0
                      },
                      {
                        "bin_start": 15.3,
                        "bin_end": 16.9,
                        "count": 0
                      },
                      {
                        "bin_start": 16.9,
                        "bin_end": 18.5,
                        "count": 0
                      },
                      {
                        "bin_start": 18.5,
                        "bin_end": 20.1,
                        "count": 0
                      },
                      {
                        "bin_start": 20.1,
                        "bin_end": 21.700000000000003,
                        "count": 0
                      },
                      {
                        "bin_start": 21.700000000000003,
                        "bin_end": 23.3,
                        "count": 0
                      },
                      {
                        "bin_start": 23.3,
                        "bin_end": 24.9,
                        "count": 0
                      },
                      {
                        "bin_start": 24.9,
                        "bin_end": 26.5,
                        "count": 0
                      },
                      {
                        "bin_start": 26.5,
                        "bin_end": 28.1,
                        "count": 1
                      }
                    ]
                  }
                },
                {
                  "name": "d27",
                  "dtype": "float64",
                  "stats": {
                    "unique_count": 6,
                    "nan_count": 16,
                    "min": "14.2",
                    "max": "36.3",
                    "histogram": [
                      {
                        "bin_start": 14.2,
                        "bin_end": 16.41,
                        "count": 1
                      },
                      {
                        "bin_start": 16.41,
                        "bin_end": 18.619999999999997,
                        "count": 2
                      },
                      {
                        "bin_start": 18.619999999999997,
                        "bin_end": 20.83,
                        "count": 0
                      },
                      {
                        "bin_start": 20.83,
                        "bin_end": 23.04,
                        "count": 0
                      },
                      {
                        "bin_start": 23.04,
                        "bin_end": 25.25,
                        "count": 0
                      },
                      {
                        "bin_start": 25.25,
                        "bin_end": 27.46,
                        "count": 0
                      },
                      {
                        "bin_start": 27.46,
                        "bin_end": 29.669999999999998,
                        "count": 1
                      },
                      {
                        "bin_start": 29.669999999999998,
                        "bin_end": 31.88,
                        "count": 0
                      },
                      {
                        "bin_start": 31.88,
                        "bin_end": 34.09,
                        "count": 1
                      },
                      {
                        "bin_start": 34.09,
                        "bin_end": 36.3,
                        "count": 1
                      }
                    ]
                  }
                },
                {
                  "name": "d28",
                  "dtype": "float64",
                  "stats": {
                    "unique_count": 2,
                    "nan_count": 20,
                    "min": "15.0",
                    "max": "31.2",
                    "histogram": [
                      {
                        "bin_start": 15,
                        "bin_end": 16.62,
                        "count": 1
                      },
                      {
                        "bin_start": 16.62,
                        "bin_end": 18.24,
                        "count": 0
                      },
                      {
                        "bin_start": 18.24,
                        "bin_end": 19.86,
                        "count": 0
                      },
                      {
                        "bin_start": 19.86,
                        "bin_end": 21.48,
                        "count": 0
                      },
                      {
                        "bin_start": 21.48,
                        "bin_end": 23.1,
                        "count": 0
                      },
                      {
                        "bin_start": 23.1,
                        "bin_end": 24.72,
                        "count": 0
                      },
                      {
                        "bin_start": 24.72,
                        "bin_end": 26.34,
                        "count": 0
                      },
                      {
                        "bin_start": 26.34,
                        "bin_end": 27.96,
                        "count": 0
                      },
                      {
                        "bin_start": 27.96,
                        "bin_end": 29.58,
                        "count": 0
                      },
                      {
                        "bin_start": 29.58,
                        "bin_end": 31.2,
                        "count": 1
                      }
                    ]
                  }
                },
                {
                  "name": "d29",
                  "dtype": "float64",
                  "stats": {
                    "unique_count": 4,
                    "nan_count": 18,
                    "min": "15.3",
                    "max": "30.1",
                    "histogram": [
                      {
                        "bin_start": 15.3,
                        "bin_end": 16.78,
                        "count": 1
                      },
                      {
                        "bin_start": 16.78,
                        "bin_end": 18.26,
                        "count": 1
                      },
                      {
                        "bin_start": 18.26,
                        "bin_end": 19.740000000000002,
                        "count": 0
                      },
                      {
                        "bin_start": 19.740000000000002,
                        "bin_end": 21.22,
                        "count": 0
                      },
                      {
                        "bin_start": 21.22,
                        "bin_end": 22.700000000000003,
                        "count": 0
                      },
                      {
                        "bin_start": 22.700000000000003,
                        "bin_end": 24.18,
                        "count": 0
                      },
                      {
                        "bin_start": 24.18,
                        "bin_end": 25.66,
                        "count": 0
                      },
                      {
                        "bin_start": 25.66,
                        "bin_end": 27.14,
                        "count": 0
                      },
                      {
                        "bin_start": 27.14,
                        "bin_end": 28.62,
                        "count": 1
                      },
                      {
                        "bin_start": 28.62,
                        "bin_end": 30.1,
                        "count": 1
                      }
                    ]
                  }
                },
                {
                  "name": "d30",
                  "dtype": "float64",
                  "stats": {
                    "unique_count": 2,
                    "nan_count": 20,
                    "min": "14.5",
                    "max": "27.8",
                    "histogram": [
                      {
                        "bin_start": 14.5,
                        "bin_end": 15.83,
                        "count": 1
                      },
                      {
                        "bin_start": 15.83,
                        "bin_end": 17.16,
                        "count": 0
                      },
                      {
                        "bin_start": 17.16,
                        "bin_end": 18.490000000000002,
                        "count": 0
                      },
                      {
                        "bin_start": 18.490000000000002,
                        "bin_end": 19.82,
                        "count": 0
                      },
                      {
                        "bin_start": 19.82,
                        "bin_end": 21.15,
                        "count": 0
                      },
                      {
                        "bin_start": 21.15,
                        "bin_end": 22.48,
                        "count": 0
                      },
                      {
                        "bin_start": 22.48,
                        "bin_end": 23.810000000000002,
                        "count": 0
                      },
                      {
                        "bin_start": 23.810000000000002,
                        "bin_end": 25.14,
                        "count": 0
                      },
                      {
                        "bin_start": 25.14,
                        "bin_end": 26.47,
                        "count": 0
                      },
                      {
                        "bin_start": 26.47,
                        "bin_end": 27.8,
                        "count": 1
                      }
                    ]
                  }
                },
                {
                  "name": "d31",
                  "dtype": "float64",
                  "stats": {
                    "unique_count": 2,
                    "nan_count": 20,
                    "min": "15.4",
                    "max": "25.4",
                    "histogram": [
                      {
                        "bin_start": 15.4,
                        "bin_end": 16.4,
                        "count": 1
                      },
                      {
                        "bin_start": 16.4,
                        "bin_end": 17.4,
                        "count": 0
                      },
                      {
                        "bin_start": 17.4,
                        "bin_end": 18.4,
                        "count": 0
                      },
                      {
                        "bin_start": 18.4,
                        "bin_end": 19.4,
                        "count": 0
                      },
                      {
                        "bin_start": 19.4,
                        "bin_end": 20.4,
                        "count": 0
                      },
                      {
                        "bin_start": 20.4,
                        "bin_end": 21.4,
                        "count": 0
                      },
                      {
                        "bin_start": 21.4,
                        "bin_end": 22.4,
                        "count": 0
                      },
                      {
                        "bin_start": 22.4,
                        "bin_end": 23.4,
                        "count": 0
                      },
                      {
                        "bin_start": 23.4,
                        "bin_end": 24.4,
                        "count": 0
                      },
                      {
                        "bin_start": 24.4,
                        "bin_end": 25.4,
                        "count": 1
                      }
                    ]
                  }
                },
                {
                  "name": "_deepnote_index_column",
                  "dtype": "int64"
                }
              ],
              "rows_top": [
                {
                  "id": "MX17004",
                  "year": 2010,
                  "month": 1,
                  "element": "tmax",
                  "d1": "nan",
                  "d2": "nan",
                  "d3": "nan",
                  "d4": "nan",
                  "d5": "nan",
                  "d6": "nan",
                  "d7": "nan",
                  "d8": "nan",
                  "d9": "nan",
                  "d10": "nan",
                  "d11": "nan",
                  "d12": "nan",
                  "d13": "nan",
                  "d14": "nan",
                  "d15": "nan",
                  "d16": "nan",
                  "d17": "nan",
                  "d18": "nan",
                  "d19": "nan",
                  "d20": "nan",
                  "d21": "nan",
                  "d22": "nan",
                  "d23": "nan",
                  "d24": "nan",
                  "d25": "nan",
                  "d26": "nan",
                  "d27": "nan",
                  "d28": "nan",
                  "d29": "nan",
                  "d30": "27.8",
                  "d31": "nan",
                  "_deepnote_index_column": 0
                },
                {
                  "id": "MX17004",
                  "year": 2010,
                  "month": 1,
                  "element": "tmin",
                  "d1": "nan",
                  "d2": "nan",
                  "d3": "nan",
                  "d4": "nan",
                  "d5": "nan",
                  "d6": "nan",
                  "d7": "nan",
                  "d8": "nan",
                  "d9": "nan",
                  "d10": "nan",
                  "d11": "nan",
                  "d12": "nan",
                  "d13": "nan",
                  "d14": "nan",
                  "d15": "nan",
                  "d16": "nan",
                  "d17": "nan",
                  "d18": "nan",
                  "d19": "nan",
                  "d20": "nan",
                  "d21": "nan",
                  "d22": "nan",
                  "d23": "nan",
                  "d24": "nan",
                  "d25": "nan",
                  "d26": "nan",
                  "d27": "nan",
                  "d28": "nan",
                  "d29": "nan",
                  "d30": "14.5",
                  "d31": "nan",
                  "_deepnote_index_column": 1
                },
                {
                  "id": "MX17004",
                  "year": 2010,
                  "month": 2,
                  "element": "tmax",
                  "d1": "nan",
                  "d2": "27.3",
                  "d3": "24.1",
                  "d4": "nan",
                  "d5": "nan",
                  "d6": "nan",
                  "d7": "nan",
                  "d8": "nan",
                  "d9": "nan",
                  "d10": "nan",
                  "d11": "29.7",
                  "d12": "nan",
                  "d13": "nan",
                  "d14": "nan",
                  "d15": "nan",
                  "d16": "nan",
                  "d17": "nan",
                  "d18": "nan",
                  "d19": "nan",
                  "d20": "nan",
                  "d21": "nan",
                  "d22": "nan",
                  "d23": "29.9",
                  "d24": "nan",
                  "d25": "nan",
                  "d26": "nan",
                  "d27": "nan",
                  "d28": "nan",
                  "d29": "nan",
                  "d30": "nan",
                  "d31": "nan",
                  "_deepnote_index_column": 2
                },
                {
                  "id": "MX17004",
                  "year": 2010,
                  "month": 2,
                  "element": "tmin",
                  "d1": "nan",
                  "d2": "14.4",
                  "d3": "14.4",
                  "d4": "nan",
                  "d5": "nan",
                  "d6": "nan",
                  "d7": "nan",
                  "d8": "nan",
                  "d9": "nan",
                  "d10": "nan",
                  "d11": "13.4",
                  "d12": "nan",
                  "d13": "nan",
                  "d14": "nan",
                  "d15": "nan",
                  "d16": "nan",
                  "d17": "nan",
                  "d18": "nan",
                  "d19": "nan",
                  "d20": "nan",
                  "d21": "nan",
                  "d22": "nan",
                  "d23": "10.7",
                  "d24": "nan",
                  "d25": "nan",
                  "d26": "nan",
                  "d27": "nan",
                  "d28": "nan",
                  "d29": "nan",
                  "d30": "nan",
                  "d31": "nan",
                  "_deepnote_index_column": 3
                },
                {
                  "id": "MX17004",
                  "year": 2010,
                  "month": 3,
                  "element": "tmax",
                  "d1": "nan",
                  "d2": "nan",
                  "d3": "nan",
                  "d4": "nan",
                  "d5": "32.1",
                  "d6": "nan",
                  "d7": "nan",
                  "d8": "nan",
                  "d9": "nan",
                  "d10": "34.5",
                  "d11": "nan",
                  "d12": "nan",
                  "d13": "nan",
                  "d14": "nan",
                  "d15": "nan",
                  "d16": "31.1",
                  "d17": "nan",
                  "d18": "nan",
                  "d19": "nan",
                  "d20": "nan",
                  "d21": "nan",
                  "d22": "nan",
                  "d23": "nan",
                  "d24": "nan",
                  "d25": "nan",
                  "d26": "nan",
                  "d27": "nan",
                  "d28": "nan",
                  "d29": "nan",
                  "d30": "nan",
                  "d31": "nan",
                  "_deepnote_index_column": 4
                },
                {
                  "id": "MX17004",
                  "year": 2010,
                  "month": 3,
                  "element": "tmin",
                  "d1": "nan",
                  "d2": "nan",
                  "d3": "nan",
                  "d4": "nan",
                  "d5": "14.2",
                  "d6": "nan",
                  "d7": "nan",
                  "d8": "nan",
                  "d9": "nan",
                  "d10": "16.8",
                  "d11": "nan",
                  "d12": "nan",
                  "d13": "nan",
                  "d14": "nan",
                  "d15": "nan",
                  "d16": "17.6",
                  "d17": "nan",
                  "d18": "nan",
                  "d19": "nan",
                  "d20": "nan",
                  "d21": "nan",
                  "d22": "nan",
                  "d23": "nan",
                  "d24": "nan",
                  "d25": "nan",
                  "d26": "nan",
                  "d27": "nan",
                  "d28": "nan",
                  "d29": "nan",
                  "d30": "nan",
                  "d31": "nan",
                  "_deepnote_index_column": 5
                },
                {
                  "id": "MX17004",
                  "year": 2010,
                  "month": 4,
                  "element": "tmax",
                  "d1": "nan",
                  "d2": "nan",
                  "d3": "nan",
                  "d4": "nan",
                  "d5": "nan",
                  "d6": "nan",
                  "d7": "nan",
                  "d8": "nan",
                  "d9": "nan",
                  "d10": "nan",
                  "d11": "nan",
                  "d12": "nan",
                  "d13": "nan",
                  "d14": "nan",
                  "d15": "nan",
                  "d16": "nan",
                  "d17": "nan",
                  "d18": "nan",
                  "d19": "nan",
                  "d20": "nan",
                  "d21": "nan",
                  "d22": "nan",
                  "d23": "nan",
                  "d24": "nan",
                  "d25": "nan",
                  "d26": "nan",
                  "d27": "36.3",
                  "d28": "nan",
                  "d29": "nan",
                  "d30": "nan",
                  "d31": "nan",
                  "_deepnote_index_column": 6
                },
                {
                  "id": "MX17004",
                  "year": 2010,
                  "month": 4,
                  "element": "tmin",
                  "d1": "nan",
                  "d2": "nan",
                  "d3": "nan",
                  "d4": "nan",
                  "d5": "nan",
                  "d6": "nan",
                  "d7": "nan",
                  "d8": "nan",
                  "d9": "nan",
                  "d10": "nan",
                  "d11": "nan",
                  "d12": "nan",
                  "d13": "nan",
                  "d14": "nan",
                  "d15": "nan",
                  "d16": "nan",
                  "d17": "nan",
                  "d18": "nan",
                  "d19": "nan",
                  "d20": "nan",
                  "d21": "nan",
                  "d22": "nan",
                  "d23": "nan",
                  "d24": "nan",
                  "d25": "nan",
                  "d26": "nan",
                  "d27": "16.7",
                  "d28": "nan",
                  "d29": "nan",
                  "d30": "nan",
                  "d31": "nan",
                  "_deepnote_index_column": 7
                },
                {
                  "id": "MX17004",
                  "year": 2010,
                  "month": 5,
                  "element": "tmax",
                  "d1": "nan",
                  "d2": "nan",
                  "d3": "nan",
                  "d4": "nan",
                  "d5": "nan",
                  "d6": "nan",
                  "d7": "nan",
                  "d8": "nan",
                  "d9": "nan",
                  "d10": "nan",
                  "d11": "nan",
                  "d12": "nan",
                  "d13": "nan",
                  "d14": "nan",
                  "d15": "nan",
                  "d16": "nan",
                  "d17": "nan",
                  "d18": "nan",
                  "d19": "nan",
                  "d20": "nan",
                  "d21": "nan",
                  "d22": "nan",
                  "d23": "nan",
                  "d24": "nan",
                  "d25": "nan",
                  "d26": "nan",
                  "d27": "33.2",
                  "d28": "nan",
                  "d29": "nan",
                  "d30": "nan",
                  "d31": "nan",
                  "_deepnote_index_column": 8
                },
                {
                  "id": "MX17004",
                  "year": 2010,
                  "month": 5,
                  "element": "tmin",
                  "d1": "nan",
                  "d2": "nan",
                  "d3": "nan",
                  "d4": "nan",
                  "d5": "nan",
                  "d6": "nan",
                  "d7": "nan",
                  "d8": "nan",
                  "d9": "nan",
                  "d10": "nan",
                  "d11": "nan",
                  "d12": "nan",
                  "d13": "nan",
                  "d14": "nan",
                  "d15": "nan",
                  "d16": "nan",
                  "d17": "nan",
                  "d18": "nan",
                  "d19": "nan",
                  "d20": "nan",
                  "d21": "nan",
                  "d22": "nan",
                  "d23": "nan",
                  "d24": "nan",
                  "d25": "nan",
                  "d26": "nan",
                  "d27": "18.2",
                  "d28": "nan",
                  "d29": "nan",
                  "d30": "nan",
                  "d31": "nan",
                  "_deepnote_index_column": 9
                },
                {
                  "id": "MX17004",
                  "year": 2010,
                  "month": 6,
                  "element": "tmax",
                  "d1": "nan",
                  "d2": "nan",
                  "d3": "nan",
                  "d4": "nan",
                  "d5": "nan",
                  "d6": "nan",
                  "d7": "nan",
                  "d8": "nan",
                  "d9": "nan",
                  "d10": "nan",
                  "d11": "nan",
                  "d12": "nan",
                  "d13": "nan",
                  "d14": "nan",
                  "d15": "nan",
                  "d16": "nan",
                  "d17": "28.0",
                  "d18": "nan",
                  "d19": "nan",
                  "d20": "nan",
                  "d21": "nan",
                  "d22": "nan",
                  "d23": "nan",
                  "d24": "nan",
                  "d25": "nan",
                  "d26": "nan",
                  "d27": "nan",
                  "d28": "nan",
                  "d29": "30.1",
                  "d30": "nan",
                  "d31": "nan",
                  "_deepnote_index_column": 10
                },
                {
                  "id": "MX17004",
                  "year": 2010,
                  "month": 6,
                  "element": "tmin",
                  "d1": "nan",
                  "d2": "nan",
                  "d3": "nan",
                  "d4": "nan",
                  "d5": "nan",
                  "d6": "nan",
                  "d7": "nan",
                  "d8": "nan",
                  "d9": "nan",
                  "d10": "nan",
                  "d11": "nan",
                  "d12": "nan",
                  "d13": "nan",
                  "d14": "nan",
                  "d15": "nan",
                  "d16": "nan",
                  "d17": "17.5",
                  "d18": "nan",
                  "d19": "nan",
                  "d20": "nan",
                  "d21": "nan",
                  "d22": "nan",
                  "d23": "nan",
                  "d24": "nan",
                  "d25": "nan",
                  "d26": "nan",
                  "d27": "nan",
                  "d28": "nan",
                  "d29": "18.0",
                  "d30": "nan",
                  "d31": "nan",
                  "_deepnote_index_column": 11
                },
                {
                  "id": "MX17004",
                  "year": 2010,
                  "month": 7,
                  "element": "tmax",
                  "d1": "nan",
                  "d2": "nan",
                  "d3": "28.6",
                  "d4": "nan",
                  "d5": "nan",
                  "d6": "nan",
                  "d7": "nan",
                  "d8": "nan",
                  "d9": "nan",
                  "d10": "nan",
                  "d11": "nan",
                  "d12": "nan",
                  "d13": "nan",
                  "d14": "29.9",
                  "d15": "nan",
                  "d16": "nan",
                  "d17": "nan",
                  "d18": "nan",
                  "d19": "nan",
                  "d20": "nan",
                  "d21": "nan",
                  "d22": "nan",
                  "d23": "nan",
                  "d24": "nan",
                  "d25": "nan",
                  "d26": "nan",
                  "d27": "nan",
                  "d28": "nan",
                  "d29": "nan",
                  "d30": "nan",
                  "d31": "nan",
                  "_deepnote_index_column": 12
                },
                {
                  "id": "MX17004",
                  "year": 2010,
                  "month": 7,
                  "element": "tmin",
                  "d1": "nan",
                  "d2": "nan",
                  "d3": "17.5",
                  "d4": "nan",
                  "d5": "nan",
                  "d6": "nan",
                  "d7": "nan",
                  "d8": "nan",
                  "d9": "nan",
                  "d10": "nan",
                  "d11": "nan",
                  "d12": "nan",
                  "d13": "nan",
                  "d14": "16.5",
                  "d15": "nan",
                  "d16": "nan",
                  "d17": "nan",
                  "d18": "nan",
                  "d19": "nan",
                  "d20": "nan",
                  "d21": "nan",
                  "d22": "nan",
                  "d23": "nan",
                  "d24": "nan",
                  "d25": "nan",
                  "d26": "nan",
                  "d27": "nan",
                  "d28": "nan",
                  "d29": "nan",
                  "d30": "nan",
                  "d31": "nan",
                  "_deepnote_index_column": 13
                },
                {
                  "id": "MX17004",
                  "year": 2010,
                  "month": 8,
                  "element": "tmax",
                  "d1": "nan",
                  "d2": "nan",
                  "d3": "nan",
                  "d4": "nan",
                  "d5": "29.6",
                  "d6": "nan",
                  "d7": "nan",
                  "d8": "29.0",
                  "d9": "nan",
                  "d10": "nan",
                  "d11": "nan",
                  "d12": "nan",
                  "d13": "29.8",
                  "d14": "nan",
                  "d15": "nan",
                  "d16": "nan",
                  "d17": "nan",
                  "d18": "nan",
                  "d19": "nan",
                  "d20": "nan",
                  "d21": "nan",
                  "d22": "nan",
                  "d23": "26.4",
                  "d24": "nan",
                  "d25": "29.7",
                  "d26": "nan",
                  "d27": "nan",
                  "d28": "nan",
                  "d29": "28.0",
                  "d30": "nan",
                  "d31": "25.4",
                  "_deepnote_index_column": 14
                },
                {
                  "id": "MX17004",
                  "year": 2010,
                  "month": 8,
                  "element": "tmin",
                  "d1": "nan",
                  "d2": "nan",
                  "d3": "nan",
                  "d4": "nan",
                  "d5": "15.8",
                  "d6": "nan",
                  "d7": "nan",
                  "d8": "17.3",
                  "d9": "nan",
                  "d10": "nan",
                  "d11": "nan",
                  "d12": "nan",
                  "d13": "16.5",
                  "d14": "nan",
                  "d15": "nan",
                  "d16": "nan",
                  "d17": "nan",
                  "d18": "nan",
                  "d19": "nan",
                  "d20": "nan",
                  "d21": "nan",
                  "d22": "nan",
                  "d23": "15.0",
                  "d24": "nan",
                  "d25": "15.6",
                  "d26": "nan",
                  "d27": "nan",
                  "d28": "nan",
                  "d29": "15.3",
                  "d30": "nan",
                  "d31": "15.4",
                  "_deepnote_index_column": 15
                },
                {
                  "id": "MX17004",
                  "year": 2010,
                  "month": 10,
                  "element": "tmax",
                  "d1": "nan",
                  "d2": "nan",
                  "d3": "nan",
                  "d4": "nan",
                  "d5": "27.0",
                  "d6": "nan",
                  "d7": "28.1",
                  "d8": "nan",
                  "d9": "nan",
                  "d10": "nan",
                  "d11": "nan",
                  "d12": "nan",
                  "d13": "nan",
                  "d14": "29.5",
                  "d15": "28.7",
                  "d16": "nan",
                  "d17": "nan",
                  "d18": "nan",
                  "d19": "nan",
                  "d20": "nan",
                  "d21": "nan",
                  "d22": "nan",
                  "d23": "nan",
                  "d24": "nan",
                  "d25": "nan",
                  "d26": "nan",
                  "d27": "nan",
                  "d28": "31.2",
                  "d29": "nan",
                  "d30": "nan",
                  "d31": "nan",
                  "_deepnote_index_column": 16
                },
                {
                  "id": "MX17004",
                  "year": 2010,
                  "month": 10,
                  "element": "tmin",
                  "d1": "nan",
                  "d2": "nan",
                  "d3": "nan",
                  "d4": "nan",
                  "d5": "14.0",
                  "d6": "nan",
                  "d7": "12.9",
                  "d8": "nan",
                  "d9": "nan",
                  "d10": "nan",
                  "d11": "nan",
                  "d12": "nan",
                  "d13": "nan",
                  "d14": "13.0",
                  "d15": "10.5",
                  "d16": "nan",
                  "d17": "nan",
                  "d18": "nan",
                  "d19": "nan",
                  "d20": "nan",
                  "d21": "nan",
                  "d22": "nan",
                  "d23": "nan",
                  "d24": "nan",
                  "d25": "nan",
                  "d26": "nan",
                  "d27": "nan",
                  "d28": "15.0",
                  "d29": "nan",
                  "d30": "nan",
                  "d31": "nan",
                  "_deepnote_index_column": 17
                },
                {
                  "id": "MX17004",
                  "year": 2010,
                  "month": 11,
                  "element": "tmax",
                  "d1": "nan",
                  "d2": "31.3",
                  "d3": "nan",
                  "d4": "27.2",
                  "d5": "26.3",
                  "d6": "nan",
                  "d7": "nan",
                  "d8": "nan",
                  "d9": "nan",
                  "d10": "nan",
                  "d11": "nan",
                  "d12": "nan",
                  "d13": "nan",
                  "d14": "nan",
                  "d15": "nan",
                  "d16": "nan",
                  "d17": "nan",
                  "d18": "nan",
                  "d19": "nan",
                  "d20": "nan",
                  "d21": "nan",
                  "d22": "nan",
                  "d23": "nan",
                  "d24": "nan",
                  "d25": "nan",
                  "d26": "28.1",
                  "d27": "27.7",
                  "d28": "nan",
                  "d29": "nan",
                  "d30": "nan",
                  "d31": "nan",
                  "_deepnote_index_column": 18
                },
                {
                  "id": "MX17004",
                  "year": 2010,
                  "month": 11,
                  "element": "tmin",
                  "d1": "nan",
                  "d2": "16.3",
                  "d3": "nan",
                  "d4": "12.0",
                  "d5": "7.9",
                  "d6": "nan",
                  "d7": "nan",
                  "d8": "nan",
                  "d9": "nan",
                  "d10": "nan",
                  "d11": "nan",
                  "d12": "nan",
                  "d13": "nan",
                  "d14": "nan",
                  "d15": "nan",
                  "d16": "nan",
                  "d17": "nan",
                  "d18": "nan",
                  "d19": "nan",
                  "d20": "nan",
                  "d21": "nan",
                  "d22": "nan",
                  "d23": "nan",
                  "d24": "nan",
                  "d25": "nan",
                  "d26": "12.1",
                  "d27": "14.2",
                  "d28": "nan",
                  "d29": "nan",
                  "d30": "nan",
                  "d31": "nan",
                  "_deepnote_index_column": 19
                },
                {
                  "id": "MX17004",
                  "year": 2010,
                  "month": 12,
                  "element": "tmax",
                  "d1": "29.9",
                  "d2": "nan",
                  "d3": "nan",
                  "d4": "nan",
                  "d5": "nan",
                  "d6": "27.8",
                  "d7": "nan",
                  "d8": "nan",
                  "d9": "nan",
                  "d10": "nan",
                  "d11": "nan",
                  "d12": "nan",
                  "d13": "nan",
                  "d14": "nan",
                  "d15": "nan",
                  "d16": "nan",
                  "d17": "nan",
                  "d18": "nan",
                  "d19": "nan",
                  "d20": "nan",
                  "d21": "nan",
                  "d22": "nan",
                  "d23": "nan",
                  "d24": "nan",
                  "d25": "nan",
                  "d26": "nan",
                  "d27": "nan",
                  "d28": "nan",
                  "d29": "nan",
                  "d30": "nan",
                  "d31": "nan",
                  "_deepnote_index_column": 20
                },
                {
                  "id": "MX17004",
                  "year": 2010,
                  "month": 12,
                  "element": "tmin",
                  "d1": "13.8",
                  "d2": "nan",
                  "d3": "nan",
                  "d4": "nan",
                  "d5": "nan",
                  "d6": "10.5",
                  "d7": "nan",
                  "d8": "nan",
                  "d9": "nan",
                  "d10": "nan",
                  "d11": "nan",
                  "d12": "nan",
                  "d13": "nan",
                  "d14": "nan",
                  "d15": "nan",
                  "d16": "nan",
                  "d17": "nan",
                  "d18": "nan",
                  "d19": "nan",
                  "d20": "nan",
                  "d21": "nan",
                  "d22": "nan",
                  "d23": "nan",
                  "d24": "nan",
                  "d25": "nan",
                  "d26": "nan",
                  "d27": "nan",
                  "d28": "nan",
                  "d29": "nan",
                  "d30": "nan",
                  "d31": "nan",
                  "_deepnote_index_column": 21
                }
              ],
              "rows_bottom": null
            },
            "text/plain": "         id  year  month element    d1    d2    d3    d4    d5    d6  ...  \\\n0   MX17004  2010      1    tmax   NaN   NaN   NaN   NaN   NaN   NaN  ...   \n1   MX17004  2010      1    tmin   NaN   NaN   NaN   NaN   NaN   NaN  ...   \n2   MX17004  2010      2    tmax   NaN  27.3  24.1   NaN   NaN   NaN  ...   \n3   MX17004  2010      2    tmin   NaN  14.4  14.4   NaN   NaN   NaN  ...   \n4   MX17004  2010      3    tmax   NaN   NaN   NaN   NaN  32.1   NaN  ...   \n5   MX17004  2010      3    tmin   NaN   NaN   NaN   NaN  14.2   NaN  ...   \n6   MX17004  2010      4    tmax   NaN   NaN   NaN   NaN   NaN   NaN  ...   \n7   MX17004  2010      4    tmin   NaN   NaN   NaN   NaN   NaN   NaN  ...   \n8   MX17004  2010      5    tmax   NaN   NaN   NaN   NaN   NaN   NaN  ...   \n9   MX17004  2010      5    tmin   NaN   NaN   NaN   NaN   NaN   NaN  ...   \n10  MX17004  2010      6    tmax   NaN   NaN   NaN   NaN   NaN   NaN  ...   \n11  MX17004  2010      6    tmin   NaN   NaN   NaN   NaN   NaN   NaN  ...   \n12  MX17004  2010      7    tmax   NaN   NaN  28.6   NaN   NaN   NaN  ...   \n13  MX17004  2010      7    tmin   NaN   NaN  17.5   NaN   NaN   NaN  ...   \n14  MX17004  2010      8    tmax   NaN   NaN   NaN   NaN  29.6   NaN  ...   \n15  MX17004  2010      8    tmin   NaN   NaN   NaN   NaN  15.8   NaN  ...   \n16  MX17004  2010     10    tmax   NaN   NaN   NaN   NaN  27.0   NaN  ...   \n17  MX17004  2010     10    tmin   NaN   NaN   NaN   NaN  14.0   NaN  ...   \n18  MX17004  2010     11    tmax   NaN  31.3   NaN  27.2  26.3   NaN  ...   \n19  MX17004  2010     11    tmin   NaN  16.3   NaN  12.0   7.9   NaN  ...   \n20  MX17004  2010     12    tmax  29.9   NaN   NaN   NaN   NaN  27.8  ...   \n21  MX17004  2010     12    tmin  13.8   NaN   NaN   NaN   NaN  10.5  ...   \n\n    d22   d23  d24   d25   d26   d27   d28   d29   d30   d31  \n0   NaN   NaN  NaN   NaN   NaN   NaN   NaN   NaN  27.8   NaN  \n1   NaN   NaN  NaN   NaN   NaN   NaN   NaN   NaN  14.5   NaN  \n2   NaN  29.9  NaN   NaN   NaN   NaN   NaN   NaN   NaN   NaN  \n3   NaN  10.7  NaN   NaN   NaN   NaN   NaN   NaN   NaN   NaN  \n4   NaN   NaN  NaN   NaN   NaN   NaN   NaN   NaN   NaN   NaN  \n5   NaN   NaN  NaN   NaN   NaN   NaN   NaN   NaN   NaN   NaN  \n6   NaN   NaN  NaN   NaN   NaN  36.3   NaN   NaN   NaN   NaN  \n7   NaN   NaN  NaN   NaN   NaN  16.7   NaN   NaN   NaN   NaN  \n8   NaN   NaN  NaN   NaN   NaN  33.2   NaN   NaN   NaN   NaN  \n9   NaN   NaN  NaN   NaN   NaN  18.2   NaN   NaN   NaN   NaN  \n10  NaN   NaN  NaN   NaN   NaN   NaN   NaN  30.1   NaN   NaN  \n11  NaN   NaN  NaN   NaN   NaN   NaN   NaN  18.0   NaN   NaN  \n12  NaN   NaN  NaN   NaN   NaN   NaN   NaN   NaN   NaN   NaN  \n13  NaN   NaN  NaN   NaN   NaN   NaN   NaN   NaN   NaN   NaN  \n14  NaN  26.4  NaN  29.7   NaN   NaN   NaN  28.0   NaN  25.4  \n15  NaN  15.0  NaN  15.6   NaN   NaN   NaN  15.3   NaN  15.4  \n16  NaN   NaN  NaN   NaN   NaN   NaN  31.2   NaN   NaN   NaN  \n17  NaN   NaN  NaN   NaN   NaN   NaN  15.0   NaN   NaN   NaN  \n18  NaN   NaN  NaN   NaN  28.1  27.7   NaN   NaN   NaN   NaN  \n19  NaN   NaN  NaN   NaN  12.1  14.2   NaN   NaN   NaN   NaN  \n20  NaN   NaN  NaN   NaN   NaN   NaN   NaN   NaN   NaN   NaN  \n21  NaN   NaN  NaN   NaN   NaN   NaN   NaN   NaN   NaN   NaN  \n\n[22 rows x 35 columns]",
            "text/html": "<div>\n<style scoped>\n    .dataframe tbody tr th:only-of-type {\n        vertical-align: middle;\n    }\n\n    .dataframe tbody tr th {\n        vertical-align: top;\n    }\n\n    .dataframe thead th {\n        text-align: right;\n    }\n</style>\n<table border=\"1\" class=\"dataframe\">\n  <thead>\n    <tr style=\"text-align: right;\">\n      <th></th>\n      <th>id</th>\n      <th>year</th>\n      <th>month</th>\n      <th>element</th>\n      <th>d1</th>\n      <th>d2</th>\n      <th>d3</th>\n      <th>d4</th>\n      <th>d5</th>\n      <th>d6</th>\n      <th>...</th>\n      <th>d22</th>\n      <th>d23</th>\n      <th>d24</th>\n      <th>d25</th>\n      <th>d26</th>\n      <th>d27</th>\n      <th>d28</th>\n      <th>d29</th>\n      <th>d30</th>\n      <th>d31</th>\n    </tr>\n  </thead>\n  <tbody>\n    <tr>\n      <th>0</th>\n      <td>MX17004</td>\n      <td>2010</td>\n      <td>1</td>\n      <td>tmax</td>\n      <td>NaN</td>\n      <td>NaN</td>\n      <td>NaN</td>\n      <td>NaN</td>\n      <td>NaN</td>\n      <td>NaN</td>\n      <td>...</td>\n      <td>NaN</td>\n      <td>NaN</td>\n      <td>NaN</td>\n      <td>NaN</td>\n      <td>NaN</td>\n      <td>NaN</td>\n      <td>NaN</td>\n      <td>NaN</td>\n      <td>27.8</td>\n      <td>NaN</td>\n    </tr>\n    <tr>\n      <th>1</th>\n      <td>MX17004</td>\n      <td>2010</td>\n      <td>1</td>\n      <td>tmin</td>\n      <td>NaN</td>\n      <td>NaN</td>\n      <td>NaN</td>\n      <td>NaN</td>\n      <td>NaN</td>\n      <td>NaN</td>\n      <td>...</td>\n      <td>NaN</td>\n      <td>NaN</td>\n      <td>NaN</td>\n      <td>NaN</td>\n      <td>NaN</td>\n      <td>NaN</td>\n      <td>NaN</td>\n      <td>NaN</td>\n      <td>14.5</td>\n      <td>NaN</td>\n    </tr>\n    <tr>\n      <th>2</th>\n      <td>MX17004</td>\n      <td>2010</td>\n      <td>2</td>\n      <td>tmax</td>\n      <td>NaN</td>\n      <td>27.3</td>\n      <td>24.1</td>\n      <td>NaN</td>\n      <td>NaN</td>\n      <td>NaN</td>\n      <td>...</td>\n      <td>NaN</td>\n      <td>29.9</td>\n      <td>NaN</td>\n      <td>NaN</td>\n      <td>NaN</td>\n      <td>NaN</td>\n      <td>NaN</td>\n      <td>NaN</td>\n      <td>NaN</td>\n      <td>NaN</td>\n    </tr>\n    <tr>\n      <th>3</th>\n      <td>MX17004</td>\n      <td>2010</td>\n      <td>2</td>\n      <td>tmin</td>\n      <td>NaN</td>\n      <td>14.4</td>\n      <td>14.4</td>\n      <td>NaN</td>\n      <td>NaN</td>\n      <td>NaN</td>\n      <td>...</td>\n      <td>NaN</td>\n      <td>10.7</td>\n      <td>NaN</td>\n      <td>NaN</td>\n      <td>NaN</td>\n      <td>NaN</td>\n      <td>NaN</td>\n      <td>NaN</td>\n      <td>NaN</td>\n      <td>NaN</td>\n    </tr>\n    <tr>\n      <th>4</th>\n      <td>MX17004</td>\n      <td>2010</td>\n      <td>3</td>\n      <td>tmax</td>\n      <td>NaN</td>\n      <td>NaN</td>\n      <td>NaN</td>\n      <td>NaN</td>\n      <td>32.1</td>\n      <td>NaN</td>\n      <td>...</td>\n      <td>NaN</td>\n      <td>NaN</td>\n      <td>NaN</td>\n      <td>NaN</td>\n      <td>NaN</td>\n      <td>NaN</td>\n      <td>NaN</td>\n      <td>NaN</td>\n      <td>NaN</td>\n      <td>NaN</td>\n    </tr>\n    <tr>\n      <th>5</th>\n      <td>MX17004</td>\n      <td>2010</td>\n      <td>3</td>\n      <td>tmin</td>\n      <td>NaN</td>\n      <td>NaN</td>\n      <td>NaN</td>\n      <td>NaN</td>\n      <td>14.2</td>\n      <td>NaN</td>\n      <td>...</td>\n      <td>NaN</td>\n      <td>NaN</td>\n      <td>NaN</td>\n      <td>NaN</td>\n      <td>NaN</td>\n      <td>NaN</td>\n      <td>NaN</td>\n      <td>NaN</td>\n      <td>NaN</td>\n      <td>NaN</td>\n    </tr>\n    <tr>\n      <th>6</th>\n      <td>MX17004</td>\n      <td>2010</td>\n      <td>4</td>\n      <td>tmax</td>\n      <td>NaN</td>\n      <td>NaN</td>\n      <td>NaN</td>\n      <td>NaN</td>\n      <td>NaN</td>\n      <td>NaN</td>\n      <td>...</td>\n      <td>NaN</td>\n      <td>NaN</td>\n      <td>NaN</td>\n      <td>NaN</td>\n      <td>NaN</td>\n      <td>36.3</td>\n      <td>NaN</td>\n      <td>NaN</td>\n      <td>NaN</td>\n      <td>NaN</td>\n    </tr>\n    <tr>\n      <th>7</th>\n      <td>MX17004</td>\n      <td>2010</td>\n      <td>4</td>\n      <td>tmin</td>\n      <td>NaN</td>\n      <td>NaN</td>\n      <td>NaN</td>\n      <td>NaN</td>\n      <td>NaN</td>\n      <td>NaN</td>\n      <td>...</td>\n      <td>NaN</td>\n      <td>NaN</td>\n      <td>NaN</td>\n      <td>NaN</td>\n      <td>NaN</td>\n      <td>16.7</td>\n      <td>NaN</td>\n      <td>NaN</td>\n      <td>NaN</td>\n      <td>NaN</td>\n    </tr>\n    <tr>\n      <th>8</th>\n      <td>MX17004</td>\n      <td>2010</td>\n      <td>5</td>\n      <td>tmax</td>\n      <td>NaN</td>\n      <td>NaN</td>\n      <td>NaN</td>\n      <td>NaN</td>\n      <td>NaN</td>\n      <td>NaN</td>\n      <td>...</td>\n      <td>NaN</td>\n      <td>NaN</td>\n      <td>NaN</td>\n      <td>NaN</td>\n      <td>NaN</td>\n      <td>33.2</td>\n      <td>NaN</td>\n      <td>NaN</td>\n      <td>NaN</td>\n      <td>NaN</td>\n    </tr>\n    <tr>\n      <th>9</th>\n      <td>MX17004</td>\n      <td>2010</td>\n      <td>5</td>\n      <td>tmin</td>\n      <td>NaN</td>\n      <td>NaN</td>\n      <td>NaN</td>\n      <td>NaN</td>\n      <td>NaN</td>\n      <td>NaN</td>\n      <td>...</td>\n      <td>NaN</td>\n      <td>NaN</td>\n      <td>NaN</td>\n      <td>NaN</td>\n      <td>NaN</td>\n      <td>18.2</td>\n      <td>NaN</td>\n      <td>NaN</td>\n      <td>NaN</td>\n      <td>NaN</td>\n    </tr>\n    <tr>\n      <th>10</th>\n      <td>MX17004</td>\n      <td>2010</td>\n      <td>6</td>\n      <td>tmax</td>\n      <td>NaN</td>\n      <td>NaN</td>\n      <td>NaN</td>\n      <td>NaN</td>\n      <td>NaN</td>\n      <td>NaN</td>\n      <td>...</td>\n      <td>NaN</td>\n      <td>NaN</td>\n      <td>NaN</td>\n      <td>NaN</td>\n      <td>NaN</td>\n      <td>NaN</td>\n      <td>NaN</td>\n      <td>30.1</td>\n      <td>NaN</td>\n      <td>NaN</td>\n    </tr>\n    <tr>\n      <th>11</th>\n      <td>MX17004</td>\n      <td>2010</td>\n      <td>6</td>\n      <td>tmin</td>\n      <td>NaN</td>\n      <td>NaN</td>\n      <td>NaN</td>\n      <td>NaN</td>\n      <td>NaN</td>\n      <td>NaN</td>\n      <td>...</td>\n      <td>NaN</td>\n      <td>NaN</td>\n      <td>NaN</td>\n      <td>NaN</td>\n      <td>NaN</td>\n      <td>NaN</td>\n      <td>NaN</td>\n      <td>18.0</td>\n      <td>NaN</td>\n      <td>NaN</td>\n    </tr>\n    <tr>\n      <th>12</th>\n      <td>MX17004</td>\n      <td>2010</td>\n      <td>7</td>\n      <td>tmax</td>\n      <td>NaN</td>\n      <td>NaN</td>\n      <td>28.6</td>\n      <td>NaN</td>\n      <td>NaN</td>\n      <td>NaN</td>\n      <td>...</td>\n      <td>NaN</td>\n      <td>NaN</td>\n      <td>NaN</td>\n      <td>NaN</td>\n      <td>NaN</td>\n      <td>NaN</td>\n      <td>NaN</td>\n      <td>NaN</td>\n      <td>NaN</td>\n      <td>NaN</td>\n    </tr>\n    <tr>\n      <th>13</th>\n      <td>MX17004</td>\n      <td>2010</td>\n      <td>7</td>\n      <td>tmin</td>\n      <td>NaN</td>\n      <td>NaN</td>\n      <td>17.5</td>\n      <td>NaN</td>\n      <td>NaN</td>\n      <td>NaN</td>\n      <td>...</td>\n      <td>NaN</td>\n      <td>NaN</td>\n      <td>NaN</td>\n      <td>NaN</td>\n      <td>NaN</td>\n      <td>NaN</td>\n      <td>NaN</td>\n      <td>NaN</td>\n      <td>NaN</td>\n      <td>NaN</td>\n    </tr>\n    <tr>\n      <th>14</th>\n      <td>MX17004</td>\n      <td>2010</td>\n      <td>8</td>\n      <td>tmax</td>\n      <td>NaN</td>\n      <td>NaN</td>\n      <td>NaN</td>\n      <td>NaN</td>\n      <td>29.6</td>\n      <td>NaN</td>\n      <td>...</td>\n      <td>NaN</td>\n      <td>26.4</td>\n      <td>NaN</td>\n      <td>29.7</td>\n      <td>NaN</td>\n      <td>NaN</td>\n      <td>NaN</td>\n      <td>28.0</td>\n      <td>NaN</td>\n      <td>25.4</td>\n    </tr>\n    <tr>\n      <th>15</th>\n      <td>MX17004</td>\n      <td>2010</td>\n      <td>8</td>\n      <td>tmin</td>\n      <td>NaN</td>\n      <td>NaN</td>\n      <td>NaN</td>\n      <td>NaN</td>\n      <td>15.8</td>\n      <td>NaN</td>\n      <td>...</td>\n      <td>NaN</td>\n      <td>15.0</td>\n      <td>NaN</td>\n      <td>15.6</td>\n      <td>NaN</td>\n      <td>NaN</td>\n      <td>NaN</td>\n      <td>15.3</td>\n      <td>NaN</td>\n      <td>15.4</td>\n    </tr>\n    <tr>\n      <th>16</th>\n      <td>MX17004</td>\n      <td>2010</td>\n      <td>10</td>\n      <td>tmax</td>\n      <td>NaN</td>\n      <td>NaN</td>\n      <td>NaN</td>\n      <td>NaN</td>\n      <td>27.0</td>\n      <td>NaN</td>\n      <td>...</td>\n      <td>NaN</td>\n      <td>NaN</td>\n      <td>NaN</td>\n      <td>NaN</td>\n      <td>NaN</td>\n      <td>NaN</td>\n      <td>31.2</td>\n      <td>NaN</td>\n      <td>NaN</td>\n      <td>NaN</td>\n    </tr>\n    <tr>\n      <th>17</th>\n      <td>MX17004</td>\n      <td>2010</td>\n      <td>10</td>\n      <td>tmin</td>\n      <td>NaN</td>\n      <td>NaN</td>\n      <td>NaN</td>\n      <td>NaN</td>\n      <td>14.0</td>\n      <td>NaN</td>\n      <td>...</td>\n      <td>NaN</td>\n      <td>NaN</td>\n      <td>NaN</td>\n      <td>NaN</td>\n      <td>NaN</td>\n      <td>NaN</td>\n      <td>15.0</td>\n      <td>NaN</td>\n      <td>NaN</td>\n      <td>NaN</td>\n    </tr>\n    <tr>\n      <th>18</th>\n      <td>MX17004</td>\n      <td>2010</td>\n      <td>11</td>\n      <td>tmax</td>\n      <td>NaN</td>\n      <td>31.3</td>\n      <td>NaN</td>\n      <td>27.2</td>\n      <td>26.3</td>\n      <td>NaN</td>\n      <td>...</td>\n      <td>NaN</td>\n      <td>NaN</td>\n      <td>NaN</td>\n      <td>NaN</td>\n      <td>28.1</td>\n      <td>27.7</td>\n      <td>NaN</td>\n      <td>NaN</td>\n      <td>NaN</td>\n      <td>NaN</td>\n    </tr>\n    <tr>\n      <th>19</th>\n      <td>MX17004</td>\n      <td>2010</td>\n      <td>11</td>\n      <td>tmin</td>\n      <td>NaN</td>\n      <td>16.3</td>\n      <td>NaN</td>\n      <td>12.0</td>\n      <td>7.9</td>\n      <td>NaN</td>\n      <td>...</td>\n      <td>NaN</td>\n      <td>NaN</td>\n      <td>NaN</td>\n      <td>NaN</td>\n      <td>12.1</td>\n      <td>14.2</td>\n      <td>NaN</td>\n      <td>NaN</td>\n      <td>NaN</td>\n      <td>NaN</td>\n    </tr>\n    <tr>\n      <th>20</th>\n      <td>MX17004</td>\n      <td>2010</td>\n      <td>12</td>\n      <td>tmax</td>\n      <td>29.9</td>\n      <td>NaN</td>\n      <td>NaN</td>\n      <td>NaN</td>\n      <td>NaN</td>\n      <td>27.8</td>\n      <td>...</td>\n      <td>NaN</td>\n      <td>NaN</td>\n      <td>NaN</td>\n      <td>NaN</td>\n      <td>NaN</td>\n      <td>NaN</td>\n      <td>NaN</td>\n      <td>NaN</td>\n      <td>NaN</td>\n      <td>NaN</td>\n    </tr>\n    <tr>\n      <th>21</th>\n      <td>MX17004</td>\n      <td>2010</td>\n      <td>12</td>\n      <td>tmin</td>\n      <td>13.8</td>\n      <td>NaN</td>\n      <td>NaN</td>\n      <td>NaN</td>\n      <td>NaN</td>\n      <td>10.5</td>\n      <td>...</td>\n      <td>NaN</td>\n      <td>NaN</td>\n      <td>NaN</td>\n      <td>NaN</td>\n      <td>NaN</td>\n      <td>NaN</td>\n      <td>NaN</td>\n      <td>NaN</td>\n      <td>NaN</td>\n      <td>NaN</td>\n    </tr>\n  </tbody>\n</table>\n<p>22 rows × 35 columns</p>\n</div>"
          },
          "metadata": {}
        }
      ]
    },
    {
      "cell_type": "code",
      "metadata": {
        "deepnote_to_be_reexecuted": false,
        "execution_millis": 0,
        "execution_start": 1619967638790,
        "source_hash": "153e8f81",
        "cell_id": "00062-c1192e62-9a46-449c-91ae-bafbc0a3a047",
        "deepnote_cell_type": "code"
      },
      "source": "# can use pd.melt, or weather.melt\nweather_melt = weather.melt(\n    id_vars=['id', 'year', 'month', 'element'],\n    var_name='day',\n    value_name='temp'\n)",
      "execution_count": 60,
      "outputs": []
    },
    {
      "cell_type": "code",
      "metadata": {
        "deepnote_to_be_reexecuted": false,
        "execution_millis": 30,
        "execution_start": 1619967638801,
        "source_hash": "3454d71a",
        "cell_id": "00063-e432b3bf-2a09-4512-ab52-d261d4b140fb",
        "deepnote_cell_type": "code"
      },
      "source": "weather_melt.head()",
      "execution_count": 61,
      "outputs": [
        {
          "output_type": "execute_result",
          "execution_count": 61,
          "data": {
            "application/vnd.deepnote.dataframe.v2+json": {
              "row_count": 5,
              "column_count": 6,
              "columns": [
                {
                  "name": "id",
                  "dtype": "object",
                  "stats": {
                    "unique_count": 1,
                    "nan_count": 0,
                    "categories": [
                      {
                        "name": "MX17004",
                        "count": 5
                      }
                    ]
                  }
                },
                {
                  "name": "year",
                  "dtype": "int64",
                  "stats": {
                    "unique_count": 1,
                    "nan_count": 0,
                    "min": "2010",
                    "max": "2010",
                    "histogram": [
                      {
                        "bin_start": 2009.5,
                        "bin_end": 2009.6,
                        "count": 0
                      },
                      {
                        "bin_start": 2009.6,
                        "bin_end": 2009.7,
                        "count": 0
                      },
                      {
                        "bin_start": 2009.7,
                        "bin_end": 2009.8,
                        "count": 0
                      },
                      {
                        "bin_start": 2009.8,
                        "bin_end": 2009.9,
                        "count": 0
                      },
                      {
                        "bin_start": 2009.9,
                        "bin_end": 2010,
                        "count": 0
                      },
                      {
                        "bin_start": 2010,
                        "bin_end": 2010.1,
                        "count": 5
                      },
                      {
                        "bin_start": 2010.1,
                        "bin_end": 2010.2,
                        "count": 0
                      },
                      {
                        "bin_start": 2010.2,
                        "bin_end": 2010.3,
                        "count": 0
                      },
                      {
                        "bin_start": 2010.3,
                        "bin_end": 2010.4,
                        "count": 0
                      },
                      {
                        "bin_start": 2010.4,
                        "bin_end": 2010.5,
                        "count": 0
                      }
                    ]
                  }
                },
                {
                  "name": "month",
                  "dtype": "int64",
                  "stats": {
                    "unique_count": 3,
                    "nan_count": 0,
                    "min": "1",
                    "max": "3",
                    "histogram": [
                      {
                        "bin_start": 1,
                        "bin_end": 1.2,
                        "count": 2
                      },
                      {
                        "bin_start": 1.2,
                        "bin_end": 1.4,
                        "count": 0
                      },
                      {
                        "bin_start": 1.4,
                        "bin_end": 1.6,
                        "count": 0
                      },
                      {
                        "bin_start": 1.6,
                        "bin_end": 1.8,
                        "count": 0
                      },
                      {
                        "bin_start": 1.8,
                        "bin_end": 2,
                        "count": 0
                      },
                      {
                        "bin_start": 2,
                        "bin_end": 2.2,
                        "count": 2
                      },
                      {
                        "bin_start": 2.2,
                        "bin_end": 2.4000000000000004,
                        "count": 0
                      },
                      {
                        "bin_start": 2.4000000000000004,
                        "bin_end": 2.6,
                        "count": 0
                      },
                      {
                        "bin_start": 2.6,
                        "bin_end": 2.8,
                        "count": 0
                      },
                      {
                        "bin_start": 2.8,
                        "bin_end": 3,
                        "count": 1
                      }
                    ]
                  }
                },
                {
                  "name": "element",
                  "dtype": "object",
                  "stats": {
                    "unique_count": 2,
                    "nan_count": 0,
                    "categories": [
                      {
                        "name": "tmax",
                        "count": 3
                      },
                      {
                        "name": "tmin",
                        "count": 2
                      }
                    ]
                  }
                },
                {
                  "name": "day",
                  "dtype": "object",
                  "stats": {
                    "unique_count": 1,
                    "nan_count": 0,
                    "categories": [
                      {
                        "name": "d1",
                        "count": 5
                      }
                    ]
                  }
                },
                {
                  "name": "temp",
                  "dtype": "float64",
                  "stats": {
                    "unique_count": 0,
                    "nan_count": 5,
                    "min": null,
                    "max": null,
                    "histogram": [
                      {
                        "bin_start": 0,
                        "bin_end": 0.1,
                        "count": 0
                      },
                      {
                        "bin_start": 0.1,
                        "bin_end": 0.2,
                        "count": 0
                      },
                      {
                        "bin_start": 0.2,
                        "bin_end": 0.30000000000000004,
                        "count": 0
                      },
                      {
                        "bin_start": 0.30000000000000004,
                        "bin_end": 0.4,
                        "count": 0
                      },
                      {
                        "bin_start": 0.4,
                        "bin_end": 0.5,
                        "count": 0
                      },
                      {
                        "bin_start": 0.5,
                        "bin_end": 0.6000000000000001,
                        "count": 0
                      },
                      {
                        "bin_start": 0.6000000000000001,
                        "bin_end": 0.7000000000000001,
                        "count": 0
                      },
                      {
                        "bin_start": 0.7000000000000001,
                        "bin_end": 0.8,
                        "count": 0
                      },
                      {
                        "bin_start": 0.8,
                        "bin_end": 0.9,
                        "count": 0
                      },
                      {
                        "bin_start": 0.9,
                        "bin_end": 1,
                        "count": 0
                      }
                    ]
                  }
                },
                {
                  "name": "_deepnote_index_column",
                  "dtype": "int64"
                }
              ],
              "rows_top": [
                {
                  "id": "MX17004",
                  "year": 2010,
                  "month": 1,
                  "element": "tmax",
                  "day": "d1",
                  "temp": "nan",
                  "_deepnote_index_column": 0
                },
                {
                  "id": "MX17004",
                  "year": 2010,
                  "month": 1,
                  "element": "tmin",
                  "day": "d1",
                  "temp": "nan",
                  "_deepnote_index_column": 1
                },
                {
                  "id": "MX17004",
                  "year": 2010,
                  "month": 2,
                  "element": "tmax",
                  "day": "d1",
                  "temp": "nan",
                  "_deepnote_index_column": 2
                },
                {
                  "id": "MX17004",
                  "year": 2010,
                  "month": 2,
                  "element": "tmin",
                  "day": "d1",
                  "temp": "nan",
                  "_deepnote_index_column": 3
                },
                {
                  "id": "MX17004",
                  "year": 2010,
                  "month": 3,
                  "element": "tmax",
                  "day": "d1",
                  "temp": "nan",
                  "_deepnote_index_column": 4
                }
              ],
              "rows_bottom": null
            },
            "text/plain": "        id  year  month element day  temp\n0  MX17004  2010      1    tmax  d1   NaN\n1  MX17004  2010      1    tmin  d1   NaN\n2  MX17004  2010      2    tmax  d1   NaN\n3  MX17004  2010      2    tmin  d1   NaN\n4  MX17004  2010      3    tmax  d1   NaN",
            "text/html": "<div>\n<style scoped>\n    .dataframe tbody tr th:only-of-type {\n        vertical-align: middle;\n    }\n\n    .dataframe tbody tr th {\n        vertical-align: top;\n    }\n\n    .dataframe thead th {\n        text-align: right;\n    }\n</style>\n<table border=\"1\" class=\"dataframe\">\n  <thead>\n    <tr style=\"text-align: right;\">\n      <th></th>\n      <th>id</th>\n      <th>year</th>\n      <th>month</th>\n      <th>element</th>\n      <th>day</th>\n      <th>temp</th>\n    </tr>\n  </thead>\n  <tbody>\n    <tr>\n      <th>0</th>\n      <td>MX17004</td>\n      <td>2010</td>\n      <td>1</td>\n      <td>tmax</td>\n      <td>d1</td>\n      <td>NaN</td>\n    </tr>\n    <tr>\n      <th>1</th>\n      <td>MX17004</td>\n      <td>2010</td>\n      <td>1</td>\n      <td>tmin</td>\n      <td>d1</td>\n      <td>NaN</td>\n    </tr>\n    <tr>\n      <th>2</th>\n      <td>MX17004</td>\n      <td>2010</td>\n      <td>2</td>\n      <td>tmax</td>\n      <td>d1</td>\n      <td>NaN</td>\n    </tr>\n    <tr>\n      <th>3</th>\n      <td>MX17004</td>\n      <td>2010</td>\n      <td>2</td>\n      <td>tmin</td>\n      <td>d1</td>\n      <td>NaN</td>\n    </tr>\n    <tr>\n      <th>4</th>\n      <td>MX17004</td>\n      <td>2010</td>\n      <td>3</td>\n      <td>tmax</td>\n      <td>d1</td>\n      <td>NaN</td>\n    </tr>\n  </tbody>\n</table>\n</div>"
          },
          "metadata": {}
        }
      ]
    },
    {
      "cell_type": "code",
      "metadata": {
        "deepnote_to_be_reexecuted": false,
        "execution_millis": 46,
        "execution_start": 1619967638836,
        "source_hash": "6460e1d5",
        "cell_id": "00064-3f2ab8f0-f450-4246-baa5-7387b7264ad2",
        "deepnote_cell_type": "code"
      },
      "source": "weather_tidy = weather_melt.pivot_table(\n    index=['id', 'year', 'month', 'day'],\n    columns='element',\n    values='temp'\n)",
      "execution_count": 62,
      "outputs": []
    },
    {
      "cell_type": "code",
      "metadata": {
        "deepnote_to_be_reexecuted": false,
        "execution_millis": 49,
        "execution_start": 1619967638887,
        "source_hash": "39861a23",
        "cell_id": "00065-8b414d75-7d00-452c-a85b-a8bd7c099a9e",
        "deepnote_cell_type": "code"
      },
      "source": "weather_tidy.reset_index()",
      "execution_count": 63,
      "outputs": [
        {
          "output_type": "execute_result",
          "execution_count": 63,
          "data": {
            "application/vnd.deepnote.dataframe.v2+json": {
              "row_count": 33,
              "column_count": 6,
              "columns": [
                {
                  "name": "id",
                  "dtype": "object",
                  "stats": {
                    "unique_count": 1,
                    "nan_count": 0,
                    "categories": [
                      {
                        "name": "MX17004",
                        "count": 33
                      }
                    ]
                  }
                },
                {
                  "name": "year",
                  "dtype": "int64",
                  "stats": {
                    "unique_count": 1,
                    "nan_count": 0,
                    "min": "2010",
                    "max": "2010",
                    "histogram": [
                      {
                        "bin_start": 2009.5,
                        "bin_end": 2009.6,
                        "count": 0
                      },
                      {
                        "bin_start": 2009.6,
                        "bin_end": 2009.7,
                        "count": 0
                      },
                      {
                        "bin_start": 2009.7,
                        "bin_end": 2009.8,
                        "count": 0
                      },
                      {
                        "bin_start": 2009.8,
                        "bin_end": 2009.9,
                        "count": 0
                      },
                      {
                        "bin_start": 2009.9,
                        "bin_end": 2010,
                        "count": 0
                      },
                      {
                        "bin_start": 2010,
                        "bin_end": 2010.1,
                        "count": 33
                      },
                      {
                        "bin_start": 2010.1,
                        "bin_end": 2010.2,
                        "count": 0
                      },
                      {
                        "bin_start": 2010.2,
                        "bin_end": 2010.3,
                        "count": 0
                      },
                      {
                        "bin_start": 2010.3,
                        "bin_end": 2010.4,
                        "count": 0
                      },
                      {
                        "bin_start": 2010.4,
                        "bin_end": 2010.5,
                        "count": 0
                      }
                    ]
                  }
                },
                {
                  "name": "month",
                  "dtype": "int64",
                  "stats": {
                    "unique_count": 11,
                    "nan_count": 0,
                    "min": "1",
                    "max": "12",
                    "histogram": [
                      {
                        "bin_start": 1,
                        "bin_end": 2.1,
                        "count": 5
                      },
                      {
                        "bin_start": 2.1,
                        "bin_end": 3.2,
                        "count": 3
                      },
                      {
                        "bin_start": 3.2,
                        "bin_end": 4.300000000000001,
                        "count": 1
                      },
                      {
                        "bin_start": 4.300000000000001,
                        "bin_end": 5.4,
                        "count": 1
                      },
                      {
                        "bin_start": 5.4,
                        "bin_end": 6.5,
                        "count": 2
                      },
                      {
                        "bin_start": 6.5,
                        "bin_end": 7.6000000000000005,
                        "count": 2
                      },
                      {
                        "bin_start": 7.6000000000000005,
                        "bin_end": 8.700000000000001,
                        "count": 7
                      },
                      {
                        "bin_start": 8.700000000000001,
                        "bin_end": 9.8,
                        "count": 0
                      },
                      {
                        "bin_start": 9.8,
                        "bin_end": 10.9,
                        "count": 5
                      },
                      {
                        "bin_start": 10.9,
                        "bin_end": 12,
                        "count": 7
                      }
                    ]
                  }
                },
                {
                  "name": "day",
                  "dtype": "object",
                  "stats": {
                    "unique_count": 23,
                    "nan_count": 0,
                    "categories": [
                      {
                        "name": "d5",
                        "count": 4
                      },
                      {
                        "name": "d27",
                        "count": 3
                      },
                      {
                        "name": "21 others",
                        "count": 26
                      }
                    ]
                  }
                },
                {
                  "name": "tmax",
                  "dtype": "float64",
                  "stats": {
                    "unique_count": 27,
                    "nan_count": 0,
                    "min": "24.1",
                    "max": "36.3",
                    "histogram": [
                      {
                        "bin_start": 24.1,
                        "bin_end": 25.32,
                        "count": 1
                      },
                      {
                        "bin_start": 25.32,
                        "bin_end": 26.54,
                        "count": 3
                      },
                      {
                        "bin_start": 26.54,
                        "bin_end": 27.759999999999998,
                        "count": 4
                      },
                      {
                        "bin_start": 27.759999999999998,
                        "bin_end": 28.98,
                        "count": 8
                      },
                      {
                        "bin_start": 28.98,
                        "bin_end": 30.2,
                        "count": 10
                      },
                      {
                        "bin_start": 30.2,
                        "bin_end": 31.419999999999998,
                        "count": 3
                      },
                      {
                        "bin_start": 31.419999999999998,
                        "bin_end": 32.64,
                        "count": 1
                      },
                      {
                        "bin_start": 32.64,
                        "bin_end": 33.86,
                        "count": 1
                      },
                      {
                        "bin_start": 33.86,
                        "bin_end": 35.08,
                        "count": 1
                      },
                      {
                        "bin_start": 35.08,
                        "bin_end": 36.3,
                        "count": 1
                      }
                    ]
                  }
                },
                {
                  "name": "tmin",
                  "dtype": "float64",
                  "stats": {
                    "unique_count": 27,
                    "nan_count": 0,
                    "min": "7.9",
                    "max": "18.2",
                    "histogram": [
                      {
                        "bin_start": 7.9,
                        "bin_end": 8.93,
                        "count": 1
                      },
                      {
                        "bin_start": 8.93,
                        "bin_end": 9.96,
                        "count": 0
                      },
                      {
                        "bin_start": 9.96,
                        "bin_end": 10.99,
                        "count": 3
                      },
                      {
                        "bin_start": 10.99,
                        "bin_end": 12.02,
                        "count": 1
                      },
                      {
                        "bin_start": 12.02,
                        "bin_end": 13.049999999999999,
                        "count": 3
                      },
                      {
                        "bin_start": 13.049999999999999,
                        "bin_end": 14.079999999999998,
                        "count": 3
                      },
                      {
                        "bin_start": 14.079999999999998,
                        "bin_end": 15.11,
                        "count": 7
                      },
                      {
                        "bin_start": 15.11,
                        "bin_end": 16.14,
                        "count": 4
                      },
                      {
                        "bin_start": 16.14,
                        "bin_end": 17.169999999999998,
                        "count": 5
                      },
                      {
                        "bin_start": 17.169999999999998,
                        "bin_end": 18.2,
                        "count": 6
                      }
                    ]
                  }
                },
                {
                  "name": "_deepnote_index_column",
                  "dtype": "int64"
                }
              ],
              "rows_top": [
                {
                  "id": "MX17004",
                  "year": 2010,
                  "month": 1,
                  "day": "d30",
                  "tmax": 27.8,
                  "tmin": 14.5,
                  "_deepnote_index_column": 0
                },
                {
                  "id": "MX17004",
                  "year": 2010,
                  "month": 2,
                  "day": "d11",
                  "tmax": 29.7,
                  "tmin": 13.4,
                  "_deepnote_index_column": 1
                },
                {
                  "id": "MX17004",
                  "year": 2010,
                  "month": 2,
                  "day": "d2",
                  "tmax": 27.3,
                  "tmin": 14.4,
                  "_deepnote_index_column": 2
                },
                {
                  "id": "MX17004",
                  "year": 2010,
                  "month": 2,
                  "day": "d23",
                  "tmax": 29.9,
                  "tmin": 10.7,
                  "_deepnote_index_column": 3
                },
                {
                  "id": "MX17004",
                  "year": 2010,
                  "month": 2,
                  "day": "d3",
                  "tmax": 24.1,
                  "tmin": 14.4,
                  "_deepnote_index_column": 4
                },
                {
                  "id": "MX17004",
                  "year": 2010,
                  "month": 3,
                  "day": "d10",
                  "tmax": 34.5,
                  "tmin": 16.8,
                  "_deepnote_index_column": 5
                },
                {
                  "id": "MX17004",
                  "year": 2010,
                  "month": 3,
                  "day": "d16",
                  "tmax": 31.1,
                  "tmin": 17.6,
                  "_deepnote_index_column": 6
                },
                {
                  "id": "MX17004",
                  "year": 2010,
                  "month": 3,
                  "day": "d5",
                  "tmax": 32.1,
                  "tmin": 14.2,
                  "_deepnote_index_column": 7
                },
                {
                  "id": "MX17004",
                  "year": 2010,
                  "month": 4,
                  "day": "d27",
                  "tmax": 36.3,
                  "tmin": 16.7,
                  "_deepnote_index_column": 8
                },
                {
                  "id": "MX17004",
                  "year": 2010,
                  "month": 5,
                  "day": "d27",
                  "tmax": 33.2,
                  "tmin": 18.2,
                  "_deepnote_index_column": 9
                },
                {
                  "id": "MX17004",
                  "year": 2010,
                  "month": 6,
                  "day": "d17",
                  "tmax": 28,
                  "tmin": 17.5,
                  "_deepnote_index_column": 10
                },
                {
                  "id": "MX17004",
                  "year": 2010,
                  "month": 6,
                  "day": "d29",
                  "tmax": 30.1,
                  "tmin": 18,
                  "_deepnote_index_column": 11
                },
                {
                  "id": "MX17004",
                  "year": 2010,
                  "month": 7,
                  "day": "d3",
                  "tmax": 28.6,
                  "tmin": 17.5,
                  "_deepnote_index_column": 12
                },
                {
                  "id": "MX17004",
                  "year": 2010,
                  "month": 7,
                  "day": "d14",
                  "tmax": 29.9,
                  "tmin": 16.5,
                  "_deepnote_index_column": 13
                },
                {
                  "id": "MX17004",
                  "year": 2010,
                  "month": 8,
                  "day": "d23",
                  "tmax": 26.4,
                  "tmin": 15,
                  "_deepnote_index_column": 14
                },
                {
                  "id": "MX17004",
                  "year": 2010,
                  "month": 8,
                  "day": "d5",
                  "tmax": 29.6,
                  "tmin": 15.8,
                  "_deepnote_index_column": 15
                },
                {
                  "id": "MX17004",
                  "year": 2010,
                  "month": 8,
                  "day": "d29",
                  "tmax": 28,
                  "tmin": 15.3,
                  "_deepnote_index_column": 16
                },
                {
                  "id": "MX17004",
                  "year": 2010,
                  "month": 8,
                  "day": "d13",
                  "tmax": 29.8,
                  "tmin": 16.5,
                  "_deepnote_index_column": 17
                },
                {
                  "id": "MX17004",
                  "year": 2010,
                  "month": 8,
                  "day": "d25",
                  "tmax": 29.7,
                  "tmin": 15.6,
                  "_deepnote_index_column": 18
                },
                {
                  "id": "MX17004",
                  "year": 2010,
                  "month": 8,
                  "day": "d31",
                  "tmax": 25.4,
                  "tmin": 15.4,
                  "_deepnote_index_column": 19
                },
                {
                  "id": "MX17004",
                  "year": 2010,
                  "month": 8,
                  "day": "d8",
                  "tmax": 29,
                  "tmin": 17.3,
                  "_deepnote_index_column": 20
                },
                {
                  "id": "MX17004",
                  "year": 2010,
                  "month": 10,
                  "day": "d5",
                  "tmax": 27,
                  "tmin": 14,
                  "_deepnote_index_column": 21
                },
                {
                  "id": "MX17004",
                  "year": 2010,
                  "month": 10,
                  "day": "d14",
                  "tmax": 29.5,
                  "tmin": 13,
                  "_deepnote_index_column": 22
                },
                {
                  "id": "MX17004",
                  "year": 2010,
                  "month": 10,
                  "day": "d15",
                  "tmax": 28.7,
                  "tmin": 10.5,
                  "_deepnote_index_column": 23
                },
                {
                  "id": "MX17004",
                  "year": 2010,
                  "month": 10,
                  "day": "d28",
                  "tmax": 31.2,
                  "tmin": 15,
                  "_deepnote_index_column": 24
                },
                {
                  "id": "MX17004",
                  "year": 2010,
                  "month": 10,
                  "day": "d7",
                  "tmax": 28.1,
                  "tmin": 12.9,
                  "_deepnote_index_column": 25
                },
                {
                  "id": "MX17004",
                  "year": 2010,
                  "month": 11,
                  "day": "d2",
                  "tmax": 31.3,
                  "tmin": 16.3,
                  "_deepnote_index_column": 26
                },
                {
                  "id": "MX17004",
                  "year": 2010,
                  "month": 11,
                  "day": "d5",
                  "tmax": 26.3,
                  "tmin": 7.9,
                  "_deepnote_index_column": 27
                },
                {
                  "id": "MX17004",
                  "year": 2010,
                  "month": 11,
                  "day": "d27",
                  "tmax": 27.7,
                  "tmin": 14.2,
                  "_deepnote_index_column": 28
                },
                {
                  "id": "MX17004",
                  "year": 2010,
                  "month": 11,
                  "day": "d26",
                  "tmax": 28.1,
                  "tmin": 12.1,
                  "_deepnote_index_column": 29
                },
                {
                  "id": "MX17004",
                  "year": 2010,
                  "month": 11,
                  "day": "d4",
                  "tmax": 27.2,
                  "tmin": 12,
                  "_deepnote_index_column": 30
                },
                {
                  "id": "MX17004",
                  "year": 2010,
                  "month": 12,
                  "day": "d1",
                  "tmax": 29.9,
                  "tmin": 13.8,
                  "_deepnote_index_column": 31
                },
                {
                  "id": "MX17004",
                  "year": 2010,
                  "month": 12,
                  "day": "d6",
                  "tmax": 27.8,
                  "tmin": 10.5,
                  "_deepnote_index_column": 32
                }
              ],
              "rows_bottom": null
            },
            "text/plain": "element       id  year  month  day  tmax  tmin\n0        MX17004  2010      1  d30  27.8  14.5\n1        MX17004  2010      2  d11  29.7  13.4\n2        MX17004  2010      2   d2  27.3  14.4\n3        MX17004  2010      2  d23  29.9  10.7\n4        MX17004  2010      2   d3  24.1  14.4\n5        MX17004  2010      3  d10  34.5  16.8\n6        MX17004  2010      3  d16  31.1  17.6\n7        MX17004  2010      3   d5  32.1  14.2\n8        MX17004  2010      4  d27  36.3  16.7\n9        MX17004  2010      5  d27  33.2  18.2\n10       MX17004  2010      6  d17  28.0  17.5\n11       MX17004  2010      6  d29  30.1  18.0\n12       MX17004  2010      7   d3  28.6  17.5\n13       MX17004  2010      7  d14  29.9  16.5\n14       MX17004  2010      8  d23  26.4  15.0\n15       MX17004  2010      8   d5  29.6  15.8\n16       MX17004  2010      8  d29  28.0  15.3\n17       MX17004  2010      8  d13  29.8  16.5\n18       MX17004  2010      8  d25  29.7  15.6\n19       MX17004  2010      8  d31  25.4  15.4\n20       MX17004  2010      8   d8  29.0  17.3\n21       MX17004  2010     10   d5  27.0  14.0\n22       MX17004  2010     10  d14  29.5  13.0\n23       MX17004  2010     10  d15  28.7  10.5\n24       MX17004  2010     10  d28  31.2  15.0\n25       MX17004  2010     10   d7  28.1  12.9\n26       MX17004  2010     11   d2  31.3  16.3\n27       MX17004  2010     11   d5  26.3   7.9\n28       MX17004  2010     11  d27  27.7  14.2\n29       MX17004  2010     11  d26  28.1  12.1\n30       MX17004  2010     11   d4  27.2  12.0\n31       MX17004  2010     12   d1  29.9  13.8\n32       MX17004  2010     12   d6  27.8  10.5",
            "text/html": "<div>\n<style scoped>\n    .dataframe tbody tr th:only-of-type {\n        vertical-align: middle;\n    }\n\n    .dataframe tbody tr th {\n        vertical-align: top;\n    }\n\n    .dataframe thead th {\n        text-align: right;\n    }\n</style>\n<table border=\"1\" class=\"dataframe\">\n  <thead>\n    <tr style=\"text-align: right;\">\n      <th>element</th>\n      <th>id</th>\n      <th>year</th>\n      <th>month</th>\n      <th>day</th>\n      <th>tmax</th>\n      <th>tmin</th>\n    </tr>\n  </thead>\n  <tbody>\n    <tr>\n      <th>0</th>\n      <td>MX17004</td>\n      <td>2010</td>\n      <td>1</td>\n      <td>d30</td>\n      <td>27.8</td>\n      <td>14.5</td>\n    </tr>\n    <tr>\n      <th>1</th>\n      <td>MX17004</td>\n      <td>2010</td>\n      <td>2</td>\n      <td>d11</td>\n      <td>29.7</td>\n      <td>13.4</td>\n    </tr>\n    <tr>\n      <th>2</th>\n      <td>MX17004</td>\n      <td>2010</td>\n      <td>2</td>\n      <td>d2</td>\n      <td>27.3</td>\n      <td>14.4</td>\n    </tr>\n    <tr>\n      <th>3</th>\n      <td>MX17004</td>\n      <td>2010</td>\n      <td>2</td>\n      <td>d23</td>\n      <td>29.9</td>\n      <td>10.7</td>\n    </tr>\n    <tr>\n      <th>4</th>\n      <td>MX17004</td>\n      <td>2010</td>\n      <td>2</td>\n      <td>d3</td>\n      <td>24.1</td>\n      <td>14.4</td>\n    </tr>\n    <tr>\n      <th>5</th>\n      <td>MX17004</td>\n      <td>2010</td>\n      <td>3</td>\n      <td>d10</td>\n      <td>34.5</td>\n      <td>16.8</td>\n    </tr>\n    <tr>\n      <th>6</th>\n      <td>MX17004</td>\n      <td>2010</td>\n      <td>3</td>\n      <td>d16</td>\n      <td>31.1</td>\n      <td>17.6</td>\n    </tr>\n    <tr>\n      <th>7</th>\n      <td>MX17004</td>\n      <td>2010</td>\n      <td>3</td>\n      <td>d5</td>\n      <td>32.1</td>\n      <td>14.2</td>\n    </tr>\n    <tr>\n      <th>8</th>\n      <td>MX17004</td>\n      <td>2010</td>\n      <td>4</td>\n      <td>d27</td>\n      <td>36.3</td>\n      <td>16.7</td>\n    </tr>\n    <tr>\n      <th>9</th>\n      <td>MX17004</td>\n      <td>2010</td>\n      <td>5</td>\n      <td>d27</td>\n      <td>33.2</td>\n      <td>18.2</td>\n    </tr>\n    <tr>\n      <th>10</th>\n      <td>MX17004</td>\n      <td>2010</td>\n      <td>6</td>\n      <td>d17</td>\n      <td>28.0</td>\n      <td>17.5</td>\n    </tr>\n    <tr>\n      <th>11</th>\n      <td>MX17004</td>\n      <td>2010</td>\n      <td>6</td>\n      <td>d29</td>\n      <td>30.1</td>\n      <td>18.0</td>\n    </tr>\n    <tr>\n      <th>12</th>\n      <td>MX17004</td>\n      <td>2010</td>\n      <td>7</td>\n      <td>d3</td>\n      <td>28.6</td>\n      <td>17.5</td>\n    </tr>\n    <tr>\n      <th>13</th>\n      <td>MX17004</td>\n      <td>2010</td>\n      <td>7</td>\n      <td>d14</td>\n      <td>29.9</td>\n      <td>16.5</td>\n    </tr>\n    <tr>\n      <th>14</th>\n      <td>MX17004</td>\n      <td>2010</td>\n      <td>8</td>\n      <td>d23</td>\n      <td>26.4</td>\n      <td>15.0</td>\n    </tr>\n    <tr>\n      <th>15</th>\n      <td>MX17004</td>\n      <td>2010</td>\n      <td>8</td>\n      <td>d5</td>\n      <td>29.6</td>\n      <td>15.8</td>\n    </tr>\n    <tr>\n      <th>16</th>\n      <td>MX17004</td>\n      <td>2010</td>\n      <td>8</td>\n      <td>d29</td>\n      <td>28.0</td>\n      <td>15.3</td>\n    </tr>\n    <tr>\n      <th>17</th>\n      <td>MX17004</td>\n      <td>2010</td>\n      <td>8</td>\n      <td>d13</td>\n      <td>29.8</td>\n      <td>16.5</td>\n    </tr>\n    <tr>\n      <th>18</th>\n      <td>MX17004</td>\n      <td>2010</td>\n      <td>8</td>\n      <td>d25</td>\n      <td>29.7</td>\n      <td>15.6</td>\n    </tr>\n    <tr>\n      <th>19</th>\n      <td>MX17004</td>\n      <td>2010</td>\n      <td>8</td>\n      <td>d31</td>\n      <td>25.4</td>\n      <td>15.4</td>\n    </tr>\n    <tr>\n      <th>20</th>\n      <td>MX17004</td>\n      <td>2010</td>\n      <td>8</td>\n      <td>d8</td>\n      <td>29.0</td>\n      <td>17.3</td>\n    </tr>\n    <tr>\n      <th>21</th>\n      <td>MX17004</td>\n      <td>2010</td>\n      <td>10</td>\n      <td>d5</td>\n      <td>27.0</td>\n      <td>14.0</td>\n    </tr>\n    <tr>\n      <th>22</th>\n      <td>MX17004</td>\n      <td>2010</td>\n      <td>10</td>\n      <td>d14</td>\n      <td>29.5</td>\n      <td>13.0</td>\n    </tr>\n    <tr>\n      <th>23</th>\n      <td>MX17004</td>\n      <td>2010</td>\n      <td>10</td>\n      <td>d15</td>\n      <td>28.7</td>\n      <td>10.5</td>\n    </tr>\n    <tr>\n      <th>24</th>\n      <td>MX17004</td>\n      <td>2010</td>\n      <td>10</td>\n      <td>d28</td>\n      <td>31.2</td>\n      <td>15.0</td>\n    </tr>\n    <tr>\n      <th>25</th>\n      <td>MX17004</td>\n      <td>2010</td>\n      <td>10</td>\n      <td>d7</td>\n      <td>28.1</td>\n      <td>12.9</td>\n    </tr>\n    <tr>\n      <th>26</th>\n      <td>MX17004</td>\n      <td>2010</td>\n      <td>11</td>\n      <td>d2</td>\n      <td>31.3</td>\n      <td>16.3</td>\n    </tr>\n    <tr>\n      <th>27</th>\n      <td>MX17004</td>\n      <td>2010</td>\n      <td>11</td>\n      <td>d5</td>\n      <td>26.3</td>\n      <td>7.9</td>\n    </tr>\n    <tr>\n      <th>28</th>\n      <td>MX17004</td>\n      <td>2010</td>\n      <td>11</td>\n      <td>d27</td>\n      <td>27.7</td>\n      <td>14.2</td>\n    </tr>\n    <tr>\n      <th>29</th>\n      <td>MX17004</td>\n      <td>2010</td>\n      <td>11</td>\n      <td>d26</td>\n      <td>28.1</td>\n      <td>12.1</td>\n    </tr>\n    <tr>\n      <th>30</th>\n      <td>MX17004</td>\n      <td>2010</td>\n      <td>11</td>\n      <td>d4</td>\n      <td>27.2</td>\n      <td>12.0</td>\n    </tr>\n    <tr>\n      <th>31</th>\n      <td>MX17004</td>\n      <td>2010</td>\n      <td>12</td>\n      <td>d1</td>\n      <td>29.9</td>\n      <td>13.8</td>\n    </tr>\n    <tr>\n      <th>32</th>\n      <td>MX17004</td>\n      <td>2010</td>\n      <td>12</td>\n      <td>d6</td>\n      <td>27.8</td>\n      <td>10.5</td>\n    </tr>\n  </tbody>\n</table>\n</div>"
          },
          "metadata": {}
        }
      ]
    },
    {
      "cell_type": "code",
      "metadata": {
        "deepnote_to_be_reexecuted": false,
        "execution_millis": 15,
        "execution_start": 1619967638964,
        "source_hash": "4da1956e",
        "cell_id": "00066-5f66af2f-53e7-4851-a738-54ef8db9db7a",
        "deepnote_cell_type": "code"
      },
      "source": "billboard_melt.head()",
      "execution_count": 64,
      "outputs": [
        {
          "output_type": "execute_result",
          "execution_count": 64,
          "data": {
            "application/vnd.deepnote.dataframe.v2+json": {
              "row_count": 5,
              "column_count": 7,
              "columns": [
                {
                  "name": "year",
                  "dtype": "int64",
                  "stats": {
                    "unique_count": 1,
                    "nan_count": 0,
                    "min": "2000",
                    "max": "2000",
                    "histogram": [
                      {
                        "bin_start": 1999.5,
                        "bin_end": 1999.6,
                        "count": 0
                      },
                      {
                        "bin_start": 1999.6,
                        "bin_end": 1999.7,
                        "count": 0
                      },
                      {
                        "bin_start": 1999.7,
                        "bin_end": 1999.8,
                        "count": 0
                      },
                      {
                        "bin_start": 1999.8,
                        "bin_end": 1999.9,
                        "count": 0
                      },
                      {
                        "bin_start": 1999.9,
                        "bin_end": 2000,
                        "count": 0
                      },
                      {
                        "bin_start": 2000,
                        "bin_end": 2000.1,
                        "count": 5
                      },
                      {
                        "bin_start": 2000.1,
                        "bin_end": 2000.2,
                        "count": 0
                      },
                      {
                        "bin_start": 2000.2,
                        "bin_end": 2000.3,
                        "count": 0
                      },
                      {
                        "bin_start": 2000.3,
                        "bin_end": 2000.4,
                        "count": 0
                      },
                      {
                        "bin_start": 2000.4,
                        "bin_end": 2000.5,
                        "count": 0
                      }
                    ]
                  }
                },
                {
                  "name": "artist",
                  "dtype": "object",
                  "stats": {
                    "unique_count": 4,
                    "nan_count": 0,
                    "categories": [
                      {
                        "name": "3 Doors Down",
                        "count": 2
                      },
                      {
                        "name": "2 Pac",
                        "count": 1
                      },
                      {
                        "name": "2 others",
                        "count": 2
                      }
                    ]
                  }
                },
                {
                  "name": "track",
                  "dtype": "object",
                  "stats": {
                    "unique_count": 5,
                    "nan_count": 0,
                    "categories": [
                      {
                        "name": "Baby Don't Cry (Keep...",
                        "count": 1
                      },
                      {
                        "name": "The Hardest Part Of ...",
                        "count": 1
                      },
                      {
                        "name": "3 others",
                        "count": 3
                      }
                    ]
                  }
                },
                {
                  "name": "time",
                  "dtype": "object",
                  "stats": {
                    "unique_count": 5,
                    "nan_count": 0,
                    "categories": [
                      {
                        "name": "4:22",
                        "count": 1
                      },
                      {
                        "name": "3:15",
                        "count": 1
                      },
                      {
                        "name": "3 others",
                        "count": 3
                      }
                    ]
                  }
                },
                {
                  "name": "date.entered",
                  "dtype": "object",
                  "stats": {
                    "unique_count": 5,
                    "nan_count": 0,
                    "categories": [
                      {
                        "name": "2000-02-26",
                        "count": 1
                      },
                      {
                        "name": "2000-09-02",
                        "count": 1
                      },
                      {
                        "name": "3 others",
                        "count": 3
                      }
                    ]
                  }
                },
                {
                  "name": "week",
                  "dtype": "object",
                  "stats": {
                    "unique_count": 1,
                    "nan_count": 0,
                    "categories": [
                      {
                        "name": "wk1",
                        "count": 5
                      }
                    ]
                  }
                },
                {
                  "name": "rating",
                  "dtype": "float64",
                  "stats": {
                    "unique_count": 5,
                    "nan_count": 0,
                    "min": "57.0",
                    "max": "91.0",
                    "histogram": [
                      {
                        "bin_start": 57,
                        "bin_end": 60.4,
                        "count": 1
                      },
                      {
                        "bin_start": 60.4,
                        "bin_end": 63.8,
                        "count": 0
                      },
                      {
                        "bin_start": 63.8,
                        "bin_end": 67.2,
                        "count": 0
                      },
                      {
                        "bin_start": 67.2,
                        "bin_end": 70.6,
                        "count": 0
                      },
                      {
                        "bin_start": 70.6,
                        "bin_end": 74,
                        "count": 0
                      },
                      {
                        "bin_start": 74,
                        "bin_end": 77.4,
                        "count": 1
                      },
                      {
                        "bin_start": 77.4,
                        "bin_end": 80.8,
                        "count": 0
                      },
                      {
                        "bin_start": 80.8,
                        "bin_end": 84.2,
                        "count": 1
                      },
                      {
                        "bin_start": 84.2,
                        "bin_end": 87.6,
                        "count": 1
                      },
                      {
                        "bin_start": 87.6,
                        "bin_end": 91,
                        "count": 1
                      }
                    ]
                  }
                },
                {
                  "name": "_deepnote_index_column",
                  "dtype": "int64"
                }
              ],
              "rows_top": [
                {
                  "year": 2000,
                  "artist": "2 Pac",
                  "track": "Baby Don't Cry (Keep...",
                  "time": "4:22",
                  "date.entered": "2000-02-26",
                  "week": "wk1",
                  "rating": 87,
                  "_deepnote_index_column": 0
                },
                {
                  "year": 2000,
                  "artist": "2Ge+her",
                  "track": "The Hardest Part Of ...",
                  "time": "3:15",
                  "date.entered": "2000-09-02",
                  "week": "wk1",
                  "rating": 91,
                  "_deepnote_index_column": 1
                },
                {
                  "year": 2000,
                  "artist": "3 Doors Down",
                  "track": "Kryptonite",
                  "time": "3:53",
                  "date.entered": "2000-04-08",
                  "week": "wk1",
                  "rating": 81,
                  "_deepnote_index_column": 2
                },
                {
                  "year": 2000,
                  "artist": "3 Doors Down",
                  "track": "Loser",
                  "time": "4:24",
                  "date.entered": "2000-10-21",
                  "week": "wk1",
                  "rating": 76,
                  "_deepnote_index_column": 3
                },
                {
                  "year": 2000,
                  "artist": "504 Boyz",
                  "track": "Wobble Wobble",
                  "time": "3:35",
                  "date.entered": "2000-04-15",
                  "week": "wk1",
                  "rating": 57,
                  "_deepnote_index_column": 4
                }
              ],
              "rows_bottom": null
            },
            "text/plain": "   year        artist                    track  time date.entered week  rating\n0  2000         2 Pac  Baby Don't Cry (Keep...  4:22   2000-02-26  wk1    87.0\n1  2000       2Ge+her  The Hardest Part Of ...  3:15   2000-09-02  wk1    91.0\n2  2000  3 Doors Down               Kryptonite  3:53   2000-04-08  wk1    81.0\n3  2000  3 Doors Down                    Loser  4:24   2000-10-21  wk1    76.0\n4  2000      504 Boyz            Wobble Wobble  3:35   2000-04-15  wk1    57.0",
            "text/html": "<div>\n<style scoped>\n    .dataframe tbody tr th:only-of-type {\n        vertical-align: middle;\n    }\n\n    .dataframe tbody tr th {\n        vertical-align: top;\n    }\n\n    .dataframe thead th {\n        text-align: right;\n    }\n</style>\n<table border=\"1\" class=\"dataframe\">\n  <thead>\n    <tr style=\"text-align: right;\">\n      <th></th>\n      <th>year</th>\n      <th>artist</th>\n      <th>track</th>\n      <th>time</th>\n      <th>date.entered</th>\n      <th>week</th>\n      <th>rating</th>\n    </tr>\n  </thead>\n  <tbody>\n    <tr>\n      <th>0</th>\n      <td>2000</td>\n      <td>2 Pac</td>\n      <td>Baby Don't Cry (Keep...</td>\n      <td>4:22</td>\n      <td>2000-02-26</td>\n      <td>wk1</td>\n      <td>87.0</td>\n    </tr>\n    <tr>\n      <th>1</th>\n      <td>2000</td>\n      <td>2Ge+her</td>\n      <td>The Hardest Part Of ...</td>\n      <td>3:15</td>\n      <td>2000-09-02</td>\n      <td>wk1</td>\n      <td>91.0</td>\n    </tr>\n    <tr>\n      <th>2</th>\n      <td>2000</td>\n      <td>3 Doors Down</td>\n      <td>Kryptonite</td>\n      <td>3:53</td>\n      <td>2000-04-08</td>\n      <td>wk1</td>\n      <td>81.0</td>\n    </tr>\n    <tr>\n      <th>3</th>\n      <td>2000</td>\n      <td>3 Doors Down</td>\n      <td>Loser</td>\n      <td>4:24</td>\n      <td>2000-10-21</td>\n      <td>wk1</td>\n      <td>76.0</td>\n    </tr>\n    <tr>\n      <th>4</th>\n      <td>2000</td>\n      <td>504 Boyz</td>\n      <td>Wobble Wobble</td>\n      <td>3:35</td>\n      <td>2000-04-15</td>\n      <td>wk1</td>\n      <td>57.0</td>\n    </tr>\n  </tbody>\n</table>\n</div>"
          },
          "metadata": {}
        }
      ]
    },
    {
      "cell_type": "code",
      "metadata": {
        "deepnote_to_be_reexecuted": false,
        "execution_millis": 64,
        "execution_start": 1619967639014,
        "source_hash": "5b66ba1",
        "cell_id": "00067-e767d15b-55a0-406c-bb71-dd2aa1e6d046",
        "deepnote_cell_type": "code"
      },
      "source": "billboard_melt.loc[billboard_melt['track'] == 'Loser']",
      "execution_count": 65,
      "outputs": [
        {
          "output_type": "execute_result",
          "execution_count": 65,
          "data": {
            "application/vnd.deepnote.dataframe.v2+json": {
              "row_count": 76,
              "column_count": 7,
              "columns": [
                {
                  "name": "year",
                  "dtype": "int64",
                  "stats": {
                    "unique_count": 1,
                    "nan_count": 0,
                    "min": "2000",
                    "max": "2000",
                    "histogram": [
                      {
                        "bin_start": 1999.5,
                        "bin_end": 1999.6,
                        "count": 0
                      },
                      {
                        "bin_start": 1999.6,
                        "bin_end": 1999.7,
                        "count": 0
                      },
                      {
                        "bin_start": 1999.7,
                        "bin_end": 1999.8,
                        "count": 0
                      },
                      {
                        "bin_start": 1999.8,
                        "bin_end": 1999.9,
                        "count": 0
                      },
                      {
                        "bin_start": 1999.9,
                        "bin_end": 2000,
                        "count": 0
                      },
                      {
                        "bin_start": 2000,
                        "bin_end": 2000.1,
                        "count": 76
                      },
                      {
                        "bin_start": 2000.1,
                        "bin_end": 2000.2,
                        "count": 0
                      },
                      {
                        "bin_start": 2000.2,
                        "bin_end": 2000.3,
                        "count": 0
                      },
                      {
                        "bin_start": 2000.3,
                        "bin_end": 2000.4,
                        "count": 0
                      },
                      {
                        "bin_start": 2000.4,
                        "bin_end": 2000.5,
                        "count": 0
                      }
                    ]
                  }
                },
                {
                  "name": "artist",
                  "dtype": "object",
                  "stats": {
                    "unique_count": 1,
                    "nan_count": 0,
                    "categories": [
                      {
                        "name": "3 Doors Down",
                        "count": 76
                      }
                    ]
                  }
                },
                {
                  "name": "track",
                  "dtype": "object",
                  "stats": {
                    "unique_count": 1,
                    "nan_count": 0,
                    "categories": [
                      {
                        "name": "Loser",
                        "count": 76
                      }
                    ]
                  }
                },
                {
                  "name": "time",
                  "dtype": "object",
                  "stats": {
                    "unique_count": 1,
                    "nan_count": 0,
                    "categories": [
                      {
                        "name": "4:24",
                        "count": 76
                      }
                    ]
                  }
                },
                {
                  "name": "date.entered",
                  "dtype": "object",
                  "stats": {
                    "unique_count": 1,
                    "nan_count": 0,
                    "categories": [
                      {
                        "name": "2000-10-21",
                        "count": 76
                      }
                    ]
                  }
                },
                {
                  "name": "week",
                  "dtype": "object",
                  "stats": {
                    "unique_count": 76,
                    "nan_count": 0,
                    "categories": [
                      {
                        "name": "wk1",
                        "count": 1
                      },
                      {
                        "name": "wk2",
                        "count": 1
                      },
                      {
                        "name": "74 others",
                        "count": 74
                      }
                    ]
                  }
                },
                {
                  "name": "rating",
                  "dtype": "float64",
                  "stats": {
                    "unique_count": 13,
                    "nan_count": 56,
                    "min": "55.0",
                    "max": "76.0",
                    "histogram": [
                      {
                        "bin_start": 55,
                        "bin_end": 57.1,
                        "count": 1
                      },
                      {
                        "bin_start": 57.1,
                        "bin_end": 59.2,
                        "count": 2
                      },
                      {
                        "bin_start": 59.2,
                        "bin_end": 61.3,
                        "count": 3
                      },
                      {
                        "bin_start": 61.3,
                        "bin_end": 63.4,
                        "count": 1
                      },
                      {
                        "bin_start": 63.4,
                        "bin_end": 65.5,
                        "count": 1
                      },
                      {
                        "bin_start": 65.5,
                        "bin_end": 67.6,
                        "count": 3
                      },
                      {
                        "bin_start": 67.6,
                        "bin_end": 69.7,
                        "count": 1
                      },
                      {
                        "bin_start": 69.7,
                        "bin_end": 71.8,
                        "count": 1
                      },
                      {
                        "bin_start": 71.8,
                        "bin_end": 73.9,
                        "count": 3
                      },
                      {
                        "bin_start": 73.9,
                        "bin_end": 76,
                        "count": 4
                      }
                    ]
                  }
                },
                {
                  "name": "_deepnote_index_column",
                  "dtype": "int64"
                }
              ],
              "rows_top": [
                {
                  "year": 2000,
                  "artist": "3 Doors Down",
                  "track": "Loser",
                  "time": "4:24",
                  "date.entered": "2000-10-21",
                  "week": "wk1",
                  "rating": "76.0",
                  "_deepnote_index_column": 3
                },
                {
                  "year": 2000,
                  "artist": "3 Doors Down",
                  "track": "Loser",
                  "time": "4:24",
                  "date.entered": "2000-10-21",
                  "week": "wk2",
                  "rating": "76.0",
                  "_deepnote_index_column": 320
                },
                {
                  "year": 2000,
                  "artist": "3 Doors Down",
                  "track": "Loser",
                  "time": "4:24",
                  "date.entered": "2000-10-21",
                  "week": "wk3",
                  "rating": "72.0",
                  "_deepnote_index_column": 637
                },
                {
                  "year": 2000,
                  "artist": "3 Doors Down",
                  "track": "Loser",
                  "time": "4:24",
                  "date.entered": "2000-10-21",
                  "week": "wk4",
                  "rating": "69.0",
                  "_deepnote_index_column": 954
                },
                {
                  "year": 2000,
                  "artist": "3 Doors Down",
                  "track": "Loser",
                  "time": "4:24",
                  "date.entered": "2000-10-21",
                  "week": "wk5",
                  "rating": "67.0",
                  "_deepnote_index_column": 1271
                },
                {
                  "year": 2000,
                  "artist": "3 Doors Down",
                  "track": "Loser",
                  "time": "4:24",
                  "date.entered": "2000-10-21",
                  "week": "wk6",
                  "rating": "65.0",
                  "_deepnote_index_column": 1588
                },
                {
                  "year": 2000,
                  "artist": "3 Doors Down",
                  "track": "Loser",
                  "time": "4:24",
                  "date.entered": "2000-10-21",
                  "week": "wk7",
                  "rating": "55.0",
                  "_deepnote_index_column": 1905
                },
                {
                  "year": 2000,
                  "artist": "3 Doors Down",
                  "track": "Loser",
                  "time": "4:24",
                  "date.entered": "2000-10-21",
                  "week": "wk8",
                  "rating": "59.0",
                  "_deepnote_index_column": 2222
                },
                {
                  "year": 2000,
                  "artist": "3 Doors Down",
                  "track": "Loser",
                  "time": "4:24",
                  "date.entered": "2000-10-21",
                  "week": "wk9",
                  "rating": "62.0",
                  "_deepnote_index_column": 2539
                },
                {
                  "year": 2000,
                  "artist": "3 Doors Down",
                  "track": "Loser",
                  "time": "4:24",
                  "date.entered": "2000-10-21",
                  "week": "wk10",
                  "rating": "61.0",
                  "_deepnote_index_column": 2856
                },
                {
                  "year": 2000,
                  "artist": "3 Doors Down",
                  "track": "Loser",
                  "time": "4:24",
                  "date.entered": "2000-10-21",
                  "week": "wk11",
                  "rating": "61.0",
                  "_deepnote_index_column": 3173
                },
                {
                  "year": 2000,
                  "artist": "3 Doors Down",
                  "track": "Loser",
                  "time": "4:24",
                  "date.entered": "2000-10-21",
                  "week": "wk12",
                  "rating": "59.0",
                  "_deepnote_index_column": 3490
                },
                {
                  "year": 2000,
                  "artist": "3 Doors Down",
                  "track": "Loser",
                  "time": "4:24",
                  "date.entered": "2000-10-21",
                  "week": "wk13",
                  "rating": "61.0",
                  "_deepnote_index_column": 3807
                },
                {
                  "year": 2000,
                  "artist": "3 Doors Down",
                  "track": "Loser",
                  "time": "4:24",
                  "date.entered": "2000-10-21",
                  "week": "wk14",
                  "rating": "66.0",
                  "_deepnote_index_column": 4124
                },
                {
                  "year": 2000,
                  "artist": "3 Doors Down",
                  "track": "Loser",
                  "time": "4:24",
                  "date.entered": "2000-10-21",
                  "week": "wk15",
                  "rating": "72.0",
                  "_deepnote_index_column": 4441
                },
                {
                  "year": 2000,
                  "artist": "3 Doors Down",
                  "track": "Loser",
                  "time": "4:24",
                  "date.entered": "2000-10-21",
                  "week": "wk16",
                  "rating": "76.0",
                  "_deepnote_index_column": 4758
                },
                {
                  "year": 2000,
                  "artist": "3 Doors Down",
                  "track": "Loser",
                  "time": "4:24",
                  "date.entered": "2000-10-21",
                  "week": "wk17",
                  "rating": "75.0",
                  "_deepnote_index_column": 5075
                },
                {
                  "year": 2000,
                  "artist": "3 Doors Down",
                  "track": "Loser",
                  "time": "4:24",
                  "date.entered": "2000-10-21",
                  "week": "wk18",
                  "rating": "67.0",
                  "_deepnote_index_column": 5392
                },
                {
                  "year": 2000,
                  "artist": "3 Doors Down",
                  "track": "Loser",
                  "time": "4:24",
                  "date.entered": "2000-10-21",
                  "week": "wk19",
                  "rating": "73.0",
                  "_deepnote_index_column": 5709
                },
                {
                  "year": 2000,
                  "artist": "3 Doors Down",
                  "track": "Loser",
                  "time": "4:24",
                  "date.entered": "2000-10-21",
                  "week": "wk20",
                  "rating": "70.0",
                  "_deepnote_index_column": 6026
                },
                {
                  "year": 2000,
                  "artist": "3 Doors Down",
                  "track": "Loser",
                  "time": "4:24",
                  "date.entered": "2000-10-21",
                  "week": "wk21",
                  "rating": "nan",
                  "_deepnote_index_column": 6343
                },
                {
                  "year": 2000,
                  "artist": "3 Doors Down",
                  "track": "Loser",
                  "time": "4:24",
                  "date.entered": "2000-10-21",
                  "week": "wk22",
                  "rating": "nan",
                  "_deepnote_index_column": 6660
                },
                {
                  "year": 2000,
                  "artist": "3 Doors Down",
                  "track": "Loser",
                  "time": "4:24",
                  "date.entered": "2000-10-21",
                  "week": "wk23",
                  "rating": "nan",
                  "_deepnote_index_column": 6977
                },
                {
                  "year": 2000,
                  "artist": "3 Doors Down",
                  "track": "Loser",
                  "time": "4:24",
                  "date.entered": "2000-10-21",
                  "week": "wk24",
                  "rating": "nan",
                  "_deepnote_index_column": 7294
                },
                {
                  "year": 2000,
                  "artist": "3 Doors Down",
                  "track": "Loser",
                  "time": "4:24",
                  "date.entered": "2000-10-21",
                  "week": "wk25",
                  "rating": "nan",
                  "_deepnote_index_column": 7611
                },
                {
                  "year": 2000,
                  "artist": "3 Doors Down",
                  "track": "Loser",
                  "time": "4:24",
                  "date.entered": "2000-10-21",
                  "week": "wk26",
                  "rating": "nan",
                  "_deepnote_index_column": 7928
                },
                {
                  "year": 2000,
                  "artist": "3 Doors Down",
                  "track": "Loser",
                  "time": "4:24",
                  "date.entered": "2000-10-21",
                  "week": "wk27",
                  "rating": "nan",
                  "_deepnote_index_column": 8245
                },
                {
                  "year": 2000,
                  "artist": "3 Doors Down",
                  "track": "Loser",
                  "time": "4:24",
                  "date.entered": "2000-10-21",
                  "week": "wk28",
                  "rating": "nan",
                  "_deepnote_index_column": 8562
                },
                {
                  "year": 2000,
                  "artist": "3 Doors Down",
                  "track": "Loser",
                  "time": "4:24",
                  "date.entered": "2000-10-21",
                  "week": "wk29",
                  "rating": "nan",
                  "_deepnote_index_column": 8879
                },
                {
                  "year": 2000,
                  "artist": "3 Doors Down",
                  "track": "Loser",
                  "time": "4:24",
                  "date.entered": "2000-10-21",
                  "week": "wk30",
                  "rating": "nan",
                  "_deepnote_index_column": 9196
                },
                {
                  "year": 2000,
                  "artist": "3 Doors Down",
                  "track": "Loser",
                  "time": "4:24",
                  "date.entered": "2000-10-21",
                  "week": "wk31",
                  "rating": "nan",
                  "_deepnote_index_column": 9513
                },
                {
                  "year": 2000,
                  "artist": "3 Doors Down",
                  "track": "Loser",
                  "time": "4:24",
                  "date.entered": "2000-10-21",
                  "week": "wk32",
                  "rating": "nan",
                  "_deepnote_index_column": 9830
                },
                {
                  "year": 2000,
                  "artist": "3 Doors Down",
                  "track": "Loser",
                  "time": "4:24",
                  "date.entered": "2000-10-21",
                  "week": "wk33",
                  "rating": "nan",
                  "_deepnote_index_column": 10147
                },
                {
                  "year": 2000,
                  "artist": "3 Doors Down",
                  "track": "Loser",
                  "time": "4:24",
                  "date.entered": "2000-10-21",
                  "week": "wk34",
                  "rating": "nan",
                  "_deepnote_index_column": 10464
                },
                {
                  "year": 2000,
                  "artist": "3 Doors Down",
                  "track": "Loser",
                  "time": "4:24",
                  "date.entered": "2000-10-21",
                  "week": "wk35",
                  "rating": "nan",
                  "_deepnote_index_column": 10781
                },
                {
                  "year": 2000,
                  "artist": "3 Doors Down",
                  "track": "Loser",
                  "time": "4:24",
                  "date.entered": "2000-10-21",
                  "week": "wk36",
                  "rating": "nan",
                  "_deepnote_index_column": 11098
                },
                {
                  "year": 2000,
                  "artist": "3 Doors Down",
                  "track": "Loser",
                  "time": "4:24",
                  "date.entered": "2000-10-21",
                  "week": "wk37",
                  "rating": "nan",
                  "_deepnote_index_column": 11415
                },
                {
                  "year": 2000,
                  "artist": "3 Doors Down",
                  "track": "Loser",
                  "time": "4:24",
                  "date.entered": "2000-10-21",
                  "week": "wk38",
                  "rating": "nan",
                  "_deepnote_index_column": 11732
                },
                {
                  "year": 2000,
                  "artist": "3 Doors Down",
                  "track": "Loser",
                  "time": "4:24",
                  "date.entered": "2000-10-21",
                  "week": "wk39",
                  "rating": "nan",
                  "_deepnote_index_column": 12049
                },
                {
                  "year": 2000,
                  "artist": "3 Doors Down",
                  "track": "Loser",
                  "time": "4:24",
                  "date.entered": "2000-10-21",
                  "week": "wk40",
                  "rating": "nan",
                  "_deepnote_index_column": 12366
                },
                {
                  "year": 2000,
                  "artist": "3 Doors Down",
                  "track": "Loser",
                  "time": "4:24",
                  "date.entered": "2000-10-21",
                  "week": "wk41",
                  "rating": "nan",
                  "_deepnote_index_column": 12683
                },
                {
                  "year": 2000,
                  "artist": "3 Doors Down",
                  "track": "Loser",
                  "time": "4:24",
                  "date.entered": "2000-10-21",
                  "week": "wk42",
                  "rating": "nan",
                  "_deepnote_index_column": 13000
                },
                {
                  "year": 2000,
                  "artist": "3 Doors Down",
                  "track": "Loser",
                  "time": "4:24",
                  "date.entered": "2000-10-21",
                  "week": "wk43",
                  "rating": "nan",
                  "_deepnote_index_column": 13317
                },
                {
                  "year": 2000,
                  "artist": "3 Doors Down",
                  "track": "Loser",
                  "time": "4:24",
                  "date.entered": "2000-10-21",
                  "week": "wk44",
                  "rating": "nan",
                  "_deepnote_index_column": 13634
                },
                {
                  "year": 2000,
                  "artist": "3 Doors Down",
                  "track": "Loser",
                  "time": "4:24",
                  "date.entered": "2000-10-21",
                  "week": "wk45",
                  "rating": "nan",
                  "_deepnote_index_column": 13951
                },
                {
                  "year": 2000,
                  "artist": "3 Doors Down",
                  "track": "Loser",
                  "time": "4:24",
                  "date.entered": "2000-10-21",
                  "week": "wk46",
                  "rating": "nan",
                  "_deepnote_index_column": 14268
                },
                {
                  "year": 2000,
                  "artist": "3 Doors Down",
                  "track": "Loser",
                  "time": "4:24",
                  "date.entered": "2000-10-21",
                  "week": "wk47",
                  "rating": "nan",
                  "_deepnote_index_column": 14585
                },
                {
                  "year": 2000,
                  "artist": "3 Doors Down",
                  "track": "Loser",
                  "time": "4:24",
                  "date.entered": "2000-10-21",
                  "week": "wk48",
                  "rating": "nan",
                  "_deepnote_index_column": 14902
                },
                {
                  "year": 2000,
                  "artist": "3 Doors Down",
                  "track": "Loser",
                  "time": "4:24",
                  "date.entered": "2000-10-21",
                  "week": "wk49",
                  "rating": "nan",
                  "_deepnote_index_column": 15219
                },
                {
                  "year": 2000,
                  "artist": "3 Doors Down",
                  "track": "Loser",
                  "time": "4:24",
                  "date.entered": "2000-10-21",
                  "week": "wk50",
                  "rating": "nan",
                  "_deepnote_index_column": 15536
                },
                {
                  "year": 2000,
                  "artist": "3 Doors Down",
                  "track": "Loser",
                  "time": "4:24",
                  "date.entered": "2000-10-21",
                  "week": "wk51",
                  "rating": "nan",
                  "_deepnote_index_column": 15853
                },
                {
                  "year": 2000,
                  "artist": "3 Doors Down",
                  "track": "Loser",
                  "time": "4:24",
                  "date.entered": "2000-10-21",
                  "week": "wk52",
                  "rating": "nan",
                  "_deepnote_index_column": 16170
                },
                {
                  "year": 2000,
                  "artist": "3 Doors Down",
                  "track": "Loser",
                  "time": "4:24",
                  "date.entered": "2000-10-21",
                  "week": "wk53",
                  "rating": "nan",
                  "_deepnote_index_column": 16487
                },
                {
                  "year": 2000,
                  "artist": "3 Doors Down",
                  "track": "Loser",
                  "time": "4:24",
                  "date.entered": "2000-10-21",
                  "week": "wk54",
                  "rating": "nan",
                  "_deepnote_index_column": 16804
                },
                {
                  "year": 2000,
                  "artist": "3 Doors Down",
                  "track": "Loser",
                  "time": "4:24",
                  "date.entered": "2000-10-21",
                  "week": "wk55",
                  "rating": "nan",
                  "_deepnote_index_column": 17121
                },
                {
                  "year": 2000,
                  "artist": "3 Doors Down",
                  "track": "Loser",
                  "time": "4:24",
                  "date.entered": "2000-10-21",
                  "week": "wk56",
                  "rating": "nan",
                  "_deepnote_index_column": 17438
                },
                {
                  "year": 2000,
                  "artist": "3 Doors Down",
                  "track": "Loser",
                  "time": "4:24",
                  "date.entered": "2000-10-21",
                  "week": "wk57",
                  "rating": "nan",
                  "_deepnote_index_column": 17755
                },
                {
                  "year": 2000,
                  "artist": "3 Doors Down",
                  "track": "Loser",
                  "time": "4:24",
                  "date.entered": "2000-10-21",
                  "week": "wk58",
                  "rating": "nan",
                  "_deepnote_index_column": 18072
                },
                {
                  "year": 2000,
                  "artist": "3 Doors Down",
                  "track": "Loser",
                  "time": "4:24",
                  "date.entered": "2000-10-21",
                  "week": "wk59",
                  "rating": "nan",
                  "_deepnote_index_column": 18389
                },
                {
                  "year": 2000,
                  "artist": "3 Doors Down",
                  "track": "Loser",
                  "time": "4:24",
                  "date.entered": "2000-10-21",
                  "week": "wk60",
                  "rating": "nan",
                  "_deepnote_index_column": 18706
                },
                {
                  "year": 2000,
                  "artist": "3 Doors Down",
                  "track": "Loser",
                  "time": "4:24",
                  "date.entered": "2000-10-21",
                  "week": "wk61",
                  "rating": "nan",
                  "_deepnote_index_column": 19023
                },
                {
                  "year": 2000,
                  "artist": "3 Doors Down",
                  "track": "Loser",
                  "time": "4:24",
                  "date.entered": "2000-10-21",
                  "week": "wk62",
                  "rating": "nan",
                  "_deepnote_index_column": 19340
                },
                {
                  "year": 2000,
                  "artist": "3 Doors Down",
                  "track": "Loser",
                  "time": "4:24",
                  "date.entered": "2000-10-21",
                  "week": "wk63",
                  "rating": "nan",
                  "_deepnote_index_column": 19657
                },
                {
                  "year": 2000,
                  "artist": "3 Doors Down",
                  "track": "Loser",
                  "time": "4:24",
                  "date.entered": "2000-10-21",
                  "week": "wk64",
                  "rating": "nan",
                  "_deepnote_index_column": 19974
                },
                {
                  "year": 2000,
                  "artist": "3 Doors Down",
                  "track": "Loser",
                  "time": "4:24",
                  "date.entered": "2000-10-21",
                  "week": "wk65",
                  "rating": "nan",
                  "_deepnote_index_column": 20291
                },
                {
                  "year": 2000,
                  "artist": "3 Doors Down",
                  "track": "Loser",
                  "time": "4:24",
                  "date.entered": "2000-10-21",
                  "week": "wk66",
                  "rating": "nan",
                  "_deepnote_index_column": 20608
                },
                {
                  "year": 2000,
                  "artist": "3 Doors Down",
                  "track": "Loser",
                  "time": "4:24",
                  "date.entered": "2000-10-21",
                  "week": "wk67",
                  "rating": "nan",
                  "_deepnote_index_column": 20925
                },
                {
                  "year": 2000,
                  "artist": "3 Doors Down",
                  "track": "Loser",
                  "time": "4:24",
                  "date.entered": "2000-10-21",
                  "week": "wk68",
                  "rating": "nan",
                  "_deepnote_index_column": 21242
                },
                {
                  "year": 2000,
                  "artist": "3 Doors Down",
                  "track": "Loser",
                  "time": "4:24",
                  "date.entered": "2000-10-21",
                  "week": "wk69",
                  "rating": "nan",
                  "_deepnote_index_column": 21559
                },
                {
                  "year": 2000,
                  "artist": "3 Doors Down",
                  "track": "Loser",
                  "time": "4:24",
                  "date.entered": "2000-10-21",
                  "week": "wk70",
                  "rating": "nan",
                  "_deepnote_index_column": 21876
                },
                {
                  "year": 2000,
                  "artist": "3 Doors Down",
                  "track": "Loser",
                  "time": "4:24",
                  "date.entered": "2000-10-21",
                  "week": "wk71",
                  "rating": "nan",
                  "_deepnote_index_column": 22193
                },
                {
                  "year": 2000,
                  "artist": "3 Doors Down",
                  "track": "Loser",
                  "time": "4:24",
                  "date.entered": "2000-10-21",
                  "week": "wk72",
                  "rating": "nan",
                  "_deepnote_index_column": 22510
                },
                {
                  "year": 2000,
                  "artist": "3 Doors Down",
                  "track": "Loser",
                  "time": "4:24",
                  "date.entered": "2000-10-21",
                  "week": "wk73",
                  "rating": "nan",
                  "_deepnote_index_column": 22827
                },
                {
                  "year": 2000,
                  "artist": "3 Doors Down",
                  "track": "Loser",
                  "time": "4:24",
                  "date.entered": "2000-10-21",
                  "week": "wk74",
                  "rating": "nan",
                  "_deepnote_index_column": 23144
                },
                {
                  "year": 2000,
                  "artist": "3 Doors Down",
                  "track": "Loser",
                  "time": "4:24",
                  "date.entered": "2000-10-21",
                  "week": "wk75",
                  "rating": "nan",
                  "_deepnote_index_column": 23461
                },
                {
                  "year": 2000,
                  "artist": "3 Doors Down",
                  "track": "Loser",
                  "time": "4:24",
                  "date.entered": "2000-10-21",
                  "week": "wk76",
                  "rating": "nan",
                  "_deepnote_index_column": 23778
                }
              ],
              "rows_bottom": null
            },
            "text/plain": "       year        artist  track  time date.entered  week  rating\n3      2000  3 Doors Down  Loser  4:24   2000-10-21   wk1    76.0\n320    2000  3 Doors Down  Loser  4:24   2000-10-21   wk2    76.0\n637    2000  3 Doors Down  Loser  4:24   2000-10-21   wk3    72.0\n954    2000  3 Doors Down  Loser  4:24   2000-10-21   wk4    69.0\n1271   2000  3 Doors Down  Loser  4:24   2000-10-21   wk5    67.0\n...     ...           ...    ...   ...          ...   ...     ...\n22510  2000  3 Doors Down  Loser  4:24   2000-10-21  wk72     NaN\n22827  2000  3 Doors Down  Loser  4:24   2000-10-21  wk73     NaN\n23144  2000  3 Doors Down  Loser  4:24   2000-10-21  wk74     NaN\n23461  2000  3 Doors Down  Loser  4:24   2000-10-21  wk75     NaN\n23778  2000  3 Doors Down  Loser  4:24   2000-10-21  wk76     NaN\n\n[76 rows x 7 columns]",
            "text/html": "<div>\n<style scoped>\n    .dataframe tbody tr th:only-of-type {\n        vertical-align: middle;\n    }\n\n    .dataframe tbody tr th {\n        vertical-align: top;\n    }\n\n    .dataframe thead th {\n        text-align: right;\n    }\n</style>\n<table border=\"1\" class=\"dataframe\">\n  <thead>\n    <tr style=\"text-align: right;\">\n      <th></th>\n      <th>year</th>\n      <th>artist</th>\n      <th>track</th>\n      <th>time</th>\n      <th>date.entered</th>\n      <th>week</th>\n      <th>rating</th>\n    </tr>\n  </thead>\n  <tbody>\n    <tr>\n      <th>3</th>\n      <td>2000</td>\n      <td>3 Doors Down</td>\n      <td>Loser</td>\n      <td>4:24</td>\n      <td>2000-10-21</td>\n      <td>wk1</td>\n      <td>76.0</td>\n    </tr>\n    <tr>\n      <th>320</th>\n      <td>2000</td>\n      <td>3 Doors Down</td>\n      <td>Loser</td>\n      <td>4:24</td>\n      <td>2000-10-21</td>\n      <td>wk2</td>\n      <td>76.0</td>\n    </tr>\n    <tr>\n      <th>637</th>\n      <td>2000</td>\n      <td>3 Doors Down</td>\n      <td>Loser</td>\n      <td>4:24</td>\n      <td>2000-10-21</td>\n      <td>wk3</td>\n      <td>72.0</td>\n    </tr>\n    <tr>\n      <th>954</th>\n      <td>2000</td>\n      <td>3 Doors Down</td>\n      <td>Loser</td>\n      <td>4:24</td>\n      <td>2000-10-21</td>\n      <td>wk4</td>\n      <td>69.0</td>\n    </tr>\n    <tr>\n      <th>1271</th>\n      <td>2000</td>\n      <td>3 Doors Down</td>\n      <td>Loser</td>\n      <td>4:24</td>\n      <td>2000-10-21</td>\n      <td>wk5</td>\n      <td>67.0</td>\n    </tr>\n    <tr>\n      <th>...</th>\n      <td>...</td>\n      <td>...</td>\n      <td>...</td>\n      <td>...</td>\n      <td>...</td>\n      <td>...</td>\n      <td>...</td>\n    </tr>\n    <tr>\n      <th>22510</th>\n      <td>2000</td>\n      <td>3 Doors Down</td>\n      <td>Loser</td>\n      <td>4:24</td>\n      <td>2000-10-21</td>\n      <td>wk72</td>\n      <td>NaN</td>\n    </tr>\n    <tr>\n      <th>22827</th>\n      <td>2000</td>\n      <td>3 Doors Down</td>\n      <td>Loser</td>\n      <td>4:24</td>\n      <td>2000-10-21</td>\n      <td>wk73</td>\n      <td>NaN</td>\n    </tr>\n    <tr>\n      <th>23144</th>\n      <td>2000</td>\n      <td>3 Doors Down</td>\n      <td>Loser</td>\n      <td>4:24</td>\n      <td>2000-10-21</td>\n      <td>wk74</td>\n      <td>NaN</td>\n    </tr>\n    <tr>\n      <th>23461</th>\n      <td>2000</td>\n      <td>3 Doors Down</td>\n      <td>Loser</td>\n      <td>4:24</td>\n      <td>2000-10-21</td>\n      <td>wk75</td>\n      <td>NaN</td>\n    </tr>\n    <tr>\n      <th>23778</th>\n      <td>2000</td>\n      <td>3 Doors Down</td>\n      <td>Loser</td>\n      <td>4:24</td>\n      <td>2000-10-21</td>\n      <td>wk76</td>\n      <td>NaN</td>\n    </tr>\n  </tbody>\n</table>\n<p>76 rows × 7 columns</p>\n</div>"
          },
          "metadata": {}
        }
      ]
    },
    {
      "cell_type": "code",
      "metadata": {
        "deepnote_to_be_reexecuted": false,
        "execution_millis": 5,
        "execution_start": 1619967639045,
        "source_hash": "477bf388",
        "cell_id": "00068-2a8c665f-7c90-4467-8b61-dc62e4655e27",
        "deepnote_cell_type": "code"
      },
      "source": "billboard_songs = billboard_melt[['year', 'artist', 'track', 'time']]",
      "execution_count": 66,
      "outputs": []
    },
    {
      "cell_type": "code",
      "metadata": {
        "deepnote_to_be_reexecuted": false,
        "execution_millis": 30,
        "execution_start": 1619967639059,
        "source_hash": "7bab62a9",
        "cell_id": "00069-02b2cc53-a4ea-4c08-b32f-bae85c878d9b",
        "deepnote_cell_type": "code"
      },
      "source": "billboard_songs.head()",
      "execution_count": 67,
      "outputs": [
        {
          "output_type": "execute_result",
          "execution_count": 67,
          "data": {
            "application/vnd.deepnote.dataframe.v2+json": {
              "row_count": 5,
              "column_count": 4,
              "columns": [
                {
                  "name": "year",
                  "dtype": "int64",
                  "stats": {
                    "unique_count": 1,
                    "nan_count": 0,
                    "min": "2000",
                    "max": "2000",
                    "histogram": [
                      {
                        "bin_start": 1999.5,
                        "bin_end": 1999.6,
                        "count": 0
                      },
                      {
                        "bin_start": 1999.6,
                        "bin_end": 1999.7,
                        "count": 0
                      },
                      {
                        "bin_start": 1999.7,
                        "bin_end": 1999.8,
                        "count": 0
                      },
                      {
                        "bin_start": 1999.8,
                        "bin_end": 1999.9,
                        "count": 0
                      },
                      {
                        "bin_start": 1999.9,
                        "bin_end": 2000,
                        "count": 0
                      },
                      {
                        "bin_start": 2000,
                        "bin_end": 2000.1,
                        "count": 5
                      },
                      {
                        "bin_start": 2000.1,
                        "bin_end": 2000.2,
                        "count": 0
                      },
                      {
                        "bin_start": 2000.2,
                        "bin_end": 2000.3,
                        "count": 0
                      },
                      {
                        "bin_start": 2000.3,
                        "bin_end": 2000.4,
                        "count": 0
                      },
                      {
                        "bin_start": 2000.4,
                        "bin_end": 2000.5,
                        "count": 0
                      }
                    ]
                  }
                },
                {
                  "name": "artist",
                  "dtype": "object",
                  "stats": {
                    "unique_count": 4,
                    "nan_count": 0,
                    "categories": [
                      {
                        "name": "3 Doors Down",
                        "count": 2
                      },
                      {
                        "name": "2 Pac",
                        "count": 1
                      },
                      {
                        "name": "2 others",
                        "count": 2
                      }
                    ]
                  }
                },
                {
                  "name": "track",
                  "dtype": "object",
                  "stats": {
                    "unique_count": 5,
                    "nan_count": 0,
                    "categories": [
                      {
                        "name": "Baby Don't Cry (Keep...",
                        "count": 1
                      },
                      {
                        "name": "The Hardest Part Of ...",
                        "count": 1
                      },
                      {
                        "name": "3 others",
                        "count": 3
                      }
                    ]
                  }
                },
                {
                  "name": "time",
                  "dtype": "object",
                  "stats": {
                    "unique_count": 5,
                    "nan_count": 0,
                    "categories": [
                      {
                        "name": "4:22",
                        "count": 1
                      },
                      {
                        "name": "3:15",
                        "count": 1
                      },
                      {
                        "name": "3 others",
                        "count": 3
                      }
                    ]
                  }
                },
                {
                  "name": "_deepnote_index_column",
                  "dtype": "int64"
                }
              ],
              "rows_top": [
                {
                  "year": 2000,
                  "artist": "2 Pac",
                  "track": "Baby Don't Cry (Keep...",
                  "time": "4:22",
                  "_deepnote_index_column": 0
                },
                {
                  "year": 2000,
                  "artist": "2Ge+her",
                  "track": "The Hardest Part Of ...",
                  "time": "3:15",
                  "_deepnote_index_column": 1
                },
                {
                  "year": 2000,
                  "artist": "3 Doors Down",
                  "track": "Kryptonite",
                  "time": "3:53",
                  "_deepnote_index_column": 2
                },
                {
                  "year": 2000,
                  "artist": "3 Doors Down",
                  "track": "Loser",
                  "time": "4:24",
                  "_deepnote_index_column": 3
                },
                {
                  "year": 2000,
                  "artist": "504 Boyz",
                  "track": "Wobble Wobble",
                  "time": "3:35",
                  "_deepnote_index_column": 4
                }
              ],
              "rows_bottom": null
            },
            "text/plain": "   year        artist                    track  time\n0  2000         2 Pac  Baby Don't Cry (Keep...  4:22\n1  2000       2Ge+her  The Hardest Part Of ...  3:15\n2  2000  3 Doors Down               Kryptonite  3:53\n3  2000  3 Doors Down                    Loser  4:24\n4  2000      504 Boyz            Wobble Wobble  3:35",
            "text/html": "<div>\n<style scoped>\n    .dataframe tbody tr th:only-of-type {\n        vertical-align: middle;\n    }\n\n    .dataframe tbody tr th {\n        vertical-align: top;\n    }\n\n    .dataframe thead th {\n        text-align: right;\n    }\n</style>\n<table border=\"1\" class=\"dataframe\">\n  <thead>\n    <tr style=\"text-align: right;\">\n      <th></th>\n      <th>year</th>\n      <th>artist</th>\n      <th>track</th>\n      <th>time</th>\n    </tr>\n  </thead>\n  <tbody>\n    <tr>\n      <th>0</th>\n      <td>2000</td>\n      <td>2 Pac</td>\n      <td>Baby Don't Cry (Keep...</td>\n      <td>4:22</td>\n    </tr>\n    <tr>\n      <th>1</th>\n      <td>2000</td>\n      <td>2Ge+her</td>\n      <td>The Hardest Part Of ...</td>\n      <td>3:15</td>\n    </tr>\n    <tr>\n      <th>2</th>\n      <td>2000</td>\n      <td>3 Doors Down</td>\n      <td>Kryptonite</td>\n      <td>3:53</td>\n    </tr>\n    <tr>\n      <th>3</th>\n      <td>2000</td>\n      <td>3 Doors Down</td>\n      <td>Loser</td>\n      <td>4:24</td>\n    </tr>\n    <tr>\n      <th>4</th>\n      <td>2000</td>\n      <td>504 Boyz</td>\n      <td>Wobble Wobble</td>\n      <td>3:35</td>\n    </tr>\n  </tbody>\n</table>\n</div>"
          },
          "metadata": {}
        }
      ]
    },
    {
      "cell_type": "code",
      "metadata": {
        "deepnote_to_be_reexecuted": false,
        "execution_millis": 15,
        "execution_start": 1619967639104,
        "source_hash": "b6deeca",
        "cell_id": "00070-a0a51c00-9330-4985-bd01-d88b83004778",
        "deepnote_cell_type": "code"
      },
      "source": "billboard_songs.shape",
      "execution_count": 68,
      "outputs": [
        {
          "output_type": "execute_result",
          "execution_count": 68,
          "data": {
            "text/plain": "(24092, 4)"
          },
          "metadata": {}
        }
      ]
    },
    {
      "cell_type": "code",
      "metadata": {
        "deepnote_to_be_reexecuted": false,
        "execution_millis": 1,
        "execution_start": 1619967639104,
        "source_hash": "a32539f1",
        "cell_id": "00071-ef9eaff9-b1ef-43cb-b2b0-b77c89542e47",
        "deepnote_cell_type": "code"
      },
      "source": "billboard_songs = billboard_songs.drop_duplicates()",
      "execution_count": 69,
      "outputs": []
    },
    {
      "cell_type": "code",
      "metadata": {
        "deepnote_to_be_reexecuted": false,
        "execution_millis": 0,
        "execution_start": 1619967639105,
        "source_hash": "b6deeca",
        "cell_id": "00072-9d680c73-83ea-4b5e-90e3-530623f89037",
        "deepnote_cell_type": "code"
      },
      "source": "billboard_songs.shape",
      "execution_count": 70,
      "outputs": [
        {
          "output_type": "execute_result",
          "execution_count": 70,
          "data": {
            "text/plain": "(317, 4)"
          },
          "metadata": {}
        }
      ]
    },
    {
      "cell_type": "code",
      "metadata": {
        "deepnote_to_be_reexecuted": false,
        "execution_millis": 43588994,
        "execution_start": 1619967639108,
        "source_hash": "cde7a9c8",
        "cell_id": "00073-899c2c66-51ec-421c-96ed-739fb6373c5a",
        "deepnote_cell_type": "code"
      },
      "source": "billboard_songs['id'] = range(len(billboard_songs))",
      "execution_count": 71,
      "outputs": []
    },
    {
      "cell_type": "code",
      "metadata": {
        "deepnote_to_be_reexecuted": false,
        "execution_millis": 16,
        "execution_start": 1619967639146,
        "source_hash": "7bab62a9",
        "cell_id": "00074-329fc875-e95b-472f-a671-a88593aa3864",
        "deepnote_cell_type": "code"
      },
      "source": "billboard_songs.head()",
      "execution_count": 72,
      "outputs": [
        {
          "output_type": "execute_result",
          "execution_count": 72,
          "data": {
            "application/vnd.deepnote.dataframe.v2+json": {
              "row_count": 5,
              "column_count": 5,
              "columns": [
                {
                  "name": "year",
                  "dtype": "int64",
                  "stats": {
                    "unique_count": 1,
                    "nan_count": 0,
                    "min": "2000",
                    "max": "2000",
                    "histogram": [
                      {
                        "bin_start": 1999.5,
                        "bin_end": 1999.6,
                        "count": 0
                      },
                      {
                        "bin_start": 1999.6,
                        "bin_end": 1999.7,
                        "count": 0
                      },
                      {
                        "bin_start": 1999.7,
                        "bin_end": 1999.8,
                        "count": 0
                      },
                      {
                        "bin_start": 1999.8,
                        "bin_end": 1999.9,
                        "count": 0
                      },
                      {
                        "bin_start": 1999.9,
                        "bin_end": 2000,
                        "count": 0
                      },
                      {
                        "bin_start": 2000,
                        "bin_end": 2000.1,
                        "count": 5
                      },
                      {
                        "bin_start": 2000.1,
                        "bin_end": 2000.2,
                        "count": 0
                      },
                      {
                        "bin_start": 2000.2,
                        "bin_end": 2000.3,
                        "count": 0
                      },
                      {
                        "bin_start": 2000.3,
                        "bin_end": 2000.4,
                        "count": 0
                      },
                      {
                        "bin_start": 2000.4,
                        "bin_end": 2000.5,
                        "count": 0
                      }
                    ]
                  }
                },
                {
                  "name": "artist",
                  "dtype": "object",
                  "stats": {
                    "unique_count": 4,
                    "nan_count": 0,
                    "categories": [
                      {
                        "name": "3 Doors Down",
                        "count": 2
                      },
                      {
                        "name": "2 Pac",
                        "count": 1
                      },
                      {
                        "name": "2 others",
                        "count": 2
                      }
                    ]
                  }
                },
                {
                  "name": "track",
                  "dtype": "object",
                  "stats": {
                    "unique_count": 5,
                    "nan_count": 0,
                    "categories": [
                      {
                        "name": "Baby Don't Cry (Keep...",
                        "count": 1
                      },
                      {
                        "name": "The Hardest Part Of ...",
                        "count": 1
                      },
                      {
                        "name": "3 others",
                        "count": 3
                      }
                    ]
                  }
                },
                {
                  "name": "time",
                  "dtype": "object",
                  "stats": {
                    "unique_count": 5,
                    "nan_count": 0,
                    "categories": [
                      {
                        "name": "4:22",
                        "count": 1
                      },
                      {
                        "name": "3:15",
                        "count": 1
                      },
                      {
                        "name": "3 others",
                        "count": 3
                      }
                    ]
                  }
                },
                {
                  "name": "id",
                  "dtype": "int64",
                  "stats": {
                    "unique_count": 5,
                    "nan_count": 0,
                    "min": "0",
                    "max": "4",
                    "histogram": [
                      {
                        "bin_start": 0,
                        "bin_end": 0.4,
                        "count": 1
                      },
                      {
                        "bin_start": 0.4,
                        "bin_end": 0.8,
                        "count": 0
                      },
                      {
                        "bin_start": 0.8,
                        "bin_end": 1.2000000000000002,
                        "count": 1
                      },
                      {
                        "bin_start": 1.2000000000000002,
                        "bin_end": 1.6,
                        "count": 0
                      },
                      {
                        "bin_start": 1.6,
                        "bin_end": 2,
                        "count": 0
                      },
                      {
                        "bin_start": 2,
                        "bin_end": 2.4000000000000004,
                        "count": 1
                      },
                      {
                        "bin_start": 2.4000000000000004,
                        "bin_end": 2.8000000000000003,
                        "count": 0
                      },
                      {
                        "bin_start": 2.8000000000000003,
                        "bin_end": 3.2,
                        "count": 1
                      },
                      {
                        "bin_start": 3.2,
                        "bin_end": 3.6,
                        "count": 0
                      },
                      {
                        "bin_start": 3.6,
                        "bin_end": 4,
                        "count": 1
                      }
                    ]
                  }
                },
                {
                  "name": "_deepnote_index_column",
                  "dtype": "int64"
                }
              ],
              "rows_top": [
                {
                  "year": 2000,
                  "artist": "2 Pac",
                  "track": "Baby Don't Cry (Keep...",
                  "time": "4:22",
                  "id": 0,
                  "_deepnote_index_column": 0
                },
                {
                  "year": 2000,
                  "artist": "2Ge+her",
                  "track": "The Hardest Part Of ...",
                  "time": "3:15",
                  "id": 1,
                  "_deepnote_index_column": 1
                },
                {
                  "year": 2000,
                  "artist": "3 Doors Down",
                  "track": "Kryptonite",
                  "time": "3:53",
                  "id": 2,
                  "_deepnote_index_column": 2
                },
                {
                  "year": 2000,
                  "artist": "3 Doors Down",
                  "track": "Loser",
                  "time": "4:24",
                  "id": 3,
                  "_deepnote_index_column": 3
                },
                {
                  "year": 2000,
                  "artist": "504 Boyz",
                  "track": "Wobble Wobble",
                  "time": "3:35",
                  "id": 4,
                  "_deepnote_index_column": 4
                }
              ],
              "rows_bottom": null
            },
            "text/plain": "   year        artist                    track  time  id\n0  2000         2 Pac  Baby Don't Cry (Keep...  4:22   0\n1  2000       2Ge+her  The Hardest Part Of ...  3:15   1\n2  2000  3 Doors Down               Kryptonite  3:53   2\n3  2000  3 Doors Down                    Loser  4:24   3\n4  2000      504 Boyz            Wobble Wobble  3:35   4",
            "text/html": "<div>\n<style scoped>\n    .dataframe tbody tr th:only-of-type {\n        vertical-align: middle;\n    }\n\n    .dataframe tbody tr th {\n        vertical-align: top;\n    }\n\n    .dataframe thead th {\n        text-align: right;\n    }\n</style>\n<table border=\"1\" class=\"dataframe\">\n  <thead>\n    <tr style=\"text-align: right;\">\n      <th></th>\n      <th>year</th>\n      <th>artist</th>\n      <th>track</th>\n      <th>time</th>\n      <th>id</th>\n    </tr>\n  </thead>\n  <tbody>\n    <tr>\n      <th>0</th>\n      <td>2000</td>\n      <td>2 Pac</td>\n      <td>Baby Don't Cry (Keep...</td>\n      <td>4:22</td>\n      <td>0</td>\n    </tr>\n    <tr>\n      <th>1</th>\n      <td>2000</td>\n      <td>2Ge+her</td>\n      <td>The Hardest Part Of ...</td>\n      <td>3:15</td>\n      <td>1</td>\n    </tr>\n    <tr>\n      <th>2</th>\n      <td>2000</td>\n      <td>3 Doors Down</td>\n      <td>Kryptonite</td>\n      <td>3:53</td>\n      <td>2</td>\n    </tr>\n    <tr>\n      <th>3</th>\n      <td>2000</td>\n      <td>3 Doors Down</td>\n      <td>Loser</td>\n      <td>4:24</td>\n      <td>3</td>\n    </tr>\n    <tr>\n      <th>4</th>\n      <td>2000</td>\n      <td>504 Boyz</td>\n      <td>Wobble Wobble</td>\n      <td>3:35</td>\n      <td>4</td>\n    </tr>\n  </tbody>\n</table>\n</div>"
          },
          "metadata": {}
        }
      ]
    },
    {
      "cell_type": "code",
      "metadata": {
        "deepnote_to_be_reexecuted": false,
        "execution_millis": 1,
        "execution_start": 1619967639147,
        "source_hash": "6ed35393",
        "cell_id": "00075-b1957e18-8794-4174-8a08-1a888bbcdbb6",
        "deepnote_cell_type": "code"
      },
      "source": "billboard_songs.to_csv('billboard_songs.csv', index=False)",
      "execution_count": 73,
      "outputs": []
    },
    {
      "cell_type": "code",
      "metadata": {
        "deepnote_to_be_reexecuted": false,
        "execution_millis": 16,
        "execution_start": 1619967639156,
        "source_hash": "b76547c2",
        "cell_id": "00076-00ed2ab5-497f-496c-b5f0-5bd7db6b760c",
        "deepnote_cell_type": "code"
      },
      "source": "billboard_ratings = billboard_melt.merge(\n    billboard_songs, on=['year', 'artist', 'track', 'time']\n)",
      "execution_count": 74,
      "outputs": []
    },
    {
      "cell_type": "code",
      "metadata": {
        "deepnote_to_be_reexecuted": false,
        "execution_millis": 59,
        "execution_start": 1619967639182,
        "source_hash": "1d92aece",
        "cell_id": "00077-8d6f912e-73e0-4226-8825-43678f8d72d4",
        "deepnote_cell_type": "code"
      },
      "source": "billboard_ratings.head()",
      "execution_count": 75,
      "outputs": [
        {
          "output_type": "execute_result",
          "execution_count": 75,
          "data": {
            "application/vnd.deepnote.dataframe.v2+json": {
              "row_count": 5,
              "column_count": 8,
              "columns": [
                {
                  "name": "year",
                  "dtype": "int64",
                  "stats": {
                    "unique_count": 1,
                    "nan_count": 0,
                    "min": "2000",
                    "max": "2000",
                    "histogram": [
                      {
                        "bin_start": 1999.5,
                        "bin_end": 1999.6,
                        "count": 0
                      },
                      {
                        "bin_start": 1999.6,
                        "bin_end": 1999.7,
                        "count": 0
                      },
                      {
                        "bin_start": 1999.7,
                        "bin_end": 1999.8,
                        "count": 0
                      },
                      {
                        "bin_start": 1999.8,
                        "bin_end": 1999.9,
                        "count": 0
                      },
                      {
                        "bin_start": 1999.9,
                        "bin_end": 2000,
                        "count": 0
                      },
                      {
                        "bin_start": 2000,
                        "bin_end": 2000.1,
                        "count": 5
                      },
                      {
                        "bin_start": 2000.1,
                        "bin_end": 2000.2,
                        "count": 0
                      },
                      {
                        "bin_start": 2000.2,
                        "bin_end": 2000.3,
                        "count": 0
                      },
                      {
                        "bin_start": 2000.3,
                        "bin_end": 2000.4,
                        "count": 0
                      },
                      {
                        "bin_start": 2000.4,
                        "bin_end": 2000.5,
                        "count": 0
                      }
                    ]
                  }
                },
                {
                  "name": "artist",
                  "dtype": "object",
                  "stats": {
                    "unique_count": 1,
                    "nan_count": 0,
                    "categories": [
                      {
                        "name": "2 Pac",
                        "count": 5
                      }
                    ]
                  }
                },
                {
                  "name": "track",
                  "dtype": "object",
                  "stats": {
                    "unique_count": 1,
                    "nan_count": 0,
                    "categories": [
                      {
                        "name": "Baby Don't Cry (Keep...",
                        "count": 5
                      }
                    ]
                  }
                },
                {
                  "name": "time",
                  "dtype": "object",
                  "stats": {
                    "unique_count": 1,
                    "nan_count": 0,
                    "categories": [
                      {
                        "name": "4:22",
                        "count": 5
                      }
                    ]
                  }
                },
                {
                  "name": "date.entered",
                  "dtype": "object",
                  "stats": {
                    "unique_count": 1,
                    "nan_count": 0,
                    "categories": [
                      {
                        "name": "2000-02-26",
                        "count": 5
                      }
                    ]
                  }
                },
                {
                  "name": "week",
                  "dtype": "object",
                  "stats": {
                    "unique_count": 5,
                    "nan_count": 0,
                    "categories": [
                      {
                        "name": "wk1",
                        "count": 1
                      },
                      {
                        "name": "wk2",
                        "count": 1
                      },
                      {
                        "name": "3 others",
                        "count": 3
                      }
                    ]
                  }
                },
                {
                  "name": "rating",
                  "dtype": "float64",
                  "stats": {
                    "unique_count": 4,
                    "nan_count": 0,
                    "min": "72.0",
                    "max": "87.0",
                    "histogram": [
                      {
                        "bin_start": 72,
                        "bin_end": 73.5,
                        "count": 1
                      },
                      {
                        "bin_start": 73.5,
                        "bin_end": 75,
                        "count": 0
                      },
                      {
                        "bin_start": 75,
                        "bin_end": 76.5,
                        "count": 0
                      },
                      {
                        "bin_start": 76.5,
                        "bin_end": 78,
                        "count": 1
                      },
                      {
                        "bin_start": 78,
                        "bin_end": 79.5,
                        "count": 0
                      },
                      {
                        "bin_start": 79.5,
                        "bin_end": 81,
                        "count": 0
                      },
                      {
                        "bin_start": 81,
                        "bin_end": 82.5,
                        "count": 1
                      },
                      {
                        "bin_start": 82.5,
                        "bin_end": 84,
                        "count": 0
                      },
                      {
                        "bin_start": 84,
                        "bin_end": 85.5,
                        "count": 0
                      },
                      {
                        "bin_start": 85.5,
                        "bin_end": 87,
                        "count": 2
                      }
                    ]
                  }
                },
                {
                  "name": "id",
                  "dtype": "int64",
                  "stats": {
                    "unique_count": 1,
                    "nan_count": 0,
                    "min": "0",
                    "max": "0",
                    "histogram": [
                      {
                        "bin_start": -0.5,
                        "bin_end": -0.4,
                        "count": 0
                      },
                      {
                        "bin_start": -0.4,
                        "bin_end": -0.3,
                        "count": 0
                      },
                      {
                        "bin_start": -0.3,
                        "bin_end": -0.19999999999999996,
                        "count": 0
                      },
                      {
                        "bin_start": -0.19999999999999996,
                        "bin_end": -0.09999999999999998,
                        "count": 0
                      },
                      {
                        "bin_start": -0.09999999999999998,
                        "bin_end": 0,
                        "count": 0
                      },
                      {
                        "bin_start": 0,
                        "bin_end": 0.10000000000000009,
                        "count": 5
                      },
                      {
                        "bin_start": 0.10000000000000009,
                        "bin_end": 0.20000000000000007,
                        "count": 0
                      },
                      {
                        "bin_start": 0.20000000000000007,
                        "bin_end": 0.30000000000000004,
                        "count": 0
                      },
                      {
                        "bin_start": 0.30000000000000004,
                        "bin_end": 0.4,
                        "count": 0
                      },
                      {
                        "bin_start": 0.4,
                        "bin_end": 0.5,
                        "count": 0
                      }
                    ]
                  }
                },
                {
                  "name": "_deepnote_index_column",
                  "dtype": "int64"
                }
              ],
              "rows_top": [
                {
                  "year": 2000,
                  "artist": "2 Pac",
                  "track": "Baby Don't Cry (Keep...",
                  "time": "4:22",
                  "date.entered": "2000-02-26",
                  "week": "wk1",
                  "rating": 87,
                  "id": 0,
                  "_deepnote_index_column": 0
                },
                {
                  "year": 2000,
                  "artist": "2 Pac",
                  "track": "Baby Don't Cry (Keep...",
                  "time": "4:22",
                  "date.entered": "2000-02-26",
                  "week": "wk2",
                  "rating": 82,
                  "id": 0,
                  "_deepnote_index_column": 1
                },
                {
                  "year": 2000,
                  "artist": "2 Pac",
                  "track": "Baby Don't Cry (Keep...",
                  "time": "4:22",
                  "date.entered": "2000-02-26",
                  "week": "wk3",
                  "rating": 72,
                  "id": 0,
                  "_deepnote_index_column": 2
                },
                {
                  "year": 2000,
                  "artist": "2 Pac",
                  "track": "Baby Don't Cry (Keep...",
                  "time": "4:22",
                  "date.entered": "2000-02-26",
                  "week": "wk4",
                  "rating": 77,
                  "id": 0,
                  "_deepnote_index_column": 3
                },
                {
                  "year": 2000,
                  "artist": "2 Pac",
                  "track": "Baby Don't Cry (Keep...",
                  "time": "4:22",
                  "date.entered": "2000-02-26",
                  "week": "wk5",
                  "rating": 87,
                  "id": 0,
                  "_deepnote_index_column": 4
                }
              ],
              "rows_bottom": null
            },
            "text/plain": "   year artist                    track  time date.entered week  rating  id\n0  2000  2 Pac  Baby Don't Cry (Keep...  4:22   2000-02-26  wk1    87.0   0\n1  2000  2 Pac  Baby Don't Cry (Keep...  4:22   2000-02-26  wk2    82.0   0\n2  2000  2 Pac  Baby Don't Cry (Keep...  4:22   2000-02-26  wk3    72.0   0\n3  2000  2 Pac  Baby Don't Cry (Keep...  4:22   2000-02-26  wk4    77.0   0\n4  2000  2 Pac  Baby Don't Cry (Keep...  4:22   2000-02-26  wk5    87.0   0",
            "text/html": "<div>\n<style scoped>\n    .dataframe tbody tr th:only-of-type {\n        vertical-align: middle;\n    }\n\n    .dataframe tbody tr th {\n        vertical-align: top;\n    }\n\n    .dataframe thead th {\n        text-align: right;\n    }\n</style>\n<table border=\"1\" class=\"dataframe\">\n  <thead>\n    <tr style=\"text-align: right;\">\n      <th></th>\n      <th>year</th>\n      <th>artist</th>\n      <th>track</th>\n      <th>time</th>\n      <th>date.entered</th>\n      <th>week</th>\n      <th>rating</th>\n      <th>id</th>\n    </tr>\n  </thead>\n  <tbody>\n    <tr>\n      <th>0</th>\n      <td>2000</td>\n      <td>2 Pac</td>\n      <td>Baby Don't Cry (Keep...</td>\n      <td>4:22</td>\n      <td>2000-02-26</td>\n      <td>wk1</td>\n      <td>87.0</td>\n      <td>0</td>\n    </tr>\n    <tr>\n      <th>1</th>\n      <td>2000</td>\n      <td>2 Pac</td>\n      <td>Baby Don't Cry (Keep...</td>\n      <td>4:22</td>\n      <td>2000-02-26</td>\n      <td>wk2</td>\n      <td>82.0</td>\n      <td>0</td>\n    </tr>\n    <tr>\n      <th>2</th>\n      <td>2000</td>\n      <td>2 Pac</td>\n      <td>Baby Don't Cry (Keep...</td>\n      <td>4:22</td>\n      <td>2000-02-26</td>\n      <td>wk3</td>\n      <td>72.0</td>\n      <td>0</td>\n    </tr>\n    <tr>\n      <th>3</th>\n      <td>2000</td>\n      <td>2 Pac</td>\n      <td>Baby Don't Cry (Keep...</td>\n      <td>4:22</td>\n      <td>2000-02-26</td>\n      <td>wk4</td>\n      <td>77.0</td>\n      <td>0</td>\n    </tr>\n    <tr>\n      <th>4</th>\n      <td>2000</td>\n      <td>2 Pac</td>\n      <td>Baby Don't Cry (Keep...</td>\n      <td>4:22</td>\n      <td>2000-02-26</td>\n      <td>wk5</td>\n      <td>87.0</td>\n      <td>0</td>\n    </tr>\n  </tbody>\n</table>\n</div>"
          },
          "metadata": {}
        }
      ]
    },
    {
      "cell_type": "code",
      "metadata": {
        "deepnote_to_be_reexecuted": false,
        "execution_millis": 4,
        "execution_start": 1619967639222,
        "source_hash": "ebc44506",
        "cell_id": "00078-8a3794f5-1db0-4b34-a784-2889eaa14a85",
        "deepnote_cell_type": "code"
      },
      "source": "billboard_ratings = billboard_ratings[['id', 'date.entered', 'week', 'rating']]",
      "execution_count": 76,
      "outputs": []
    },
    {
      "cell_type": "code",
      "metadata": {
        "deepnote_to_be_reexecuted": false,
        "execution_millis": 63,
        "execution_start": 1619967639234,
        "source_hash": "461578f1",
        "cell_id": "00079-673141de-44bf-4a65-9bf3-91cf3f134bcf",
        "deepnote_cell_type": "code"
      },
      "source": "billboard_ratings.to_csv('billboard_ratings.csv', index=False)",
      "execution_count": 77,
      "outputs": []
    },
    {
      "cell_type": "code",
      "metadata": {
        "deepnote_to_be_reexecuted": false,
        "execution_millis": 14,
        "execution_start": 1619967639354,
        "source_hash": "5ebdbb98",
        "cell_id": "00080-9123f596-0e89-45fd-ace4-f3b7c7b6d181",
        "deepnote_cell_type": "code"
      },
      "source": "billboard_ratings.info()",
      "execution_count": 78,
      "outputs": [
        {
          "name": "stdout",
          "text": "<class 'pandas.core.frame.DataFrame'>\nInt64Index: 24092 entries, 0 to 24091\nData columns (total 4 columns):\n #   Column        Non-Null Count  Dtype  \n---  ------        --------------  -----  \n 0   id            24092 non-null  int64  \n 1   date.entered  24092 non-null  object \n 2   week          24092 non-null  object \n 3   rating        5307 non-null   float64\ndtypes: float64(1), int64(1), object(2)\nmemory usage: 941.1+ KB\n",
          "output_type": "stream"
        }
      ]
    },
    {
      "cell_type": "code",
      "metadata": {
        "deepnote_to_be_reexecuted": false,
        "execution_millis": 13,
        "execution_start": 1619967639355,
        "source_hash": "d94fcda9",
        "cell_id": "00081-3bc1340f-0381-4a9a-8d4f-c8d0e22e70dd",
        "deepnote_cell_type": "code"
      },
      "source": "billboard_songs.info()",
      "execution_count": 79,
      "outputs": [
        {
          "name": "stdout",
          "text": "<class 'pandas.core.frame.DataFrame'>\nInt64Index: 317 entries, 0 to 316\nData columns (total 5 columns):\n #   Column  Non-Null Count  Dtype \n---  ------  --------------  ----- \n 0   year    317 non-null    int64 \n 1   artist  317 non-null    object\n 2   track   317 non-null    object\n 3   time    317 non-null    object\n 4   id      317 non-null    int64 \ndtypes: int64(2), object(3)\nmemory usage: 14.9+ KB\n",
          "output_type": "stream"
        }
      ]
    },
    {
      "cell_type": "code",
      "metadata": {
        "deepnote_to_be_reexecuted": false,
        "execution_millis": 45,
        "execution_start": 1619967639355,
        "source_hash": "b6c262a3",
        "cell_id": "00082-e8b44628-84d4-40be-b3a8-43aee9a815ac",
        "deepnote_cell_type": "code"
      },
      "source": "billboard_melt.info()",
      "execution_count": 80,
      "outputs": [
        {
          "name": "stdout",
          "text": "<class 'pandas.core.frame.DataFrame'>\nRangeIndex: 24092 entries, 0 to 24091\nData columns (total 7 columns):\n #   Column        Non-Null Count  Dtype  \n---  ------        --------------  -----  \n 0   year          24092 non-null  int64  \n 1   artist        24092 non-null  object \n 2   track         24092 non-null  object \n 3   time          24092 non-null  object \n 4   date.entered  24092 non-null  object \n 5   week          24092 non-null  object \n 6   rating        5307 non-null   float64\ndtypes: float64(1), int64(1), object(5)\nmemory usage: 1.3+ MB\n",
          "output_type": "stream"
        }
      ]
    },
    {
      "cell_type": "code",
      "metadata": {
        "deepnote_to_be_reexecuted": false,
        "execution_millis": 0,
        "execution_start": 1619967639391,
        "source_hash": "4cc9506",
        "cell_id": "00083-ba68ba32-d789-41ec-be5f-93b33f2e7310",
        "deepnote_cell_type": "code"
      },
      "source": "weather_tidy = (weather_melt.pivot_table(\n    index=['id', 'year', 'month', 'day'],\n    columns='element',\n    values='temp')\n                \n                .reset_index()\n)",
      "execution_count": 81,
      "outputs": []
    },
    {
      "cell_type": "code",
      "metadata": {
        "deepnote_to_be_reexecuted": false,
        "execution_millis": 13,
        "execution_start": 1619967639395,
        "source_hash": "f998cd5e",
        "cell_id": "00084-55b3945d-b938-4983-b541-698df6d41b19",
        "deepnote_cell_type": "code"
      },
      "source": "type(weather_tidy)",
      "execution_count": 82,
      "outputs": [
        {
          "output_type": "execute_result",
          "execution_count": 82,
          "data": {
            "text/plain": "pandas.core.frame.DataFrame"
          },
          "metadata": {}
        }
      ]
    },
    {
      "cell_type": "code",
      "metadata": {
        "deepnote_to_be_reexecuted": false,
        "execution_millis": 36,
        "execution_start": 1619967639443,
        "source_hash": "bee3509c",
        "cell_id": "00085-bef45ec9-a5ba-49f1-92db-64f601c86ce7",
        "deepnote_cell_type": "code"
      },
      "source": "weather_tidy",
      "execution_count": 83,
      "outputs": [
        {
          "output_type": "execute_result",
          "execution_count": 83,
          "data": {
            "application/vnd.deepnote.dataframe.v2+json": {
              "row_count": 33,
              "column_count": 6,
              "columns": [
                {
                  "name": "id",
                  "dtype": "object",
                  "stats": {
                    "unique_count": 1,
                    "nan_count": 0,
                    "categories": [
                      {
                        "name": "MX17004",
                        "count": 33
                      }
                    ]
                  }
                },
                {
                  "name": "year",
                  "dtype": "int64",
                  "stats": {
                    "unique_count": 1,
                    "nan_count": 0,
                    "min": "2010",
                    "max": "2010",
                    "histogram": [
                      {
                        "bin_start": 2009.5,
                        "bin_end": 2009.6,
                        "count": 0
                      },
                      {
                        "bin_start": 2009.6,
                        "bin_end": 2009.7,
                        "count": 0
                      },
                      {
                        "bin_start": 2009.7,
                        "bin_end": 2009.8,
                        "count": 0
                      },
                      {
                        "bin_start": 2009.8,
                        "bin_end": 2009.9,
                        "count": 0
                      },
                      {
                        "bin_start": 2009.9,
                        "bin_end": 2010,
                        "count": 0
                      },
                      {
                        "bin_start": 2010,
                        "bin_end": 2010.1,
                        "count": 33
                      },
                      {
                        "bin_start": 2010.1,
                        "bin_end": 2010.2,
                        "count": 0
                      },
                      {
                        "bin_start": 2010.2,
                        "bin_end": 2010.3,
                        "count": 0
                      },
                      {
                        "bin_start": 2010.3,
                        "bin_end": 2010.4,
                        "count": 0
                      },
                      {
                        "bin_start": 2010.4,
                        "bin_end": 2010.5,
                        "count": 0
                      }
                    ]
                  }
                },
                {
                  "name": "month",
                  "dtype": "int64",
                  "stats": {
                    "unique_count": 11,
                    "nan_count": 0,
                    "min": "1",
                    "max": "12",
                    "histogram": [
                      {
                        "bin_start": 1,
                        "bin_end": 2.1,
                        "count": 5
                      },
                      {
                        "bin_start": 2.1,
                        "bin_end": 3.2,
                        "count": 3
                      },
                      {
                        "bin_start": 3.2,
                        "bin_end": 4.300000000000001,
                        "count": 1
                      },
                      {
                        "bin_start": 4.300000000000001,
                        "bin_end": 5.4,
                        "count": 1
                      },
                      {
                        "bin_start": 5.4,
                        "bin_end": 6.5,
                        "count": 2
                      },
                      {
                        "bin_start": 6.5,
                        "bin_end": 7.6000000000000005,
                        "count": 2
                      },
                      {
                        "bin_start": 7.6000000000000005,
                        "bin_end": 8.700000000000001,
                        "count": 7
                      },
                      {
                        "bin_start": 8.700000000000001,
                        "bin_end": 9.8,
                        "count": 0
                      },
                      {
                        "bin_start": 9.8,
                        "bin_end": 10.9,
                        "count": 5
                      },
                      {
                        "bin_start": 10.9,
                        "bin_end": 12,
                        "count": 7
                      }
                    ]
                  }
                },
                {
                  "name": "day",
                  "dtype": "object",
                  "stats": {
                    "unique_count": 23,
                    "nan_count": 0,
                    "categories": [
                      {
                        "name": "d5",
                        "count": 4
                      },
                      {
                        "name": "d27",
                        "count": 3
                      },
                      {
                        "name": "21 others",
                        "count": 26
                      }
                    ]
                  }
                },
                {
                  "name": "tmax",
                  "dtype": "float64",
                  "stats": {
                    "unique_count": 27,
                    "nan_count": 0,
                    "min": "24.1",
                    "max": "36.3",
                    "histogram": [
                      {
                        "bin_start": 24.1,
                        "bin_end": 25.32,
                        "count": 1
                      },
                      {
                        "bin_start": 25.32,
                        "bin_end": 26.54,
                        "count": 3
                      },
                      {
                        "bin_start": 26.54,
                        "bin_end": 27.759999999999998,
                        "count": 4
                      },
                      {
                        "bin_start": 27.759999999999998,
                        "bin_end": 28.98,
                        "count": 8
                      },
                      {
                        "bin_start": 28.98,
                        "bin_end": 30.2,
                        "count": 10
                      },
                      {
                        "bin_start": 30.2,
                        "bin_end": 31.419999999999998,
                        "count": 3
                      },
                      {
                        "bin_start": 31.419999999999998,
                        "bin_end": 32.64,
                        "count": 1
                      },
                      {
                        "bin_start": 32.64,
                        "bin_end": 33.86,
                        "count": 1
                      },
                      {
                        "bin_start": 33.86,
                        "bin_end": 35.08,
                        "count": 1
                      },
                      {
                        "bin_start": 35.08,
                        "bin_end": 36.3,
                        "count": 1
                      }
                    ]
                  }
                },
                {
                  "name": "tmin",
                  "dtype": "float64",
                  "stats": {
                    "unique_count": 27,
                    "nan_count": 0,
                    "min": "7.9",
                    "max": "18.2",
                    "histogram": [
                      {
                        "bin_start": 7.9,
                        "bin_end": 8.93,
                        "count": 1
                      },
                      {
                        "bin_start": 8.93,
                        "bin_end": 9.96,
                        "count": 0
                      },
                      {
                        "bin_start": 9.96,
                        "bin_end": 10.99,
                        "count": 3
                      },
                      {
                        "bin_start": 10.99,
                        "bin_end": 12.02,
                        "count": 1
                      },
                      {
                        "bin_start": 12.02,
                        "bin_end": 13.049999999999999,
                        "count": 3
                      },
                      {
                        "bin_start": 13.049999999999999,
                        "bin_end": 14.079999999999998,
                        "count": 3
                      },
                      {
                        "bin_start": 14.079999999999998,
                        "bin_end": 15.11,
                        "count": 7
                      },
                      {
                        "bin_start": 15.11,
                        "bin_end": 16.14,
                        "count": 4
                      },
                      {
                        "bin_start": 16.14,
                        "bin_end": 17.169999999999998,
                        "count": 5
                      },
                      {
                        "bin_start": 17.169999999999998,
                        "bin_end": 18.2,
                        "count": 6
                      }
                    ]
                  }
                },
                {
                  "name": "_deepnote_index_column",
                  "dtype": "int64"
                }
              ],
              "rows_top": [
                {
                  "id": "MX17004",
                  "year": 2010,
                  "month": 1,
                  "day": "d30",
                  "tmax": 27.8,
                  "tmin": 14.5,
                  "_deepnote_index_column": 0
                },
                {
                  "id": "MX17004",
                  "year": 2010,
                  "month": 2,
                  "day": "d11",
                  "tmax": 29.7,
                  "tmin": 13.4,
                  "_deepnote_index_column": 1
                },
                {
                  "id": "MX17004",
                  "year": 2010,
                  "month": 2,
                  "day": "d2",
                  "tmax": 27.3,
                  "tmin": 14.4,
                  "_deepnote_index_column": 2
                },
                {
                  "id": "MX17004",
                  "year": 2010,
                  "month": 2,
                  "day": "d23",
                  "tmax": 29.9,
                  "tmin": 10.7,
                  "_deepnote_index_column": 3
                },
                {
                  "id": "MX17004",
                  "year": 2010,
                  "month": 2,
                  "day": "d3",
                  "tmax": 24.1,
                  "tmin": 14.4,
                  "_deepnote_index_column": 4
                },
                {
                  "id": "MX17004",
                  "year": 2010,
                  "month": 3,
                  "day": "d10",
                  "tmax": 34.5,
                  "tmin": 16.8,
                  "_deepnote_index_column": 5
                },
                {
                  "id": "MX17004",
                  "year": 2010,
                  "month": 3,
                  "day": "d16",
                  "tmax": 31.1,
                  "tmin": 17.6,
                  "_deepnote_index_column": 6
                },
                {
                  "id": "MX17004",
                  "year": 2010,
                  "month": 3,
                  "day": "d5",
                  "tmax": 32.1,
                  "tmin": 14.2,
                  "_deepnote_index_column": 7
                },
                {
                  "id": "MX17004",
                  "year": 2010,
                  "month": 4,
                  "day": "d27",
                  "tmax": 36.3,
                  "tmin": 16.7,
                  "_deepnote_index_column": 8
                },
                {
                  "id": "MX17004",
                  "year": 2010,
                  "month": 5,
                  "day": "d27",
                  "tmax": 33.2,
                  "tmin": 18.2,
                  "_deepnote_index_column": 9
                },
                {
                  "id": "MX17004",
                  "year": 2010,
                  "month": 6,
                  "day": "d17",
                  "tmax": 28,
                  "tmin": 17.5,
                  "_deepnote_index_column": 10
                },
                {
                  "id": "MX17004",
                  "year": 2010,
                  "month": 6,
                  "day": "d29",
                  "tmax": 30.1,
                  "tmin": 18,
                  "_deepnote_index_column": 11
                },
                {
                  "id": "MX17004",
                  "year": 2010,
                  "month": 7,
                  "day": "d3",
                  "tmax": 28.6,
                  "tmin": 17.5,
                  "_deepnote_index_column": 12
                },
                {
                  "id": "MX17004",
                  "year": 2010,
                  "month": 7,
                  "day": "d14",
                  "tmax": 29.9,
                  "tmin": 16.5,
                  "_deepnote_index_column": 13
                },
                {
                  "id": "MX17004",
                  "year": 2010,
                  "month": 8,
                  "day": "d23",
                  "tmax": 26.4,
                  "tmin": 15,
                  "_deepnote_index_column": 14
                },
                {
                  "id": "MX17004",
                  "year": 2010,
                  "month": 8,
                  "day": "d5",
                  "tmax": 29.6,
                  "tmin": 15.8,
                  "_deepnote_index_column": 15
                },
                {
                  "id": "MX17004",
                  "year": 2010,
                  "month": 8,
                  "day": "d29",
                  "tmax": 28,
                  "tmin": 15.3,
                  "_deepnote_index_column": 16
                },
                {
                  "id": "MX17004",
                  "year": 2010,
                  "month": 8,
                  "day": "d13",
                  "tmax": 29.8,
                  "tmin": 16.5,
                  "_deepnote_index_column": 17
                },
                {
                  "id": "MX17004",
                  "year": 2010,
                  "month": 8,
                  "day": "d25",
                  "tmax": 29.7,
                  "tmin": 15.6,
                  "_deepnote_index_column": 18
                },
                {
                  "id": "MX17004",
                  "year": 2010,
                  "month": 8,
                  "day": "d31",
                  "tmax": 25.4,
                  "tmin": 15.4,
                  "_deepnote_index_column": 19
                },
                {
                  "id": "MX17004",
                  "year": 2010,
                  "month": 8,
                  "day": "d8",
                  "tmax": 29,
                  "tmin": 17.3,
                  "_deepnote_index_column": 20
                },
                {
                  "id": "MX17004",
                  "year": 2010,
                  "month": 10,
                  "day": "d5",
                  "tmax": 27,
                  "tmin": 14,
                  "_deepnote_index_column": 21
                },
                {
                  "id": "MX17004",
                  "year": 2010,
                  "month": 10,
                  "day": "d14",
                  "tmax": 29.5,
                  "tmin": 13,
                  "_deepnote_index_column": 22
                },
                {
                  "id": "MX17004",
                  "year": 2010,
                  "month": 10,
                  "day": "d15",
                  "tmax": 28.7,
                  "tmin": 10.5,
                  "_deepnote_index_column": 23
                },
                {
                  "id": "MX17004",
                  "year": 2010,
                  "month": 10,
                  "day": "d28",
                  "tmax": 31.2,
                  "tmin": 15,
                  "_deepnote_index_column": 24
                },
                {
                  "id": "MX17004",
                  "year": 2010,
                  "month": 10,
                  "day": "d7",
                  "tmax": 28.1,
                  "tmin": 12.9,
                  "_deepnote_index_column": 25
                },
                {
                  "id": "MX17004",
                  "year": 2010,
                  "month": 11,
                  "day": "d2",
                  "tmax": 31.3,
                  "tmin": 16.3,
                  "_deepnote_index_column": 26
                },
                {
                  "id": "MX17004",
                  "year": 2010,
                  "month": 11,
                  "day": "d5",
                  "tmax": 26.3,
                  "tmin": 7.9,
                  "_deepnote_index_column": 27
                },
                {
                  "id": "MX17004",
                  "year": 2010,
                  "month": 11,
                  "day": "d27",
                  "tmax": 27.7,
                  "tmin": 14.2,
                  "_deepnote_index_column": 28
                },
                {
                  "id": "MX17004",
                  "year": 2010,
                  "month": 11,
                  "day": "d26",
                  "tmax": 28.1,
                  "tmin": 12.1,
                  "_deepnote_index_column": 29
                },
                {
                  "id": "MX17004",
                  "year": 2010,
                  "month": 11,
                  "day": "d4",
                  "tmax": 27.2,
                  "tmin": 12,
                  "_deepnote_index_column": 30
                },
                {
                  "id": "MX17004",
                  "year": 2010,
                  "month": 12,
                  "day": "d1",
                  "tmax": 29.9,
                  "tmin": 13.8,
                  "_deepnote_index_column": 31
                },
                {
                  "id": "MX17004",
                  "year": 2010,
                  "month": 12,
                  "day": "d6",
                  "tmax": 27.8,
                  "tmin": 10.5,
                  "_deepnote_index_column": 32
                }
              ],
              "rows_bottom": null
            },
            "text/plain": "element       id  year  month  day  tmax  tmin\n0        MX17004  2010      1  d30  27.8  14.5\n1        MX17004  2010      2  d11  29.7  13.4\n2        MX17004  2010      2   d2  27.3  14.4\n3        MX17004  2010      2  d23  29.9  10.7\n4        MX17004  2010      2   d3  24.1  14.4\n5        MX17004  2010      3  d10  34.5  16.8\n6        MX17004  2010      3  d16  31.1  17.6\n7        MX17004  2010      3   d5  32.1  14.2\n8        MX17004  2010      4  d27  36.3  16.7\n9        MX17004  2010      5  d27  33.2  18.2\n10       MX17004  2010      6  d17  28.0  17.5\n11       MX17004  2010      6  d29  30.1  18.0\n12       MX17004  2010      7   d3  28.6  17.5\n13       MX17004  2010      7  d14  29.9  16.5\n14       MX17004  2010      8  d23  26.4  15.0\n15       MX17004  2010      8   d5  29.6  15.8\n16       MX17004  2010      8  d29  28.0  15.3\n17       MX17004  2010      8  d13  29.8  16.5\n18       MX17004  2010      8  d25  29.7  15.6\n19       MX17004  2010      8  d31  25.4  15.4\n20       MX17004  2010      8   d8  29.0  17.3\n21       MX17004  2010     10   d5  27.0  14.0\n22       MX17004  2010     10  d14  29.5  13.0\n23       MX17004  2010     10  d15  28.7  10.5\n24       MX17004  2010     10  d28  31.2  15.0\n25       MX17004  2010     10   d7  28.1  12.9\n26       MX17004  2010     11   d2  31.3  16.3\n27       MX17004  2010     11   d5  26.3   7.9\n28       MX17004  2010     11  d27  27.7  14.2\n29       MX17004  2010     11  d26  28.1  12.1\n30       MX17004  2010     11   d4  27.2  12.0\n31       MX17004  2010     12   d1  29.9  13.8\n32       MX17004  2010     12   d6  27.8  10.5",
            "text/html": "<div>\n<style scoped>\n    .dataframe tbody tr th:only-of-type {\n        vertical-align: middle;\n    }\n\n    .dataframe tbody tr th {\n        vertical-align: top;\n    }\n\n    .dataframe thead th {\n        text-align: right;\n    }\n</style>\n<table border=\"1\" class=\"dataframe\">\n  <thead>\n    <tr style=\"text-align: right;\">\n      <th>element</th>\n      <th>id</th>\n      <th>year</th>\n      <th>month</th>\n      <th>day</th>\n      <th>tmax</th>\n      <th>tmin</th>\n    </tr>\n  </thead>\n  <tbody>\n    <tr>\n      <th>0</th>\n      <td>MX17004</td>\n      <td>2010</td>\n      <td>1</td>\n      <td>d30</td>\n      <td>27.8</td>\n      <td>14.5</td>\n    </tr>\n    <tr>\n      <th>1</th>\n      <td>MX17004</td>\n      <td>2010</td>\n      <td>2</td>\n      <td>d11</td>\n      <td>29.7</td>\n      <td>13.4</td>\n    </tr>\n    <tr>\n      <th>2</th>\n      <td>MX17004</td>\n      <td>2010</td>\n      <td>2</td>\n      <td>d2</td>\n      <td>27.3</td>\n      <td>14.4</td>\n    </tr>\n    <tr>\n      <th>3</th>\n      <td>MX17004</td>\n      <td>2010</td>\n      <td>2</td>\n      <td>d23</td>\n      <td>29.9</td>\n      <td>10.7</td>\n    </tr>\n    <tr>\n      <th>4</th>\n      <td>MX17004</td>\n      <td>2010</td>\n      <td>2</td>\n      <td>d3</td>\n      <td>24.1</td>\n      <td>14.4</td>\n    </tr>\n    <tr>\n      <th>5</th>\n      <td>MX17004</td>\n      <td>2010</td>\n      <td>3</td>\n      <td>d10</td>\n      <td>34.5</td>\n      <td>16.8</td>\n    </tr>\n    <tr>\n      <th>6</th>\n      <td>MX17004</td>\n      <td>2010</td>\n      <td>3</td>\n      <td>d16</td>\n      <td>31.1</td>\n      <td>17.6</td>\n    </tr>\n    <tr>\n      <th>7</th>\n      <td>MX17004</td>\n      <td>2010</td>\n      <td>3</td>\n      <td>d5</td>\n      <td>32.1</td>\n      <td>14.2</td>\n    </tr>\n    <tr>\n      <th>8</th>\n      <td>MX17004</td>\n      <td>2010</td>\n      <td>4</td>\n      <td>d27</td>\n      <td>36.3</td>\n      <td>16.7</td>\n    </tr>\n    <tr>\n      <th>9</th>\n      <td>MX17004</td>\n      <td>2010</td>\n      <td>5</td>\n      <td>d27</td>\n      <td>33.2</td>\n      <td>18.2</td>\n    </tr>\n    <tr>\n      <th>10</th>\n      <td>MX17004</td>\n      <td>2010</td>\n      <td>6</td>\n      <td>d17</td>\n      <td>28.0</td>\n      <td>17.5</td>\n    </tr>\n    <tr>\n      <th>11</th>\n      <td>MX17004</td>\n      <td>2010</td>\n      <td>6</td>\n      <td>d29</td>\n      <td>30.1</td>\n      <td>18.0</td>\n    </tr>\n    <tr>\n      <th>12</th>\n      <td>MX17004</td>\n      <td>2010</td>\n      <td>7</td>\n      <td>d3</td>\n      <td>28.6</td>\n      <td>17.5</td>\n    </tr>\n    <tr>\n      <th>13</th>\n      <td>MX17004</td>\n      <td>2010</td>\n      <td>7</td>\n      <td>d14</td>\n      <td>29.9</td>\n      <td>16.5</td>\n    </tr>\n    <tr>\n      <th>14</th>\n      <td>MX17004</td>\n      <td>2010</td>\n      <td>8</td>\n      <td>d23</td>\n      <td>26.4</td>\n      <td>15.0</td>\n    </tr>\n    <tr>\n      <th>15</th>\n      <td>MX17004</td>\n      <td>2010</td>\n      <td>8</td>\n      <td>d5</td>\n      <td>29.6</td>\n      <td>15.8</td>\n    </tr>\n    <tr>\n      <th>16</th>\n      <td>MX17004</td>\n      <td>2010</td>\n      <td>8</td>\n      <td>d29</td>\n      <td>28.0</td>\n      <td>15.3</td>\n    </tr>\n    <tr>\n      <th>17</th>\n      <td>MX17004</td>\n      <td>2010</td>\n      <td>8</td>\n      <td>d13</td>\n      <td>29.8</td>\n      <td>16.5</td>\n    </tr>\n    <tr>\n      <th>18</th>\n      <td>MX17004</td>\n      <td>2010</td>\n      <td>8</td>\n      <td>d25</td>\n      <td>29.7</td>\n      <td>15.6</td>\n    </tr>\n    <tr>\n      <th>19</th>\n      <td>MX17004</td>\n      <td>2010</td>\n      <td>8</td>\n      <td>d31</td>\n      <td>25.4</td>\n      <td>15.4</td>\n    </tr>\n    <tr>\n      <th>20</th>\n      <td>MX17004</td>\n      <td>2010</td>\n      <td>8</td>\n      <td>d8</td>\n      <td>29.0</td>\n      <td>17.3</td>\n    </tr>\n    <tr>\n      <th>21</th>\n      <td>MX17004</td>\n      <td>2010</td>\n      <td>10</td>\n      <td>d5</td>\n      <td>27.0</td>\n      <td>14.0</td>\n    </tr>\n    <tr>\n      <th>22</th>\n      <td>MX17004</td>\n      <td>2010</td>\n      <td>10</td>\n      <td>d14</td>\n      <td>29.5</td>\n      <td>13.0</td>\n    </tr>\n    <tr>\n      <th>23</th>\n      <td>MX17004</td>\n      <td>2010</td>\n      <td>10</td>\n      <td>d15</td>\n      <td>28.7</td>\n      <td>10.5</td>\n    </tr>\n    <tr>\n      <th>24</th>\n      <td>MX17004</td>\n      <td>2010</td>\n      <td>10</td>\n      <td>d28</td>\n      <td>31.2</td>\n      <td>15.0</td>\n    </tr>\n    <tr>\n      <th>25</th>\n      <td>MX17004</td>\n      <td>2010</td>\n      <td>10</td>\n      <td>d7</td>\n      <td>28.1</td>\n      <td>12.9</td>\n    </tr>\n    <tr>\n      <th>26</th>\n      <td>MX17004</td>\n      <td>2010</td>\n      <td>11</td>\n      <td>d2</td>\n      <td>31.3</td>\n      <td>16.3</td>\n    </tr>\n    <tr>\n      <th>27</th>\n      <td>MX17004</td>\n      <td>2010</td>\n      <td>11</td>\n      <td>d5</td>\n      <td>26.3</td>\n      <td>7.9</td>\n    </tr>\n    <tr>\n      <th>28</th>\n      <td>MX17004</td>\n      <td>2010</td>\n      <td>11</td>\n      <td>d27</td>\n      <td>27.7</td>\n      <td>14.2</td>\n    </tr>\n    <tr>\n      <th>29</th>\n      <td>MX17004</td>\n      <td>2010</td>\n      <td>11</td>\n      <td>d26</td>\n      <td>28.1</td>\n      <td>12.1</td>\n    </tr>\n    <tr>\n      <th>30</th>\n      <td>MX17004</td>\n      <td>2010</td>\n      <td>11</td>\n      <td>d4</td>\n      <td>27.2</td>\n      <td>12.0</td>\n    </tr>\n    <tr>\n      <th>31</th>\n      <td>MX17004</td>\n      <td>2010</td>\n      <td>12</td>\n      <td>d1</td>\n      <td>29.9</td>\n      <td>13.8</td>\n    </tr>\n    <tr>\n      <th>32</th>\n      <td>MX17004</td>\n      <td>2010</td>\n      <td>12</td>\n      <td>d6</td>\n      <td>27.8</td>\n      <td>10.5</td>\n    </tr>\n  </tbody>\n</table>\n</div>"
          },
          "metadata": {}
        }
      ]
    },
    {
      "cell_type": "markdown",
      "source": "**New things learned in the Video :**\n\n* clicking the shift tab in a function will pull up the function signature for us.\n* With df.values we can get numpy array version of our dataset\n* storing a coulum of a df in a df results its type as a pandas.core.core.series\n* ix and loc are ambiguous that is the reason it does'nt work\n* Python sees 1_000 as 1000 ( basically we can use it instead of comma as seperator)\n* pd.melt - will convert multiple columns into a single column and assign variable column for it\n* Working on split inside a perticular column\n* Pivot can be used as opposite of melt to make multiple columns of a single column\n* reset_index() sets the index\n* drop_duplicates() drops all duplicates\n* Merge can merge 2 df's\n",
      "metadata": {
        "tags": [],
        "cell_id": "00086-1c81e7a9-4ac0-4694-9a9f-5980f2e40798",
        "deepnote_cell_type": "markdown"
      }
    },
    {
      "cell_type": "markdown",
      "source": "<a style='text-decoration:none;line-height:16px;display:flex;color:#5B5B62;padding:10px;justify-content:end;' href='https://deepnote.com?utm_source=created-in-deepnote-cell&projectId=f415496f-a148-437a-9485-6110d5ba3018' target=\"_blank\">\n<img alt='Created in deepnote.com' style='display:inline;max-height:16px;margin:0px;margin-right:7.5px;' src='data:image/svg+xml;base64,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' > </img>\nCreated in <span style='font-weight:600;margin-left:4px;'>Deepnote</span></a>",
      "metadata": {
        "tags": [],
        "created_in_deepnote_cell": true,
        "deepnote_cell_type": "markdown"
      }
    }
  ],
  "nbformat": 4,
  "nbformat_minor": 2,
  "metadata": {
    "deepnote": {},
    "deepnote_execution_queue": [],
    "deepnote_notebook_id": "f589c529-7bda-4e9a-9ad1-c7b5ce3d00fc",
    "kernelspec": {
      "display_name": "Python 3",
      "language": "python",
      "name": "python3"
    },
    "language_info": {
      "codemirror_mode": {
        "name": "ipython",
        "version": 3
      },
      "file_extension": ".py",
      "mimetype": "text/x-python",
      "name": "python",
      "nbconvert_exporter": "python",
      "pygments_lexer": "ipython3",
      "version": "3.6.6"
    }
  }
}